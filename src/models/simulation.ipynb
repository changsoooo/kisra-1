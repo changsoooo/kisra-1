{
 "cells": [
  {
   "cell_type": "code",
   "execution_count": 10,
   "id": "institutional-elevation",
   "metadata": {
    "ExecuteTime": {
     "end_time": "2021-03-23T05:25:30.344092Z",
     "start_time": "2021-03-23T05:25:30.340102Z"
    }
   },
   "outputs": [],
   "source": [
    "import pandas as pd\n",
    "from load_data import Balance, Instruments, AdvisedPortfolios, PriceDB, Singleton"
   ]
  },
  {
   "cell_type": "code",
   "execution_count": null,
   "id": "right-category",
   "metadata": {},
   "outputs": [],
   "source": [
    "instruments_m = pd.read_pickle('../../data/processed/instruments_m.pkl')\n",
    "price_db = pd.read_pickle('../../data/external/price_db_d.pkl')\n",
    "advised_pf = pd.read_pickle('../../data/processed/advised_portfolios.pkl')    "
   ]
  },
  {
   "cell_type": "code",
   "execution_count": 63,
   "id": "correct-journalist",
   "metadata": {
    "ExecuteTime": {
     "end_time": "2021-03-23T06:01:29.157551Z",
     "start_time": "2021-03-23T06:01:29.149572Z"
    }
   },
   "outputs": [],
   "source": [
    "userid = 'A00'\n",
    "username = '투자자0'\n",
    "current_date = '2021-02-01'\n",
    "risk_profile = 2\n",
    "\n",
    "# c_date: 추천 포트폴리오DB에서 사용자가 입력한 날짜와 가장 가까운 날짜.\n",
    "c_date = advised_pf.loc[advised_pf.date <= current_date, ['date']].max().date\n",
    "new_units = {'A122260': 2, 'A114260': 4, 'A130730': 2, 'A329650': 13, 'A266370': 4}\n",
    "prices = {'A122260': [101185.0, 'KRW'], 'A114260': [57900.0, 'KRW'], 'A130730': [100975.0, 'KRW'], 'A329650': [10980.0, 'KRW'], 'A266370': [21325.0, 'KRW']}"
   ]
  },
  {
   "cell_type": "code",
   "execution_count": 64,
   "id": "professional-offset",
   "metadata": {
    "ExecuteTime": {
     "end_time": "2021-03-23T06:01:29.338062Z",
     "start_time": "2021-03-23T06:01:29.333076Z"
    }
   },
   "outputs": [],
   "source": [
    "df = advised_pf.loc[(advised_pf.date==c_date) & (advised_pf.risk_profile==risk_profile), :]"
   ]
  },
  {
   "cell_type": "code",
   "execution_count": 65,
   "id": "demanding-township",
   "metadata": {
    "ExecuteTime": {
     "end_time": "2021-03-23T06:01:29.545501Z",
     "start_time": "2021-03-23T06:01:29.533533Z"
    }
   },
   "outputs": [
    {
     "data": {
      "text/html": [
       "<div>\n",
       "<style scoped>\n",
       "    .dataframe tbody tr th:only-of-type {\n",
       "        vertical-align: middle;\n",
       "    }\n",
       "\n",
       "    .dataframe tbody tr th {\n",
       "        vertical-align: top;\n",
       "    }\n",
       "\n",
       "    .dataframe thead th {\n",
       "        text-align: right;\n",
       "    }\n",
       "</style>\n",
       "<table border=\"1\" class=\"dataframe\">\n",
       "  <thead>\n",
       "    <tr style=\"text-align: right;\">\n",
       "      <th></th>\n",
       "      <th>date</th>\n",
       "      <th>risk_profile</th>\n",
       "      <th>itemcode</th>\n",
       "      <th>weights</th>\n",
       "      <th>tracking_code</th>\n",
       "      <th>itemname</th>\n",
       "      <th>price</th>\n",
       "      <th>volume</th>\n",
       "      <th>trading_amt_mln</th>\n",
       "      <th>asset_class</th>\n",
       "    </tr>\n",
       "  </thead>\n",
       "  <tbody>\n",
       "    <tr>\n",
       "      <th>12174</th>\n",
       "      <td>2021-02-01</td>\n",
       "      <td>2</td>\n",
       "      <td>A114260</td>\n",
       "      <td>0.240000</td>\n",
       "      <td>KTB_D3</td>\n",
       "      <td>KODEX 국고채3년</td>\n",
       "      <td>58100.0</td>\n",
       "      <td>7137.0</td>\n",
       "      <td>648.435560</td>\n",
       "      <td>Fixed Income</td>\n",
       "    </tr>\n",
       "    <tr>\n",
       "      <th>12175</th>\n",
       "      <td>2021-02-01</td>\n",
       "      <td>2</td>\n",
       "      <td>A130730</td>\n",
       "      <td>0.240000</td>\n",
       "      <td>MM</td>\n",
       "      <td>KOSEF 단기자금</td>\n",
       "      <td>100890.0</td>\n",
       "      <td>1013585.0</td>\n",
       "      <td>60055.857207</td>\n",
       "      <td>Fixed Income</td>\n",
       "    </tr>\n",
       "    <tr>\n",
       "      <th>12176</th>\n",
       "      <td>2021-02-01</td>\n",
       "      <td>2</td>\n",
       "      <td>A122260</td>\n",
       "      <td>0.203163</td>\n",
       "      <td>BOK_D1</td>\n",
       "      <td>KOSEF 통안채1년</td>\n",
       "      <td>101090.0</td>\n",
       "      <td>1442.0</td>\n",
       "      <td>60489.601355</td>\n",
       "      <td>Fixed Income</td>\n",
       "    </tr>\n",
       "    <tr>\n",
       "      <th>12177</th>\n",
       "      <td>2021-02-01</td>\n",
       "      <td>2</td>\n",
       "      <td>A148070</td>\n",
       "      <td>0.120166</td>\n",
       "      <td>KTB_D8</td>\n",
       "      <td>KOSEF 국고채10년</td>\n",
       "      <td>122065.0</td>\n",
       "      <td>6046.0</td>\n",
       "      <td>1022.453052</td>\n",
       "      <td>Fixed Income</td>\n",
       "    </tr>\n",
       "    <tr>\n",
       "      <th>12178</th>\n",
       "      <td>2021-02-01</td>\n",
       "      <td>2</td>\n",
       "      <td>A069500</td>\n",
       "      <td>0.100000</td>\n",
       "      <td>K200</td>\n",
       "      <td>KODEX 200</td>\n",
       "      <td>42150.0</td>\n",
       "      <td>10696458.0</td>\n",
       "      <td>395458.535771</td>\n",
       "      <td>Equity</td>\n",
       "    </tr>\n",
       "    <tr>\n",
       "      <th>12179</th>\n",
       "      <td>2021-02-01</td>\n",
       "      <td>2</td>\n",
       "      <td>A196230</td>\n",
       "      <td>0.076670</td>\n",
       "      <td>BOK_D.4</td>\n",
       "      <td>KBSTAR 단기통안채</td>\n",
       "      <td>104250.0</td>\n",
       "      <td>611456.0</td>\n",
       "      <td>75118.014671</td>\n",
       "      <td>Fixed Income</td>\n",
       "    </tr>\n",
       "    <tr>\n",
       "      <th>12180</th>\n",
       "      <td>2021-02-01</td>\n",
       "      <td>2</td>\n",
       "      <td>A237370</td>\n",
       "      <td>0.020000</td>\n",
       "      <td>BAL_KO3KTB7</td>\n",
       "      <td>KODEX 배당성장채권혼합</td>\n",
       "      <td>11760.0</td>\n",
       "      <td>5493.0</td>\n",
       "      <td>85.176105</td>\n",
       "      <td>Alternative</td>\n",
       "    </tr>\n",
       "  </tbody>\n",
       "</table>\n",
       "</div>"
      ],
      "text/plain": [
       "             date  risk_profile itemcode   weights tracking_code  \\\n",
       "12174  2021-02-01             2  A114260  0.240000        KTB_D3   \n",
       "12175  2021-02-01             2  A130730  0.240000            MM   \n",
       "12176  2021-02-01             2  A122260  0.203163        BOK_D1   \n",
       "12177  2021-02-01             2  A148070  0.120166        KTB_D8   \n",
       "12178  2021-02-01             2  A069500  0.100000          K200   \n",
       "12179  2021-02-01             2  A196230  0.076670       BOK_D.4   \n",
       "12180  2021-02-01             2  A237370  0.020000   BAL_KO3KTB7   \n",
       "\n",
       "             itemname     price      volume  trading_amt_mln   asset_class  \n",
       "12174     KODEX 국고채3년   58100.0      7137.0       648.435560  Fixed Income  \n",
       "12175      KOSEF 단기자금  100890.0   1013585.0     60055.857207  Fixed Income  \n",
       "12176     KOSEF 통안채1년  101090.0      1442.0     60489.601355  Fixed Income  \n",
       "12177    KOSEF 국고채10년  122065.0      6046.0      1022.453052  Fixed Income  \n",
       "12178       KODEX 200   42150.0  10696458.0    395458.535771        Equity  \n",
       "12179    KBSTAR 단기통안채  104250.0    611456.0     75118.014671  Fixed Income  \n",
       "12180  KODEX 배당성장채권혼합   11760.0      5493.0        85.176105   Alternative  "
      ]
     },
     "execution_count": 65,
     "metadata": {},
     "output_type": "execute_result"
    }
   ],
   "source": [
    "df"
   ]
  },
  {
   "cell_type": "code",
   "execution_count": 66,
   "id": "wired-european",
   "metadata": {
    "ExecuteTime": {
     "end_time": "2021-03-23T06:01:45.633757Z",
     "start_time": "2021-03-23T06:01:45.620792Z"
    }
   },
   "outputs": [
    {
     "data": {
      "text/html": [
       "<div>\n",
       "<style scoped>\n",
       "    .dataframe tbody tr th:only-of-type {\n",
       "        vertical-align: middle;\n",
       "    }\n",
       "\n",
       "    .dataframe tbody tr th {\n",
       "        vertical-align: top;\n",
       "    }\n",
       "\n",
       "    .dataframe thead th {\n",
       "        text-align: right;\n",
       "    }\n",
       "</style>\n",
       "<table border=\"1\" class=\"dataframe\">\n",
       "  <thead>\n",
       "    <tr style=\"text-align: right;\">\n",
       "      <th></th>\n",
       "      <th>date</th>\n",
       "      <th>risk_profile</th>\n",
       "      <th>itemcode</th>\n",
       "      <th>weights</th>\n",
       "      <th>tracking_code</th>\n",
       "      <th>itemname</th>\n",
       "      <th>price</th>\n",
       "      <th>volume</th>\n",
       "      <th>trading_amt_mln</th>\n",
       "      <th>asset_class</th>\n",
       "    </tr>\n",
       "  </thead>\n",
       "  <tbody>\n",
       "    <tr>\n",
       "      <th>12181</th>\n",
       "      <td>2021-02-01</td>\n",
       "      <td>3</td>\n",
       "      <td>A114260</td>\n",
       "      <td>0.240000</td>\n",
       "      <td>KTB_D3</td>\n",
       "      <td>KODEX 국고채3년</td>\n",
       "      <td>58100.0</td>\n",
       "      <td>7137.0</td>\n",
       "      <td>648.435560</td>\n",
       "      <td>Fixed Income</td>\n",
       "    </tr>\n",
       "    <tr>\n",
       "      <th>12182</th>\n",
       "      <td>2021-02-01</td>\n",
       "      <td>3</td>\n",
       "      <td>A148070</td>\n",
       "      <td>0.240000</td>\n",
       "      <td>KTB_D8</td>\n",
       "      <td>KOSEF 국고채10년</td>\n",
       "      <td>122065.0</td>\n",
       "      <td>6046.0</td>\n",
       "      <td>1022.453052</td>\n",
       "      <td>Fixed Income</td>\n",
       "    </tr>\n",
       "    <tr>\n",
       "      <th>12183</th>\n",
       "      <td>2021-02-01</td>\n",
       "      <td>3</td>\n",
       "      <td>A069500</td>\n",
       "      <td>0.240000</td>\n",
       "      <td>K200</td>\n",
       "      <td>KODEX 200</td>\n",
       "      <td>42150.0</td>\n",
       "      <td>10696458.0</td>\n",
       "      <td>395458.535771</td>\n",
       "      <td>Equity</td>\n",
       "    </tr>\n",
       "    <tr>\n",
       "      <th>12184</th>\n",
       "      <td>2021-02-01</td>\n",
       "      <td>3</td>\n",
       "      <td>A122260</td>\n",
       "      <td>0.087403</td>\n",
       "      <td>BOK_D1</td>\n",
       "      <td>KOSEF 통안채1년</td>\n",
       "      <td>101090.0</td>\n",
       "      <td>1442.0</td>\n",
       "      <td>60489.601355</td>\n",
       "      <td>Fixed Income</td>\n",
       "    </tr>\n",
       "    <tr>\n",
       "      <th>12185</th>\n",
       "      <td>2021-02-01</td>\n",
       "      <td>3</td>\n",
       "      <td>A283580</td>\n",
       "      <td>0.084000</td>\n",
       "      <td>CSI300</td>\n",
       "      <td>KODEX 중국본토CSI300</td>\n",
       "      <td>14830.0</td>\n",
       "      <td>92102.0</td>\n",
       "      <td>1101.740967</td>\n",
       "      <td>Equity</td>\n",
       "    </tr>\n",
       "    <tr>\n",
       "      <th>12186</th>\n",
       "      <td>2021-02-01</td>\n",
       "      <td>3</td>\n",
       "      <td>A251350</td>\n",
       "      <td>0.060931</td>\n",
       "      <td>MSCI_WO</td>\n",
       "      <td>KODEX 선진국MSCI World</td>\n",
       "      <td>16560.0</td>\n",
       "      <td>312065.0</td>\n",
       "      <td>1581.841244</td>\n",
       "      <td>Equity</td>\n",
       "    </tr>\n",
       "    <tr>\n",
       "      <th>12187</th>\n",
       "      <td>2021-02-01</td>\n",
       "      <td>3</td>\n",
       "      <td>A237370</td>\n",
       "      <td>0.020000</td>\n",
       "      <td>BAL_KO3KTB7</td>\n",
       "      <td>KODEX 배당성장채권혼합</td>\n",
       "      <td>11760.0</td>\n",
       "      <td>5493.0</td>\n",
       "      <td>85.176105</td>\n",
       "      <td>Alternative</td>\n",
       "    </tr>\n",
       "    <tr>\n",
       "      <th>12188</th>\n",
       "      <td>2021-02-01</td>\n",
       "      <td>3</td>\n",
       "      <td>A278540</td>\n",
       "      <td>0.015069</td>\n",
       "      <td>MSCI_KR</td>\n",
       "      <td>KODEX MSCI Korea TR</td>\n",
       "      <td>13645.0</td>\n",
       "      <td>365536.0</td>\n",
       "      <td>15383.999563</td>\n",
       "      <td>Equity</td>\n",
       "    </tr>\n",
       "    <tr>\n",
       "      <th>12189</th>\n",
       "      <td>2021-02-01</td>\n",
       "      <td>3</td>\n",
       "      <td>A273130</td>\n",
       "      <td>0.012597</td>\n",
       "      <td>ACT_BOND_D4</td>\n",
       "      <td>KODEX 종합채권(AA-이상)액티브</td>\n",
       "      <td>109700.0</td>\n",
       "      <td>18548.0</td>\n",
       "      <td>2071.203133</td>\n",
       "      <td>Fixed Income</td>\n",
       "    </tr>\n",
       "  </tbody>\n",
       "</table>\n",
       "</div>"
      ],
      "text/plain": [
       "             date  risk_profile itemcode   weights tracking_code  \\\n",
       "12181  2021-02-01             3  A114260  0.240000        KTB_D3   \n",
       "12182  2021-02-01             3  A148070  0.240000        KTB_D8   \n",
       "12183  2021-02-01             3  A069500  0.240000          K200   \n",
       "12184  2021-02-01             3  A122260  0.087403        BOK_D1   \n",
       "12185  2021-02-01             3  A283580  0.084000        CSI300   \n",
       "12186  2021-02-01             3  A251350  0.060931       MSCI_WO   \n",
       "12187  2021-02-01             3  A237370  0.020000   BAL_KO3KTB7   \n",
       "12188  2021-02-01             3  A278540  0.015069       MSCI_KR   \n",
       "12189  2021-02-01             3  A273130  0.012597   ACT_BOND_D4   \n",
       "\n",
       "                   itemname     price      volume  trading_amt_mln  \\\n",
       "12181           KODEX 국고채3년   58100.0      7137.0       648.435560   \n",
       "12182          KOSEF 국고채10년  122065.0      6046.0      1022.453052   \n",
       "12183             KODEX 200   42150.0  10696458.0    395458.535771   \n",
       "12184           KOSEF 통안채1년  101090.0      1442.0     60489.601355   \n",
       "12185      KODEX 중국본토CSI300   14830.0     92102.0      1101.740967   \n",
       "12186   KODEX 선진국MSCI World   16560.0    312065.0      1581.841244   \n",
       "12187        KODEX 배당성장채권혼합   11760.0      5493.0        85.176105   \n",
       "12188   KODEX MSCI Korea TR   13645.0    365536.0     15383.999563   \n",
       "12189  KODEX 종합채권(AA-이상)액티브  109700.0     18548.0      2071.203133   \n",
       "\n",
       "        asset_class  \n",
       "12181  Fixed Income  \n",
       "12182  Fixed Income  \n",
       "12183        Equity  \n",
       "12184  Fixed Income  \n",
       "12185        Equity  \n",
       "12186        Equity  \n",
       "12187   Alternative  \n",
       "12188        Equity  \n",
       "12189  Fixed Income  "
      ]
     },
     "execution_count": 66,
     "metadata": {},
     "output_type": "execute_result"
    }
   ],
   "source": [
    "advised_pf.loc[(advised_pf.date==c_date) & (advised_pf.risk_profile==3), :]"
   ]
  },
  {
   "cell_type": "code",
   "execution_count": null,
   "id": "fancy-reviewer",
   "metadata": {},
   "outputs": [],
   "source": []
  },
  {
   "cell_type": "code",
   "execution_count": 72,
   "id": "minute-relevance",
   "metadata": {
    "ExecuteTime": {
     "end_time": "2021-03-23T06:08:06.326578Z",
     "start_time": "2021-03-23T06:08:06.321592Z"
    }
   },
   "outputs": [
    {
     "data": {
      "text/plain": [
       "{'A122260': 2, 'A114260': 4, 'A130730': 2, 'A329650': 13, 'A266370': 4}"
      ]
     },
     "execution_count": 72,
     "metadata": {},
     "output_type": "execute_result"
    }
   ],
   "source": [
    "new_units"
   ]
  },
  {
   "cell_type": "code",
   "execution_count": 74,
   "id": "distinguished-attachment",
   "metadata": {
    "ExecuteTime": {
     "end_time": "2021-03-23T06:08:23.109272Z",
     "start_time": "2021-03-23T06:08:23.105282Z"
    }
   },
   "outputs": [],
   "source": [
    "detail = pd.DataFrame.from_dict(new_units, orient='index').rename(columns={0:'quantity'})\n",
    "detail.index.name='itemcode'"
   ]
  },
  {
   "cell_type": "code",
   "execution_count": 82,
   "id": "tamil-bottle",
   "metadata": {
    "ExecuteTime": {
     "end_time": "2021-03-23T06:09:13.007984Z",
     "start_time": "2021-03-23T06:09:13.000004Z"
    }
   },
   "outputs": [
    {
     "ename": "TypeError",
     "evalue": "'dict_values' object is not subscriptable",
     "output_type": "error",
     "traceback": [
      "\u001b[1;31m---------------------------------------------------------------------------\u001b[0m",
      "\u001b[1;31mTypeError\u001b[0m                                 Traceback (most recent call last)",
      "\u001b[1;32m<ipython-input-82-03007ed37119>\u001b[0m in \u001b[0;36m<module>\u001b[1;34m\u001b[0m\n\u001b[1;32m----> 1\u001b[1;33m \u001b[0mprices\u001b[0m\u001b[1;33m.\u001b[0m\u001b[0mvalues\u001b[0m\u001b[1;33m(\u001b[0m\u001b[1;33m)\u001b[0m\u001b[1;33m[\u001b[0m\u001b[1;33m:\u001b[0m\u001b[1;33m,\u001b[0m\u001b[1;33m]\u001b[0m\u001b[1;33m\u001b[0m\u001b[1;33m\u001b[0m\u001b[0m\n\u001b[0m",
      "\u001b[1;31mTypeError\u001b[0m: 'dict_values' object is not subscriptable"
     ]
    }
   ],
   "source": [
    "prices.values()[:,]"
   ]
  },
  {
   "cell_type": "code",
   "execution_count": null,
   "id": "raised-apparatus",
   "metadata": {},
   "outputs": [],
   "source": []
  }
 ],
 "metadata": {
  "kernelspec": {
   "display_name": "Python 3",
   "language": "python",
   "name": "python3"
  },
  "language_info": {
   "codemirror_mode": {
    "name": "ipython",
    "version": 3
   },
   "file_extension": ".py",
   "mimetype": "text/x-python",
   "name": "python",
   "nbconvert_exporter": "python",
   "pygments_lexer": "ipython3",
   "version": "3.8.8"
  }
 },
 "nbformat": 4,
 "nbformat_minor": 5
}
