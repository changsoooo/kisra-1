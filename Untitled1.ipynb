{
 "cells": [
  {
   "cell_type": "code",
   "execution_count": 2,
   "id": "thousand-wonder",
   "metadata": {
    "ExecuteTime": {
     "end_time": "2021-03-22T23:12:39.926290Z",
     "start_time": "2021-03-22T23:12:38.237805Z"
    }
   },
   "outputs": [],
   "source": [
    "import pandas as pd"
   ]
  },
  {
   "cell_type": "code",
   "execution_count": 3,
   "id": "turkish-vulnerability",
   "metadata": {
    "ExecuteTime": {
     "end_time": "2021-03-22T23:12:50.171192Z",
     "start_time": "2021-03-22T23:12:50.166204Z"
    }
   },
   "outputs": [],
   "source": [
    "userid = 'A50'\n",
    "current_date='2020-02-01'\n",
    "new_units = {'A122260': 2, 'A114260': 4, 'A130730': 2, 'A329650': 13, 'A266370': 4}\n",
    "prices = {'A122260': [101185.0, 'KRW'], 'A114260': [57900.0, 'KRW'], 'A130730': [100975.0, 'KRW'], 'A329650': [10980.0, 'KRW'], 'A266370': [21325.0, 'KRW']}\n",
    "cash = 136000"
   ]
  },
  {
   "cell_type": "code",
   "execution_count": null,
   "id": "olympic-terrain",
   "metadata": {},
   "outputs": [],
   "source": []
  }
 ],
 "metadata": {
  "kernelspec": {
   "display_name": "Python 3",
   "language": "python",
   "name": "python3"
  },
  "language_info": {
   "codemirror_mode": {
    "name": "ipython",
    "version": 3
   },
   "file_extension": ".py",
   "mimetype": "text/x-python",
   "name": "python",
   "nbconvert_exporter": "python",
   "pygments_lexer": "ipython3",
   "version": "3.8.8"
  }
 },
 "nbformat": 4,
 "nbformat_minor": 5
}
