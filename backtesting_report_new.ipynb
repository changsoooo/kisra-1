{
 "cells": [
  {
   "cell_type": "code",
   "execution_count": 1,
   "id": "governing-sheriff",
   "metadata": {
    "ExecuteTime": {
     "end_time": "2021-04-27T04:09:41.327557Z",
     "start_time": "2021-04-27T04:09:39.635644Z"
    }
   },
   "outputs": [],
   "source": [
    "import riskfolio.Reports as rp\n",
    "import pickle\n",
    "import matplotlib.pyplot as plt\n",
    "import pandas as pd"
   ]
  },
  {
   "cell_type": "markdown",
   "id": "sophisticated-caribbean",
   "metadata": {},
   "source": [
    "- Biz days"
   ]
  },
  {
   "cell_type": "code",
   "execution_count": 2,
   "id": "paperback-album",
   "metadata": {
    "ExecuteTime": {
     "end_time": "2021-04-27T04:09:41.332148Z",
     "start_time": "2021-04-27T04:09:41.330070Z"
    }
   },
   "outputs": [],
   "source": [
    "# biz days\n",
    "# dates = pd.bdate_range('2021-01-01', '2021-03-19', freq='B').strftime('%Y-%m-%d').to_list()"
   ]
  },
  {
   "cell_type": "markdown",
   "id": "spread-equipment",
   "metadata": {},
   "source": [
    "- Weekends"
   ]
  },
  {
   "cell_type": "code",
   "execution_count": 3,
   "id": "figured-scholar",
   "metadata": {
    "ExecuteTime": {
     "end_time": "2021-04-27T04:09:41.337159Z",
     "start_time": "2021-04-27T04:09:41.334928Z"
    }
   },
   "outputs": [],
   "source": [
    "# # create a dataframe of dates\n",
    "# df = pd.DataFrame({'Dates': pd.date_range(\"2020-01-01\", \"2021-03-19\")})\n",
    "\n",
    "# # create a series of business days\n",
    "# busines_dates = pd.bdate_range(\"2020-01-01\", \"2021-03-19\")\n",
    "\n",
    "# # find where the two do not intersect\n",
    "# dates = df.loc[~df['Dates'].isin(busines_dates)].Dates.dt.strftime('%Y-%m-%d').to_list()"
   ]
  },
  {
   "cell_type": "code",
   "execution_count": 4,
   "id": "available-means",
   "metadata": {
    "ExecuteTime": {
     "end_time": "2021-04-27T04:09:41.342182Z",
     "start_time": "2021-04-27T04:09:41.339685Z"
    }
   },
   "outputs": [],
   "source": [
    "# dates = ['2019-12-31', '2020-01-31', '2020-02-28', '2020-03-31', '2020-04-30',\n",
    "#         '2020-05-29', '2020-06-30',  '2020-07-31',  '2020-08-31', '2020-09-30',\n",
    "#         '2020-10-30',  '2020-11-30', '2020-12-31', '2021-01-29','2021-02-26']\n",
    "# # dates = ['2019-12-31']"
   ]
  },
  {
   "cell_type": "code",
   "execution_count": 5,
   "id": "czech-remainder",
   "metadata": {
    "ExecuteTime": {
     "end_time": "2021-04-27T04:09:41.440256Z",
     "start_time": "2021-04-27T04:09:41.435050Z"
    }
   },
   "outputs": [],
   "source": [
    "df_dt = pd.DataFrame({'Dates': pd.date_range(\"2021-03-20\", \"2021-04-23\")})\n",
    "dates = df_dt.Dates.dt.strftime('%Y-%m-%d').to_list()"
   ]
  },
  {
   "cell_type": "code",
   "execution_count": null,
   "id": "tough-calendar",
   "metadata": {
    "ExecuteTime": {
     "end_time": "2021-04-27T04:17:17.770007Z",
     "start_time": "2021-04-27T04:09:44.443126Z"
    },
    "scrolled": true
   },
   "outputs": [],
   "source": [
    "for dt in dates:\n",
    "    for risk_profile in [2,3,4]:\n",
    "        with open('./reports/returns-{}_{}.pkl'.format(risk_profile, dt), 'rb') as f:\n",
    "            returns = pickle.load(f)\n",
    "        with open('./reports/w-{}_{}.pkl'.format(risk_profile, dt), 'rb') as f:\n",
    "            w = pickle.load(f)\n",
    "\n",
    "        ax = rp.jupyter_report(returns, w, rm='CDaR', rf=0, alpha=0.05, height=6, width=14,\n",
    "                           others=0.05, nrow=25)\n",
    "\n",
    "        ax[0].figure.savefig('./reports/figures/report-{}_{}.png'.format(risk_profile, dt));"
   ]
  },
  {
   "cell_type": "code",
   "execution_count": null,
   "id": "complex-runner",
   "metadata": {},
   "outputs": [],
   "source": []
  },
  {
   "cell_type": "code",
   "execution_count": null,
   "id": "moving-rouge",
   "metadata": {},
   "outputs": [],
   "source": []
  },
  {
   "cell_type": "code",
   "execution_count": null,
   "id": "requested-visiting",
   "metadata": {},
   "outputs": [],
   "source": []
  },
  {
   "cell_type": "code",
   "execution_count": null,
   "id": "advanced-density",
   "metadata": {},
   "outputs": [],
   "source": []
  },
  {
   "cell_type": "code",
   "execution_count": null,
   "id": "beginning-municipality",
   "metadata": {},
   "outputs": [],
   "source": []
  },
  {
   "cell_type": "code",
   "execution_count": null,
   "id": "referenced-coating",
   "metadata": {},
   "outputs": [],
   "source": []
  }
 ],
 "metadata": {
  "kernelspec": {
   "display_name": "Python 3",
   "language": "python",
   "name": "python3"
  },
  "language_info": {
   "codemirror_mode": {
    "name": "ipython",
    "version": 3
   },
   "file_extension": ".py",
   "mimetype": "text/x-python",
   "name": "python",
   "nbconvert_exporter": "python",
   "pygments_lexer": "ipython3",
   "version": "3.8.8"
  }
 },
 "nbformat": 4,
 "nbformat_minor": 5
}
