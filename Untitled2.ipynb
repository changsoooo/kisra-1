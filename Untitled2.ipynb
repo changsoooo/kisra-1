{
 "cells": [
  {
   "cell_type": "code",
   "execution_count": 19,
   "id": "c567b63a",
   "metadata": {
    "ExecuteTime": {
     "end_time": "2021-05-02T02:23:28.561640Z",
     "start_time": "2021-05-02T02:23:28.558617Z"
    }
   },
   "outputs": [],
   "source": [
    "from pandas.tseries.offsets import BDay\n",
    "from pandas import Timestamp\n",
    "\n",
    "import datetime"
   ]
  },
  {
   "cell_type": "code",
   "execution_count": 20,
   "id": "hidden-moisture",
   "metadata": {
    "ExecuteTime": {
     "end_time": "2021-05-02T02:23:28.777515Z",
     "start_time": "2021-05-02T02:23:28.769724Z"
    }
   },
   "outputs": [],
   "source": [
    "now = datetime.datetime.now()"
   ]
  },
  {
   "cell_type": "code",
   "execution_count": 21,
   "id": "101f861d",
   "metadata": {
    "ExecuteTime": {
     "end_time": "2021-05-02T02:23:28.970896Z",
     "start_time": "2021-05-02T02:23:28.965699Z"
    }
   },
   "outputs": [],
   "source": [
    "current_date = '2021-04-30'\n",
    "now = datetime.datetime.now()\n",
    "hour, timezone, type_hour = now.hour, 'AM', ''\n",
    "if 12<now.hour:\n",
    "    hour -= 12\n",
    "    timezone = 'PM'\n",
    "if now.hour<10:\n",
    "    type_hour = '0'+str(now.hour)\n",
    "\n",
    "if current_date is None:\n",
    "    date = str(now.month)+'/'+str(now.day)+'/'+str(now.year)+' '+str(hour)+':'+str(now.minute)+':'+str(now.second)+' '+timezone \n"
   ]
  },
  {
   "cell_type": "code",
   "execution_count": 22,
   "id": "ad6bb69a",
   "metadata": {
    "ExecuteTime": {
     "end_time": "2021-05-02T02:23:29.451003Z",
     "start_time": "2021-05-02T02:23:29.447125Z"
    }
   },
   "outputs": [
    {
     "data": {
      "text/plain": [
       "'2021-04-30 4:00:00 PM'"
      ]
     },
     "execution_count": 22,
     "metadata": {},
     "output_type": "execute_result"
    }
   ],
   "source": [
    "date"
   ]
  },
  {
   "cell_type": "code",
   "execution_count": 23,
   "id": "progressive-asset",
   "metadata": {
    "ExecuteTime": {
     "end_time": "2021-05-02T02:23:31.158792Z",
     "start_time": "2021-05-02T02:23:31.156161Z"
    }
   },
   "outputs": [],
   "source": [
    "ts = Timestamp(date)"
   ]
  },
  {
   "cell_type": "code",
   "execution_count": 24,
   "id": "further-simulation",
   "metadata": {
    "ExecuteTime": {
     "end_time": "2021-05-02T02:23:31.406314Z",
     "start_time": "2021-05-02T02:23:31.402938Z"
    }
   },
   "outputs": [],
   "source": [
    "prev_date = ts + BDay(-1)"
   ]
  },
  {
   "cell_type": "code",
   "execution_count": 25,
   "id": "hourly-continent",
   "metadata": {
    "ExecuteTime": {
     "end_time": "2021-05-02T02:23:31.612107Z",
     "start_time": "2021-05-02T02:23:31.607498Z"
    }
   },
   "outputs": [
    {
     "data": {
      "text/plain": [
       "Timestamp('2021-04-29 16:00:00')"
      ]
     },
     "execution_count": 25,
     "metadata": {},
     "output_type": "execute_result"
    }
   ],
   "source": [
    "prev_date"
   ]
  },
  {
   "cell_type": "code",
   "execution_count": 28,
   "id": "protecting-charleston",
   "metadata": {
    "ExecuteTime": {
     "end_time": "2021-05-02T02:26:38.997966Z",
     "start_time": "2021-05-02T02:26:38.993343Z"
    }
   },
   "outputs": [],
   "source": [
    "date = prev_date.strftime('%m/%d/%Y') + ' 4:00:00 PM'"
   ]
  },
  {
   "cell_type": "code",
   "execution_count": 29,
   "id": "thirty-royalty",
   "metadata": {
    "ExecuteTime": {
     "end_time": "2021-05-02T02:26:39.314171Z",
     "start_time": "2021-05-02T02:26:39.309540Z"
    }
   },
   "outputs": [
    {
     "data": {
      "text/plain": [
       "'04/29/2021 4:00:00 PM'"
      ]
     },
     "execution_count": 29,
     "metadata": {},
     "output_type": "execute_result"
    }
   ],
   "source": [
    "date"
   ]
  },
  {
   "cell_type": "code",
   "execution_count": null,
   "id": "classified-fiber",
   "metadata": {},
   "outputs": [],
   "source": []
  }
 ],
 "metadata": {
  "kernelspec": {
   "display_name": "Python 3",
   "language": "python",
   "name": "python3"
  },
  "language_info": {
   "codemirror_mode": {
    "name": "ipython",
    "version": 3
   },
   "file_extension": ".py",
   "mimetype": "text/x-python",
   "name": "python",
   "nbconvert_exporter": "python",
   "pygments_lexer": "ipython3",
   "version": "3.8.8"
  }
 },
 "nbformat": 4,
 "nbformat_minor": 5
}
