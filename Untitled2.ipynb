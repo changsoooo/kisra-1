{
 "cells": [
  {
   "cell_type": "code",
   "execution_count": 1,
   "id": "c567b63a",
   "metadata": {
    "ExecuteTime": {
     "end_time": "2021-05-02T02:03:33.826184Z",
     "start_time": "2021-05-02T02:03:33.265874Z"
    }
   },
   "outputs": [],
   "source": [
    "from pandas.tseries.offsets import BDay\n",
    "from pandas import Timestamp\n",
    "\n",
    "import datetime"
   ]
  },
  {
   "cell_type": "code",
   "execution_count": 2,
   "id": "adapted-chuck",
   "metadata": {
    "ExecuteTime": {
     "end_time": "2021-05-02T02:03:34.050234Z",
     "start_time": "2021-05-02T02:03:34.047081Z"
    }
   },
   "outputs": [],
   "source": [
    "now = datetime.datetime.now()"
   ]
  },
  {
   "cell_type": "code",
   "execution_count": 3,
   "id": "101f861d",
   "metadata": {
    "ExecuteTime": {
     "end_time": "2021-05-02T02:03:34.260969Z",
     "start_time": "2021-05-02T02:03:34.255899Z"
    }
   },
   "outputs": [],
   "source": [
    "current_date = None\n",
    "now = datetime.datetime.now()\n",
    "hour, timezone, type_hour = now.hour, 'AM', ''\n",
    "if 12<now.hour:\n",
    "    hour -= 12\n",
    "    timezone = 'PM'\n",
    "if now.hour<10:\n",
    "    type_hour = '0'+str(now.hour)\n",
    "\n",
    "if current_date is None:\n",
    "    date = str(now.month)+'/'+str(now.day)+'/'+str(now.year)+' '+str(hour)+':'+str(now.minute)+':'+str(now.second)+' '+timezone \n"
   ]
  },
  {
   "cell_type": "code",
   "execution_count": 4,
   "id": "ad6bb69a",
   "metadata": {
    "ExecuteTime": {
     "end_time": "2021-05-02T02:03:34.456328Z",
     "start_time": "2021-05-02T02:03:34.442773Z"
    }
   },
   "outputs": [
    {
     "data": {
      "text/plain": [
       "'5/2/2021 11:3:34 AM'"
      ]
     },
     "execution_count": 4,
     "metadata": {},
     "output_type": "execute_result"
    }
   ],
   "source": [
    "date"
   ]
  },
  {
   "cell_type": "code",
   "execution_count": 6,
   "id": "optical-sheriff",
   "metadata": {
    "ExecuteTime": {
     "end_time": "2021-05-02T02:03:38.775260Z",
     "start_time": "2021-05-02T02:03:38.770850Z"
    }
   },
   "outputs": [],
   "source": [
    "ts = Timestamp(date)"
   ]
  },
  {
   "cell_type": "code",
   "execution_count": 7,
   "id": "cutting-housing",
   "metadata": {
    "ExecuteTime": {
     "end_time": "2021-05-02T02:03:39.961474Z",
     "start_time": "2021-05-02T02:03:39.958856Z"
    }
   },
   "outputs": [],
   "source": [
    "prev_date = ts + BDay(-1)"
   ]
  },
  {
   "cell_type": "code",
   "execution_count": 8,
   "id": "antique-stewart",
   "metadata": {
    "ExecuteTime": {
     "end_time": "2021-05-02T02:03:40.163221Z",
     "start_time": "2021-05-02T02:03:40.159816Z"
    }
   },
   "outputs": [],
   "source": [
    "date = prev_date.strftime('%Y-%m-%d') + ' 4:00:00 PM'"
   ]
  },
  {
   "cell_type": "code",
   "execution_count": 10,
   "id": "pediatric-convention",
   "metadata": {
    "ExecuteTime": {
     "end_time": "2021-05-02T02:03:45.697809Z",
     "start_time": "2021-05-02T02:03:45.694456Z"
    }
   },
   "outputs": [
    {
     "data": {
      "text/plain": [
       "'2021-04-30 4:00:00 PM'"
      ]
     },
     "execution_count": 10,
     "metadata": {},
     "output_type": "execute_result"
    }
   ],
   "source": [
    "date"
   ]
  },
  {
   "cell_type": "code",
   "execution_count": null,
   "id": "increased-conviction",
   "metadata": {},
   "outputs": [],
   "source": []
  }
 ],
 "metadata": {
  "kernelspec": {
   "display_name": "Python 3",
   "language": "python",
   "name": "python3"
  },
  "language_info": {
   "codemirror_mode": {
    "name": "ipython",
    "version": 3
   },
   "file_extension": ".py",
   "mimetype": "text/x-python",
   "name": "python",
   "nbconvert_exporter": "python",
   "pygments_lexer": "ipython3",
   "version": "3.8.8"
  }
 },
 "nbformat": 4,
 "nbformat_minor": 5
}
