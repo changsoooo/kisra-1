{
 "cells": [
  {
   "cell_type": "code",
   "execution_count": 6,
   "id": "dietary-commission",
   "metadata": {
    "ExecuteTime": {
     "end_time": "2021-03-23T05:18:35.934218Z",
     "start_time": "2021-03-23T05:18:35.924241Z"
    }
   },
   "outputs": [],
   "source": [
    "import pandas as pd\n",
    "from load_data import Balance, Instruments, AdvisedPortfolios, PriceDB, Singleton"
   ]
  },
  {
   "cell_type": "code",
   "execution_count": 5,
   "id": "executive-stupid",
   "metadata": {
    "ExecuteTime": {
     "end_time": "2021-03-23T05:13:02.026473Z",
     "start_time": "2021-03-23T05:13:02.022484Z"
    }
   },
   "outputs": [],
   "source": [
    "userid = 'A00'\n",
    "username = '투자자0'\n",
    "current_date = '2020-01-10'\n",
    "new_units = {'A122260': 2, 'A114260': 4, 'A130730': 2, 'A329650': 13, 'A266370': 4}\n",
    "prices = {'A122260': [101185.0, 'KRW'], 'A114260': [57900.0, 'KRW'], 'A130730': [100975.0, 'KRW'], 'A329650': [10980.0, 'KRW'], 'A266370': [21325.0, 'KRW']}"
   ]
  },
  {
   "cell_type": "code",
   "execution_count": 8,
   "id": "close-exploration",
   "metadata": {
    "ExecuteTime": {
     "end_time": "2021-03-23T05:19:55.417027Z",
     "start_time": "2021-03-23T05:19:55.405059Z"
    }
   },
   "outputs": [],
   "source": [
    "instruments_m = pd.read_pickle('../../data/processed/instruments_m.pkl')"
   ]
  },
  {
   "cell_type": "code",
   "execution_count": null,
   "id": "moving-grass",
   "metadata": {},
   "outputs": [],
   "source": []
  }
 ],
 "metadata": {
  "kernelspec": {
   "display_name": "Python 3",
   "language": "python",
   "name": "python3"
  },
  "language_info": {
   "codemirror_mode": {
    "name": "ipython",
    "version": 3
   },
   "file_extension": ".py",
   "mimetype": "text/x-python",
   "name": "python",
   "nbconvert_exporter": "python",
   "pygments_lexer": "ipython3",
   "version": "3.8.8"
  }
 },
 "nbformat": 4,
 "nbformat_minor": 5
}
