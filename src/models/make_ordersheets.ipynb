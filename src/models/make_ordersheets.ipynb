{
 "cells": [
  {
   "cell_type": "code",
   "execution_count": 1,
   "id": "independent-straight",
   "metadata": {
    "ExecuteTime": {
     "end_time": "2021-03-19T08:27:46.156877Z",
     "start_time": "2021-03-19T08:27:46.017251Z"
    }
   },
   "outputs": [],
   "source": [
    "%load_ext autoreload\n",
    "%autoreload"
   ]
  },
  {
   "cell_type": "code",
   "execution_count": 18,
   "id": "lonely-trial",
   "metadata": {
    "ExecuteTime": {
     "end_time": "2021-03-19T08:32:40.334788Z",
     "start_time": "2021-03-19T08:32:40.330799Z"
    }
   },
   "outputs": [],
   "source": [
    "from load_data import Balance, Instruments, AdvisedPortfolios, PriceDB, Singleton\n",
    "from utils import get_current_port, get_advised_port, get_recommendation\n",
    "\n",
    "from asset import Asset\n",
    "from price import Price\n",
    "from portfolio import Portfolio\n",
    "\n",
    "import pandas as pd"
   ]
  },
  {
   "cell_type": "code",
   "execution_count": 3,
   "id": "agreed-stewart",
   "metadata": {
    "ExecuteTime": {
     "end_time": "2021-03-19T08:27:49.228645Z",
     "start_time": "2021-03-19T08:27:49.223685Z"
    }
   },
   "outputs": [],
   "source": [
    "userid='A01'\n",
    "risk_profile=2"
   ]
  },
  {
   "cell_type": "markdown",
   "id": "united-shelter",
   "metadata": {},
   "source": [
    "#### `userid`로 사용자 최근잔고 잔고 불러오기\n",
    "- `balance`\n",
    "- `advised_pf`"
   ]
  },
  {
   "cell_type": "code",
   "execution_count": 4,
   "id": "important-oregon",
   "metadata": {
    "ExecuteTime": {
     "end_time": "2021-03-19T08:27:49.292474Z",
     "start_time": "2021-03-19T08:27:49.230639Z"
    }
   },
   "outputs": [],
   "source": [
    "balance = get_current_port(userid=userid)\n",
    "new_port = get_advised_port(risk_profile=risk_profile)"
   ]
  },
  {
   "cell_type": "code",
   "execution_count": 5,
   "id": "certified-transaction",
   "metadata": {
    "ExecuteTime": {
     "end_time": "2021-03-19T08:27:49.298487Z",
     "start_time": "2021-03-19T08:27:49.293498Z"
    }
   },
   "outputs": [],
   "source": [
    "old_assets = balance.loc[(balance.tracking_code != 'CASH') & (balance.tracking_code != 'DEPOSIT'), :]\n",
    "old_cash = balance.loc[(balance.tracking_code=='CASH') | (balance.tracking_code=='DEPOSIT'), :]\n",
    "old_tickers = old_assets.itemcode.tolist()\n",
    "old_quantities = old_assets.quantity.tolist()\n",
    "old_prices = old_assets.price.tolist()\n",
    "cash_amounts = old_cash.value.tolist()\n",
    "cash_currency = ['KRW']*len(cash_amounts)"
   ]
  },
  {
   "cell_type": "code",
   "execution_count": 34,
   "id": "conscious-diversity",
   "metadata": {
    "ExecuteTime": {
     "end_time": "2021-03-19T08:37:12.323283Z",
     "start_time": "2021-03-19T08:37:12.315304Z"
    }
   },
   "outputs": [],
   "source": [
    "old_new = pd.merge(balance.loc[:, ['exposure', 'itemcode', 'wt']], new_port.loc[:, ['exposure', 'itemcode', 'wt']],\n",
    "                left_on=['exposure'], right_on=['exposure'], how='outer', suffixes=['_old', '_new'])"
   ]
  },
  {
   "cell_type": "code",
   "execution_count": 37,
   "id": "closed-investment",
   "metadata": {
    "ExecuteTime": {
     "end_time": "2021-03-19T08:37:34.295961Z",
     "start_time": "2021-03-19T08:37:34.291003Z"
    }
   },
   "outputs": [],
   "source": [
    " old_new.loc[old_new.itemcode_old.isna(), 'itemcode_old'] = old_new.loc[old_new.itemcode_old.isna(), 'itemcode_new']"
   ]
  },
  {
   "cell_type": "code",
   "execution_count": 38,
   "id": "molecular-masters",
   "metadata": {
    "ExecuteTime": {
     "end_time": "2021-03-19T08:37:37.372655Z",
     "start_time": "2021-03-19T08:37:37.363678Z"
    }
   },
   "outputs": [
    {
     "data": {
      "text/html": [
       "<div>\n",
       "<style scoped>\n",
       "    .dataframe tbody tr th:only-of-type {\n",
       "        vertical-align: middle;\n",
       "    }\n",
       "\n",
       "    .dataframe tbody tr th {\n",
       "        vertical-align: top;\n",
       "    }\n",
       "\n",
       "    .dataframe thead th {\n",
       "        text-align: right;\n",
       "    }\n",
       "</style>\n",
       "<table border=\"1\" class=\"dataframe\">\n",
       "  <thead>\n",
       "    <tr style=\"text-align: right;\">\n",
       "      <th></th>\n",
       "      <th>exposure</th>\n",
       "      <th>itemcode_old</th>\n",
       "      <th>wt_old</th>\n",
       "      <th>itemcode_new</th>\n",
       "      <th>wt_new</th>\n",
       "    </tr>\n",
       "  </thead>\n",
       "  <tbody>\n",
       "    <tr>\n",
       "      <th>0</th>\n",
       "      <td>CASH</td>\n",
       "      <td>C000001</td>\n",
       "      <td>0.027733</td>\n",
       "      <td>NaN</td>\n",
       "      <td>NaN</td>\n",
       "    </tr>\n",
       "    <tr>\n",
       "      <th>1</th>\n",
       "      <td>DEPOSIT</td>\n",
       "      <td>D000001</td>\n",
       "      <td>0.501074</td>\n",
       "      <td>NaN</td>\n",
       "      <td>NaN</td>\n",
       "    </tr>\n",
       "    <tr>\n",
       "      <th>2</th>\n",
       "      <td>EQ_M_KR_LARGE</td>\n",
       "      <td>A069500</td>\n",
       "      <td>0.060862</td>\n",
       "      <td>A102110</td>\n",
       "      <td>0.030000</td>\n",
       "    </tr>\n",
       "    <tr>\n",
       "      <th>3</th>\n",
       "      <td>EQ_M_US_LARGE</td>\n",
       "      <td>A360200</td>\n",
       "      <td>0.029569</td>\n",
       "      <td>NaN</td>\n",
       "      <td>NaN</td>\n",
       "    </tr>\n",
       "    <tr>\n",
       "      <th>4</th>\n",
       "      <td>MM</td>\n",
       "      <td>A196230</td>\n",
       "      <td>0.153792</td>\n",
       "      <td>A130730</td>\n",
       "      <td>0.250000</td>\n",
       "    </tr>\n",
       "    <tr>\n",
       "      <th>5</th>\n",
       "      <td>MM</td>\n",
       "      <td>A196230</td>\n",
       "      <td>0.153792</td>\n",
       "      <td>A153130</td>\n",
       "      <td>0.217851</td>\n",
       "    </tr>\n",
       "    <tr>\n",
       "      <th>6</th>\n",
       "      <td>MM</td>\n",
       "      <td>A196230</td>\n",
       "      <td>0.153792</td>\n",
       "      <td>A214980</td>\n",
       "      <td>0.100000</td>\n",
       "    </tr>\n",
       "    <tr>\n",
       "      <th>7</th>\n",
       "      <td>FI_D_LONG</td>\n",
       "      <td>A302190</td>\n",
       "      <td>0.073483</td>\n",
       "      <td>NaN</td>\n",
       "      <td>NaN</td>\n",
       "    </tr>\n",
       "    <tr>\n",
       "      <th>8</th>\n",
       "      <td>AL_FX_USD</td>\n",
       "      <td>A329750</td>\n",
       "      <td>0.109372</td>\n",
       "      <td>NaN</td>\n",
       "      <td>NaN</td>\n",
       "    </tr>\n",
       "    <tr>\n",
       "      <th>9</th>\n",
       "      <td>EQ_S_NASDAQ</td>\n",
       "      <td>A367380</td>\n",
       "      <td>0.044114</td>\n",
       "      <td>NaN</td>\n",
       "      <td>NaN</td>\n",
       "    </tr>\n",
       "    <tr>\n",
       "      <th>10</th>\n",
       "      <td>FI_D_SHORT</td>\n",
       "      <td>A122260</td>\n",
       "      <td>NaN</td>\n",
       "      <td>A122260</td>\n",
       "      <td>0.250000</td>\n",
       "    </tr>\n",
       "    <tr>\n",
       "      <th>11</th>\n",
       "      <td>FI_D_SHORT</td>\n",
       "      <td>A114260</td>\n",
       "      <td>NaN</td>\n",
       "      <td>A114260</td>\n",
       "      <td>0.152149</td>\n",
       "    </tr>\n",
       "  </tbody>\n",
       "</table>\n",
       "</div>"
      ],
      "text/plain": [
       "         exposure itemcode_old    wt_old itemcode_new    wt_new\n",
       "0            CASH      C000001  0.027733          NaN       NaN\n",
       "1         DEPOSIT      D000001  0.501074          NaN       NaN\n",
       "2   EQ_M_KR_LARGE      A069500  0.060862      A102110  0.030000\n",
       "3   EQ_M_US_LARGE      A360200  0.029569          NaN       NaN\n",
       "4              MM      A196230  0.153792      A130730  0.250000\n",
       "5              MM      A196230  0.153792      A153130  0.217851\n",
       "6              MM      A196230  0.153792      A214980  0.100000\n",
       "7       FI_D_LONG      A302190  0.073483          NaN       NaN\n",
       "8       AL_FX_USD      A329750  0.109372          NaN       NaN\n",
       "9     EQ_S_NASDAQ      A367380  0.044114          NaN       NaN\n",
       "10     FI_D_SHORT      A122260       NaN      A122260  0.250000\n",
       "11     FI_D_SHORT      A114260       NaN      A114260  0.152149"
      ]
     },
     "execution_count": 38,
     "metadata": {},
     "output_type": "execute_result"
    }
   ],
   "source": [
    "old_new"
   ]
  },
  {
   "cell_type": "code",
   "execution_count": null,
   "id": "sorted-editor",
   "metadata": {},
   "outputs": [],
   "source": []
  },
  {
   "cell_type": "code",
   "execution_count": 30,
   "id": "several-today",
   "metadata": {
    "ExecuteTime": {
     "end_time": "2021-03-19T08:36:38.718009Z",
     "start_time": "2021-03-19T08:36:38.709034Z"
    }
   },
   "outputs": [
    {
     "data": {
      "text/html": [
       "<div>\n",
       "<style scoped>\n",
       "    .dataframe tbody tr th:only-of-type {\n",
       "        vertical-align: middle;\n",
       "    }\n",
       "\n",
       "    .dataframe tbody tr th {\n",
       "        vertical-align: top;\n",
       "    }\n",
       "\n",
       "    .dataframe thead th {\n",
       "        text-align: right;\n",
       "    }\n",
       "</style>\n",
       "<table border=\"1\" class=\"dataframe\">\n",
       "  <thead>\n",
       "    <tr style=\"text-align: right;\">\n",
       "      <th></th>\n",
       "      <th>exposure</th>\n",
       "      <th>itemcode_old</th>\n",
       "      <th>wt_old</th>\n",
       "      <th>itemcode_new</th>\n",
       "      <th>wt_new</th>\n",
       "    </tr>\n",
       "  </thead>\n",
       "  <tbody>\n",
       "    <tr>\n",
       "      <th>0</th>\n",
       "      <td>CASH</td>\n",
       "      <td>C000001</td>\n",
       "      <td>0.027733</td>\n",
       "      <td>NaN</td>\n",
       "      <td>NaN</td>\n",
       "    </tr>\n",
       "    <tr>\n",
       "      <th>1</th>\n",
       "      <td>DEPOSIT</td>\n",
       "      <td>D000001</td>\n",
       "      <td>0.501074</td>\n",
       "      <td>NaN</td>\n",
       "      <td>NaN</td>\n",
       "    </tr>\n",
       "    <tr>\n",
       "      <th>2</th>\n",
       "      <td>EQ_M_KR_LARGE</td>\n",
       "      <td>A069500</td>\n",
       "      <td>0.060862</td>\n",
       "      <td>A102110</td>\n",
       "      <td>0.030000</td>\n",
       "    </tr>\n",
       "    <tr>\n",
       "      <th>3</th>\n",
       "      <td>EQ_M_US_LARGE</td>\n",
       "      <td>A360200</td>\n",
       "      <td>0.029569</td>\n",
       "      <td>NaN</td>\n",
       "      <td>NaN</td>\n",
       "    </tr>\n",
       "    <tr>\n",
       "      <th>4</th>\n",
       "      <td>MM</td>\n",
       "      <td>A196230</td>\n",
       "      <td>0.153792</td>\n",
       "      <td>A130730</td>\n",
       "      <td>0.250000</td>\n",
       "    </tr>\n",
       "    <tr>\n",
       "      <th>5</th>\n",
       "      <td>MM</td>\n",
       "      <td>A196230</td>\n",
       "      <td>0.153792</td>\n",
       "      <td>A153130</td>\n",
       "      <td>0.217851</td>\n",
       "    </tr>\n",
       "    <tr>\n",
       "      <th>6</th>\n",
       "      <td>MM</td>\n",
       "      <td>A196230</td>\n",
       "      <td>0.153792</td>\n",
       "      <td>A214980</td>\n",
       "      <td>0.100000</td>\n",
       "    </tr>\n",
       "    <tr>\n",
       "      <th>7</th>\n",
       "      <td>FI_D_LONG</td>\n",
       "      <td>A302190</td>\n",
       "      <td>0.073483</td>\n",
       "      <td>NaN</td>\n",
       "      <td>NaN</td>\n",
       "    </tr>\n",
       "    <tr>\n",
       "      <th>8</th>\n",
       "      <td>AL_FX_USD</td>\n",
       "      <td>A329750</td>\n",
       "      <td>0.109372</td>\n",
       "      <td>NaN</td>\n",
       "      <td>NaN</td>\n",
       "    </tr>\n",
       "    <tr>\n",
       "      <th>9</th>\n",
       "      <td>EQ_S_NASDAQ</td>\n",
       "      <td>A367380</td>\n",
       "      <td>0.044114</td>\n",
       "      <td>NaN</td>\n",
       "      <td>NaN</td>\n",
       "    </tr>\n",
       "    <tr>\n",
       "      <th>10</th>\n",
       "      <td>FI_D_SHORT</td>\n",
       "      <td>A122260</td>\n",
       "      <td>NaN</td>\n",
       "      <td>A122260</td>\n",
       "      <td>0.250000</td>\n",
       "    </tr>\n",
       "    <tr>\n",
       "      <th>11</th>\n",
       "      <td>FI_D_SHORT</td>\n",
       "      <td>A114260</td>\n",
       "      <td>NaN</td>\n",
       "      <td>A114260</td>\n",
       "      <td>0.152149</td>\n",
       "    </tr>\n",
       "  </tbody>\n",
       "</table>\n",
       "</div>"
      ],
      "text/plain": [
       "         exposure itemcode_old    wt_old itemcode_new    wt_new\n",
       "0            CASH      C000001  0.027733          NaN       NaN\n",
       "1         DEPOSIT      D000001  0.501074          NaN       NaN\n",
       "2   EQ_M_KR_LARGE      A069500  0.060862      A102110  0.030000\n",
       "3   EQ_M_US_LARGE      A360200  0.029569          NaN       NaN\n",
       "4              MM      A196230  0.153792      A130730  0.250000\n",
       "5              MM      A196230  0.153792      A153130  0.217851\n",
       "6              MM      A196230  0.153792      A214980  0.100000\n",
       "7       FI_D_LONG      A302190  0.073483          NaN       NaN\n",
       "8       AL_FX_USD      A329750  0.109372          NaN       NaN\n",
       "9     EQ_S_NASDAQ      A367380  0.044114          NaN       NaN\n",
       "10     FI_D_SHORT      A122260       NaN      A122260  0.250000\n",
       "11     FI_D_SHORT      A114260       NaN      A114260  0.152149"
      ]
     },
     "execution_count": 30,
     "metadata": {},
     "output_type": "execute_result"
    }
   ],
   "source": [
    "old_new"
   ]
  },
  {
   "cell_type": "code",
   "execution_count": null,
   "id": "egyptian-qualification",
   "metadata": {},
   "outputs": [],
   "source": []
  },
  {
   "cell_type": "code",
   "execution_count": 6,
   "id": "beneficial-brighton",
   "metadata": {
    "ExecuteTime": {
     "end_time": "2021-03-19T08:27:49.305472Z",
     "start_time": "2021-03-19T08:27:49.300453Z"
    }
   },
   "outputs": [],
   "source": [
    "p = Portfolio()\n",
    "p.easy_add_assets(tickers=old_tickers, quantities=old_quantities, prices=old_prices)\n",
    "p.easy_add_cash(amounts=cash_amounts, currencies=cash_currency)\n",
    "p.selling_allowed = True"
   ]
  },
  {
   "cell_type": "code",
   "execution_count": 7,
   "id": "liberal-techno",
   "metadata": {
    "ExecuteTime": {
     "end_time": "2021-03-19T08:27:49.316409Z",
     "start_time": "2021-03-19T08:27:49.307434Z"
    }
   },
   "outputs": [
    {
     "data": {
      "text/plain": [
       "{'A069500': <asset.Asset at 0x1e0cead8b20>,\n",
       " 'A360200': <asset.Asset at 0x1e0cead8be0>,\n",
       " 'A196230': <asset.Asset at 0x1e0cead8cd0>,\n",
       " 'A302190': <asset.Asset at 0x1e0cead8d90>,\n",
       " 'A329750': <asset.Asset at 0x1e0cead8e80>,\n",
       " 'A367380': <asset.Asset at 0x1e0cead8f40>}"
      ]
     },
     "execution_count": 7,
     "metadata": {},
     "output_type": "execute_result"
    }
   ],
   "source": [
    "p.assets"
   ]
  },
  {
   "cell_type": "code",
   "execution_count": 9,
   "id": "missing-legend",
   "metadata": {
    "ExecuteTime": {
     "end_time": "2021-03-19T08:27:50.877259Z",
     "start_time": "2021-03-19T08:27:50.873238Z"
    }
   },
   "outputs": [],
   "source": [
    "new_tickers = new_port.itemcode.tolist()\n",
    "new_quantities = (new_port.wt*100).tolist()     # 단위가 %이므로 100을 곱한다."
   ]
  },
  {
   "cell_type": "code",
   "execution_count": 10,
   "id": "decimal-mechanism",
   "metadata": {
    "ExecuteTime": {
     "end_time": "2021-03-19T08:27:51.079684Z",
     "start_time": "2021-03-19T08:27:51.073701Z"
    }
   },
   "outputs": [
    {
     "data": {
      "text/plain": [
       "['A122260', 'A130730', 'A153130', 'A114260', 'A214980', 'A102110']"
      ]
     },
     "execution_count": 10,
     "metadata": {},
     "output_type": "execute_result"
    }
   ],
   "source": [
    "new_tickers"
   ]
  },
  {
   "cell_type": "code",
   "execution_count": 11,
   "id": "dependent-oracle",
   "metadata": {
    "ExecuteTime": {
     "end_time": "2021-03-19T08:27:51.661126Z",
     "start_time": "2021-03-19T08:27:51.657136Z"
    }
   },
   "outputs": [],
   "source": [
    "target_asset_alloc = dict(zip(new_tickers, new_quantities))    "
   ]
  },
  {
   "cell_type": "code",
   "execution_count": 12,
   "id": "greek-australian",
   "metadata": {
    "ExecuteTime": {
     "end_time": "2021-03-19T08:27:52.661475Z",
     "start_time": "2021-03-19T08:27:52.225613Z"
    }
   },
   "outputs": [
    {
     "ename": "Exception",
     "evalue": "'target_allocation not compatible with the assets of the portfolio.",
     "output_type": "error",
     "traceback": [
      "\u001b[1;31m---------------------------------------------------------------------------\u001b[0m",
      "\u001b[1;31mKeyError\u001b[0m                                  Traceback (most recent call last)",
      "\u001b[1;32mD:\\workspace\\kisra\\src\\models\\portfolio.py\u001b[0m in \u001b[0;36mrebalance\u001b[1;34m(self, target_allocation, verbose)\u001b[0m\n\u001b[0;32m    253\u001b[0m             \u001b[1;32mfor\u001b[0m \u001b[0mkey\u001b[0m \u001b[1;32min\u001b[0m \u001b[0mself\u001b[0m\u001b[1;33m.\u001b[0m\u001b[0massets\u001b[0m\u001b[1;33m:\u001b[0m\u001b[1;33m\u001b[0m\u001b[1;33m\u001b[0m\u001b[0m\n\u001b[1;32m--> 254\u001b[1;33m                 \u001b[0mtarget_allocation_reordered\u001b[0m\u001b[1;33m[\u001b[0m\u001b[0mkey\u001b[0m\u001b[1;33m]\u001b[0m \u001b[1;33m=\u001b[0m \u001b[0mtarget_allocation\u001b[0m\u001b[1;33m[\u001b[0m\u001b[0mkey\u001b[0m\u001b[1;33m]\u001b[0m\u001b[1;33m\u001b[0m\u001b[1;33m\u001b[0m\u001b[0m\n\u001b[0m\u001b[0;32m    255\u001b[0m         \u001b[1;32mexcept\u001b[0m\u001b[1;33m:\u001b[0m\u001b[1;33m\u001b[0m\u001b[1;33m\u001b[0m\u001b[0m\n",
      "\u001b[1;31mKeyError\u001b[0m: 'A069500'",
      "\nDuring handling of the above exception, another exception occurred:\n",
      "\u001b[1;31mException\u001b[0m                                 Traceback (most recent call last)",
      "\u001b[1;32m<ipython-input-12-b79d60d86e58>\u001b[0m in \u001b[0;36m<module>\u001b[1;34m\u001b[0m\n\u001b[1;32m----> 1\u001b[1;33m \u001b[0mp\u001b[0m\u001b[1;33m.\u001b[0m\u001b[0mrebalance\u001b[0m\u001b[1;33m(\u001b[0m\u001b[0mtarget_asset_alloc\u001b[0m\u001b[1;33m,\u001b[0m \u001b[0mverbose\u001b[0m\u001b[1;33m=\u001b[0m\u001b[1;32mTrue\u001b[0m\u001b[1;33m)\u001b[0m\u001b[1;33m\u001b[0m\u001b[1;33m\u001b[0m\u001b[0m\n\u001b[0m",
      "\u001b[1;32mD:\\workspace\\kisra\\src\\models\\portfolio.py\u001b[0m in \u001b[0;36mrebalance\u001b[1;34m(self, target_allocation, verbose)\u001b[0m\n\u001b[0;32m    254\u001b[0m                 \u001b[0mtarget_allocation_reordered\u001b[0m\u001b[1;33m[\u001b[0m\u001b[0mkey\u001b[0m\u001b[1;33m]\u001b[0m \u001b[1;33m=\u001b[0m \u001b[0mtarget_allocation\u001b[0m\u001b[1;33m[\u001b[0m\u001b[0mkey\u001b[0m\u001b[1;33m]\u001b[0m\u001b[1;33m\u001b[0m\u001b[1;33m\u001b[0m\u001b[0m\n\u001b[0;32m    255\u001b[0m         \u001b[1;32mexcept\u001b[0m\u001b[1;33m:\u001b[0m\u001b[1;33m\u001b[0m\u001b[1;33m\u001b[0m\u001b[0m\n\u001b[1;32m--> 256\u001b[1;33m             raise Exception(\n\u001b[0m\u001b[0;32m    257\u001b[0m                 \u001b[1;34m\"'target_allocation not compatible with the assets of the portfolio.\"\u001b[0m\u001b[1;33m\u001b[0m\u001b[1;33m\u001b[0m\u001b[0m\n\u001b[0;32m    258\u001b[0m             )\n",
      "\u001b[1;31mException\u001b[0m: 'target_allocation not compatible with the assets of the portfolio."
     ]
    }
   ],
   "source": [
    "p.rebalance(target_asset_alloc, verbose=True)"
   ]
  },
  {
   "cell_type": "code",
   "execution_count": 16,
   "id": "looking-electricity",
   "metadata": {
    "ExecuteTime": {
     "end_time": "2021-03-19T08:29:17.664642Z",
     "start_time": "2021-03-19T08:29:17.656663Z"
    }
   },
   "outputs": [
    {
     "ename": "KeyError",
     "evalue": "'A069500'",
     "output_type": "error",
     "traceback": [
      "\u001b[1;31m---------------------------------------------------------------------------\u001b[0m",
      "\u001b[1;31mKeyError\u001b[0m                                  Traceback (most recent call last)",
      "\u001b[1;32m<ipython-input-16-132de57f1a8e>\u001b[0m in \u001b[0;36m<module>\u001b[1;34m\u001b[0m\n\u001b[1;32m----> 1\u001b[1;33m \u001b[0mtarget_asset_alloc\u001b[0m\u001b[1;33m[\u001b[0m\u001b[1;34m'A069500'\u001b[0m\u001b[1;33m]\u001b[0m\u001b[1;33m\u001b[0m\u001b[1;33m\u001b[0m\u001b[0m\n\u001b[0m",
      "\u001b[1;31mKeyError\u001b[0m: 'A069500'"
     ]
    }
   ],
   "source": [
    "target_asset_alloc['A069500']"
   ]
  },
  {
   "cell_type": "code",
   "execution_count": 13,
   "id": "reduced-buyer",
   "metadata": {
    "ExecuteTime": {
     "end_time": "2021-03-19T08:28:42.246560Z",
     "start_time": "2021-03-19T08:28:42.240577Z"
    }
   },
   "outputs": [
    {
     "data": {
      "text/plain": [
       "{'A069500': <asset.Asset at 0x1e0cead8b20>,\n",
       " 'A360200': <asset.Asset at 0x1e0cead8be0>,\n",
       " 'A196230': <asset.Asset at 0x1e0cead8cd0>,\n",
       " 'A302190': <asset.Asset at 0x1e0cead8d90>,\n",
       " 'A329750': <asset.Asset at 0x1e0cead8e80>,\n",
       " 'A367380': <asset.Asset at 0x1e0cead8f40>}"
      ]
     },
     "execution_count": 13,
     "metadata": {},
     "output_type": "execute_result"
    }
   ],
   "source": [
    "p.assets"
   ]
  },
  {
   "cell_type": "code",
   "execution_count": 63,
   "id": "cardiac-graphics",
   "metadata": {
    "ExecuteTime": {
     "end_time": "2021-03-19T08:01:26.251707Z",
     "start_time": "2021-03-19T08:01:26.246721Z"
    }
   },
   "outputs": [
    {
     "data": {
      "text/plain": [
       "0.9999999998925693"
      ]
     },
     "execution_count": 63,
     "metadata": {},
     "output_type": "execute_result"
    }
   ],
   "source": [
    "new_port.wt.sum()"
   ]
  },
  {
   "cell_type": "code",
   "execution_count": 68,
   "id": "metric-forum",
   "metadata": {
    "ExecuteTime": {
     "end_time": "2021-03-19T08:04:16.985366Z",
     "start_time": "2021-03-19T08:04:16.981377Z"
    }
   },
   "outputs": [],
   "source": [
    "import numpy as np"
   ]
  },
  {
   "cell_type": "code",
   "execution_count": 70,
   "id": "piano-claim",
   "metadata": {
    "ExecuteTime": {
     "end_time": "2021-03-19T08:04:38.303137Z",
     "start_time": "2021-03-19T08:04:38.293164Z"
    }
   },
   "outputs": [
    {
     "ename": "Exception",
     "evalue": "'target_allocation not compatible with the assets of the portfolio.",
     "output_type": "error",
     "traceback": [
      "\u001b[1;31m---------------------------------------------------------------------------\u001b[0m",
      "\u001b[1;31mNameError\u001b[0m                                 Traceback (most recent call last)",
      "\u001b[1;32m<ipython-input-70-ef66f95b3b3a>\u001b[0m in \u001b[0;36m<module>\u001b[1;34m\u001b[0m\n\u001b[0;32m      3\u001b[0m \u001b[1;32mtry\u001b[0m\u001b[1;33m:\u001b[0m\u001b[1;33m\u001b[0m\u001b[1;33m\u001b[0m\u001b[0m\n\u001b[1;32m----> 4\u001b[1;33m     \u001b[1;32mfor\u001b[0m \u001b[0mkey\u001b[0m \u001b[1;32min\u001b[0m \u001b[0mself\u001b[0m\u001b[1;33m.\u001b[0m\u001b[0massets\u001b[0m\u001b[1;33m:\u001b[0m\u001b[1;33m\u001b[0m\u001b[1;33m\u001b[0m\u001b[0m\n\u001b[0m\u001b[0;32m      5\u001b[0m         \u001b[0mtarget_allocation_reordered\u001b[0m\u001b[1;33m[\u001b[0m\u001b[0mkey\u001b[0m\u001b[1;33m]\u001b[0m \u001b[1;33m=\u001b[0m \u001b[0mtarget_allocation\u001b[0m\u001b[1;33m[\u001b[0m\u001b[0mkey\u001b[0m\u001b[1;33m]\u001b[0m\u001b[1;33m\u001b[0m\u001b[1;33m\u001b[0m\u001b[0m\n",
      "\u001b[1;31mNameError\u001b[0m: name 'self' is not defined",
      "\nDuring handling of the above exception, another exception occurred:\n",
      "\u001b[1;31mException\u001b[0m                                 Traceback (most recent call last)",
      "\u001b[1;32m<ipython-input-70-ef66f95b3b3a>\u001b[0m in \u001b[0;36m<module>\u001b[1;34m\u001b[0m\n\u001b[0;32m      5\u001b[0m         \u001b[0mtarget_allocation_reordered\u001b[0m\u001b[1;33m[\u001b[0m\u001b[0mkey\u001b[0m\u001b[1;33m]\u001b[0m \u001b[1;33m=\u001b[0m \u001b[0mtarget_allocation\u001b[0m\u001b[1;33m[\u001b[0m\u001b[0mkey\u001b[0m\u001b[1;33m]\u001b[0m\u001b[1;33m\u001b[0m\u001b[1;33m\u001b[0m\u001b[0m\n\u001b[0;32m      6\u001b[0m \u001b[1;32mexcept\u001b[0m\u001b[1;33m:\u001b[0m\u001b[1;33m\u001b[0m\u001b[1;33m\u001b[0m\u001b[0m\n\u001b[1;32m----> 7\u001b[1;33m     raise Exception(\n\u001b[0m\u001b[0;32m      8\u001b[0m         \u001b[1;34m\"'target_allocation not compatible with the assets of the portfolio.\"\u001b[0m\u001b[1;33m\u001b[0m\u001b[1;33m\u001b[0m\u001b[0m\n\u001b[0;32m      9\u001b[0m     )\n",
      "\u001b[1;31mException\u001b[0m: 'target_allocation not compatible with the assets of the portfolio."
     ]
    }
   ],
   "source": [
    "# order target_allocation dict in the same order as assets dict and upper key\n",
    "target_allocation_reordered = {}\n",
    "try:\n",
    "    for key in assets:\n",
    "        target_allocation_reordered[key] = target_allocation[key]\n",
    "except:\n",
    "    raise Exception(\n",
    "        \"'target_allocation not compatible with the assets of the portfolio.\"\n",
    "    )\n",
    "\n",
    "target_allocation_np = np.fromiter(\n",
    "    target_allocation_reordered.values(), dtype=float)"
   ]
  },
  {
   "cell_type": "code",
   "execution_count": 73,
   "id": "packed-evolution",
   "metadata": {
    "ExecuteTime": {
     "end_time": "2021-03-19T08:12:36.253631Z",
     "start_time": "2021-03-19T08:12:36.248644Z"
    }
   },
   "outputs": [
    {
     "data": {
      "text/plain": [
       "{}"
      ]
     },
     "execution_count": 73,
     "metadata": {},
     "output_type": "execute_result"
    }
   ],
   "source": [
    "p.assets"
   ]
  },
  {
   "cell_type": "code",
   "execution_count": null,
   "id": "infectious-fleet",
   "metadata": {},
   "outputs": [],
   "source": []
  }
 ],
 "metadata": {
  "kernelspec": {
   "display_name": "Python 3",
   "language": "python",
   "name": "python3"
  },
  "language_info": {
   "codemirror_mode": {
    "name": "ipython",
    "version": 3
   },
   "file_extension": ".py",
   "mimetype": "text/x-python",
   "name": "python",
   "nbconvert_exporter": "python",
   "pygments_lexer": "ipython3",
   "version": "3.8.8"
  }
 },
 "nbformat": 4,
 "nbformat_minor": 5
}
