{
 "cells": [
  {
   "cell_type": "code",
   "execution_count": 1,
   "id": "moderate-mouse",
   "metadata": {
    "ExecuteTime": {
     "end_time": "2021-04-27T01:06:49.711551Z",
     "start_time": "2021-04-27T01:06:49.275423Z"
    }
   },
   "outputs": [],
   "source": [
    "import pandas as pd"
   ]
  },
  {
   "cell_type": "code",
   "execution_count": 2,
   "id": "sized-population",
   "metadata": {
    "ExecuteTime": {
     "end_time": "2021-04-27T01:07:36.028456Z",
     "start_time": "2021-04-27T01:07:36.025497Z"
    }
   },
   "outputs": [],
   "source": [
    "access_path = '../../data/processed/'\n",
    "filename = ['advised_portfolios.pkl', 'advised_portfolios-0423.pkl']\n",
    "full_path = [access_path + file_nm for file_nm in filename]"
   ]
  },
  {
   "cell_type": "code",
   "execution_count": 19,
   "id": "statistical-rebel",
   "metadata": {
    "ExecuteTime": {
     "end_time": "2021-04-27T01:14:19.455276Z",
     "start_time": "2021-04-27T01:14:19.438995Z"
    }
   },
   "outputs": [],
   "source": [
    "ports = [pd.read_pickle(file) for file in full_path]\n",
    "df = pd.concat(ports, axis=0)\n",
    "df = df.reset_index(drop=True)"
   ]
  },
  {
   "cell_type": "code",
   "execution_count": 24,
   "id": "bottom-tuner",
   "metadata": {
    "ExecuteTime": {
     "end_time": "2021-04-27T01:15:40.585960Z",
     "start_time": "2021-04-27T01:15:40.563060Z"
    }
   },
   "outputs": [
    {
     "data": {
      "text/html": [
       "<div>\n",
       "<style scoped>\n",
       "    .dataframe tbody tr th:only-of-type {\n",
       "        vertical-align: middle;\n",
       "    }\n",
       "\n",
       "    .dataframe tbody tr th {\n",
       "        vertical-align: top;\n",
       "    }\n",
       "\n",
       "    .dataframe thead th {\n",
       "        text-align: right;\n",
       "    }\n",
       "</style>\n",
       "<table border=\"1\" class=\"dataframe\">\n",
       "  <thead>\n",
       "    <tr style=\"text-align: right;\">\n",
       "      <th></th>\n",
       "      <th>date</th>\n",
       "      <th>risk_profile</th>\n",
       "      <th>itemcode</th>\n",
       "      <th>weights</th>\n",
       "      <th>tracking_code</th>\n",
       "      <th>itemname</th>\n",
       "      <th>price</th>\n",
       "      <th>volume</th>\n",
       "      <th>trading_amt_mln</th>\n",
       "      <th>asset_class</th>\n",
       "    </tr>\n",
       "  </thead>\n",
       "  <tbody>\n",
       "    <tr>\n",
       "      <th>0</th>\n",
       "      <td>2019-01-02</td>\n",
       "      <td>2</td>\n",
       "      <td>A273130</td>\n",
       "      <td>0.240000</td>\n",
       "      <td>ACT_BOND_D4</td>\n",
       "      <td>KODEX 종합채권(AA-이상)액티브</td>\n",
       "      <td>104320.0</td>\n",
       "      <td>26468.0</td>\n",
       "      <td>858.104496</td>\n",
       "      <td>Fixed Income</td>\n",
       "    </tr>\n",
       "    <tr>\n",
       "      <th>1</th>\n",
       "      <td>2019-01-02</td>\n",
       "      <td>2</td>\n",
       "      <td>A214980</td>\n",
       "      <td>0.240000</td>\n",
       "      <td>MM_PLUS</td>\n",
       "      <td>KODEX 단기채권PLUS</td>\n",
       "      <td>100050.0</td>\n",
       "      <td>10160.0</td>\n",
       "      <td>508.874866</td>\n",
       "      <td>Fixed Income</td>\n",
       "    </tr>\n",
       "    <tr>\n",
       "      <th>2</th>\n",
       "      <td>2019-01-02</td>\n",
       "      <td>2</td>\n",
       "      <td>A196230</td>\n",
       "      <td>0.207716</td>\n",
       "      <td>BOK_D.4</td>\n",
       "      <td>KBSTAR 단기통안채</td>\n",
       "      <td>101423.0</td>\n",
       "      <td>393085.0</td>\n",
       "      <td>16568.430895</td>\n",
       "      <td>Fixed Income</td>\n",
       "    </tr>\n",
       "    <tr>\n",
       "      <th>3</th>\n",
       "      <td>2019-01-02</td>\n",
       "      <td>2</td>\n",
       "      <td>A114260</td>\n",
       "      <td>0.100000</td>\n",
       "      <td>KTB_D3</td>\n",
       "      <td>KODEX 국고채3년</td>\n",
       "      <td>55690.0</td>\n",
       "      <td>5449.0</td>\n",
       "      <td>251.127486</td>\n",
       "      <td>Fixed Income</td>\n",
       "    </tr>\n",
       "    <tr>\n",
       "      <th>4</th>\n",
       "      <td>2019-01-02</td>\n",
       "      <td>2</td>\n",
       "      <td>A122260</td>\n",
       "      <td>0.092284</td>\n",
       "      <td>BOK_D1</td>\n",
       "      <td>KOSEF 통안채1년</td>\n",
       "      <td>97761.0</td>\n",
       "      <td>42453.0</td>\n",
       "      <td>13238.397304</td>\n",
       "      <td>Fixed Income</td>\n",
       "    </tr>\n",
       "    <tr>\n",
       "      <th>...</th>\n",
       "      <td>...</td>\n",
       "      <td>...</td>\n",
       "      <td>...</td>\n",
       "      <td>...</td>\n",
       "      <td>...</td>\n",
       "      <td>...</td>\n",
       "      <td>...</td>\n",
       "      <td>...</td>\n",
       "      <td>...</td>\n",
       "      <td>...</td>\n",
       "    </tr>\n",
       "    <tr>\n",
       "      <th>26996</th>\n",
       "      <td>2021-04-23</td>\n",
       "      <td>4</td>\n",
       "      <td>A278540</td>\n",
       "      <td>0.240000</td>\n",
       "      <td>MSCI_KR</td>\n",
       "      <td>KODEX MSCI Korea TR</td>\n",
       "      <td>13850.0</td>\n",
       "      <td>347864.0</td>\n",
       "      <td>17229.396712</td>\n",
       "      <td>Equity</td>\n",
       "    </tr>\n",
       "    <tr>\n",
       "      <th>26997</th>\n",
       "      <td>2021-04-23</td>\n",
       "      <td>4</td>\n",
       "      <td>A157490</td>\n",
       "      <td>0.240000</td>\n",
       "      <td>SW</td>\n",
       "      <td>TIGER 소프트웨어</td>\n",
       "      <td>17495.0</td>\n",
       "      <td>83102.0</td>\n",
       "      <td>2580.062224</td>\n",
       "      <td>Equity</td>\n",
       "    </tr>\n",
       "    <tr>\n",
       "      <th>26998</th>\n",
       "      <td>2021-04-23</td>\n",
       "      <td>4</td>\n",
       "      <td>A266370</td>\n",
       "      <td>0.136000</td>\n",
       "      <td>IT</td>\n",
       "      <td>KODEX IT</td>\n",
       "      <td>21690.0</td>\n",
       "      <td>11720.0</td>\n",
       "      <td>1123.962539</td>\n",
       "      <td>Equity</td>\n",
       "    </tr>\n",
       "    <tr>\n",
       "      <th>26999</th>\n",
       "      <td>2021-04-23</td>\n",
       "      <td>4</td>\n",
       "      <td>A069500</td>\n",
       "      <td>0.084000</td>\n",
       "      <td>K200</td>\n",
       "      <td>KODEX 200</td>\n",
       "      <td>43425.0</td>\n",
       "      <td>4199882.0</td>\n",
       "      <td>392405.665820</td>\n",
       "      <td>Equity</td>\n",
       "    </tr>\n",
       "    <tr>\n",
       "      <th>27000</th>\n",
       "      <td>2021-04-23</td>\n",
       "      <td>4</td>\n",
       "      <td>A114260</td>\n",
       "      <td>0.060000</td>\n",
       "      <td>KTB_D3</td>\n",
       "      <td>KODEX 국고채3년</td>\n",
       "      <td>58095.0</td>\n",
       "      <td>3486.0</td>\n",
       "      <td>933.361781</td>\n",
       "      <td>Fixed Income</td>\n",
       "    </tr>\n",
       "  </tbody>\n",
       "</table>\n",
       "<p>27001 rows × 10 columns</p>\n",
       "</div>"
      ],
      "text/plain": [
       "             date  risk_profile itemcode   weights tracking_code  \\\n",
       "0      2019-01-02             2  A273130  0.240000   ACT_BOND_D4   \n",
       "1      2019-01-02             2  A214980  0.240000       MM_PLUS   \n",
       "2      2019-01-02             2  A196230  0.207716       BOK_D.4   \n",
       "3      2019-01-02             2  A114260  0.100000        KTB_D3   \n",
       "4      2019-01-02             2  A122260  0.092284        BOK_D1   \n",
       "...           ...           ...      ...       ...           ...   \n",
       "26996  2021-04-23             4  A278540  0.240000       MSCI_KR   \n",
       "26997  2021-04-23             4  A157490  0.240000            SW   \n",
       "26998  2021-04-23             4  A266370  0.136000            IT   \n",
       "26999  2021-04-23             4  A069500  0.084000          K200   \n",
       "27000  2021-04-23             4  A114260  0.060000        KTB_D3   \n",
       "\n",
       "                   itemname     price     volume  trading_amt_mln  \\\n",
       "0      KODEX 종합채권(AA-이상)액티브  104320.0    26468.0       858.104496   \n",
       "1            KODEX 단기채권PLUS  100050.0    10160.0       508.874866   \n",
       "2              KBSTAR 단기통안채  101423.0   393085.0     16568.430895   \n",
       "3               KODEX 국고채3년   55690.0     5449.0       251.127486   \n",
       "4               KOSEF 통안채1년   97761.0    42453.0     13238.397304   \n",
       "...                     ...       ...        ...              ...   \n",
       "26996   KODEX MSCI Korea TR   13850.0   347864.0     17229.396712   \n",
       "26997           TIGER 소프트웨어   17495.0    83102.0      2580.062224   \n",
       "26998              KODEX IT   21690.0    11720.0      1123.962539   \n",
       "26999             KODEX 200   43425.0  4199882.0    392405.665820   \n",
       "27000           KODEX 국고채3년   58095.0     3486.0       933.361781   \n",
       "\n",
       "        asset_class  \n",
       "0      Fixed Income  \n",
       "1      Fixed Income  \n",
       "2      Fixed Income  \n",
       "3      Fixed Income  \n",
       "4      Fixed Income  \n",
       "...             ...  \n",
       "26996        Equity  \n",
       "26997        Equity  \n",
       "26998        Equity  \n",
       "26999        Equity  \n",
       "27000  Fixed Income  \n",
       "\n",
       "[27001 rows x 10 columns]"
      ]
     },
     "execution_count": 24,
     "metadata": {},
     "output_type": "execute_result"
    }
   ],
   "source": [
    "df"
   ]
  },
  {
   "cell_type": "code",
   "execution_count": 25,
   "id": "rocky-recycling",
   "metadata": {
    "ExecuteTime": {
     "end_time": "2021-04-27T01:16:00.149065Z",
     "start_time": "2021-04-27T01:16:00.133410Z"
    }
   },
   "outputs": [],
   "source": [
    "df.to_pickle(access_path + 'advised_portfolios.pkl')"
   ]
  },
  {
   "cell_type": "code",
   "execution_count": 26,
   "id": "international-steering",
   "metadata": {
    "ExecuteTime": {
     "end_time": "2021-04-27T01:19:43.247823Z",
     "start_time": "2021-04-27T01:19:43.242781Z"
    }
   },
   "outputs": [],
   "source": [
    "# create a dataframe of dates\n",
    "df_dt = pd.DataFrame({'Dates': pd.date_range(\"2021-03-20\", \"2021-04-23\")})\n",
    "\n",
    "dates = df_dt.Dates.dt.strftime('%Y-%m-%d').to_list()"
   ]
  },
  {
   "cell_type": "code",
   "execution_count": 27,
   "id": "billion-charge",
   "metadata": {
    "ExecuteTime": {
     "end_time": "2021-04-27T01:19:44.434176Z",
     "start_time": "2021-04-27T01:19:44.430118Z"
    }
   },
   "outputs": [
    {
     "data": {
      "text/plain": [
       "['2021-03-20',\n",
       " '2021-03-21',\n",
       " '2021-03-22',\n",
       " '2021-03-23',\n",
       " '2021-03-24',\n",
       " '2021-03-25',\n",
       " '2021-03-26',\n",
       " '2021-03-27',\n",
       " '2021-03-28',\n",
       " '2021-03-29',\n",
       " '2021-03-30',\n",
       " '2021-03-31',\n",
       " '2021-04-01',\n",
       " '2021-04-02',\n",
       " '2021-04-03',\n",
       " '2021-04-04',\n",
       " '2021-04-05',\n",
       " '2021-04-06',\n",
       " '2021-04-07',\n",
       " '2021-04-08',\n",
       " '2021-04-09',\n",
       " '2021-04-10',\n",
       " '2021-04-11',\n",
       " '2021-04-12',\n",
       " '2021-04-13',\n",
       " '2021-04-14',\n",
       " '2021-04-15',\n",
       " '2021-04-16',\n",
       " '2021-04-17',\n",
       " '2021-04-18',\n",
       " '2021-04-19',\n",
       " '2021-04-20',\n",
       " '2021-04-21',\n",
       " '2021-04-22',\n",
       " '2021-04-23']"
      ]
     },
     "execution_count": 27,
     "metadata": {},
     "output_type": "execute_result"
    }
   ],
   "source": [
    "dates"
   ]
  },
  {
   "cell_type": "code",
   "execution_count": null,
   "id": "military-infrastructure",
   "metadata": {},
   "outputs": [],
   "source": []
  }
 ],
 "metadata": {
  "kernelspec": {
   "display_name": "Python 3",
   "language": "python",
   "name": "python3"
  },
  "language_info": {
   "codemirror_mode": {
    "name": "ipython",
    "version": 3
   },
   "file_extension": ".py",
   "mimetype": "text/x-python",
   "name": "python",
   "nbconvert_exporter": "python",
   "pygments_lexer": "ipython3",
   "version": "3.8.8"
  }
 },
 "nbformat": 4,
 "nbformat_minor": 5
}
