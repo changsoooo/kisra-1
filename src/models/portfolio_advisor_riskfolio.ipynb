{
 "cells": [
  {
   "cell_type": "code",
   "execution_count": 505,
   "metadata": {
    "ExecuteTime": {
     "end_time": "2021-03-13T21:42:42.931228Z",
     "start_time": "2021-03-13T21:42:42.599687Z"
    }
   },
   "outputs": [
    {
     "name": "stdout",
     "output_type": "stream",
     "text": [
      "The autoreload extension is already loaded. To reload it, use:\n",
      "  %reload_ext autoreload\n"
     ]
    }
   ],
   "source": [
    "import numpy as np\n",
    "import pandas as pd\n",
    "\n",
    "%load_ext autoreload\n",
    "%autoreload"
   ]
  },
  {
   "cell_type": "markdown",
   "metadata": {},
   "source": [
    "## Load external data"
   ]
  },
  {
   "cell_type": "code",
   "execution_count": 313,
   "metadata": {
    "ExecuteTime": {
     "end_time": "2021-03-13T13:58:13.785910Z",
     "start_time": "2021-03-13T13:58:13.782953Z"
    }
   },
   "outputs": [],
   "source": [
    "freq = 'w'\n",
    "risk_profile = 4\n",
    "current_date='2020-03-30'"
   ]
  },
  {
   "cell_type": "markdown",
   "metadata": {},
   "source": [
    "#### Prices"
   ]
  },
  {
   "cell_type": "code",
   "execution_count": 314,
   "metadata": {
    "ExecuteTime": {
     "end_time": "2021-03-13T13:58:14.071705Z",
     "start_time": "2021-03-13T13:58:14.066227Z"
    }
   },
   "outputs": [],
   "source": [
    "filepath = '../../data/external/'\n",
    "filename = 'price_db_' + freq + '.pkl'\n",
    "price_db = pd.read_pickle(filepath+filename)"
   ]
  },
  {
   "cell_type": "markdown",
   "metadata": {},
   "source": [
    "Make `df_rt`, a matrix of log returns of all eligible **instruments** in the universe with:\n",
    "- Columns: itemcode\n",
    "- Rows: date"
   ]
  },
  {
   "cell_type": "code",
   "execution_count": 315,
   "metadata": {
    "ExecuteTime": {
     "end_time": "2021-03-13T13:58:14.145200Z",
     "start_time": "2021-03-13T13:58:14.133246Z"
    }
   },
   "outputs": [],
   "source": [
    "df_rt = price_db[price_db.itemtype=='ETF'].pivot(index='date', columns='itemcode', values='ret').dropna()"
   ]
  },
  {
   "cell_type": "markdown",
   "metadata": {},
   "source": [
    "## Load portfolio constraints"
   ]
  },
  {
   "cell_type": "code",
   "execution_count": 316,
   "metadata": {
    "ExecuteTime": {
     "end_time": "2021-03-13T13:58:14.203573Z",
     "start_time": "2021-03-13T13:58:14.200811Z"
    }
   },
   "outputs": [],
   "source": [
    "import riskfolio.ConstraintsFunctions as cf\n",
    "import utils"
   ]
  },
  {
   "cell_type": "markdown",
   "metadata": {},
   "source": [
    "#### Load asset classification and constraints information\n",
    "- `asset_classes` <- `universe` <- tradable_instruments.pkl left join with instruments_m.pkl\n",
    "- `constraints` <- constraints.pkl"
   ]
  },
  {
   "cell_type": "code",
   "execution_count": 317,
   "metadata": {
    "ExecuteTime": {
     "end_time": "2021-03-13T13:58:14.314842Z",
     "start_time": "2021-03-13T13:58:14.302409Z"
    }
   },
   "outputs": [],
   "source": [
    "# instruments_m: 투자가능 종목들 목록 (현재 시점의 거래금액, 시총 보고 뽑음)\n",
    "filepath = '../../data/processed/'\n",
    "filename = 'instruments_m.pkl'\n",
    "instruments_m = pd.read_pickle(filepath+filename)\n",
    "\n",
    "# simulatable_instruments: 상장된 지 3년 넘은 종목 (시뮬레이션을 위해 필요한 요건)\n",
    "filepath = '../../data/external/'\n",
    "filename = 'simulatable_instruments.pkl'\n",
    "simulatable_instruments = pd.read_pickle(filepath+filename)\n",
    "\n",
    "# 사용자가 지정한 제약조건 테이블. Aw>=B 형식으로 되어 있어 사람이 이해하기 편함.\n",
    "filepath = '../../data/processed/'\n",
    "filename = 'constraints.pkl'\n",
    "df_constraints = pd.read_pickle(filepath+filename)\n",
    "\n",
    "universe = pd.merge(simulatable_instruments, instruments_m, left_on='itemcode', right_on='itemcode', how='left')"
   ]
  },
  {
   "cell_type": "code",
   "execution_count": 318,
   "metadata": {
    "ExecuteTime": {
     "end_time": "2021-03-13T13:58:14.340639Z",
     "start_time": "2021-03-13T13:58:14.335139Z"
    }
   },
   "outputs": [],
   "source": [
    "universe = universe.set_index(['itemcode'], drop=True).loc[df_rt.columns]\n",
    "universe = universe.reset_index()"
   ]
  },
  {
   "cell_type": "code",
   "execution_count": 319,
   "metadata": {
    "ExecuteTime": {
     "end_time": "2021-03-13T13:58:14.373334Z",
     "start_time": "2021-03-13T13:58:14.369202Z"
    }
   },
   "outputs": [],
   "source": [
    "asset_classes = utils.get_asset_classes(universe)"
   ]
  },
  {
   "cell_type": "markdown",
   "metadata": {},
   "source": [
    "#### Remove strategy constraints for now."
   ]
  },
  {
   "cell_type": "code",
   "execution_count": 320,
   "metadata": {
    "ExecuteTime": {
     "end_time": "2021-03-13T13:58:14.437578Z",
     "start_time": "2021-03-13T13:58:14.435098Z"
    }
   },
   "outputs": [],
   "source": [
    "# df_constraints = df_constraints.drop(df_constraints[df_constraints.Set=='Strategy'].index)\n",
    "# df_constraints = df_constraints.drop(df_constraints[df_constraints.Set=='DC risky asset'].index)"
   ]
  },
  {
   "cell_type": "code",
   "execution_count": 321,
   "metadata": {
    "ExecuteTime": {
     "end_time": "2021-03-13T13:58:14.508526Z",
     "start_time": "2021-03-13T13:58:14.502714Z"
    }
   },
   "outputs": [],
   "source": [
    "constraints = df_constraints[np.logical_or(\n",
    "    df_constraints.risk_profile == str(risk_profile), df_constraints.risk_profile == 'Common')].drop(['risk_profile'], axis=1)\n",
    "\n",
    "# constraints.loc[0, 'Type'] = 'Classes'\n",
    "# constraints.loc[0, 'Weight'] = 0.4\n",
    "# constraints.loc[0, 'Sign'] = '<='\n",
    "\n",
    "# constraints.loc[10, 'Weight'] = 0.25\n",
    "# constraints.loc[9, 'Factor'] = 5\n",
    "# constraints.loc[11, 'Sign'] = '<='\n",
    "# constraints.loc[11, 'Weight'] = 0.7\n",
    "# constraints.loc[:, 'Disabled'] = False\n",
    "# new_c = constraints.loc[4,:].copy()\n",
    "# new_c['Sign'] = '>='\n",
    "# new_c['Weight'] = 0.6\n",
    "# constraints = pd.concat([pd.DataFrame(new_c).T, constraints]).reset_index(drop=True)"
   ]
  },
  {
   "cell_type": "code",
   "execution_count": 322,
   "metadata": {
    "ExecuteTime": {
     "end_time": "2021-03-13T13:58:14.557807Z",
     "start_time": "2021-03-13T13:58:14.539680Z"
    }
   },
   "outputs": [
    {
     "data": {
      "text/html": [
       "<div>\n",
       "<style scoped>\n",
       "    .dataframe tbody tr th:only-of-type {\n",
       "        vertical-align: middle;\n",
       "    }\n",
       "\n",
       "    .dataframe tbody tr th {\n",
       "        vertical-align: top;\n",
       "    }\n",
       "\n",
       "    .dataframe thead th {\n",
       "        text-align: right;\n",
       "    }\n",
       "</style>\n",
       "<table border=\"1\" class=\"dataframe\">\n",
       "  <thead>\n",
       "    <tr style=\"text-align: right;\">\n",
       "      <th></th>\n",
       "      <th>Disabled</th>\n",
       "      <th>Type</th>\n",
       "      <th>Set</th>\n",
       "      <th>Position</th>\n",
       "      <th>Sign</th>\n",
       "      <th>Weight</th>\n",
       "      <th>Type Relative</th>\n",
       "      <th>Relative Set</th>\n",
       "      <th>Relative</th>\n",
       "      <th>Factor</th>\n",
       "    </tr>\n",
       "  </thead>\n",
       "  <tbody>\n",
       "    <tr>\n",
       "      <th>10</th>\n",
       "      <td>False</td>\n",
       "      <td>Classes</td>\n",
       "      <td>Asset class</td>\n",
       "      <td>Equity</td>\n",
       "      <td>&gt;=</td>\n",
       "      <td>0.50</td>\n",
       "      <td>NaN</td>\n",
       "      <td>NaN</td>\n",
       "      <td>NaN</td>\n",
       "      <td>NaN</td>\n",
       "    </tr>\n",
       "    <tr>\n",
       "      <th>11</th>\n",
       "      <td>False</td>\n",
       "      <td>Classes</td>\n",
       "      <td>Asset class</td>\n",
       "      <td>Equity</td>\n",
       "      <td>&lt;=</td>\n",
       "      <td>0.70</td>\n",
       "      <td>NaN</td>\n",
       "      <td>NaN</td>\n",
       "      <td>NaN</td>\n",
       "      <td>NaN</td>\n",
       "    </tr>\n",
       "    <tr>\n",
       "      <th>12</th>\n",
       "      <td>False</td>\n",
       "      <td>Classes</td>\n",
       "      <td>Asset class</td>\n",
       "      <td>Fixed Income</td>\n",
       "      <td>&lt;=</td>\n",
       "      <td>0.50</td>\n",
       "      <td>NaN</td>\n",
       "      <td>NaN</td>\n",
       "      <td>NaN</td>\n",
       "      <td>NaN</td>\n",
       "    </tr>\n",
       "    <tr>\n",
       "      <th>13</th>\n",
       "      <td>False</td>\n",
       "      <td>Classes</td>\n",
       "      <td>Asset class</td>\n",
       "      <td>Alternative</td>\n",
       "      <td>&lt;=</td>\n",
       "      <td>0.20</td>\n",
       "      <td>NaN</td>\n",
       "      <td>NaN</td>\n",
       "      <td>NaN</td>\n",
       "      <td>NaN</td>\n",
       "    </tr>\n",
       "    <tr>\n",
       "      <th>16</th>\n",
       "      <td>False</td>\n",
       "      <td>Classes</td>\n",
       "      <td>Strategy</td>\n",
       "      <td>Core</td>\n",
       "      <td>&gt;=</td>\n",
       "      <td>NaN</td>\n",
       "      <td>Classes</td>\n",
       "      <td>Strategy</td>\n",
       "      <td>Satellite</td>\n",
       "      <td>1.5</td>\n",
       "    </tr>\n",
       "    <tr>\n",
       "      <th>17</th>\n",
       "      <td>False</td>\n",
       "      <td>All Assets</td>\n",
       "      <td>NaN</td>\n",
       "      <td>NaN</td>\n",
       "      <td>&lt;=</td>\n",
       "      <td>0.25</td>\n",
       "      <td>NaN</td>\n",
       "      <td>NaN</td>\n",
       "      <td>NaN</td>\n",
       "      <td>NaN</td>\n",
       "    </tr>\n",
       "    <tr>\n",
       "      <th>18</th>\n",
       "      <td>False</td>\n",
       "      <td>Classes</td>\n",
       "      <td>DC risky asset</td>\n",
       "      <td>Y</td>\n",
       "      <td>&lt;=</td>\n",
       "      <td>0.70</td>\n",
       "      <td>NaN</td>\n",
       "      <td>NaN</td>\n",
       "      <td>NaN</td>\n",
       "      <td>NaN</td>\n",
       "    </tr>\n",
       "    <tr>\n",
       "      <th>19</th>\n",
       "      <td>False</td>\n",
       "      <td>Classes</td>\n",
       "      <td>Issuer</td>\n",
       "      <td>KINDEX</td>\n",
       "      <td>&lt;=</td>\n",
       "      <td>0.60</td>\n",
       "      <td>NaN</td>\n",
       "      <td>NaN</td>\n",
       "      <td>NaN</td>\n",
       "      <td>NaN</td>\n",
       "    </tr>\n",
       "    <tr>\n",
       "      <th>20</th>\n",
       "      <td>False</td>\n",
       "      <td>Classes</td>\n",
       "      <td>Issuer</td>\n",
       "      <td>KODEX</td>\n",
       "      <td>&lt;=</td>\n",
       "      <td>0.60</td>\n",
       "      <td>NaN</td>\n",
       "      <td>NaN</td>\n",
       "      <td>NaN</td>\n",
       "      <td>NaN</td>\n",
       "    </tr>\n",
       "    <tr>\n",
       "      <th>21</th>\n",
       "      <td>False</td>\n",
       "      <td>Classes</td>\n",
       "      <td>Issuer</td>\n",
       "      <td>TIGER</td>\n",
       "      <td>&lt;=</td>\n",
       "      <td>0.60</td>\n",
       "      <td>NaN</td>\n",
       "      <td>NaN</td>\n",
       "      <td>NaN</td>\n",
       "      <td>NaN</td>\n",
       "    </tr>\n",
       "    <tr>\n",
       "      <th>22</th>\n",
       "      <td>False</td>\n",
       "      <td>Classes</td>\n",
       "      <td>Issuer</td>\n",
       "      <td>KBSTAR</td>\n",
       "      <td>&lt;=</td>\n",
       "      <td>0.60</td>\n",
       "      <td>NaN</td>\n",
       "      <td>NaN</td>\n",
       "      <td>NaN</td>\n",
       "      <td>NaN</td>\n",
       "    </tr>\n",
       "    <tr>\n",
       "      <th>23</th>\n",
       "      <td>False</td>\n",
       "      <td>Classes</td>\n",
       "      <td>Issuer</td>\n",
       "      <td>KOSEF</td>\n",
       "      <td>&lt;=</td>\n",
       "      <td>0.60</td>\n",
       "      <td>NaN</td>\n",
       "      <td>NaN</td>\n",
       "      <td>NaN</td>\n",
       "      <td>NaN</td>\n",
       "    </tr>\n",
       "    <tr>\n",
       "      <th>24</th>\n",
       "      <td>False</td>\n",
       "      <td>Classes</td>\n",
       "      <td>Issuer</td>\n",
       "      <td>ARIRANG</td>\n",
       "      <td>&lt;=</td>\n",
       "      <td>0.60</td>\n",
       "      <td>NaN</td>\n",
       "      <td>NaN</td>\n",
       "      <td>NaN</td>\n",
       "      <td>NaN</td>\n",
       "    </tr>\n",
       "    <tr>\n",
       "      <th>25</th>\n",
       "      <td>False</td>\n",
       "      <td>Classes</td>\n",
       "      <td>Issuer</td>\n",
       "      <td>HANARO</td>\n",
       "      <td>&lt;=</td>\n",
       "      <td>0.60</td>\n",
       "      <td>NaN</td>\n",
       "      <td>NaN</td>\n",
       "      <td>NaN</td>\n",
       "      <td>NaN</td>\n",
       "    </tr>\n",
       "  </tbody>\n",
       "</table>\n",
       "</div>"
      ],
      "text/plain": [
       "    Disabled        Type             Set      Position Sign  Weight  \\\n",
       "10     False     Classes     Asset class        Equity   >=    0.50   \n",
       "11     False     Classes     Asset class        Equity   <=    0.70   \n",
       "12     False     Classes     Asset class  Fixed Income   <=    0.50   \n",
       "13     False     Classes     Asset class   Alternative   <=    0.20   \n",
       "16     False     Classes        Strategy          Core   >=     NaN   \n",
       "17     False  All Assets             NaN           NaN   <=    0.25   \n",
       "18     False     Classes  DC risky asset             Y   <=    0.70   \n",
       "19     False     Classes          Issuer        KINDEX   <=    0.60   \n",
       "20     False     Classes          Issuer         KODEX   <=    0.60   \n",
       "21     False     Classes          Issuer         TIGER   <=    0.60   \n",
       "22     False     Classes          Issuer        KBSTAR   <=    0.60   \n",
       "23     False     Classes          Issuer         KOSEF   <=    0.60   \n",
       "24     False     Classes          Issuer       ARIRANG   <=    0.60   \n",
       "25     False     Classes          Issuer        HANARO   <=    0.60   \n",
       "\n",
       "   Type Relative Relative Set   Relative  Factor  \n",
       "10           NaN          NaN        NaN     NaN  \n",
       "11           NaN          NaN        NaN     NaN  \n",
       "12           NaN          NaN        NaN     NaN  \n",
       "13           NaN          NaN        NaN     NaN  \n",
       "16       Classes     Strategy  Satellite     1.5  \n",
       "17           NaN          NaN        NaN     NaN  \n",
       "18           NaN          NaN        NaN     NaN  \n",
       "19           NaN          NaN        NaN     NaN  \n",
       "20           NaN          NaN        NaN     NaN  \n",
       "21           NaN          NaN        NaN     NaN  \n",
       "22           NaN          NaN        NaN     NaN  \n",
       "23           NaN          NaN        NaN     NaN  \n",
       "24           NaN          NaN        NaN     NaN  \n",
       "25           NaN          NaN        NaN     NaN  "
      ]
     },
     "execution_count": 322,
     "metadata": {},
     "output_type": "execute_result"
    }
   ],
   "source": [
    "constraints"
   ]
  },
  {
   "cell_type": "markdown",
   "metadata": {
    "ExecuteTime": {
     "end_time": "2021-03-11T03:37:45.382574Z",
     "start_time": "2021-03-11T03:37:45.367574Z"
    }
   },
   "source": [
    "#### We have constraints matrice `A` and `B` such that\n",
    "- $Aw \\ge B$."
   ]
  },
  {
   "cell_type": "code",
   "execution_count": 323,
   "metadata": {
    "ExecuteTime": {
     "end_time": "2021-03-13T13:58:14.641858Z",
     "start_time": "2021-03-13T13:58:14.635694Z"
    },
    "scrolled": false
   },
   "outputs": [],
   "source": [
    "A, B = cf.assets_constraints(constraints, asset_classes)"
   ]
  },
  {
   "cell_type": "markdown",
   "metadata": {},
   "source": [
    "## Estimaing mean risk portfolios"
   ]
  },
  {
   "cell_type": "markdown",
   "metadata": {},
   "source": [
    "- Using ***CDaR*** instead of variance as a risk measure.\n",
    "  - Conditional Drawdown at Risk(CDaR) is the average drawdown for all the instances that drawdown **exceeded** a certain threshold. Drawdown is a measure of downside risk.\n",
    "  - https://breakingdownfinance.com/finance-topics/alternative-investments/conditional-drawdown-at-risk-cdar/"
   ]
  },
  {
   "cell_type": "code",
   "execution_count": 324,
   "metadata": {
    "ExecuteTime": {
     "end_time": "2021-03-13T13:58:14.740149Z",
     "start_time": "2021-03-13T13:58:14.737484Z"
    }
   },
   "outputs": [],
   "source": [
    "import riskfolio.Portfolio as pf\n",
    "import datetime"
   ]
  },
  {
   "cell_type": "markdown",
   "metadata": {},
   "source": [
    "`y` is a matrix of log returns of all eligible instruments in the universe."
   ]
  },
  {
   "cell_type": "code",
   "execution_count": 325,
   "metadata": {
    "ExecuteTime": {
     "end_time": "2021-03-13T13:58:15.173023Z",
     "start_time": "2021-03-13T13:58:15.169604Z"
    }
   },
   "outputs": [],
   "source": [
    "current_date = '2020-06-10'\n",
    "y = df_rt[df_rt.index <= current_date]"
   ]
  },
  {
   "cell_type": "code",
   "execution_count": 326,
   "metadata": {
    "ExecuteTime": {
     "end_time": "2021-03-13T13:58:15.427081Z",
     "start_time": "2021-03-13T13:58:15.419049Z"
    },
    "scrolled": false
   },
   "outputs": [],
   "source": [
    "df_rf = price_db[price_db.itemtype=='riskfree'].set_index('date', drop=True)\n",
    "current_idx = df_rf.index.asof(datetime.datetime.strptime(current_date, '%Y-%m-%d'))\n",
    "rf = df_rf.loc[current_idx].price  # risk free rate"
   ]
  },
  {
   "cell_type": "markdown",
   "metadata": {},
   "source": [
    "#### Set a log-return matrix `y`"
   ]
  },
  {
   "cell_type": "code",
   "execution_count": 327,
   "metadata": {
    "ExecuteTime": {
     "end_time": "2021-03-13T13:58:15.488496Z",
     "start_time": "2021-03-13T13:58:15.485588Z"
    }
   },
   "outputs": [],
   "source": [
    "port = pf.Portfolio(returns=y, sht=False, alpha=0.05) "
   ]
  },
  {
   "cell_type": "markdown",
   "metadata": {},
   "source": [
    "#### Set estimating methods\n",
    "- `method_mu` to estimate expected returns.\n",
    "- `method_cov` to estimated a covariance matrix."
   ]
  },
  {
   "cell_type": "code",
   "execution_count": 328,
   "metadata": {
    "ExecuteTime": {
     "end_time": "2021-03-13T13:58:15.560283Z",
     "start_time": "2021-03-13T13:58:15.552692Z"
    }
   },
   "outputs": [],
   "source": [
    "method_mu='hist'  # Method to estimate expected returns; ewma with adjust=True. See pandas.DataFrame.ewm for more details.\n",
    "method_cov='oas' # Method to estimate covariance matrix; ewma with adjust=True\n",
    "decay=0.97\n",
    "\n",
    "port.assets_stats(method_mu=method_mu, method_cov=method_cov, d=decay)"
   ]
  },
  {
   "cell_type": "markdown",
   "metadata": {},
   "source": [
    "#### Apply constraints"
   ]
  },
  {
   "cell_type": "code",
   "execution_count": 432,
   "metadata": {
    "ExecuteTime": {
     "end_time": "2021-03-13T14:20:41.693813Z",
     "start_time": "2021-03-13T14:20:41.690270Z"
    },
    "scrolled": false
   },
   "outputs": [],
   "source": [
    "port.ainequality = A\n",
    "port.binequality = B"
   ]
  },
  {
   "cell_type": "code",
   "execution_count": 507,
   "metadata": {
    "ExecuteTime": {
     "end_time": "2021-03-13T21:45:24.361219Z",
     "start_time": "2021-03-13T21:45:24.304706Z"
    }
   },
   "outputs": [],
   "source": [
    "# Estimate optimal portfolio:\n",
    "model='Classic' # Could be Classic (historical), BL (Black Litterman) or FM (Factor Model)\n",
    "rm = 'CDaR' # Risk measure used, this time will be variance\n",
    "obj = 'MaxRet' if risk_profile==4 else 'MinRisk' # Objective function, could be MinRisk, MaxRet, Utility or Sharpe\n",
    "\n",
    "w = port.optimization(model=model, rm=rm, obj=obj, rf=rf)"
   ]
  },
  {
   "cell_type": "code",
   "execution_count": 508,
   "metadata": {
    "ExecuteTime": {
     "end_time": "2021-03-13T21:45:24.906296Z",
     "start_time": "2021-03-13T21:45:24.896508Z"
    }
   },
   "outputs": [],
   "source": [
    "w = pd.merge(w, universe.loc[:,['itemcode', 'tracking_code', 'itemname']], left_index=True, right_on='itemcode', how='left')\n",
    "w = w[['weights', 'tracking_code', 'itemcode', 'itemname']].set_index('itemcode', drop=True)\n",
    "eps = 1e-09\n",
    "w.loc[np.abs(w.weights)<eps,'weights'] = 0"
   ]
  },
  {
   "cell_type": "markdown",
   "metadata": {},
   "source": [
    "#### Put small weights (<5%) into one category, namely, others."
   ]
  },
  {
   "cell_type": "code",
   "execution_count": 509,
   "metadata": {
    "ExecuteTime": {
     "end_time": "2021-03-13T21:45:25.186536Z",
     "start_time": "2021-03-13T21:45:25.179716Z"
    }
   },
   "outputs": [],
   "source": [
    "small_wt = w[w.weights < 0.0495].weights.sum()\n",
    "w_others = pd.DataFrame.from_dict(\n",
    "    {'OTHERS': [w[w.weights < 0.0495].weights.sum(), 'Others', 'Others']},\n",
    "    orient='index',\n",
    "    columns=w.columns) if small_wt >= 0.00495 else None"
   ]
  },
  {
   "cell_type": "code",
   "execution_count": 510,
   "metadata": {
    "ExecuteTime": {
     "end_time": "2021-03-13T21:45:25.217713Z",
     "start_time": "2021-03-13T21:45:25.212642Z"
    }
   },
   "outputs": [],
   "source": [
    "w_summary = pd.concat([w.drop(w[w.weights<0.0495].index), w_others])"
   ]
  },
  {
   "cell_type": "code",
   "execution_count": 511,
   "metadata": {
    "ExecuteTime": {
     "end_time": "2021-03-13T21:45:25.299870Z",
     "start_time": "2021-03-13T21:45:25.249663Z"
    }
   },
   "outputs": [
    {
     "data": {
      "application/vnd.plotly.v1+json": {
       "config": {
        "plotlyServerURL": "https://plot.ly"
       },
       "data": [
        {
         "domain": {
          "x": [
           0,
           1
          ],
          "y": [
           0,
           1
          ]
         },
         "hole": 0.5,
         "hovertemplate": "tracking_code=%{label}<br>weights=%{value}<extra></extra>",
         "labels": [
          "K200_IT",
          "KTB_D8",
          "SW",
          "MSCI_WO",
          "ACT_BOND_D4",
          "Others"
         ],
         "legendgroup": "",
         "name": "",
         "showlegend": true,
         "textinfo": "percent+label",
         "textposition": "inside",
         "type": "pie",
         "values": [
          0.1699999999724879,
          0.24999999992406882,
          0.24999999994396985,
          0.24999999998411035,
          0.04999999995480842,
          0.029999999989670668
         ]
        }
       ],
       "layout": {
        "legend": {
         "tracegroupgap": 0
        },
        "piecolorway": [
         "rgb(141,211,199)",
         "rgb(255,255,179)",
         "rgb(190,186,218)",
         "rgb(251,128,114)",
         "rgb(128,177,211)",
         "rgb(253,180,98)",
         "rgb(179,222,105)",
         "rgb(252,205,229)",
         "rgb(217,217,217)",
         "rgb(188,128,189)",
         "rgb(204,235,197)",
         "rgb(255,237,111)"
        ],
        "template": {
         "data": {
          "bar": [
           {
            "error_x": {
             "color": "#2a3f5f"
            },
            "error_y": {
             "color": "#2a3f5f"
            },
            "marker": {
             "line": {
              "color": "#E5ECF6",
              "width": 0.5
             }
            },
            "type": "bar"
           }
          ],
          "barpolar": [
           {
            "marker": {
             "line": {
              "color": "#E5ECF6",
              "width": 0.5
             }
            },
            "type": "barpolar"
           }
          ],
          "carpet": [
           {
            "aaxis": {
             "endlinecolor": "#2a3f5f",
             "gridcolor": "white",
             "linecolor": "white",
             "minorgridcolor": "white",
             "startlinecolor": "#2a3f5f"
            },
            "baxis": {
             "endlinecolor": "#2a3f5f",
             "gridcolor": "white",
             "linecolor": "white",
             "minorgridcolor": "white",
             "startlinecolor": "#2a3f5f"
            },
            "type": "carpet"
           }
          ],
          "choropleth": [
           {
            "colorbar": {
             "outlinewidth": 0,
             "ticks": ""
            },
            "type": "choropleth"
           }
          ],
          "contour": [
           {
            "colorbar": {
             "outlinewidth": 0,
             "ticks": ""
            },
            "colorscale": [
             [
              0,
              "#0d0887"
             ],
             [
              0.1111111111111111,
              "#46039f"
             ],
             [
              0.2222222222222222,
              "#7201a8"
             ],
             [
              0.3333333333333333,
              "#9c179e"
             ],
             [
              0.4444444444444444,
              "#bd3786"
             ],
             [
              0.5555555555555556,
              "#d8576b"
             ],
             [
              0.6666666666666666,
              "#ed7953"
             ],
             [
              0.7777777777777778,
              "#fb9f3a"
             ],
             [
              0.8888888888888888,
              "#fdca26"
             ],
             [
              1,
              "#f0f921"
             ]
            ],
            "type": "contour"
           }
          ],
          "contourcarpet": [
           {
            "colorbar": {
             "outlinewidth": 0,
             "ticks": ""
            },
            "type": "contourcarpet"
           }
          ],
          "heatmap": [
           {
            "colorbar": {
             "outlinewidth": 0,
             "ticks": ""
            },
            "colorscale": [
             [
              0,
              "#0d0887"
             ],
             [
              0.1111111111111111,
              "#46039f"
             ],
             [
              0.2222222222222222,
              "#7201a8"
             ],
             [
              0.3333333333333333,
              "#9c179e"
             ],
             [
              0.4444444444444444,
              "#bd3786"
             ],
             [
              0.5555555555555556,
              "#d8576b"
             ],
             [
              0.6666666666666666,
              "#ed7953"
             ],
             [
              0.7777777777777778,
              "#fb9f3a"
             ],
             [
              0.8888888888888888,
              "#fdca26"
             ],
             [
              1,
              "#f0f921"
             ]
            ],
            "type": "heatmap"
           }
          ],
          "heatmapgl": [
           {
            "colorbar": {
             "outlinewidth": 0,
             "ticks": ""
            },
            "colorscale": [
             [
              0,
              "#0d0887"
             ],
             [
              0.1111111111111111,
              "#46039f"
             ],
             [
              0.2222222222222222,
              "#7201a8"
             ],
             [
              0.3333333333333333,
              "#9c179e"
             ],
             [
              0.4444444444444444,
              "#bd3786"
             ],
             [
              0.5555555555555556,
              "#d8576b"
             ],
             [
              0.6666666666666666,
              "#ed7953"
             ],
             [
              0.7777777777777778,
              "#fb9f3a"
             ],
             [
              0.8888888888888888,
              "#fdca26"
             ],
             [
              1,
              "#f0f921"
             ]
            ],
            "type": "heatmapgl"
           }
          ],
          "histogram": [
           {
            "marker": {
             "colorbar": {
              "outlinewidth": 0,
              "ticks": ""
             }
            },
            "type": "histogram"
           }
          ],
          "histogram2d": [
           {
            "colorbar": {
             "outlinewidth": 0,
             "ticks": ""
            },
            "colorscale": [
             [
              0,
              "#0d0887"
             ],
             [
              0.1111111111111111,
              "#46039f"
             ],
             [
              0.2222222222222222,
              "#7201a8"
             ],
             [
              0.3333333333333333,
              "#9c179e"
             ],
             [
              0.4444444444444444,
              "#bd3786"
             ],
             [
              0.5555555555555556,
              "#d8576b"
             ],
             [
              0.6666666666666666,
              "#ed7953"
             ],
             [
              0.7777777777777778,
              "#fb9f3a"
             ],
             [
              0.8888888888888888,
              "#fdca26"
             ],
             [
              1,
              "#f0f921"
             ]
            ],
            "type": "histogram2d"
           }
          ],
          "histogram2dcontour": [
           {
            "colorbar": {
             "outlinewidth": 0,
             "ticks": ""
            },
            "colorscale": [
             [
              0,
              "#0d0887"
             ],
             [
              0.1111111111111111,
              "#46039f"
             ],
             [
              0.2222222222222222,
              "#7201a8"
             ],
             [
              0.3333333333333333,
              "#9c179e"
             ],
             [
              0.4444444444444444,
              "#bd3786"
             ],
             [
              0.5555555555555556,
              "#d8576b"
             ],
             [
              0.6666666666666666,
              "#ed7953"
             ],
             [
              0.7777777777777778,
              "#fb9f3a"
             ],
             [
              0.8888888888888888,
              "#fdca26"
             ],
             [
              1,
              "#f0f921"
             ]
            ],
            "type": "histogram2dcontour"
           }
          ],
          "mesh3d": [
           {
            "colorbar": {
             "outlinewidth": 0,
             "ticks": ""
            },
            "type": "mesh3d"
           }
          ],
          "parcoords": [
           {
            "line": {
             "colorbar": {
              "outlinewidth": 0,
              "ticks": ""
             }
            },
            "type": "parcoords"
           }
          ],
          "pie": [
           {
            "automargin": true,
            "type": "pie"
           }
          ],
          "scatter": [
           {
            "marker": {
             "colorbar": {
              "outlinewidth": 0,
              "ticks": ""
             }
            },
            "type": "scatter"
           }
          ],
          "scatter3d": [
           {
            "line": {
             "colorbar": {
              "outlinewidth": 0,
              "ticks": ""
             }
            },
            "marker": {
             "colorbar": {
              "outlinewidth": 0,
              "ticks": ""
             }
            },
            "type": "scatter3d"
           }
          ],
          "scattercarpet": [
           {
            "marker": {
             "colorbar": {
              "outlinewidth": 0,
              "ticks": ""
             }
            },
            "type": "scattercarpet"
           }
          ],
          "scattergeo": [
           {
            "marker": {
             "colorbar": {
              "outlinewidth": 0,
              "ticks": ""
             }
            },
            "type": "scattergeo"
           }
          ],
          "scattergl": [
           {
            "marker": {
             "colorbar": {
              "outlinewidth": 0,
              "ticks": ""
             }
            },
            "type": "scattergl"
           }
          ],
          "scattermapbox": [
           {
            "marker": {
             "colorbar": {
              "outlinewidth": 0,
              "ticks": ""
             }
            },
            "type": "scattermapbox"
           }
          ],
          "scatterpolar": [
           {
            "marker": {
             "colorbar": {
              "outlinewidth": 0,
              "ticks": ""
             }
            },
            "type": "scatterpolar"
           }
          ],
          "scatterpolargl": [
           {
            "marker": {
             "colorbar": {
              "outlinewidth": 0,
              "ticks": ""
             }
            },
            "type": "scatterpolargl"
           }
          ],
          "scatterternary": [
           {
            "marker": {
             "colorbar": {
              "outlinewidth": 0,
              "ticks": ""
             }
            },
            "type": "scatterternary"
           }
          ],
          "surface": [
           {
            "colorbar": {
             "outlinewidth": 0,
             "ticks": ""
            },
            "colorscale": [
             [
              0,
              "#0d0887"
             ],
             [
              0.1111111111111111,
              "#46039f"
             ],
             [
              0.2222222222222222,
              "#7201a8"
             ],
             [
              0.3333333333333333,
              "#9c179e"
             ],
             [
              0.4444444444444444,
              "#bd3786"
             ],
             [
              0.5555555555555556,
              "#d8576b"
             ],
             [
              0.6666666666666666,
              "#ed7953"
             ],
             [
              0.7777777777777778,
              "#fb9f3a"
             ],
             [
              0.8888888888888888,
              "#fdca26"
             ],
             [
              1,
              "#f0f921"
             ]
            ],
            "type": "surface"
           }
          ],
          "table": [
           {
            "cells": {
             "fill": {
              "color": "#EBF0F8"
             },
             "line": {
              "color": "white"
             }
            },
            "header": {
             "fill": {
              "color": "#C8D4E3"
             },
             "line": {
              "color": "white"
             }
            },
            "type": "table"
           }
          ]
         },
         "layout": {
          "annotationdefaults": {
           "arrowcolor": "#2a3f5f",
           "arrowhead": 0,
           "arrowwidth": 1
          },
          "autotypenumbers": "strict",
          "coloraxis": {
           "colorbar": {
            "outlinewidth": 0,
            "ticks": ""
           }
          },
          "colorscale": {
           "diverging": [
            [
             0,
             "#8e0152"
            ],
            [
             0.1,
             "#c51b7d"
            ],
            [
             0.2,
             "#de77ae"
            ],
            [
             0.3,
             "#f1b6da"
            ],
            [
             0.4,
             "#fde0ef"
            ],
            [
             0.5,
             "#f7f7f7"
            ],
            [
             0.6,
             "#e6f5d0"
            ],
            [
             0.7,
             "#b8e186"
            ],
            [
             0.8,
             "#7fbc41"
            ],
            [
             0.9,
             "#4d9221"
            ],
            [
             1,
             "#276419"
            ]
           ],
           "sequential": [
            [
             0,
             "#0d0887"
            ],
            [
             0.1111111111111111,
             "#46039f"
            ],
            [
             0.2222222222222222,
             "#7201a8"
            ],
            [
             0.3333333333333333,
             "#9c179e"
            ],
            [
             0.4444444444444444,
             "#bd3786"
            ],
            [
             0.5555555555555556,
             "#d8576b"
            ],
            [
             0.6666666666666666,
             "#ed7953"
            ],
            [
             0.7777777777777778,
             "#fb9f3a"
            ],
            [
             0.8888888888888888,
             "#fdca26"
            ],
            [
             1,
             "#f0f921"
            ]
           ],
           "sequentialminus": [
            [
             0,
             "#0d0887"
            ],
            [
             0.1111111111111111,
             "#46039f"
            ],
            [
             0.2222222222222222,
             "#7201a8"
            ],
            [
             0.3333333333333333,
             "#9c179e"
            ],
            [
             0.4444444444444444,
             "#bd3786"
            ],
            [
             0.5555555555555556,
             "#d8576b"
            ],
            [
             0.6666666666666666,
             "#ed7953"
            ],
            [
             0.7777777777777778,
             "#fb9f3a"
            ],
            [
             0.8888888888888888,
             "#fdca26"
            ],
            [
             1,
             "#f0f921"
            ]
           ]
          },
          "colorway": [
           "#636efa",
           "#EF553B",
           "#00cc96",
           "#ab63fa",
           "#FFA15A",
           "#19d3f3",
           "#FF6692",
           "#B6E880",
           "#FF97FF",
           "#FECB52"
          ],
          "font": {
           "color": "#2a3f5f"
          },
          "geo": {
           "bgcolor": "white",
           "lakecolor": "white",
           "landcolor": "#E5ECF6",
           "showlakes": true,
           "showland": true,
           "subunitcolor": "white"
          },
          "hoverlabel": {
           "align": "left"
          },
          "hovermode": "closest",
          "mapbox": {
           "style": "light"
          },
          "paper_bgcolor": "white",
          "plot_bgcolor": "#E5ECF6",
          "polar": {
           "angularaxis": {
            "gridcolor": "white",
            "linecolor": "white",
            "ticks": ""
           },
           "bgcolor": "#E5ECF6",
           "radialaxis": {
            "gridcolor": "white",
            "linecolor": "white",
            "ticks": ""
           }
          },
          "scene": {
           "xaxis": {
            "backgroundcolor": "#E5ECF6",
            "gridcolor": "white",
            "gridwidth": 2,
            "linecolor": "white",
            "showbackground": true,
            "ticks": "",
            "zerolinecolor": "white"
           },
           "yaxis": {
            "backgroundcolor": "#E5ECF6",
            "gridcolor": "white",
            "gridwidth": 2,
            "linecolor": "white",
            "showbackground": true,
            "ticks": "",
            "zerolinecolor": "white"
           },
           "zaxis": {
            "backgroundcolor": "#E5ECF6",
            "gridcolor": "white",
            "gridwidth": 2,
            "linecolor": "white",
            "showbackground": true,
            "ticks": "",
            "zerolinecolor": "white"
           }
          },
          "shapedefaults": {
           "line": {
            "color": "#2a3f5f"
           }
          },
          "ternary": {
           "aaxis": {
            "gridcolor": "white",
            "linecolor": "white",
            "ticks": ""
           },
           "baxis": {
            "gridcolor": "white",
            "linecolor": "white",
            "ticks": ""
           },
           "bgcolor": "#E5ECF6",
           "caxis": {
            "gridcolor": "white",
            "linecolor": "white",
            "ticks": ""
           }
          },
          "title": {
           "x": 0.05
          },
          "xaxis": {
           "automargin": true,
           "gridcolor": "white",
           "linecolor": "white",
           "ticks": "",
           "title": {
            "standoff": 15
           },
           "zerolinecolor": "white",
           "zerolinewidth": 2
          },
          "yaxis": {
           "automargin": true,
           "gridcolor": "white",
           "linecolor": "white",
           "ticks": "",
           "title": {
            "standoff": 15
           },
           "zerolinecolor": "white",
           "zerolinewidth": 2
          }
         }
        },
        "title": {
         "text": "Portfolio weights"
        },
        "width": 600
       }
      },
      "text/html": [
       "<div>                            <div id=\"b86081e6-c04d-4658-97c2-cb5c66034b4e\" class=\"plotly-graph-div\" style=\"height:525px; width:600px;\"></div>            <script type=\"text/javascript\">                require([\"plotly\"], function(Plotly) {                    window.PLOTLYENV=window.PLOTLYENV || {};                                    if (document.getElementById(\"b86081e6-c04d-4658-97c2-cb5c66034b4e\")) {                    Plotly.newPlot(                        \"b86081e6-c04d-4658-97c2-cb5c66034b4e\",                        [{\"domain\": {\"x\": [0.0, 1.0], \"y\": [0.0, 1.0]}, \"hole\": 0.5, \"hovertemplate\": \"tracking_code=%{label}<br>weights=%{value}<extra></extra>\", \"labels\": [\"K200_IT\", \"KTB_D8\", \"SW\", \"MSCI_WO\", \"ACT_BOND_D4\", \"Others\"], \"legendgroup\": \"\", \"name\": \"\", \"showlegend\": true, \"textinfo\": \"percent+label\", \"textposition\": \"inside\", \"type\": \"pie\", \"values\": [0.1699999999724879, 0.24999999992406882, 0.24999999994396985, 0.24999999998411035, 0.04999999995480842, 0.029999999989670668]}],                        {\"legend\": {\"tracegroupgap\": 0}, \"piecolorway\": [\"rgb(141,211,199)\", \"rgb(255,255,179)\", \"rgb(190,186,218)\", \"rgb(251,128,114)\", \"rgb(128,177,211)\", \"rgb(253,180,98)\", \"rgb(179,222,105)\", \"rgb(252,205,229)\", \"rgb(217,217,217)\", \"rgb(188,128,189)\", \"rgb(204,235,197)\", \"rgb(255,237,111)\"], \"template\": {\"data\": {\"bar\": [{\"error_x\": {\"color\": \"#2a3f5f\"}, \"error_y\": {\"color\": \"#2a3f5f\"}, \"marker\": {\"line\": {\"color\": \"#E5ECF6\", \"width\": 0.5}}, \"type\": \"bar\"}], \"barpolar\": [{\"marker\": {\"line\": {\"color\": \"#E5ECF6\", \"width\": 0.5}}, \"type\": \"barpolar\"}], \"carpet\": [{\"aaxis\": {\"endlinecolor\": \"#2a3f5f\", \"gridcolor\": \"white\", \"linecolor\": \"white\", \"minorgridcolor\": \"white\", \"startlinecolor\": \"#2a3f5f\"}, \"baxis\": {\"endlinecolor\": \"#2a3f5f\", \"gridcolor\": \"white\", \"linecolor\": \"white\", \"minorgridcolor\": \"white\", \"startlinecolor\": \"#2a3f5f\"}, \"type\": \"carpet\"}], \"choropleth\": [{\"colorbar\": {\"outlinewidth\": 0, \"ticks\": \"\"}, \"type\": \"choropleth\"}], \"contour\": [{\"colorbar\": {\"outlinewidth\": 0, \"ticks\": \"\"}, \"colorscale\": [[0.0, \"#0d0887\"], [0.1111111111111111, \"#46039f\"], [0.2222222222222222, \"#7201a8\"], [0.3333333333333333, \"#9c179e\"], [0.4444444444444444, \"#bd3786\"], [0.5555555555555556, \"#d8576b\"], [0.6666666666666666, \"#ed7953\"], [0.7777777777777778, \"#fb9f3a\"], [0.8888888888888888, \"#fdca26\"], [1.0, \"#f0f921\"]], \"type\": \"contour\"}], \"contourcarpet\": [{\"colorbar\": {\"outlinewidth\": 0, \"ticks\": \"\"}, \"type\": \"contourcarpet\"}], \"heatmap\": [{\"colorbar\": {\"outlinewidth\": 0, \"ticks\": \"\"}, \"colorscale\": [[0.0, \"#0d0887\"], [0.1111111111111111, \"#46039f\"], [0.2222222222222222, \"#7201a8\"], [0.3333333333333333, \"#9c179e\"], [0.4444444444444444, \"#bd3786\"], [0.5555555555555556, \"#d8576b\"], [0.6666666666666666, \"#ed7953\"], [0.7777777777777778, \"#fb9f3a\"], [0.8888888888888888, \"#fdca26\"], [1.0, \"#f0f921\"]], \"type\": \"heatmap\"}], \"heatmapgl\": [{\"colorbar\": {\"outlinewidth\": 0, \"ticks\": \"\"}, \"colorscale\": [[0.0, \"#0d0887\"], [0.1111111111111111, \"#46039f\"], [0.2222222222222222, \"#7201a8\"], [0.3333333333333333, \"#9c179e\"], [0.4444444444444444, \"#bd3786\"], [0.5555555555555556, \"#d8576b\"], [0.6666666666666666, \"#ed7953\"], [0.7777777777777778, \"#fb9f3a\"], [0.8888888888888888, \"#fdca26\"], [1.0, \"#f0f921\"]], \"type\": \"heatmapgl\"}], \"histogram\": [{\"marker\": {\"colorbar\": {\"outlinewidth\": 0, \"ticks\": \"\"}}, \"type\": \"histogram\"}], \"histogram2d\": [{\"colorbar\": {\"outlinewidth\": 0, \"ticks\": \"\"}, \"colorscale\": [[0.0, \"#0d0887\"], [0.1111111111111111, \"#46039f\"], [0.2222222222222222, \"#7201a8\"], [0.3333333333333333, \"#9c179e\"], [0.4444444444444444, \"#bd3786\"], [0.5555555555555556, \"#d8576b\"], [0.6666666666666666, \"#ed7953\"], [0.7777777777777778, \"#fb9f3a\"], [0.8888888888888888, \"#fdca26\"], [1.0, \"#f0f921\"]], \"type\": \"histogram2d\"}], \"histogram2dcontour\": [{\"colorbar\": {\"outlinewidth\": 0, \"ticks\": \"\"}, \"colorscale\": [[0.0, \"#0d0887\"], [0.1111111111111111, \"#46039f\"], [0.2222222222222222, \"#7201a8\"], [0.3333333333333333, \"#9c179e\"], [0.4444444444444444, \"#bd3786\"], [0.5555555555555556, \"#d8576b\"], [0.6666666666666666, \"#ed7953\"], [0.7777777777777778, \"#fb9f3a\"], [0.8888888888888888, \"#fdca26\"], [1.0, \"#f0f921\"]], \"type\": \"histogram2dcontour\"}], \"mesh3d\": [{\"colorbar\": {\"outlinewidth\": 0, \"ticks\": \"\"}, \"type\": \"mesh3d\"}], \"parcoords\": [{\"line\": {\"colorbar\": {\"outlinewidth\": 0, \"ticks\": \"\"}}, \"type\": \"parcoords\"}], \"pie\": [{\"automargin\": true, \"type\": \"pie\"}], \"scatter\": [{\"marker\": {\"colorbar\": {\"outlinewidth\": 0, \"ticks\": \"\"}}, \"type\": \"scatter\"}], \"scatter3d\": [{\"line\": {\"colorbar\": {\"outlinewidth\": 0, \"ticks\": \"\"}}, \"marker\": {\"colorbar\": {\"outlinewidth\": 0, \"ticks\": \"\"}}, \"type\": \"scatter3d\"}], \"scattercarpet\": [{\"marker\": {\"colorbar\": {\"outlinewidth\": 0, \"ticks\": \"\"}}, \"type\": \"scattercarpet\"}], \"scattergeo\": [{\"marker\": {\"colorbar\": {\"outlinewidth\": 0, \"ticks\": \"\"}}, \"type\": \"scattergeo\"}], \"scattergl\": [{\"marker\": {\"colorbar\": {\"outlinewidth\": 0, \"ticks\": \"\"}}, \"type\": \"scattergl\"}], \"scattermapbox\": [{\"marker\": {\"colorbar\": {\"outlinewidth\": 0, \"ticks\": \"\"}}, \"type\": \"scattermapbox\"}], \"scatterpolar\": [{\"marker\": {\"colorbar\": {\"outlinewidth\": 0, \"ticks\": \"\"}}, \"type\": \"scatterpolar\"}], \"scatterpolargl\": [{\"marker\": {\"colorbar\": {\"outlinewidth\": 0, \"ticks\": \"\"}}, \"type\": \"scatterpolargl\"}], \"scatterternary\": [{\"marker\": {\"colorbar\": {\"outlinewidth\": 0, \"ticks\": \"\"}}, \"type\": \"scatterternary\"}], \"surface\": [{\"colorbar\": {\"outlinewidth\": 0, \"ticks\": \"\"}, \"colorscale\": [[0.0, \"#0d0887\"], [0.1111111111111111, \"#46039f\"], [0.2222222222222222, \"#7201a8\"], [0.3333333333333333, \"#9c179e\"], [0.4444444444444444, \"#bd3786\"], [0.5555555555555556, \"#d8576b\"], [0.6666666666666666, \"#ed7953\"], [0.7777777777777778, \"#fb9f3a\"], [0.8888888888888888, \"#fdca26\"], [1.0, \"#f0f921\"]], \"type\": \"surface\"}], \"table\": [{\"cells\": {\"fill\": {\"color\": \"#EBF0F8\"}, \"line\": {\"color\": \"white\"}}, \"header\": {\"fill\": {\"color\": \"#C8D4E3\"}, \"line\": {\"color\": \"white\"}}, \"type\": \"table\"}]}, \"layout\": {\"annotationdefaults\": {\"arrowcolor\": \"#2a3f5f\", \"arrowhead\": 0, \"arrowwidth\": 1}, \"autotypenumbers\": \"strict\", \"coloraxis\": {\"colorbar\": {\"outlinewidth\": 0, \"ticks\": \"\"}}, \"colorscale\": {\"diverging\": [[0, \"#8e0152\"], [0.1, \"#c51b7d\"], [0.2, \"#de77ae\"], [0.3, \"#f1b6da\"], [0.4, \"#fde0ef\"], [0.5, \"#f7f7f7\"], [0.6, \"#e6f5d0\"], [0.7, \"#b8e186\"], [0.8, \"#7fbc41\"], [0.9, \"#4d9221\"], [1, \"#276419\"]], \"sequential\": [[0.0, \"#0d0887\"], [0.1111111111111111, \"#46039f\"], [0.2222222222222222, \"#7201a8\"], [0.3333333333333333, \"#9c179e\"], [0.4444444444444444, \"#bd3786\"], [0.5555555555555556, \"#d8576b\"], [0.6666666666666666, \"#ed7953\"], [0.7777777777777778, \"#fb9f3a\"], [0.8888888888888888, \"#fdca26\"], [1.0, \"#f0f921\"]], \"sequentialminus\": [[0.0, \"#0d0887\"], [0.1111111111111111, \"#46039f\"], [0.2222222222222222, \"#7201a8\"], [0.3333333333333333, \"#9c179e\"], [0.4444444444444444, \"#bd3786\"], [0.5555555555555556, \"#d8576b\"], [0.6666666666666666, \"#ed7953\"], [0.7777777777777778, \"#fb9f3a\"], [0.8888888888888888, \"#fdca26\"], [1.0, \"#f0f921\"]]}, \"colorway\": [\"#636efa\", \"#EF553B\", \"#00cc96\", \"#ab63fa\", \"#FFA15A\", \"#19d3f3\", \"#FF6692\", \"#B6E880\", \"#FF97FF\", \"#FECB52\"], \"font\": {\"color\": \"#2a3f5f\"}, \"geo\": {\"bgcolor\": \"white\", \"lakecolor\": \"white\", \"landcolor\": \"#E5ECF6\", \"showlakes\": true, \"showland\": true, \"subunitcolor\": \"white\"}, \"hoverlabel\": {\"align\": \"left\"}, \"hovermode\": \"closest\", \"mapbox\": {\"style\": \"light\"}, \"paper_bgcolor\": \"white\", \"plot_bgcolor\": \"#E5ECF6\", \"polar\": {\"angularaxis\": {\"gridcolor\": \"white\", \"linecolor\": \"white\", \"ticks\": \"\"}, \"bgcolor\": \"#E5ECF6\", \"radialaxis\": {\"gridcolor\": \"white\", \"linecolor\": \"white\", \"ticks\": \"\"}}, \"scene\": {\"xaxis\": {\"backgroundcolor\": \"#E5ECF6\", \"gridcolor\": \"white\", \"gridwidth\": 2, \"linecolor\": \"white\", \"showbackground\": true, \"ticks\": \"\", \"zerolinecolor\": \"white\"}, \"yaxis\": {\"backgroundcolor\": \"#E5ECF6\", \"gridcolor\": \"white\", \"gridwidth\": 2, \"linecolor\": \"white\", \"showbackground\": true, \"ticks\": \"\", \"zerolinecolor\": \"white\"}, \"zaxis\": {\"backgroundcolor\": \"#E5ECF6\", \"gridcolor\": \"white\", \"gridwidth\": 2, \"linecolor\": \"white\", \"showbackground\": true, \"ticks\": \"\", \"zerolinecolor\": \"white\"}}, \"shapedefaults\": {\"line\": {\"color\": \"#2a3f5f\"}}, \"ternary\": {\"aaxis\": {\"gridcolor\": \"white\", \"linecolor\": \"white\", \"ticks\": \"\"}, \"baxis\": {\"gridcolor\": \"white\", \"linecolor\": \"white\", \"ticks\": \"\"}, \"bgcolor\": \"#E5ECF6\", \"caxis\": {\"gridcolor\": \"white\", \"linecolor\": \"white\", \"ticks\": \"\"}}, \"title\": {\"x\": 0.05}, \"xaxis\": {\"automargin\": true, \"gridcolor\": \"white\", \"linecolor\": \"white\", \"ticks\": \"\", \"title\": {\"standoff\": 15}, \"zerolinecolor\": \"white\", \"zerolinewidth\": 2}, \"yaxis\": {\"automargin\": true, \"gridcolor\": \"white\", \"linecolor\": \"white\", \"ticks\": \"\", \"title\": {\"standoff\": 15}, \"zerolinecolor\": \"white\", \"zerolinewidth\": 2}}}, \"title\": {\"text\": \"Portfolio weights\"}, \"width\": 600},                        {\"responsive\": true}                    ).then(function(){\n",
       "                            \n",
       "var gd = document.getElementById('b86081e6-c04d-4658-97c2-cb5c66034b4e');\n",
       "var x = new MutationObserver(function (mutations, observer) {{\n",
       "        var display = window.getComputedStyle(gd).display;\n",
       "        if (!display || display === 'none') {{\n",
       "            console.log([gd, 'removed!']);\n",
       "            Plotly.purge(gd);\n",
       "            observer.disconnect();\n",
       "        }}\n",
       "}});\n",
       "\n",
       "// Listen for the removal of the full notebook cells\n",
       "var notebookContainer = gd.closest('#notebook-container');\n",
       "if (notebookContainer) {{\n",
       "    x.observe(notebookContainer, {childList: true});\n",
       "}}\n",
       "\n",
       "// Listen for the clearing of the current output cell\n",
       "var outputEl = gd.closest('.output');\n",
       "if (outputEl) {{\n",
       "    x.observe(outputEl, {childList: true});\n",
       "}}\n",
       "\n",
       "                        })                };                });            </script>        </div>"
      ]
     },
     "metadata": {},
     "output_type": "display_data"
    }
   ],
   "source": [
    "import plotly.express as px\n",
    "fig = px.pie(w_summary, values='weights', names='tracking_code', title='Portfolio weights',\n",
    "             labels=dict(zip(w_summary.tracking_code, w_summary.weights)), hole=0.5, width=600,\n",
    "             color_discrete_sequence=px.colors.qualitative.Set3)\n",
    "fig.update_traces(textposition='inside', textinfo='percent+label')\n",
    "fig.show()"
   ]
  },
  {
   "cell_type": "markdown",
   "metadata": {},
   "source": [
    "## Show an efficient frontier"
   ]
  },
  {
   "cell_type": "code",
   "execution_count": 512,
   "metadata": {
    "ExecuteTime": {
     "end_time": "2021-03-13T21:45:28.278637Z",
     "start_time": "2021-03-13T21:45:25.421756Z"
    }
   },
   "outputs": [
    {
     "data": {
      "text/html": [
       "<div>\n",
       "<style scoped>\n",
       "    .dataframe tbody tr th:only-of-type {\n",
       "        vertical-align: middle;\n",
       "    }\n",
       "\n",
       "    .dataframe tbody tr th {\n",
       "        vertical-align: top;\n",
       "    }\n",
       "\n",
       "    .dataframe thead th {\n",
       "        text-align: right;\n",
       "    }\n",
       "</style>\n",
       "<table border=\"1\" class=\"dataframe\">\n",
       "  <thead>\n",
       "    <tr style=\"text-align: right;\">\n",
       "      <th></th>\n",
       "      <th>A069500</th>\n",
       "      <th>A091160</th>\n",
       "      <th>A091170</th>\n",
       "      <th>A091180</th>\n",
       "      <th>A102110</th>\n",
       "      <th>A102780</th>\n",
       "      <th>A105190</th>\n",
       "      <th>A114260</th>\n",
       "      <th>A122260</th>\n",
       "      <th>A130730</th>\n",
       "      <th>...</th>\n",
       "      <th>A214980</th>\n",
       "      <th>A229200</th>\n",
       "      <th>A232080</th>\n",
       "      <th>A245340</th>\n",
       "      <th>A245710</th>\n",
       "      <th>A251350</th>\n",
       "      <th>A266370</th>\n",
       "      <th>A273130</th>\n",
       "      <th>A278540</th>\n",
       "      <th>A283580</th>\n",
       "    </tr>\n",
       "  </thead>\n",
       "  <tbody>\n",
       "    <tr>\n",
       "      <th>0</th>\n",
       "      <td>2.496590e-11</td>\n",
       "      <td>6.284712e-14</td>\n",
       "      <td>6.742759e-14</td>\n",
       "      <td>3.270464e-14</td>\n",
       "      <td>7.564043e-02</td>\n",
       "      <td>2.982307e-13</td>\n",
       "      <td>6.199791e-12</td>\n",
       "      <td>1.752070e-11</td>\n",
       "      <td>5.346147e-12</td>\n",
       "      <td>3.771156e-12</td>\n",
       "      <td>...</td>\n",
       "      <td>3.341504e-12</td>\n",
       "      <td>4.064752e-13</td>\n",
       "      <td>4.094458e-13</td>\n",
       "      <td>3.778805e-13</td>\n",
       "      <td>1.070175e-13</td>\n",
       "      <td>0.22436</td>\n",
       "      <td>1.023602e-13</td>\n",
       "      <td>0.250000</td>\n",
       "      <td>3.267654e-12</td>\n",
       "      <td>6.291595e-02</td>\n",
       "    </tr>\n",
       "    <tr>\n",
       "      <th>1</th>\n",
       "      <td>1.145771e-11</td>\n",
       "      <td>5.610623e-14</td>\n",
       "      <td>5.961684e-14</td>\n",
       "      <td>3.716055e-14</td>\n",
       "      <td>5.000000e-02</td>\n",
       "      <td>1.596388e-13</td>\n",
       "      <td>3.210753e-12</td>\n",
       "      <td>4.930636e-12</td>\n",
       "      <td>1.874969e-12</td>\n",
       "      <td>1.343324e-12</td>\n",
       "      <td>...</td>\n",
       "      <td>1.272336e-12</td>\n",
       "      <td>1.772738e-13</td>\n",
       "      <td>1.774777e-13</td>\n",
       "      <td>1.972822e-13</td>\n",
       "      <td>8.553976e-14</td>\n",
       "      <td>0.25000</td>\n",
       "      <td>1.251813e-13</td>\n",
       "      <td>0.250000</td>\n",
       "      <td>3.811887e-12</td>\n",
       "      <td>3.091583e-02</td>\n",
       "    </tr>\n",
       "    <tr>\n",
       "      <th>2</th>\n",
       "      <td>7.727770e-11</td>\n",
       "      <td>4.034439e-13</td>\n",
       "      <td>4.072787e-13</td>\n",
       "      <td>2.566292e-13</td>\n",
       "      <td>4.112829e-02</td>\n",
       "      <td>1.190694e-12</td>\n",
       "      <td>2.174841e-11</td>\n",
       "      <td>4.067030e-11</td>\n",
       "      <td>1.194836e-11</td>\n",
       "      <td>8.437853e-12</td>\n",
       "      <td>...</td>\n",
       "      <td>8.212442e-12</td>\n",
       "      <td>1.205276e-12</td>\n",
       "      <td>1.199889e-12</td>\n",
       "      <td>2.222109e-12</td>\n",
       "      <td>5.732626e-13</td>\n",
       "      <td>0.25000</td>\n",
       "      <td>1.013708e-12</td>\n",
       "      <td>0.250000</td>\n",
       "      <td>8.871706e-03</td>\n",
       "      <td>1.707870e-10</td>\n",
       "    </tr>\n",
       "    <tr>\n",
       "      <th>3</th>\n",
       "      <td>5.369887e-12</td>\n",
       "      <td>7.590063e-14</td>\n",
       "      <td>5.235537e-14</td>\n",
       "      <td>4.265283e-14</td>\n",
       "      <td>2.507241e-11</td>\n",
       "      <td>1.639676e-13</td>\n",
       "      <td>2.585674e-12</td>\n",
       "      <td>2.985168e-12</td>\n",
       "      <td>1.275803e-12</td>\n",
       "      <td>9.817642e-13</td>\n",
       "      <td>...</td>\n",
       "      <td>9.744439e-13</td>\n",
       "      <td>1.240141e-13</td>\n",
       "      <td>1.240610e-13</td>\n",
       "      <td>2.981146e-13</td>\n",
       "      <td>8.155623e-14</td>\n",
       "      <td>0.25000</td>\n",
       "      <td>1.595304e-13</td>\n",
       "      <td>0.250000</td>\n",
       "      <td>2.746556e-02</td>\n",
       "      <td>3.810755e-12</td>\n",
       "    </tr>\n",
       "    <tr>\n",
       "      <th>4</th>\n",
       "      <td>8.840532e-12</td>\n",
       "      <td>1.714315e-12</td>\n",
       "      <td>8.618482e-13</td>\n",
       "      <td>8.913940e-13</td>\n",
       "      <td>1.133513e-11</td>\n",
       "      <td>3.032529e-12</td>\n",
       "      <td>7.533341e-12</td>\n",
       "      <td>2.055875e-10</td>\n",
       "      <td>4.671702e-11</td>\n",
       "      <td>3.252979e-11</td>\n",
       "      <td>...</td>\n",
       "      <td>3.325986e-11</td>\n",
       "      <td>1.569652e-12</td>\n",
       "      <td>1.576543e-12</td>\n",
       "      <td>6.517893e-12</td>\n",
       "      <td>1.443385e-12</td>\n",
       "      <td>0.25000</td>\n",
       "      <td>3.546496e-12</td>\n",
       "      <td>0.249881</td>\n",
       "      <td>3.617365e-11</td>\n",
       "      <td>3.355745e-12</td>\n",
       "    </tr>\n",
       "  </tbody>\n",
       "</table>\n",
       "<p>5 rows × 26 columns</p>\n",
       "</div>"
      ],
      "text/plain": [
       "        A069500       A091160       A091170       A091180       A102110  \\\n",
       "0  2.496590e-11  6.284712e-14  6.742759e-14  3.270464e-14  7.564043e-02   \n",
       "1  1.145771e-11  5.610623e-14  5.961684e-14  3.716055e-14  5.000000e-02   \n",
       "2  7.727770e-11  4.034439e-13  4.072787e-13  2.566292e-13  4.112829e-02   \n",
       "3  5.369887e-12  7.590063e-14  5.235537e-14  4.265283e-14  2.507241e-11   \n",
       "4  8.840532e-12  1.714315e-12  8.618482e-13  8.913940e-13  1.133513e-11   \n",
       "\n",
       "        A102780       A105190       A114260       A122260       A130730  ...  \\\n",
       "0  2.982307e-13  6.199791e-12  1.752070e-11  5.346147e-12  3.771156e-12  ...   \n",
       "1  1.596388e-13  3.210753e-12  4.930636e-12  1.874969e-12  1.343324e-12  ...   \n",
       "2  1.190694e-12  2.174841e-11  4.067030e-11  1.194836e-11  8.437853e-12  ...   \n",
       "3  1.639676e-13  2.585674e-12  2.985168e-12  1.275803e-12  9.817642e-13  ...   \n",
       "4  3.032529e-12  7.533341e-12  2.055875e-10  4.671702e-11  3.252979e-11  ...   \n",
       "\n",
       "        A214980       A229200       A232080       A245340       A245710  \\\n",
       "0  3.341504e-12  4.064752e-13  4.094458e-13  3.778805e-13  1.070175e-13   \n",
       "1  1.272336e-12  1.772738e-13  1.774777e-13  1.972822e-13  8.553976e-14   \n",
       "2  8.212442e-12  1.205276e-12  1.199889e-12  2.222109e-12  5.732626e-13   \n",
       "3  9.744439e-13  1.240141e-13  1.240610e-13  2.981146e-13  8.155623e-14   \n",
       "4  3.325986e-11  1.569652e-12  1.576543e-12  6.517893e-12  1.443385e-12   \n",
       "\n",
       "   A251350       A266370   A273130       A278540       A283580  \n",
       "0  0.22436  1.023602e-13  0.250000  3.267654e-12  6.291595e-02  \n",
       "1  0.25000  1.251813e-13  0.250000  3.811887e-12  3.091583e-02  \n",
       "2  0.25000  1.013708e-12  0.250000  8.871706e-03  1.707870e-10  \n",
       "3  0.25000  1.595304e-13  0.250000  2.746556e-02  3.810755e-12  \n",
       "4  0.25000  3.546496e-12  0.249881  3.617365e-11  3.355745e-12  \n",
       "\n",
       "[5 rows x 26 columns]"
      ]
     },
     "metadata": {},
     "output_type": "display_data"
    }
   ],
   "source": [
    "points = 50 # Number of points of the frontier\n",
    "\n",
    "frontier = port.efficient_frontier(model=model, rm=rm, points=points, rf=rf, hist=hist)\n",
    "\n",
    "display(frontier.T.head())"
   ]
  },
  {
   "cell_type": "code",
   "execution_count": 513,
   "metadata": {
    "ExecuteTime": {
     "end_time": "2021-03-13T21:45:28.291788Z",
     "start_time": "2021-03-13T21:45:28.280923Z"
    }
   },
   "outputs": [
    {
     "data": {
      "text/html": [
       "<div>\n",
       "<style scoped>\n",
       "    .dataframe tbody tr th:only-of-type {\n",
       "        vertical-align: middle;\n",
       "    }\n",
       "\n",
       "    .dataframe tbody tr th {\n",
       "        vertical-align: top;\n",
       "    }\n",
       "\n",
       "    .dataframe thead th {\n",
       "        text-align: right;\n",
       "    }\n",
       "</style>\n",
       "<table border=\"1\" class=\"dataframe\">\n",
       "  <thead>\n",
       "    <tr style=\"text-align: right;\">\n",
       "      <th></th>\n",
       "      <th>weights</th>\n",
       "      <th>tracking_code</th>\n",
       "      <th>itemname</th>\n",
       "    </tr>\n",
       "    <tr>\n",
       "      <th>itemcode</th>\n",
       "      <th></th>\n",
       "      <th></th>\n",
       "      <th></th>\n",
       "    </tr>\n",
       "  </thead>\n",
       "  <tbody>\n",
       "    <tr>\n",
       "      <th>A069500</th>\n",
       "      <td>0.00</td>\n",
       "      <td>K200</td>\n",
       "      <td>KODEX 200</td>\n",
       "    </tr>\n",
       "    <tr>\n",
       "      <th>A091160</th>\n",
       "      <td>0.00</td>\n",
       "      <td>SEMI_KRX</td>\n",
       "      <td>KODEX 반도체</td>\n",
       "    </tr>\n",
       "    <tr>\n",
       "      <th>A091170</th>\n",
       "      <td>0.00</td>\n",
       "      <td>BANK_KRX</td>\n",
       "      <td>KODEX 은행</td>\n",
       "    </tr>\n",
       "    <tr>\n",
       "      <th>A091180</th>\n",
       "      <td>0.00</td>\n",
       "      <td>AUTO_KRX</td>\n",
       "      <td>KODEX 자동차</td>\n",
       "    </tr>\n",
       "    <tr>\n",
       "      <th>A102110</th>\n",
       "      <td>0.00</td>\n",
       "      <td>K200</td>\n",
       "      <td>TIGER 200</td>\n",
       "    </tr>\n",
       "    <tr>\n",
       "      <th>A102780</th>\n",
       "      <td>0.00</td>\n",
       "      <td>SAMSUNG_FN</td>\n",
       "      <td>KODEX 삼성그룹</td>\n",
       "    </tr>\n",
       "    <tr>\n",
       "      <th>A105190</th>\n",
       "      <td>0.00</td>\n",
       "      <td>K200</td>\n",
       "      <td>KINDEX 200</td>\n",
       "    </tr>\n",
       "    <tr>\n",
       "      <th>A114260</th>\n",
       "      <td>0.00</td>\n",
       "      <td>KTB_D3</td>\n",
       "      <td>KODEX 국고채3년</td>\n",
       "    </tr>\n",
       "    <tr>\n",
       "      <th>A122260</th>\n",
       "      <td>0.00</td>\n",
       "      <td>BOK_D1</td>\n",
       "      <td>KOSEF 통안채1년</td>\n",
       "    </tr>\n",
       "    <tr>\n",
       "      <th>A130730</th>\n",
       "      <td>0.00</td>\n",
       "      <td>MM</td>\n",
       "      <td>KOSEF 단기자금</td>\n",
       "    </tr>\n",
       "    <tr>\n",
       "      <th>A139260</th>\n",
       "      <td>0.17</td>\n",
       "      <td>K200_IT</td>\n",
       "      <td>TIGER 200 IT</td>\n",
       "    </tr>\n",
       "    <tr>\n",
       "      <th>A148070</th>\n",
       "      <td>0.25</td>\n",
       "      <td>KTB_D8</td>\n",
       "      <td>KOSEF 국고채10년</td>\n",
       "    </tr>\n",
       "    <tr>\n",
       "      <th>A153130</th>\n",
       "      <td>0.00</td>\n",
       "      <td>MM</td>\n",
       "      <td>KODEX 단기채권</td>\n",
       "    </tr>\n",
       "    <tr>\n",
       "      <th>A157490</th>\n",
       "      <td>0.25</td>\n",
       "      <td>SW</td>\n",
       "      <td>TIGER 소프트웨어</td>\n",
       "    </tr>\n",
       "    <tr>\n",
       "      <th>A195930</th>\n",
       "      <td>0.00</td>\n",
       "      <td>STOXX50</td>\n",
       "      <td>TIGER 유로스탁스50(합성 H)</td>\n",
       "    </tr>\n",
       "    <tr>\n",
       "      <th>A196230</th>\n",
       "      <td>0.00</td>\n",
       "      <td>BOK_D.4</td>\n",
       "      <td>KBSTAR 단기통안채</td>\n",
       "    </tr>\n",
       "    <tr>\n",
       "      <th>A214980</th>\n",
       "      <td>0.00</td>\n",
       "      <td>MM_PLUS</td>\n",
       "      <td>KODEX 단기채권PLUS</td>\n",
       "    </tr>\n",
       "    <tr>\n",
       "      <th>A229200</th>\n",
       "      <td>0.00</td>\n",
       "      <td>KQ150</td>\n",
       "      <td>KODEX 코스닥 150</td>\n",
       "    </tr>\n",
       "    <tr>\n",
       "      <th>A232080</th>\n",
       "      <td>0.00</td>\n",
       "      <td>KQ150</td>\n",
       "      <td>TIGER 코스닥150</td>\n",
       "    </tr>\n",
       "    <tr>\n",
       "      <th>A245340</th>\n",
       "      <td>0.03</td>\n",
       "      <td>DOW30</td>\n",
       "      <td>TIGER 미국다우존스30</td>\n",
       "    </tr>\n",
       "    <tr>\n",
       "      <th>A245710</th>\n",
       "      <td>0.00</td>\n",
       "      <td>VN30</td>\n",
       "      <td>KINDEX 베트남VN30(합성)</td>\n",
       "    </tr>\n",
       "    <tr>\n",
       "      <th>A251350</th>\n",
       "      <td>0.25</td>\n",
       "      <td>MSCI_WO</td>\n",
       "      <td>KODEX 선진국MSCI World</td>\n",
       "    </tr>\n",
       "    <tr>\n",
       "      <th>A266370</th>\n",
       "      <td>0.00</td>\n",
       "      <td>IT</td>\n",
       "      <td>KODEX IT</td>\n",
       "    </tr>\n",
       "    <tr>\n",
       "      <th>A273130</th>\n",
       "      <td>0.05</td>\n",
       "      <td>ACT_BOND_D4</td>\n",
       "      <td>KODEX 종합채권(AA-이상)액티브</td>\n",
       "    </tr>\n",
       "    <tr>\n",
       "      <th>A278540</th>\n",
       "      <td>0.00</td>\n",
       "      <td>MSCI_KR</td>\n",
       "      <td>KODEX MSCI Korea TR</td>\n",
       "    </tr>\n",
       "    <tr>\n",
       "      <th>A283580</th>\n",
       "      <td>0.00</td>\n",
       "      <td>CSI300</td>\n",
       "      <td>KODEX 중국본토CSI300</td>\n",
       "    </tr>\n",
       "  </tbody>\n",
       "</table>\n",
       "</div>"
      ],
      "text/plain": [
       "          weights tracking_code              itemname\n",
       "itemcode                                             \n",
       "A069500      0.00          K200             KODEX 200\n",
       "A091160      0.00      SEMI_KRX             KODEX 반도체\n",
       "A091170      0.00      BANK_KRX              KODEX 은행\n",
       "A091180      0.00      AUTO_KRX             KODEX 자동차\n",
       "A102110      0.00          K200             TIGER 200\n",
       "A102780      0.00    SAMSUNG_FN            KODEX 삼성그룹\n",
       "A105190      0.00          K200            KINDEX 200\n",
       "A114260      0.00        KTB_D3           KODEX 국고채3년\n",
       "A122260      0.00        BOK_D1           KOSEF 통안채1년\n",
       "A130730      0.00            MM            KOSEF 단기자금\n",
       "A139260      0.17       K200_IT          TIGER 200 IT\n",
       "A148070      0.25        KTB_D8          KOSEF 국고채10년\n",
       "A153130      0.00            MM            KODEX 단기채권\n",
       "A157490      0.25            SW           TIGER 소프트웨어\n",
       "A195930      0.00       STOXX50   TIGER 유로스탁스50(합성 H)\n",
       "A196230      0.00       BOK_D.4          KBSTAR 단기통안채\n",
       "A214980      0.00       MM_PLUS        KODEX 단기채권PLUS\n",
       "A229200      0.00         KQ150         KODEX 코스닥 150\n",
       "A232080      0.00         KQ150          TIGER 코스닥150\n",
       "A245340      0.03         DOW30        TIGER 미국다우존스30\n",
       "A245710      0.00          VN30    KINDEX 베트남VN30(합성)\n",
       "A251350      0.25       MSCI_WO   KODEX 선진국MSCI World\n",
       "A266370      0.00            IT              KODEX IT\n",
       "A273130      0.05   ACT_BOND_D4  KODEX 종합채권(AA-이상)액티브\n",
       "A278540      0.00       MSCI_KR   KODEX MSCI Korea TR\n",
       "A283580      0.00        CSI300      KODEX 중국본토CSI300"
      ]
     },
     "execution_count": 513,
     "metadata": {},
     "output_type": "execute_result"
    }
   ],
   "source": [
    "w"
   ]
  },
  {
   "cell_type": "code",
   "execution_count": 514,
   "metadata": {
    "ExecuteTime": {
     "end_time": "2021-03-13T21:45:28.321277Z",
     "start_time": "2021-03-13T21:45:28.295174Z"
    }
   },
   "outputs": [
    {
     "data": {
      "text/html": [
       "<div>\n",
       "<style scoped>\n",
       "    .dataframe tbody tr th:only-of-type {\n",
       "        vertical-align: middle;\n",
       "    }\n",
       "\n",
       "    .dataframe tbody tr th {\n",
       "        vertical-align: top;\n",
       "    }\n",
       "\n",
       "    .dataframe thead th {\n",
       "        text-align: right;\n",
       "    }\n",
       "</style>\n",
       "<table border=\"1\" class=\"dataframe\">\n",
       "  <thead>\n",
       "    <tr style=\"text-align: right;\">\n",
       "      <th>tracking_code</th>\n",
       "      <th>K200</th>\n",
       "      <th>SEMI_KRX</th>\n",
       "      <th>BANK_KRX</th>\n",
       "      <th>AUTO_KRX</th>\n",
       "      <th>K200</th>\n",
       "      <th>SAMSUNG_FN</th>\n",
       "      <th>K200</th>\n",
       "      <th>KTB_D3</th>\n",
       "      <th>BOK_D1</th>\n",
       "      <th>MM</th>\n",
       "      <th>...</th>\n",
       "      <th>MM_PLUS</th>\n",
       "      <th>KQ150</th>\n",
       "      <th>KQ150</th>\n",
       "      <th>DOW30</th>\n",
       "      <th>VN30</th>\n",
       "      <th>MSCI_WO</th>\n",
       "      <th>IT</th>\n",
       "      <th>ACT_BOND_D4</th>\n",
       "      <th>MSCI_KR</th>\n",
       "      <th>CSI300</th>\n",
       "    </tr>\n",
       "  </thead>\n",
       "  <tbody>\n",
       "    <tr>\n",
       "      <th>weights</th>\n",
       "      <td>0.0</td>\n",
       "      <td>0.0</td>\n",
       "      <td>0.0</td>\n",
       "      <td>0.0</td>\n",
       "      <td>0.0</td>\n",
       "      <td>0.0</td>\n",
       "      <td>0.0</td>\n",
       "      <td>0.0</td>\n",
       "      <td>0.0</td>\n",
       "      <td>0.0</td>\n",
       "      <td>...</td>\n",
       "      <td>0.0</td>\n",
       "      <td>0.0</td>\n",
       "      <td>0.0</td>\n",
       "      <td>0.03</td>\n",
       "      <td>0.0</td>\n",
       "      <td>0.25</td>\n",
       "      <td>0.0</td>\n",
       "      <td>0.05</td>\n",
       "      <td>0.0</td>\n",
       "      <td>0.0</td>\n",
       "    </tr>\n",
       "  </tbody>\n",
       "</table>\n",
       "<p>1 rows × 26 columns</p>\n",
       "</div>"
      ],
      "text/plain": [
       "tracking_code  K200  SEMI_KRX  BANK_KRX  AUTO_KRX  K200  SAMSUNG_FN  K200  \\\n",
       "weights         0.0       0.0       0.0       0.0   0.0         0.0   0.0   \n",
       "\n",
       "tracking_code  KTB_D3  BOK_D1   MM  ...  MM_PLUS  KQ150  KQ150  DOW30  VN30  \\\n",
       "weights           0.0     0.0  0.0  ...      0.0    0.0    0.0   0.03   0.0   \n",
       "\n",
       "tracking_code  MSCI_WO   IT  ACT_BOND_D4  MSCI_KR  CSI300  \n",
       "weights           0.25  0.0         0.05      0.0     0.0  \n",
       "\n",
       "[1 rows x 26 columns]"
      ]
     },
     "execution_count": 514,
     "metadata": {},
     "output_type": "execute_result"
    }
   ],
   "source": [
    "w.drop('itemname', axis=1).set_index('tracking_code').T"
   ]
  },
  {
   "cell_type": "code",
   "execution_count": 515,
   "metadata": {
    "ExecuteTime": {
     "end_time": "2021-03-13T21:45:28.666297Z",
     "start_time": "2021-03-13T21:45:28.324944Z"
    }
   },
   "outputs": [
    {
     "data": {
      "image/png": "[encoded data removed]",
      "text/plain": [
       "<Figure size 720x432 with 2 Axes>"
      ]
     },
     "metadata": {
      "needs_background": "light"
     },
     "output_type": "display_data"
    }
   ],
   "source": [
    "import riskfolio.PlotFunctions as plf\n",
    "\n",
    "# Plotting the efficient frontier\n",
    "label = 'Min Risk Adjusted Return Portfolio' # Title of point\n",
    "mu = port.mu # Expected returns\n",
    "cov = port.cov # Covariance matrix\n",
    "returns = port.returns # Returns of the assets\n",
    "\n",
    "ax = plf.plot_frontier(w_frontier=frontier, mu=mu, cov=cov, returns=returns, rm=rm,\n",
    "                       rf=rf, alpha=0.05, cmap='viridis', w=w.drop('itemname', axis=1).set_index('tracking_code'), label=label,\n",
    "                       marker='*', s=16, c='r', height=6, width=10, ax=None)"
   ]
  },
  {
   "cell_type": "code",
   "execution_count": null,
   "metadata": {},
   "outputs": [],
   "source": []
  },
  {
   "cell_type": "code",
   "execution_count": 516,
   "metadata": {
    "ExecuteTime": {
     "end_time": "2021-03-13T21:45:29.160320Z",
     "start_time": "2021-03-13T21:45:28.668120Z"
    }
   },
   "outputs": [],
   "source": [
    "# Risk Measures available:\n",
    "#\n",
    "# 'MV': Standard Deviation.\n",
    "# 'MAD': Mean Absolute Deviation.\n",
    "# 'MSV': Semi Standard Deviation.\n",
    "# 'FLPM': First Lower Partial Moment (Omega Ratio).\n",
    "# 'SLPM': Second Lower Partial Moment (Sortino Ratio).\n",
    "# 'CVaR': Conditional Value at Risk.\n",
    "# 'EVaR': Entropic Value at Risk.\n",
    "# 'WR': Worst Realization (Minimax)\n",
    "# 'MDD': Maximum Drawdown of uncompounded cumulative returns (Calmar Ratio).\n",
    "# 'ADD': Average Drawdown of uncompounded cumulative returns.\n",
    "# 'CDaR': Conditional Drawdown at Risk of uncompounded cumulative returns.\n",
    "# 'EDaR': Entropic Drawdown at Risk of uncompounded cumulative returns.\n",
    "# 'UCI': Ulcer Index of uncompounded cumulative returns.\n",
    "\n",
    "rms = ['MV', 'MAD', 'MSV', 'FLPM', 'SLPM', 'CVaR',\n",
    "       'EVaR', 'WR', 'MDD', 'ADD', 'CDaR', 'UCI', 'EDaR']\n",
    "\n",
    "w_s = pd.DataFrame([])\n",
    "\n",
    "for i in rms:\n",
    "    w = port.optimization(model=model, rm=i, obj=obj, rf=rf, l=l, hist=hist)\n",
    "    w_s = pd.concat([w_s, w], axis=1)\n",
    "    \n",
    "w_s.columns = rms"
   ]
  },
  {
   "cell_type": "code",
   "execution_count": 517,
   "metadata": {
    "ExecuteTime": {
     "end_time": "2021-03-13T21:45:29.223500Z",
     "start_time": "2021-03-13T21:45:29.162758Z"
    }
   },
   "outputs": [
    {
     "data": {
      "text/html": [
       "<style  type=\"text/css\" >\n",
       "#T_6da3dcba_8445_11eb_b096_8c859031a209row0_col0,#T_6da3dcba_8445_11eb_b096_8c859031a209row0_col1,#T_6da3dcba_8445_11eb_b096_8c859031a209row0_col2,#T_6da3dcba_8445_11eb_b096_8c859031a209row0_col3,#T_6da3dcba_8445_11eb_b096_8c859031a209row0_col4,#T_6da3dcba_8445_11eb_b096_8c859031a209row0_col5,#T_6da3dcba_8445_11eb_b096_8c859031a209row0_col6,#T_6da3dcba_8445_11eb_b096_8c859031a209row0_col7,#T_6da3dcba_8445_11eb_b096_8c859031a209row0_col8,#T_6da3dcba_8445_11eb_b096_8c859031a209row0_col9,#T_6da3dcba_8445_11eb_b096_8c859031a209row0_col10,#T_6da3dcba_8445_11eb_b096_8c859031a209row0_col11,#T_6da3dcba_8445_11eb_b096_8c859031a209row0_col12,#T_6da3dcba_8445_11eb_b096_8c859031a209row1_col0,#T_6da3dcba_8445_11eb_b096_8c859031a209row1_col1,#T_6da3dcba_8445_11eb_b096_8c859031a209row1_col2,#T_6da3dcba_8445_11eb_b096_8c859031a209row1_col3,#T_6da3dcba_8445_11eb_b096_8c859031a209row1_col4,#T_6da3dcba_8445_11eb_b096_8c859031a209row1_col5,#T_6da3dcba_8445_11eb_b096_8c859031a209row1_col6,#T_6da3dcba_8445_11eb_b096_8c859031a209row1_col7,#T_6da3dcba_8445_11eb_b096_8c859031a209row1_col8,#T_6da3dcba_8445_11eb_b096_8c859031a209row1_col9,#T_6da3dcba_8445_11eb_b096_8c859031a209row1_col10,#T_6da3dcba_8445_11eb_b096_8c859031a209row1_col11,#T_6da3dcba_8445_11eb_b096_8c859031a209row1_col12,#T_6da3dcba_8445_11eb_b096_8c859031a209row2_col0,#T_6da3dcba_8445_11eb_b096_8c859031a209row2_col1,#T_6da3dcba_8445_11eb_b096_8c859031a209row2_col2,#T_6da3dcba_8445_11eb_b096_8c859031a209row2_col3,#T_6da3dcba_8445_11eb_b096_8c859031a209row2_col4,#T_6da3dcba_8445_11eb_b096_8c859031a209row2_col5,#T_6da3dcba_8445_11eb_b096_8c859031a209row2_col6,#T_6da3dcba_8445_11eb_b096_8c859031a209row2_col7,#T_6da3dcba_8445_11eb_b096_8c859031a209row2_col8,#T_6da3dcba_8445_11eb_b096_8c859031a209row2_col9,#T_6da3dcba_8445_11eb_b096_8c859031a209row2_col10,#T_6da3dcba_8445_11eb_b096_8c859031a209row2_col11,#T_6da3dcba_8445_11eb_b096_8c859031a209row2_col12,#T_6da3dcba_8445_11eb_b096_8c859031a209row3_col0,#T_6da3dcba_8445_11eb_b096_8c859031a209row3_col1,#T_6da3dcba_8445_11eb_b096_8c859031a209row3_col2,#T_6da3dcba_8445_11eb_b096_8c859031a209row3_col3,#T_6da3dcba_8445_11eb_b096_8c859031a209row3_col4,#T_6da3dcba_8445_11eb_b096_8c859031a209row3_col5,#T_6da3dcba_8445_11eb_b096_8c859031a209row3_col6,#T_6da3dcba_8445_11eb_b096_8c859031a209row3_col7,#T_6da3dcba_8445_11eb_b096_8c859031a209row3_col8,#T_6da3dcba_8445_11eb_b096_8c859031a209row3_col9,#T_6da3dcba_8445_11eb_b096_8c859031a209row3_col10,#T_6da3dcba_8445_11eb_b096_8c859031a209row3_col11,#T_6da3dcba_8445_11eb_b096_8c859031a209row3_col12,#T_6da3dcba_8445_11eb_b096_8c859031a209row4_col0,#T_6da3dcba_8445_11eb_b096_8c859031a209row4_col1,#T_6da3dcba_8445_11eb_b096_8c859031a209row4_col2,#T_6da3dcba_8445_11eb_b096_8c859031a209row4_col3,#T_6da3dcba_8445_11eb_b096_8c859031a209row4_col4,#T_6da3dcba_8445_11eb_b096_8c859031a209row4_col5,#T_6da3dcba_8445_11eb_b096_8c859031a209row4_col6,#T_6da3dcba_8445_11eb_b096_8c859031a209row4_col7,#T_6da3dcba_8445_11eb_b096_8c859031a209row4_col8,#T_6da3dcba_8445_11eb_b096_8c859031a209row4_col9,#T_6da3dcba_8445_11eb_b096_8c859031a209row4_col10,#T_6da3dcba_8445_11eb_b096_8c859031a209row4_col11,#T_6da3dcba_8445_11eb_b096_8c859031a209row4_col12,#T_6da3dcba_8445_11eb_b096_8c859031a209row5_col0,#T_6da3dcba_8445_11eb_b096_8c859031a209row5_col1,#T_6da3dcba_8445_11eb_b096_8c859031a209row5_col2,#T_6da3dcba_8445_11eb_b096_8c859031a209row5_col3,#T_6da3dcba_8445_11eb_b096_8c859031a209row5_col4,#T_6da3dcba_8445_11eb_b096_8c859031a209row5_col5,#T_6da3dcba_8445_11eb_b096_8c859031a209row5_col6,#T_6da3dcba_8445_11eb_b096_8c859031a209row5_col7,#T_6da3dcba_8445_11eb_b096_8c859031a209row5_col8,#T_6da3dcba_8445_11eb_b096_8c859031a209row5_col9,#T_6da3dcba_8445_11eb_b096_8c859031a209row5_col10,#T_6da3dcba_8445_11eb_b096_8c859031a209row5_col11,#T_6da3dcba_8445_11eb_b096_8c859031a209row5_col12,#T_6da3dcba_8445_11eb_b096_8c859031a209row6_col0,#T_6da3dcba_8445_11eb_b096_8c859031a209row6_col1,#T_6da3dcba_8445_11eb_b096_8c859031a209row6_col2,#T_6da3dcba_8445_11eb_b096_8c859031a209row6_col3,#T_6da3dcba_8445_11eb_b096_8c859031a209row6_col4,#T_6da3dcba_8445_11eb_b096_8c859031a209row6_col5,#T_6da3dcba_8445_11eb_b096_8c859031a209row6_col6,#T_6da3dcba_8445_11eb_b096_8c859031a209row6_col7,#T_6da3dcba_8445_11eb_b096_8c859031a209row6_col8,#T_6da3dcba_8445_11eb_b096_8c859031a209row6_col9,#T_6da3dcba_8445_11eb_b096_8c859031a209row6_col10,#T_6da3dcba_8445_11eb_b096_8c859031a209row6_col11,#T_6da3dcba_8445_11eb_b096_8c859031a209row6_col12,#T_6da3dcba_8445_11eb_b096_8c859031a209row7_col0,#T_6da3dcba_8445_11eb_b096_8c859031a209row7_col1,#T_6da3dcba_8445_11eb_b096_8c859031a209row7_col2,#T_6da3dcba_8445_11eb_b096_8c859031a209row7_col3,#T_6da3dcba_8445_11eb_b096_8c859031a209row7_col4,#T_6da3dcba_8445_11eb_b096_8c859031a209row7_col5,#T_6da3dcba_8445_11eb_b096_8c859031a209row7_col6,#T_6da3dcba_8445_11eb_b096_8c859031a209row7_col7,#T_6da3dcba_8445_11eb_b096_8c859031a209row7_col8,#T_6da3dcba_8445_11eb_b096_8c859031a209row7_col9,#T_6da3dcba_8445_11eb_b096_8c859031a209row7_col10,#T_6da3dcba_8445_11eb_b096_8c859031a209row7_col11,#T_6da3dcba_8445_11eb_b096_8c859031a209row7_col12,#T_6da3dcba_8445_11eb_b096_8c859031a209row8_col0,#T_6da3dcba_8445_11eb_b096_8c859031a209row8_col1,#T_6da3dcba_8445_11eb_b096_8c859031a209row8_col2,#T_6da3dcba_8445_11eb_b096_8c859031a209row8_col3,#T_6da3dcba_8445_11eb_b096_8c859031a209row8_col4,#T_6da3dcba_8445_11eb_b096_8c859031a209row8_col5,#T_6da3dcba_8445_11eb_b096_8c859031a209row8_col6,#T_6da3dcba_8445_11eb_b096_8c859031a209row8_col7,#T_6da3dcba_8445_11eb_b096_8c859031a209row8_col8,#T_6da3dcba_8445_11eb_b096_8c859031a209row8_col9,#T_6da3dcba_8445_11eb_b096_8c859031a209row8_col10,#T_6da3dcba_8445_11eb_b096_8c859031a209row8_col11,#T_6da3dcba_8445_11eb_b096_8c859031a209row8_col12,#T_6da3dcba_8445_11eb_b096_8c859031a209row9_col0,#T_6da3dcba_8445_11eb_b096_8c859031a209row9_col1,#T_6da3dcba_8445_11eb_b096_8c859031a209row9_col2,#T_6da3dcba_8445_11eb_b096_8c859031a209row9_col3,#T_6da3dcba_8445_11eb_b096_8c859031a209row9_col4,#T_6da3dcba_8445_11eb_b096_8c859031a209row9_col5,#T_6da3dcba_8445_11eb_b096_8c859031a209row9_col6,#T_6da3dcba_8445_11eb_b096_8c859031a209row9_col7,#T_6da3dcba_8445_11eb_b096_8c859031a209row9_col8,#T_6da3dcba_8445_11eb_b096_8c859031a209row9_col9,#T_6da3dcba_8445_11eb_b096_8c859031a209row9_col10,#T_6da3dcba_8445_11eb_b096_8c859031a209row9_col11,#T_6da3dcba_8445_11eb_b096_8c859031a209row9_col12,#T_6da3dcba_8445_11eb_b096_8c859031a209row12_col0,#T_6da3dcba_8445_11eb_b096_8c859031a209row12_col1,#T_6da3dcba_8445_11eb_b096_8c859031a209row12_col2,#T_6da3dcba_8445_11eb_b096_8c859031a209row12_col3,#T_6da3dcba_8445_11eb_b096_8c859031a209row12_col4,#T_6da3dcba_8445_11eb_b096_8c859031a209row12_col5,#T_6da3dcba_8445_11eb_b096_8c859031a209row12_col6,#T_6da3dcba_8445_11eb_b096_8c859031a209row12_col7,#T_6da3dcba_8445_11eb_b096_8c859031a209row12_col8,#T_6da3dcba_8445_11eb_b096_8c859031a209row12_col9,#T_6da3dcba_8445_11eb_b096_8c859031a209row12_col10,#T_6da3dcba_8445_11eb_b096_8c859031a209row12_col11,#T_6da3dcba_8445_11eb_b096_8c859031a209row12_col12,#T_6da3dcba_8445_11eb_b096_8c859031a209row14_col0,#T_6da3dcba_8445_11eb_b096_8c859031a209row14_col1,#T_6da3dcba_8445_11eb_b096_8c859031a209row14_col2,#T_6da3dcba_8445_11eb_b096_8c859031a209row14_col3,#T_6da3dcba_8445_11eb_b096_8c859031a209row14_col4,#T_6da3dcba_8445_11eb_b096_8c859031a209row14_col5,#T_6da3dcba_8445_11eb_b096_8c859031a209row14_col6,#T_6da3dcba_8445_11eb_b096_8c859031a209row14_col7,#T_6da3dcba_8445_11eb_b096_8c859031a209row14_col8,#T_6da3dcba_8445_11eb_b096_8c859031a209row14_col9,#T_6da3dcba_8445_11eb_b096_8c859031a209row14_col10,#T_6da3dcba_8445_11eb_b096_8c859031a209row14_col11,#T_6da3dcba_8445_11eb_b096_8c859031a209row14_col12,#T_6da3dcba_8445_11eb_b096_8c859031a209row15_col0,#T_6da3dcba_8445_11eb_b096_8c859031a209row15_col1,#T_6da3dcba_8445_11eb_b096_8c859031a209row15_col2,#T_6da3dcba_8445_11eb_b096_8c859031a209row15_col3,#T_6da3dcba_8445_11eb_b096_8c859031a209row15_col4,#T_6da3dcba_8445_11eb_b096_8c859031a209row15_col5,#T_6da3dcba_8445_11eb_b096_8c859031a209row15_col6,#T_6da3dcba_8445_11eb_b096_8c859031a209row15_col7,#T_6da3dcba_8445_11eb_b096_8c859031a209row15_col8,#T_6da3dcba_8445_11eb_b096_8c859031a209row15_col9,#T_6da3dcba_8445_11eb_b096_8c859031a209row15_col10,#T_6da3dcba_8445_11eb_b096_8c859031a209row15_col11,#T_6da3dcba_8445_11eb_b096_8c859031a209row15_col12,#T_6da3dcba_8445_11eb_b096_8c859031a209row16_col0,#T_6da3dcba_8445_11eb_b096_8c859031a209row16_col1,#T_6da3dcba_8445_11eb_b096_8c859031a209row16_col2,#T_6da3dcba_8445_11eb_b096_8c859031a209row16_col3,#T_6da3dcba_8445_11eb_b096_8c859031a209row16_col4,#T_6da3dcba_8445_11eb_b096_8c859031a209row16_col5,#T_6da3dcba_8445_11eb_b096_8c859031a209row16_col6,#T_6da3dcba_8445_11eb_b096_8c859031a209row16_col7,#T_6da3dcba_8445_11eb_b096_8c859031a209row16_col8,#T_6da3dcba_8445_11eb_b096_8c859031a209row16_col9,#T_6da3dcba_8445_11eb_b096_8c859031a209row16_col10,#T_6da3dcba_8445_11eb_b096_8c859031a209row16_col11,#T_6da3dcba_8445_11eb_b096_8c859031a209row16_col12,#T_6da3dcba_8445_11eb_b096_8c859031a209row17_col0,#T_6da3dcba_8445_11eb_b096_8c859031a209row17_col1,#T_6da3dcba_8445_11eb_b096_8c859031a209row17_col2,#T_6da3dcba_8445_11eb_b096_8c859031a209row17_col3,#T_6da3dcba_8445_11eb_b096_8c859031a209row17_col4,#T_6da3dcba_8445_11eb_b096_8c859031a209row17_col5,#T_6da3dcba_8445_11eb_b096_8c859031a209row17_col6,#T_6da3dcba_8445_11eb_b096_8c859031a209row17_col7,#T_6da3dcba_8445_11eb_b096_8c859031a209row17_col8,#T_6da3dcba_8445_11eb_b096_8c859031a209row17_col9,#T_6da3dcba_8445_11eb_b096_8c859031a209row17_col10,#T_6da3dcba_8445_11eb_b096_8c859031a209row17_col11,#T_6da3dcba_8445_11eb_b096_8c859031a209row17_col12,#T_6da3dcba_8445_11eb_b096_8c859031a209row18_col0,#T_6da3dcba_8445_11eb_b096_8c859031a209row18_col1,#T_6da3dcba_8445_11eb_b096_8c859031a209row18_col2,#T_6da3dcba_8445_11eb_b096_8c859031a209row18_col3,#T_6da3dcba_8445_11eb_b096_8c859031a209row18_col4,#T_6da3dcba_8445_11eb_b096_8c859031a209row18_col5,#T_6da3dcba_8445_11eb_b096_8c859031a209row18_col6,#T_6da3dcba_8445_11eb_b096_8c859031a209row18_col7,#T_6da3dcba_8445_11eb_b096_8c859031a209row18_col8,#T_6da3dcba_8445_11eb_b096_8c859031a209row18_col9,#T_6da3dcba_8445_11eb_b096_8c859031a209row18_col10,#T_6da3dcba_8445_11eb_b096_8c859031a209row18_col11,#T_6da3dcba_8445_11eb_b096_8c859031a209row18_col12,#T_6da3dcba_8445_11eb_b096_8c859031a209row20_col0,#T_6da3dcba_8445_11eb_b096_8c859031a209row20_col1,#T_6da3dcba_8445_11eb_b096_8c859031a209row20_col2,#T_6da3dcba_8445_11eb_b096_8c859031a209row20_col3,#T_6da3dcba_8445_11eb_b096_8c859031a209row20_col4,#T_6da3dcba_8445_11eb_b096_8c859031a209row20_col5,#T_6da3dcba_8445_11eb_b096_8c859031a209row20_col6,#T_6da3dcba_8445_11eb_b096_8c859031a209row20_col7,#T_6da3dcba_8445_11eb_b096_8c859031a209row20_col8,#T_6da3dcba_8445_11eb_b096_8c859031a209row20_col9,#T_6da3dcba_8445_11eb_b096_8c859031a209row20_col10,#T_6da3dcba_8445_11eb_b096_8c859031a209row20_col11,#T_6da3dcba_8445_11eb_b096_8c859031a209row20_col12,#T_6da3dcba_8445_11eb_b096_8c859031a209row22_col0,#T_6da3dcba_8445_11eb_b096_8c859031a209row22_col1,#T_6da3dcba_8445_11eb_b096_8c859031a209row22_col2,#T_6da3dcba_8445_11eb_b096_8c859031a209row22_col3,#T_6da3dcba_8445_11eb_b096_8c859031a209row22_col4,#T_6da3dcba_8445_11eb_b096_8c859031a209row22_col5,#T_6da3dcba_8445_11eb_b096_8c859031a209row22_col6,#T_6da3dcba_8445_11eb_b096_8c859031a209row22_col7,#T_6da3dcba_8445_11eb_b096_8c859031a209row22_col8,#T_6da3dcba_8445_11eb_b096_8c859031a209row22_col9,#T_6da3dcba_8445_11eb_b096_8c859031a209row22_col10,#T_6da3dcba_8445_11eb_b096_8c859031a209row22_col11,#T_6da3dcba_8445_11eb_b096_8c859031a209row22_col12,#T_6da3dcba_8445_11eb_b096_8c859031a209row24_col0,#T_6da3dcba_8445_11eb_b096_8c859031a209row24_col1,#T_6da3dcba_8445_11eb_b096_8c859031a209row24_col2,#T_6da3dcba_8445_11eb_b096_8c859031a209row24_col3,#T_6da3dcba_8445_11eb_b096_8c859031a209row24_col4,#T_6da3dcba_8445_11eb_b096_8c859031a209row24_col5,#T_6da3dcba_8445_11eb_b096_8c859031a209row24_col6,#T_6da3dcba_8445_11eb_b096_8c859031a209row24_col7,#T_6da3dcba_8445_11eb_b096_8c859031a209row24_col8,#T_6da3dcba_8445_11eb_b096_8c859031a209row24_col9,#T_6da3dcba_8445_11eb_b096_8c859031a209row24_col10,#T_6da3dcba_8445_11eb_b096_8c859031a209row24_col11,#T_6da3dcba_8445_11eb_b096_8c859031a209row24_col12,#T_6da3dcba_8445_11eb_b096_8c859031a209row25_col0,#T_6da3dcba_8445_11eb_b096_8c859031a209row25_col1,#T_6da3dcba_8445_11eb_b096_8c859031a209row25_col2,#T_6da3dcba_8445_11eb_b096_8c859031a209row25_col3,#T_6da3dcba_8445_11eb_b096_8c859031a209row25_col4,#T_6da3dcba_8445_11eb_b096_8c859031a209row25_col5,#T_6da3dcba_8445_11eb_b096_8c859031a209row25_col6,#T_6da3dcba_8445_11eb_b096_8c859031a209row25_col7,#T_6da3dcba_8445_11eb_b096_8c859031a209row25_col8,#T_6da3dcba_8445_11eb_b096_8c859031a209row25_col9,#T_6da3dcba_8445_11eb_b096_8c859031a209row25_col10,#T_6da3dcba_8445_11eb_b096_8c859031a209row25_col11,#T_6da3dcba_8445_11eb_b096_8c859031a209row25_col12{\n",
       "            background-color:  #ffffe5;\n",
       "            color:  #000000;\n",
       "        }#T_6da3dcba_8445_11eb_b096_8c859031a209row10_col0,#T_6da3dcba_8445_11eb_b096_8c859031a209row10_col1,#T_6da3dcba_8445_11eb_b096_8c859031a209row10_col2,#T_6da3dcba_8445_11eb_b096_8c859031a209row10_col3,#T_6da3dcba_8445_11eb_b096_8c859031a209row10_col4,#T_6da3dcba_8445_11eb_b096_8c859031a209row10_col5,#T_6da3dcba_8445_11eb_b096_8c859031a209row10_col6,#T_6da3dcba_8445_11eb_b096_8c859031a209row10_col7,#T_6da3dcba_8445_11eb_b096_8c859031a209row10_col8,#T_6da3dcba_8445_11eb_b096_8c859031a209row10_col9,#T_6da3dcba_8445_11eb_b096_8c859031a209row10_col10,#T_6da3dcba_8445_11eb_b096_8c859031a209row10_col11,#T_6da3dcba_8445_11eb_b096_8c859031a209row10_col12{\n",
       "            background-color:  #339951;\n",
       "            color:  #000000;\n",
       "        }#T_6da3dcba_8445_11eb_b096_8c859031a209row11_col0,#T_6da3dcba_8445_11eb_b096_8c859031a209row11_col1,#T_6da3dcba_8445_11eb_b096_8c859031a209row11_col2,#T_6da3dcba_8445_11eb_b096_8c859031a209row11_col3,#T_6da3dcba_8445_11eb_b096_8c859031a209row11_col4,#T_6da3dcba_8445_11eb_b096_8c859031a209row11_col5,#T_6da3dcba_8445_11eb_b096_8c859031a209row11_col6,#T_6da3dcba_8445_11eb_b096_8c859031a209row11_col7,#T_6da3dcba_8445_11eb_b096_8c859031a209row11_col8,#T_6da3dcba_8445_11eb_b096_8c859031a209row11_col9,#T_6da3dcba_8445_11eb_b096_8c859031a209row11_col10,#T_6da3dcba_8445_11eb_b096_8c859031a209row11_col11,#T_6da3dcba_8445_11eb_b096_8c859031a209row11_col12,#T_6da3dcba_8445_11eb_b096_8c859031a209row13_col0,#T_6da3dcba_8445_11eb_b096_8c859031a209row13_col1,#T_6da3dcba_8445_11eb_b096_8c859031a209row13_col2,#T_6da3dcba_8445_11eb_b096_8c859031a209row13_col3,#T_6da3dcba_8445_11eb_b096_8c859031a209row13_col4,#T_6da3dcba_8445_11eb_b096_8c859031a209row13_col5,#T_6da3dcba_8445_11eb_b096_8c859031a209row13_col6,#T_6da3dcba_8445_11eb_b096_8c859031a209row13_col7,#T_6da3dcba_8445_11eb_b096_8c859031a209row13_col8,#T_6da3dcba_8445_11eb_b096_8c859031a209row13_col9,#T_6da3dcba_8445_11eb_b096_8c859031a209row13_col10,#T_6da3dcba_8445_11eb_b096_8c859031a209row13_col11,#T_6da3dcba_8445_11eb_b096_8c859031a209row13_col12,#T_6da3dcba_8445_11eb_b096_8c859031a209row21_col0,#T_6da3dcba_8445_11eb_b096_8c859031a209row21_col1,#T_6da3dcba_8445_11eb_b096_8c859031a209row21_col2,#T_6da3dcba_8445_11eb_b096_8c859031a209row21_col3,#T_6da3dcba_8445_11eb_b096_8c859031a209row21_col4,#T_6da3dcba_8445_11eb_b096_8c859031a209row21_col5,#T_6da3dcba_8445_11eb_b096_8c859031a209row21_col6,#T_6da3dcba_8445_11eb_b096_8c859031a209row21_col7,#T_6da3dcba_8445_11eb_b096_8c859031a209row21_col8,#T_6da3dcba_8445_11eb_b096_8c859031a209row21_col9,#T_6da3dcba_8445_11eb_b096_8c859031a209row21_col10,#T_6da3dcba_8445_11eb_b096_8c859031a209row21_col11,#T_6da3dcba_8445_11eb_b096_8c859031a209row21_col12{\n",
       "            background-color:  #004529;\n",
       "            color:  #f1f1f1;\n",
       "        }#T_6da3dcba_8445_11eb_b096_8c859031a209row19_col0,#T_6da3dcba_8445_11eb_b096_8c859031a209row19_col1,#T_6da3dcba_8445_11eb_b096_8c859031a209row19_col2,#T_6da3dcba_8445_11eb_b096_8c859031a209row19_col3,#T_6da3dcba_8445_11eb_b096_8c859031a209row19_col4,#T_6da3dcba_8445_11eb_b096_8c859031a209row19_col5,#T_6da3dcba_8445_11eb_b096_8c859031a209row19_col6,#T_6da3dcba_8445_11eb_b096_8c859031a209row19_col7,#T_6da3dcba_8445_11eb_b096_8c859031a209row19_col8,#T_6da3dcba_8445_11eb_b096_8c859031a209row19_col9,#T_6da3dcba_8445_11eb_b096_8c859031a209row19_col10,#T_6da3dcba_8445_11eb_b096_8c859031a209row19_col11,#T_6da3dcba_8445_11eb_b096_8c859031a209row19_col12{\n",
       "            background-color:  #f7fcbc;\n",
       "            color:  #000000;\n",
       "        }#T_6da3dcba_8445_11eb_b096_8c859031a209row23_col0,#T_6da3dcba_8445_11eb_b096_8c859031a209row23_col1,#T_6da3dcba_8445_11eb_b096_8c859031a209row23_col2,#T_6da3dcba_8445_11eb_b096_8c859031a209row23_col3,#T_6da3dcba_8445_11eb_b096_8c859031a209row23_col4,#T_6da3dcba_8445_11eb_b096_8c859031a209row23_col5,#T_6da3dcba_8445_11eb_b096_8c859031a209row23_col6,#T_6da3dcba_8445_11eb_b096_8c859031a209row23_col7,#T_6da3dcba_8445_11eb_b096_8c859031a209row23_col8,#T_6da3dcba_8445_11eb_b096_8c859031a209row23_col9,#T_6da3dcba_8445_11eb_b096_8c859031a209row23_col10,#T_6da3dcba_8445_11eb_b096_8c859031a209row23_col11,#T_6da3dcba_8445_11eb_b096_8c859031a209row23_col12{\n",
       "            background-color:  #e5f5ac;\n",
       "            color:  #000000;\n",
       "        }</style><table id=\"T_6da3dcba_8445_11eb_b096_8c859031a209\" ><thead>    <tr>        <th class=\"blank level0\" ></th>        <th class=\"col_heading level0 col0\" >MV</th>        <th class=\"col_heading level0 col1\" >MAD</th>        <th class=\"col_heading level0 col2\" >MSV</th>        <th class=\"col_heading level0 col3\" >FLPM</th>        <th class=\"col_heading level0 col4\" >SLPM</th>        <th class=\"col_heading level0 col5\" >CVaR</th>        <th class=\"col_heading level0 col6\" >EVaR</th>        <th class=\"col_heading level0 col7\" >WR</th>        <th class=\"col_heading level0 col8\" >MDD</th>        <th class=\"col_heading level0 col9\" >ADD</th>        <th class=\"col_heading level0 col10\" >CDaR</th>        <th class=\"col_heading level0 col11\" >UCI</th>        <th class=\"col_heading level0 col12\" >EDaR</th>    </tr></thead><tbody>\n",
       "                <tr>\n",
       "                        <th id=\"T_6da3dcba_8445_11eb_b096_8c859031a209level0_row0\" class=\"row_heading level0 row0\" >A069500</th>\n",
       "                        <td id=\"T_6da3dcba_8445_11eb_b096_8c859031a209row0_col0\" class=\"data row0 col0\" >0.00%</td>\n",
       "                        <td id=\"T_6da3dcba_8445_11eb_b096_8c859031a209row0_col1\" class=\"data row0 col1\" >0.00%</td>\n",
       "                        <td id=\"T_6da3dcba_8445_11eb_b096_8c859031a209row0_col2\" class=\"data row0 col2\" >0.00%</td>\n",
       "                        <td id=\"T_6da3dcba_8445_11eb_b096_8c859031a209row0_col3\" class=\"data row0 col3\" >0.00%</td>\n",
       "                        <td id=\"T_6da3dcba_8445_11eb_b096_8c859031a209row0_col4\" class=\"data row0 col4\" >0.00%</td>\n",
       "                        <td id=\"T_6da3dcba_8445_11eb_b096_8c859031a209row0_col5\" class=\"data row0 col5\" >0.00%</td>\n",
       "                        <td id=\"T_6da3dcba_8445_11eb_b096_8c859031a209row0_col6\" class=\"data row0 col6\" >0.00%</td>\n",
       "                        <td id=\"T_6da3dcba_8445_11eb_b096_8c859031a209row0_col7\" class=\"data row0 col7\" >0.00%</td>\n",
       "                        <td id=\"T_6da3dcba_8445_11eb_b096_8c859031a209row0_col8\" class=\"data row0 col8\" >0.00%</td>\n",
       "                        <td id=\"T_6da3dcba_8445_11eb_b096_8c859031a209row0_col9\" class=\"data row0 col9\" >0.00%</td>\n",
       "                        <td id=\"T_6da3dcba_8445_11eb_b096_8c859031a209row0_col10\" class=\"data row0 col10\" >0.00%</td>\n",
       "                        <td id=\"T_6da3dcba_8445_11eb_b096_8c859031a209row0_col11\" class=\"data row0 col11\" >0.00%</td>\n",
       "                        <td id=\"T_6da3dcba_8445_11eb_b096_8c859031a209row0_col12\" class=\"data row0 col12\" >0.00%</td>\n",
       "            </tr>\n",
       "            <tr>\n",
       "                        <th id=\"T_6da3dcba_8445_11eb_b096_8c859031a209level0_row1\" class=\"row_heading level0 row1\" >A091160</th>\n",
       "                        <td id=\"T_6da3dcba_8445_11eb_b096_8c859031a209row1_col0\" class=\"data row1 col0\" >0.00%</td>\n",
       "                        <td id=\"T_6da3dcba_8445_11eb_b096_8c859031a209row1_col1\" class=\"data row1 col1\" >0.00%</td>\n",
       "                        <td id=\"T_6da3dcba_8445_11eb_b096_8c859031a209row1_col2\" class=\"data row1 col2\" >0.00%</td>\n",
       "                        <td id=\"T_6da3dcba_8445_11eb_b096_8c859031a209row1_col3\" class=\"data row1 col3\" >0.00%</td>\n",
       "                        <td id=\"T_6da3dcba_8445_11eb_b096_8c859031a209row1_col4\" class=\"data row1 col4\" >0.00%</td>\n",
       "                        <td id=\"T_6da3dcba_8445_11eb_b096_8c859031a209row1_col5\" class=\"data row1 col5\" >0.00%</td>\n",
       "                        <td id=\"T_6da3dcba_8445_11eb_b096_8c859031a209row1_col6\" class=\"data row1 col6\" >0.00%</td>\n",
       "                        <td id=\"T_6da3dcba_8445_11eb_b096_8c859031a209row1_col7\" class=\"data row1 col7\" >0.00%</td>\n",
       "                        <td id=\"T_6da3dcba_8445_11eb_b096_8c859031a209row1_col8\" class=\"data row1 col8\" >0.00%</td>\n",
       "                        <td id=\"T_6da3dcba_8445_11eb_b096_8c859031a209row1_col9\" class=\"data row1 col9\" >0.00%</td>\n",
       "                        <td id=\"T_6da3dcba_8445_11eb_b096_8c859031a209row1_col10\" class=\"data row1 col10\" >0.00%</td>\n",
       "                        <td id=\"T_6da3dcba_8445_11eb_b096_8c859031a209row1_col11\" class=\"data row1 col11\" >0.00%</td>\n",
       "                        <td id=\"T_6da3dcba_8445_11eb_b096_8c859031a209row1_col12\" class=\"data row1 col12\" >0.00%</td>\n",
       "            </tr>\n",
       "            <tr>\n",
       "                        <th id=\"T_6da3dcba_8445_11eb_b096_8c859031a209level0_row2\" class=\"row_heading level0 row2\" >A091170</th>\n",
       "                        <td id=\"T_6da3dcba_8445_11eb_b096_8c859031a209row2_col0\" class=\"data row2 col0\" >0.00%</td>\n",
       "                        <td id=\"T_6da3dcba_8445_11eb_b096_8c859031a209row2_col1\" class=\"data row2 col1\" >0.00%</td>\n",
       "                        <td id=\"T_6da3dcba_8445_11eb_b096_8c859031a209row2_col2\" class=\"data row2 col2\" >0.00%</td>\n",
       "                        <td id=\"T_6da3dcba_8445_11eb_b096_8c859031a209row2_col3\" class=\"data row2 col3\" >0.00%</td>\n",
       "                        <td id=\"T_6da3dcba_8445_11eb_b096_8c859031a209row2_col4\" class=\"data row2 col4\" >0.00%</td>\n",
       "                        <td id=\"T_6da3dcba_8445_11eb_b096_8c859031a209row2_col5\" class=\"data row2 col5\" >0.00%</td>\n",
       "                        <td id=\"T_6da3dcba_8445_11eb_b096_8c859031a209row2_col6\" class=\"data row2 col6\" >0.00%</td>\n",
       "                        <td id=\"T_6da3dcba_8445_11eb_b096_8c859031a209row2_col7\" class=\"data row2 col7\" >0.00%</td>\n",
       "                        <td id=\"T_6da3dcba_8445_11eb_b096_8c859031a209row2_col8\" class=\"data row2 col8\" >0.00%</td>\n",
       "                        <td id=\"T_6da3dcba_8445_11eb_b096_8c859031a209row2_col9\" class=\"data row2 col9\" >0.00%</td>\n",
       "                        <td id=\"T_6da3dcba_8445_11eb_b096_8c859031a209row2_col10\" class=\"data row2 col10\" >0.00%</td>\n",
       "                        <td id=\"T_6da3dcba_8445_11eb_b096_8c859031a209row2_col11\" class=\"data row2 col11\" >0.00%</td>\n",
       "                        <td id=\"T_6da3dcba_8445_11eb_b096_8c859031a209row2_col12\" class=\"data row2 col12\" >0.00%</td>\n",
       "            </tr>\n",
       "            <tr>\n",
       "                        <th id=\"T_6da3dcba_8445_11eb_b096_8c859031a209level0_row3\" class=\"row_heading level0 row3\" >A091180</th>\n",
       "                        <td id=\"T_6da3dcba_8445_11eb_b096_8c859031a209row3_col0\" class=\"data row3 col0\" >0.00%</td>\n",
       "                        <td id=\"T_6da3dcba_8445_11eb_b096_8c859031a209row3_col1\" class=\"data row3 col1\" >0.00%</td>\n",
       "                        <td id=\"T_6da3dcba_8445_11eb_b096_8c859031a209row3_col2\" class=\"data row3 col2\" >0.00%</td>\n",
       "                        <td id=\"T_6da3dcba_8445_11eb_b096_8c859031a209row3_col3\" class=\"data row3 col3\" >0.00%</td>\n",
       "                        <td id=\"T_6da3dcba_8445_11eb_b096_8c859031a209row3_col4\" class=\"data row3 col4\" >0.00%</td>\n",
       "                        <td id=\"T_6da3dcba_8445_11eb_b096_8c859031a209row3_col5\" class=\"data row3 col5\" >0.00%</td>\n",
       "                        <td id=\"T_6da3dcba_8445_11eb_b096_8c859031a209row3_col6\" class=\"data row3 col6\" >0.00%</td>\n",
       "                        <td id=\"T_6da3dcba_8445_11eb_b096_8c859031a209row3_col7\" class=\"data row3 col7\" >0.00%</td>\n",
       "                        <td id=\"T_6da3dcba_8445_11eb_b096_8c859031a209row3_col8\" class=\"data row3 col8\" >0.00%</td>\n",
       "                        <td id=\"T_6da3dcba_8445_11eb_b096_8c859031a209row3_col9\" class=\"data row3 col9\" >0.00%</td>\n",
       "                        <td id=\"T_6da3dcba_8445_11eb_b096_8c859031a209row3_col10\" class=\"data row3 col10\" >0.00%</td>\n",
       "                        <td id=\"T_6da3dcba_8445_11eb_b096_8c859031a209row3_col11\" class=\"data row3 col11\" >0.00%</td>\n",
       "                        <td id=\"T_6da3dcba_8445_11eb_b096_8c859031a209row3_col12\" class=\"data row3 col12\" >0.00%</td>\n",
       "            </tr>\n",
       "            <tr>\n",
       "                        <th id=\"T_6da3dcba_8445_11eb_b096_8c859031a209level0_row4\" class=\"row_heading level0 row4\" >A102110</th>\n",
       "                        <td id=\"T_6da3dcba_8445_11eb_b096_8c859031a209row4_col0\" class=\"data row4 col0\" >0.00%</td>\n",
       "                        <td id=\"T_6da3dcba_8445_11eb_b096_8c859031a209row4_col1\" class=\"data row4 col1\" >0.00%</td>\n",
       "                        <td id=\"T_6da3dcba_8445_11eb_b096_8c859031a209row4_col2\" class=\"data row4 col2\" >0.00%</td>\n",
       "                        <td id=\"T_6da3dcba_8445_11eb_b096_8c859031a209row4_col3\" class=\"data row4 col3\" >0.00%</td>\n",
       "                        <td id=\"T_6da3dcba_8445_11eb_b096_8c859031a209row4_col4\" class=\"data row4 col4\" >0.00%</td>\n",
       "                        <td id=\"T_6da3dcba_8445_11eb_b096_8c859031a209row4_col5\" class=\"data row4 col5\" >0.00%</td>\n",
       "                        <td id=\"T_6da3dcba_8445_11eb_b096_8c859031a209row4_col6\" class=\"data row4 col6\" >0.00%</td>\n",
       "                        <td id=\"T_6da3dcba_8445_11eb_b096_8c859031a209row4_col7\" class=\"data row4 col7\" >0.00%</td>\n",
       "                        <td id=\"T_6da3dcba_8445_11eb_b096_8c859031a209row4_col8\" class=\"data row4 col8\" >0.00%</td>\n",
       "                        <td id=\"T_6da3dcba_8445_11eb_b096_8c859031a209row4_col9\" class=\"data row4 col9\" >0.00%</td>\n",
       "                        <td id=\"T_6da3dcba_8445_11eb_b096_8c859031a209row4_col10\" class=\"data row4 col10\" >0.00%</td>\n",
       "                        <td id=\"T_6da3dcba_8445_11eb_b096_8c859031a209row4_col11\" class=\"data row4 col11\" >0.00%</td>\n",
       "                        <td id=\"T_6da3dcba_8445_11eb_b096_8c859031a209row4_col12\" class=\"data row4 col12\" >0.00%</td>\n",
       "            </tr>\n",
       "            <tr>\n",
       "                        <th id=\"T_6da3dcba_8445_11eb_b096_8c859031a209level0_row5\" class=\"row_heading level0 row5\" >A102780</th>\n",
       "                        <td id=\"T_6da3dcba_8445_11eb_b096_8c859031a209row5_col0\" class=\"data row5 col0\" >0.00%</td>\n",
       "                        <td id=\"T_6da3dcba_8445_11eb_b096_8c859031a209row5_col1\" class=\"data row5 col1\" >0.00%</td>\n",
       "                        <td id=\"T_6da3dcba_8445_11eb_b096_8c859031a209row5_col2\" class=\"data row5 col2\" >0.00%</td>\n",
       "                        <td id=\"T_6da3dcba_8445_11eb_b096_8c859031a209row5_col3\" class=\"data row5 col3\" >0.00%</td>\n",
       "                        <td id=\"T_6da3dcba_8445_11eb_b096_8c859031a209row5_col4\" class=\"data row5 col4\" >0.00%</td>\n",
       "                        <td id=\"T_6da3dcba_8445_11eb_b096_8c859031a209row5_col5\" class=\"data row5 col5\" >0.00%</td>\n",
       "                        <td id=\"T_6da3dcba_8445_11eb_b096_8c859031a209row5_col6\" class=\"data row5 col6\" >0.00%</td>\n",
       "                        <td id=\"T_6da3dcba_8445_11eb_b096_8c859031a209row5_col7\" class=\"data row5 col7\" >0.00%</td>\n",
       "                        <td id=\"T_6da3dcba_8445_11eb_b096_8c859031a209row5_col8\" class=\"data row5 col8\" >0.00%</td>\n",
       "                        <td id=\"T_6da3dcba_8445_11eb_b096_8c859031a209row5_col9\" class=\"data row5 col9\" >0.00%</td>\n",
       "                        <td id=\"T_6da3dcba_8445_11eb_b096_8c859031a209row5_col10\" class=\"data row5 col10\" >0.00%</td>\n",
       "                        <td id=\"T_6da3dcba_8445_11eb_b096_8c859031a209row5_col11\" class=\"data row5 col11\" >0.00%</td>\n",
       "                        <td id=\"T_6da3dcba_8445_11eb_b096_8c859031a209row5_col12\" class=\"data row5 col12\" >0.00%</td>\n",
       "            </tr>\n",
       "            <tr>\n",
       "                        <th id=\"T_6da3dcba_8445_11eb_b096_8c859031a209level0_row6\" class=\"row_heading level0 row6\" >A105190</th>\n",
       "                        <td id=\"T_6da3dcba_8445_11eb_b096_8c859031a209row6_col0\" class=\"data row6 col0\" >0.00%</td>\n",
       "                        <td id=\"T_6da3dcba_8445_11eb_b096_8c859031a209row6_col1\" class=\"data row6 col1\" >0.00%</td>\n",
       "                        <td id=\"T_6da3dcba_8445_11eb_b096_8c859031a209row6_col2\" class=\"data row6 col2\" >0.00%</td>\n",
       "                        <td id=\"T_6da3dcba_8445_11eb_b096_8c859031a209row6_col3\" class=\"data row6 col3\" >0.00%</td>\n",
       "                        <td id=\"T_6da3dcba_8445_11eb_b096_8c859031a209row6_col4\" class=\"data row6 col4\" >0.00%</td>\n",
       "                        <td id=\"T_6da3dcba_8445_11eb_b096_8c859031a209row6_col5\" class=\"data row6 col5\" >0.00%</td>\n",
       "                        <td id=\"T_6da3dcba_8445_11eb_b096_8c859031a209row6_col6\" class=\"data row6 col6\" >0.00%</td>\n",
       "                        <td id=\"T_6da3dcba_8445_11eb_b096_8c859031a209row6_col7\" class=\"data row6 col7\" >0.00%</td>\n",
       "                        <td id=\"T_6da3dcba_8445_11eb_b096_8c859031a209row6_col8\" class=\"data row6 col8\" >0.00%</td>\n",
       "                        <td id=\"T_6da3dcba_8445_11eb_b096_8c859031a209row6_col9\" class=\"data row6 col9\" >0.00%</td>\n",
       "                        <td id=\"T_6da3dcba_8445_11eb_b096_8c859031a209row6_col10\" class=\"data row6 col10\" >0.00%</td>\n",
       "                        <td id=\"T_6da3dcba_8445_11eb_b096_8c859031a209row6_col11\" class=\"data row6 col11\" >0.00%</td>\n",
       "                        <td id=\"T_6da3dcba_8445_11eb_b096_8c859031a209row6_col12\" class=\"data row6 col12\" >0.00%</td>\n",
       "            </tr>\n",
       "            <tr>\n",
       "                        <th id=\"T_6da3dcba_8445_11eb_b096_8c859031a209level0_row7\" class=\"row_heading level0 row7\" >A114260</th>\n",
       "                        <td id=\"T_6da3dcba_8445_11eb_b096_8c859031a209row7_col0\" class=\"data row7 col0\" >0.00%</td>\n",
       "                        <td id=\"T_6da3dcba_8445_11eb_b096_8c859031a209row7_col1\" class=\"data row7 col1\" >0.00%</td>\n",
       "                        <td id=\"T_6da3dcba_8445_11eb_b096_8c859031a209row7_col2\" class=\"data row7 col2\" >0.00%</td>\n",
       "                        <td id=\"T_6da3dcba_8445_11eb_b096_8c859031a209row7_col3\" class=\"data row7 col3\" >0.00%</td>\n",
       "                        <td id=\"T_6da3dcba_8445_11eb_b096_8c859031a209row7_col4\" class=\"data row7 col4\" >0.00%</td>\n",
       "                        <td id=\"T_6da3dcba_8445_11eb_b096_8c859031a209row7_col5\" class=\"data row7 col5\" >0.00%</td>\n",
       "                        <td id=\"T_6da3dcba_8445_11eb_b096_8c859031a209row7_col6\" class=\"data row7 col6\" >0.00%</td>\n",
       "                        <td id=\"T_6da3dcba_8445_11eb_b096_8c859031a209row7_col7\" class=\"data row7 col7\" >0.00%</td>\n",
       "                        <td id=\"T_6da3dcba_8445_11eb_b096_8c859031a209row7_col8\" class=\"data row7 col8\" >0.00%</td>\n",
       "                        <td id=\"T_6da3dcba_8445_11eb_b096_8c859031a209row7_col9\" class=\"data row7 col9\" >0.00%</td>\n",
       "                        <td id=\"T_6da3dcba_8445_11eb_b096_8c859031a209row7_col10\" class=\"data row7 col10\" >0.00%</td>\n",
       "                        <td id=\"T_6da3dcba_8445_11eb_b096_8c859031a209row7_col11\" class=\"data row7 col11\" >0.00%</td>\n",
       "                        <td id=\"T_6da3dcba_8445_11eb_b096_8c859031a209row7_col12\" class=\"data row7 col12\" >0.00%</td>\n",
       "            </tr>\n",
       "            <tr>\n",
       "                        <th id=\"T_6da3dcba_8445_11eb_b096_8c859031a209level0_row8\" class=\"row_heading level0 row8\" >A122260</th>\n",
       "                        <td id=\"T_6da3dcba_8445_11eb_b096_8c859031a209row8_col0\" class=\"data row8 col0\" >0.00%</td>\n",
       "                        <td id=\"T_6da3dcba_8445_11eb_b096_8c859031a209row8_col1\" class=\"data row8 col1\" >0.00%</td>\n",
       "                        <td id=\"T_6da3dcba_8445_11eb_b096_8c859031a209row8_col2\" class=\"data row8 col2\" >0.00%</td>\n",
       "                        <td id=\"T_6da3dcba_8445_11eb_b096_8c859031a209row8_col3\" class=\"data row8 col3\" >0.00%</td>\n",
       "                        <td id=\"T_6da3dcba_8445_11eb_b096_8c859031a209row8_col4\" class=\"data row8 col4\" >0.00%</td>\n",
       "                        <td id=\"T_6da3dcba_8445_11eb_b096_8c859031a209row8_col5\" class=\"data row8 col5\" >0.00%</td>\n",
       "                        <td id=\"T_6da3dcba_8445_11eb_b096_8c859031a209row8_col6\" class=\"data row8 col6\" >0.00%</td>\n",
       "                        <td id=\"T_6da3dcba_8445_11eb_b096_8c859031a209row8_col7\" class=\"data row8 col7\" >0.00%</td>\n",
       "                        <td id=\"T_6da3dcba_8445_11eb_b096_8c859031a209row8_col8\" class=\"data row8 col8\" >0.00%</td>\n",
       "                        <td id=\"T_6da3dcba_8445_11eb_b096_8c859031a209row8_col9\" class=\"data row8 col9\" >0.00%</td>\n",
       "                        <td id=\"T_6da3dcba_8445_11eb_b096_8c859031a209row8_col10\" class=\"data row8 col10\" >0.00%</td>\n",
       "                        <td id=\"T_6da3dcba_8445_11eb_b096_8c859031a209row8_col11\" class=\"data row8 col11\" >0.00%</td>\n",
       "                        <td id=\"T_6da3dcba_8445_11eb_b096_8c859031a209row8_col12\" class=\"data row8 col12\" >0.00%</td>\n",
       "            </tr>\n",
       "            <tr>\n",
       "                        <th id=\"T_6da3dcba_8445_11eb_b096_8c859031a209level0_row9\" class=\"row_heading level0 row9\" >A130730</th>\n",
       "                        <td id=\"T_6da3dcba_8445_11eb_b096_8c859031a209row9_col0\" class=\"data row9 col0\" >0.00%</td>\n",
       "                        <td id=\"T_6da3dcba_8445_11eb_b096_8c859031a209row9_col1\" class=\"data row9 col1\" >0.00%</td>\n",
       "                        <td id=\"T_6da3dcba_8445_11eb_b096_8c859031a209row9_col2\" class=\"data row9 col2\" >0.00%</td>\n",
       "                        <td id=\"T_6da3dcba_8445_11eb_b096_8c859031a209row9_col3\" class=\"data row9 col3\" >0.00%</td>\n",
       "                        <td id=\"T_6da3dcba_8445_11eb_b096_8c859031a209row9_col4\" class=\"data row9 col4\" >0.00%</td>\n",
       "                        <td id=\"T_6da3dcba_8445_11eb_b096_8c859031a209row9_col5\" class=\"data row9 col5\" >0.00%</td>\n",
       "                        <td id=\"T_6da3dcba_8445_11eb_b096_8c859031a209row9_col6\" class=\"data row9 col6\" >0.00%</td>\n",
       "                        <td id=\"T_6da3dcba_8445_11eb_b096_8c859031a209row9_col7\" class=\"data row9 col7\" >0.00%</td>\n",
       "                        <td id=\"T_6da3dcba_8445_11eb_b096_8c859031a209row9_col8\" class=\"data row9 col8\" >0.00%</td>\n",
       "                        <td id=\"T_6da3dcba_8445_11eb_b096_8c859031a209row9_col9\" class=\"data row9 col9\" >0.00%</td>\n",
       "                        <td id=\"T_6da3dcba_8445_11eb_b096_8c859031a209row9_col10\" class=\"data row9 col10\" >0.00%</td>\n",
       "                        <td id=\"T_6da3dcba_8445_11eb_b096_8c859031a209row9_col11\" class=\"data row9 col11\" >0.00%</td>\n",
       "                        <td id=\"T_6da3dcba_8445_11eb_b096_8c859031a209row9_col12\" class=\"data row9 col12\" >0.00%</td>\n",
       "            </tr>\n",
       "            <tr>\n",
       "                        <th id=\"T_6da3dcba_8445_11eb_b096_8c859031a209level0_row10\" class=\"row_heading level0 row10\" >A139260</th>\n",
       "                        <td id=\"T_6da3dcba_8445_11eb_b096_8c859031a209row10_col0\" class=\"data row10 col0\" >17.00%</td>\n",
       "                        <td id=\"T_6da3dcba_8445_11eb_b096_8c859031a209row10_col1\" class=\"data row10 col1\" >17.00%</td>\n",
       "                        <td id=\"T_6da3dcba_8445_11eb_b096_8c859031a209row10_col2\" class=\"data row10 col2\" >17.00%</td>\n",
       "                        <td id=\"T_6da3dcba_8445_11eb_b096_8c859031a209row10_col3\" class=\"data row10 col3\" >17.00%</td>\n",
       "                        <td id=\"T_6da3dcba_8445_11eb_b096_8c859031a209row10_col4\" class=\"data row10 col4\" >17.00%</td>\n",
       "                        <td id=\"T_6da3dcba_8445_11eb_b096_8c859031a209row10_col5\" class=\"data row10 col5\" >17.00%</td>\n",
       "                        <td id=\"T_6da3dcba_8445_11eb_b096_8c859031a209row10_col6\" class=\"data row10 col6\" >17.00%</td>\n",
       "                        <td id=\"T_6da3dcba_8445_11eb_b096_8c859031a209row10_col7\" class=\"data row10 col7\" >17.00%</td>\n",
       "                        <td id=\"T_6da3dcba_8445_11eb_b096_8c859031a209row10_col8\" class=\"data row10 col8\" >17.00%</td>\n",
       "                        <td id=\"T_6da3dcba_8445_11eb_b096_8c859031a209row10_col9\" class=\"data row10 col9\" >17.00%</td>\n",
       "                        <td id=\"T_6da3dcba_8445_11eb_b096_8c859031a209row10_col10\" class=\"data row10 col10\" >17.00%</td>\n",
       "                        <td id=\"T_6da3dcba_8445_11eb_b096_8c859031a209row10_col11\" class=\"data row10 col11\" >17.00%</td>\n",
       "                        <td id=\"T_6da3dcba_8445_11eb_b096_8c859031a209row10_col12\" class=\"data row10 col12\" >17.00%</td>\n",
       "            </tr>\n",
       "            <tr>\n",
       "                        <th id=\"T_6da3dcba_8445_11eb_b096_8c859031a209level0_row11\" class=\"row_heading level0 row11\" >A148070</th>\n",
       "                        <td id=\"T_6da3dcba_8445_11eb_b096_8c859031a209row11_col0\" class=\"data row11 col0\" >25.00%</td>\n",
       "                        <td id=\"T_6da3dcba_8445_11eb_b096_8c859031a209row11_col1\" class=\"data row11 col1\" >25.00%</td>\n",
       "                        <td id=\"T_6da3dcba_8445_11eb_b096_8c859031a209row11_col2\" class=\"data row11 col2\" >25.00%</td>\n",
       "                        <td id=\"T_6da3dcba_8445_11eb_b096_8c859031a209row11_col3\" class=\"data row11 col3\" >25.00%</td>\n",
       "                        <td id=\"T_6da3dcba_8445_11eb_b096_8c859031a209row11_col4\" class=\"data row11 col4\" >25.00%</td>\n",
       "                        <td id=\"T_6da3dcba_8445_11eb_b096_8c859031a209row11_col5\" class=\"data row11 col5\" >25.00%</td>\n",
       "                        <td id=\"T_6da3dcba_8445_11eb_b096_8c859031a209row11_col6\" class=\"data row11 col6\" >25.00%</td>\n",
       "                        <td id=\"T_6da3dcba_8445_11eb_b096_8c859031a209row11_col7\" class=\"data row11 col7\" >25.00%</td>\n",
       "                        <td id=\"T_6da3dcba_8445_11eb_b096_8c859031a209row11_col8\" class=\"data row11 col8\" >25.00%</td>\n",
       "                        <td id=\"T_6da3dcba_8445_11eb_b096_8c859031a209row11_col9\" class=\"data row11 col9\" >25.00%</td>\n",
       "                        <td id=\"T_6da3dcba_8445_11eb_b096_8c859031a209row11_col10\" class=\"data row11 col10\" >25.00%</td>\n",
       "                        <td id=\"T_6da3dcba_8445_11eb_b096_8c859031a209row11_col11\" class=\"data row11 col11\" >25.00%</td>\n",
       "                        <td id=\"T_6da3dcba_8445_11eb_b096_8c859031a209row11_col12\" class=\"data row11 col12\" >25.00%</td>\n",
       "            </tr>\n",
       "            <tr>\n",
       "                        <th id=\"T_6da3dcba_8445_11eb_b096_8c859031a209level0_row12\" class=\"row_heading level0 row12\" >A153130</th>\n",
       "                        <td id=\"T_6da3dcba_8445_11eb_b096_8c859031a209row12_col0\" class=\"data row12 col0\" >0.00%</td>\n",
       "                        <td id=\"T_6da3dcba_8445_11eb_b096_8c859031a209row12_col1\" class=\"data row12 col1\" >0.00%</td>\n",
       "                        <td id=\"T_6da3dcba_8445_11eb_b096_8c859031a209row12_col2\" class=\"data row12 col2\" >0.00%</td>\n",
       "                        <td id=\"T_6da3dcba_8445_11eb_b096_8c859031a209row12_col3\" class=\"data row12 col3\" >0.00%</td>\n",
       "                        <td id=\"T_6da3dcba_8445_11eb_b096_8c859031a209row12_col4\" class=\"data row12 col4\" >0.00%</td>\n",
       "                        <td id=\"T_6da3dcba_8445_11eb_b096_8c859031a209row12_col5\" class=\"data row12 col5\" >0.00%</td>\n",
       "                        <td id=\"T_6da3dcba_8445_11eb_b096_8c859031a209row12_col6\" class=\"data row12 col6\" >0.00%</td>\n",
       "                        <td id=\"T_6da3dcba_8445_11eb_b096_8c859031a209row12_col7\" class=\"data row12 col7\" >0.00%</td>\n",
       "                        <td id=\"T_6da3dcba_8445_11eb_b096_8c859031a209row12_col8\" class=\"data row12 col8\" >0.00%</td>\n",
       "                        <td id=\"T_6da3dcba_8445_11eb_b096_8c859031a209row12_col9\" class=\"data row12 col9\" >0.00%</td>\n",
       "                        <td id=\"T_6da3dcba_8445_11eb_b096_8c859031a209row12_col10\" class=\"data row12 col10\" >0.00%</td>\n",
       "                        <td id=\"T_6da3dcba_8445_11eb_b096_8c859031a209row12_col11\" class=\"data row12 col11\" >0.00%</td>\n",
       "                        <td id=\"T_6da3dcba_8445_11eb_b096_8c859031a209row12_col12\" class=\"data row12 col12\" >0.00%</td>\n",
       "            </tr>\n",
       "            <tr>\n",
       "                        <th id=\"T_6da3dcba_8445_11eb_b096_8c859031a209level0_row13\" class=\"row_heading level0 row13\" >A157490</th>\n",
       "                        <td id=\"T_6da3dcba_8445_11eb_b096_8c859031a209row13_col0\" class=\"data row13 col0\" >25.00%</td>\n",
       "                        <td id=\"T_6da3dcba_8445_11eb_b096_8c859031a209row13_col1\" class=\"data row13 col1\" >25.00%</td>\n",
       "                        <td id=\"T_6da3dcba_8445_11eb_b096_8c859031a209row13_col2\" class=\"data row13 col2\" >25.00%</td>\n",
       "                        <td id=\"T_6da3dcba_8445_11eb_b096_8c859031a209row13_col3\" class=\"data row13 col3\" >25.00%</td>\n",
       "                        <td id=\"T_6da3dcba_8445_11eb_b096_8c859031a209row13_col4\" class=\"data row13 col4\" >25.00%</td>\n",
       "                        <td id=\"T_6da3dcba_8445_11eb_b096_8c859031a209row13_col5\" class=\"data row13 col5\" >25.00%</td>\n",
       "                        <td id=\"T_6da3dcba_8445_11eb_b096_8c859031a209row13_col6\" class=\"data row13 col6\" >25.00%</td>\n",
       "                        <td id=\"T_6da3dcba_8445_11eb_b096_8c859031a209row13_col7\" class=\"data row13 col7\" >25.00%</td>\n",
       "                        <td id=\"T_6da3dcba_8445_11eb_b096_8c859031a209row13_col8\" class=\"data row13 col8\" >25.00%</td>\n",
       "                        <td id=\"T_6da3dcba_8445_11eb_b096_8c859031a209row13_col9\" class=\"data row13 col9\" >25.00%</td>\n",
       "                        <td id=\"T_6da3dcba_8445_11eb_b096_8c859031a209row13_col10\" class=\"data row13 col10\" >25.00%</td>\n",
       "                        <td id=\"T_6da3dcba_8445_11eb_b096_8c859031a209row13_col11\" class=\"data row13 col11\" >25.00%</td>\n",
       "                        <td id=\"T_6da3dcba_8445_11eb_b096_8c859031a209row13_col12\" class=\"data row13 col12\" >25.00%</td>\n",
       "            </tr>\n",
       "            <tr>\n",
       "                        <th id=\"T_6da3dcba_8445_11eb_b096_8c859031a209level0_row14\" class=\"row_heading level0 row14\" >A195930</th>\n",
       "                        <td id=\"T_6da3dcba_8445_11eb_b096_8c859031a209row14_col0\" class=\"data row14 col0\" >0.00%</td>\n",
       "                        <td id=\"T_6da3dcba_8445_11eb_b096_8c859031a209row14_col1\" class=\"data row14 col1\" >0.00%</td>\n",
       "                        <td id=\"T_6da3dcba_8445_11eb_b096_8c859031a209row14_col2\" class=\"data row14 col2\" >0.00%</td>\n",
       "                        <td id=\"T_6da3dcba_8445_11eb_b096_8c859031a209row14_col3\" class=\"data row14 col3\" >0.00%</td>\n",
       "                        <td id=\"T_6da3dcba_8445_11eb_b096_8c859031a209row14_col4\" class=\"data row14 col4\" >0.00%</td>\n",
       "                        <td id=\"T_6da3dcba_8445_11eb_b096_8c859031a209row14_col5\" class=\"data row14 col5\" >0.00%</td>\n",
       "                        <td id=\"T_6da3dcba_8445_11eb_b096_8c859031a209row14_col6\" class=\"data row14 col6\" >0.00%</td>\n",
       "                        <td id=\"T_6da3dcba_8445_11eb_b096_8c859031a209row14_col7\" class=\"data row14 col7\" >0.00%</td>\n",
       "                        <td id=\"T_6da3dcba_8445_11eb_b096_8c859031a209row14_col8\" class=\"data row14 col8\" >0.00%</td>\n",
       "                        <td id=\"T_6da3dcba_8445_11eb_b096_8c859031a209row14_col9\" class=\"data row14 col9\" >0.00%</td>\n",
       "                        <td id=\"T_6da3dcba_8445_11eb_b096_8c859031a209row14_col10\" class=\"data row14 col10\" >0.00%</td>\n",
       "                        <td id=\"T_6da3dcba_8445_11eb_b096_8c859031a209row14_col11\" class=\"data row14 col11\" >0.00%</td>\n",
       "                        <td id=\"T_6da3dcba_8445_11eb_b096_8c859031a209row14_col12\" class=\"data row14 col12\" >0.00%</td>\n",
       "            </tr>\n",
       "            <tr>\n",
       "                        <th id=\"T_6da3dcba_8445_11eb_b096_8c859031a209level0_row15\" class=\"row_heading level0 row15\" >A196230</th>\n",
       "                        <td id=\"T_6da3dcba_8445_11eb_b096_8c859031a209row15_col0\" class=\"data row15 col0\" >0.00%</td>\n",
       "                        <td id=\"T_6da3dcba_8445_11eb_b096_8c859031a209row15_col1\" class=\"data row15 col1\" >0.00%</td>\n",
       "                        <td id=\"T_6da3dcba_8445_11eb_b096_8c859031a209row15_col2\" class=\"data row15 col2\" >0.00%</td>\n",
       "                        <td id=\"T_6da3dcba_8445_11eb_b096_8c859031a209row15_col3\" class=\"data row15 col3\" >0.00%</td>\n",
       "                        <td id=\"T_6da3dcba_8445_11eb_b096_8c859031a209row15_col4\" class=\"data row15 col4\" >0.00%</td>\n",
       "                        <td id=\"T_6da3dcba_8445_11eb_b096_8c859031a209row15_col5\" class=\"data row15 col5\" >0.00%</td>\n",
       "                        <td id=\"T_6da3dcba_8445_11eb_b096_8c859031a209row15_col6\" class=\"data row15 col6\" >0.00%</td>\n",
       "                        <td id=\"T_6da3dcba_8445_11eb_b096_8c859031a209row15_col7\" class=\"data row15 col7\" >0.00%</td>\n",
       "                        <td id=\"T_6da3dcba_8445_11eb_b096_8c859031a209row15_col8\" class=\"data row15 col8\" >0.00%</td>\n",
       "                        <td id=\"T_6da3dcba_8445_11eb_b096_8c859031a209row15_col9\" class=\"data row15 col9\" >0.00%</td>\n",
       "                        <td id=\"T_6da3dcba_8445_11eb_b096_8c859031a209row15_col10\" class=\"data row15 col10\" >0.00%</td>\n",
       "                        <td id=\"T_6da3dcba_8445_11eb_b096_8c859031a209row15_col11\" class=\"data row15 col11\" >0.00%</td>\n",
       "                        <td id=\"T_6da3dcba_8445_11eb_b096_8c859031a209row15_col12\" class=\"data row15 col12\" >0.00%</td>\n",
       "            </tr>\n",
       "            <tr>\n",
       "                        <th id=\"T_6da3dcba_8445_11eb_b096_8c859031a209level0_row16\" class=\"row_heading level0 row16\" >A214980</th>\n",
       "                        <td id=\"T_6da3dcba_8445_11eb_b096_8c859031a209row16_col0\" class=\"data row16 col0\" >0.00%</td>\n",
       "                        <td id=\"T_6da3dcba_8445_11eb_b096_8c859031a209row16_col1\" class=\"data row16 col1\" >0.00%</td>\n",
       "                        <td id=\"T_6da3dcba_8445_11eb_b096_8c859031a209row16_col2\" class=\"data row16 col2\" >0.00%</td>\n",
       "                        <td id=\"T_6da3dcba_8445_11eb_b096_8c859031a209row16_col3\" class=\"data row16 col3\" >0.00%</td>\n",
       "                        <td id=\"T_6da3dcba_8445_11eb_b096_8c859031a209row16_col4\" class=\"data row16 col4\" >0.00%</td>\n",
       "                        <td id=\"T_6da3dcba_8445_11eb_b096_8c859031a209row16_col5\" class=\"data row16 col5\" >0.00%</td>\n",
       "                        <td id=\"T_6da3dcba_8445_11eb_b096_8c859031a209row16_col6\" class=\"data row16 col6\" >0.00%</td>\n",
       "                        <td id=\"T_6da3dcba_8445_11eb_b096_8c859031a209row16_col7\" class=\"data row16 col7\" >0.00%</td>\n",
       "                        <td id=\"T_6da3dcba_8445_11eb_b096_8c859031a209row16_col8\" class=\"data row16 col8\" >0.00%</td>\n",
       "                        <td id=\"T_6da3dcba_8445_11eb_b096_8c859031a209row16_col9\" class=\"data row16 col9\" >0.00%</td>\n",
       "                        <td id=\"T_6da3dcba_8445_11eb_b096_8c859031a209row16_col10\" class=\"data row16 col10\" >0.00%</td>\n",
       "                        <td id=\"T_6da3dcba_8445_11eb_b096_8c859031a209row16_col11\" class=\"data row16 col11\" >0.00%</td>\n",
       "                        <td id=\"T_6da3dcba_8445_11eb_b096_8c859031a209row16_col12\" class=\"data row16 col12\" >0.00%</td>\n",
       "            </tr>\n",
       "            <tr>\n",
       "                        <th id=\"T_6da3dcba_8445_11eb_b096_8c859031a209level0_row17\" class=\"row_heading level0 row17\" >A229200</th>\n",
       "                        <td id=\"T_6da3dcba_8445_11eb_b096_8c859031a209row17_col0\" class=\"data row17 col0\" >0.00%</td>\n",
       "                        <td id=\"T_6da3dcba_8445_11eb_b096_8c859031a209row17_col1\" class=\"data row17 col1\" >0.00%</td>\n",
       "                        <td id=\"T_6da3dcba_8445_11eb_b096_8c859031a209row17_col2\" class=\"data row17 col2\" >0.00%</td>\n",
       "                        <td id=\"T_6da3dcba_8445_11eb_b096_8c859031a209row17_col3\" class=\"data row17 col3\" >0.00%</td>\n",
       "                        <td id=\"T_6da3dcba_8445_11eb_b096_8c859031a209row17_col4\" class=\"data row17 col4\" >0.00%</td>\n",
       "                        <td id=\"T_6da3dcba_8445_11eb_b096_8c859031a209row17_col5\" class=\"data row17 col5\" >0.00%</td>\n",
       "                        <td id=\"T_6da3dcba_8445_11eb_b096_8c859031a209row17_col6\" class=\"data row17 col6\" >0.00%</td>\n",
       "                        <td id=\"T_6da3dcba_8445_11eb_b096_8c859031a209row17_col7\" class=\"data row17 col7\" >0.00%</td>\n",
       "                        <td id=\"T_6da3dcba_8445_11eb_b096_8c859031a209row17_col8\" class=\"data row17 col8\" >0.00%</td>\n",
       "                        <td id=\"T_6da3dcba_8445_11eb_b096_8c859031a209row17_col9\" class=\"data row17 col9\" >0.00%</td>\n",
       "                        <td id=\"T_6da3dcba_8445_11eb_b096_8c859031a209row17_col10\" class=\"data row17 col10\" >0.00%</td>\n",
       "                        <td id=\"T_6da3dcba_8445_11eb_b096_8c859031a209row17_col11\" class=\"data row17 col11\" >0.00%</td>\n",
       "                        <td id=\"T_6da3dcba_8445_11eb_b096_8c859031a209row17_col12\" class=\"data row17 col12\" >0.00%</td>\n",
       "            </tr>\n",
       "            <tr>\n",
       "                        <th id=\"T_6da3dcba_8445_11eb_b096_8c859031a209level0_row18\" class=\"row_heading level0 row18\" >A232080</th>\n",
       "                        <td id=\"T_6da3dcba_8445_11eb_b096_8c859031a209row18_col0\" class=\"data row18 col0\" >0.00%</td>\n",
       "                        <td id=\"T_6da3dcba_8445_11eb_b096_8c859031a209row18_col1\" class=\"data row18 col1\" >0.00%</td>\n",
       "                        <td id=\"T_6da3dcba_8445_11eb_b096_8c859031a209row18_col2\" class=\"data row18 col2\" >0.00%</td>\n",
       "                        <td id=\"T_6da3dcba_8445_11eb_b096_8c859031a209row18_col3\" class=\"data row18 col3\" >0.00%</td>\n",
       "                        <td id=\"T_6da3dcba_8445_11eb_b096_8c859031a209row18_col4\" class=\"data row18 col4\" >0.00%</td>\n",
       "                        <td id=\"T_6da3dcba_8445_11eb_b096_8c859031a209row18_col5\" class=\"data row18 col5\" >0.00%</td>\n",
       "                        <td id=\"T_6da3dcba_8445_11eb_b096_8c859031a209row18_col6\" class=\"data row18 col6\" >0.00%</td>\n",
       "                        <td id=\"T_6da3dcba_8445_11eb_b096_8c859031a209row18_col7\" class=\"data row18 col7\" >0.00%</td>\n",
       "                        <td id=\"T_6da3dcba_8445_11eb_b096_8c859031a209row18_col8\" class=\"data row18 col8\" >0.00%</td>\n",
       "                        <td id=\"T_6da3dcba_8445_11eb_b096_8c859031a209row18_col9\" class=\"data row18 col9\" >0.00%</td>\n",
       "                        <td id=\"T_6da3dcba_8445_11eb_b096_8c859031a209row18_col10\" class=\"data row18 col10\" >0.00%</td>\n",
       "                        <td id=\"T_6da3dcba_8445_11eb_b096_8c859031a209row18_col11\" class=\"data row18 col11\" >0.00%</td>\n",
       "                        <td id=\"T_6da3dcba_8445_11eb_b096_8c859031a209row18_col12\" class=\"data row18 col12\" >0.00%</td>\n",
       "            </tr>\n",
       "            <tr>\n",
       "                        <th id=\"T_6da3dcba_8445_11eb_b096_8c859031a209level0_row19\" class=\"row_heading level0 row19\" >A245340</th>\n",
       "                        <td id=\"T_6da3dcba_8445_11eb_b096_8c859031a209row19_col0\" class=\"data row19 col0\" >3.00%</td>\n",
       "                        <td id=\"T_6da3dcba_8445_11eb_b096_8c859031a209row19_col1\" class=\"data row19 col1\" >3.00%</td>\n",
       "                        <td id=\"T_6da3dcba_8445_11eb_b096_8c859031a209row19_col2\" class=\"data row19 col2\" >3.00%</td>\n",
       "                        <td id=\"T_6da3dcba_8445_11eb_b096_8c859031a209row19_col3\" class=\"data row19 col3\" >3.00%</td>\n",
       "                        <td id=\"T_6da3dcba_8445_11eb_b096_8c859031a209row19_col4\" class=\"data row19 col4\" >3.00%</td>\n",
       "                        <td id=\"T_6da3dcba_8445_11eb_b096_8c859031a209row19_col5\" class=\"data row19 col5\" >3.00%</td>\n",
       "                        <td id=\"T_6da3dcba_8445_11eb_b096_8c859031a209row19_col6\" class=\"data row19 col6\" >3.00%</td>\n",
       "                        <td id=\"T_6da3dcba_8445_11eb_b096_8c859031a209row19_col7\" class=\"data row19 col7\" >3.00%</td>\n",
       "                        <td id=\"T_6da3dcba_8445_11eb_b096_8c859031a209row19_col8\" class=\"data row19 col8\" >3.00%</td>\n",
       "                        <td id=\"T_6da3dcba_8445_11eb_b096_8c859031a209row19_col9\" class=\"data row19 col9\" >3.00%</td>\n",
       "                        <td id=\"T_6da3dcba_8445_11eb_b096_8c859031a209row19_col10\" class=\"data row19 col10\" >3.00%</td>\n",
       "                        <td id=\"T_6da3dcba_8445_11eb_b096_8c859031a209row19_col11\" class=\"data row19 col11\" >3.00%</td>\n",
       "                        <td id=\"T_6da3dcba_8445_11eb_b096_8c859031a209row19_col12\" class=\"data row19 col12\" >3.00%</td>\n",
       "            </tr>\n",
       "            <tr>\n",
       "                        <th id=\"T_6da3dcba_8445_11eb_b096_8c859031a209level0_row20\" class=\"row_heading level0 row20\" >A245710</th>\n",
       "                        <td id=\"T_6da3dcba_8445_11eb_b096_8c859031a209row20_col0\" class=\"data row20 col0\" >0.00%</td>\n",
       "                        <td id=\"T_6da3dcba_8445_11eb_b096_8c859031a209row20_col1\" class=\"data row20 col1\" >0.00%</td>\n",
       "                        <td id=\"T_6da3dcba_8445_11eb_b096_8c859031a209row20_col2\" class=\"data row20 col2\" >0.00%</td>\n",
       "                        <td id=\"T_6da3dcba_8445_11eb_b096_8c859031a209row20_col3\" class=\"data row20 col3\" >0.00%</td>\n",
       "                        <td id=\"T_6da3dcba_8445_11eb_b096_8c859031a209row20_col4\" class=\"data row20 col4\" >0.00%</td>\n",
       "                        <td id=\"T_6da3dcba_8445_11eb_b096_8c859031a209row20_col5\" class=\"data row20 col5\" >0.00%</td>\n",
       "                        <td id=\"T_6da3dcba_8445_11eb_b096_8c859031a209row20_col6\" class=\"data row20 col6\" >0.00%</td>\n",
       "                        <td id=\"T_6da3dcba_8445_11eb_b096_8c859031a209row20_col7\" class=\"data row20 col7\" >0.00%</td>\n",
       "                        <td id=\"T_6da3dcba_8445_11eb_b096_8c859031a209row20_col8\" class=\"data row20 col8\" >0.00%</td>\n",
       "                        <td id=\"T_6da3dcba_8445_11eb_b096_8c859031a209row20_col9\" class=\"data row20 col9\" >0.00%</td>\n",
       "                        <td id=\"T_6da3dcba_8445_11eb_b096_8c859031a209row20_col10\" class=\"data row20 col10\" >0.00%</td>\n",
       "                        <td id=\"T_6da3dcba_8445_11eb_b096_8c859031a209row20_col11\" class=\"data row20 col11\" >0.00%</td>\n",
       "                        <td id=\"T_6da3dcba_8445_11eb_b096_8c859031a209row20_col12\" class=\"data row20 col12\" >0.00%</td>\n",
       "            </tr>\n",
       "            <tr>\n",
       "                        <th id=\"T_6da3dcba_8445_11eb_b096_8c859031a209level0_row21\" class=\"row_heading level0 row21\" >A251350</th>\n",
       "                        <td id=\"T_6da3dcba_8445_11eb_b096_8c859031a209row21_col0\" class=\"data row21 col0\" >25.00%</td>\n",
       "                        <td id=\"T_6da3dcba_8445_11eb_b096_8c859031a209row21_col1\" class=\"data row21 col1\" >25.00%</td>\n",
       "                        <td id=\"T_6da3dcba_8445_11eb_b096_8c859031a209row21_col2\" class=\"data row21 col2\" >25.00%</td>\n",
       "                        <td id=\"T_6da3dcba_8445_11eb_b096_8c859031a209row21_col3\" class=\"data row21 col3\" >25.00%</td>\n",
       "                        <td id=\"T_6da3dcba_8445_11eb_b096_8c859031a209row21_col4\" class=\"data row21 col4\" >25.00%</td>\n",
       "                        <td id=\"T_6da3dcba_8445_11eb_b096_8c859031a209row21_col5\" class=\"data row21 col5\" >25.00%</td>\n",
       "                        <td id=\"T_6da3dcba_8445_11eb_b096_8c859031a209row21_col6\" class=\"data row21 col6\" >25.00%</td>\n",
       "                        <td id=\"T_6da3dcba_8445_11eb_b096_8c859031a209row21_col7\" class=\"data row21 col7\" >25.00%</td>\n",
       "                        <td id=\"T_6da3dcba_8445_11eb_b096_8c859031a209row21_col8\" class=\"data row21 col8\" >25.00%</td>\n",
       "                        <td id=\"T_6da3dcba_8445_11eb_b096_8c859031a209row21_col9\" class=\"data row21 col9\" >25.00%</td>\n",
       "                        <td id=\"T_6da3dcba_8445_11eb_b096_8c859031a209row21_col10\" class=\"data row21 col10\" >25.00%</td>\n",
       "                        <td id=\"T_6da3dcba_8445_11eb_b096_8c859031a209row21_col11\" class=\"data row21 col11\" >25.00%</td>\n",
       "                        <td id=\"T_6da3dcba_8445_11eb_b096_8c859031a209row21_col12\" class=\"data row21 col12\" >25.00%</td>\n",
       "            </tr>\n",
       "            <tr>\n",
       "                        <th id=\"T_6da3dcba_8445_11eb_b096_8c859031a209level0_row22\" class=\"row_heading level0 row22\" >A266370</th>\n",
       "                        <td id=\"T_6da3dcba_8445_11eb_b096_8c859031a209row22_col0\" class=\"data row22 col0\" >0.00%</td>\n",
       "                        <td id=\"T_6da3dcba_8445_11eb_b096_8c859031a209row22_col1\" class=\"data row22 col1\" >0.00%</td>\n",
       "                        <td id=\"T_6da3dcba_8445_11eb_b096_8c859031a209row22_col2\" class=\"data row22 col2\" >0.00%</td>\n",
       "                        <td id=\"T_6da3dcba_8445_11eb_b096_8c859031a209row22_col3\" class=\"data row22 col3\" >0.00%</td>\n",
       "                        <td id=\"T_6da3dcba_8445_11eb_b096_8c859031a209row22_col4\" class=\"data row22 col4\" >0.00%</td>\n",
       "                        <td id=\"T_6da3dcba_8445_11eb_b096_8c859031a209row22_col5\" class=\"data row22 col5\" >0.00%</td>\n",
       "                        <td id=\"T_6da3dcba_8445_11eb_b096_8c859031a209row22_col6\" class=\"data row22 col6\" >0.00%</td>\n",
       "                        <td id=\"T_6da3dcba_8445_11eb_b096_8c859031a209row22_col7\" class=\"data row22 col7\" >0.00%</td>\n",
       "                        <td id=\"T_6da3dcba_8445_11eb_b096_8c859031a209row22_col8\" class=\"data row22 col8\" >0.00%</td>\n",
       "                        <td id=\"T_6da3dcba_8445_11eb_b096_8c859031a209row22_col9\" class=\"data row22 col9\" >0.00%</td>\n",
       "                        <td id=\"T_6da3dcba_8445_11eb_b096_8c859031a209row22_col10\" class=\"data row22 col10\" >0.00%</td>\n",
       "                        <td id=\"T_6da3dcba_8445_11eb_b096_8c859031a209row22_col11\" class=\"data row22 col11\" >0.00%</td>\n",
       "                        <td id=\"T_6da3dcba_8445_11eb_b096_8c859031a209row22_col12\" class=\"data row22 col12\" >0.00%</td>\n",
       "            </tr>\n",
       "            <tr>\n",
       "                        <th id=\"T_6da3dcba_8445_11eb_b096_8c859031a209level0_row23\" class=\"row_heading level0 row23\" >A273130</th>\n",
       "                        <td id=\"T_6da3dcba_8445_11eb_b096_8c859031a209row23_col0\" class=\"data row23 col0\" >5.00%</td>\n",
       "                        <td id=\"T_6da3dcba_8445_11eb_b096_8c859031a209row23_col1\" class=\"data row23 col1\" >5.00%</td>\n",
       "                        <td id=\"T_6da3dcba_8445_11eb_b096_8c859031a209row23_col2\" class=\"data row23 col2\" >5.00%</td>\n",
       "                        <td id=\"T_6da3dcba_8445_11eb_b096_8c859031a209row23_col3\" class=\"data row23 col3\" >5.00%</td>\n",
       "                        <td id=\"T_6da3dcba_8445_11eb_b096_8c859031a209row23_col4\" class=\"data row23 col4\" >5.00%</td>\n",
       "                        <td id=\"T_6da3dcba_8445_11eb_b096_8c859031a209row23_col5\" class=\"data row23 col5\" >5.00%</td>\n",
       "                        <td id=\"T_6da3dcba_8445_11eb_b096_8c859031a209row23_col6\" class=\"data row23 col6\" >5.00%</td>\n",
       "                        <td id=\"T_6da3dcba_8445_11eb_b096_8c859031a209row23_col7\" class=\"data row23 col7\" >5.00%</td>\n",
       "                        <td id=\"T_6da3dcba_8445_11eb_b096_8c859031a209row23_col8\" class=\"data row23 col8\" >5.00%</td>\n",
       "                        <td id=\"T_6da3dcba_8445_11eb_b096_8c859031a209row23_col9\" class=\"data row23 col9\" >5.00%</td>\n",
       "                        <td id=\"T_6da3dcba_8445_11eb_b096_8c859031a209row23_col10\" class=\"data row23 col10\" >5.00%</td>\n",
       "                        <td id=\"T_6da3dcba_8445_11eb_b096_8c859031a209row23_col11\" class=\"data row23 col11\" >5.00%</td>\n",
       "                        <td id=\"T_6da3dcba_8445_11eb_b096_8c859031a209row23_col12\" class=\"data row23 col12\" >5.00%</td>\n",
       "            </tr>\n",
       "            <tr>\n",
       "                        <th id=\"T_6da3dcba_8445_11eb_b096_8c859031a209level0_row24\" class=\"row_heading level0 row24\" >A278540</th>\n",
       "                        <td id=\"T_6da3dcba_8445_11eb_b096_8c859031a209row24_col0\" class=\"data row24 col0\" >0.00%</td>\n",
       "                        <td id=\"T_6da3dcba_8445_11eb_b096_8c859031a209row24_col1\" class=\"data row24 col1\" >0.00%</td>\n",
       "                        <td id=\"T_6da3dcba_8445_11eb_b096_8c859031a209row24_col2\" class=\"data row24 col2\" >0.00%</td>\n",
       "                        <td id=\"T_6da3dcba_8445_11eb_b096_8c859031a209row24_col3\" class=\"data row24 col3\" >0.00%</td>\n",
       "                        <td id=\"T_6da3dcba_8445_11eb_b096_8c859031a209row24_col4\" class=\"data row24 col4\" >0.00%</td>\n",
       "                        <td id=\"T_6da3dcba_8445_11eb_b096_8c859031a209row24_col5\" class=\"data row24 col5\" >0.00%</td>\n",
       "                        <td id=\"T_6da3dcba_8445_11eb_b096_8c859031a209row24_col6\" class=\"data row24 col6\" >0.00%</td>\n",
       "                        <td id=\"T_6da3dcba_8445_11eb_b096_8c859031a209row24_col7\" class=\"data row24 col7\" >0.00%</td>\n",
       "                        <td id=\"T_6da3dcba_8445_11eb_b096_8c859031a209row24_col8\" class=\"data row24 col8\" >0.00%</td>\n",
       "                        <td id=\"T_6da3dcba_8445_11eb_b096_8c859031a209row24_col9\" class=\"data row24 col9\" >0.00%</td>\n",
       "                        <td id=\"T_6da3dcba_8445_11eb_b096_8c859031a209row24_col10\" class=\"data row24 col10\" >0.00%</td>\n",
       "                        <td id=\"T_6da3dcba_8445_11eb_b096_8c859031a209row24_col11\" class=\"data row24 col11\" >0.00%</td>\n",
       "                        <td id=\"T_6da3dcba_8445_11eb_b096_8c859031a209row24_col12\" class=\"data row24 col12\" >0.00%</td>\n",
       "            </tr>\n",
       "            <tr>\n",
       "                        <th id=\"T_6da3dcba_8445_11eb_b096_8c859031a209level0_row25\" class=\"row_heading level0 row25\" >A283580</th>\n",
       "                        <td id=\"T_6da3dcba_8445_11eb_b096_8c859031a209row25_col0\" class=\"data row25 col0\" >0.00%</td>\n",
       "                        <td id=\"T_6da3dcba_8445_11eb_b096_8c859031a209row25_col1\" class=\"data row25 col1\" >0.00%</td>\n",
       "                        <td id=\"T_6da3dcba_8445_11eb_b096_8c859031a209row25_col2\" class=\"data row25 col2\" >0.00%</td>\n",
       "                        <td id=\"T_6da3dcba_8445_11eb_b096_8c859031a209row25_col3\" class=\"data row25 col3\" >0.00%</td>\n",
       "                        <td id=\"T_6da3dcba_8445_11eb_b096_8c859031a209row25_col4\" class=\"data row25 col4\" >0.00%</td>\n",
       "                        <td id=\"T_6da3dcba_8445_11eb_b096_8c859031a209row25_col5\" class=\"data row25 col5\" >0.00%</td>\n",
       "                        <td id=\"T_6da3dcba_8445_11eb_b096_8c859031a209row25_col6\" class=\"data row25 col6\" >0.00%</td>\n",
       "                        <td id=\"T_6da3dcba_8445_11eb_b096_8c859031a209row25_col7\" class=\"data row25 col7\" >0.00%</td>\n",
       "                        <td id=\"T_6da3dcba_8445_11eb_b096_8c859031a209row25_col8\" class=\"data row25 col8\" >0.00%</td>\n",
       "                        <td id=\"T_6da3dcba_8445_11eb_b096_8c859031a209row25_col9\" class=\"data row25 col9\" >0.00%</td>\n",
       "                        <td id=\"T_6da3dcba_8445_11eb_b096_8c859031a209row25_col10\" class=\"data row25 col10\" >0.00%</td>\n",
       "                        <td id=\"T_6da3dcba_8445_11eb_b096_8c859031a209row25_col11\" class=\"data row25 col11\" >0.00%</td>\n",
       "                        <td id=\"T_6da3dcba_8445_11eb_b096_8c859031a209row25_col12\" class=\"data row25 col12\" >0.00%</td>\n",
       "            </tr>\n",
       "    </tbody></table>"
      ],
      "text/plain": [
       "<pandas.io.formats.style.Styler at 0x7fa64b17e130>"
      ]
     },
     "execution_count": 517,
     "metadata": {},
     "output_type": "execute_result"
    }
   ],
   "source": [
    "w_s.style.format(\"{:.2%}\").background_gradient(cmap='YlGn')"
   ]
  },
  {
   "cell_type": "code",
   "execution_count": 519,
   "metadata": {
    "ExecuteTime": {
     "end_time": "2021-03-13T22:30:58.529500Z",
     "start_time": "2021-03-13T22:30:58.525231Z"
    }
   },
   "outputs": [
    {
     "data": {
      "text/plain": [
       "26"
      ]
     },
     "execution_count": 519,
     "metadata": {},
     "output_type": "execute_result"
    }
   ],
   "source": [
    "port.numassets"
   ]
  },
  {
   "cell_type": "code",
   "execution_count": 524,
   "metadata": {
    "ExecuteTime": {
     "end_time": "2021-03-13T22:45:43.935552Z",
     "start_time": "2021-03-13T22:45:43.930109Z"
    }
   },
   "outputs": [
    {
     "data": {
      "text/plain": [
       "4"
      ]
     },
     "execution_count": 524,
     "metadata": {},
     "output_type": "execute_result"
    }
   ],
   "source": [
    "int(4.1)"
   ]
  },
  {
   "cell_type": "code",
   "execution_count": 522,
   "metadata": {
    "ExecuteTime": {
     "end_time": "2021-03-13T22:39:58.543364Z",
     "start_time": "2021-03-13T22:39:58.516209Z"
    }
   },
   "outputs": [
    {
     "data": {
      "text/html": [
       "<div>\n",
       "<style scoped>\n",
       "    .dataframe tbody tr th:only-of-type {\n",
       "        vertical-align: middle;\n",
       "    }\n",
       "\n",
       "    .dataframe tbody tr th {\n",
       "        vertical-align: top;\n",
       "    }\n",
       "\n",
       "    .dataframe thead th {\n",
       "        text-align: right;\n",
       "    }\n",
       "</style>\n",
       "<table border=\"1\" class=\"dataframe\">\n",
       "  <thead>\n",
       "    <tr style=\"text-align: right;\">\n",
       "      <th>itemcode</th>\n",
       "      <th>A069500</th>\n",
       "      <th>A091160</th>\n",
       "      <th>A091170</th>\n",
       "      <th>A091180</th>\n",
       "      <th>A102110</th>\n",
       "      <th>A102780</th>\n",
       "      <th>A105190</th>\n",
       "      <th>A114260</th>\n",
       "      <th>A122260</th>\n",
       "      <th>A130730</th>\n",
       "      <th>...</th>\n",
       "      <th>A214980</th>\n",
       "      <th>A229200</th>\n",
       "      <th>A232080</th>\n",
       "      <th>A245340</th>\n",
       "      <th>A245710</th>\n",
       "      <th>A251350</th>\n",
       "      <th>A266370</th>\n",
       "      <th>A273130</th>\n",
       "      <th>A278540</th>\n",
       "      <th>A283580</th>\n",
       "    </tr>\n",
       "    <tr>\n",
       "      <th>date</th>\n",
       "      <th></th>\n",
       "      <th></th>\n",
       "      <th></th>\n",
       "      <th></th>\n",
       "      <th></th>\n",
       "      <th></th>\n",
       "      <th></th>\n",
       "      <th></th>\n",
       "      <th></th>\n",
       "      <th></th>\n",
       "      <th></th>\n",
       "      <th></th>\n",
       "      <th></th>\n",
       "      <th></th>\n",
       "      <th></th>\n",
       "      <th></th>\n",
       "      <th></th>\n",
       "      <th></th>\n",
       "      <th></th>\n",
       "      <th></th>\n",
       "      <th></th>\n",
       "    </tr>\n",
       "  </thead>\n",
       "  <tbody>\n",
       "    <tr>\n",
       "      <th>2017-12-22</th>\n",
       "      <td>-0.016055</td>\n",
       "      <td>0.002246</td>\n",
       "      <td>0.014723</td>\n",
       "      <td>-0.009497</td>\n",
       "      <td>-0.015719</td>\n",
       "      <td>-0.023803</td>\n",
       "      <td>-0.013053</td>\n",
       "      <td>-0.001631</td>\n",
       "      <td>-0.000094</td>\n",
       "      <td>0.000197</td>\n",
       "      <td>...</td>\n",
       "      <td>0.000244</td>\n",
       "      <td>-0.001160</td>\n",
       "      <td>-0.002617</td>\n",
       "      <td>0.006670</td>\n",
       "      <td>0.008038</td>\n",
       "      <td>0.003277</td>\n",
       "      <td>-0.017569</td>\n",
       "      <td>-0.001054</td>\n",
       "      <td>-0.017401</td>\n",
       "      <td>0.018367</td>\n",
       "    </tr>\n",
       "    <tr>\n",
       "      <th>2017-12-28</th>\n",
       "      <td>0.020029</td>\n",
       "      <td>0.022442</td>\n",
       "      <td>0.013532</td>\n",
       "      <td>0.036058</td>\n",
       "      <td>0.020610</td>\n",
       "      <td>0.031108</td>\n",
       "      <td>0.019887</td>\n",
       "      <td>0.001279</td>\n",
       "      <td>0.000543</td>\n",
       "      <td>0.000353</td>\n",
       "      <td>...</td>\n",
       "      <td>0.000204</td>\n",
       "      <td>0.070055</td>\n",
       "      <td>0.068659</td>\n",
       "      <td>-0.010021</td>\n",
       "      <td>0.013734</td>\n",
       "      <td>-0.006565</td>\n",
       "      <td>0.025916</td>\n",
       "      <td>-0.000402</td>\n",
       "      <td>0.028319</td>\n",
       "      <td>-0.011875</td>\n",
       "    </tr>\n",
       "    <tr>\n",
       "      <th>2018-01-05</th>\n",
       "      <td>0.014234</td>\n",
       "      <td>-0.012456</td>\n",
       "      <td>0.020081</td>\n",
       "      <td>-0.038716</td>\n",
       "      <td>0.012980</td>\n",
       "      <td>0.027960</td>\n",
       "      <td>0.011011</td>\n",
       "      <td>0.000167</td>\n",
       "      <td>0.000897</td>\n",
       "      <td>0.000591</td>\n",
       "      <td>...</td>\n",
       "      <td>0.000651</td>\n",
       "      <td>0.041537</td>\n",
       "      <td>0.041930</td>\n",
       "      <td>0.001170</td>\n",
       "      <td>0.042859</td>\n",
       "      <td>0.015523</td>\n",
       "      <td>0.027933</td>\n",
       "      <td>-0.000050</td>\n",
       "      <td>0.015902</td>\n",
       "      <td>0.028461</td>\n",
       "    </tr>\n",
       "    <tr>\n",
       "      <th>2018-01-12</th>\n",
       "      <td>-0.007108</td>\n",
       "      <td>-0.032789</td>\n",
       "      <td>0.050556</td>\n",
       "      <td>-0.005146</td>\n",
       "      <td>-0.005997</td>\n",
       "      <td>0.012018</td>\n",
       "      <td>-0.004512</td>\n",
       "      <td>-0.001445</td>\n",
       "      <td>0.000198</td>\n",
       "      <td>0.000394</td>\n",
       "      <td>...</td>\n",
       "      <td>0.000498</td>\n",
       "      <td>0.105250</td>\n",
       "      <td>0.108399</td>\n",
       "      <td>0.020914</td>\n",
       "      <td>0.050623</td>\n",
       "      <td>0.008878</td>\n",
       "      <td>-0.031086</td>\n",
       "      <td>-0.001912</td>\n",
       "      <td>0.002541</td>\n",
       "      <td>0.019641</td>\n",
       "    </tr>\n",
       "    <tr>\n",
       "      <th>2018-01-19</th>\n",
       "      <td>0.009189</td>\n",
       "      <td>0.033729</td>\n",
       "      <td>-0.003993</td>\n",
       "      <td>0.042703</td>\n",
       "      <td>0.007677</td>\n",
       "      <td>0.001310</td>\n",
       "      <td>0.007508</td>\n",
       "      <td>-0.001002</td>\n",
       "      <td>0.000156</td>\n",
       "      <td>0.000352</td>\n",
       "      <td>...</td>\n",
       "      <td>0.000295</td>\n",
       "      <td>-0.017086</td>\n",
       "      <td>-0.018878</td>\n",
       "      <td>0.018013</td>\n",
       "      <td>-0.001308</td>\n",
       "      <td>0.013568</td>\n",
       "      <td>-0.006335</td>\n",
       "      <td>-0.000101</td>\n",
       "      <td>0.002535</td>\n",
       "      <td>0.029448</td>\n",
       "    </tr>\n",
       "    <tr>\n",
       "      <th>...</th>\n",
       "      <td>...</td>\n",
       "      <td>...</td>\n",
       "      <td>...</td>\n",
       "      <td>...</td>\n",
       "      <td>...</td>\n",
       "      <td>...</td>\n",
       "      <td>...</td>\n",
       "      <td>...</td>\n",
       "      <td>...</td>\n",
       "      <td>...</td>\n",
       "      <td>...</td>\n",
       "      <td>...</td>\n",
       "      <td>...</td>\n",
       "      <td>...</td>\n",
       "      <td>...</td>\n",
       "      <td>...</td>\n",
       "      <td>...</td>\n",
       "      <td>...</td>\n",
       "      <td>...</td>\n",
       "      <td>...</td>\n",
       "      <td>...</td>\n",
       "    </tr>\n",
       "    <tr>\n",
       "      <th>2020-05-08</th>\n",
       "      <td>-0.006206</td>\n",
       "      <td>0.062348</td>\n",
       "      <td>-0.035968</td>\n",
       "      <td>0.020824</td>\n",
       "      <td>-0.005645</td>\n",
       "      <td>-0.002336</td>\n",
       "      <td>-0.007953</td>\n",
       "      <td>0.002422</td>\n",
       "      <td>0.000547</td>\n",
       "      <td>0.000149</td>\n",
       "      <td>...</td>\n",
       "      <td>0.000293</td>\n",
       "      <td>0.060980</td>\n",
       "      <td>0.059625</td>\n",
       "      <td>-0.010046</td>\n",
       "      <td>0.058700</td>\n",
       "      <td>-0.003652</td>\n",
       "      <td>0.019433</td>\n",
       "      <td>0.004876</td>\n",
       "      <td>-0.007891</td>\n",
       "      <td>0.031066</td>\n",
       "    </tr>\n",
       "    <tr>\n",
       "      <th>2020-05-15</th>\n",
       "      <td>-0.011181</td>\n",
       "      <td>-0.009087</td>\n",
       "      <td>-0.038367</td>\n",
       "      <td>-0.037218</td>\n",
       "      <td>-0.011744</td>\n",
       "      <td>-0.002341</td>\n",
       "      <td>-0.010572</td>\n",
       "      <td>0.001727</td>\n",
       "      <td>0.000587</td>\n",
       "      <td>0.000488</td>\n",
       "      <td>...</td>\n",
       "      <td>0.000391</td>\n",
       "      <td>0.010358</td>\n",
       "      <td>0.011696</td>\n",
       "      <td>-0.018661</td>\n",
       "      <td>0.014256</td>\n",
       "      <td>-0.018092</td>\n",
       "      <td>-0.003147</td>\n",
       "      <td>0.003676</td>\n",
       "      <td>-0.012880</td>\n",
       "      <td>-0.011834</td>\n",
       "    </tr>\n",
       "    <tr>\n",
       "      <th>2020-05-22</th>\n",
       "      <td>0.021618</td>\n",
       "      <td>0.040258</td>\n",
       "      <td>-0.004237</td>\n",
       "      <td>0.048397</td>\n",
       "      <td>0.021834</td>\n",
       "      <td>0.026977</td>\n",
       "      <td>0.020647</td>\n",
       "      <td>0.000862</td>\n",
       "      <td>0.000288</td>\n",
       "      <td>0.000348</td>\n",
       "      <td>...</td>\n",
       "      <td>0.000342</td>\n",
       "      <td>0.009788</td>\n",
       "      <td>0.010641</td>\n",
       "      <td>0.039990</td>\n",
       "      <td>0.047163</td>\n",
       "      <td>0.027922</td>\n",
       "      <td>0.027974</td>\n",
       "      <td>0.001403</td>\n",
       "      <td>0.020770</td>\n",
       "      <td>-0.017291</td>\n",
       "    </tr>\n",
       "    <tr>\n",
       "      <th>2020-05-29</th>\n",
       "      <td>0.032101</td>\n",
       "      <td>-0.014654</td>\n",
       "      <td>0.100892</td>\n",
       "      <td>0.063264</td>\n",
       "      <td>0.031676</td>\n",
       "      <td>0.033648</td>\n",
       "      <td>0.035975</td>\n",
       "      <td>0.000431</td>\n",
       "      <td>0.000934</td>\n",
       "      <td>0.000736</td>\n",
       "      <td>...</td>\n",
       "      <td>0.000878</td>\n",
       "      <td>0.009693</td>\n",
       "      <td>0.008706</td>\n",
       "      <td>0.048555</td>\n",
       "      <td>-0.005575</td>\n",
       "      <td>0.053609</td>\n",
       "      <td>0.035382</td>\n",
       "      <td>0.000045</td>\n",
       "      <td>0.037382</td>\n",
       "      <td>0.000484</td>\n",
       "    </tr>\n",
       "    <tr>\n",
       "      <th>2020-06-05</th>\n",
       "      <td>0.083773</td>\n",
       "      <td>0.064981</td>\n",
       "      <td>0.112437</td>\n",
       "      <td>0.087772</td>\n",
       "      <td>0.083644</td>\n",
       "      <td>0.074371</td>\n",
       "      <td>0.079170</td>\n",
       "      <td>-0.002156</td>\n",
       "      <td>-0.000288</td>\n",
       "      <td>0.000099</td>\n",
       "      <td>...</td>\n",
       "      <td>0.000098</td>\n",
       "      <td>0.069636</td>\n",
       "      <td>0.070026</td>\n",
       "      <td>0.020465</td>\n",
       "      <td>0.007955</td>\n",
       "      <td>0.019722</td>\n",
       "      <td>0.058534</td>\n",
       "      <td>-0.003262</td>\n",
       "      <td>0.079998</td>\n",
       "      <td>0.026757</td>\n",
       "    </tr>\n",
       "  </tbody>\n",
       "</table>\n",
       "<p>129 rows × 26 columns</p>\n",
       "</div>"
      ],
      "text/plain": [
       "itemcode     A069500   A091160   A091170   A091180   A102110   A102780  \\\n",
       "date                                                                     \n",
       "2017-12-22 -0.016055  0.002246  0.014723 -0.009497 -0.015719 -0.023803   \n",
       "2017-12-28  0.020029  0.022442  0.013532  0.036058  0.020610  0.031108   \n",
       "2018-01-05  0.014234 -0.012456  0.020081 -0.038716  0.012980  0.027960   \n",
       "2018-01-12 -0.007108 -0.032789  0.050556 -0.005146 -0.005997  0.012018   \n",
       "2018-01-19  0.009189  0.033729 -0.003993  0.042703  0.007677  0.001310   \n",
       "...              ...       ...       ...       ...       ...       ...   \n",
       "2020-05-08 -0.006206  0.062348 -0.035968  0.020824 -0.005645 -0.002336   \n",
       "2020-05-15 -0.011181 -0.009087 -0.038367 -0.037218 -0.011744 -0.002341   \n",
       "2020-05-22  0.021618  0.040258 -0.004237  0.048397  0.021834  0.026977   \n",
       "2020-05-29  0.032101 -0.014654  0.100892  0.063264  0.031676  0.033648   \n",
       "2020-06-05  0.083773  0.064981  0.112437  0.087772  0.083644  0.074371   \n",
       "\n",
       "itemcode     A105190   A114260   A122260   A130730  ...   A214980   A229200  \\\n",
       "date                                                ...                       \n",
       "2017-12-22 -0.013053 -0.001631 -0.000094  0.000197  ...  0.000244 -0.001160   \n",
       "2017-12-28  0.019887  0.001279  0.000543  0.000353  ...  0.000204  0.070055   \n",
       "2018-01-05  0.011011  0.000167  0.000897  0.000591  ...  0.000651  0.041537   \n",
       "2018-01-12 -0.004512 -0.001445  0.000198  0.000394  ...  0.000498  0.105250   \n",
       "2018-01-19  0.007508 -0.001002  0.000156  0.000352  ...  0.000295 -0.017086   \n",
       "...              ...       ...       ...       ...  ...       ...       ...   \n",
       "2020-05-08 -0.007953  0.002422  0.000547  0.000149  ...  0.000293  0.060980   \n",
       "2020-05-15 -0.010572  0.001727  0.000587  0.000488  ...  0.000391  0.010358   \n",
       "2020-05-22  0.020647  0.000862  0.000288  0.000348  ...  0.000342  0.009788   \n",
       "2020-05-29  0.035975  0.000431  0.000934  0.000736  ...  0.000878  0.009693   \n",
       "2020-06-05  0.079170 -0.002156 -0.000288  0.000099  ...  0.000098  0.069636   \n",
       "\n",
       "itemcode     A232080   A245340   A245710   A251350   A266370   A273130  \\\n",
       "date                                                                     \n",
       "2017-12-22 -0.002617  0.006670  0.008038  0.003277 -0.017569 -0.001054   \n",
       "2017-12-28  0.068659 -0.010021  0.013734 -0.006565  0.025916 -0.000402   \n",
       "2018-01-05  0.041930  0.001170  0.042859  0.015523  0.027933 -0.000050   \n",
       "2018-01-12  0.108399  0.020914  0.050623  0.008878 -0.031086 -0.001912   \n",
       "2018-01-19 -0.018878  0.018013 -0.001308  0.013568 -0.006335 -0.000101   \n",
       "...              ...       ...       ...       ...       ...       ...   \n",
       "2020-05-08  0.059625 -0.010046  0.058700 -0.003652  0.019433  0.004876   \n",
       "2020-05-15  0.011696 -0.018661  0.014256 -0.018092 -0.003147  0.003676   \n",
       "2020-05-22  0.010641  0.039990  0.047163  0.027922  0.027974  0.001403   \n",
       "2020-05-29  0.008706  0.048555 -0.005575  0.053609  0.035382  0.000045   \n",
       "2020-06-05  0.070026  0.020465  0.007955  0.019722  0.058534 -0.003262   \n",
       "\n",
       "itemcode     A278540   A283580  \n",
       "date                            \n",
       "2017-12-22 -0.017401  0.018367  \n",
       "2017-12-28  0.028319 -0.011875  \n",
       "2018-01-05  0.015902  0.028461  \n",
       "2018-01-12  0.002541  0.019641  \n",
       "2018-01-19  0.002535  0.029448  \n",
       "...              ...       ...  \n",
       "2020-05-08 -0.007891  0.031066  \n",
       "2020-05-15 -0.012880 -0.011834  \n",
       "2020-05-22  0.020770 -0.017291  \n",
       "2020-05-29  0.037382  0.000484  \n",
       "2020-06-05  0.079998  0.026757  \n",
       "\n",
       "[129 rows x 26 columns]"
      ]
     },
     "execution_count": 522,
     "metadata": {},
     "output_type": "execute_result"
    }
   ],
   "source": [
    "port.returns"
   ]
  },
  {
   "cell_type": "code",
   "execution_count": null,
   "metadata": {},
   "outputs": [],
   "source": []
  },
  {
   "cell_type": "code",
   "execution_count": null,
   "metadata": {},
   "outputs": [],
   "source": []
  },
  {
   "cell_type": "code",
   "execution_count": null,
   "metadata": {},
   "outputs": [],
   "source": []
  }
 ],
 "metadata": {
  "kernelspec": {
   "display_name": "Python 3",
   "language": "python",
   "name": "python3"
  },
  "language_info": {
   "codemirror_mode": {
    "name": "ipython",
    "version": 3
   },
   "file_extension": ".py",
   "mimetype": "text/x-python",
   "name": "python",
   "nbconvert_exporter": "python",
   "pygments_lexer": "ipython3",
   "version": "3.8.8"
  }
 },
 "nbformat": 4,
 "nbformat_minor": 4
}
