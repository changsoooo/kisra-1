{
 "cells": [
  {
   "cell_type": "code",
   "execution_count": 1,
   "metadata": {},
   "outputs": [],
   "source": [
    "import requests\n",
    "import json\n",
    "import pandas as pd\n",
    "import numpy as np\n",
    "from pandas import json_normalize"
   ]
  },
  {
   "cell_type": "code",
   "execution_count": 2,
   "metadata": {},
   "outputs": [],
   "source": [
    "url = 'https://finance.naver.com/api/sise/etfItemList.nhn'\n",
    "json_data = json.loads(requests.get(url).text)\n",
    "df = json_normalize(json_data['result']['etfItemList'])"
   ]
  },
  {
   "cell_type": "markdown",
   "metadata": {},
   "source": [
    "## 1. 전처리\n",
    "#### 문자열 처리 쉽도록 종목코드 앞에 'A' 붙임"
   ]
  },
  {
   "cell_type": "code",
   "execution_count": 3,
   "metadata": {},
   "outputs": [],
   "source": [
    "df['itemcode'] = 'A' + df['itemcode']\n",
    "df = df.sort_values(by='etfTabCode', axis=0)"
   ]
  },
  {
   "cell_type": "code",
   "execution_count": 14,
   "metadata": {},
   "outputs": [],
   "source": [
    "df['exchange_nm'] = 'KRX'"
   ]
  },
  {
   "cell_type": "code",
   "execution_count": 5,
   "metadata": {},
   "outputs": [],
   "source": [
    "df = df.rename(columns = {'itemcode':'code', 'itemname':'name', 'nowVal':'price', 'quant':'volumne_sh', 'amonut':'trading_amt_mln', 'marketSum':'market_cap_100m'})\n",
    "df = df.drop(['etfTabCode', 'risefall', 'changeVal', 'changeRate', 'threeMonthEarnRate'], axis=1)"
   ]
  },
  {
   "cell_type": "code",
   "execution_count": 6,
   "metadata": {},
   "outputs": [
    {
     "data": {
      "text/html": [
       "<div>\n",
       "<style scoped>\n",
       "    .dataframe tbody tr th:only-of-type {\n",
       "        vertical-align: middle;\n",
       "    }\n",
       "\n",
       "    .dataframe tbody tr th {\n",
       "        vertical-align: top;\n",
       "    }\n",
       "\n",
       "    .dataframe thead th {\n",
       "        text-align: right;\n",
       "    }\n",
       "</style>\n",
       "<table border=\"1\" class=\"dataframe\">\n",
       "  <thead>\n",
       "    <tr style=\"text-align: right;\">\n",
       "      <th></th>\n",
       "      <th>itemcode</th>\n",
       "      <th>etfTabCode</th>\n",
       "      <th>itemname</th>\n",
       "      <th>price</th>\n",
       "      <th>nav</th>\n",
       "      <th>volumne_sh</th>\n",
       "      <th>trading_amt_mln</th>\n",
       "      <th>market_cap_100m</th>\n",
       "    </tr>\n",
       "  </thead>\n",
       "  <tbody>\n",
       "    <tr>\n",
       "      <th>0</th>\n",
       "      <td>A069500</td>\n",
       "      <td>1</td>\n",
       "      <td>KODEX 200</td>\n",
       "      <td>42095</td>\n",
       "      <td>42105.0</td>\n",
       "      <td>5426223</td>\n",
       "      <td>228445</td>\n",
       "      <td>51545</td>\n",
       "    </tr>\n",
       "    <tr>\n",
       "      <th>242</th>\n",
       "      <td>A237350</td>\n",
       "      <td>1</td>\n",
       "      <td>KODEX 코스피100</td>\n",
       "      <td>32540</td>\n",
       "      <td>32675.0</td>\n",
       "      <td>827</td>\n",
       "      <td>26</td>\n",
       "      <td>146</td>\n",
       "    </tr>\n",
       "    <tr>\n",
       "      <th>60</th>\n",
       "      <td>A332930</td>\n",
       "      <td>1</td>\n",
       "      <td>HANARO 200TR</td>\n",
       "      <td>49275</td>\n",
       "      <td>49267.0</td>\n",
       "      <td>563</td>\n",
       "      <td>27</td>\n",
       "      <td>1651</td>\n",
       "    </tr>\n",
       "    <tr>\n",
       "      <th>59</th>\n",
       "      <td>A270810</td>\n",
       "      <td>1</td>\n",
       "      <td>KBSTAR 코스닥150</td>\n",
       "      <td>13790</td>\n",
       "      <td>13920.0</td>\n",
       "      <td>7118</td>\n",
       "      <td>97</td>\n",
       "      <td>1669</td>\n",
       "    </tr>\n",
       "    <tr>\n",
       "      <th>151</th>\n",
       "      <td>A304770</td>\n",
       "      <td>1</td>\n",
       "      <td>HANARO 코스닥150</td>\n",
       "      <td>13915</td>\n",
       "      <td>14017.0</td>\n",
       "      <td>617</td>\n",
       "      <td>8</td>\n",
       "      <td>351</td>\n",
       "    </tr>\n",
       "    <tr>\n",
       "      <th>...</th>\n",
       "      <td>...</td>\n",
       "      <td>...</td>\n",
       "      <td>...</td>\n",
       "      <td>...</td>\n",
       "      <td>...</td>\n",
       "      <td>...</td>\n",
       "      <td>...</td>\n",
       "      <td>...</td>\n",
       "    </tr>\n",
       "    <tr>\n",
       "      <th>358</th>\n",
       "      <td>A261110</td>\n",
       "      <td>7</td>\n",
       "      <td>TIGER 미국달러선물레버리지</td>\n",
       "      <td>9280</td>\n",
       "      <td>9279.0</td>\n",
       "      <td>709</td>\n",
       "      <td>6</td>\n",
       "      <td>74</td>\n",
       "    </tr>\n",
       "    <tr>\n",
       "      <th>289</th>\n",
       "      <td>A139660</td>\n",
       "      <td>7</td>\n",
       "      <td>KOSEF 미국달러선물인버스</td>\n",
       "      <td>10640</td>\n",
       "      <td>10639.0</td>\n",
       "      <td>53</td>\n",
       "      <td>0</td>\n",
       "      <td>111</td>\n",
       "    </tr>\n",
       "    <tr>\n",
       "      <th>270</th>\n",
       "      <td>A253290</td>\n",
       "      <td>7</td>\n",
       "      <td>KBSTAR 헬스케어채권혼합</td>\n",
       "      <td>12410</td>\n",
       "      <td>12406.0</td>\n",
       "      <td>7125</td>\n",
       "      <td>88</td>\n",
       "      <td>124</td>\n",
       "    </tr>\n",
       "    <tr>\n",
       "      <th>300</th>\n",
       "      <td>A352560</td>\n",
       "      <td>7</td>\n",
       "      <td>KODEX 다우존스미국리츠(H)</td>\n",
       "      <td>11570</td>\n",
       "      <td>NaN</td>\n",
       "      <td>1696</td>\n",
       "      <td>19</td>\n",
       "      <td>104</td>\n",
       "    </tr>\n",
       "    <tr>\n",
       "      <th>108</th>\n",
       "      <td>A182480</td>\n",
       "      <td>7</td>\n",
       "      <td>TIGER 미국MSCI리츠(합성 H)</td>\n",
       "      <td>12605</td>\n",
       "      <td>NaN</td>\n",
       "      <td>24975</td>\n",
       "      <td>314</td>\n",
       "      <td>668</td>\n",
       "    </tr>\n",
       "  </tbody>\n",
       "</table>\n",
       "<p>473 rows × 8 columns</p>\n",
       "</div>"
      ],
      "text/plain": [
       "    itemcode  etfTabCode              itemname  price      nav  volumne_sh  \\\n",
       "0    A069500           1             KODEX 200  42095  42105.0     5426223   \n",
       "242  A237350           1          KODEX 코스피100  32540  32675.0         827   \n",
       "60   A332930           1          HANARO 200TR  49275  49267.0         563   \n",
       "59   A270810           1         KBSTAR 코스닥150  13790  13920.0        7118   \n",
       "151  A304770           1         HANARO 코스닥150  13915  14017.0         617   \n",
       "..       ...         ...                   ...    ...      ...         ...   \n",
       "358  A261110           7      TIGER 미국달러선물레버리지   9280   9279.0         709   \n",
       "289  A139660           7       KOSEF 미국달러선물인버스  10640  10639.0          53   \n",
       "270  A253290           7       KBSTAR 헬스케어채권혼합  12410  12406.0        7125   \n",
       "300  A352560           7     KODEX 다우존스미국리츠(H)  11570      NaN        1696   \n",
       "108  A182480           7  TIGER 미국MSCI리츠(합성 H)  12605      NaN       24975   \n",
       "\n",
       "     trading_amt_mln  market_cap_100m  \n",
       "0             228445            51545  \n",
       "242               26              146  \n",
       "60                27             1651  \n",
       "59                97             1669  \n",
       "151                8              351  \n",
       "..               ...              ...  \n",
       "358                6               74  \n",
       "289                0              111  \n",
       "270               88              124  \n",
       "300               19              104  \n",
       "108              314              668  \n",
       "\n",
       "[473 rows x 8 columns]"
      ]
     },
     "execution_count": 6,
     "metadata": {},
     "output_type": "execute_result"
    }
   ],
   "source": [
    "df"
   ]
  },
  {
   "cell_type": "markdown",
   "metadata": {},
   "source": [
    "# 2. 종목 필터링"
   ]
  },
  {
   "cell_type": "markdown",
   "metadata": {},
   "source": [
    "## 1) 투자목적 적합성\n",
    "### (1) 레버리지, 인버스 배제\n",
    "- 종목명에 금지어가 포함돼 있으면 유니버스에서 원천 삭제(`restricted_tokens`)\n",
    "- 레버리지, 인버스는 단기 투자목적에만 적합하므로 배제"
   ]
  },
  {
   "cell_type": "code",
   "execution_count": 7,
   "metadata": {},
   "outputs": [],
   "source": [
    "restricted_tokens = ['레버리지', '인버스', '2X']\n",
    "df = df[~df.itemname.str.contains('|'.join(restricted_tokens))]"
   ]
  },
  {
   "cell_type": "markdown",
   "metadata": {},
   "source": [
    "## 2) 유동성\n",
    "### (1) 시총/거래량\n",
    "- 시총(`limit_market_cap`) >= 300억원\n",
    "- 거래금액(`limit_trading_amt`) >= 1억원"
   ]
  },
  {
   "cell_type": "code",
   "execution_count": 8,
   "metadata": {},
   "outputs": [],
   "source": [
    "limit_market_cap = 300    # 300억원\n",
    "limit_trading_amt = 100   # 1억원 (100백만원)"
   ]
  },
  {
   "cell_type": "code",
   "execution_count": 9,
   "metadata": {},
   "outputs": [],
   "source": [
    "df = df[np.logical_and(df.market_cap_100m >= limit_market_cap, df.trading_amt_mln >= limit_trading_amt)]"
   ]
  },
  {
   "cell_type": "code",
   "execution_count": null,
   "metadata": {},
   "outputs": [],
   "source": []
  },
  {
   "cell_type": "code",
   "execution_count": null,
   "metadata": {},
   "outputs": [],
   "source": []
  },
  {
   "cell_type": "markdown",
   "metadata": {},
   "source": [
    "# 3. 파일 저장"
   ]
  },
  {
   "cell_type": "code",
   "execution_count": 11,
   "metadata": {},
   "outputs": [],
   "source": [
    "df.reset_index(inplace=True, drop=True)"
   ]
  },
  {
   "cell_type": "code",
   "execution_count": 13,
   "metadata": {},
   "outputs": [],
   "source": [
    "df.to_csv('universe.csv', encoding='utf-8-sig', index=False)"
   ]
  },
  {
   "cell_type": "code",
   "execution_count": null,
   "metadata": {},
   "outputs": [],
   "source": []
  }
 ],
 "metadata": {
  "kernelspec": {
   "display_name": "Python 3",
   "language": "python",
   "name": "python3"
  },
  "language_info": {
   "codemirror_mode": {
    "name": "ipython",
    "version": 3
   },
   "file_extension": ".py",
   "mimetype": "text/x-python",
   "name": "python",
   "nbconvert_exporter": "python",
   "pygments_lexer": "ipython3",
   "version": "3.8.5"
  }
 },
 "nbformat": 4,
 "nbformat_minor": 4
}
