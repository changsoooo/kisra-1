{
 "cells": [
  {
   "cell_type": "code",
   "execution_count": 7,
   "id": "extra-condition",
   "metadata": {
    "ExecuteTime": {
     "end_time": "2021-03-20T07:45:01.705067Z",
     "start_time": "2021-03-20T07:45:01.619913Z"
    }
   },
   "outputs": [
    {
     "name": "stdout",
     "output_type": "stream",
     "text": [
      "The autoreload extension is already loaded. To reload it, use:\n",
      "  %reload_ext autoreload\n"
     ]
    }
   ],
   "source": [
    "from portfolio_advisor import PortfolioAdvisor\n",
    "import pandas as pd\n",
    "\n",
    "%load_ext autoreload\n",
    "%autoreload"
   ]
  },
  {
   "cell_type": "code",
   "execution_count": 8,
   "id": "heated-diagram",
   "metadata": {
    "ExecuteTime": {
     "end_time": "2021-03-20T07:45:02.510301Z",
     "start_time": "2021-03-20T07:45:02.473397Z"
    },
    "scrolled": true
   },
   "outputs": [
    {
     "name": "stdout",
     "output_type": "stream",
     "text": [
      "Loaded: price_db_w.pkl\n",
      "Price returns have been calculated.\n",
      "Loaded: instruments_m.pkl\n",
      "Loaded: simulatable_instruments.pkl.\n",
      "Loaded: constraints.pkl.\n"
     ]
    },
    {
     "ename": "NameError",
     "evalue": "name 'utils' is not defined",
     "output_type": "error",
     "traceback": [
      "\u001b[0;31m---------------------------------------------------------------------------\u001b[0m",
      "\u001b[0;31mNameError\u001b[0m                                 Traceback (most recent call last)",
      "\u001b[0;32m<ipython-input-8-5bdfc1777a85>\u001b[0m in \u001b[0;36m<module>\u001b[0;34m\u001b[0m\n\u001b[1;32m      4\u001b[0m \u001b[0;32mfor\u001b[0m \u001b[0mdate\u001b[0m \u001b[0;32min\u001b[0m \u001b[0mpd\u001b[0m\u001b[0;34m.\u001b[0m\u001b[0mbdate_range\u001b[0m\u001b[0;34m(\u001b[0m\u001b[0mstart\u001b[0m\u001b[0;34m=\u001b[0m\u001b[0mstart_date\u001b[0m\u001b[0;34m,\u001b[0m \u001b[0mend\u001b[0m\u001b[0;34m=\u001b[0m\u001b[0mend_date\u001b[0m\u001b[0;34m)\u001b[0m\u001b[0;34m:\u001b[0m\u001b[0;34m\u001b[0m\u001b[0;34m\u001b[0m\u001b[0m\n\u001b[1;32m      5\u001b[0m     \u001b[0;32mfor\u001b[0m \u001b[0mr\u001b[0m \u001b[0;32min\u001b[0m \u001b[0;34m[\u001b[0m\u001b[0;36m2\u001b[0m\u001b[0;34m,\u001b[0m\u001b[0;36m3\u001b[0m\u001b[0;34m,\u001b[0m\u001b[0;36m4\u001b[0m\u001b[0;34m]\u001b[0m\u001b[0;34m:\u001b[0m\u001b[0;34m\u001b[0m\u001b[0;34m\u001b[0m\u001b[0m\n\u001b[0;32m----> 6\u001b[0;31m         \u001b[0mpa\u001b[0m\u001b[0;34m.\u001b[0m\u001b[0mrun\u001b[0m\u001b[0;34m(\u001b[0m\u001b[0mrisk_profile\u001b[0m\u001b[0;34m=\u001b[0m\u001b[0mr\u001b[0m\u001b[0;34m,\u001b[0m \u001b[0mcurrent_date\u001b[0m\u001b[0;34m=\u001b[0m\u001b[0mdate\u001b[0m\u001b[0;34m.\u001b[0m\u001b[0mstrftime\u001b[0m\u001b[0;34m(\u001b[0m\u001b[0;34m'%Y-%m-%d'\u001b[0m\u001b[0;34m)\u001b[0m\u001b[0;34m)\u001b[0m\u001b[0;34m\u001b[0m\u001b[0;34m\u001b[0m\u001b[0m\n\u001b[0m",
      "\u001b[0;32m~/iCloud Drive (Archive)/Documents/Finance/Work/kisra/src/models/portfolio_advisor.py\u001b[0m in \u001b[0;36mrun\u001b[0;34m(self, risk_profile, current_date, drop_wt_threshold, model, rm, method_mu, method_cov, decay, allow_short, alpha)\u001b[0m\n\u001b[1;32m     54\u001b[0m         \u001b[0mself\u001b[0m\u001b[0;34m.\u001b[0m\u001b[0mcurrent_date\u001b[0m\u001b[0;34m=\u001b[0m\u001b[0mcurrent_date\u001b[0m\u001b[0;34m\u001b[0m\u001b[0;34m\u001b[0m\u001b[0m\n\u001b[1;32m     55\u001b[0m \u001b[0;34m\u001b[0m\u001b[0m\n\u001b[0;32m---> 56\u001b[0;31m         \u001b[0mself\u001b[0m\u001b[0;34m.\u001b[0m\u001b[0m_load_data\u001b[0m\u001b[0;34m(\u001b[0m\u001b[0;34m)\u001b[0m\u001b[0;34m\u001b[0m\u001b[0;34m\u001b[0m\u001b[0m\n\u001b[0m\u001b[1;32m     57\u001b[0m         \u001b[0mself\u001b[0m\u001b[0;34m.\u001b[0m\u001b[0m_load_constraints\u001b[0m\u001b[0;34m(\u001b[0m\u001b[0;34m)\u001b[0m\u001b[0;34m\u001b[0m\u001b[0;34m\u001b[0m\u001b[0m\n\u001b[1;32m     58\u001b[0m \u001b[0;34m\u001b[0m\u001b[0m\n",
      "\u001b[0;32m~/iCloud Drive (Archive)/Documents/Finance/Work/kisra/src/models/portfolio_advisor.py\u001b[0m in \u001b[0;36m_load_data\u001b[0;34m(self)\u001b[0m\n\u001b[1;32m    136\u001b[0m \u001b[0;34m\u001b[0m\u001b[0m\n\u001b[1;32m    137\u001b[0m         \u001b[0;31m# asset_classes는 Riskfolio 패키지가 요구하는 형식으로 고정되어 있는 투자종목들의 df임.\u001b[0m\u001b[0;34m\u001b[0m\u001b[0;34m\u001b[0m\u001b[0;34m\u001b[0m\u001b[0m\n\u001b[0;32m--> 138\u001b[0;31m         \u001b[0mself\u001b[0m\u001b[0;34m.\u001b[0m\u001b[0masset_classes\u001b[0m \u001b[0;34m=\u001b[0m \u001b[0mutils\u001b[0m\u001b[0;34m.\u001b[0m\u001b[0mget_asset_classes\u001b[0m\u001b[0;34m(\u001b[0m\u001b[0mself\u001b[0m\u001b[0;34m.\u001b[0m\u001b[0muniverse\u001b[0m\u001b[0;34m)\u001b[0m\u001b[0;34m\u001b[0m\u001b[0;34m\u001b[0m\u001b[0m\n\u001b[0m\u001b[1;32m    139\u001b[0m \u001b[0;34m\u001b[0m\u001b[0m\n\u001b[1;32m    140\u001b[0m     \u001b[0;32mdef\u001b[0m \u001b[0m_calculate_internals\u001b[0m\u001b[0;34m(\u001b[0m\u001b[0mself\u001b[0m\u001b[0;34m)\u001b[0m\u001b[0;34m:\u001b[0m\u001b[0;34m\u001b[0m\u001b[0;34m\u001b[0m\u001b[0m\n",
      "\u001b[0;31mNameError\u001b[0m: name 'utils' is not defined"
     ]
    }
   ],
   "source": [
    "pa = PortfolioAdvisor(root_path='../../')\n",
    "start_date = '2021-02-21'\n",
    "end_date = '2021-02-28'\n",
    "for date in pd.bdate_range(start=start_date, end=end_date):\n",
    "    for r in [2,3,4]:\n",
    "        pa.run(risk_profile=r, current_date=date.strftime('%Y-%m-%d'))"
   ]
  },
  {
   "cell_type": "code",
   "execution_count": 8,
   "id": "married-pasta",
   "metadata": {
    "ExecuteTime": {
     "end_time": "2021-03-14T12:17:31.325646Z",
     "start_time": "2021-03-14T12:17:31.320450Z"
    }
   },
   "outputs": [
    {
     "data": {
      "text/plain": [
       "0.2499999999998873"
      ]
     },
     "execution_count": 8,
     "metadata": {},
     "output_type": "execute_result"
    }
   ],
   "source": [
    "pa.weights.weights.max()"
   ]
  },
  {
   "cell_type": "code",
   "execution_count": 10,
   "id": "honey-murder",
   "metadata": {
    "ExecuteTime": {
     "end_time": "2021-03-14T12:17:54.081663Z",
     "start_time": "2021-03-14T12:17:54.066646Z"
    }
   },
   "outputs": [
    {
     "data": {
      "text/plain": [
       "itemcode         5\n",
       "weights          5\n",
       "tracking_code    5\n",
       "itemname         5\n",
       "dtype: int64"
      ]
     },
     "execution_count": 10,
     "metadata": {},
     "output_type": "execute_result"
    }
   ],
   "source": [
    "pa.weights.groupby(by=['date', 'risk_profile']).count().min()"
   ]
  },
  {
   "cell_type": "code",
   "execution_count": 6,
   "id": "duplicate-harris",
   "metadata": {
    "ExecuteTime": {
     "end_time": "2021-03-14T12:15:52.104867Z",
     "start_time": "2021-03-14T12:15:52.082362Z"
    }
   },
   "outputs": [],
   "source": [
    "pa.weights.to_pickle('../../data/processed/pa_weights.pkl')"
   ]
  },
  {
   "cell_type": "code",
   "execution_count": 11,
   "id": "invisible-saint",
   "metadata": {
    "ExecuteTime": {
     "end_time": "2021-03-14T12:18:37.351187Z",
     "start_time": "2021-03-14T12:18:37.340442Z"
    }
   },
   "outputs": [
    {
     "ename": "NameError",
     "evalue": "name 'np' is not defined",
     "output_type": "error",
     "traceback": [
      "\u001b[0;31m---------------------------------------------------------------------------\u001b[0m",
      "\u001b[0;31mNameError\u001b[0m                                 Traceback (most recent call last)",
      "\u001b[0;32m<ipython-input-11-6fecebd0febc>\u001b[0m in \u001b[0;36m<module>\u001b[0;34m\u001b[0m\n\u001b[0;32m----> 1\u001b[0;31m \u001b[0mnp\u001b[0m\u001b[0;34m\u001b[0m\u001b[0;34m\u001b[0m\u001b[0m\n\u001b[0m",
      "\u001b[0;31mNameError\u001b[0m: name 'np' is not defined"
     ]
    }
   ],
   "source": [
    "np"
   ]
  },
  {
   "cell_type": "code",
   "execution_count": 2,
   "id": "incoming-budget",
   "metadata": {},
   "outputs": [
    {
     "data": {
      "text/plain": [
       "0.4666666666666666"
      ]
     },
     "execution_count": 2,
     "metadata": {},
     "output_type": "execute_result"
    }
   ],
   "source": [
    "0.7/1.5"
   ]
  },
  {
   "cell_type": "code",
   "execution_count": 3,
   "id": "cardiac-honey",
   "metadata": {},
   "outputs": [
    {
     "data": {
      "text/plain": [
       "2.8000000000000003"
      ]
     },
     "execution_count": 3,
     "metadata": {},
     "output_type": "execute_result"
    }
   ],
   "source": [
    "7*0.4"
   ]
  },
  {
   "cell_type": "code",
   "execution_count": null,
   "id": "statutory-consideration",
   "metadata": {},
   "outputs": [],
   "source": []
  },
  {
   "cell_type": "code",
   "execution_count": null,
   "id": "regulation-preliminary",
   "metadata": {},
   "outputs": [],
   "source": []
  },
  {
   "cell_type": "code",
   "execution_count": null,
   "id": "smoking-logan",
   "metadata": {},
   "outputs": [],
   "source": []
  },
  {
   "cell_type": "code",
   "execution_count": null,
   "id": "average-haiti",
   "metadata": {},
   "outputs": [],
   "source": []
  },
  {
   "cell_type": "code",
   "execution_count": null,
   "id": "north-translator",
   "metadata": {},
   "outputs": [],
   "source": []
  },
  {
   "cell_type": "code",
   "execution_count": null,
   "id": "national-practitioner",
   "metadata": {},
   "outputs": [],
   "source": []
  },
  {
   "cell_type": "code",
   "execution_count": 79,
   "id": "empty-maker",
   "metadata": {
    "ExecuteTime": {
     "end_time": "2021-03-14T04:54:17.482978Z",
     "start_time": "2021-03-14T04:54:17.477095Z"
    }
   },
   "outputs": [],
   "source": [
    "filepath = '../../data/processed/'\n",
    "filename = 'investors_m'\n",
    "investors_m = pd.read_pickle(filepath+filename+'.pkl')\n",
    "investors_m = investors_m.rename(columns={'account_nm':'acc_no'}) # 임시조치. 컬럼명 acc_no가 적절"
   ]
  },
  {
   "cell_type": "code",
   "execution_count": 81,
   "id": "future-empire",
   "metadata": {
    "ExecuteTime": {
     "end_time": "2021-03-14T04:54:38.357799Z",
     "start_time": "2021-03-14T04:54:38.347022Z"
    }
   },
   "outputs": [],
   "source": [
    "filepath = '../../data/processed/'\n",
    "filename = 'balance_m'\n",
    "balance_m = pd.read_pickle(filepath+filename+'.pkl')\n",
    "balance_m['acc_no'] = 'acc1-01' # 임시 조치. acc_no 컬럼이 애초부터 컬럼으로 있어야 했음."
   ]
  },
  {
   "cell_type": "code",
   "execution_count": 82,
   "id": "liberal-vector",
   "metadata": {
    "ExecuteTime": {
     "end_time": "2021-03-14T04:54:38.572197Z",
     "start_time": "2021-03-14T04:54:38.566218Z"
    }
   },
   "outputs": [],
   "source": [
    "filename = 'balance_s'\n",
    "balance_s = pd.read_pickle(filepath+filename+'.pkl')\n",
    "balance_s['acc_no'] = 'acc1-01' # 임시 조치. acc_no 컬럼이 애초부터 컬럼으로 있어야 했음."
   ]
  },
  {
   "cell_type": "code",
   "execution_count": 83,
   "id": "understood-amplifier",
   "metadata": {
    "ExecuteTime": {
     "end_time": "2021-03-14T04:54:38.790995Z",
     "start_time": "2021-03-14T04:54:38.778690Z"
    },
    "scrolled": true
   },
   "outputs": [
    {
     "data": {
      "text/html": [
       "<div>\n",
       "<style scoped>\n",
       "    .dataframe tbody tr th:only-of-type {\n",
       "        vertical-align: middle;\n",
       "    }\n",
       "\n",
       "    .dataframe tbody tr th {\n",
       "        vertical-align: top;\n",
       "    }\n",
       "\n",
       "    .dataframe thead th {\n",
       "        text-align: right;\n",
       "    }\n",
       "</style>\n",
       "<table border=\"1\" class=\"dataframe\">\n",
       "  <thead>\n",
       "    <tr style=\"text-align: right;\">\n",
       "      <th></th>\n",
       "      <th>date</th>\n",
       "      <th>userid</th>\n",
       "      <th>asset_class</th>\n",
       "      <th>value</th>\n",
       "      <th>wt</th>\n",
       "      <th>acc_no</th>\n",
       "    </tr>\n",
       "  </thead>\n",
       "  <tbody>\n",
       "    <tr>\n",
       "      <th>0</th>\n",
       "      <td>1/10/2020 1:00:00 PM</td>\n",
       "      <td>A01</td>\n",
       "      <td>현금성</td>\n",
       "      <td>700000.00</td>\n",
       "      <td>1.000000</td>\n",
       "      <td>acc1-01</td>\n",
       "    </tr>\n",
       "    <tr>\n",
       "      <th>1</th>\n",
       "      <td>1/10/2020 4:00:00 PM</td>\n",
       "      <td>A01</td>\n",
       "      <td>현금성</td>\n",
       "      <td>364555.00</td>\n",
       "      <td>0.518938</td>\n",
       "      <td>acc1-01</td>\n",
       "    </tr>\n",
       "    <tr>\n",
       "      <th>2</th>\n",
       "      <td>1/10/2020 4:00:00 PM</td>\n",
       "      <td>A01</td>\n",
       "      <td>주식</td>\n",
       "      <td>85527.70</td>\n",
       "      <td>0.121747</td>\n",
       "      <td>acc1-01</td>\n",
       "    </tr>\n",
       "    <tr>\n",
       "      <th>3</th>\n",
       "      <td>1/10/2020 4:00:00 PM</td>\n",
       "      <td>A01</td>\n",
       "      <td>채권</td>\n",
       "      <td>215383.10</td>\n",
       "      <td>0.306594</td>\n",
       "      <td>acc1-01</td>\n",
       "    </tr>\n",
       "    <tr>\n",
       "      <th>4</th>\n",
       "      <td>1/10/2020 4:00:00 PM</td>\n",
       "      <td>A01</td>\n",
       "      <td>대체</td>\n",
       "      <td>37036.80</td>\n",
       "      <td>0.052721</td>\n",
       "      <td>acc1-01</td>\n",
       "    </tr>\n",
       "    <tr>\n",
       "      <th>5</th>\n",
       "      <td>2/11/2020 9:00:00 AM</td>\n",
       "      <td>A01</td>\n",
       "      <td>현금성</td>\n",
       "      <td>373065.00</td>\n",
       "      <td>0.531376</td>\n",
       "      <td>acc1-01</td>\n",
       "    </tr>\n",
       "    <tr>\n",
       "      <th>6</th>\n",
       "      <td>2/11/2020 9:00:00 AM</td>\n",
       "      <td>A01</td>\n",
       "      <td>주식</td>\n",
       "      <td>96929.55</td>\n",
       "      <td>0.138062</td>\n",
       "      <td>acc1-01</td>\n",
       "    </tr>\n",
       "    <tr>\n",
       "      <th>7</th>\n",
       "      <td>2/11/2020 9:00:00 AM</td>\n",
       "      <td>A01</td>\n",
       "      <td>채권</td>\n",
       "      <td>158776.50</td>\n",
       "      <td>0.226154</td>\n",
       "      <td>acc1-01</td>\n",
       "    </tr>\n",
       "    <tr>\n",
       "      <th>8</th>\n",
       "      <td>2/11/2020 9:00:00 AM</td>\n",
       "      <td>A01</td>\n",
       "      <td>대체</td>\n",
       "      <td>73302.00</td>\n",
       "      <td>0.104408</td>\n",
       "      <td>acc1-01</td>\n",
       "    </tr>\n",
       "  </tbody>\n",
       "</table>\n",
       "</div>"
      ],
      "text/plain": [
       "                   date userid asset_class      value        wt   acc_no\n",
       "0  1/10/2020 1:00:00 PM    A01         현금성  700000.00  1.000000  acc1-01\n",
       "1  1/10/2020 4:00:00 PM    A01         현금성  364555.00  0.518938  acc1-01\n",
       "2  1/10/2020 4:00:00 PM    A01          주식   85527.70  0.121747  acc1-01\n",
       "3  1/10/2020 4:00:00 PM    A01          채권  215383.10  0.306594  acc1-01\n",
       "4  1/10/2020 4:00:00 PM    A01          대체   37036.80  0.052721  acc1-01\n",
       "5  2/11/2020 9:00:00 AM    A01         현금성  373065.00  0.531376  acc1-01\n",
       "6  2/11/2020 9:00:00 AM    A01          주식   96929.55  0.138062  acc1-01\n",
       "7  2/11/2020 9:00:00 AM    A01          채권  158776.50  0.226154  acc1-01\n",
       "8  2/11/2020 9:00:00 AM    A01          대체   73302.00  0.104408  acc1-01"
      ]
     },
     "execution_count": 83,
     "metadata": {},
     "output_type": "execute_result"
    }
   ],
   "source": [
    "balance_m"
   ]
  },
  {
   "cell_type": "code",
   "execution_count": 64,
   "id": "soviet-algeria",
   "metadata": {
    "ExecuteTime": {
     "end_time": "2021-03-14T02:36:19.438309Z",
     "start_time": "2021-03-14T02:36:19.422651Z"
    }
   },
   "outputs": [
    {
     "data": {
      "text/html": [
       "<div>\n",
       "<style scoped>\n",
       "    .dataframe tbody tr th:only-of-type {\n",
       "        vertical-align: middle;\n",
       "    }\n",
       "\n",
       "    .dataframe tbody tr th {\n",
       "        vertical-align: top;\n",
       "    }\n",
       "\n",
       "    .dataframe thead th {\n",
       "        text-align: right;\n",
       "    }\n",
       "</style>\n",
       "<table border=\"1\" class=\"dataframe\">\n",
       "  <thead>\n",
       "    <tr style=\"text-align: right;\">\n",
       "      <th></th>\n",
       "      <th>date</th>\n",
       "      <th>userid</th>\n",
       "      <th>name</th>\n",
       "      <th>asset_class</th>\n",
       "      <th>itemcode</th>\n",
       "      <th>itemname</th>\n",
       "      <th>quantity</th>\n",
       "      <th>cost_price</th>\n",
       "      <th>cost_value</th>\n",
       "      <th>price</th>\n",
       "      <th>value</th>\n",
       "      <th>wt</th>\n",
       "      <th>group_by</th>\n",
       "      <th>투자원본</th>\n",
       "      <th>acc_no</th>\n",
       "    </tr>\n",
       "  </thead>\n",
       "  <tbody>\n",
       "    <tr>\n",
       "      <th>0</th>\n",
       "      <td>1/10/2020 1:00:00 PM</td>\n",
       "      <td>A01</td>\n",
       "      <td>투자자1</td>\n",
       "      <td>현금성</td>\n",
       "      <td>C000001</td>\n",
       "      <td>현금</td>\n",
       "      <td>700000</td>\n",
       "      <td>1</td>\n",
       "      <td>700000</td>\n",
       "      <td>1.0</td>\n",
       "      <td>700000.0</td>\n",
       "      <td>1.0</td>\n",
       "      <td>20200110 13:00현금성</td>\n",
       "      <td>Y</td>\n",
       "      <td>800-01</td>\n",
       "    </tr>\n",
       "  </tbody>\n",
       "</table>\n",
       "</div>"
      ],
      "text/plain": [
       "                   date userid  name asset_class itemcode itemname  quantity  \\\n",
       "0  1/10/2020 1:00:00 PM    A01  투자자1         현금성  C000001       현금    700000   \n",
       "\n",
       "   cost_price  cost_value  price     value   wt           group_by 투자원본  \\\n",
       "0           1      700000    1.0  700000.0  1.0  20200110 13:00현금성    Y   \n",
       "\n",
       "   acc_no  \n",
       "0  800-01  "
      ]
     },
     "execution_count": 64,
     "metadata": {},
     "output_type": "execute_result"
    }
   ],
   "source": [
    "balance_s[balance_s.투자원본=='Y']"
   ]
  },
  {
   "cell_type": "code",
   "execution_count": 65,
   "id": "proprietary-cornwall",
   "metadata": {
    "ExecuteTime": {
     "end_time": "2021-03-14T02:36:19.926853Z",
     "start_time": "2021-03-14T02:36:19.923871Z"
    }
   },
   "outputs": [],
   "source": [
    "from user import User"
   ]
  },
  {
   "cell_type": "code",
   "execution_count": 70,
   "id": "intensive-prime",
   "metadata": {
    "ExecuteTime": {
     "end_time": "2021-03-14T04:18:28.686805Z",
     "start_time": "2021-03-14T04:18:28.667009Z"
    }
   },
   "outputs": [
    {
     "ename": "NameError",
     "evalue": "name 'load' is not defined",
     "output_type": "error",
     "traceback": [
      "\u001b[0;31m---------------------------------------------------------------------------\u001b[0m",
      "\u001b[0;31mNameError\u001b[0m                                 Traceback (most recent call last)",
      "\u001b[0;32m<ipython-input-70-ee2fede8d489>\u001b[0m in \u001b[0;36m<module>\u001b[0;34m\u001b[0m\n\u001b[1;32m      1\u001b[0m \u001b[0mlatest_bal\u001b[0m \u001b[0;34m=\u001b[0m \u001b[0mbalance_s\u001b[0m\u001b[0;34m[\u001b[0m\u001b[0mbalance_s\u001b[0m\u001b[0;34m.\u001b[0m\u001b[0m투자원본\u001b[0m\u001b[0;34m==\u001b[0m\u001b[0;34m'Y'\u001b[0m\u001b[0;34m]\u001b[0m\u001b[0;34m\u001b[0m\u001b[0;34m\u001b[0m\u001b[0m\n\u001b[1;32m      2\u001b[0m \u001b[0muserids\u001b[0m \u001b[0;34m=\u001b[0m \u001b[0mbalance_m\u001b[0m\u001b[0;34m.\u001b[0m\u001b[0muserid\u001b[0m\u001b[0;34m.\u001b[0m\u001b[0munique\u001b[0m\u001b[0;34m(\u001b[0m\u001b[0;34m)\u001b[0m\u001b[0;34m.\u001b[0m\u001b[0mtolist\u001b[0m\u001b[0;34m(\u001b[0m\u001b[0;34m)\u001b[0m\u001b[0;34m\u001b[0m\u001b[0;34m\u001b[0m\u001b[0m\n\u001b[0;32m----> 3\u001b[0;31m \u001b[0musers\u001b[0m \u001b[0;34m=\u001b[0m \u001b[0mload\u001b[0m\u001b[0;34m(\u001b[0m\u001b[0muserids\u001b[0m\u001b[0;34m,\u001b[0m \u001b[0mbalance\u001b[0m\u001b[0;34m=\u001b[0m\u001b[0mlatest_bal\u001b[0m\u001b[0;34m)\u001b[0m\u001b[0;34m\u001b[0m\u001b[0;34m\u001b[0m\u001b[0m\n\u001b[0m",
      "\u001b[0;31mNameError\u001b[0m: name 'load' is not defined"
     ]
    }
   ],
   "source": [
    "users = load_users(userinfo=investors_m, balance=balance_s)"
   ]
  },
  {
   "cell_type": "code",
   "execution_count": null,
   "id": "metropolitan-chapel",
   "metadata": {},
   "outputs": [],
   "source": [
    "def load_users(userinfo, book, reference_date='signup'):\n",
    "    r\"\"\"\n",
    "    users에서 읽어온 userid로 사용자 클래스(User)의 인스턴스를 만든다.\n",
    "    각 User 인스턴스는 딕셔너리인 users에 {userid:User instance} 형식으로 저장되고,\n",
    "    이 딕셔너리 users가 반환된다.\n",
    "    \n",
    "    현재 가정\n",
    "    -------\n",
    "    가입되어 있는 사용자만 로드할 수 있다. 충분한 사용자가 가입되어 있다.\n",
    "    사용자마다 포트폴리오 운용을 위한 충분한 잔고가 있다.\n",
    "    \n",
    "    Parameters\n",
    "    ----------\n",
    "    userinfo : DataFrame\n",
    "        사용자 정보 테이블. investors_m 형식이다.\n",
    "        investors_m 형식의 pandas DataFrame 인스턴스.\n",
    "    book : DataFrame\n",
    "        원장 테이블. 계좌 내 보유종목 등 상세내역이 포함되어 있다. balance_s 형식이다.\n",
    "        이 원장 내 잔고를 근거로 RA가 포트폴리오를 추천하고, 매매를 위한 주문지를 제시한다.\n",
    "    reference_date : 'signup' or 'latest'.\n",
    "        이 값이 'signup'이면 가입했던 시점의 잔고를 기준으로 포트폴리오 추천과 매매 주문지 작성 작업이 실행된다.\n",
    "        'latest'이면 최근 날짜 기준의 잔고를 사용한다.\n",
    "        Default is 'signup'.\n",
    "\n",
    "    Return\n",
    "    ------\n",
    "    users : dict\n",
    "        userid를 key값으로 하고, User 클래스의 인스턴스를 value로 하는 파이썬 딕셔너리임.\n",
    "    \"\"\"\n",
    "    users = {}\n",
    "    \n",
    "    for userid in userinfo.userid.unique():\n",
    "        users[userid] = User(username=)"
   ]
  },
  {
   "cell_type": "code",
   "execution_count": 91,
   "id": "instrumental-cooper",
   "metadata": {
    "ExecuteTime": {
     "end_time": "2021-03-14T05:04:13.167305Z",
     "start_time": "2021-03-14T05:04:13.158169Z"
    }
   },
   "outputs": [
    {
     "data": {
      "text/html": [
       "<div>\n",
       "<style scoped>\n",
       "    .dataframe tbody tr th:only-of-type {\n",
       "        vertical-align: middle;\n",
       "    }\n",
       "\n",
       "    .dataframe tbody tr th {\n",
       "        vertical-align: top;\n",
       "    }\n",
       "\n",
       "    .dataframe thead th {\n",
       "        text-align: right;\n",
       "    }\n",
       "</style>\n",
       "<table border=\"1\" class=\"dataframe\">\n",
       "  <thead>\n",
       "    <tr style=\"text-align: right;\">\n",
       "      <th></th>\n",
       "      <th>userid</th>\n",
       "      <th>name</th>\n",
       "      <th>acc_no</th>\n",
       "      <th>profile_code</th>\n",
       "    </tr>\n",
       "  </thead>\n",
       "  <tbody>\n",
       "    <tr>\n",
       "      <th>0</th>\n",
       "      <td>A01</td>\n",
       "      <td>투자자1</td>\n",
       "      <td>acc1-01</td>\n",
       "      <td>2</td>\n",
       "    </tr>\n",
       "    <tr>\n",
       "      <th>1</th>\n",
       "      <td>A01</td>\n",
       "      <td>투자자1</td>\n",
       "      <td>acc1-02</td>\n",
       "      <td>2</td>\n",
       "    </tr>\n",
       "  </tbody>\n",
       "</table>\n",
       "</div>"
      ],
      "text/plain": [
       "  userid  name   acc_no  profile_code\n",
       "0    A01  투자자1  acc1-01             2\n",
       "1    A01  투자자1  acc1-02             2"
      ]
     },
     "execution_count": 91,
     "metadata": {},
     "output_type": "execute_result"
    }
   ],
   "source": [
    "investors_m[investors_m.userid=='A01']"
   ]
  },
  {
   "cell_type": "code",
   "execution_count": 93,
   "id": "fiscal-phoenix",
   "metadata": {
    "ExecuteTime": {
     "end_time": "2021-03-14T05:08:06.504610Z",
     "start_time": "2021-03-14T05:08:06.498846Z"
    }
   },
   "outputs": [
    {
     "data": {
      "text/plain": [
       "0    투자자1\n",
       "1    투자자1\n",
       "Name: name, dtype: object"
      ]
     },
     "execution_count": 93,
     "metadata": {},
     "output_type": "execute_result"
    }
   ],
   "source": [
    "investors_m[investors_m.userid=='A01'].name"
   ]
  },
  {
   "cell_type": "code",
   "execution_count": null,
   "id": "activated-european",
   "metadata": {},
   "outputs": [],
   "source": []
  },
  {
   "cell_type": "code",
   "execution_count": null,
   "id": "revolutionary-recommendation",
   "metadata": {},
   "outputs": [],
   "source": [
    "def create_user(userid,\n",
    "                username,\n",
    "                risk_profile,\n",
    "                deposit=700000,\n",
    "                access_path='../../processed/',\n",
    "                access_name='investors_m.pkl'):\n",
    "    r\"\"\"\n",
    "    이용자 1명을 새로 만들거나(계좌도 1개 생성된다), 기존 이용자에게 계좌 1개를 새로 발급한다.\n",
    "    \n",
    "    Parameters\n",
    "    ----------\n",
    "    userid : str\n",
    "        사용자 아이디\n",
    "    username : str\n",
    "        사용자 이름\n",
    "    risk_profile : int\n",
    "        투자자 성형 분류번호\n",
    "    deposit : float\n",
    "        입금액. Default is 700,000.\n",
    "    access_path: str\n",
    "        현재까지의 이용자 정보가 저장된 파일 또는 DB의 경로\n",
    "    access_name: str\n",
    "        현재까지의 이용자 정보가 저장된 파일명 또는 DB 테이블명\n",
    "        \n",
    "    Return\n",
    "    ------\n",
    "    user : User\n",
    "        주어진 정보로 User 클래스의 인스턴스를 만들어 반환한다.\n",
    "    \"\"\"\n",
    "    \n",
    "    userinfo = pd.read_pickle(access_path+access_name)\n",
    "    \n",
    "    user = User(userid=userid, username=username)"
   ]
  },
  {
   "cell_type": "code",
   "execution_count": 96,
   "id": "innovative-spain",
   "metadata": {
    "ExecuteTime": {
     "end_time": "2021-03-14T05:38:21.947373Z",
     "start_time": "2021-03-14T05:38:21.942664Z"
    }
   },
   "outputs": [
    {
     "data": {
      "text/plain": [
       "'A01'"
      ]
     },
     "execution_count": 96,
     "metadata": {},
     "output_type": "execute_result"
    }
   ],
   "source": [
    "investors_m.iloc[0].userid"
   ]
  },
  {
   "cell_type": "code",
   "execution_count": 97,
   "id": "explicit-suspect",
   "metadata": {
    "ExecuteTime": {
     "end_time": "2021-03-14T05:57:25.326775Z",
     "start_time": "2021-03-14T05:57:25.316460Z"
    }
   },
   "outputs": [
    {
     "ename": "NameError",
     "evalue": "name 'w' is not defined",
     "output_type": "error",
     "traceback": [
      "\u001b[0;31m---------------------------------------------------------------------------\u001b[0m",
      "\u001b[0;31mNameError\u001b[0m                                 Traceback (most recent call last)",
      "\u001b[0;32m<ipython-input-97-74c7db5447c3>\u001b[0m in \u001b[0;36m<module>\u001b[0;34m\u001b[0m\n\u001b[0;32m----> 1\u001b[0;31m \u001b[0mw\u001b[0m\u001b[0;34m\u001b[0m\u001b[0;34m\u001b[0m\u001b[0m\n\u001b[0m",
      "\u001b[0;31mNameError\u001b[0m: name 'w' is not defined"
     ]
    }
   ],
   "source": [
    "w"
   ]
  },
  {
   "cell_type": "code",
   "execution_count": 130,
   "id": "subtle-shakespeare",
   "metadata": {
    "ExecuteTime": {
     "end_time": "2021-03-14T06:06:15.138173Z",
     "start_time": "2021-03-14T06:06:15.129770Z"
    }
   },
   "outputs": [
    {
     "data": {
      "text/html": [
       "<div>\n",
       "<style scoped>\n",
       "    .dataframe tbody tr th:only-of-type {\n",
       "        vertical-align: middle;\n",
       "    }\n",
       "\n",
       "    .dataframe tbody tr th {\n",
       "        vertical-align: top;\n",
       "    }\n",
       "\n",
       "    .dataframe thead th {\n",
       "        text-align: right;\n",
       "    }\n",
       "</style>\n",
       "<table border=\"1\" class=\"dataframe\">\n",
       "  <thead>\n",
       "    <tr style=\"text-align: right;\">\n",
       "      <th></th>\n",
       "      <th>weights</th>\n",
       "      <th>tracking_code</th>\n",
       "      <th>itemname</th>\n",
       "    </tr>\n",
       "  </thead>\n",
       "  <tbody>\n",
       "    <tr>\n",
       "      <th>A196230</th>\n",
       "      <td>0.224122</td>\n",
       "      <td>BOK_D.4</td>\n",
       "      <td>KBSTAR 단기통안채</td>\n",
       "    </tr>\n",
       "    <tr>\n",
       "      <th>A214980</th>\n",
       "      <td>0.214052</td>\n",
       "      <td>MM_PLUS</td>\n",
       "      <td>KODEX 단기채권PLUS</td>\n",
       "    </tr>\n",
       "    <tr>\n",
       "      <th>A153130</th>\n",
       "      <td>0.200000</td>\n",
       "      <td>MM</td>\n",
       "      <td>KODEX 단기채권</td>\n",
       "    </tr>\n",
       "    <tr>\n",
       "      <th>A130730</th>\n",
       "      <td>0.200000</td>\n",
       "      <td>MM</td>\n",
       "      <td>KOSEF 단기자금</td>\n",
       "    </tr>\n",
       "    <tr>\n",
       "      <th>A273130</th>\n",
       "      <td>0.131301</td>\n",
       "      <td>ACT_BOND_D4</td>\n",
       "      <td>KODEX 종합채권(AA-이상)액티브</td>\n",
       "    </tr>\n",
       "    <tr>\n",
       "      <th>OTHERS</th>\n",
       "      <td>0.026473</td>\n",
       "      <td>Others</td>\n",
       "      <td>Others</td>\n",
       "    </tr>\n",
       "  </tbody>\n",
       "</table>\n",
       "</div>"
      ],
      "text/plain": [
       "          weights tracking_code              itemname\n",
       "A196230  0.224122       BOK_D.4          KBSTAR 단기통안채\n",
       "A214980  0.214052       MM_PLUS        KODEX 단기채권PLUS\n",
       "A153130  0.200000            MM            KODEX 단기채권\n",
       "A130730  0.200000            MM            KOSEF 단기자금\n",
       "A273130  0.131301   ACT_BOND_D4  KODEX 종합채권(AA-이상)액티브\n",
       "OTHERS   0.026473        Others                Others"
      ]
     },
     "execution_count": 130,
     "metadata": {},
     "output_type": "execute_result"
    }
   ],
   "source": [
    "pa.w"
   ]
  },
  {
   "cell_type": "code",
   "execution_count": null,
   "id": "friendly-variation",
   "metadata": {},
   "outputs": [],
   "source": []
  }
 ],
 "metadata": {
  "kernelspec": {
   "display_name": "Python 3",
   "language": "python",
   "name": "python3"
  },
  "language_info": {
   "codemirror_mode": {
    "name": "ipython",
    "version": 3
   },
   "file_extension": ".py",
   "mimetype": "text/x-python",
   "name": "python",
   "nbconvert_exporter": "python",
   "pygments_lexer": "ipython3",
   "version": "3.8.8"
  }
 },
 "nbformat": 4,
 "nbformat_minor": 5
}
