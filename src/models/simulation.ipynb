{
 "cells": [
  {
   "cell_type": "code",
   "execution_count": 10,
   "id": "executed-official",
   "metadata": {
    "ExecuteTime": {
     "end_time": "2021-03-23T05:25:30.344092Z",
     "start_time": "2021-03-23T05:25:30.340102Z"
    }
   },
   "outputs": [],
   "source": [
    "import pandas as pd\n",
    "from load_data import Balance, Instruments, AdvisedPortfolios, PriceDB, Singleton"
   ]
  },
  {
   "cell_type": "code",
   "execution_count": null,
   "id": "remarkable-specific",
   "metadata": {},
   "outputs": [],
   "source": [
    "instruments_m = pd.read_pickle('../../data/processed/instruments_m.pkl')\n",
    "price_db = pd.read_pickle('../../data/external/price_db_d.pkl')\n",
    "advised_pf = pd.read_pickle('../../data/processed/advised_portfolios.pkl')    "
   ]
  },
  {
   "cell_type": "code",
   "execution_count": 46,
   "id": "armed-personality",
   "metadata": {
    "ExecuteTime": {
     "end_time": "2021-03-23T05:36:45.803588Z",
     "start_time": "2021-03-23T05:36:45.796607Z"
    }
   },
   "outputs": [],
   "source": [
    "userid = 'A00'\n",
    "username = '투자자0'\n",
    "current_date = '2020-02-01'\n",
    "\n",
    "# c_date: 추천 포트폴리오DB에서 사용자가 입력한 날짜와 가장 가까운 날짜.\n",
    "c_date = advised_pf.loc[advised_pf.date <= current_date, ['date']].max().date\n",
    "new_units = {'A122260': 2, 'A114260': 4, 'A130730': 2, 'A329650': 13, 'A266370': 4}\n",
    "prices = {'A122260': [101185.0, 'KRW'], 'A114260': [57900.0, 'KRW'], 'A130730': [100975.0, 'KRW'], 'A329650': [10980.0, 'KRW'], 'A266370': [21325.0, 'KRW']}"
   ]
  },
  {
   "cell_type": "code",
   "execution_count": null,
   "id": "innovative-singapore",
   "metadata": {
    "ExecuteTime": {
     "end_time": "2021-03-23T05:36:09.001757Z",
     "start_time": "2021-03-23T05:36:08.981809Z"
    }
   },
   "outputs": [],
   "source": []
  },
  {
   "cell_type": "code",
   "execution_count": 47,
   "id": "governing-garlic",
   "metadata": {
    "ExecuteTime": {
     "end_time": "2021-03-23T05:36:46.355087Z",
     "start_time": "2021-03-23T05:36:46.349103Z"
    }
   },
   "outputs": [
    {
     "data": {
      "text/plain": [
       "'2020-01-31'"
      ]
     },
     "execution_count": 47,
     "metadata": {},
     "output_type": "execute_result"
    }
   ],
   "source": [
    "c_date"
   ]
  },
  {
   "cell_type": "code",
   "execution_count": 48,
   "id": "reduced-grocery",
   "metadata": {
    "ExecuteTime": {
     "end_time": "2021-03-23T05:36:47.650758Z",
     "start_time": "2021-03-23T05:36:47.645772Z"
    }
   },
   "outputs": [],
   "source": [
    "df = advised_pf.loc[(advised_pf.date==c_date) & (advised_pf.risk_profile==2), :]"
   ]
  },
  {
   "cell_type": "code",
   "execution_count": 49,
   "id": "martial-onion",
   "metadata": {
    "ExecuteTime": {
     "end_time": "2021-03-23T05:36:49.486763Z",
     "start_time": "2021-03-23T05:36:49.475793Z"
    }
   },
   "outputs": [
    {
     "data": {
      "text/html": [
       "<div>\n",
       "<style scoped>\n",
       "    .dataframe tbody tr th:only-of-type {\n",
       "        vertical-align: middle;\n",
       "    }\n",
       "\n",
       "    .dataframe tbody tr th {\n",
       "        vertical-align: top;\n",
       "    }\n",
       "\n",
       "    .dataframe thead th {\n",
       "        text-align: right;\n",
       "    }\n",
       "</style>\n",
       "<table border=\"1\" class=\"dataframe\">\n",
       "  <thead>\n",
       "    <tr style=\"text-align: right;\">\n",
       "      <th></th>\n",
       "      <th>date</th>\n",
       "      <th>risk_profile</th>\n",
       "      <th>itemcode</th>\n",
       "      <th>weights</th>\n",
       "      <th>tracking_code</th>\n",
       "      <th>itemname</th>\n",
       "      <th>price</th>\n",
       "      <th>volume</th>\n",
       "      <th>trading_amt_mln</th>\n",
       "      <th>asset_class</th>\n",
       "    </tr>\n",
       "  </thead>\n",
       "  <tbody>\n",
       "    <tr>\n",
       "      <th>6368</th>\n",
       "      <td>2020-01-31</td>\n",
       "      <td>2</td>\n",
       "      <td>A214980</td>\n",
       "      <td>0.240000</td>\n",
       "      <td>MM_PLUS</td>\n",
       "      <td>KODEX 단기채권PLUS</td>\n",
       "      <td>101895.0</td>\n",
       "      <td>3485.0</td>\n",
       "      <td>849.730903</td>\n",
       "      <td>Fixed Income</td>\n",
       "    </tr>\n",
       "    <tr>\n",
       "      <th>6369</th>\n",
       "      <td>2020-01-31</td>\n",
       "      <td>2</td>\n",
       "      <td>A130730</td>\n",
       "      <td>0.240000</td>\n",
       "      <td>MM</td>\n",
       "      <td>KOSEF 단기자금</td>\n",
       "      <td>99905.0</td>\n",
       "      <td>1294.0</td>\n",
       "      <td>26269.979162</td>\n",
       "      <td>Fixed Income</td>\n",
       "    </tr>\n",
       "    <tr>\n",
       "      <th>6370</th>\n",
       "      <td>2020-01-31</td>\n",
       "      <td>2</td>\n",
       "      <td>A148070</td>\n",
       "      <td>0.182940</td>\n",
       "      <td>KTB_D8</td>\n",
       "      <td>KOSEF 국고채10년</td>\n",
       "      <td>122247.0</td>\n",
       "      <td>8527.0</td>\n",
       "      <td>2489.756493</td>\n",
       "      <td>Fixed Income</td>\n",
       "    </tr>\n",
       "    <tr>\n",
       "      <th>6371</th>\n",
       "      <td>2020-01-31</td>\n",
       "      <td>2</td>\n",
       "      <td>A196230</td>\n",
       "      <td>0.117060</td>\n",
       "      <td>BOK_D.4</td>\n",
       "      <td>KBSTAR 단기통안채</td>\n",
       "      <td>103200.0</td>\n",
       "      <td>1084314.0</td>\n",
       "      <td>39766.117859</td>\n",
       "      <td>Fixed Income</td>\n",
       "    </tr>\n",
       "    <tr>\n",
       "      <th>6372</th>\n",
       "      <td>2020-01-31</td>\n",
       "      <td>2</td>\n",
       "      <td>A114260</td>\n",
       "      <td>0.100000</td>\n",
       "      <td>KTB_D3</td>\n",
       "      <td>KODEX 국고채3년</td>\n",
       "      <td>57210.0</td>\n",
       "      <td>45794.0</td>\n",
       "      <td>2054.848909</td>\n",
       "      <td>Fixed Income</td>\n",
       "    </tr>\n",
       "    <tr>\n",
       "      <th>6373</th>\n",
       "      <td>2020-01-31</td>\n",
       "      <td>2</td>\n",
       "      <td>A251350</td>\n",
       "      <td>0.077163</td>\n",
       "      <td>MSCI_WO</td>\n",
       "      <td>KODEX 선진국MSCI World</td>\n",
       "      <td>15545.0</td>\n",
       "      <td>19420.0</td>\n",
       "      <td>1066.047606</td>\n",
       "      <td>Equity</td>\n",
       "    </tr>\n",
       "    <tr>\n",
       "      <th>6374</th>\n",
       "      <td>2020-01-31</td>\n",
       "      <td>2</td>\n",
       "      <td>A069500</td>\n",
       "      <td>0.022837</td>\n",
       "      <td>K200</td>\n",
       "      <td>KODEX 200</td>\n",
       "      <td>28262.0</td>\n",
       "      <td>6526581.0</td>\n",
       "      <td>164648.417521</td>\n",
       "      <td>Equity</td>\n",
       "    </tr>\n",
       "    <tr>\n",
       "      <th>6375</th>\n",
       "      <td>2020-01-31</td>\n",
       "      <td>2</td>\n",
       "      <td>A237370</td>\n",
       "      <td>0.020000</td>\n",
       "      <td>BAL_KO3KTB7</td>\n",
       "      <td>KODEX 배당성장채권혼합</td>\n",
       "      <td>10405.0</td>\n",
       "      <td>5178.0</td>\n",
       "      <td>44.355246</td>\n",
       "      <td>Alternative</td>\n",
       "    </tr>\n",
       "  </tbody>\n",
       "</table>\n",
       "</div>"
      ],
      "text/plain": [
       "            date  risk_profile itemcode   weights tracking_code  \\\n",
       "6368  2020-01-31             2  A214980  0.240000       MM_PLUS   \n",
       "6369  2020-01-31             2  A130730  0.240000            MM   \n",
       "6370  2020-01-31             2  A148070  0.182940        KTB_D8   \n",
       "6371  2020-01-31             2  A196230  0.117060       BOK_D.4   \n",
       "6372  2020-01-31             2  A114260  0.100000        KTB_D3   \n",
       "6373  2020-01-31             2  A251350  0.077163       MSCI_WO   \n",
       "6374  2020-01-31             2  A069500  0.022837          K200   \n",
       "6375  2020-01-31             2  A237370  0.020000   BAL_KO3KTB7   \n",
       "\n",
       "                 itemname     price     volume  trading_amt_mln   asset_class  \n",
       "6368       KODEX 단기채권PLUS  101895.0     3485.0       849.730903  Fixed Income  \n",
       "6369           KOSEF 단기자금   99905.0     1294.0     26269.979162  Fixed Income  \n",
       "6370         KOSEF 국고채10년  122247.0     8527.0      2489.756493  Fixed Income  \n",
       "6371         KBSTAR 단기통안채  103200.0  1084314.0     39766.117859  Fixed Income  \n",
       "6372          KODEX 국고채3년   57210.0    45794.0      2054.848909  Fixed Income  \n",
       "6373  KODEX 선진국MSCI World   15545.0    19420.0      1066.047606        Equity  \n",
       "6374            KODEX 200   28262.0  6526581.0    164648.417521        Equity  \n",
       "6375       KODEX 배당성장채권혼합   10405.0     5178.0        44.355246   Alternative  "
      ]
     },
     "execution_count": 49,
     "metadata": {},
     "output_type": "execute_result"
    }
   ],
   "source": [
    "df"
   ]
  },
  {
   "cell_type": "code",
   "execution_count": null,
   "id": "great-consent",
   "metadata": {},
   "outputs": [],
   "source": []
  }
 ],
 "metadata": {
  "kernelspec": {
   "display_name": "Python 3",
   "language": "python",
   "name": "python3"
  },
  "language_info": {
   "codemirror_mode": {
    "name": "ipython",
    "version": 3
   },
   "file_extension": ".py",
   "mimetype": "text/x-python",
   "name": "python",
   "nbconvert_exporter": "python",
   "pygments_lexer": "ipython3",
   "version": "3.8.8"
  }
 },
 "nbformat": 4,
 "nbformat_minor": 5
}
