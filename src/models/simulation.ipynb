{
 "cells": [
  {
   "cell_type": "code",
   "execution_count": 1,
   "id": "separated-louisiana",
   "metadata": {
    "ExecuteTime": {
     "end_time": "2021-03-23T22:51:25.107329Z",
     "start_time": "2021-03-23T22:51:23.575985Z"
    }
   },
   "outputs": [],
   "source": [
    "import pandas as pd\n",
    "from load_data import Balance, Instruments, AdvisedPortfolios, PriceDB, Singleton"
   ]
  },
  {
   "cell_type": "markdown",
   "id": "fiscal-genre",
   "metadata": {},
   "source": [
    "## 추천받은 포트폴리오 -> 잔고(detail 테이블)"
   ]
  },
  {
   "cell_type": "code",
   "execution_count": 2,
   "id": "quality-sierra",
   "metadata": {
    "ExecuteTime": {
     "end_time": "2021-03-23T22:51:25.174811Z",
     "start_time": "2021-03-23T22:51:25.109309Z"
    }
   },
   "outputs": [],
   "source": [
    "instruments_m = pd.read_pickle('../../data/processed/instruments_m.pkl')\n",
    "price_db = pd.read_pickle('../../data/external/price_db_d.pkl')\n",
    "advised_pf = pd.read_pickle('../../data/processed/advised_portfolios.pkl')    "
   ]
  },
  {
   "cell_type": "code",
   "execution_count": 3,
   "id": "accurate-chaos",
   "metadata": {
    "ExecuteTime": {
     "end_time": "2021-03-23T22:51:25.194664Z",
     "start_time": "2021-03-23T22:51:25.176796Z"
    }
   },
   "outputs": [],
   "source": [
    "userid = 'A00'\n",
    "username = '투자자0'\n",
    "current_date = '2021-02-01'\n",
    "risk_profile = 2\n",
    "\n",
    "# c_date: 추천 포트폴리오DB에서 사용자가 입력한 날짜와 가장 가까운 날짜.\n",
    "c_date = advised_pf.loc[advised_pf.date <= current_date, ['date']].max().date\n",
    "new_units = {'A122260': 2, 'A114260': 4, 'A130730': 2, 'A329650': 13, 'A266370': 4}\n",
    "prices = {'A122260': [101185.0, 'KRW'], 'A114260': [57900.0, 'KRW'], 'A130730': [100975.0, 'KRW'], 'A329650': [10980.0, 'KRW'], 'A266370': [21325.0, 'KRW']}\n",
    "df = advised_pf.loc[(advised_pf.date==c_date) & (advised_pf.risk_profile==risk_profile), :]\n",
    "remaining_cash = 135786"
   ]
  },
  {
   "cell_type": "code",
   "execution_count": 4,
   "id": "forward-humanitarian",
   "metadata": {
    "ExecuteTime": {
     "end_time": "2021-03-23T22:51:25.219474Z",
     "start_time": "2021-03-23T22:51:25.196644Z"
    }
   },
   "outputs": [],
   "source": [
    "# 보유수량\n",
    "detail = pd.DataFrame.from_dict(new_units, orient='index').rename(columns={0:'quantity'})\n",
    "detail.index.name='itemcode'\n",
    "\n",
    "# 매입가격\n",
    "temp = pd.DataFrame.from_dict(prices, orient='index').rename(columns={0:'cost_price'}).drop([1], axis=1)\n",
    "temp.index.name='itemcode'\n",
    "\n",
    "# 병합\n",
    "detail = detail.merge(temp, left_index=True, right_index=True, how='inner')\n",
    "\n",
    "detail['price'] = detail['cost_price']\n",
    "detail['cost_value'] = detail['quantity']*detail['cost_price']\n",
    "detail['value'] = detail['quantity']*detail['cost_price']  # 매입가와 평가가격 동일하다고 가정\n",
    "detail = detail.merge(instruments_m.loc[:, ['itemcode', 'itemname', 'asset_class']], left_on='itemcode', right_on='itemcode', how='left')\n",
    "detail = detail.reset_index(drop=True)"
   ]
  },
  {
   "cell_type": "code",
   "execution_count": 5,
   "id": "lyric-period",
   "metadata": {
    "ExecuteTime": {
     "end_time": "2021-03-23T22:51:25.228404Z",
     "start_time": "2021-03-23T22:51:25.221456Z"
    }
   },
   "outputs": [],
   "source": [
    "df_cash = {\n",
    "    'itemcode': 'C000001',\n",
    "    'quantity': remaining_cash,\n",
    "    'cost_price': 1,\n",
    "    'cost_value': remaining_cash,\n",
    "    'price':1\n",
    "    'value': remaining_cash,\n",
    "    'itemname': '현금',\n",
    "    'asset_class': 'Cash'\n",
    "}\n",
    "df_cash = pd.DataFrame.from_dict(df_cash, orient='index').T"
   ]
  },
  {
   "cell_type": "code",
   "execution_count": 6,
   "id": "prime-mills",
   "metadata": {
    "ExecuteTime": {
     "end_time": "2021-03-23T22:51:25.762519Z",
     "start_time": "2021-03-23T22:51:25.756565Z"
    }
   },
   "outputs": [],
   "source": [
    "detail = pd.concat([detail, df_cash])"
   ]
  },
  {
   "cell_type": "code",
   "execution_count": 7,
   "id": "protective-video",
   "metadata": {
    "ExecuteTime": {
     "end_time": "2021-03-23T22:51:25.938182Z",
     "start_time": "2021-03-23T22:51:25.931235Z"
    }
   },
   "outputs": [],
   "source": [
    "detail['date'] = c_date\n",
    "detail['date'] = pd.to_datetime(detail['date'], format='%Y-%m-%d').dt.strftime('%m/%d/%Y 4:0:00 PM').astype(str)\n",
    "detail['userid'] = userid\n",
    "detail['username'] = username\n",
    "detail['original'] = 'N'\n",
    "detail['group_by'] = ''"
   ]
  },
  {
   "cell_type": "code",
   "execution_count": 8,
   "id": "angry-cinema",
   "metadata": {
    "ExecuteTime": {
     "end_time": "2021-03-23T22:51:26.113845Z",
     "start_time": "2021-03-23T22:51:26.095981Z"
    }
   },
   "outputs": [
    {
     "data": {
      "text/html": [
       "<div>\n",
       "<style scoped>\n",
       "    .dataframe tbody tr th:only-of-type {\n",
       "        vertical-align: middle;\n",
       "    }\n",
       "\n",
       "    .dataframe tbody tr th {\n",
       "        vertical-align: top;\n",
       "    }\n",
       "\n",
       "    .dataframe thead th {\n",
       "        text-align: right;\n",
       "    }\n",
       "</style>\n",
       "<table border=\"1\" class=\"dataframe\">\n",
       "  <thead>\n",
       "    <tr style=\"text-align: right;\">\n",
       "      <th></th>\n",
       "      <th>itemcode</th>\n",
       "      <th>quantity</th>\n",
       "      <th>cost_price</th>\n",
       "      <th>price</th>\n",
       "      <th>cost_value</th>\n",
       "      <th>value</th>\n",
       "      <th>itemname</th>\n",
       "      <th>asset_class</th>\n",
       "      <th>date</th>\n",
       "      <th>userid</th>\n",
       "      <th>username</th>\n",
       "      <th>original</th>\n",
       "      <th>group_by</th>\n",
       "    </tr>\n",
       "  </thead>\n",
       "  <tbody>\n",
       "    <tr>\n",
       "      <th>0</th>\n",
       "      <td>A122260</td>\n",
       "      <td>2</td>\n",
       "      <td>101185</td>\n",
       "      <td>101185.0</td>\n",
       "      <td>202370</td>\n",
       "      <td>202370</td>\n",
       "      <td>KOSEF 통안채1년</td>\n",
       "      <td>Fixed Income</td>\n",
       "      <td>02/01/2021 4:0:00 PM</td>\n",
       "      <td>A00</td>\n",
       "      <td>투자자0</td>\n",
       "      <td>N</td>\n",
       "      <td></td>\n",
       "    </tr>\n",
       "    <tr>\n",
       "      <th>1</th>\n",
       "      <td>A114260</td>\n",
       "      <td>4</td>\n",
       "      <td>57900</td>\n",
       "      <td>57900.0</td>\n",
       "      <td>231600</td>\n",
       "      <td>231600</td>\n",
       "      <td>KODEX 국고채3년</td>\n",
       "      <td>Fixed Income</td>\n",
       "      <td>02/01/2021 4:0:00 PM</td>\n",
       "      <td>A00</td>\n",
       "      <td>투자자0</td>\n",
       "      <td>N</td>\n",
       "      <td></td>\n",
       "    </tr>\n",
       "    <tr>\n",
       "      <th>2</th>\n",
       "      <td>A130730</td>\n",
       "      <td>2</td>\n",
       "      <td>100975</td>\n",
       "      <td>100975.0</td>\n",
       "      <td>201950</td>\n",
       "      <td>201950</td>\n",
       "      <td>KOSEF 단기자금</td>\n",
       "      <td>Fixed Income</td>\n",
       "      <td>02/01/2021 4:0:00 PM</td>\n",
       "      <td>A00</td>\n",
       "      <td>투자자0</td>\n",
       "      <td>N</td>\n",
       "      <td></td>\n",
       "    </tr>\n",
       "    <tr>\n",
       "      <th>3</th>\n",
       "      <td>A329650</td>\n",
       "      <td>13</td>\n",
       "      <td>10980</td>\n",
       "      <td>10980.0</td>\n",
       "      <td>142740</td>\n",
       "      <td>142740</td>\n",
       "      <td>KODEX TRF3070</td>\n",
       "      <td>Alternative</td>\n",
       "      <td>02/01/2021 4:0:00 PM</td>\n",
       "      <td>A00</td>\n",
       "      <td>투자자0</td>\n",
       "      <td>N</td>\n",
       "      <td></td>\n",
       "    </tr>\n",
       "    <tr>\n",
       "      <th>4</th>\n",
       "      <td>A266370</td>\n",
       "      <td>4</td>\n",
       "      <td>21325</td>\n",
       "      <td>21325.0</td>\n",
       "      <td>85300</td>\n",
       "      <td>85300</td>\n",
       "      <td>KODEX IT</td>\n",
       "      <td>Equity</td>\n",
       "      <td>02/01/2021 4:0:00 PM</td>\n",
       "      <td>A00</td>\n",
       "      <td>투자자0</td>\n",
       "      <td>N</td>\n",
       "      <td></td>\n",
       "    </tr>\n",
       "    <tr>\n",
       "      <th>0</th>\n",
       "      <td>C000001</td>\n",
       "      <td>135786</td>\n",
       "      <td>1</td>\n",
       "      <td>NaN</td>\n",
       "      <td>135786</td>\n",
       "      <td>135786</td>\n",
       "      <td>현금</td>\n",
       "      <td>Cash</td>\n",
       "      <td>02/01/2021 4:0:00 PM</td>\n",
       "      <td>A00</td>\n",
       "      <td>투자자0</td>\n",
       "      <td>N</td>\n",
       "      <td></td>\n",
       "    </tr>\n",
       "  </tbody>\n",
       "</table>\n",
       "</div>"
      ],
      "text/plain": [
       "  itemcode quantity cost_price     price cost_value   value       itemname  \\\n",
       "0  A122260        2     101185  101185.0     202370  202370    KOSEF 통안채1년   \n",
       "1  A114260        4      57900   57900.0     231600  231600    KODEX 국고채3년   \n",
       "2  A130730        2     100975  100975.0     201950  201950     KOSEF 단기자금   \n",
       "3  A329650       13      10980   10980.0     142740  142740  KODEX TRF3070   \n",
       "4  A266370        4      21325   21325.0      85300   85300       KODEX IT   \n",
       "0  C000001   135786          1       NaN     135786  135786             현금   \n",
       "\n",
       "    asset_class                  date userid username original group_by  \n",
       "0  Fixed Income  02/01/2021 4:0:00 PM    A00     투자자0        N           \n",
       "1  Fixed Income  02/01/2021 4:0:00 PM    A00     투자자0        N           \n",
       "2  Fixed Income  02/01/2021 4:0:00 PM    A00     투자자0        N           \n",
       "3   Alternative  02/01/2021 4:0:00 PM    A00     투자자0        N           \n",
       "4        Equity  02/01/2021 4:0:00 PM    A00     투자자0        N           \n",
       "0          Cash  02/01/2021 4:0:00 PM    A00     투자자0        N           "
      ]
     },
     "execution_count": 8,
     "metadata": {},
     "output_type": "execute_result"
    }
   ],
   "source": [
    "detail"
   ]
  },
  {
   "cell_type": "code",
   "execution_count": 9,
   "id": "lightweight-peeing",
   "metadata": {
    "ExecuteTime": {
     "end_time": "2021-03-23T22:51:26.262735Z",
     "start_time": "2021-03-23T22:51:26.257772Z"
    }
   },
   "outputs": [],
   "source": [
    "detail['wt'] = detail.value.transform(lambda x: x/x.sum())"
   ]
  },
  {
   "cell_type": "code",
   "execution_count": 10,
   "id": "independent-resident",
   "metadata": {
    "ExecuteTime": {
     "end_time": "2021-03-23T22:51:26.404654Z",
     "start_time": "2021-03-23T22:51:26.400685Z"
    }
   },
   "outputs": [],
   "source": [
    "detail = detail.reset_index(drop=True)"
   ]
  },
  {
   "cell_type": "code",
   "execution_count": 205,
   "id": "economic-shuttle",
   "metadata": {
    "ExecuteTime": {
     "end_time": "2021-03-24T04:22:30.509377Z",
     "start_time": "2021-03-24T04:22:30.505388Z"
    }
   },
   "outputs": [],
   "source": [
    "col_order = ['itemcode', 'quantity', 'cost_price', 'price', 'cost_value', 'value', 'itemname', 'asset_class', 'date', 'userid', 'username', 'group_by', 'original', 'wt']\n",
    "detail = detail.loc[:, col_order]"
   ]
  },
  {
   "cell_type": "code",
   "execution_count": 196,
   "id": "urban-butterfly",
   "metadata": {
    "ExecuteTime": {
     "end_time": "2021-03-24T04:19:35.972820Z",
     "start_time": "2021-03-24T04:19:35.960853Z"
    }
   },
   "outputs": [
    {
     "data": {
      "text/html": [
       "<div>\n",
       "<style scoped>\n",
       "    .dataframe tbody tr th:only-of-type {\n",
       "        vertical-align: middle;\n",
       "    }\n",
       "\n",
       "    .dataframe tbody tr th {\n",
       "        vertical-align: top;\n",
       "    }\n",
       "\n",
       "    .dataframe thead th {\n",
       "        text-align: right;\n",
       "    }\n",
       "</style>\n",
       "<table border=\"1\" class=\"dataframe\">\n",
       "  <thead>\n",
       "    <tr style=\"text-align: right;\">\n",
       "      <th></th>\n",
       "      <th>itemcode</th>\n",
       "      <th>quantity</th>\n",
       "      <th>cost_price</th>\n",
       "      <th>price</th>\n",
       "      <th>cost_value</th>\n",
       "      <th>value</th>\n",
       "      <th>itemname</th>\n",
       "      <th>asset_class</th>\n",
       "      <th>date</th>\n",
       "      <th>userid</th>\n",
       "      <th>username</th>\n",
       "      <th>original</th>\n",
       "      <th>group_by</th>\n",
       "      <th>wt</th>\n",
       "    </tr>\n",
       "  </thead>\n",
       "  <tbody>\n",
       "    <tr>\n",
       "      <th>0</th>\n",
       "      <td>A122260</td>\n",
       "      <td>2</td>\n",
       "      <td>101185</td>\n",
       "      <td>101185.0</td>\n",
       "      <td>202370</td>\n",
       "      <td>202370</td>\n",
       "      <td>KOSEF 통안채1년</td>\n",
       "      <td>Fixed Income</td>\n",
       "      <td>02/01/2021 4:0:00 PM</td>\n",
       "      <td>A00</td>\n",
       "      <td>투자자0</td>\n",
       "      <td>N</td>\n",
       "      <td></td>\n",
       "      <td>0.202421</td>\n",
       "    </tr>\n",
       "    <tr>\n",
       "      <th>1</th>\n",
       "      <td>A114260</td>\n",
       "      <td>4</td>\n",
       "      <td>57900</td>\n",
       "      <td>57900.0</td>\n",
       "      <td>231600</td>\n",
       "      <td>231600</td>\n",
       "      <td>KODEX 국고채3년</td>\n",
       "      <td>Fixed Income</td>\n",
       "      <td>02/01/2021 4:0:00 PM</td>\n",
       "      <td>A00</td>\n",
       "      <td>투자자0</td>\n",
       "      <td>N</td>\n",
       "      <td></td>\n",
       "      <td>0.231659</td>\n",
       "    </tr>\n",
       "    <tr>\n",
       "      <th>2</th>\n",
       "      <td>A130730</td>\n",
       "      <td>2</td>\n",
       "      <td>100975</td>\n",
       "      <td>100975.0</td>\n",
       "      <td>201950</td>\n",
       "      <td>201950</td>\n",
       "      <td>KOSEF 단기자금</td>\n",
       "      <td>Fixed Income</td>\n",
       "      <td>02/01/2021 4:0:00 PM</td>\n",
       "      <td>A00</td>\n",
       "      <td>투자자0</td>\n",
       "      <td>N</td>\n",
       "      <td></td>\n",
       "      <td>0.202001</td>\n",
       "    </tr>\n",
       "    <tr>\n",
       "      <th>3</th>\n",
       "      <td>A329650</td>\n",
       "      <td>13</td>\n",
       "      <td>10980</td>\n",
       "      <td>10980.0</td>\n",
       "      <td>142740</td>\n",
       "      <td>142740</td>\n",
       "      <td>KODEX TRF3070</td>\n",
       "      <td>Alternative</td>\n",
       "      <td>02/01/2021 4:0:00 PM</td>\n",
       "      <td>A00</td>\n",
       "      <td>투자자0</td>\n",
       "      <td>N</td>\n",
       "      <td></td>\n",
       "      <td>0.142776</td>\n",
       "    </tr>\n",
       "    <tr>\n",
       "      <th>4</th>\n",
       "      <td>A266370</td>\n",
       "      <td>4</td>\n",
       "      <td>21325</td>\n",
       "      <td>21325.0</td>\n",
       "      <td>85300</td>\n",
       "      <td>85300</td>\n",
       "      <td>KODEX IT</td>\n",
       "      <td>Equity</td>\n",
       "      <td>02/01/2021 4:0:00 PM</td>\n",
       "      <td>A00</td>\n",
       "      <td>투자자0</td>\n",
       "      <td>N</td>\n",
       "      <td></td>\n",
       "      <td>0.0853217</td>\n",
       "    </tr>\n",
       "    <tr>\n",
       "      <th>5</th>\n",
       "      <td>C000001</td>\n",
       "      <td>135786</td>\n",
       "      <td>1</td>\n",
       "      <td>NaN</td>\n",
       "      <td>135786</td>\n",
       "      <td>135786</td>\n",
       "      <td>현금</td>\n",
       "      <td>Cash</td>\n",
       "      <td>02/01/2021 4:0:00 PM</td>\n",
       "      <td>A00</td>\n",
       "      <td>투자자0</td>\n",
       "      <td>N</td>\n",
       "      <td></td>\n",
       "      <td>0.13582</td>\n",
       "    </tr>\n",
       "  </tbody>\n",
       "</table>\n",
       "</div>"
      ],
      "text/plain": [
       "  itemcode quantity cost_price     price cost_value   value       itemname  \\\n",
       "0  A122260        2     101185  101185.0     202370  202370    KOSEF 통안채1년   \n",
       "1  A114260        4      57900   57900.0     231600  231600    KODEX 국고채3년   \n",
       "2  A130730        2     100975  100975.0     201950  201950     KOSEF 단기자금   \n",
       "3  A329650       13      10980   10980.0     142740  142740  KODEX TRF3070   \n",
       "4  A266370        4      21325   21325.0      85300   85300       KODEX IT   \n",
       "5  C000001   135786          1       NaN     135786  135786             현금   \n",
       "\n",
       "    asset_class                  date userid username original group_by  \\\n",
       "0  Fixed Income  02/01/2021 4:0:00 PM    A00     투자자0        N            \n",
       "1  Fixed Income  02/01/2021 4:0:00 PM    A00     투자자0        N            \n",
       "2  Fixed Income  02/01/2021 4:0:00 PM    A00     투자자0        N            \n",
       "3   Alternative  02/01/2021 4:0:00 PM    A00     투자자0        N            \n",
       "4        Equity  02/01/2021 4:0:00 PM    A00     투자자0        N            \n",
       "5          Cash  02/01/2021 4:0:00 PM    A00     투자자0        N            \n",
       "\n",
       "          wt  \n",
       "0   0.202421  \n",
       "1   0.231659  \n",
       "2   0.202001  \n",
       "3   0.142776  \n",
       "4  0.0853217  \n",
       "5    0.13582  "
      ]
     },
     "execution_count": 196,
     "metadata": {},
     "output_type": "execute_result"
    }
   ],
   "source": [
    "detail"
   ]
  },
  {
   "cell_type": "code",
   "execution_count": null,
   "id": "selected-official",
   "metadata": {},
   "outputs": [],
   "source": []
  },
  {
   "cell_type": "code",
   "execution_count": null,
   "id": "worth-maple",
   "metadata": {},
   "outputs": [],
   "source": []
  },
  {
   "cell_type": "code",
   "execution_count": null,
   "id": "hawaiian-chambers",
   "metadata": {},
   "outputs": [],
   "source": []
  },
  {
   "cell_type": "code",
   "execution_count": 200,
   "id": "unavailable-pontiac",
   "metadata": {
    "ExecuteTime": {
     "end_time": "2021-03-24T04:21:40.501808Z",
     "start_time": "2021-03-24T04:21:40.496822Z"
    }
   },
   "outputs": [
    {
     "data": {
      "text/plain": [
       "Index(['itemcode', 'quantity', 'cost_price', 'price', 'cost_value', 'value',\n",
       "       'itemname', 'asset_class', 'date', 'userid', 'username', 'original',\n",
       "       'group_by', 'wt'],\n",
       "      dtype='object')"
      ]
     },
     "execution_count": 200,
     "metadata": {},
     "output_type": "execute_result"
    }
   ],
   "source": [
    "detail.columns"
   ]
  },
  {
   "cell_type": "code",
   "execution_count": 203,
   "id": "freelance-arkansas",
   "metadata": {
    "ExecuteTime": {
     "end_time": "2021-03-24T04:22:14.676618Z",
     "start_time": "2021-03-24T04:22:14.672628Z"
    }
   },
   "outputs": [],
   "source": [
    "col_order = ['itemcode', 'quantity', 'cost_price', 'price', 'cost_value', 'value', 'itemname', 'asset_class', 'date', 'userid', 'username', 'group_by', 'original', 'wt']"
   ]
  },
  {
   "cell_type": "code",
   "execution_count": 210,
   "id": "flying-sussex",
   "metadata": {
    "ExecuteTime": {
     "end_time": "2021-03-24T05:02:46.444066Z",
     "start_time": "2021-03-24T05:02:46.438083Z"
    }
   },
   "outputs": [
    {
     "name": "stdout",
     "output_type": "stream",
     "text": [
      "['A122260', 2, 101185.0, 101185.0, 202370.0, 202370.0, 'KOSEF 통안채1년', 'Fixed Income', '02/01/2021 4:0:00 PM', 'A00', '투자자0', '', 'N', 0.20242141503942002]\n",
      "<class 'pandas.core.series.Series'>\n",
      "['A114260', 4, 57900.0, 57900.0, 231600.0, 231600.0, 'KODEX 국고채3년', 'Fixed Income', '02/01/2021 4:0:00 PM', 'A00', '투자자0', '', 'N', 0.2316588413457018]\n",
      "<class 'pandas.core.series.Series'>\n",
      "['A130730', 2, 100975.0, 100975.0, 201950.0, 201950.0, 'KOSEF 단기자금', 'Fixed Income', '02/01/2021 4:0:00 PM', 'A00', '투자자0', '', 'N', 0.20200130833231641]\n",
      "<class 'pandas.core.series.Series'>\n",
      "['A329650', 13, 10980.0, 10980.0, 142740.0, 142740.0, 'KODEX TRF3070', 'Alternative', '02/01/2021 4:0:00 PM', 'A00', '투자자0', '', 'N', 0.14277626517135353]\n",
      "<class 'pandas.core.series.Series'>\n",
      "['A266370', 4, 21325.0, 21325.0, 85300.0, 85300.0, 'KODEX IT', 'Equity', '02/01/2021 4:0:00 PM', 'A00', '투자자0', '', 'N', 0.08532167170461297]\n",
      "<class 'pandas.core.series.Series'>\n",
      "['C000001', 135786, 1, nan, 135786, 135786, '현금', 'Cash', '02/01/2021 4:0:00 PM', 'A00', '투자자0', '', 'N', 0.13582049840659527]\n",
      "<class 'pandas.core.series.Series'>\n"
     ]
    }
   ],
   "source": [
    "for idx, row in detail.iterrows():\n",
    "    print(row[col_order].values.tolist())\n",
    "    print(type(row))"
   ]
  },
  {
   "cell_type": "code",
   "execution_count": 211,
   "id": "stable-herald",
   "metadata": {
    "ExecuteTime": {
     "end_time": "2021-03-24T05:02:53.474806Z",
     "start_time": "2021-03-24T05:02:53.469819Z"
    }
   },
   "outputs": [
    {
     "name": "stdout",
     "output_type": "stream",
     "text": [
      "['A122260', 2, 101185.0, 101185.0, 202370.0, 202370.0, 'KOSEF 통안채1년', 'Fixed Income', '02/01/2021 4:0:00 PM', 'A00', '투자자0', '', 'N', 0.20242141503942002]\n",
      "<class 'pandas.core.series.Series'>\n",
      "['A114260', 4, 57900.0, 57900.0, 231600.0, 231600.0, 'KODEX 국고채3년', 'Fixed Income', '02/01/2021 4:0:00 PM', 'A00', '투자자0', '', 'N', 0.2316588413457018]\n",
      "<class 'pandas.core.series.Series'>\n",
      "['A130730', 2, 100975.0, 100975.0, 201950.0, 201950.0, 'KOSEF 단기자금', 'Fixed Income', '02/01/2021 4:0:00 PM', 'A00', '투자자0', '', 'N', 0.20200130833231641]\n",
      "<class 'pandas.core.series.Series'>\n",
      "['A329650', 13, 10980.0, 10980.0, 142740.0, 142740.0, 'KODEX TRF3070', 'Alternative', '02/01/2021 4:0:00 PM', 'A00', '투자자0', '', 'N', 0.14277626517135353]\n",
      "<class 'pandas.core.series.Series'>\n",
      "['A266370', 4, 21325.0, 21325.0, 85300.0, 85300.0, 'KODEX IT', 'Equity', '02/01/2021 4:0:00 PM', 'A00', '투자자0', '', 'N', 0.08532167170461297]\n",
      "<class 'pandas.core.series.Series'>\n",
      "['C000001', 135786, 1, nan, 135786, 135786, '현금', 'Cash', '02/01/2021 4:0:00 PM', 'A00', '투자자0', '', 'N', 0.13582049840659527]\n",
      "<class 'pandas.core.series.Series'>\n"
     ]
    }
   ],
   "source": [
    "for idx, row in detail.iterrows():\n",
    "    print(row.values.tolist())\n",
    "    print(type(row))"
   ]
  },
  {
   "cell_type": "code",
   "execution_count": 218,
   "id": "bibliographic-subscription",
   "metadata": {
    "ExecuteTime": {
     "end_time": "2021-03-24T08:45:20.582151Z",
     "start_time": "2021-03-24T08:45:20.577165Z"
    }
   },
   "outputs": [
    {
     "data": {
      "text/plain": [
       "'A00'"
      ]
     },
     "execution_count": 218,
     "metadata": {},
     "output_type": "execute_result"
    }
   ],
   "source": [
    "detail.userid[0]"
   ]
  },
  {
   "cell_type": "code",
   "execution_count": 217,
   "id": "hourly-savannah",
   "metadata": {
    "ExecuteTime": {
     "end_time": "2021-03-24T08:45:11.319767Z",
     "start_time": "2021-03-24T08:45:11.313784Z"
    }
   },
   "outputs": [
    {
     "data": {
      "text/plain": [
       "0    02/01/2021 4:0:00 PM\n",
       "1    02/01/2021 4:0:00 PM\n",
       "2    02/01/2021 4:0:00 PM\n",
       "3    02/01/2021 4:0:00 PM\n",
       "4    02/01/2021 4:0:00 PM\n",
       "5    02/01/2021 4:0:00 PM\n",
       "Name: date, dtype: object"
      ]
     },
     "execution_count": 217,
     "metadata": {},
     "output_type": "execute_result"
    }
   ],
   "source": [
    "detail.date[0]"
   ]
  },
  {
   "cell_type": "code",
   "execution_count": 219,
   "id": "removed-flexibility",
   "metadata": {
    "ExecuteTime": {
     "end_time": "2021-03-24T08:46:56.988285Z",
     "start_time": "2021-03-24T08:46:56.977315Z"
    }
   },
   "outputs": [],
   "source": [
    "new_general = detail.loc[:, ['wt', 'value', 'asset_class']].groupby(\n",
    "                'asset_class').sum().sort_values('wt', ascending=False).reset_index()\n",
    "new_general['userid'] = detail.userid[0]\n",
    "new_general['date'] = detail.date[0]\n"
   ]
  },
  {
   "cell_type": "code",
   "execution_count": 220,
   "id": "medical-pillow",
   "metadata": {
    "ExecuteTime": {
     "end_time": "2021-03-24T08:46:59.655568Z",
     "start_time": "2021-03-24T08:46:59.648588Z"
    }
   },
   "outputs": [
    {
     "data": {
      "text/html": [
       "<div>\n",
       "<style scoped>\n",
       "    .dataframe tbody tr th:only-of-type {\n",
       "        vertical-align: middle;\n",
       "    }\n",
       "\n",
       "    .dataframe tbody tr th {\n",
       "        vertical-align: top;\n",
       "    }\n",
       "\n",
       "    .dataframe thead th {\n",
       "        text-align: right;\n",
       "    }\n",
       "</style>\n",
       "<table border=\"1\" class=\"dataframe\">\n",
       "  <thead>\n",
       "    <tr style=\"text-align: right;\">\n",
       "      <th></th>\n",
       "      <th>asset_class</th>\n",
       "      <th>wt</th>\n",
       "      <th>value</th>\n",
       "      <th>userid</th>\n",
       "      <th>date</th>\n",
       "    </tr>\n",
       "  </thead>\n",
       "  <tbody>\n",
       "    <tr>\n",
       "      <th>0</th>\n",
       "      <td>Fixed Income</td>\n",
       "      <td>0.636082</td>\n",
       "      <td>635920.0</td>\n",
       "      <td>A00</td>\n",
       "      <td>02/01/2021 4:0:00 PM</td>\n",
       "    </tr>\n",
       "    <tr>\n",
       "      <th>1</th>\n",
       "      <td>Alternative</td>\n",
       "      <td>0.142776</td>\n",
       "      <td>142740.0</td>\n",
       "      <td>A00</td>\n",
       "      <td>02/01/2021 4:0:00 PM</td>\n",
       "    </tr>\n",
       "    <tr>\n",
       "      <th>2</th>\n",
       "      <td>Cash</td>\n",
       "      <td>0.135820</td>\n",
       "      <td>135786.0</td>\n",
       "      <td>A00</td>\n",
       "      <td>02/01/2021 4:0:00 PM</td>\n",
       "    </tr>\n",
       "    <tr>\n",
       "      <th>3</th>\n",
       "      <td>Equity</td>\n",
       "      <td>0.085322</td>\n",
       "      <td>85300.0</td>\n",
       "      <td>A00</td>\n",
       "      <td>02/01/2021 4:0:00 PM</td>\n",
       "    </tr>\n",
       "  </tbody>\n",
       "</table>\n",
       "</div>"
      ],
      "text/plain": [
       "    asset_class        wt     value userid                  date\n",
       "0  Fixed Income  0.636082  635920.0    A00  02/01/2021 4:0:00 PM\n",
       "1   Alternative  0.142776  142740.0    A00  02/01/2021 4:0:00 PM\n",
       "2          Cash  0.135820  135786.0    A00  02/01/2021 4:0:00 PM\n",
       "3        Equity  0.085322   85300.0    A00  02/01/2021 4:0:00 PM"
      ]
     },
     "execution_count": 220,
     "metadata": {},
     "output_type": "execute_result"
    }
   ],
   "source": [
    "new_general"
   ]
  },
  {
   "cell_type": "markdown",
   "id": "convenient-sussex",
   "metadata": {},
   "source": [
    "## 리밸런싱"
   ]
  },
  {
   "cell_type": "code",
   "execution_count": 17,
   "id": "israeli-cameroon",
   "metadata": {
    "ExecuteTime": {
     "end_time": "2021-03-23T22:52:29.297285Z",
     "start_time": "2021-03-23T22:52:29.292299Z"
    }
   },
   "outputs": [
    {
     "data": {
      "text/plain": [
       "'2021-02-01'"
      ]
     },
     "execution_count": 17,
     "metadata": {},
     "output_type": "execute_result"
    }
   ],
   "source": [
    "from datetime import datetime\n",
    "current_date"
   ]
  },
  {
   "cell_type": "code",
   "execution_count": 18,
   "id": "specified-breath",
   "metadata": {
    "ExecuteTime": {
     "end_time": "2021-03-23T22:52:29.473814Z",
     "start_time": "2021-03-23T22:52:29.467829Z"
    }
   },
   "outputs": [],
   "source": [
    "end_date = advised_pf.loc[(advised_pf.risk_profile==risk_profile) & (advised_pf.date > current_date), 'date'].max()\n",
    "dates = advised_pf.loc[(advised_pf.risk_profile==risk_profile) & (advised_pf.date > current_date), 'date'].unique()"
   ]
  },
  {
   "cell_type": "code",
   "execution_count": 190,
   "id": "comparative-electricity",
   "metadata": {
    "ExecuteTime": {
     "end_time": "2021-03-24T04:11:53.085197Z",
     "start_time": "2021-03-24T04:11:53.081207Z"
    }
   },
   "outputs": [],
   "source": [
    "dt = datetime.strptime('2021-02-01', '%Y-%m-%d')"
   ]
  },
  {
   "cell_type": "code",
   "execution_count": 192,
   "id": "ultimate-leader",
   "metadata": {
    "ExecuteTime": {
     "end_time": "2021-03-24T04:12:12.383843Z",
     "start_time": "2021-03-24T04:12:12.379854Z"
    }
   },
   "outputs": [],
   "source": [
    "dt = datetime.strptime('2021-02-01', '%Y-%m-%d')\n",
    "dt = str(dt.month)+'/'+str(dt.day)+'/'+str(dt.year)+' 4:00:00 PM'"
   ]
  },
  {
   "cell_type": "code",
   "execution_count": 194,
   "id": "valued-inclusion",
   "metadata": {
    "ExecuteTime": {
     "end_time": "2021-03-24T04:12:15.288070Z",
     "start_time": "2021-03-24T04:12:15.283083Z"
    }
   },
   "outputs": [
    {
     "data": {
      "text/plain": [
       "'2/1/2021 4:00:00 PM'"
      ]
     },
     "execution_count": 194,
     "metadata": {},
     "output_type": "execute_result"
    }
   ],
   "source": [
    "dt"
   ]
  },
  {
   "cell_type": "code",
   "execution_count": 188,
   "id": "occupational-ticket",
   "metadata": {
    "ExecuteTime": {
     "end_time": "2021-03-24T04:11:21.445837Z",
     "start_time": "2021-03-24T04:11:21.441848Z"
    }
   },
   "outputs": [
    {
     "data": {
      "text/plain": [
       "'02/01/021 9:00:00 AM'"
      ]
     },
     "execution_count": 188,
     "metadata": {},
     "output_type": "execute_result"
    }
   ],
   "source": [
    "dt"
   ]
  },
  {
   "cell_type": "code",
   "execution_count": 21,
   "id": "great-karen",
   "metadata": {
    "ExecuteTime": {
     "end_time": "2021-03-23T22:52:38.872518Z",
     "start_time": "2021-03-23T22:52:38.860551Z"
    }
   },
   "outputs": [
    {
     "data": {
      "text/html": [
       "<div>\n",
       "<style scoped>\n",
       "    .dataframe tbody tr th:only-of-type {\n",
       "        vertical-align: middle;\n",
       "    }\n",
       "\n",
       "    .dataframe tbody tr th {\n",
       "        vertical-align: top;\n",
       "    }\n",
       "\n",
       "    .dataframe thead th {\n",
       "        text-align: right;\n",
       "    }\n",
       "</style>\n",
       "<table border=\"1\" class=\"dataframe\">\n",
       "  <thead>\n",
       "    <tr style=\"text-align: right;\">\n",
       "      <th></th>\n",
       "      <th>itemcode</th>\n",
       "      <th>quantity</th>\n",
       "      <th>cost_price</th>\n",
       "      <th>price</th>\n",
       "      <th>cost_value</th>\n",
       "      <th>value</th>\n",
       "      <th>itemname</th>\n",
       "      <th>asset_class</th>\n",
       "      <th>date</th>\n",
       "      <th>userid</th>\n",
       "      <th>username</th>\n",
       "      <th>original</th>\n",
       "      <th>group_by</th>\n",
       "      <th>wt</th>\n",
       "    </tr>\n",
       "  </thead>\n",
       "  <tbody>\n",
       "    <tr>\n",
       "      <th>0</th>\n",
       "      <td>A122260</td>\n",
       "      <td>2</td>\n",
       "      <td>101185</td>\n",
       "      <td>101185.0</td>\n",
       "      <td>202370</td>\n",
       "      <td>202370</td>\n",
       "      <td>KOSEF 통안채1년</td>\n",
       "      <td>Fixed Income</td>\n",
       "      <td>02/01/2021 4:0:00 PM</td>\n",
       "      <td>A00</td>\n",
       "      <td>투자자0</td>\n",
       "      <td>N</td>\n",
       "      <td></td>\n",
       "      <td>0.202421</td>\n",
       "    </tr>\n",
       "    <tr>\n",
       "      <th>1</th>\n",
       "      <td>A114260</td>\n",
       "      <td>4</td>\n",
       "      <td>57900</td>\n",
       "      <td>57900.0</td>\n",
       "      <td>231600</td>\n",
       "      <td>231600</td>\n",
       "      <td>KODEX 국고채3년</td>\n",
       "      <td>Fixed Income</td>\n",
       "      <td>02/01/2021 4:0:00 PM</td>\n",
       "      <td>A00</td>\n",
       "      <td>투자자0</td>\n",
       "      <td>N</td>\n",
       "      <td></td>\n",
       "      <td>0.231659</td>\n",
       "    </tr>\n",
       "    <tr>\n",
       "      <th>2</th>\n",
       "      <td>A130730</td>\n",
       "      <td>2</td>\n",
       "      <td>100975</td>\n",
       "      <td>100975.0</td>\n",
       "      <td>201950</td>\n",
       "      <td>201950</td>\n",
       "      <td>KOSEF 단기자금</td>\n",
       "      <td>Fixed Income</td>\n",
       "      <td>02/01/2021 4:0:00 PM</td>\n",
       "      <td>A00</td>\n",
       "      <td>투자자0</td>\n",
       "      <td>N</td>\n",
       "      <td></td>\n",
       "      <td>0.202001</td>\n",
       "    </tr>\n",
       "    <tr>\n",
       "      <th>3</th>\n",
       "      <td>A329650</td>\n",
       "      <td>13</td>\n",
       "      <td>10980</td>\n",
       "      <td>10980.0</td>\n",
       "      <td>142740</td>\n",
       "      <td>142740</td>\n",
       "      <td>KODEX TRF3070</td>\n",
       "      <td>Alternative</td>\n",
       "      <td>02/01/2021 4:0:00 PM</td>\n",
       "      <td>A00</td>\n",
       "      <td>투자자0</td>\n",
       "      <td>N</td>\n",
       "      <td></td>\n",
       "      <td>0.142776</td>\n",
       "    </tr>\n",
       "    <tr>\n",
       "      <th>4</th>\n",
       "      <td>A266370</td>\n",
       "      <td>4</td>\n",
       "      <td>21325</td>\n",
       "      <td>21325.0</td>\n",
       "      <td>85300</td>\n",
       "      <td>85300</td>\n",
       "      <td>KODEX IT</td>\n",
       "      <td>Equity</td>\n",
       "      <td>02/01/2021 4:0:00 PM</td>\n",
       "      <td>A00</td>\n",
       "      <td>투자자0</td>\n",
       "      <td>N</td>\n",
       "      <td></td>\n",
       "      <td>0.0853217</td>\n",
       "    </tr>\n",
       "    <tr>\n",
       "      <th>5</th>\n",
       "      <td>C000001</td>\n",
       "      <td>135786</td>\n",
       "      <td>1</td>\n",
       "      <td>NaN</td>\n",
       "      <td>135786</td>\n",
       "      <td>135786</td>\n",
       "      <td>현금</td>\n",
       "      <td>Cash</td>\n",
       "      <td>02/01/2021 4:0:00 PM</td>\n",
       "      <td>A00</td>\n",
       "      <td>투자자0</td>\n",
       "      <td>N</td>\n",
       "      <td></td>\n",
       "      <td>0.13582</td>\n",
       "    </tr>\n",
       "  </tbody>\n",
       "</table>\n",
       "</div>"
      ],
      "text/plain": [
       "  itemcode quantity cost_price     price cost_value   value       itemname  \\\n",
       "0  A122260        2     101185  101185.0     202370  202370    KOSEF 통안채1년   \n",
       "1  A114260        4      57900   57900.0     231600  231600    KODEX 국고채3년   \n",
       "2  A130730        2     100975  100975.0     201950  201950     KOSEF 단기자금   \n",
       "3  A329650       13      10980   10980.0     142740  142740  KODEX TRF3070   \n",
       "4  A266370        4      21325   21325.0      85300   85300       KODEX IT   \n",
       "5  C000001   135786          1       NaN     135786  135786             현금   \n",
       "\n",
       "    asset_class                  date userid username original group_by  \\\n",
       "0  Fixed Income  02/01/2021 4:0:00 PM    A00     투자자0        N            \n",
       "1  Fixed Income  02/01/2021 4:0:00 PM    A00     투자자0        N            \n",
       "2  Fixed Income  02/01/2021 4:0:00 PM    A00     투자자0        N            \n",
       "3   Alternative  02/01/2021 4:0:00 PM    A00     투자자0        N            \n",
       "4        Equity  02/01/2021 4:0:00 PM    A00     투자자0        N            \n",
       "5          Cash  02/01/2021 4:0:00 PM    A00     투자자0        N            \n",
       "\n",
       "          wt  \n",
       "0   0.202421  \n",
       "1   0.231659  \n",
       "2   0.202001  \n",
       "3   0.142776  \n",
       "4  0.0853217  \n",
       "5    0.13582  "
      ]
     },
     "execution_count": 21,
     "metadata": {},
     "output_type": "execute_result"
    }
   ],
   "source": [
    "detail"
   ]
  },
  {
   "cell_type": "code",
   "execution_count": 69,
   "id": "entire-finder",
   "metadata": {
    "ExecuteTime": {
     "end_time": "2021-03-23T23:23:28.142289Z",
     "start_time": "2021-03-23T23:23:28.136306Z"
    }
   },
   "outputs": [],
   "source": [
    "dates = advised_pf.loc[(advised_pf.risk_profile == risk_profile) & (\n",
    "    advised_pf.date > current_date), 'date'].unique()\n",
    "every5day = dates[::5]"
   ]
  },
  {
   "cell_type": "code",
   "execution_count": 70,
   "id": "brown-novel",
   "metadata": {
    "ExecuteTime": {
     "end_time": "2021-03-23T23:23:29.971622Z",
     "start_time": "2021-03-23T23:23:29.966634Z"
    }
   },
   "outputs": [
    {
     "data": {
      "text/plain": [
       "array(['2021-02-02', '2021-02-03', '2021-02-04', '2021-02-05',\n",
       "       '2021-02-08', '2021-02-09', '2021-02-10', '2021-02-11',\n",
       "       '2021-02-12', '2021-02-15', '2021-02-16', '2021-02-17',\n",
       "       '2021-02-18', '2021-02-19', '2021-02-22', '2021-02-23',\n",
       "       '2021-02-24', '2021-02-25', '2021-02-26', '2021-03-01',\n",
       "       '2021-03-02', '2021-03-03', '2021-03-04', '2021-03-05',\n",
       "       '2021-03-08', '2021-03-09', '2021-03-10', '2021-03-11',\n",
       "       '2021-03-12', '2021-03-15', '2021-03-16', '2021-03-17',\n",
       "       '2021-03-18', '2021-03-19'], dtype=object)"
      ]
     },
     "execution_count": 70,
     "metadata": {},
     "output_type": "execute_result"
    }
   ],
   "source": [
    "dates"
   ]
  },
  {
   "cell_type": "code",
   "execution_count": 139,
   "id": "nearby-outline",
   "metadata": {
    "ExecuteTime": {
     "end_time": "2021-03-24T01:29:37.219187Z",
     "start_time": "2021-03-24T01:29:37.215198Z"
    }
   },
   "outputs": [],
   "source": [
    "import copy"
   ]
  },
  {
   "cell_type": "code",
   "execution_count": null,
   "id": "considered-transsexual",
   "metadata": {},
   "outputs": [],
   "source": [
    "next_detail = copy.deepcopy(detail)\n",
    "all_the_nexts = pd.DataFrame(columns=next_detail.columns)\n",
    "for dt in dates:\n",
    "    prices_dt = price_db.loc[price_db.date==dt, ['price', 'itemcode']].reset_index(drop=True)\n",
    "    holding_itemcodes = detail.itemcode.to_list()\n",
    "    holding_prices = prices_dt[prices_dt.itemcode.isin(holding_itemcodes)]\n",
    "    next_date = datetime.strptime(dt, '%Y-%m-%d')\n",
    "    next_date = str(next_date.month)+'/'+str(next_date.day)+'/'+str(next_date.year)+' 09:00:00 AM'\n",
    "    next_detail = copy.deepcopy(next_detail)\n",
    "    next_detail.merge(holding_prices, left_on='itemcode', right_on='itemcode', how='left', suffixes=('_old', '')).drop('price_old', axis=1)\n",
    "    next_detail.loc[next_detail.itemcode=='C000001', 'price'] = 1\n",
    "    next_detail['date'] = next_date\n",
    "    all_the_nexts = pd.concat((all_the_nexts, next_detail))"
   ]
  },
  {
   "cell_type": "code",
   "execution_count": 169,
   "id": "returning-county",
   "metadata": {
    "ExecuteTime": {
     "end_time": "2021-03-24T01:44:55.496319Z",
     "start_time": "2021-03-24T01:44:55.491331Z"
    }
   },
   "outputs": [],
   "source": [
    "all_the_nexts = pd.DataFrame(columns=next_detail.columns)"
   ]
  },
  {
   "cell_type": "code",
   "execution_count": 177,
   "id": "monthly-fiction",
   "metadata": {
    "ExecuteTime": {
     "end_time": "2021-03-24T01:45:32.473293Z",
     "start_time": "2021-03-24T01:45:32.468307Z"
    }
   },
   "outputs": [],
   "source": [
    "all_the_nexts = pd.concat((all_the_nexts, next_detail))"
   ]
  },
  {
   "cell_type": "code",
   "execution_count": 178,
   "id": "analyzed-block",
   "metadata": {
    "ExecuteTime": {
     "end_time": "2021-03-24T01:45:32.842307Z",
     "start_time": "2021-03-24T01:45:32.829341Z"
    }
   },
   "outputs": [
    {
     "data": {
      "text/html": [
       "<div>\n",
       "<style scoped>\n",
       "    .dataframe tbody tr th:only-of-type {\n",
       "        vertical-align: middle;\n",
       "    }\n",
       "\n",
       "    .dataframe tbody tr th {\n",
       "        vertical-align: top;\n",
       "    }\n",
       "\n",
       "    .dataframe thead th {\n",
       "        text-align: right;\n",
       "    }\n",
       "</style>\n",
       "<table border=\"1\" class=\"dataframe\">\n",
       "  <thead>\n",
       "    <tr style=\"text-align: right;\">\n",
       "      <th></th>\n",
       "      <th>itemcode</th>\n",
       "      <th>quantity</th>\n",
       "      <th>cost_price</th>\n",
       "      <th>price</th>\n",
       "      <th>cost_value</th>\n",
       "      <th>value</th>\n",
       "      <th>itemname</th>\n",
       "      <th>asset_class</th>\n",
       "      <th>date</th>\n",
       "      <th>userid</th>\n",
       "      <th>username</th>\n",
       "      <th>original</th>\n",
       "      <th>group_by</th>\n",
       "      <th>wt</th>\n",
       "    </tr>\n",
       "  </thead>\n",
       "  <tbody>\n",
       "    <tr>\n",
       "      <th>0</th>\n",
       "      <td>A122260</td>\n",
       "      <td>2</td>\n",
       "      <td>101185</td>\n",
       "      <td>101185.0</td>\n",
       "      <td>202370</td>\n",
       "      <td>202370</td>\n",
       "      <td>KOSEF 통안채1년</td>\n",
       "      <td>Fixed Income</td>\n",
       "      <td>02/01/2021 4:0:00 PM</td>\n",
       "      <td>A00</td>\n",
       "      <td>투자자0</td>\n",
       "      <td>N</td>\n",
       "      <td></td>\n",
       "      <td>0.202421</td>\n",
       "    </tr>\n",
       "    <tr>\n",
       "      <th>1</th>\n",
       "      <td>A114260</td>\n",
       "      <td>4</td>\n",
       "      <td>57900</td>\n",
       "      <td>57900.0</td>\n",
       "      <td>231600</td>\n",
       "      <td>231600</td>\n",
       "      <td>KODEX 국고채3년</td>\n",
       "      <td>Fixed Income</td>\n",
       "      <td>02/01/2021 4:0:00 PM</td>\n",
       "      <td>A00</td>\n",
       "      <td>투자자0</td>\n",
       "      <td>N</td>\n",
       "      <td></td>\n",
       "      <td>0.231659</td>\n",
       "    </tr>\n",
       "    <tr>\n",
       "      <th>2</th>\n",
       "      <td>A130730</td>\n",
       "      <td>2</td>\n",
       "      <td>100975</td>\n",
       "      <td>100975.0</td>\n",
       "      <td>201950</td>\n",
       "      <td>201950</td>\n",
       "      <td>KOSEF 단기자금</td>\n",
       "      <td>Fixed Income</td>\n",
       "      <td>02/01/2021 4:0:00 PM</td>\n",
       "      <td>A00</td>\n",
       "      <td>투자자0</td>\n",
       "      <td>N</td>\n",
       "      <td></td>\n",
       "      <td>0.202001</td>\n",
       "    </tr>\n",
       "    <tr>\n",
       "      <th>3</th>\n",
       "      <td>A329650</td>\n",
       "      <td>13</td>\n",
       "      <td>10980</td>\n",
       "      <td>10980.0</td>\n",
       "      <td>142740</td>\n",
       "      <td>142740</td>\n",
       "      <td>KODEX TRF3070</td>\n",
       "      <td>Alternative</td>\n",
       "      <td>02/01/2021 4:0:00 PM</td>\n",
       "      <td>A00</td>\n",
       "      <td>투자자0</td>\n",
       "      <td>N</td>\n",
       "      <td></td>\n",
       "      <td>0.142776</td>\n",
       "    </tr>\n",
       "    <tr>\n",
       "      <th>4</th>\n",
       "      <td>A266370</td>\n",
       "      <td>4</td>\n",
       "      <td>21325</td>\n",
       "      <td>21325.0</td>\n",
       "      <td>85300</td>\n",
       "      <td>85300</td>\n",
       "      <td>KODEX IT</td>\n",
       "      <td>Equity</td>\n",
       "      <td>02/01/2021 4:0:00 PM</td>\n",
       "      <td>A00</td>\n",
       "      <td>투자자0</td>\n",
       "      <td>N</td>\n",
       "      <td></td>\n",
       "      <td>0.0853217</td>\n",
       "    </tr>\n",
       "    <tr>\n",
       "      <th>5</th>\n",
       "      <td>C000001</td>\n",
       "      <td>135786</td>\n",
       "      <td>1</td>\n",
       "      <td>1.0</td>\n",
       "      <td>135786</td>\n",
       "      <td>135786</td>\n",
       "      <td>현금</td>\n",
       "      <td>Cash</td>\n",
       "      <td>02/01/2021 4:0:00 PM</td>\n",
       "      <td>A00</td>\n",
       "      <td>투자자0</td>\n",
       "      <td>N</td>\n",
       "      <td></td>\n",
       "      <td>0.13582</td>\n",
       "    </tr>\n",
       "    <tr>\n",
       "      <th>0</th>\n",
       "      <td>A122260</td>\n",
       "      <td>2</td>\n",
       "      <td>101185</td>\n",
       "      <td>101185.0</td>\n",
       "      <td>202370</td>\n",
       "      <td>202370</td>\n",
       "      <td>KOSEF 통안채1년</td>\n",
       "      <td>Fixed Income</td>\n",
       "      <td>02/01/2021 4:0:00 PM</td>\n",
       "      <td>A00</td>\n",
       "      <td>투자자0</td>\n",
       "      <td>N</td>\n",
       "      <td></td>\n",
       "      <td>0.202421</td>\n",
       "    </tr>\n",
       "    <tr>\n",
       "      <th>1</th>\n",
       "      <td>A114260</td>\n",
       "      <td>4</td>\n",
       "      <td>57900</td>\n",
       "      <td>57900.0</td>\n",
       "      <td>231600</td>\n",
       "      <td>231600</td>\n",
       "      <td>KODEX 국고채3년</td>\n",
       "      <td>Fixed Income</td>\n",
       "      <td>02/01/2021 4:0:00 PM</td>\n",
       "      <td>A00</td>\n",
       "      <td>투자자0</td>\n",
       "      <td>N</td>\n",
       "      <td></td>\n",
       "      <td>0.231659</td>\n",
       "    </tr>\n",
       "    <tr>\n",
       "      <th>2</th>\n",
       "      <td>A130730</td>\n",
       "      <td>2</td>\n",
       "      <td>100975</td>\n",
       "      <td>100975.0</td>\n",
       "      <td>201950</td>\n",
       "      <td>201950</td>\n",
       "      <td>KOSEF 단기자금</td>\n",
       "      <td>Fixed Income</td>\n",
       "      <td>02/01/2021 4:0:00 PM</td>\n",
       "      <td>A00</td>\n",
       "      <td>투자자0</td>\n",
       "      <td>N</td>\n",
       "      <td></td>\n",
       "      <td>0.202001</td>\n",
       "    </tr>\n",
       "    <tr>\n",
       "      <th>3</th>\n",
       "      <td>A329650</td>\n",
       "      <td>13</td>\n",
       "      <td>10980</td>\n",
       "      <td>10980.0</td>\n",
       "      <td>142740</td>\n",
       "      <td>142740</td>\n",
       "      <td>KODEX TRF3070</td>\n",
       "      <td>Alternative</td>\n",
       "      <td>02/01/2021 4:0:00 PM</td>\n",
       "      <td>A00</td>\n",
       "      <td>투자자0</td>\n",
       "      <td>N</td>\n",
       "      <td></td>\n",
       "      <td>0.142776</td>\n",
       "    </tr>\n",
       "    <tr>\n",
       "      <th>4</th>\n",
       "      <td>A266370</td>\n",
       "      <td>4</td>\n",
       "      <td>21325</td>\n",
       "      <td>21325.0</td>\n",
       "      <td>85300</td>\n",
       "      <td>85300</td>\n",
       "      <td>KODEX IT</td>\n",
       "      <td>Equity</td>\n",
       "      <td>02/01/2021 4:0:00 PM</td>\n",
       "      <td>A00</td>\n",
       "      <td>투자자0</td>\n",
       "      <td>N</td>\n",
       "      <td></td>\n",
       "      <td>0.0853217</td>\n",
       "    </tr>\n",
       "    <tr>\n",
       "      <th>5</th>\n",
       "      <td>C000001</td>\n",
       "      <td>135786</td>\n",
       "      <td>1</td>\n",
       "      <td>1.0</td>\n",
       "      <td>135786</td>\n",
       "      <td>135786</td>\n",
       "      <td>현금</td>\n",
       "      <td>Cash</td>\n",
       "      <td>02/01/2021 4:0:00 PM</td>\n",
       "      <td>A00</td>\n",
       "      <td>투자자0</td>\n",
       "      <td>N</td>\n",
       "      <td></td>\n",
       "      <td>0.13582</td>\n",
       "    </tr>\n",
       "  </tbody>\n",
       "</table>\n",
       "</div>"
      ],
      "text/plain": [
       "  itemcode quantity cost_price     price cost_value   value       itemname  \\\n",
       "0  A122260        2     101185  101185.0     202370  202370    KOSEF 통안채1년   \n",
       "1  A114260        4      57900   57900.0     231600  231600    KODEX 국고채3년   \n",
       "2  A130730        2     100975  100975.0     201950  201950     KOSEF 단기자금   \n",
       "3  A329650       13      10980   10980.0     142740  142740  KODEX TRF3070   \n",
       "4  A266370        4      21325   21325.0      85300   85300       KODEX IT   \n",
       "5  C000001   135786          1       1.0     135786  135786             현금   \n",
       "0  A122260        2     101185  101185.0     202370  202370    KOSEF 통안채1년   \n",
       "1  A114260        4      57900   57900.0     231600  231600    KODEX 국고채3년   \n",
       "2  A130730        2     100975  100975.0     201950  201950     KOSEF 단기자금   \n",
       "3  A329650       13      10980   10980.0     142740  142740  KODEX TRF3070   \n",
       "4  A266370        4      21325   21325.0      85300   85300       KODEX IT   \n",
       "5  C000001   135786          1       1.0     135786  135786             현금   \n",
       "\n",
       "    asset_class                  date userid username original group_by  \\\n",
       "0  Fixed Income  02/01/2021 4:0:00 PM    A00     투자자0        N            \n",
       "1  Fixed Income  02/01/2021 4:0:00 PM    A00     투자자0        N            \n",
       "2  Fixed Income  02/01/2021 4:0:00 PM    A00     투자자0        N            \n",
       "3   Alternative  02/01/2021 4:0:00 PM    A00     투자자0        N            \n",
       "4        Equity  02/01/2021 4:0:00 PM    A00     투자자0        N            \n",
       "5          Cash  02/01/2021 4:0:00 PM    A00     투자자0        N            \n",
       "0  Fixed Income  02/01/2021 4:0:00 PM    A00     투자자0        N            \n",
       "1  Fixed Income  02/01/2021 4:0:00 PM    A00     투자자0        N            \n",
       "2  Fixed Income  02/01/2021 4:0:00 PM    A00     투자자0        N            \n",
       "3   Alternative  02/01/2021 4:0:00 PM    A00     투자자0        N            \n",
       "4        Equity  02/01/2021 4:0:00 PM    A00     투자자0        N            \n",
       "5          Cash  02/01/2021 4:0:00 PM    A00     투자자0        N            \n",
       "\n",
       "          wt  \n",
       "0   0.202421  \n",
       "1   0.231659  \n",
       "2   0.202001  \n",
       "3   0.142776  \n",
       "4  0.0853217  \n",
       "5    0.13582  \n",
       "0   0.202421  \n",
       "1   0.231659  \n",
       "2   0.202001  \n",
       "3   0.142776  \n",
       "4  0.0853217  \n",
       "5    0.13582  "
      ]
     },
     "execution_count": 178,
     "metadata": {},
     "output_type": "execute_result"
    }
   ],
   "source": [
    "all_the_nexts"
   ]
  },
  {
   "cell_type": "code",
   "execution_count": 167,
   "id": "pacific-pearl",
   "metadata": {
    "ExecuteTime": {
     "end_time": "2021-03-24T01:43:52.479564Z",
     "start_time": "2021-03-24T01:43:52.475574Z"
    }
   },
   "outputs": [],
   "source": [
    "next_detail.loc[next_detail.itemcode=='C000001', 'price'] = 1"
   ]
  },
  {
   "cell_type": "code",
   "execution_count": 168,
   "id": "adopted-waters",
   "metadata": {
    "ExecuteTime": {
     "end_time": "2021-03-24T01:43:55.511369Z",
     "start_time": "2021-03-24T01:43:55.499400Z"
    }
   },
   "outputs": [
    {
     "data": {
      "text/html": [
       "<div>\n",
       "<style scoped>\n",
       "    .dataframe tbody tr th:only-of-type {\n",
       "        vertical-align: middle;\n",
       "    }\n",
       "\n",
       "    .dataframe tbody tr th {\n",
       "        vertical-align: top;\n",
       "    }\n",
       "\n",
       "    .dataframe thead th {\n",
       "        text-align: right;\n",
       "    }\n",
       "</style>\n",
       "<table border=\"1\" class=\"dataframe\">\n",
       "  <thead>\n",
       "    <tr style=\"text-align: right;\">\n",
       "      <th></th>\n",
       "      <th>itemcode</th>\n",
       "      <th>quantity</th>\n",
       "      <th>cost_price</th>\n",
       "      <th>price</th>\n",
       "      <th>cost_value</th>\n",
       "      <th>value</th>\n",
       "      <th>itemname</th>\n",
       "      <th>asset_class</th>\n",
       "      <th>date</th>\n",
       "      <th>userid</th>\n",
       "      <th>username</th>\n",
       "      <th>original</th>\n",
       "      <th>group_by</th>\n",
       "      <th>wt</th>\n",
       "    </tr>\n",
       "  </thead>\n",
       "  <tbody>\n",
       "    <tr>\n",
       "      <th>0</th>\n",
       "      <td>A122260</td>\n",
       "      <td>2</td>\n",
       "      <td>101185</td>\n",
       "      <td>101185.0</td>\n",
       "      <td>202370</td>\n",
       "      <td>202370</td>\n",
       "      <td>KOSEF 통안채1년</td>\n",
       "      <td>Fixed Income</td>\n",
       "      <td>02/01/2021 4:0:00 PM</td>\n",
       "      <td>A00</td>\n",
       "      <td>투자자0</td>\n",
       "      <td>N</td>\n",
       "      <td></td>\n",
       "      <td>0.202421</td>\n",
       "    </tr>\n",
       "    <tr>\n",
       "      <th>1</th>\n",
       "      <td>A114260</td>\n",
       "      <td>4</td>\n",
       "      <td>57900</td>\n",
       "      <td>57900.0</td>\n",
       "      <td>231600</td>\n",
       "      <td>231600</td>\n",
       "      <td>KODEX 국고채3년</td>\n",
       "      <td>Fixed Income</td>\n",
       "      <td>02/01/2021 4:0:00 PM</td>\n",
       "      <td>A00</td>\n",
       "      <td>투자자0</td>\n",
       "      <td>N</td>\n",
       "      <td></td>\n",
       "      <td>0.231659</td>\n",
       "    </tr>\n",
       "    <tr>\n",
       "      <th>2</th>\n",
       "      <td>A130730</td>\n",
       "      <td>2</td>\n",
       "      <td>100975</td>\n",
       "      <td>100975.0</td>\n",
       "      <td>201950</td>\n",
       "      <td>201950</td>\n",
       "      <td>KOSEF 단기자금</td>\n",
       "      <td>Fixed Income</td>\n",
       "      <td>02/01/2021 4:0:00 PM</td>\n",
       "      <td>A00</td>\n",
       "      <td>투자자0</td>\n",
       "      <td>N</td>\n",
       "      <td></td>\n",
       "      <td>0.202001</td>\n",
       "    </tr>\n",
       "    <tr>\n",
       "      <th>3</th>\n",
       "      <td>A329650</td>\n",
       "      <td>13</td>\n",
       "      <td>10980</td>\n",
       "      <td>10980.0</td>\n",
       "      <td>142740</td>\n",
       "      <td>142740</td>\n",
       "      <td>KODEX TRF3070</td>\n",
       "      <td>Alternative</td>\n",
       "      <td>02/01/2021 4:0:00 PM</td>\n",
       "      <td>A00</td>\n",
       "      <td>투자자0</td>\n",
       "      <td>N</td>\n",
       "      <td></td>\n",
       "      <td>0.142776</td>\n",
       "    </tr>\n",
       "    <tr>\n",
       "      <th>4</th>\n",
       "      <td>A266370</td>\n",
       "      <td>4</td>\n",
       "      <td>21325</td>\n",
       "      <td>21325.0</td>\n",
       "      <td>85300</td>\n",
       "      <td>85300</td>\n",
       "      <td>KODEX IT</td>\n",
       "      <td>Equity</td>\n",
       "      <td>02/01/2021 4:0:00 PM</td>\n",
       "      <td>A00</td>\n",
       "      <td>투자자0</td>\n",
       "      <td>N</td>\n",
       "      <td></td>\n",
       "      <td>0.0853217</td>\n",
       "    </tr>\n",
       "    <tr>\n",
       "      <th>5</th>\n",
       "      <td>C000001</td>\n",
       "      <td>135786</td>\n",
       "      <td>1</td>\n",
       "      <td>1.0</td>\n",
       "      <td>135786</td>\n",
       "      <td>135786</td>\n",
       "      <td>현금</td>\n",
       "      <td>Cash</td>\n",
       "      <td>02/01/2021 4:0:00 PM</td>\n",
       "      <td>A00</td>\n",
       "      <td>투자자0</td>\n",
       "      <td>N</td>\n",
       "      <td></td>\n",
       "      <td>0.13582</td>\n",
       "    </tr>\n",
       "  </tbody>\n",
       "</table>\n",
       "</div>"
      ],
      "text/plain": [
       "  itemcode quantity cost_price     price cost_value   value       itemname  \\\n",
       "0  A122260        2     101185  101185.0     202370  202370    KOSEF 통안채1년   \n",
       "1  A114260        4      57900   57900.0     231600  231600    KODEX 국고채3년   \n",
       "2  A130730        2     100975  100975.0     201950  201950     KOSEF 단기자금   \n",
       "3  A329650       13      10980   10980.0     142740  142740  KODEX TRF3070   \n",
       "4  A266370        4      21325   21325.0      85300   85300       KODEX IT   \n",
       "5  C000001   135786          1       1.0     135786  135786             현금   \n",
       "\n",
       "    asset_class                  date userid username original group_by  \\\n",
       "0  Fixed Income  02/01/2021 4:0:00 PM    A00     투자자0        N            \n",
       "1  Fixed Income  02/01/2021 4:0:00 PM    A00     투자자0        N            \n",
       "2  Fixed Income  02/01/2021 4:0:00 PM    A00     투자자0        N            \n",
       "3   Alternative  02/01/2021 4:0:00 PM    A00     투자자0        N            \n",
       "4        Equity  02/01/2021 4:0:00 PM    A00     투자자0        N            \n",
       "5          Cash  02/01/2021 4:0:00 PM    A00     투자자0        N            \n",
       "\n",
       "          wt  \n",
       "0   0.202421  \n",
       "1   0.231659  \n",
       "2   0.202001  \n",
       "3   0.142776  \n",
       "4  0.0853217  \n",
       "5    0.13582  "
      ]
     },
     "execution_count": 168,
     "metadata": {},
     "output_type": "execute_result"
    }
   ],
   "source": [
    "next_detail"
   ]
  },
  {
   "cell_type": "code",
   "execution_count": 151,
   "id": "general-pipeline",
   "metadata": {
    "ExecuteTime": {
     "end_time": "2021-03-24T01:34:59.610832Z",
     "start_time": "2021-03-24T01:34:59.606844Z"
    }
   },
   "outputs": [],
   "source": [
    "dt = datetime.strptime(dates[1], '%Y-%m-%d')"
   ]
  },
  {
   "cell_type": "code",
   "execution_count": 152,
   "id": "optical-afghanistan",
   "metadata": {
    "ExecuteTime": {
     "end_time": "2021-03-24T01:35:01.210931Z",
     "start_time": "2021-03-24T01:35:01.206943Z"
    }
   },
   "outputs": [],
   "source": [
    "dt2 = str(dt.month)+'/'+str(dt.day)+'/'+str(dt.year)+' 09:00:00 AM'"
   ]
  },
  {
   "cell_type": "code",
   "execution_count": 146,
   "id": "champion-adaptation",
   "metadata": {
    "ExecuteTime": {
     "end_time": "2021-03-24T01:33:18.939211Z",
     "start_time": "2021-03-24T01:33:18.935222Z"
    }
   },
   "outputs": [
    {
     "data": {
      "text/plain": [
       "'2/2/2021 09:00:00 AM'"
      ]
     },
     "execution_count": 146,
     "metadata": {},
     "output_type": "execute_result"
    }
   ],
   "source": [
    "dt2"
   ]
  },
  {
   "cell_type": "code",
   "execution_count": 164,
   "id": "backed-military",
   "metadata": {
    "ExecuteTime": {
     "end_time": "2021-03-24T01:42:35.842465Z",
     "start_time": "2021-03-24T01:42:35.827506Z"
    }
   },
   "outputs": [
    {
     "data": {
      "text/html": [
       "<div>\n",
       "<style scoped>\n",
       "    .dataframe tbody tr th:only-of-type {\n",
       "        vertical-align: middle;\n",
       "    }\n",
       "\n",
       "    .dataframe tbody tr th {\n",
       "        vertical-align: top;\n",
       "    }\n",
       "\n",
       "    .dataframe thead th {\n",
       "        text-align: right;\n",
       "    }\n",
       "</style>\n",
       "<table border=\"1\" class=\"dataframe\">\n",
       "  <thead>\n",
       "    <tr style=\"text-align: right;\">\n",
       "      <th></th>\n",
       "      <th>itemcode</th>\n",
       "      <th>quantity</th>\n",
       "      <th>cost_price</th>\n",
       "      <th>cost_value</th>\n",
       "      <th>value</th>\n",
       "      <th>itemname</th>\n",
       "      <th>asset_class</th>\n",
       "      <th>date</th>\n",
       "      <th>userid</th>\n",
       "      <th>username</th>\n",
       "      <th>original</th>\n",
       "      <th>group_by</th>\n",
       "      <th>wt</th>\n",
       "      <th>price</th>\n",
       "    </tr>\n",
       "  </thead>\n",
       "  <tbody>\n",
       "    <tr>\n",
       "      <th>0</th>\n",
       "      <td>A122260</td>\n",
       "      <td>2</td>\n",
       "      <td>101185</td>\n",
       "      <td>202370</td>\n",
       "      <td>202370</td>\n",
       "      <td>KOSEF 통안채1년</td>\n",
       "      <td>Fixed Income</td>\n",
       "      <td>02/01/2021 4:0:00 PM</td>\n",
       "      <td>A00</td>\n",
       "      <td>투자자0</td>\n",
       "      <td>N</td>\n",
       "      <td></td>\n",
       "      <td>0.202421</td>\n",
       "      <td>101105.0</td>\n",
       "    </tr>\n",
       "    <tr>\n",
       "      <th>1</th>\n",
       "      <td>A114260</td>\n",
       "      <td>4</td>\n",
       "      <td>57900</td>\n",
       "      <td>231600</td>\n",
       "      <td>231600</td>\n",
       "      <td>KODEX 국고채3년</td>\n",
       "      <td>Fixed Income</td>\n",
       "      <td>02/01/2021 4:0:00 PM</td>\n",
       "      <td>A00</td>\n",
       "      <td>투자자0</td>\n",
       "      <td>N</td>\n",
       "      <td></td>\n",
       "      <td>0.231659</td>\n",
       "      <td>58125.0</td>\n",
       "    </tr>\n",
       "    <tr>\n",
       "      <th>2</th>\n",
       "      <td>A130730</td>\n",
       "      <td>2</td>\n",
       "      <td>100975</td>\n",
       "      <td>201950</td>\n",
       "      <td>201950</td>\n",
       "      <td>KOSEF 단기자금</td>\n",
       "      <td>Fixed Income</td>\n",
       "      <td>02/01/2021 4:0:00 PM</td>\n",
       "      <td>A00</td>\n",
       "      <td>투자자0</td>\n",
       "      <td>N</td>\n",
       "      <td></td>\n",
       "      <td>0.202001</td>\n",
       "      <td>100895.0</td>\n",
       "    </tr>\n",
       "    <tr>\n",
       "      <th>3</th>\n",
       "      <td>A329650</td>\n",
       "      <td>13</td>\n",
       "      <td>10980</td>\n",
       "      <td>142740</td>\n",
       "      <td>142740</td>\n",
       "      <td>KODEX TRF3070</td>\n",
       "      <td>Alternative</td>\n",
       "      <td>02/01/2021 4:0:00 PM</td>\n",
       "      <td>A00</td>\n",
       "      <td>투자자0</td>\n",
       "      <td>N</td>\n",
       "      <td></td>\n",
       "      <td>0.142776</td>\n",
       "      <td>NaN</td>\n",
       "    </tr>\n",
       "    <tr>\n",
       "      <th>4</th>\n",
       "      <td>A266370</td>\n",
       "      <td>4</td>\n",
       "      <td>21325</td>\n",
       "      <td>85300</td>\n",
       "      <td>85300</td>\n",
       "      <td>KODEX IT</td>\n",
       "      <td>Equity</td>\n",
       "      <td>02/01/2021 4:0:00 PM</td>\n",
       "      <td>A00</td>\n",
       "      <td>투자자0</td>\n",
       "      <td>N</td>\n",
       "      <td></td>\n",
       "      <td>0.0853217</td>\n",
       "      <td>22020.0</td>\n",
       "    </tr>\n",
       "    <tr>\n",
       "      <th>5</th>\n",
       "      <td>C000001</td>\n",
       "      <td>135786</td>\n",
       "      <td>1</td>\n",
       "      <td>135786</td>\n",
       "      <td>135786</td>\n",
       "      <td>현금</td>\n",
       "      <td>Cash</td>\n",
       "      <td>02/01/2021 4:0:00 PM</td>\n",
       "      <td>A00</td>\n",
       "      <td>투자자0</td>\n",
       "      <td>N</td>\n",
       "      <td></td>\n",
       "      <td>0.13582</td>\n",
       "      <td>NaN</td>\n",
       "    </tr>\n",
       "  </tbody>\n",
       "</table>\n",
       "</div>"
      ],
      "text/plain": [
       "  itemcode quantity cost_price cost_value   value       itemname  \\\n",
       "0  A122260        2     101185     202370  202370    KOSEF 통안채1년   \n",
       "1  A114260        4      57900     231600  231600    KODEX 국고채3년   \n",
       "2  A130730        2     100975     201950  201950     KOSEF 단기자금   \n",
       "3  A329650       13      10980     142740  142740  KODEX TRF3070   \n",
       "4  A266370        4      21325      85300   85300       KODEX IT   \n",
       "5  C000001   135786          1     135786  135786             현금   \n",
       "\n",
       "    asset_class                  date userid username original group_by  \\\n",
       "0  Fixed Income  02/01/2021 4:0:00 PM    A00     투자자0        N            \n",
       "1  Fixed Income  02/01/2021 4:0:00 PM    A00     투자자0        N            \n",
       "2  Fixed Income  02/01/2021 4:0:00 PM    A00     투자자0        N            \n",
       "3   Alternative  02/01/2021 4:0:00 PM    A00     투자자0        N            \n",
       "4        Equity  02/01/2021 4:0:00 PM    A00     투자자0        N            \n",
       "5          Cash  02/01/2021 4:0:00 PM    A00     투자자0        N            \n",
       "\n",
       "          wt     price  \n",
       "0   0.202421  101105.0  \n",
       "1   0.231659   58125.0  \n",
       "2   0.202001  100895.0  \n",
       "3   0.142776       NaN  \n",
       "4  0.0853217   22020.0  \n",
       "5    0.13582       NaN  "
      ]
     },
     "execution_count": 164,
     "metadata": {},
     "output_type": "execute_result"
    }
   ],
   "source": [
    "next_detail.merge(holding_prices, left_on='itemcode', right_on='itemcode', how='left', suffixes=('_old', '')).drop('price_old', axis=1)"
   ]
  },
  {
   "cell_type": "code",
   "execution_count": 133,
   "id": "injured-payroll",
   "metadata": {
    "ExecuteTime": {
     "end_time": "2021-03-24T01:24:37.503114Z",
     "start_time": "2021-03-24T01:24:37.497140Z"
    }
   },
   "outputs": [],
   "source": [
    "prices_dt = price_db.loc[price_db.date==dt, ['price', 'itemcode']].reset_index(drop=True)"
   ]
  },
  {
   "cell_type": "code",
   "execution_count": 129,
   "id": "brutal-frank",
   "metadata": {
    "ExecuteTime": {
     "end_time": "2021-03-24T01:23:26.486206Z",
     "start_time": "2021-03-24T01:23:26.481220Z"
    }
   },
   "outputs": [
    {
     "data": {
      "text/plain": [
       "['A122260', 'A114260', 'A130730', 'A329650', 'A266370', 'C000001']"
      ]
     },
     "execution_count": 129,
     "metadata": {},
     "output_type": "execute_result"
    }
   ],
   "source": [
    "holdings = detail.itemcode.to_list()\n",
    "holdings"
   ]
  },
  {
   "cell_type": "code",
   "execution_count": 156,
   "id": "instrumental-summer",
   "metadata": {
    "ExecuteTime": {
     "end_time": "2021-03-24T01:37:33.419119Z",
     "start_time": "2021-03-24T01:37:33.415130Z"
    }
   },
   "outputs": [],
   "source": [
    "holding_prices = prices_dt[prices_dt.itemcode.isin(holdings)]"
   ]
  },
  {
   "cell_type": "code",
   "execution_count": 157,
   "id": "opposed-marsh",
   "metadata": {
    "ExecuteTime": {
     "end_time": "2021-03-24T01:40:49.814160Z",
     "start_time": "2021-03-24T01:40:49.806153Z"
    }
   },
   "outputs": [
    {
     "data": {
      "text/html": [
       "<div>\n",
       "<style scoped>\n",
       "    .dataframe tbody tr th:only-of-type {\n",
       "        vertical-align: middle;\n",
       "    }\n",
       "\n",
       "    .dataframe tbody tr th {\n",
       "        vertical-align: top;\n",
       "    }\n",
       "\n",
       "    .dataframe thead th {\n",
       "        text-align: right;\n",
       "    }\n",
       "</style>\n",
       "<table border=\"1\" class=\"dataframe\">\n",
       "  <thead>\n",
       "    <tr style=\"text-align: right;\">\n",
       "      <th></th>\n",
       "      <th>price</th>\n",
       "      <th>itemcode</th>\n",
       "    </tr>\n",
       "  </thead>\n",
       "  <tbody>\n",
       "    <tr>\n",
       "      <th>8</th>\n",
       "      <td>100895.0</td>\n",
       "      <td>A130730</td>\n",
       "    </tr>\n",
       "    <tr>\n",
       "      <th>9</th>\n",
       "      <td>101105.0</td>\n",
       "      <td>A122260</td>\n",
       "    </tr>\n",
       "    <tr>\n",
       "      <th>23</th>\n",
       "      <td>22020.0</td>\n",
       "      <td>A266370</td>\n",
       "    </tr>\n",
       "    <tr>\n",
       "      <th>24</th>\n",
       "      <td>58125.0</td>\n",
       "      <td>A114260</td>\n",
       "    </tr>\n",
       "  </tbody>\n",
       "</table>\n",
       "</div>"
      ],
      "text/plain": [
       "       price itemcode\n",
       "8   100895.0  A130730\n",
       "9   101105.0  A122260\n",
       "23   22020.0  A266370\n",
       "24   58125.0  A114260"
      ]
     },
     "execution_count": 157,
     "metadata": {},
     "output_type": "execute_result"
    }
   ],
   "source": [
    "holding_prices"
   ]
  },
  {
   "cell_type": "code",
   "execution_count": null,
   "id": "incorporate-criminal",
   "metadata": {},
   "outputs": [],
   "source": []
  },
  {
   "cell_type": "code",
   "execution_count": null,
   "id": "champion-usage",
   "metadata": {},
   "outputs": [],
   "source": []
  },
  {
   "cell_type": "markdown",
   "id": "competitive-makeup",
   "metadata": {},
   "source": [
    "## 자산군별 바 차트"
   ]
  },
  {
   "cell_type": "code",
   "execution_count": 28,
   "id": "pending-friend",
   "metadata": {
    "ExecuteTime": {
     "end_time": "2021-03-23T23:01:46.337134Z",
     "start_time": "2021-03-23T23:01:45.593171Z"
    }
   },
   "outputs": [],
   "source": [
    "import plotly.express as px"
   ]
  },
  {
   "cell_type": "code",
   "execution_count": 43,
   "id": "religious-sentence",
   "metadata": {
    "ExecuteTime": {
     "end_time": "2021-03-23T23:07:55.600856Z",
     "start_time": "2021-03-23T23:07:55.592878Z"
    }
   },
   "outputs": [],
   "source": [
    "v = detail.loc[:, ['wt', 'itemname']].groupby(\n",
    "                    'itemname').sum().sort_values('wt', ascending=False).reset_index()"
   ]
  },
  {
   "cell_type": "code",
   "execution_count": 29,
   "id": "greatest-establishment",
   "metadata": {
    "ExecuteTime": {
     "end_time": "2021-03-23T23:01:54.257634Z",
     "start_time": "2021-03-23T23:01:54.248659Z"
    }
   },
   "outputs": [],
   "source": [
    "a = detail.loc[:, ['wt', 'asset_class']].groupby(\n",
    "                    'asset_class').sum().sort_values('wt', ascending=False).reset_index()"
   ]
  },
  {
   "cell_type": "code",
   "execution_count": 50,
   "id": "mysterious-rings",
   "metadata": {
    "ExecuteTime": {
     "end_time": "2021-03-23T23:12:52.965653Z",
     "start_time": "2021-03-23T23:12:52.961665Z"
    }
   },
   "outputs": [],
   "source": [
    "asset_class = ['Fixed Income', 'Alternative', 'Cash', 'Equity']"
   ]
  },
  {
   "cell_type": "code",
   "execution_count": 53,
   "id": "attractive-thinking",
   "metadata": {
    "ExecuteTime": {
     "end_time": "2021-03-23T23:13:23.413282Z",
     "start_time": "2021-03-23T23:13:23.409294Z"
    }
   },
   "outputs": [],
   "source": [
    "df_ac = pd.DataFrame(asset_class, columns=['asset_class'])"
   ]
  },
  {
   "cell_type": "code",
   "execution_count": 62,
   "id": "anticipated-economy",
   "metadata": {
    "ExecuteTime": {
     "end_time": "2021-03-23T23:17:07.611419Z",
     "start_time": "2021-03-23T23:17:07.605460Z"
    }
   },
   "outputs": [],
   "source": [
    "df_by_asset_class = a.merge(df_ac, left_on='asset_class', right_on='asset_class', how='right').sort_values('wt', ascending=False).reset_index()"
   ]
  },
  {
   "cell_type": "code",
   "execution_count": null,
   "id": "strong-bread",
   "metadata": {},
   "outputs": [],
   "source": []
  },
  {
   "cell_type": "code",
   "execution_count": 228,
   "id": "developing-halloween",
   "metadata": {
    "ExecuteTime": {
     "end_time": "2021-03-24T10:56:12.191573Z",
     "start_time": "2021-03-24T10:56:12.186587Z"
    }
   },
   "outputs": [
    {
     "data": {
      "text/plain": [
       "'A001'"
      ]
     },
     "execution_count": 228,
     "metadata": {},
     "output_type": "execute_result"
    }
   ],
   "source": [
    "'A' + ('00' + str(1))[-3:]"
   ]
  },
  {
   "cell_type": "code",
   "execution_count": 44,
   "id": "grave-botswana",
   "metadata": {
    "ExecuteTime": {
     "end_time": "2021-03-23T23:07:57.870784Z",
     "start_time": "2021-03-23T23:07:57.841862Z"
    }
   },
   "outputs": [
    {
     "data": {
      "application/vnd.plotly.v1+json": {
       "config": {
        "plotlyServerURL": "https://plot.ly"
       },
       "data": [
        {
         "domain": {
          "x": [
           0,
           1
          ],
          "y": [
           0,
           1
          ]
         },
         "hovertemplate": "itemname=%{label}<br>wt=%{value}<extra></extra>",
         "labels": [
          "KODEX 국고채3년",
          "KOSEF 통안채1년",
          "KOSEF 단기자금",
          "KODEX TRF3070",
          "현금",
          "KODEX IT"
         ],
         "legendgroup": "",
         "name": "",
         "showlegend": true,
         "type": "pie",
         "values": [
          0.2316588413457018,
          0.20242141503942002,
          0.20200130833231641,
          0.14277626517135353,
          0.13582049840659527,
          0.08532167170461297
         ]
        }
       ],
       "layout": {
        "legend": {
         "tracegroupgap": 0
        },
        "piecolorway": [
         "rgb(141,211,199)",
         "rgb(255,255,179)",
         "rgb(190,186,218)",
         "rgb(251,128,114)",
         "rgb(128,177,211)",
         "rgb(253,180,98)",
         "rgb(179,222,105)",
         "rgb(252,205,229)",
         "rgb(217,217,217)",
         "rgb(188,128,189)",
         "rgb(204,235,197)",
         "rgb(255,237,111)"
        ],
        "template": {
         "data": {
          "bar": [
           {
            "error_x": {
             "color": "#2a3f5f"
            },
            "error_y": {
             "color": "#2a3f5f"
            },
            "marker": {
             "line": {
              "color": "#E5ECF6",
              "width": 0.5
             }
            },
            "type": "bar"
           }
          ],
          "barpolar": [
           {
            "marker": {
             "line": {
              "color": "#E5ECF6",
              "width": 0.5
             }
            },
            "type": "barpolar"
           }
          ],
          "carpet": [
           {
            "aaxis": {
             "endlinecolor": "#2a3f5f",
             "gridcolor": "white",
             "linecolor": "white",
             "minorgridcolor": "white",
             "startlinecolor": "#2a3f5f"
            },
            "baxis": {
             "endlinecolor": "#2a3f5f",
             "gridcolor": "white",
             "linecolor": "white",
             "minorgridcolor": "white",
             "startlinecolor": "#2a3f5f"
            },
            "type": "carpet"
           }
          ],
          "choropleth": [
           {
            "colorbar": {
             "outlinewidth": 0,
             "ticks": ""
            },
            "type": "choropleth"
           }
          ],
          "contour": [
           {
            "colorbar": {
             "outlinewidth": 0,
             "ticks": ""
            },
            "colorscale": [
             [
              0,
              "#0d0887"
             ],
             [
              0.1111111111111111,
              "#46039f"
             ],
             [
              0.2222222222222222,
              "#7201a8"
             ],
             [
              0.3333333333333333,
              "#9c179e"
             ],
             [
              0.4444444444444444,
              "#bd3786"
             ],
             [
              0.5555555555555556,
              "#d8576b"
             ],
             [
              0.6666666666666666,
              "#ed7953"
             ],
             [
              0.7777777777777778,
              "#fb9f3a"
             ],
             [
              0.8888888888888888,
              "#fdca26"
             ],
             [
              1,
              "#f0f921"
             ]
            ],
            "type": "contour"
           }
          ],
          "contourcarpet": [
           {
            "colorbar": {
             "outlinewidth": 0,
             "ticks": ""
            },
            "type": "contourcarpet"
           }
          ],
          "heatmap": [
           {
            "colorbar": {
             "outlinewidth": 0,
             "ticks": ""
            },
            "colorscale": [
             [
              0,
              "#0d0887"
             ],
             [
              0.1111111111111111,
              "#46039f"
             ],
             [
              0.2222222222222222,
              "#7201a8"
             ],
             [
              0.3333333333333333,
              "#9c179e"
             ],
             [
              0.4444444444444444,
              "#bd3786"
             ],
             [
              0.5555555555555556,
              "#d8576b"
             ],
             [
              0.6666666666666666,
              "#ed7953"
             ],
             [
              0.7777777777777778,
              "#fb9f3a"
             ],
             [
              0.8888888888888888,
              "#fdca26"
             ],
             [
              1,
              "#f0f921"
             ]
            ],
            "type": "heatmap"
           }
          ],
          "heatmapgl": [
           {
            "colorbar": {
             "outlinewidth": 0,
             "ticks": ""
            },
            "colorscale": [
             [
              0,
              "#0d0887"
             ],
             [
              0.1111111111111111,
              "#46039f"
             ],
             [
              0.2222222222222222,
              "#7201a8"
             ],
             [
              0.3333333333333333,
              "#9c179e"
             ],
             [
              0.4444444444444444,
              "#bd3786"
             ],
             [
              0.5555555555555556,
              "#d8576b"
             ],
             [
              0.6666666666666666,
              "#ed7953"
             ],
             [
              0.7777777777777778,
              "#fb9f3a"
             ],
             [
              0.8888888888888888,
              "#fdca26"
             ],
             [
              1,
              "#f0f921"
             ]
            ],
            "type": "heatmapgl"
           }
          ],
          "histogram": [
           {
            "marker": {
             "colorbar": {
              "outlinewidth": 0,
              "ticks": ""
             }
            },
            "type": "histogram"
           }
          ],
          "histogram2d": [
           {
            "colorbar": {
             "outlinewidth": 0,
             "ticks": ""
            },
            "colorscale": [
             [
              0,
              "#0d0887"
             ],
             [
              0.1111111111111111,
              "#46039f"
             ],
             [
              0.2222222222222222,
              "#7201a8"
             ],
             [
              0.3333333333333333,
              "#9c179e"
             ],
             [
              0.4444444444444444,
              "#bd3786"
             ],
             [
              0.5555555555555556,
              "#d8576b"
             ],
             [
              0.6666666666666666,
              "#ed7953"
             ],
             [
              0.7777777777777778,
              "#fb9f3a"
             ],
             [
              0.8888888888888888,
              "#fdca26"
             ],
             [
              1,
              "#f0f921"
             ]
            ],
            "type": "histogram2d"
           }
          ],
          "histogram2dcontour": [
           {
            "colorbar": {
             "outlinewidth": 0,
             "ticks": ""
            },
            "colorscale": [
             [
              0,
              "#0d0887"
             ],
             [
              0.1111111111111111,
              "#46039f"
             ],
             [
              0.2222222222222222,
              "#7201a8"
             ],
             [
              0.3333333333333333,
              "#9c179e"
             ],
             [
              0.4444444444444444,
              "#bd3786"
             ],
             [
              0.5555555555555556,
              "#d8576b"
             ],
             [
              0.6666666666666666,
              "#ed7953"
             ],
             [
              0.7777777777777778,
              "#fb9f3a"
             ],
             [
              0.8888888888888888,
              "#fdca26"
             ],
             [
              1,
              "#f0f921"
             ]
            ],
            "type": "histogram2dcontour"
           }
          ],
          "mesh3d": [
           {
            "colorbar": {
             "outlinewidth": 0,
             "ticks": ""
            },
            "type": "mesh3d"
           }
          ],
          "parcoords": [
           {
            "line": {
             "colorbar": {
              "outlinewidth": 0,
              "ticks": ""
             }
            },
            "type": "parcoords"
           }
          ],
          "pie": [
           {
            "automargin": true,
            "type": "pie"
           }
          ],
          "scatter": [
           {
            "marker": {
             "colorbar": {
              "outlinewidth": 0,
              "ticks": ""
             }
            },
            "type": "scatter"
           }
          ],
          "scatter3d": [
           {
            "line": {
             "colorbar": {
              "outlinewidth": 0,
              "ticks": ""
             }
            },
            "marker": {
             "colorbar": {
              "outlinewidth": 0,
              "ticks": ""
             }
            },
            "type": "scatter3d"
           }
          ],
          "scattercarpet": [
           {
            "marker": {
             "colorbar": {
              "outlinewidth": 0,
              "ticks": ""
             }
            },
            "type": "scattercarpet"
           }
          ],
          "scattergeo": [
           {
            "marker": {
             "colorbar": {
              "outlinewidth": 0,
              "ticks": ""
             }
            },
            "type": "scattergeo"
           }
          ],
          "scattergl": [
           {
            "marker": {
             "colorbar": {
              "outlinewidth": 0,
              "ticks": ""
             }
            },
            "type": "scattergl"
           }
          ],
          "scattermapbox": [
           {
            "marker": {
             "colorbar": {
              "outlinewidth": 0,
              "ticks": ""
             }
            },
            "type": "scattermapbox"
           }
          ],
          "scatterpolar": [
           {
            "marker": {
             "colorbar": {
              "outlinewidth": 0,
              "ticks": ""
             }
            },
            "type": "scatterpolar"
           }
          ],
          "scatterpolargl": [
           {
            "marker": {
             "colorbar": {
              "outlinewidth": 0,
              "ticks": ""
             }
            },
            "type": "scatterpolargl"
           }
          ],
          "scatterternary": [
           {
            "marker": {
             "colorbar": {
              "outlinewidth": 0,
              "ticks": ""
             }
            },
            "type": "scatterternary"
           }
          ],
          "surface": [
           {
            "colorbar": {
             "outlinewidth": 0,
             "ticks": ""
            },
            "colorscale": [
             [
              0,
              "#0d0887"
             ],
             [
              0.1111111111111111,
              "#46039f"
             ],
             [
              0.2222222222222222,
              "#7201a8"
             ],
             [
              0.3333333333333333,
              "#9c179e"
             ],
             [
              0.4444444444444444,
              "#bd3786"
             ],
             [
              0.5555555555555556,
              "#d8576b"
             ],
             [
              0.6666666666666666,
              "#ed7953"
             ],
             [
              0.7777777777777778,
              "#fb9f3a"
             ],
             [
              0.8888888888888888,
              "#fdca26"
             ],
             [
              1,
              "#f0f921"
             ]
            ],
            "type": "surface"
           }
          ],
          "table": [
           {
            "cells": {
             "fill": {
              "color": "#EBF0F8"
             },
             "line": {
              "color": "white"
             }
            },
            "header": {
             "fill": {
              "color": "#C8D4E3"
             },
             "line": {
              "color": "white"
             }
            },
            "type": "table"
           }
          ]
         },
         "layout": {
          "annotationdefaults": {
           "arrowcolor": "#2a3f5f",
           "arrowhead": 0,
           "arrowwidth": 1
          },
          "autotypenumbers": "strict",
          "coloraxis": {
           "colorbar": {
            "outlinewidth": 0,
            "ticks": ""
           }
          },
          "colorscale": {
           "diverging": [
            [
             0,
             "#8e0152"
            ],
            [
             0.1,
             "#c51b7d"
            ],
            [
             0.2,
             "#de77ae"
            ],
            [
             0.3,
             "#f1b6da"
            ],
            [
             0.4,
             "#fde0ef"
            ],
            [
             0.5,
             "#f7f7f7"
            ],
            [
             0.6,
             "#e6f5d0"
            ],
            [
             0.7,
             "#b8e186"
            ],
            [
             0.8,
             "#7fbc41"
            ],
            [
             0.9,
             "#4d9221"
            ],
            [
             1,
             "#276419"
            ]
           ],
           "sequential": [
            [
             0,
             "#0d0887"
            ],
            [
             0.1111111111111111,
             "#46039f"
            ],
            [
             0.2222222222222222,
             "#7201a8"
            ],
            [
             0.3333333333333333,
             "#9c179e"
            ],
            [
             0.4444444444444444,
             "#bd3786"
            ],
            [
             0.5555555555555556,
             "#d8576b"
            ],
            [
             0.6666666666666666,
             "#ed7953"
            ],
            [
             0.7777777777777778,
             "#fb9f3a"
            ],
            [
             0.8888888888888888,
             "#fdca26"
            ],
            [
             1,
             "#f0f921"
            ]
           ],
           "sequentialminus": [
            [
             0,
             "#0d0887"
            ],
            [
             0.1111111111111111,
             "#46039f"
            ],
            [
             0.2222222222222222,
             "#7201a8"
            ],
            [
             0.3333333333333333,
             "#9c179e"
            ],
            [
             0.4444444444444444,
             "#bd3786"
            ],
            [
             0.5555555555555556,
             "#d8576b"
            ],
            [
             0.6666666666666666,
             "#ed7953"
            ],
            [
             0.7777777777777778,
             "#fb9f3a"
            ],
            [
             0.8888888888888888,
             "#fdca26"
            ],
            [
             1,
             "#f0f921"
            ]
           ]
          },
          "colorway": [
           "#636efa",
           "#EF553B",
           "#00cc96",
           "#ab63fa",
           "#FFA15A",
           "#19d3f3",
           "#FF6692",
           "#B6E880",
           "#FF97FF",
           "#FECB52"
          ],
          "font": {
           "color": "#2a3f5f"
          },
          "geo": {
           "bgcolor": "white",
           "lakecolor": "white",
           "landcolor": "#E5ECF6",
           "showlakes": true,
           "showland": true,
           "subunitcolor": "white"
          },
          "hoverlabel": {
           "align": "left"
          },
          "hovermode": "closest",
          "mapbox": {
           "style": "light"
          },
          "paper_bgcolor": "white",
          "plot_bgcolor": "#E5ECF6",
          "polar": {
           "angularaxis": {
            "gridcolor": "white",
            "linecolor": "white",
            "ticks": ""
           },
           "bgcolor": "#E5ECF6",
           "radialaxis": {
            "gridcolor": "white",
            "linecolor": "white",
            "ticks": ""
           }
          },
          "scene": {
           "xaxis": {
            "backgroundcolor": "#E5ECF6",
            "gridcolor": "white",
            "gridwidth": 2,
            "linecolor": "white",
            "showbackground": true,
            "ticks": "",
            "zerolinecolor": "white"
           },
           "yaxis": {
            "backgroundcolor": "#E5ECF6",
            "gridcolor": "white",
            "gridwidth": 2,
            "linecolor": "white",
            "showbackground": true,
            "ticks": "",
            "zerolinecolor": "white"
           },
           "zaxis": {
            "backgroundcolor": "#E5ECF6",
            "gridcolor": "white",
            "gridwidth": 2,
            "linecolor": "white",
            "showbackground": true,
            "ticks": "",
            "zerolinecolor": "white"
           }
          },
          "shapedefaults": {
           "line": {
            "color": "#2a3f5f"
           }
          },
          "ternary": {
           "aaxis": {
            "gridcolor": "white",
            "linecolor": "white",
            "ticks": ""
           },
           "baxis": {
            "gridcolor": "white",
            "linecolor": "white",
            "ticks": ""
           },
           "bgcolor": "#E5ECF6",
           "caxis": {
            "gridcolor": "white",
            "linecolor": "white",
            "ticks": ""
           }
          },
          "title": {
           "x": 0.05
          },
          "xaxis": {
           "automargin": true,
           "gridcolor": "white",
           "linecolor": "white",
           "ticks": "",
           "title": {
            "standoff": 15
           },
           "zerolinecolor": "white",
           "zerolinewidth": 2
          },
          "yaxis": {
           "automargin": true,
           "gridcolor": "white",
           "linecolor": "white",
           "ticks": "",
           "title": {
            "standoff": 15
           },
           "zerolinecolor": "white",
           "zerolinewidth": 2
          }
         }
        },
        "title": {
         "text": "추천 포트폴리오"
        }
       }
      },
      "text/html": [
       "<div>                            <div id=\"37f933a3-de0a-40d9-b4f0-91c76c04d878\" class=\"plotly-graph-div\" style=\"height:525px; width:100%;\"></div>            <script type=\"text/javascript\">                require([\"plotly\"], function(Plotly) {                    window.PLOTLYENV=window.PLOTLYENV || {};                                    if (document.getElementById(\"37f933a3-de0a-40d9-b4f0-91c76c04d878\")) {                    Plotly.newPlot(                        \"37f933a3-de0a-40d9-b4f0-91c76c04d878\",                        [{\"domain\": {\"x\": [0.0, 1.0], \"y\": [0.0, 1.0]}, \"hovertemplate\": \"itemname=%{label}<br>wt=%{value}<extra></extra>\", \"labels\": [\"KODEX \\uad6d\\uace0\\ucc443\\ub144\", \"KOSEF \\ud1b5\\uc548\\ucc441\\ub144\", \"KOSEF \\ub2e8\\uae30\\uc790\\uae08\", \"KODEX TRF3070\", \"\\ud604\\uae08\", \"KODEX IT\"], \"legendgroup\": \"\", \"name\": \"\", \"showlegend\": true, \"type\": \"pie\", \"values\": [0.2316588413457018, 0.20242141503942002, 0.20200130833231641, 0.14277626517135353, 0.13582049840659527, 0.08532167170461297]}],                        {\"legend\": {\"tracegroupgap\": 0}, \"piecolorway\": [\"rgb(141,211,199)\", \"rgb(255,255,179)\", \"rgb(190,186,218)\", \"rgb(251,128,114)\", \"rgb(128,177,211)\", \"rgb(253,180,98)\", \"rgb(179,222,105)\", \"rgb(252,205,229)\", \"rgb(217,217,217)\", \"rgb(188,128,189)\", \"rgb(204,235,197)\", \"rgb(255,237,111)\"], \"template\": {\"data\": {\"bar\": [{\"error_x\": {\"color\": \"#2a3f5f\"}, \"error_y\": {\"color\": \"#2a3f5f\"}, \"marker\": {\"line\": {\"color\": \"#E5ECF6\", \"width\": 0.5}}, \"type\": \"bar\"}], \"barpolar\": [{\"marker\": {\"line\": {\"color\": \"#E5ECF6\", \"width\": 0.5}}, \"type\": \"barpolar\"}], \"carpet\": [{\"aaxis\": {\"endlinecolor\": \"#2a3f5f\", \"gridcolor\": \"white\", \"linecolor\": \"white\", \"minorgridcolor\": \"white\", \"startlinecolor\": \"#2a3f5f\"}, \"baxis\": {\"endlinecolor\": \"#2a3f5f\", \"gridcolor\": \"white\", \"linecolor\": \"white\", \"minorgridcolor\": \"white\", \"startlinecolor\": \"#2a3f5f\"}, \"type\": \"carpet\"}], \"choropleth\": [{\"colorbar\": {\"outlinewidth\": 0, \"ticks\": \"\"}, \"type\": \"choropleth\"}], \"contour\": [{\"colorbar\": {\"outlinewidth\": 0, \"ticks\": \"\"}, \"colorscale\": [[0.0, \"#0d0887\"], [0.1111111111111111, \"#46039f\"], [0.2222222222222222, \"#7201a8\"], [0.3333333333333333, \"#9c179e\"], [0.4444444444444444, \"#bd3786\"], [0.5555555555555556, \"#d8576b\"], [0.6666666666666666, \"#ed7953\"], [0.7777777777777778, \"#fb9f3a\"], [0.8888888888888888, \"#fdca26\"], [1.0, \"#f0f921\"]], \"type\": \"contour\"}], \"contourcarpet\": [{\"colorbar\": {\"outlinewidth\": 0, \"ticks\": \"\"}, \"type\": \"contourcarpet\"}], \"heatmap\": [{\"colorbar\": {\"outlinewidth\": 0, \"ticks\": \"\"}, \"colorscale\": [[0.0, \"#0d0887\"], [0.1111111111111111, \"#46039f\"], [0.2222222222222222, \"#7201a8\"], [0.3333333333333333, \"#9c179e\"], [0.4444444444444444, \"#bd3786\"], [0.5555555555555556, \"#d8576b\"], [0.6666666666666666, \"#ed7953\"], [0.7777777777777778, \"#fb9f3a\"], [0.8888888888888888, \"#fdca26\"], [1.0, \"#f0f921\"]], \"type\": \"heatmap\"}], \"heatmapgl\": [{\"colorbar\": {\"outlinewidth\": 0, \"ticks\": \"\"}, \"colorscale\": [[0.0, \"#0d0887\"], [0.1111111111111111, \"#46039f\"], [0.2222222222222222, \"#7201a8\"], [0.3333333333333333, \"#9c179e\"], [0.4444444444444444, \"#bd3786\"], [0.5555555555555556, \"#d8576b\"], [0.6666666666666666, \"#ed7953\"], [0.7777777777777778, \"#fb9f3a\"], [0.8888888888888888, \"#fdca26\"], [1.0, \"#f0f921\"]], \"type\": \"heatmapgl\"}], \"histogram\": [{\"marker\": {\"colorbar\": {\"outlinewidth\": 0, \"ticks\": \"\"}}, \"type\": \"histogram\"}], \"histogram2d\": [{\"colorbar\": {\"outlinewidth\": 0, \"ticks\": \"\"}, \"colorscale\": [[0.0, \"#0d0887\"], [0.1111111111111111, \"#46039f\"], [0.2222222222222222, \"#7201a8\"], [0.3333333333333333, \"#9c179e\"], [0.4444444444444444, \"#bd3786\"], [0.5555555555555556, \"#d8576b\"], [0.6666666666666666, \"#ed7953\"], [0.7777777777777778, \"#fb9f3a\"], [0.8888888888888888, \"#fdca26\"], [1.0, \"#f0f921\"]], \"type\": \"histogram2d\"}], \"histogram2dcontour\": [{\"colorbar\": {\"outlinewidth\": 0, \"ticks\": \"\"}, \"colorscale\": [[0.0, \"#0d0887\"], [0.1111111111111111, \"#46039f\"], [0.2222222222222222, \"#7201a8\"], [0.3333333333333333, \"#9c179e\"], [0.4444444444444444, \"#bd3786\"], [0.5555555555555556, \"#d8576b\"], [0.6666666666666666, \"#ed7953\"], [0.7777777777777778, \"#fb9f3a\"], [0.8888888888888888, \"#fdca26\"], [1.0, \"#f0f921\"]], \"type\": \"histogram2dcontour\"}], \"mesh3d\": [{\"colorbar\": {\"outlinewidth\": 0, \"ticks\": \"\"}, \"type\": \"mesh3d\"}], \"parcoords\": [{\"line\": {\"colorbar\": {\"outlinewidth\": 0, \"ticks\": \"\"}}, \"type\": \"parcoords\"}], \"pie\": [{\"automargin\": true, \"type\": \"pie\"}], \"scatter\": [{\"marker\": {\"colorbar\": {\"outlinewidth\": 0, \"ticks\": \"\"}}, \"type\": \"scatter\"}], \"scatter3d\": [{\"line\": {\"colorbar\": {\"outlinewidth\": 0, \"ticks\": \"\"}}, \"marker\": {\"colorbar\": {\"outlinewidth\": 0, \"ticks\": \"\"}}, \"type\": \"scatter3d\"}], \"scattercarpet\": [{\"marker\": {\"colorbar\": {\"outlinewidth\": 0, \"ticks\": \"\"}}, \"type\": \"scattercarpet\"}], \"scattergeo\": [{\"marker\": {\"colorbar\": {\"outlinewidth\": 0, \"ticks\": \"\"}}, \"type\": \"scattergeo\"}], \"scattergl\": [{\"marker\": {\"colorbar\": {\"outlinewidth\": 0, \"ticks\": \"\"}}, \"type\": \"scattergl\"}], \"scattermapbox\": [{\"marker\": {\"colorbar\": {\"outlinewidth\": 0, \"ticks\": \"\"}}, \"type\": \"scattermapbox\"}], \"scatterpolar\": [{\"marker\": {\"colorbar\": {\"outlinewidth\": 0, \"ticks\": \"\"}}, \"type\": \"scatterpolar\"}], \"scatterpolargl\": [{\"marker\": {\"colorbar\": {\"outlinewidth\": 0, \"ticks\": \"\"}}, \"type\": \"scatterpolargl\"}], \"scatterternary\": [{\"marker\": {\"colorbar\": {\"outlinewidth\": 0, \"ticks\": \"\"}}, \"type\": \"scatterternary\"}], \"surface\": [{\"colorbar\": {\"outlinewidth\": 0, \"ticks\": \"\"}, \"colorscale\": [[0.0, \"#0d0887\"], [0.1111111111111111, \"#46039f\"], [0.2222222222222222, \"#7201a8\"], [0.3333333333333333, \"#9c179e\"], [0.4444444444444444, \"#bd3786\"], [0.5555555555555556, \"#d8576b\"], [0.6666666666666666, \"#ed7953\"], [0.7777777777777778, \"#fb9f3a\"], [0.8888888888888888, \"#fdca26\"], [1.0, \"#f0f921\"]], \"type\": \"surface\"}], \"table\": [{\"cells\": {\"fill\": {\"color\": \"#EBF0F8\"}, \"line\": {\"color\": \"white\"}}, \"header\": {\"fill\": {\"color\": \"#C8D4E3\"}, \"line\": {\"color\": \"white\"}}, \"type\": \"table\"}]}, \"layout\": {\"annotationdefaults\": {\"arrowcolor\": \"#2a3f5f\", \"arrowhead\": 0, \"arrowwidth\": 1}, \"autotypenumbers\": \"strict\", \"coloraxis\": {\"colorbar\": {\"outlinewidth\": 0, \"ticks\": \"\"}}, \"colorscale\": {\"diverging\": [[0, \"#8e0152\"], [0.1, \"#c51b7d\"], [0.2, \"#de77ae\"], [0.3, \"#f1b6da\"], [0.4, \"#fde0ef\"], [0.5, \"#f7f7f7\"], [0.6, \"#e6f5d0\"], [0.7, \"#b8e186\"], [0.8, \"#7fbc41\"], [0.9, \"#4d9221\"], [1, \"#276419\"]], \"sequential\": [[0.0, \"#0d0887\"], [0.1111111111111111, \"#46039f\"], [0.2222222222222222, \"#7201a8\"], [0.3333333333333333, \"#9c179e\"], [0.4444444444444444, \"#bd3786\"], [0.5555555555555556, \"#d8576b\"], [0.6666666666666666, \"#ed7953\"], [0.7777777777777778, \"#fb9f3a\"], [0.8888888888888888, \"#fdca26\"], [1.0, \"#f0f921\"]], \"sequentialminus\": [[0.0, \"#0d0887\"], [0.1111111111111111, \"#46039f\"], [0.2222222222222222, \"#7201a8\"], [0.3333333333333333, \"#9c179e\"], [0.4444444444444444, \"#bd3786\"], [0.5555555555555556, \"#d8576b\"], [0.6666666666666666, \"#ed7953\"], [0.7777777777777778, \"#fb9f3a\"], [0.8888888888888888, \"#fdca26\"], [1.0, \"#f0f921\"]]}, \"colorway\": [\"#636efa\", \"#EF553B\", \"#00cc96\", \"#ab63fa\", \"#FFA15A\", \"#19d3f3\", \"#FF6692\", \"#B6E880\", \"#FF97FF\", \"#FECB52\"], \"font\": {\"color\": \"#2a3f5f\"}, \"geo\": {\"bgcolor\": \"white\", \"lakecolor\": \"white\", \"landcolor\": \"#E5ECF6\", \"showlakes\": true, \"showland\": true, \"subunitcolor\": \"white\"}, \"hoverlabel\": {\"align\": \"left\"}, \"hovermode\": \"closest\", \"mapbox\": {\"style\": \"light\"}, \"paper_bgcolor\": \"white\", \"plot_bgcolor\": \"#E5ECF6\", \"polar\": {\"angularaxis\": {\"gridcolor\": \"white\", \"linecolor\": \"white\", \"ticks\": \"\"}, \"bgcolor\": \"#E5ECF6\", \"radialaxis\": {\"gridcolor\": \"white\", \"linecolor\": \"white\", \"ticks\": \"\"}}, \"scene\": {\"xaxis\": {\"backgroundcolor\": \"#E5ECF6\", \"gridcolor\": \"white\", \"gridwidth\": 2, \"linecolor\": \"white\", \"showbackground\": true, \"ticks\": \"\", \"zerolinecolor\": \"white\"}, \"yaxis\": {\"backgroundcolor\": \"#E5ECF6\", \"gridcolor\": \"white\", \"gridwidth\": 2, \"linecolor\": \"white\", \"showbackground\": true, \"ticks\": \"\", \"zerolinecolor\": \"white\"}, \"zaxis\": {\"backgroundcolor\": \"#E5ECF6\", \"gridcolor\": \"white\", \"gridwidth\": 2, \"linecolor\": \"white\", \"showbackground\": true, \"ticks\": \"\", \"zerolinecolor\": \"white\"}}, \"shapedefaults\": {\"line\": {\"color\": \"#2a3f5f\"}}, \"ternary\": {\"aaxis\": {\"gridcolor\": \"white\", \"linecolor\": \"white\", \"ticks\": \"\"}, \"baxis\": {\"gridcolor\": \"white\", \"linecolor\": \"white\", \"ticks\": \"\"}, \"bgcolor\": \"#E5ECF6\", \"caxis\": {\"gridcolor\": \"white\", \"linecolor\": \"white\", \"ticks\": \"\"}}, \"title\": {\"x\": 0.05}, \"xaxis\": {\"automargin\": true, \"gridcolor\": \"white\", \"linecolor\": \"white\", \"ticks\": \"\", \"title\": {\"standoff\": 15}, \"zerolinecolor\": \"white\", \"zerolinewidth\": 2}, \"yaxis\": {\"automargin\": true, \"gridcolor\": \"white\", \"linecolor\": \"white\", \"ticks\": \"\", \"title\": {\"standoff\": 15}, \"zerolinecolor\": \"white\", \"zerolinewidth\": 2}}}, \"title\": {\"text\": \"\\ucd94\\ucc9c \\ud3ec\\ud2b8\\ud3f4\\ub9ac\\uc624\"}},                        {\"responsive\": true}                    ).then(function(){\n",
       "                            \n",
       "var gd = document.getElementById('37f933a3-de0a-40d9-b4f0-91c76c04d878');\n",
       "var x = new MutationObserver(function (mutations, observer) {{\n",
       "        var display = window.getComputedStyle(gd).display;\n",
       "        if (!display || display === 'none') {{\n",
       "            console.log([gd, 'removed!']);\n",
       "            Plotly.purge(gd);\n",
       "            observer.disconnect();\n",
       "        }}\n",
       "}});\n",
       "\n",
       "// Listen for the removal of the full notebook cells\n",
       "var notebookContainer = gd.closest('#notebook-container');\n",
       "if (notebookContainer) {{\n",
       "    x.observe(notebookContainer, {childList: true});\n",
       "}}\n",
       "\n",
       "// Listen for the clearing of the current output cell\n",
       "var outputEl = gd.closest('.output');\n",
       "if (outputEl) {{\n",
       "    x.observe(outputEl, {childList: true});\n",
       "}}\n",
       "\n",
       "                        })                };                });            </script>        </div>"
      ]
     },
     "metadata": {},
     "output_type": "display_data"
    }
   ],
   "source": [
    "fig1 = px.pie(v, names = 'itemname', values = 'wt', title = \"추천 포트폴리오\", color_discrete_sequence=px.colors.qualitative.Set3)\n",
    "fig1.show()"
   ]
  },
  {
   "cell_type": "code",
   "execution_count": 64,
   "id": "forty-arrest",
   "metadata": {
    "ExecuteTime": {
     "end_time": "2021-03-23T23:17:21.820267Z",
     "start_time": "2021-03-23T23:17:21.813286Z"
    }
   },
   "outputs": [
    {
     "data": {
      "text/html": [
       "<div>\n",
       "<style scoped>\n",
       "    .dataframe tbody tr th:only-of-type {\n",
       "        vertical-align: middle;\n",
       "    }\n",
       "\n",
       "    .dataframe tbody tr th {\n",
       "        vertical-align: top;\n",
       "    }\n",
       "\n",
       "    .dataframe thead th {\n",
       "        text-align: right;\n",
       "    }\n",
       "</style>\n",
       "<table border=\"1\" class=\"dataframe\">\n",
       "  <thead>\n",
       "    <tr style=\"text-align: right;\">\n",
       "      <th></th>\n",
       "      <th>asset_class</th>\n",
       "      <th>wt</th>\n",
       "    </tr>\n",
       "  </thead>\n",
       "  <tbody>\n",
       "    <tr>\n",
       "      <th>0</th>\n",
       "      <td>Fixed Income</td>\n",
       "      <td>0.636082</td>\n",
       "    </tr>\n",
       "    <tr>\n",
       "      <th>1</th>\n",
       "      <td>Alternative</td>\n",
       "      <td>0.142776</td>\n",
       "    </tr>\n",
       "    <tr>\n",
       "      <th>2</th>\n",
       "      <td>Cash</td>\n",
       "      <td>0.135820</td>\n",
       "    </tr>\n",
       "    <tr>\n",
       "      <th>3</th>\n",
       "      <td>Equity</td>\n",
       "      <td>0.085322</td>\n",
       "    </tr>\n",
       "  </tbody>\n",
       "</table>\n",
       "</div>"
      ],
      "text/plain": [
       "    asset_class        wt\n",
       "0  Fixed Income  0.636082\n",
       "1   Alternative  0.142776\n",
       "2          Cash  0.135820\n",
       "3        Equity  0.085322"
      ]
     },
     "execution_count": 64,
     "metadata": {},
     "output_type": "execute_result"
    }
   ],
   "source": [
    "df_by_asset_class.loc[:, ['asset_class', 'wt']]"
   ]
  },
  {
   "cell_type": "code",
   "execution_count": 65,
   "id": "attended-clark",
   "metadata": {
    "ExecuteTime": {
     "end_time": "2021-03-23T23:17:33.023788Z",
     "start_time": "2021-03-23T23:17:32.980905Z"
    }
   },
   "outputs": [
    {
     "data": {
      "application/vnd.plotly.v1+json": {
       "config": {
        "plotlyServerURL": "https://plot.ly"
       },
       "data": [
        {
         "alignmentgroup": "True",
         "hovertemplate": "자산군=%{x}<br>비중=%{y}<extra></extra>",
         "legendgroup": "Fixed Income",
         "marker": {
          "color": "#636efa"
         },
         "name": "Fixed Income",
         "offsetgroup": "Fixed Income",
         "orientation": "v",
         "showlegend": true,
         "textposition": "auto",
         "type": "bar",
         "x": [
          "Fixed Income"
         ],
         "xaxis": "x",
         "y": [
          0.6360815647174383
         ],
         "yaxis": "y"
        },
        {
         "alignmentgroup": "True",
         "hovertemplate": "자산군=%{x}<br>비중=%{y}<extra></extra>",
         "legendgroup": "Alternative",
         "marker": {
          "color": "#EF553B"
         },
         "name": "Alternative",
         "offsetgroup": "Alternative",
         "orientation": "v",
         "showlegend": true,
         "textposition": "auto",
         "type": "bar",
         "x": [
          "Alternative"
         ],
         "xaxis": "x",
         "y": [
          0.14277626517135353
         ],
         "yaxis": "y"
        },
        {
         "alignmentgroup": "True",
         "hovertemplate": "자산군=%{x}<br>비중=%{y}<extra></extra>",
         "legendgroup": "Cash",
         "marker": {
          "color": "#00cc96"
         },
         "name": "Cash",
         "offsetgroup": "Cash",
         "orientation": "v",
         "showlegend": true,
         "textposition": "auto",
         "type": "bar",
         "x": [
          "Cash"
         ],
         "xaxis": "x",
         "y": [
          0.13582049840659527
         ],
         "yaxis": "y"
        },
        {
         "alignmentgroup": "True",
         "hovertemplate": "자산군=%{x}<br>비중=%{y}<extra></extra>",
         "legendgroup": "Equity",
         "marker": {
          "color": "#ab63fa"
         },
         "name": "Equity",
         "offsetgroup": "Equity",
         "orientation": "v",
         "showlegend": true,
         "textposition": "auto",
         "type": "bar",
         "x": [
          "Equity"
         ],
         "xaxis": "x",
         "y": [
          0.08532167170461297
         ],
         "yaxis": "y"
        }
       ],
       "layout": {
        "barmode": "relative",
        "legend": {
         "title": {
          "text": "자산군"
         },
         "tracegroupgap": 0
        },
        "template": {
         "data": {
          "bar": [
           {
            "error_x": {
             "color": "#f2f5fa"
            },
            "error_y": {
             "color": "#f2f5fa"
            },
            "marker": {
             "line": {
              "color": "rgb(17,17,17)",
              "width": 0.5
             }
            },
            "type": "bar"
           }
          ],
          "barpolar": [
           {
            "marker": {
             "line": {
              "color": "rgb(17,17,17)",
              "width": 0.5
             }
            },
            "type": "barpolar"
           }
          ],
          "carpet": [
           {
            "aaxis": {
             "endlinecolor": "#A2B1C6",
             "gridcolor": "#506784",
             "linecolor": "#506784",
             "minorgridcolor": "#506784",
             "startlinecolor": "#A2B1C6"
            },
            "baxis": {
             "endlinecolor": "#A2B1C6",
             "gridcolor": "#506784",
             "linecolor": "#506784",
             "minorgridcolor": "#506784",
             "startlinecolor": "#A2B1C6"
            },
            "type": "carpet"
           }
          ],
          "choropleth": [
           {
            "colorbar": {
             "outlinewidth": 0,
             "ticks": ""
            },
            "type": "choropleth"
           }
          ],
          "contour": [
           {
            "colorbar": {
             "outlinewidth": 0,
             "ticks": ""
            },
            "colorscale": [
             [
              0,
              "#0d0887"
             ],
             [
              0.1111111111111111,
              "#46039f"
             ],
             [
              0.2222222222222222,
              "#7201a8"
             ],
             [
              0.3333333333333333,
              "#9c179e"
             ],
             [
              0.4444444444444444,
              "#bd3786"
             ],
             [
              0.5555555555555556,
              "#d8576b"
             ],
             [
              0.6666666666666666,
              "#ed7953"
             ],
             [
              0.7777777777777778,
              "#fb9f3a"
             ],
             [
              0.8888888888888888,
              "#fdca26"
             ],
             [
              1,
              "#f0f921"
             ]
            ],
            "type": "contour"
           }
          ],
          "contourcarpet": [
           {
            "colorbar": {
             "outlinewidth": 0,
             "ticks": ""
            },
            "type": "contourcarpet"
           }
          ],
          "heatmap": [
           {
            "colorbar": {
             "outlinewidth": 0,
             "ticks": ""
            },
            "colorscale": [
             [
              0,
              "#0d0887"
             ],
             [
              0.1111111111111111,
              "#46039f"
             ],
             [
              0.2222222222222222,
              "#7201a8"
             ],
             [
              0.3333333333333333,
              "#9c179e"
             ],
             [
              0.4444444444444444,
              "#bd3786"
             ],
             [
              0.5555555555555556,
              "#d8576b"
             ],
             [
              0.6666666666666666,
              "#ed7953"
             ],
             [
              0.7777777777777778,
              "#fb9f3a"
             ],
             [
              0.8888888888888888,
              "#fdca26"
             ],
             [
              1,
              "#f0f921"
             ]
            ],
            "type": "heatmap"
           }
          ],
          "heatmapgl": [
           {
            "colorbar": {
             "outlinewidth": 0,
             "ticks": ""
            },
            "colorscale": [
             [
              0,
              "#0d0887"
             ],
             [
              0.1111111111111111,
              "#46039f"
             ],
             [
              0.2222222222222222,
              "#7201a8"
             ],
             [
              0.3333333333333333,
              "#9c179e"
             ],
             [
              0.4444444444444444,
              "#bd3786"
             ],
             [
              0.5555555555555556,
              "#d8576b"
             ],
             [
              0.6666666666666666,
              "#ed7953"
             ],
             [
              0.7777777777777778,
              "#fb9f3a"
             ],
             [
              0.8888888888888888,
              "#fdca26"
             ],
             [
              1,
              "#f0f921"
             ]
            ],
            "type": "heatmapgl"
           }
          ],
          "histogram": [
           {
            "marker": {
             "colorbar": {
              "outlinewidth": 0,
              "ticks": ""
             }
            },
            "type": "histogram"
           }
          ],
          "histogram2d": [
           {
            "colorbar": {
             "outlinewidth": 0,
             "ticks": ""
            },
            "colorscale": [
             [
              0,
              "#0d0887"
             ],
             [
              0.1111111111111111,
              "#46039f"
             ],
             [
              0.2222222222222222,
              "#7201a8"
             ],
             [
              0.3333333333333333,
              "#9c179e"
             ],
             [
              0.4444444444444444,
              "#bd3786"
             ],
             [
              0.5555555555555556,
              "#d8576b"
             ],
             [
              0.6666666666666666,
              "#ed7953"
             ],
             [
              0.7777777777777778,
              "#fb9f3a"
             ],
             [
              0.8888888888888888,
              "#fdca26"
             ],
             [
              1,
              "#f0f921"
             ]
            ],
            "type": "histogram2d"
           }
          ],
          "histogram2dcontour": [
           {
            "colorbar": {
             "outlinewidth": 0,
             "ticks": ""
            },
            "colorscale": [
             [
              0,
              "#0d0887"
             ],
             [
              0.1111111111111111,
              "#46039f"
             ],
             [
              0.2222222222222222,
              "#7201a8"
             ],
             [
              0.3333333333333333,
              "#9c179e"
             ],
             [
              0.4444444444444444,
              "#bd3786"
             ],
             [
              0.5555555555555556,
              "#d8576b"
             ],
             [
              0.6666666666666666,
              "#ed7953"
             ],
             [
              0.7777777777777778,
              "#fb9f3a"
             ],
             [
              0.8888888888888888,
              "#fdca26"
             ],
             [
              1,
              "#f0f921"
             ]
            ],
            "type": "histogram2dcontour"
           }
          ],
          "mesh3d": [
           {
            "colorbar": {
             "outlinewidth": 0,
             "ticks": ""
            },
            "type": "mesh3d"
           }
          ],
          "parcoords": [
           {
            "line": {
             "colorbar": {
              "outlinewidth": 0,
              "ticks": ""
             }
            },
            "type": "parcoords"
           }
          ],
          "pie": [
           {
            "automargin": true,
            "type": "pie"
           }
          ],
          "scatter": [
           {
            "marker": {
             "line": {
              "color": "#283442"
             }
            },
            "type": "scatter"
           }
          ],
          "scatter3d": [
           {
            "line": {
             "colorbar": {
              "outlinewidth": 0,
              "ticks": ""
             }
            },
            "marker": {
             "colorbar": {
              "outlinewidth": 0,
              "ticks": ""
             }
            },
            "type": "scatter3d"
           }
          ],
          "scattercarpet": [
           {
            "marker": {
             "colorbar": {
              "outlinewidth": 0,
              "ticks": ""
             }
            },
            "type": "scattercarpet"
           }
          ],
          "scattergeo": [
           {
            "marker": {
             "colorbar": {
              "outlinewidth": 0,
              "ticks": ""
             }
            },
            "type": "scattergeo"
           }
          ],
          "scattergl": [
           {
            "marker": {
             "line": {
              "color": "#283442"
             }
            },
            "type": "scattergl"
           }
          ],
          "scattermapbox": [
           {
            "marker": {
             "colorbar": {
              "outlinewidth": 0,
              "ticks": ""
             }
            },
            "type": "scattermapbox"
           }
          ],
          "scatterpolar": [
           {
            "marker": {
             "colorbar": {
              "outlinewidth": 0,
              "ticks": ""
             }
            },
            "type": "scatterpolar"
           }
          ],
          "scatterpolargl": [
           {
            "marker": {
             "colorbar": {
              "outlinewidth": 0,
              "ticks": ""
             }
            },
            "type": "scatterpolargl"
           }
          ],
          "scatterternary": [
           {
            "marker": {
             "colorbar": {
              "outlinewidth": 0,
              "ticks": ""
             }
            },
            "type": "scatterternary"
           }
          ],
          "surface": [
           {
            "colorbar": {
             "outlinewidth": 0,
             "ticks": ""
            },
            "colorscale": [
             [
              0,
              "#0d0887"
             ],
             [
              0.1111111111111111,
              "#46039f"
             ],
             [
              0.2222222222222222,
              "#7201a8"
             ],
             [
              0.3333333333333333,
              "#9c179e"
             ],
             [
              0.4444444444444444,
              "#bd3786"
             ],
             [
              0.5555555555555556,
              "#d8576b"
             ],
             [
              0.6666666666666666,
              "#ed7953"
             ],
             [
              0.7777777777777778,
              "#fb9f3a"
             ],
             [
              0.8888888888888888,
              "#fdca26"
             ],
             [
              1,
              "#f0f921"
             ]
            ],
            "type": "surface"
           }
          ],
          "table": [
           {
            "cells": {
             "fill": {
              "color": "#506784"
             },
             "line": {
              "color": "rgb(17,17,17)"
             }
            },
            "header": {
             "fill": {
              "color": "#2a3f5f"
             },
             "line": {
              "color": "rgb(17,17,17)"
             }
            },
            "type": "table"
           }
          ]
         },
         "layout": {
          "annotationdefaults": {
           "arrowcolor": "#f2f5fa",
           "arrowhead": 0,
           "arrowwidth": 1
          },
          "autotypenumbers": "strict",
          "coloraxis": {
           "colorbar": {
            "outlinewidth": 0,
            "ticks": ""
           }
          },
          "colorscale": {
           "diverging": [
            [
             0,
             "#8e0152"
            ],
            [
             0.1,
             "#c51b7d"
            ],
            [
             0.2,
             "#de77ae"
            ],
            [
             0.3,
             "#f1b6da"
            ],
            [
             0.4,
             "#fde0ef"
            ],
            [
             0.5,
             "#f7f7f7"
            ],
            [
             0.6,
             "#e6f5d0"
            ],
            [
             0.7,
             "#b8e186"
            ],
            [
             0.8,
             "#7fbc41"
            ],
            [
             0.9,
             "#4d9221"
            ],
            [
             1,
             "#276419"
            ]
           ],
           "sequential": [
            [
             0,
             "#0d0887"
            ],
            [
             0.1111111111111111,
             "#46039f"
            ],
            [
             0.2222222222222222,
             "#7201a8"
            ],
            [
             0.3333333333333333,
             "#9c179e"
            ],
            [
             0.4444444444444444,
             "#bd3786"
            ],
            [
             0.5555555555555556,
             "#d8576b"
            ],
            [
             0.6666666666666666,
             "#ed7953"
            ],
            [
             0.7777777777777778,
             "#fb9f3a"
            ],
            [
             0.8888888888888888,
             "#fdca26"
            ],
            [
             1,
             "#f0f921"
            ]
           ],
           "sequentialminus": [
            [
             0,
             "#0d0887"
            ],
            [
             0.1111111111111111,
             "#46039f"
            ],
            [
             0.2222222222222222,
             "#7201a8"
            ],
            [
             0.3333333333333333,
             "#9c179e"
            ],
            [
             0.4444444444444444,
             "#bd3786"
            ],
            [
             0.5555555555555556,
             "#d8576b"
            ],
            [
             0.6666666666666666,
             "#ed7953"
            ],
            [
             0.7777777777777778,
             "#fb9f3a"
            ],
            [
             0.8888888888888888,
             "#fdca26"
            ],
            [
             1,
             "#f0f921"
            ]
           ]
          },
          "colorway": [
           "#636efa",
           "#EF553B",
           "#00cc96",
           "#ab63fa",
           "#FFA15A",
           "#19d3f3",
           "#FF6692",
           "#B6E880",
           "#FF97FF",
           "#FECB52"
          ],
          "font": {
           "color": "#f2f5fa"
          },
          "geo": {
           "bgcolor": "rgb(17,17,17)",
           "lakecolor": "rgb(17,17,17)",
           "landcolor": "rgb(17,17,17)",
           "showlakes": true,
           "showland": true,
           "subunitcolor": "#506784"
          },
          "hoverlabel": {
           "align": "left"
          },
          "hovermode": "closest",
          "mapbox": {
           "style": "dark"
          },
          "paper_bgcolor": "rgb(17,17,17)",
          "plot_bgcolor": "rgb(17,17,17)",
          "polar": {
           "angularaxis": {
            "gridcolor": "#506784",
            "linecolor": "#506784",
            "ticks": ""
           },
           "bgcolor": "rgb(17,17,17)",
           "radialaxis": {
            "gridcolor": "#506784",
            "linecolor": "#506784",
            "ticks": ""
           }
          },
          "scene": {
           "xaxis": {
            "backgroundcolor": "rgb(17,17,17)",
            "gridcolor": "#506784",
            "gridwidth": 2,
            "linecolor": "#506784",
            "showbackground": true,
            "ticks": "",
            "zerolinecolor": "#C8D4E3"
           },
           "yaxis": {
            "backgroundcolor": "rgb(17,17,17)",
            "gridcolor": "#506784",
            "gridwidth": 2,
            "linecolor": "#506784",
            "showbackground": true,
            "ticks": "",
            "zerolinecolor": "#C8D4E3"
           },
           "zaxis": {
            "backgroundcolor": "rgb(17,17,17)",
            "gridcolor": "#506784",
            "gridwidth": 2,
            "linecolor": "#506784",
            "showbackground": true,
            "ticks": "",
            "zerolinecolor": "#C8D4E3"
           }
          },
          "shapedefaults": {
           "line": {
            "color": "#f2f5fa"
           }
          },
          "sliderdefaults": {
           "bgcolor": "#C8D4E3",
           "bordercolor": "rgb(17,17,17)",
           "borderwidth": 1,
           "tickwidth": 0
          },
          "ternary": {
           "aaxis": {
            "gridcolor": "#506784",
            "linecolor": "#506784",
            "ticks": ""
           },
           "baxis": {
            "gridcolor": "#506784",
            "linecolor": "#506784",
            "ticks": ""
           },
           "bgcolor": "rgb(17,17,17)",
           "caxis": {
            "gridcolor": "#506784",
            "linecolor": "#506784",
            "ticks": ""
           }
          },
          "title": {
           "x": 0.05
          },
          "updatemenudefaults": {
           "bgcolor": "#506784",
           "borderwidth": 0
          },
          "xaxis": {
           "automargin": true,
           "gridcolor": "#283442",
           "linecolor": "#506784",
           "ticks": "",
           "title": {
            "standoff": 15
           },
           "zerolinecolor": "#283442",
           "zerolinewidth": 2
          },
          "yaxis": {
           "automargin": true,
           "gridcolor": "#283442",
           "linecolor": "#506784",
           "ticks": "",
           "title": {
            "standoff": 15
           },
           "zerolinecolor": "#283442",
           "zerolinewidth": 2
          }
         }
        },
        "title": {
         "text": "자산군별 비중"
        },
        "xaxis": {
         "anchor": "y",
         "categoryarray": [
          "Fixed Income",
          "Alternative",
          "Cash",
          "Equity"
         ],
         "categoryorder": "array",
         "domain": [
          0,
          1
         ],
         "title": {
          "text": "자산군"
         }
        },
        "yaxis": {
         "anchor": "x",
         "domain": [
          0,
          1
         ],
         "title": {
          "text": "비중"
         }
        }
       }
      },
      "text/html": [
       "<div>                            <div id=\"69a2ca8a-41fe-4103-827a-5c08d0dc90ba\" class=\"plotly-graph-div\" style=\"height:525px; width:100%;\"></div>            <script type=\"text/javascript\">                require([\"plotly\"], function(Plotly) {                    window.PLOTLYENV=window.PLOTLYENV || {};                                    if (document.getElementById(\"69a2ca8a-41fe-4103-827a-5c08d0dc90ba\")) {                    Plotly.newPlot(                        \"69a2ca8a-41fe-4103-827a-5c08d0dc90ba\",                        [{\"alignmentgroup\": \"True\", \"hovertemplate\": \"\\uc790\\uc0b0\\uad70=%{x}<br>\\ube44\\uc911=%{y}<extra></extra>\", \"legendgroup\": \"Fixed Income\", \"marker\": {\"color\": \"#636efa\"}, \"name\": \"Fixed Income\", \"offsetgroup\": \"Fixed Income\", \"orientation\": \"v\", \"showlegend\": true, \"textposition\": \"auto\", \"type\": \"bar\", \"x\": [\"Fixed Income\"], \"xaxis\": \"x\", \"y\": [0.6360815647174383], \"yaxis\": \"y\"}, {\"alignmentgroup\": \"True\", \"hovertemplate\": \"\\uc790\\uc0b0\\uad70=%{x}<br>\\ube44\\uc911=%{y}<extra></extra>\", \"legendgroup\": \"Alternative\", \"marker\": {\"color\": \"#EF553B\"}, \"name\": \"Alternative\", \"offsetgroup\": \"Alternative\", \"orientation\": \"v\", \"showlegend\": true, \"textposition\": \"auto\", \"type\": \"bar\", \"x\": [\"Alternative\"], \"xaxis\": \"x\", \"y\": [0.14277626517135353], \"yaxis\": \"y\"}, {\"alignmentgroup\": \"True\", \"hovertemplate\": \"\\uc790\\uc0b0\\uad70=%{x}<br>\\ube44\\uc911=%{y}<extra></extra>\", \"legendgroup\": \"Cash\", \"marker\": {\"color\": \"#00cc96\"}, \"name\": \"Cash\", \"offsetgroup\": \"Cash\", \"orientation\": \"v\", \"showlegend\": true, \"textposition\": \"auto\", \"type\": \"bar\", \"x\": [\"Cash\"], \"xaxis\": \"x\", \"y\": [0.13582049840659527], \"yaxis\": \"y\"}, {\"alignmentgroup\": \"True\", \"hovertemplate\": \"\\uc790\\uc0b0\\uad70=%{x}<br>\\ube44\\uc911=%{y}<extra></extra>\", \"legendgroup\": \"Equity\", \"marker\": {\"color\": \"#ab63fa\"}, \"name\": \"Equity\", \"offsetgroup\": \"Equity\", \"orientation\": \"v\", \"showlegend\": true, \"textposition\": \"auto\", \"type\": \"bar\", \"x\": [\"Equity\"], \"xaxis\": \"x\", \"y\": [0.08532167170461297], \"yaxis\": \"y\"}],                        {\"barmode\": \"relative\", \"legend\": {\"title\": {\"text\": \"\\uc790\\uc0b0\\uad70\"}, \"tracegroupgap\": 0}, \"template\": {\"data\": {\"bar\": [{\"error_x\": {\"color\": \"#f2f5fa\"}, \"error_y\": {\"color\": \"#f2f5fa\"}, \"marker\": {\"line\": {\"color\": \"rgb(17,17,17)\", \"width\": 0.5}}, \"type\": \"bar\"}], \"barpolar\": [{\"marker\": {\"line\": {\"color\": \"rgb(17,17,17)\", \"width\": 0.5}}, \"type\": \"barpolar\"}], \"carpet\": [{\"aaxis\": {\"endlinecolor\": \"#A2B1C6\", \"gridcolor\": \"#506784\", \"linecolor\": \"#506784\", \"minorgridcolor\": \"#506784\", \"startlinecolor\": \"#A2B1C6\"}, \"baxis\": {\"endlinecolor\": \"#A2B1C6\", \"gridcolor\": \"#506784\", \"linecolor\": \"#506784\", \"minorgridcolor\": \"#506784\", \"startlinecolor\": \"#A2B1C6\"}, \"type\": \"carpet\"}], \"choropleth\": [{\"colorbar\": {\"outlinewidth\": 0, \"ticks\": \"\"}, \"type\": \"choropleth\"}], \"contour\": [{\"colorbar\": {\"outlinewidth\": 0, \"ticks\": \"\"}, \"colorscale\": [[0.0, \"#0d0887\"], [0.1111111111111111, \"#46039f\"], [0.2222222222222222, \"#7201a8\"], [0.3333333333333333, \"#9c179e\"], [0.4444444444444444, \"#bd3786\"], [0.5555555555555556, \"#d8576b\"], [0.6666666666666666, \"#ed7953\"], [0.7777777777777778, \"#fb9f3a\"], [0.8888888888888888, \"#fdca26\"], [1.0, \"#f0f921\"]], \"type\": \"contour\"}], \"contourcarpet\": [{\"colorbar\": {\"outlinewidth\": 0, \"ticks\": \"\"}, \"type\": \"contourcarpet\"}], \"heatmap\": [{\"colorbar\": {\"outlinewidth\": 0, \"ticks\": \"\"}, \"colorscale\": [[0.0, \"#0d0887\"], [0.1111111111111111, \"#46039f\"], [0.2222222222222222, \"#7201a8\"], [0.3333333333333333, \"#9c179e\"], [0.4444444444444444, \"#bd3786\"], [0.5555555555555556, \"#d8576b\"], [0.6666666666666666, \"#ed7953\"], [0.7777777777777778, \"#fb9f3a\"], [0.8888888888888888, \"#fdca26\"], [1.0, \"#f0f921\"]], \"type\": \"heatmap\"}], \"heatmapgl\": [{\"colorbar\": {\"outlinewidth\": 0, \"ticks\": \"\"}, \"colorscale\": [[0.0, \"#0d0887\"], [0.1111111111111111, \"#46039f\"], [0.2222222222222222, \"#7201a8\"], [0.3333333333333333, \"#9c179e\"], [0.4444444444444444, \"#bd3786\"], [0.5555555555555556, \"#d8576b\"], [0.6666666666666666, \"#ed7953\"], [0.7777777777777778, \"#fb9f3a\"], [0.8888888888888888, \"#fdca26\"], [1.0, \"#f0f921\"]], \"type\": \"heatmapgl\"}], \"histogram\": [{\"marker\": {\"colorbar\": {\"outlinewidth\": 0, \"ticks\": \"\"}}, \"type\": \"histogram\"}], \"histogram2d\": [{\"colorbar\": {\"outlinewidth\": 0, \"ticks\": \"\"}, \"colorscale\": [[0.0, \"#0d0887\"], [0.1111111111111111, \"#46039f\"], [0.2222222222222222, \"#7201a8\"], [0.3333333333333333, \"#9c179e\"], [0.4444444444444444, \"#bd3786\"], [0.5555555555555556, \"#d8576b\"], [0.6666666666666666, \"#ed7953\"], [0.7777777777777778, \"#fb9f3a\"], [0.8888888888888888, \"#fdca26\"], [1.0, \"#f0f921\"]], \"type\": \"histogram2d\"}], \"histogram2dcontour\": [{\"colorbar\": {\"outlinewidth\": 0, \"ticks\": \"\"}, \"colorscale\": [[0.0, \"#0d0887\"], [0.1111111111111111, \"#46039f\"], [0.2222222222222222, \"#7201a8\"], [0.3333333333333333, \"#9c179e\"], [0.4444444444444444, \"#bd3786\"], [0.5555555555555556, \"#d8576b\"], [0.6666666666666666, \"#ed7953\"], [0.7777777777777778, \"#fb9f3a\"], [0.8888888888888888, \"#fdca26\"], [1.0, \"#f0f921\"]], \"type\": \"histogram2dcontour\"}], \"mesh3d\": [{\"colorbar\": {\"outlinewidth\": 0, \"ticks\": \"\"}, \"type\": \"mesh3d\"}], \"parcoords\": [{\"line\": {\"colorbar\": {\"outlinewidth\": 0, \"ticks\": \"\"}}, \"type\": \"parcoords\"}], \"pie\": [{\"automargin\": true, \"type\": \"pie\"}], \"scatter\": [{\"marker\": {\"line\": {\"color\": \"#283442\"}}, \"type\": \"scatter\"}], \"scatter3d\": [{\"line\": {\"colorbar\": {\"outlinewidth\": 0, \"ticks\": \"\"}}, \"marker\": {\"colorbar\": {\"outlinewidth\": 0, \"ticks\": \"\"}}, \"type\": \"scatter3d\"}], \"scattercarpet\": [{\"marker\": {\"colorbar\": {\"outlinewidth\": 0, \"ticks\": \"\"}}, \"type\": \"scattercarpet\"}], \"scattergeo\": [{\"marker\": {\"colorbar\": {\"outlinewidth\": 0, \"ticks\": \"\"}}, \"type\": \"scattergeo\"}], \"scattergl\": [{\"marker\": {\"line\": {\"color\": \"#283442\"}}, \"type\": \"scattergl\"}], \"scattermapbox\": [{\"marker\": {\"colorbar\": {\"outlinewidth\": 0, \"ticks\": \"\"}}, \"type\": \"scattermapbox\"}], \"scatterpolar\": [{\"marker\": {\"colorbar\": {\"outlinewidth\": 0, \"ticks\": \"\"}}, \"type\": \"scatterpolar\"}], \"scatterpolargl\": [{\"marker\": {\"colorbar\": {\"outlinewidth\": 0, \"ticks\": \"\"}}, \"type\": \"scatterpolargl\"}], \"scatterternary\": [{\"marker\": {\"colorbar\": {\"outlinewidth\": 0, \"ticks\": \"\"}}, \"type\": \"scatterternary\"}], \"surface\": [{\"colorbar\": {\"outlinewidth\": 0, \"ticks\": \"\"}, \"colorscale\": [[0.0, \"#0d0887\"], [0.1111111111111111, \"#46039f\"], [0.2222222222222222, \"#7201a8\"], [0.3333333333333333, \"#9c179e\"], [0.4444444444444444, \"#bd3786\"], [0.5555555555555556, \"#d8576b\"], [0.6666666666666666, \"#ed7953\"], [0.7777777777777778, \"#fb9f3a\"], [0.8888888888888888, \"#fdca26\"], [1.0, \"#f0f921\"]], \"type\": \"surface\"}], \"table\": [{\"cells\": {\"fill\": {\"color\": \"#506784\"}, \"line\": {\"color\": \"rgb(17,17,17)\"}}, \"header\": {\"fill\": {\"color\": \"#2a3f5f\"}, \"line\": {\"color\": \"rgb(17,17,17)\"}}, \"type\": \"table\"}]}, \"layout\": {\"annotationdefaults\": {\"arrowcolor\": \"#f2f5fa\", \"arrowhead\": 0, \"arrowwidth\": 1}, \"autotypenumbers\": \"strict\", \"coloraxis\": {\"colorbar\": {\"outlinewidth\": 0, \"ticks\": \"\"}}, \"colorscale\": {\"diverging\": [[0, \"#8e0152\"], [0.1, \"#c51b7d\"], [0.2, \"#de77ae\"], [0.3, \"#f1b6da\"], [0.4, \"#fde0ef\"], [0.5, \"#f7f7f7\"], [0.6, \"#e6f5d0\"], [0.7, \"#b8e186\"], [0.8, \"#7fbc41\"], [0.9, \"#4d9221\"], [1, \"#276419\"]], \"sequential\": [[0.0, \"#0d0887\"], [0.1111111111111111, \"#46039f\"], [0.2222222222222222, \"#7201a8\"], [0.3333333333333333, \"#9c179e\"], [0.4444444444444444, \"#bd3786\"], [0.5555555555555556, \"#d8576b\"], [0.6666666666666666, \"#ed7953\"], [0.7777777777777778, \"#fb9f3a\"], [0.8888888888888888, \"#fdca26\"], [1.0, \"#f0f921\"]], \"sequentialminus\": [[0.0, \"#0d0887\"], [0.1111111111111111, \"#46039f\"], [0.2222222222222222, \"#7201a8\"], [0.3333333333333333, \"#9c179e\"], [0.4444444444444444, \"#bd3786\"], [0.5555555555555556, \"#d8576b\"], [0.6666666666666666, \"#ed7953\"], [0.7777777777777778, \"#fb9f3a\"], [0.8888888888888888, \"#fdca26\"], [1.0, \"#f0f921\"]]}, \"colorway\": [\"#636efa\", \"#EF553B\", \"#00cc96\", \"#ab63fa\", \"#FFA15A\", \"#19d3f3\", \"#FF6692\", \"#B6E880\", \"#FF97FF\", \"#FECB52\"], \"font\": {\"color\": \"#f2f5fa\"}, \"geo\": {\"bgcolor\": \"rgb(17,17,17)\", \"lakecolor\": \"rgb(17,17,17)\", \"landcolor\": \"rgb(17,17,17)\", \"showlakes\": true, \"showland\": true, \"subunitcolor\": \"#506784\"}, \"hoverlabel\": {\"align\": \"left\"}, \"hovermode\": \"closest\", \"mapbox\": {\"style\": \"dark\"}, \"paper_bgcolor\": \"rgb(17,17,17)\", \"plot_bgcolor\": \"rgb(17,17,17)\", \"polar\": {\"angularaxis\": {\"gridcolor\": \"#506784\", \"linecolor\": \"#506784\", \"ticks\": \"\"}, \"bgcolor\": \"rgb(17,17,17)\", \"radialaxis\": {\"gridcolor\": \"#506784\", \"linecolor\": \"#506784\", \"ticks\": \"\"}}, \"scene\": {\"xaxis\": {\"backgroundcolor\": \"rgb(17,17,17)\", \"gridcolor\": \"#506784\", \"gridwidth\": 2, \"linecolor\": \"#506784\", \"showbackground\": true, \"ticks\": \"\", \"zerolinecolor\": \"#C8D4E3\"}, \"yaxis\": {\"backgroundcolor\": \"rgb(17,17,17)\", \"gridcolor\": \"#506784\", \"gridwidth\": 2, \"linecolor\": \"#506784\", \"showbackground\": true, \"ticks\": \"\", \"zerolinecolor\": \"#C8D4E3\"}, \"zaxis\": {\"backgroundcolor\": \"rgb(17,17,17)\", \"gridcolor\": \"#506784\", \"gridwidth\": 2, \"linecolor\": \"#506784\", \"showbackground\": true, \"ticks\": \"\", \"zerolinecolor\": \"#C8D4E3\"}}, \"shapedefaults\": {\"line\": {\"color\": \"#f2f5fa\"}}, \"sliderdefaults\": {\"bgcolor\": \"#C8D4E3\", \"bordercolor\": \"rgb(17,17,17)\", \"borderwidth\": 1, \"tickwidth\": 0}, \"ternary\": {\"aaxis\": {\"gridcolor\": \"#506784\", \"linecolor\": \"#506784\", \"ticks\": \"\"}, \"baxis\": {\"gridcolor\": \"#506784\", \"linecolor\": \"#506784\", \"ticks\": \"\"}, \"bgcolor\": \"rgb(17,17,17)\", \"caxis\": {\"gridcolor\": \"#506784\", \"linecolor\": \"#506784\", \"ticks\": \"\"}}, \"title\": {\"x\": 0.05}, \"updatemenudefaults\": {\"bgcolor\": \"#506784\", \"borderwidth\": 0}, \"xaxis\": {\"automargin\": true, \"gridcolor\": \"#283442\", \"linecolor\": \"#506784\", \"ticks\": \"\", \"title\": {\"standoff\": 15}, \"zerolinecolor\": \"#283442\", \"zerolinewidth\": 2}, \"yaxis\": {\"automargin\": true, \"gridcolor\": \"#283442\", \"linecolor\": \"#506784\", \"ticks\": \"\", \"title\": {\"standoff\": 15}, \"zerolinecolor\": \"#283442\", \"zerolinewidth\": 2}}}, \"title\": {\"text\": \"\\uc790\\uc0b0\\uad70\\ubcc4 \\ube44\\uc911\"}, \"xaxis\": {\"anchor\": \"y\", \"categoryarray\": [\"Fixed Income\", \"Alternative\", \"Cash\", \"Equity\"], \"categoryorder\": \"array\", \"domain\": [0.0, 1.0], \"title\": {\"text\": \"\\uc790\\uc0b0\\uad70\"}}, \"yaxis\": {\"anchor\": \"x\", \"domain\": [0.0, 1.0], \"title\": {\"text\": \"\\ube44\\uc911\"}}},                        {\"responsive\": true}                    ).then(function(){\n",
       "                            \n",
       "var gd = document.getElementById('69a2ca8a-41fe-4103-827a-5c08d0dc90ba');\n",
       "var x = new MutationObserver(function (mutations, observer) {{\n",
       "        var display = window.getComputedStyle(gd).display;\n",
       "        if (!display || display === 'none') {{\n",
       "            console.log([gd, 'removed!']);\n",
       "            Plotly.purge(gd);\n",
       "            observer.disconnect();\n",
       "        }}\n",
       "}});\n",
       "\n",
       "// Listen for the removal of the full notebook cells\n",
       "var notebookContainer = gd.closest('#notebook-container');\n",
       "if (notebookContainer) {{\n",
       "    x.observe(notebookContainer, {childList: true});\n",
       "}}\n",
       "\n",
       "// Listen for the clearing of the current output cell\n",
       "var outputEl = gd.closest('.output');\n",
       "if (outputEl) {{\n",
       "    x.observe(outputEl, {childList: true});\n",
       "}}\n",
       "\n",
       "                        })                };                });            </script>        </div>"
      ]
     },
     "metadata": {},
     "output_type": "display_data"
    }
   ],
   "source": [
    "fig2 = px.bar(df_by_asset_class, y = 'wt', x = 'asset_class', title = '자산군별 비중',\n",
    "       labels = {'asset_class': '자산군', 'wt': '비중'},\n",
    "       orientation = 'v', color = \"asset_class\", color_continuous_scale = 'darkmint',\n",
    "        template = 'plotly_dark')\n",
    "fig2.show()"
   ]
  },
  {
   "cell_type": "code",
   "execution_count": null,
   "id": "adverse-german",
   "metadata": {},
   "outputs": [],
   "source": []
  }
 ],
 "metadata": {
  "kernelspec": {
   "display_name": "Python 3",
   "language": "python",
   "name": "python3"
  },
  "language_info": {
   "codemirror_mode": {
    "name": "ipython",
    "version": 3
   },
   "file_extension": ".py",
   "mimetype": "text/x-python",
   "name": "python",
   "nbconvert_exporter": "python",
   "pygments_lexer": "ipython3",
   "version": "3.8.8"
  }
 },
 "nbformat": 4,
 "nbformat_minor": 5
}
