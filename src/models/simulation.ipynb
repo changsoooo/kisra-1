{
 "cells": [
  {
   "cell_type": "code",
   "execution_count": 1,
   "id": "coated-confirmation",
   "metadata": {
    "ExecuteTime": {
     "end_time": "2021-03-23T13:01:27.580373Z",
     "start_time": "2021-03-23T13:01:27.085468Z"
    }
   },
   "outputs": [],
   "source": [
    "import pandas as pd\n",
    "from load_data import Balance, Instruments, AdvisedPortfolios, PriceDB, Singleton"
   ]
  },
  {
   "cell_type": "markdown",
   "id": "first-smart",
   "metadata": {},
   "source": [
    "## 추천받은 포트폴리오 -> 잔고(detail 테이블)"
   ]
  },
  {
   "cell_type": "code",
   "execution_count": 2,
   "id": "geological-third",
   "metadata": {
    "ExecuteTime": {
     "end_time": "2021-03-23T13:01:27.598926Z",
     "start_time": "2021-03-23T13:01:27.582845Z"
    }
   },
   "outputs": [],
   "source": [
    "instruments_m = pd.read_pickle('../../data/processed/instruments_m.pkl')\n",
    "price_db = pd.read_pickle('../../data/external/price_db_d.pkl')\n",
    "advised_pf = pd.read_pickle('../../data/processed/advised_portfolios.pkl')    "
   ]
  },
  {
   "cell_type": "code",
   "execution_count": 3,
   "id": "directed-stroke",
   "metadata": {
    "ExecuteTime": {
     "end_time": "2021-03-23T13:01:27.628272Z",
     "start_time": "2021-03-23T13:01:27.601662Z"
    }
   },
   "outputs": [],
   "source": [
    "userid = 'A00'\n",
    "username = '투자자0'\n",
    "current_date = '2021-02-01'\n",
    "risk_profile = 2\n",
    "\n",
    "# c_date: 추천 포트폴리오DB에서 사용자가 입력한 날짜와 가장 가까운 날짜.\n",
    "c_date = advised_pf.loc[advised_pf.date <= current_date, ['date']].max().date\n",
    "new_units = {'A122260': 2, 'A114260': 4, 'A130730': 2, 'A329650': 13, 'A266370': 4}\n",
    "prices = {'A122260': [101185.0, 'KRW'], 'A114260': [57900.0, 'KRW'], 'A130730': [100975.0, 'KRW'], 'A329650': [10980.0, 'KRW'], 'A266370': [21325.0, 'KRW']}\n",
    "df = advised_pf.loc[(advised_pf.date==c_date) & (advised_pf.risk_profile==risk_profile), :]\n",
    "remaining_cash = 135786"
   ]
  },
  {
   "cell_type": "code",
   "execution_count": 6,
   "id": "instant-hearts",
   "metadata": {
    "ExecuteTime": {
     "end_time": "2021-03-23T13:01:47.000159Z",
     "start_time": "2021-03-23T13:01:46.977242Z"
    }
   },
   "outputs": [],
   "source": [
    "# 보유수량\n",
    "detail = pd.DataFrame.from_dict(new_units, orient='index').rename(columns={0:'quantity'})\n",
    "detail.index.name='itemcode'\n",
    "\n",
    "# 매입가격\n",
    "temp = pd.DataFrame.from_dict(prices, orient='index').rename(columns={0:'cost_price'}).drop([1], axis=1)\n",
    "temp.index.name='itemcode'\n",
    "\n",
    "# 병합\n",
    "detail = detail.merge(temp, left_index=True, right_index=True, how='inner')\n",
    "\n",
    "detail['price'] = detail['cost_price']\n",
    "detail['cost_value'] = detail['quantity']*detail['cost_price']\n",
    "detail['value'] = detail['quantity']*detail['cost_price']  # 매입가와 평가가격 동일하다고 가정\n",
    "detail = detail.merge(instruments_m.loc[:, ['itemcode', 'itemname', 'asset_class']], left_on='itemcode', right_on='itemcode', how='left')\n",
    "detail = detail.reset_index(drop=True)"
   ]
  },
  {
   "cell_type": "code",
   "execution_count": 8,
   "id": "touched-truth",
   "metadata": {
    "ExecuteTime": {
     "end_time": "2021-03-23T13:01:48.167813Z",
     "start_time": "2021-03-23T13:01:48.156827Z"
    }
   },
   "outputs": [],
   "source": [
    "df_cash = {\n",
    "    'itemcode': 'C000001',\n",
    "    'quantity': remaining_cash,\n",
    "    'cost_price': 1,\n",
    "    'cost_value': remaining_cash,\n",
    "    'value': remaining_cash,\n",
    "    'itemname': '현금',\n",
    "    'asset_class': 'Cash'\n",
    "}\n",
    "df_cash = pd.DataFrame.from_dict(df_cash, orient='index').T"
   ]
  },
  {
   "cell_type": "code",
   "execution_count": 9,
   "id": "serial-oregon",
   "metadata": {
    "ExecuteTime": {
     "end_time": "2021-03-23T13:01:48.343917Z",
     "start_time": "2021-03-23T13:01:48.337733Z"
    }
   },
   "outputs": [],
   "source": [
    "detail = pd.concat([detail, df_cash])"
   ]
  },
  {
   "cell_type": "code",
   "execution_count": 10,
   "id": "multiple-wayne",
   "metadata": {
    "ExecuteTime": {
     "end_time": "2021-03-23T13:01:48.542880Z",
     "start_time": "2021-03-23T13:01:48.528779Z"
    }
   },
   "outputs": [],
   "source": [
    "detail['date'] = c_date\n",
    "detail['date'] = pd.to_datetime(detail['date'], format='%Y-%m-%d').dt.strftime('%m/%d/%Y 4:0:00 PM').astype(str)\n",
    "detail['userid'] = userid\n",
    "detail['username'] = username\n",
    "detail['original'] = 'N'\n",
    "detail['group_by'] = ''"
   ]
  },
  {
   "cell_type": "code",
   "execution_count": 11,
   "id": "hearing-vintage",
   "metadata": {
    "ExecuteTime": {
     "end_time": "2021-03-23T13:01:55.598110Z",
     "start_time": "2021-03-23T13:01:55.569624Z"
    }
   },
   "outputs": [
    {
     "data": {
      "text/html": [
       "<div>\n",
       "<style scoped>\n",
       "    .dataframe tbody tr th:only-of-type {\n",
       "        vertical-align: middle;\n",
       "    }\n",
       "\n",
       "    .dataframe tbody tr th {\n",
       "        vertical-align: top;\n",
       "    }\n",
       "\n",
       "    .dataframe thead th {\n",
       "        text-align: right;\n",
       "    }\n",
       "</style>\n",
       "<table border=\"1\" class=\"dataframe\">\n",
       "  <thead>\n",
       "    <tr style=\"text-align: right;\">\n",
       "      <th></th>\n",
       "      <th>itemcode</th>\n",
       "      <th>quantity</th>\n",
       "      <th>cost_price</th>\n",
       "      <th>price</th>\n",
       "      <th>cost_value</th>\n",
       "      <th>value</th>\n",
       "      <th>itemname</th>\n",
       "      <th>asset_class</th>\n",
       "      <th>date</th>\n",
       "      <th>userid</th>\n",
       "      <th>username</th>\n",
       "      <th>original</th>\n",
       "      <th>group_by</th>\n",
       "    </tr>\n",
       "  </thead>\n",
       "  <tbody>\n",
       "    <tr>\n",
       "      <th>0</th>\n",
       "      <td>A122260</td>\n",
       "      <td>2</td>\n",
       "      <td>101185</td>\n",
       "      <td>101185.0</td>\n",
       "      <td>202370</td>\n",
       "      <td>202370</td>\n",
       "      <td>KOSEF 통안채1년</td>\n",
       "      <td>Fixed Income</td>\n",
       "      <td>02/01/2021 4:0:00 PM</td>\n",
       "      <td>A00</td>\n",
       "      <td>투자자0</td>\n",
       "      <td>N</td>\n",
       "      <td></td>\n",
       "    </tr>\n",
       "    <tr>\n",
       "      <th>1</th>\n",
       "      <td>A114260</td>\n",
       "      <td>4</td>\n",
       "      <td>57900</td>\n",
       "      <td>57900.0</td>\n",
       "      <td>231600</td>\n",
       "      <td>231600</td>\n",
       "      <td>KODEX 국고채3년</td>\n",
       "      <td>Fixed Income</td>\n",
       "      <td>02/01/2021 4:0:00 PM</td>\n",
       "      <td>A00</td>\n",
       "      <td>투자자0</td>\n",
       "      <td>N</td>\n",
       "      <td></td>\n",
       "    </tr>\n",
       "    <tr>\n",
       "      <th>2</th>\n",
       "      <td>A130730</td>\n",
       "      <td>2</td>\n",
       "      <td>100975</td>\n",
       "      <td>100975.0</td>\n",
       "      <td>201950</td>\n",
       "      <td>201950</td>\n",
       "      <td>KOSEF 단기자금</td>\n",
       "      <td>Fixed Income</td>\n",
       "      <td>02/01/2021 4:0:00 PM</td>\n",
       "      <td>A00</td>\n",
       "      <td>투자자0</td>\n",
       "      <td>N</td>\n",
       "      <td></td>\n",
       "    </tr>\n",
       "    <tr>\n",
       "      <th>3</th>\n",
       "      <td>A329650</td>\n",
       "      <td>13</td>\n",
       "      <td>10980</td>\n",
       "      <td>10980.0</td>\n",
       "      <td>142740</td>\n",
       "      <td>142740</td>\n",
       "      <td>KODEX TRF3070</td>\n",
       "      <td>Alternative</td>\n",
       "      <td>02/01/2021 4:0:00 PM</td>\n",
       "      <td>A00</td>\n",
       "      <td>투자자0</td>\n",
       "      <td>N</td>\n",
       "      <td></td>\n",
       "    </tr>\n",
       "    <tr>\n",
       "      <th>4</th>\n",
       "      <td>A266370</td>\n",
       "      <td>4</td>\n",
       "      <td>21325</td>\n",
       "      <td>21325.0</td>\n",
       "      <td>85300</td>\n",
       "      <td>85300</td>\n",
       "      <td>KODEX IT</td>\n",
       "      <td>Equity</td>\n",
       "      <td>02/01/2021 4:0:00 PM</td>\n",
       "      <td>A00</td>\n",
       "      <td>투자자0</td>\n",
       "      <td>N</td>\n",
       "      <td></td>\n",
       "    </tr>\n",
       "    <tr>\n",
       "      <th>0</th>\n",
       "      <td>C000001</td>\n",
       "      <td>135786</td>\n",
       "      <td>1</td>\n",
       "      <td>NaN</td>\n",
       "      <td>135786</td>\n",
       "      <td>135786</td>\n",
       "      <td>현금</td>\n",
       "      <td>Cash</td>\n",
       "      <td>02/01/2021 4:0:00 PM</td>\n",
       "      <td>A00</td>\n",
       "      <td>투자자0</td>\n",
       "      <td>N</td>\n",
       "      <td></td>\n",
       "    </tr>\n",
       "  </tbody>\n",
       "</table>\n",
       "</div>"
      ],
      "text/plain": [
       "  itemcode quantity cost_price     price cost_value   value       itemname  \\\n",
       "0  A122260        2     101185  101185.0     202370  202370    KOSEF 통안채1년   \n",
       "1  A114260        4      57900   57900.0     231600  231600    KODEX 국고채3년   \n",
       "2  A130730        2     100975  100975.0     201950  201950     KOSEF 단기자금   \n",
       "3  A329650       13      10980   10980.0     142740  142740  KODEX TRF3070   \n",
       "4  A266370        4      21325   21325.0      85300   85300       KODEX IT   \n",
       "0  C000001   135786          1       NaN     135786  135786             현금   \n",
       "\n",
       "    asset_class                  date userid username original group_by  \n",
       "0  Fixed Income  02/01/2021 4:0:00 PM    A00     투자자0        N           \n",
       "1  Fixed Income  02/01/2021 4:0:00 PM    A00     투자자0        N           \n",
       "2  Fixed Income  02/01/2021 4:0:00 PM    A00     투자자0        N           \n",
       "3   Alternative  02/01/2021 4:0:00 PM    A00     투자자0        N           \n",
       "4        Equity  02/01/2021 4:0:00 PM    A00     투자자0        N           \n",
       "0          Cash  02/01/2021 4:0:00 PM    A00     투자자0        N           "
      ]
     },
     "execution_count": 11,
     "metadata": {},
     "output_type": "execute_result"
    }
   ],
   "source": [
    "detail"
   ]
  },
  {
   "cell_type": "code",
   "execution_count": 14,
   "id": "multiple-juvenile",
   "metadata": {
    "ExecuteTime": {
     "end_time": "2021-03-23T13:01:58.966876Z",
     "start_time": "2021-03-23T13:01:58.962698Z"
    }
   },
   "outputs": [],
   "source": [
    "detail['wt'] = detail.value.transform(lambda x: x/x.sum())"
   ]
  },
  {
   "cell_type": "code",
   "execution_count": 12,
   "id": "single-outline",
   "metadata": {
    "ExecuteTime": {
     "end_time": "2021-03-23T13:01:55.895000Z",
     "start_time": "2021-03-23T13:01:55.891601Z"
    }
   },
   "outputs": [],
   "source": [
    "detail = detail.reset_index(drop=True)"
   ]
  },
  {
   "cell_type": "code",
   "execution_count": 13,
   "id": "legendary-pollution",
   "metadata": {
    "ExecuteTime": {
     "end_time": "2021-03-23T13:01:57.900568Z",
     "start_time": "2021-03-23T13:01:57.884615Z"
    }
   },
   "outputs": [
    {
     "data": {
      "text/html": [
       "<div>\n",
       "<style scoped>\n",
       "    .dataframe tbody tr th:only-of-type {\n",
       "        vertical-align: middle;\n",
       "    }\n",
       "\n",
       "    .dataframe tbody tr th {\n",
       "        vertical-align: top;\n",
       "    }\n",
       "\n",
       "    .dataframe thead th {\n",
       "        text-align: right;\n",
       "    }\n",
       "</style>\n",
       "<table border=\"1\" class=\"dataframe\">\n",
       "  <thead>\n",
       "    <tr style=\"text-align: right;\">\n",
       "      <th></th>\n",
       "      <th>itemcode</th>\n",
       "      <th>quantity</th>\n",
       "      <th>cost_price</th>\n",
       "      <th>price</th>\n",
       "      <th>cost_value</th>\n",
       "      <th>value</th>\n",
       "      <th>itemname</th>\n",
       "      <th>asset_class</th>\n",
       "      <th>date</th>\n",
       "      <th>userid</th>\n",
       "      <th>username</th>\n",
       "      <th>original</th>\n",
       "      <th>group_by</th>\n",
       "    </tr>\n",
       "  </thead>\n",
       "  <tbody>\n",
       "    <tr>\n",
       "      <th>0</th>\n",
       "      <td>A122260</td>\n",
       "      <td>2</td>\n",
       "      <td>101185</td>\n",
       "      <td>101185.0</td>\n",
       "      <td>202370</td>\n",
       "      <td>202370</td>\n",
       "      <td>KOSEF 통안채1년</td>\n",
       "      <td>Fixed Income</td>\n",
       "      <td>02/01/2021 4:0:00 PM</td>\n",
       "      <td>A00</td>\n",
       "      <td>투자자0</td>\n",
       "      <td>N</td>\n",
       "      <td></td>\n",
       "    </tr>\n",
       "    <tr>\n",
       "      <th>1</th>\n",
       "      <td>A114260</td>\n",
       "      <td>4</td>\n",
       "      <td>57900</td>\n",
       "      <td>57900.0</td>\n",
       "      <td>231600</td>\n",
       "      <td>231600</td>\n",
       "      <td>KODEX 국고채3년</td>\n",
       "      <td>Fixed Income</td>\n",
       "      <td>02/01/2021 4:0:00 PM</td>\n",
       "      <td>A00</td>\n",
       "      <td>투자자0</td>\n",
       "      <td>N</td>\n",
       "      <td></td>\n",
       "    </tr>\n",
       "    <tr>\n",
       "      <th>2</th>\n",
       "      <td>A130730</td>\n",
       "      <td>2</td>\n",
       "      <td>100975</td>\n",
       "      <td>100975.0</td>\n",
       "      <td>201950</td>\n",
       "      <td>201950</td>\n",
       "      <td>KOSEF 단기자금</td>\n",
       "      <td>Fixed Income</td>\n",
       "      <td>02/01/2021 4:0:00 PM</td>\n",
       "      <td>A00</td>\n",
       "      <td>투자자0</td>\n",
       "      <td>N</td>\n",
       "      <td></td>\n",
       "    </tr>\n",
       "    <tr>\n",
       "      <th>3</th>\n",
       "      <td>A329650</td>\n",
       "      <td>13</td>\n",
       "      <td>10980</td>\n",
       "      <td>10980.0</td>\n",
       "      <td>142740</td>\n",
       "      <td>142740</td>\n",
       "      <td>KODEX TRF3070</td>\n",
       "      <td>Alternative</td>\n",
       "      <td>02/01/2021 4:0:00 PM</td>\n",
       "      <td>A00</td>\n",
       "      <td>투자자0</td>\n",
       "      <td>N</td>\n",
       "      <td></td>\n",
       "    </tr>\n",
       "    <tr>\n",
       "      <th>4</th>\n",
       "      <td>A266370</td>\n",
       "      <td>4</td>\n",
       "      <td>21325</td>\n",
       "      <td>21325.0</td>\n",
       "      <td>85300</td>\n",
       "      <td>85300</td>\n",
       "      <td>KODEX IT</td>\n",
       "      <td>Equity</td>\n",
       "      <td>02/01/2021 4:0:00 PM</td>\n",
       "      <td>A00</td>\n",
       "      <td>투자자0</td>\n",
       "      <td>N</td>\n",
       "      <td></td>\n",
       "    </tr>\n",
       "    <tr>\n",
       "      <th>5</th>\n",
       "      <td>C000001</td>\n",
       "      <td>135786</td>\n",
       "      <td>1</td>\n",
       "      <td>NaN</td>\n",
       "      <td>135786</td>\n",
       "      <td>135786</td>\n",
       "      <td>현금</td>\n",
       "      <td>Cash</td>\n",
       "      <td>02/01/2021 4:0:00 PM</td>\n",
       "      <td>A00</td>\n",
       "      <td>투자자0</td>\n",
       "      <td>N</td>\n",
       "      <td></td>\n",
       "    </tr>\n",
       "  </tbody>\n",
       "</table>\n",
       "</div>"
      ],
      "text/plain": [
       "  itemcode quantity cost_price     price cost_value   value       itemname  \\\n",
       "0  A122260        2     101185  101185.0     202370  202370    KOSEF 통안채1년   \n",
       "1  A114260        4      57900   57900.0     231600  231600    KODEX 국고채3년   \n",
       "2  A130730        2     100975  100975.0     201950  201950     KOSEF 단기자금   \n",
       "3  A329650       13      10980   10980.0     142740  142740  KODEX TRF3070   \n",
       "4  A266370        4      21325   21325.0      85300   85300       KODEX IT   \n",
       "5  C000001   135786          1       NaN     135786  135786             현금   \n",
       "\n",
       "    asset_class                  date userid username original group_by  \n",
       "0  Fixed Income  02/01/2021 4:0:00 PM    A00     투자자0        N           \n",
       "1  Fixed Income  02/01/2021 4:0:00 PM    A00     투자자0        N           \n",
       "2  Fixed Income  02/01/2021 4:0:00 PM    A00     투자자0        N           \n",
       "3   Alternative  02/01/2021 4:0:00 PM    A00     투자자0        N           \n",
       "4        Equity  02/01/2021 4:0:00 PM    A00     투자자0        N           \n",
       "5          Cash  02/01/2021 4:0:00 PM    A00     투자자0        N           "
      ]
     },
     "execution_count": 13,
     "metadata": {},
     "output_type": "execute_result"
    }
   ],
   "source": [
    "detail"
   ]
  },
  {
   "cell_type": "code",
   "execution_count": null,
   "id": "sunset-sigma",
   "metadata": {},
   "outputs": [],
   "source": []
  },
  {
   "cell_type": "markdown",
   "id": "nervous-poker",
   "metadata": {},
   "source": [
    "## 리밸런싱"
   ]
  },
  {
   "cell_type": "code",
   "execution_count": 17,
   "id": "affecting-yeast",
   "metadata": {
    "ExecuteTime": {
     "end_time": "2021-03-23T13:05:06.327239Z",
     "start_time": "2021-03-23T13:05:06.323901Z"
    }
   },
   "outputs": [
    {
     "data": {
      "text/plain": [
       "'2021-02-01'"
      ]
     },
     "execution_count": 17,
     "metadata": {},
     "output_type": "execute_result"
    }
   ],
   "source": [
    "current_date"
   ]
  },
  {
   "cell_type": "code",
   "execution_count": 26,
   "id": "affiliated-memorabilia",
   "metadata": {
    "ExecuteTime": {
     "end_time": "2021-03-23T13:11:27.928280Z",
     "start_time": "2021-03-23T13:11:27.923264Z"
    }
   },
   "outputs": [],
   "source": [
    "end_date = advised_pf.loc[(advised_pf.risk_profile==risk_profile) & (advised_pf.date > current_date), 'date'].max()"
   ]
  },
  {
   "cell_type": "code",
   "execution_count": 28,
   "id": "reasonable-jacksonville",
   "metadata": {
    "ExecuteTime": {
     "end_time": "2021-03-23T13:11:33.969804Z",
     "start_time": "2021-03-23T13:11:33.966221Z"
    }
   },
   "outputs": [
    {
     "data": {
      "text/plain": [
       "'2021-03-19'"
      ]
     },
     "execution_count": 28,
     "metadata": {},
     "output_type": "execute_result"
    }
   ],
   "source": [
    "end_date"
   ]
  },
  {
   "cell_type": "code",
   "execution_count": 35,
   "id": "governing-senate",
   "metadata": {
    "ExecuteTime": {
     "end_time": "2021-03-23T13:17:51.379734Z",
     "start_time": "2021-03-23T13:17:51.374717Z"
    },
    "scrolled": true
   },
   "outputs": [],
   "source": [
    "dates = advised_pf.loc[(advised_pf.risk_profile==risk_profile) & (advised_pf.date > current_date), 'date'].unique()"
   ]
  },
  {
   "cell_type": "code",
   "execution_count": 36,
   "id": "honest-importance",
   "metadata": {
    "ExecuteTime": {
     "end_time": "2021-03-23T13:17:54.708507Z",
     "start_time": "2021-03-23T13:17:54.704730Z"
    }
   },
   "outputs": [
    {
     "data": {
      "text/plain": [
       "array(['2021-02-02', '2021-02-03', '2021-02-04', '2021-02-05',\n",
       "       '2021-02-08', '2021-02-09', '2021-02-10', '2021-02-11',\n",
       "       '2021-02-12', '2021-02-15', '2021-02-16', '2021-02-17',\n",
       "       '2021-02-18', '2021-02-19', '2021-02-22', '2021-02-23',\n",
       "       '2021-02-24', '2021-02-25', '2021-02-26', '2021-03-01',\n",
       "       '2021-03-02', '2021-03-03', '2021-03-04', '2021-03-05',\n",
       "       '2021-03-08', '2021-03-09', '2021-03-10', '2021-03-11',\n",
       "       '2021-03-12', '2021-03-15', '2021-03-16', '2021-03-17',\n",
       "       '2021-03-18', '2021-03-19'], dtype=object)"
      ]
     },
     "execution_count": 36,
     "metadata": {},
     "output_type": "execute_result"
    }
   ],
   "source": []
  },
  {
   "cell_type": "code",
   "execution_count": 44,
   "id": "faced-saint",
   "metadata": {
    "ExecuteTime": {
     "end_time": "2021-03-23T13:21:20.289424Z",
     "start_time": "2021-03-23T13:21:20.285417Z"
    }
   },
   "outputs": [
    {
     "data": {
      "text/plain": [
       "array(['2021-02-02', '2021-02-09', '2021-02-16', '2021-02-23',\n",
       "       '2021-03-02', '2021-03-09', '2021-03-16'], dtype=object)"
      ]
     },
     "execution_count": 44,
     "metadata": {},
     "output_type": "execute_result"
    }
   ],
   "source": [
    "dates[::5]"
   ]
  },
  {
   "cell_type": "code",
   "execution_count": 46,
   "id": "closing-telescope",
   "metadata": {
    "ExecuteTime": {
     "end_time": "2021-03-23T14:55:15.305713Z",
     "start_time": "2021-03-23T14:55:15.302203Z"
    }
   },
   "outputs": [
    {
     "data": {
      "text/plain": [
       "'2021-02-01'"
      ]
     },
     "execution_count": 46,
     "metadata": {},
     "output_type": "execute_result"
    }
   ],
   "source": [
    "current_date"
   ]
  },
  {
   "cell_type": "code",
   "execution_count": 48,
   "id": "reliable-burden",
   "metadata": {
    "ExecuteTime": {
     "end_time": "2021-03-23T14:56:02.551409Z",
     "start_time": "2021-03-23T14:56:02.548806Z"
    }
   },
   "outputs": [],
   "source": [
    "from datetime import datetime"
   ]
  },
  {
   "cell_type": "code",
   "execution_count": 60,
   "id": "desirable-thousand",
   "metadata": {
    "ExecuteTime": {
     "end_time": "2021-03-23T14:58:50.917808Z",
     "start_time": "2021-03-23T14:58:50.915165Z"
    }
   },
   "outputs": [],
   "source": [
    "dt = datetime.strptime('2021-02-01', '%Y-%m-%d')"
   ]
  },
  {
   "cell_type": "code",
   "execution_count": 63,
   "id": "sublime-wallet",
   "metadata": {
    "ExecuteTime": {
     "end_time": "2021-03-23T14:59:56.491796Z",
     "start_time": "2021-03-23T14:59:56.488908Z"
    }
   },
   "outputs": [],
   "source": [
    "dt = str(dt.month)+'/'+str(dt.day)+'/'+str(dt.year)+' 09:00:00 AM'"
   ]
  },
  {
   "cell_type": "code",
   "execution_count": 64,
   "id": "international-sacrifice",
   "metadata": {
    "ExecuteTime": {
     "end_time": "2021-03-23T15:00:03.927940Z",
     "start_time": "2021-03-23T15:00:03.924333Z"
    }
   },
   "outputs": [
    {
     "data": {
      "text/plain": [
       "'2/1/2021 09:00:00 AM'"
      ]
     },
     "execution_count": 64,
     "metadata": {},
     "output_type": "execute_result"
    }
   ],
   "source": [
    "dt"
   ]
  },
  {
   "cell_type": "code",
   "execution_count": 54,
   "id": "illegal-vertical",
   "metadata": {
    "ExecuteTime": {
     "end_time": "2021-03-23T14:57:11.624572Z",
     "start_time": "2021-03-23T14:57:11.622125Z"
    }
   },
   "outputs": [],
   "source": [
    "now = datetime.now()"
   ]
  },
  {
   "cell_type": "code",
   "execution_count": 55,
   "id": "removable-plastic",
   "metadata": {
    "ExecuteTime": {
     "end_time": "2021-03-23T14:57:13.327980Z",
     "start_time": "2021-03-23T14:57:13.324163Z"
    }
   },
   "outputs": [
    {
     "data": {
      "text/plain": [
       "datetime.datetime(2021, 3, 23, 23, 57, 11, 622959)"
      ]
     },
     "execution_count": 55,
     "metadata": {},
     "output_type": "execute_result"
    }
   ],
   "source": [
    "now"
   ]
  },
  {
   "cell_type": "code",
   "execution_count": null,
   "id": "roman-accuracy",
   "metadata": {},
   "outputs": [],
   "source": []
  }
 ],
 "metadata": {
  "kernelspec": {
   "display_name": "Python 3",
   "language": "python",
   "name": "python3"
  },
  "language_info": {
   "codemirror_mode": {
    "name": "ipython",
    "version": 3
   },
   "file_extension": ".py",
   "mimetype": "text/x-python",
   "name": "python",
   "nbconvert_exporter": "python",
   "pygments_lexer": "ipython3",
   "version": "3.8.8"
  }
 },
 "nbformat": 4,
 "nbformat_minor": 5
}
