{
 "cells": [
  {
   "cell_type": "code",
   "execution_count": 1,
   "id": "c567b63a",
   "metadata": {
    "ExecuteTime": {
     "end_time": "2021-04-27T05:51:59.383541Z",
     "start_time": "2021-04-27T05:51:59.380550Z"
    }
   },
   "outputs": [],
   "source": [
    "wt = {'A114260': 0.2399999999953722, 'A148070': 0.2399999999102309, 'A069500': 0.18329479630055928, 'A251350': 0.13270520369370786, 'A273130': 0.10000000005620673, 'A157490': 0.08400000000547489, 'A237370': 0.019999999998857924}"
   ]
  },
  {
   "cell_type": "code",
   "execution_count": 5,
   "id": "101f861d",
   "metadata": {
    "ExecuteTime": {
     "end_time": "2021-04-27T05:52:22.084948Z",
     "start_time": "2021-04-27T05:52:22.081955Z"
    }
   },
   "outputs": [],
   "source": [
    "weights = list(wt.items())"
   ]
  },
  {
   "cell_type": "code",
   "execution_count": 6,
   "id": "b8fca78f",
   "metadata": {
    "ExecuteTime": {
     "end_time": "2021-04-27T05:52:45.286794Z",
     "start_time": "2021-04-27T05:52:45.281807Z"
    }
   },
   "outputs": [
    {
     "name": "stdout",
     "output_type": "stream",
     "text": [
      "A114260 0.2399999999953722\n",
      "A148070 0.2399999999102309\n",
      "A069500 0.18329479630055928\n",
      "A251350 0.13270520369370786\n",
      "A273130 0.10000000005620673\n",
      "A157490 0.08400000000547489\n",
      "A237370 0.019999999998857924\n"
     ]
    }
   ],
   "source": [
    "for ticker, weight in weights:\n",
    "    print(ticker, weight)"
   ]
  },
  {
   "cell_type": "code",
   "execution_count": null,
   "id": "ad6bb69a",
   "metadata": {},
   "outputs": [],
   "source": []
  }
 ],
 "metadata": {
  "kernelspec": {
   "display_name": "Python 3",
   "language": "python",
   "name": "python3"
  },
  "language_info": {
   "codemirror_mode": {
    "name": "ipython",
    "version": 3
   },
   "file_extension": ".py",
   "mimetype": "text/x-python",
   "name": "python",
   "nbconvert_exporter": "python",
   "pygments_lexer": "ipython3",
   "version": "3.8.8"
  }
 },
 "nbformat": 4,
 "nbformat_minor": 5
}
