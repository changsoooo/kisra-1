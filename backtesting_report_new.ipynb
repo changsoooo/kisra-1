{
 "cells": [
  {
   "cell_type": "code",
   "execution_count": 11,
   "id": "governing-sheriff",
   "metadata": {
    "ExecuteTime": {
     "end_time": "2021-04-17T14:56:33.174861Z",
     "start_time": "2021-04-17T14:56:33.165030Z"
    }
   },
   "outputs": [],
   "source": [
    "import riskfolio.Reports as rp\n",
    "import pickle\n",
    "import matplotlib.pyplot as plt\n",
    "import pandas as pd"
   ]
  },
  {
   "cell_type": "code",
   "execution_count": 12,
   "id": "figured-scholar",
   "metadata": {
    "ExecuteTime": {
     "end_time": "2021-04-17T14:56:33.654102Z",
     "start_time": "2021-04-17T14:56:33.640681Z"
    }
   },
   "outputs": [],
   "source": [
    "dates = pd.bdate_range('2019-01-01', '2019-06-30', freq='B').strftime('%Y-%m-%d').to_list()"
   ]
  },
  {
   "cell_type": "code",
   "execution_count": 13,
   "id": "available-means",
   "metadata": {
    "ExecuteTime": {
     "end_time": "2021-04-17T14:56:34.188670Z",
     "start_time": "2021-04-17T14:56:34.186265Z"
    }
   },
   "outputs": [],
   "source": [
    "# dates = ['2019-12-31', '2020-01-31', '2020-02-28', '2020-03-31', '2020-04-30',\n",
    "#         '2020-05-29', '2020-06-30',  '2020-07-31',  '2020-08-31', '2020-09-30',\n",
    "#         '2020-10-30',  '2020-11-30', '2020-12-31', '2021-01-29','2021-02-26']\n",
    "# # dates = ['2019-12-31']"
   ]
  },
  {
   "cell_type": "code",
   "execution_count": null,
   "id": "tough-calendar",
   "metadata": {
    "ExecuteTime": {
     "end_time": "2021-04-17T15:24:37.737781Z",
     "start_time": "2021-04-17T14:56:53.582255Z"
    },
    "scrolled": false
   },
   "outputs": [],
   "source": [
    "for dt in dates:\n",
    "    for risk_profile in [2,3,4]:\n",
    "        with open('./reports/returns-{}_{}.pkl'.format(risk_profile, dt), 'rb') as f:\n",
    "            returns = pickle.load(f)\n",
    "        with open('./reports/w-{}_{}.pkl'.format(risk_profile, dt), 'rb') as f:\n",
    "            w = pickle.load(f)\n",
    "\n",
    "        ax = rp.jupyter_report(returns, w, rm='CDaR', rf=0, alpha=0.05, height=6, width=14,\n",
    "                           others=0.05, nrow=25)\n",
    "\n",
    "        ax[0].figure.savefig('./reports/figures/report-{}_{}.png'.format(risk_profile, dt));"
   ]
  },
  {
   "cell_type": "code",
   "execution_count": null,
   "id": "complex-runner",
   "metadata": {},
   "outputs": [],
   "source": []
  },
  {
   "cell_type": "code",
   "execution_count": null,
   "id": "moving-rouge",
   "metadata": {},
   "outputs": [],
   "source": []
  },
  {
   "cell_type": "code",
   "execution_count": null,
   "id": "requested-visiting",
   "metadata": {},
   "outputs": [],
   "source": []
  },
  {
   "cell_type": "code",
   "execution_count": null,
   "id": "advanced-density",
   "metadata": {},
   "outputs": [],
   "source": []
  },
  {
   "cell_type": "code",
   "execution_count": null,
   "id": "beginning-municipality",
   "metadata": {},
   "outputs": [],
   "source": []
  },
  {
   "cell_type": "code",
   "execution_count": null,
   "id": "referenced-coating",
   "metadata": {},
   "outputs": [],
   "source": []
  }
 ],
 "metadata": {
  "kernelspec": {
   "display_name": "Python 3",
   "language": "python",
   "name": "python3"
  },
  "language_info": {
   "codemirror_mode": {
    "name": "ipython",
    "version": 3
   },
   "file_extension": ".py",
   "mimetype": "text/x-python",
   "name": "python",
   "nbconvert_exporter": "python",
   "pygments_lexer": "ipython3",
   "version": "3.8.8"
  }
 },
 "nbformat": 4,
 "nbformat_minor": 5
}
