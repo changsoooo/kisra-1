{
 "cells": [
  {
   "cell_type": "code",
   "execution_count": 5,
   "id": "fancy-submission",
   "metadata": {
    "ExecuteTime": {
     "end_time": "2021-03-22T01:45:43.082000Z",
     "start_time": "2021-03-22T01:45:43.078010Z"
    }
   },
   "outputs": [],
   "source": [
    "import pandas as pd"
   ]
  },
  {
   "cell_type": "code",
   "execution_count": 15,
   "id": "vital-perfume",
   "metadata": {
    "ExecuteTime": {
     "end_time": "2021-03-22T06:06:23.760381Z",
     "start_time": "2021-03-22T06:06:23.748413Z"
    }
   },
   "outputs": [],
   "source": [
    "advised_pf = pd.read_pickle('./data/processed/advised_portfolios.pkl')"
   ]
  },
  {
   "cell_type": "code",
   "execution_count": 18,
   "id": "amber-prince",
   "metadata": {
    "ExecuteTime": {
     "end_time": "2021-03-22T06:21:36.294444Z",
     "start_time": "2021-03-22T06:21:36.287461Z"
    }
   },
   "outputs": [
    {
     "name": "stdout",
     "output_type": "stream",
     "text": [
      "Index(['date', 'risk_profile', 'itemcode', 'weights', 'tracking_code',\n",
      "       'itemname', 'price', 'volume', 'trading_amt_mln', 'asset_class'],\n",
      "      dtype='object')\n"
     ]
    }
   ],
   "source": [
    "print(advised_pf.columns)"
   ]
  },
  {
   "cell_type": "code",
   "execution_count": 13,
   "id": "phantom-commonwealth",
   "metadata": {
    "ExecuteTime": {
     "end_time": "2021-03-22T06:05:56.537195Z",
     "start_time": "2021-03-22T06:05:56.533204Z"
    }
   },
   "outputs": [],
   "source": [
    "current_date='2020-2-1'"
   ]
  },
  {
   "cell_type": "code",
   "execution_count": 14,
   "id": "governmental-train",
   "metadata": {
    "ExecuteTime": {
     "end_time": "2021-03-22T06:06:07.418454Z",
     "start_time": "2021-03-22T06:06:07.412471Z"
    }
   },
   "outputs": [
    {
     "data": {
      "text/plain": [
       "0      2020-02-03\n",
       "1      2020-02-03\n",
       "2      2020-02-03\n",
       "3      2020-02-03\n",
       "4      2020-02-03\n",
       "          ...    \n",
       "456    2020-02-28\n",
       "457    2020-02-28\n",
       "458    2020-02-28\n",
       "459    2020-02-28\n",
       "460    2020-02-28\n",
       "Name: date, Length: 461, dtype: object"
      ]
     },
     "execution_count": 14,
     "metadata": {},
     "output_type": "execute_result"
    }
   ],
   "source": [
    "advised_pf.date"
   ]
  },
  {
   "cell_type": "code",
   "execution_count": null,
   "id": "documentary-jackson",
   "metadata": {},
   "outputs": [],
   "source": []
  },
  {
   "cell_type": "code",
   "execution_count": null,
   "id": "three-crack",
   "metadata": {},
   "outputs": [],
   "source": []
  },
  {
   "cell_type": "code",
   "execution_count": null,
   "id": "aquatic-vampire",
   "metadata": {},
   "outputs": [],
   "source": []
  },
  {
   "cell_type": "code",
   "execution_count": 10,
   "id": "previous-truck",
   "metadata": {
    "ExecuteTime": {
     "end_time": "2021-03-22T04:36:32.034327Z",
     "start_time": "2021-03-22T04:36:32.010391Z"
    }
   },
   "outputs": [
    {
     "data": {
      "text/html": [
       "<div>\n",
       "<style scoped>\n",
       "    .dataframe tbody tr th:only-of-type {\n",
       "        vertical-align: middle;\n",
       "    }\n",
       "\n",
       "    .dataframe tbody tr th {\n",
       "        vertical-align: top;\n",
       "    }\n",
       "\n",
       "    .dataframe thead th {\n",
       "        text-align: right;\n",
       "    }\n",
       "</style>\n",
       "<table border=\"1\" class=\"dataframe\">\n",
       "  <thead>\n",
       "    <tr style=\"text-align: right;\">\n",
       "      <th></th>\n",
       "      <th>itemcode</th>\n",
       "      <th>itemname</th>\n",
       "      <th>price</th>\n",
       "      <th>nav</th>\n",
       "      <th>volumne_sh</th>\n",
       "      <th>trading_amt_mln</th>\n",
       "      <th>market_cap_100m</th>\n",
       "      <th>exchange_nm</th>\n",
       "      <th>market</th>\n",
       "      <th>asset_class</th>\n",
       "      <th>instruments</th>\n",
       "      <th>exposure</th>\n",
       "      <th>dc_risky_asset</th>\n",
       "    </tr>\n",
       "  </thead>\n",
       "  <tbody>\n",
       "    <tr>\n",
       "      <th>0</th>\n",
       "      <td>C000001</td>\n",
       "      <td>현금</td>\n",
       "      <td>1</td>\n",
       "      <td>1.0</td>\n",
       "      <td>NaN</td>\n",
       "      <td>NaN</td>\n",
       "      <td>NaN</td>\n",
       "      <td>NaN</td>\n",
       "      <td>Domestic</td>\n",
       "      <td>Cash</td>\n",
       "      <td>Cash</td>\n",
       "      <td>Cash</td>\n",
       "      <td>1.0</td>\n",
       "    </tr>\n",
       "    <tr>\n",
       "      <th>1</th>\n",
       "      <td>D000001</td>\n",
       "      <td>예금</td>\n",
       "      <td>1</td>\n",
       "      <td>1.0</td>\n",
       "      <td>NaN</td>\n",
       "      <td>NaN</td>\n",
       "      <td>NaN</td>\n",
       "      <td>NaN</td>\n",
       "      <td>Domestic</td>\n",
       "      <td>Cash</td>\n",
       "      <td>Deposit</td>\n",
       "      <td>Deposit</td>\n",
       "      <td>1.0</td>\n",
       "    </tr>\n",
       "    <tr>\n",
       "      <th>2</th>\n",
       "      <td>A069500</td>\n",
       "      <td>KODEX 200</td>\n",
       "      <td>42095</td>\n",
       "      <td>42105.0</td>\n",
       "      <td>5426223.0</td>\n",
       "      <td>228445.0</td>\n",
       "      <td>51545.00</td>\n",
       "      <td>KRX</td>\n",
       "      <td>Domestic</td>\n",
       "      <td>Equity</td>\n",
       "      <td>ETF</td>\n",
       "      <td>Large</td>\n",
       "      <td>0.7</td>\n",
       "    </tr>\n",
       "    <tr>\n",
       "      <th>3</th>\n",
       "      <td>A277630</td>\n",
       "      <td>TIGER 코스피</td>\n",
       "      <td>31060</td>\n",
       "      <td>31050.0</td>\n",
       "      <td>4776.0</td>\n",
       "      <td>148.0</td>\n",
       "      <td>637.00</td>\n",
       "      <td>KRX</td>\n",
       "      <td>Domestic</td>\n",
       "      <td>Equity</td>\n",
       "      <td>ETF</td>\n",
       "      <td>Broad</td>\n",
       "      <td>0.7</td>\n",
       "    </tr>\n",
       "    <tr>\n",
       "      <th>4</th>\n",
       "      <td>A292160</td>\n",
       "      <td>TIGER KRX300</td>\n",
       "      <td>19250</td>\n",
       "      <td>19270.0</td>\n",
       "      <td>60658.0</td>\n",
       "      <td>1163.0</td>\n",
       "      <td>327.00</td>\n",
       "      <td>KRX</td>\n",
       "      <td>Domestic</td>\n",
       "      <td>Equity</td>\n",
       "      <td>ETF</td>\n",
       "      <td>Large</td>\n",
       "      <td>0.7</td>\n",
       "    </tr>\n",
       "    <tr>\n",
       "      <th>...</th>\n",
       "      <td>...</td>\n",
       "      <td>...</td>\n",
       "      <td>...</td>\n",
       "      <td>...</td>\n",
       "      <td>...</td>\n",
       "      <td>...</td>\n",
       "      <td>...</td>\n",
       "      <td>...</td>\n",
       "      <td>...</td>\n",
       "      <td>...</td>\n",
       "      <td>...</td>\n",
       "      <td>...</td>\n",
       "      <td>...</td>\n",
       "    </tr>\n",
       "    <tr>\n",
       "      <th>94</th>\n",
       "      <td>A130730</td>\n",
       "      <td>KOSEF 단기자금</td>\n",
       "      <td>100970</td>\n",
       "      <td>100968.0</td>\n",
       "      <td>211753.0</td>\n",
       "      <td>21380.0</td>\n",
       "      <td>486.00</td>\n",
       "      <td>KRX</td>\n",
       "      <td>Domestic</td>\n",
       "      <td>Fixed Income</td>\n",
       "      <td>ETF</td>\n",
       "      <td>Money</td>\n",
       "      <td>1.0</td>\n",
       "    </tr>\n",
       "    <tr>\n",
       "      <th>95</th>\n",
       "      <td>A122260</td>\n",
       "      <td>KOSEF 통안채1년</td>\n",
       "      <td>101170</td>\n",
       "      <td>101173.0</td>\n",
       "      <td>193096.0</td>\n",
       "      <td>19536.0</td>\n",
       "      <td>475.00</td>\n",
       "      <td>KRX</td>\n",
       "      <td>Domestic</td>\n",
       "      <td>Fixed Income</td>\n",
       "      <td>ETF</td>\n",
       "      <td>ShortD</td>\n",
       "      <td>1.0</td>\n",
       "    </tr>\n",
       "    <tr>\n",
       "      <th>96</th>\n",
       "      <td>A329750</td>\n",
       "      <td>TIGER 미국달러단기채권액티브</td>\n",
       "      <td>9645</td>\n",
       "      <td>NaN</td>\n",
       "      <td>78822.0</td>\n",
       "      <td>760.0</td>\n",
       "      <td>378.00</td>\n",
       "      <td>KRX</td>\n",
       "      <td>USA</td>\n",
       "      <td>Alternative</td>\n",
       "      <td>ETF</td>\n",
       "      <td>Money</td>\n",
       "      <td>1.0</td>\n",
       "    </tr>\n",
       "    <tr>\n",
       "      <th>97</th>\n",
       "      <td>A196230</td>\n",
       "      <td>KBSTAR 단기통안채</td>\n",
       "      <td>104325</td>\n",
       "      <td>104325.0</td>\n",
       "      <td>388477.0</td>\n",
       "      <td>40527.0</td>\n",
       "      <td>1847.00</td>\n",
       "      <td>KRX</td>\n",
       "      <td>Domestic</td>\n",
       "      <td>Fixed Income</td>\n",
       "      <td>ETF</td>\n",
       "      <td>Money</td>\n",
       "      <td>1.0</td>\n",
       "    </tr>\n",
       "    <tr>\n",
       "      <th>98</th>\n",
       "      <td>A329650</td>\n",
       "      <td>KODEX TRF3070</td>\n",
       "      <td>10980</td>\n",
       "      <td>NaN</td>\n",
       "      <td>37484.0</td>\n",
       "      <td>411.0</td>\n",
       "      <td>239.21</td>\n",
       "      <td>KRX</td>\n",
       "      <td>Domestic</td>\n",
       "      <td>Alternative</td>\n",
       "      <td>ETF</td>\n",
       "      <td>Balanced</td>\n",
       "      <td>1.0</td>\n",
       "    </tr>\n",
       "  </tbody>\n",
       "</table>\n",
       "<p>99 rows × 13 columns</p>\n",
       "</div>"
      ],
      "text/plain": [
       "   itemcode           itemname   price       nav  volumne_sh  trading_amt_mln  \\\n",
       "0   C000001                 현금       1       1.0         NaN              NaN   \n",
       "1   D000001                 예금       1       1.0         NaN              NaN   \n",
       "2   A069500          KODEX 200   42095   42105.0   5426223.0         228445.0   \n",
       "3   A277630          TIGER 코스피   31060   31050.0      4776.0            148.0   \n",
       "4   A292160       TIGER KRX300   19250   19270.0     60658.0           1163.0   \n",
       "..      ...                ...     ...       ...         ...              ...   \n",
       "94  A130730         KOSEF 단기자금  100970  100968.0    211753.0          21380.0   \n",
       "95  A122260        KOSEF 통안채1년  101170  101173.0    193096.0          19536.0   \n",
       "96  A329750  TIGER 미국달러단기채권액티브    9645       NaN     78822.0            760.0   \n",
       "97  A196230       KBSTAR 단기통안채  104325  104325.0    388477.0          40527.0   \n",
       "98  A329650      KODEX TRF3070   10980       NaN     37484.0            411.0   \n",
       "\n",
       "    market_cap_100m exchange_nm    market   asset_class instruments  exposure  \\\n",
       "0               NaN         NaN  Domestic          Cash        Cash      Cash   \n",
       "1               NaN         NaN  Domestic          Cash     Deposit   Deposit   \n",
       "2          51545.00         KRX  Domestic        Equity         ETF     Large   \n",
       "3            637.00         KRX  Domestic        Equity         ETF     Broad   \n",
       "4            327.00         KRX  Domestic        Equity         ETF     Large   \n",
       "..              ...         ...       ...           ...         ...       ...   \n",
       "94           486.00         KRX  Domestic  Fixed Income         ETF     Money   \n",
       "95           475.00         KRX  Domestic  Fixed Income         ETF    ShortD   \n",
       "96           378.00         KRX       USA   Alternative         ETF     Money   \n",
       "97          1847.00         KRX  Domestic  Fixed Income         ETF     Money   \n",
       "98           239.21         KRX  Domestic   Alternative         ETF  Balanced   \n",
       "\n",
       "    dc_risky_asset  \n",
       "0              1.0  \n",
       "1              1.0  \n",
       "2              0.7  \n",
       "3              0.7  \n",
       "4              0.7  \n",
       "..             ...  \n",
       "94             1.0  \n",
       "95             1.0  \n",
       "96             1.0  \n",
       "97             1.0  \n",
       "98             1.0  \n",
       "\n",
       "[99 rows x 13 columns]"
      ]
     },
     "execution_count": 10,
     "metadata": {},
     "output_type": "execute_result"
    }
   ],
   "source": [
    "pd.read_pickle('./data/processed/universe.pkl')"
   ]
  },
  {
   "cell_type": "code",
   "execution_count": null,
   "id": "rational-finish",
   "metadata": {},
   "outputs": [],
   "source": []
  },
  {
   "cell_type": "code",
   "execution_count": 12,
   "id": "optional-neighborhood",
   "metadata": {
    "ExecuteTime": {
     "end_time": "2021-03-22T04:52:41.110835Z",
     "start_time": "2021-03-22T04:52:41.105847Z"
    }
   },
   "outputs": [
    {
     "data": {
      "text/plain": [
       "['a', 'b', 'c']"
      ]
     },
     "execution_count": 12,
     "metadata": {},
     "output_type": "execute_result"
    }
   ],
   "source": [
    "['a','b'] + ['c']"
   ]
  },
  {
   "cell_type": "code",
   "execution_count": null,
   "id": "dominican-valuable",
   "metadata": {},
   "outputs": [],
   "source": []
  },
  {
   "cell_type": "code",
   "execution_count": null,
   "id": "interesting-vietnamese",
   "metadata": {},
   "outputs": [],
   "source": [
    "def get_advised_portfolios"
   ]
  }
 ],
 "metadata": {
  "kernelspec": {
   "display_name": "Python 3",
   "language": "python",
   "name": "python3"
  },
  "language_info": {
   "codemirror_mode": {
    "name": "ipython",
    "version": 3
   },
   "file_extension": ".py",
   "mimetype": "text/x-python",
   "name": "python",
   "nbconvert_exporter": "python",
   "pygments_lexer": "ipython3",
   "version": "3.8.8"
  }
 },
 "nbformat": 4,
 "nbformat_minor": 5
}
