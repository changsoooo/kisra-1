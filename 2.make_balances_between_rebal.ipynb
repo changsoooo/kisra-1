{
 "cells": [
  {
   "cell_type": "code",
   "execution_count": 1,
   "id": "allied-variety",
   "metadata": {
    "ExecuteTime": {
     "end_time": "2021-07-31T07:13:20.185647Z",
     "start_time": "2021-07-31T07:13:17.676508Z"
    }
   },
   "outputs": [],
   "source": [
    "import numpy as np\n",
    "import pandas as pd\n",
    "from datetime import datetime\n",
    "from src.models.load_data import Balance, Instruments, AdvisedPortfolios, PriceDB, Singleton"
   ]
  },
  {
   "cell_type": "code",
   "execution_count": 5,
   "id": "changing-start",
   "metadata": {
    "ExecuteTime": {
     "end_time": "2021-07-31T08:13:33.843397Z",
     "start_time": "2021-07-31T08:13:33.835459Z"
    }
   },
   "outputs": [],
   "source": [
    "access_path = './data/processed/'\n",
    "# bal_from_nm = 'bal_btw_rebal_20210602.dat'\n",
    "last_rebal_nm = 'balance_rebaldate_0702_all.dat'"
   ]
  },
  {
   "cell_type": "code",
   "execution_count": 6,
   "id": "bright-round",
   "metadata": {
    "ExecuteTime": {
     "end_time": "2021-07-31T08:13:34.178630Z",
     "start_time": "2021-07-31T08:13:34.160336Z"
    }
   },
   "outputs": [],
   "source": [
    "bal_from = pd.read_csv(access_path + last_rebal_nm)\n",
    "price_db = PriceDB.instance().data"
   ]
  },
  {
   "cell_type": "code",
   "execution_count": 8,
   "id": "refined-friday",
   "metadata": {
    "ExecuteTime": {
     "end_time": "2021-07-31T08:13:41.581264Z",
     "start_time": "2021-07-31T08:13:41.565442Z"
    }
   },
   "outputs": [
    {
     "data": {
      "text/html": [
       "<div>\n",
       "<style scoped>\n",
       "    .dataframe tbody tr th:only-of-type {\n",
       "        vertical-align: middle;\n",
       "    }\n",
       "\n",
       "    .dataframe tbody tr th {\n",
       "        vertical-align: top;\n",
       "    }\n",
       "\n",
       "    .dataframe thead th {\n",
       "        text-align: right;\n",
       "    }\n",
       "</style>\n",
       "<table border=\"1\" class=\"dataframe\">\n",
       "  <thead>\n",
       "    <tr style=\"text-align: right;\">\n",
       "      <th></th>\n",
       "      <th>date</th>\n",
       "      <th>itemcode</th>\n",
       "      <th>price</th>\n",
       "      <th>volume</th>\n",
       "      <th>trading_amt_mln</th>\n",
       "      <th>ret</th>\n",
       "      <th>itemtype</th>\n",
       "    </tr>\n",
       "  </thead>\n",
       "  <tbody>\n",
       "    <tr>\n",
       "      <th>0</th>\n",
       "      <td>2018-07-20 00:00:00</td>\n",
       "      <td>A069500</td>\n",
       "      <td>27910.0000</td>\n",
       "      <td>8517238.0</td>\n",
       "      <td>237716.112580</td>\n",
       "      <td>NaN</td>\n",
       "      <td>ETF</td>\n",
       "    </tr>\n",
       "    <tr>\n",
       "      <th>1</th>\n",
       "      <td>2018-07-21 00:00:00</td>\n",
       "      <td>A069500</td>\n",
       "      <td>27910.0000</td>\n",
       "      <td>8517238.0</td>\n",
       "      <td>237716.112580</td>\n",
       "      <td>NaN</td>\n",
       "      <td>ETF</td>\n",
       "    </tr>\n",
       "    <tr>\n",
       "      <th>2</th>\n",
       "      <td>2018-07-22 00:00:00</td>\n",
       "      <td>A069500</td>\n",
       "      <td>27910.0000</td>\n",
       "      <td>8517238.0</td>\n",
       "      <td>237716.112580</td>\n",
       "      <td>NaN</td>\n",
       "      <td>ETF</td>\n",
       "    </tr>\n",
       "    <tr>\n",
       "      <th>3</th>\n",
       "      <td>2018-07-23 00:00:00</td>\n",
       "      <td>A069500</td>\n",
       "      <td>27685.0000</td>\n",
       "      <td>7283838.0</td>\n",
       "      <td>219684.583805</td>\n",
       "      <td>-0.008094</td>\n",
       "      <td>ETF</td>\n",
       "    </tr>\n",
       "    <tr>\n",
       "      <th>4</th>\n",
       "      <td>2018-07-24 00:00:00</td>\n",
       "      <td>A069500</td>\n",
       "      <td>27770.0000</td>\n",
       "      <td>2562621.0</td>\n",
       "      <td>170177.717593</td>\n",
       "      <td>0.003066</td>\n",
       "      <td>ETF</td>\n",
       "    </tr>\n",
       "    <tr>\n",
       "      <th>...</th>\n",
       "      <td>...</td>\n",
       "      <td>...</td>\n",
       "      <td>...</td>\n",
       "      <td>...</td>\n",
       "      <td>...</td>\n",
       "      <td>...</td>\n",
       "      <td>...</td>\n",
       "    </tr>\n",
       "    <tr>\n",
       "      <th>38565</th>\n",
       "      <td>2021-07-31</td>\n",
       "      <td>A283580</td>\n",
       "      <td>13670.0000</td>\n",
       "      <td>45156.0</td>\n",
       "      <td>782.000976</td>\n",
       "      <td>-0.005835</td>\n",
       "      <td>ETF</td>\n",
       "    </tr>\n",
       "    <tr>\n",
       "      <th>38566</th>\n",
       "      <td>2021-07-31</td>\n",
       "      <td>A292150</td>\n",
       "      <td>14605.0000</td>\n",
       "      <td>314427.0</td>\n",
       "      <td>5492.303664</td>\n",
       "      <td>-0.009879</td>\n",
       "      <td>ETF</td>\n",
       "    </tr>\n",
       "    <tr>\n",
       "      <th>38567</th>\n",
       "      <td>2021-07-31</td>\n",
       "      <td>A293180</td>\n",
       "      <td>42455.0000</td>\n",
       "      <td>16183.0</td>\n",
       "      <td>2589.006318</td>\n",
       "      <td>-0.012872</td>\n",
       "      <td>ETF</td>\n",
       "    </tr>\n",
       "    <tr>\n",
       "      <th>38568</th>\n",
       "      <td>2021-07-31</td>\n",
       "      <td>A302190</td>\n",
       "      <td>52745.0000</td>\n",
       "      <td>243.0</td>\n",
       "      <td>113.671938</td>\n",
       "      <td>0.000759</td>\n",
       "      <td>ETF</td>\n",
       "    </tr>\n",
       "    <tr>\n",
       "      <th>38569</th>\n",
       "      <td>2021-07-31</td>\n",
       "      <td>CALL</td>\n",
       "      <td>0.0051</td>\n",
       "      <td>NaN</td>\n",
       "      <td>NaN</td>\n",
       "      <td>NaN</td>\n",
       "      <td>riskfree</td>\n",
       "    </tr>\n",
       "  </tbody>\n",
       "</table>\n",
       "<p>38570 rows × 7 columns</p>\n",
       "</div>"
      ],
      "text/plain": [
       "                      date itemcode       price     volume  trading_amt_mln  \\\n",
       "0      2018-07-20 00:00:00  A069500  27910.0000  8517238.0    237716.112580   \n",
       "1      2018-07-21 00:00:00  A069500  27910.0000  8517238.0    237716.112580   \n",
       "2      2018-07-22 00:00:00  A069500  27910.0000  8517238.0    237716.112580   \n",
       "3      2018-07-23 00:00:00  A069500  27685.0000  7283838.0    219684.583805   \n",
       "4      2018-07-24 00:00:00  A069500  27770.0000  2562621.0    170177.717593   \n",
       "...                    ...      ...         ...        ...              ...   \n",
       "38565           2021-07-31  A283580  13670.0000    45156.0       782.000976   \n",
       "38566           2021-07-31  A292150  14605.0000   314427.0      5492.303664   \n",
       "38567           2021-07-31  A293180  42455.0000    16183.0      2589.006318   \n",
       "38568           2021-07-31  A302190  52745.0000      243.0       113.671938   \n",
       "38569           2021-07-31     CALL      0.0051        NaN              NaN   \n",
       "\n",
       "            ret  itemtype  \n",
       "0           NaN       ETF  \n",
       "1           NaN       ETF  \n",
       "2           NaN       ETF  \n",
       "3     -0.008094       ETF  \n",
       "4      0.003066       ETF  \n",
       "...         ...       ...  \n",
       "38565 -0.005835       ETF  \n",
       "38566 -0.009879       ETF  \n",
       "38567 -0.012872       ETF  \n",
       "38568  0.000759       ETF  \n",
       "38569       NaN  riskfree  \n",
       "\n",
       "[38570 rows x 7 columns]"
      ]
     },
     "execution_count": 8,
     "metadata": {},
     "output_type": "execute_result"
    }
   ],
   "source": [
    "price_db"
   ]
  },
  {
   "cell_type": "markdown",
   "id": "optimum-contractor",
   "metadata": {},
   "source": [
    "#### MP 발생일\n",
    "- 2021.5.3\n",
    "- 2021.6.2\n",
    "- 2021.7.2\n",
    "- 2021.8.1 (일요일)"
   ]
  },
  {
   "cell_type": "code",
   "execution_count": 87,
   "id": "elder-sally",
   "metadata": {
    "ExecuteTime": {
     "end_time": "2021-07-31T07:12:40.668270Z",
     "start_time": "2021-07-31T07:12:40.664473Z"
    }
   },
   "outputs": [],
   "source": [
    "# 두 MP발생일 사이 기간 설정\n",
    "start_dt = '20210703'  # MP발생 다음날부터\n",
    "end_dt = '20210731'    # MP발생 전날까지\n",
    "\n",
    "range_dt_ymd = pd.date_range(start=start_dt, end=end_dt, freq='D')  # price_db 날짜 포맷\n",
    "range_dt_mdy = range_dt_ymd.strftime('%-m/%-d/%Y')  # 잔고(balance) 날짜 포맷"
   ]
  },
  {
   "cell_type": "code",
   "execution_count": 88,
   "id": "metropolitan-footwear",
   "metadata": {
    "ExecuteTime": {
     "end_time": "2021-07-31T07:12:40.826794Z",
     "start_time": "2021-07-31T07:12:40.820621Z"
    }
   },
   "outputs": [],
   "source": [
    "# price_db 마지막 날짜를 휴일에 복사하기\n",
    "# temp = price_db[price_db.date==price_db.iloc[-1,0]].copy()\n",
    "# temp.date = '2021-07-31'\n",
    "# price_db = pd.concat((price_db, temp), axis=0)\n",
    "# price_db = price_db.reset_index(drop=True)"
   ]
  },
  {
   "cell_type": "code",
   "execution_count": 89,
   "id": "mobile-project",
   "metadata": {
    "ExecuteTime": {
     "end_time": "2021-07-31T07:12:41.163611Z",
     "start_time": "2021-07-31T07:12:41.033854Z"
    },
    "scrolled": true
   },
   "outputs": [],
   "source": []
  },
  {
   "cell_type": "code",
   "execution_count": 90,
   "id": "opposite-wells",
   "metadata": {
    "ExecuteTime": {
     "end_time": "2021-07-31T07:12:41.414433Z",
     "start_time": "2021-07-31T07:12:41.408600Z"
    }
   },
   "outputs": [],
   "source": []
  },
  {
   "cell_type": "markdown",
   "id": "mexican-miracle",
   "metadata": {
    "ExecuteTime": {
     "end_time": "2021-06-20T04:35:00.238543Z",
     "start_time": "2021-06-20T04:35:00.234516Z"
    }
   },
   "source": [
    "#### 최근 과거 MP발생일 잔고를 해당 기간 내 매일 매일의 잔고로 복사해 두고, price 컬럼과 value 컬럼을 업데이트하면 끝."
   ]
  },
  {
   "cell_type": "markdown",
   "id": "hundred-karma",
   "metadata": {},
   "source": [
    "- 잔고 복사"
   ]
  },
  {
   "cell_type": "code",
   "execution_count": 54,
   "id": "legislative-answer",
   "metadata": {
    "ExecuteTime": {
     "end_time": "2021-07-31T06:55:58.777818Z",
     "start_time": "2021-07-31T06:55:58.714150Z"
    }
   },
   "outputs": [],
   "source": [
    "df_list = []\n",
    "for cnt, dt in enumerate(range_dt_ymd):\n",
    "    temp = bal_from.copy(deep=True)\n",
    "    temp.date = dt\n",
    "    df_list.append(temp)\n",
    "    \n",
    "bal_btw_rebal = pd.concat(df_list)"
   ]
  },
  {
   "cell_type": "markdown",
   "id": "subsequent-norwegian",
   "metadata": {
    "ExecuteTime": {
     "end_time": "2021-06-20T06:10:53.838224Z",
     "start_time": "2021-06-20T06:10:53.824476Z"
    }
   },
   "source": [
    "- `price_db`를 이용해서 Price 컬럼 업데이트."
   ]
  },
  {
   "cell_type": "code",
   "execution_count": 55,
   "id": "green-teacher",
   "metadata": {
    "ExecuteTime": {
     "end_time": "2021-07-31T06:56:00.452525Z",
     "start_time": "2021-07-31T06:56:00.303871Z"
    }
   },
   "outputs": [],
   "source": [
    "bal_btw_rebal = bal_btw_rebal.set_index(['date', 'itemcode'])\n",
    "price_db = price_db.set_index(['date', 'itemcode'])\n",
    "bal_btw_rebal.update(price_db)\n",
    "bal_btw_rebal = bal_btw_rebal.reset_index(drop=False)"
   ]
  },
  {
   "cell_type": "markdown",
   "id": "north-transcription",
   "metadata": {},
   "source": [
    "- 사용자별/날짜별로 비중(`wt`) 계산"
   ]
  },
  {
   "cell_type": "code",
   "execution_count": 56,
   "id": "individual-ideal",
   "metadata": {
    "ExecuteTime": {
     "end_time": "2021-07-31T06:56:01.962308Z",
     "start_time": "2021-07-31T06:56:01.951714Z"
    }
   },
   "outputs": [],
   "source": [
    "bal_btw_rebal.value = bal_btw_rebal.quantity*bal_btw_rebal.price\n",
    "bal_btw_rebal.original = ''\n",
    "bal_btw_rebal.wt = bal_btw_rebal.value/bal_btw_rebal.groupby(['date', 'userid'])['value'].transform('sum')"
   ]
  },
  {
   "cell_type": "code",
   "execution_count": 57,
   "id": "hungarian-queens",
   "metadata": {
    "ExecuteTime": {
     "end_time": "2021-07-31T06:56:03.514014Z",
     "start_time": "2021-07-31T06:56:03.488197Z"
    }
   },
   "outputs": [
    {
     "data": {
      "text/html": [
       "<div>\n",
       "<style scoped>\n",
       "    .dataframe tbody tr th:only-of-type {\n",
       "        vertical-align: middle;\n",
       "    }\n",
       "\n",
       "    .dataframe tbody tr th {\n",
       "        vertical-align: top;\n",
       "    }\n",
       "\n",
       "    .dataframe thead th {\n",
       "        text-align: right;\n",
       "    }\n",
       "</style>\n",
       "<table border=\"1\" class=\"dataframe\">\n",
       "  <thead>\n",
       "    <tr style=\"text-align: right;\">\n",
       "      <th></th>\n",
       "      <th>date</th>\n",
       "      <th>itemcode</th>\n",
       "      <th>userid</th>\n",
       "      <th>name</th>\n",
       "      <th>asset_class</th>\n",
       "      <th>itemname</th>\n",
       "      <th>quantity</th>\n",
       "      <th>cost_price</th>\n",
       "      <th>cost_value</th>\n",
       "      <th>price</th>\n",
       "      <th>value</th>\n",
       "      <th>wt</th>\n",
       "      <th>group_by</th>\n",
       "      <th>original</th>\n",
       "    </tr>\n",
       "  </thead>\n",
       "  <tbody>\n",
       "    <tr>\n",
       "      <th>0</th>\n",
       "      <td>2021-07-03</td>\n",
       "      <td>A114260</td>\n",
       "      <td>A001</td>\n",
       "      <td>안정추구형소규모</td>\n",
       "      <td>Fixed Income</td>\n",
       "      <td>KODEX 국고채3년</td>\n",
       "      <td>2.0</td>\n",
       "      <td>57845.0</td>\n",
       "      <td>115690.0</td>\n",
       "      <td>57790.0</td>\n",
       "      <td>115580.0</td>\n",
       "      <td>0.162089</td>\n",
       "      <td>NaN</td>\n",
       "      <td></td>\n",
       "    </tr>\n",
       "    <tr>\n",
       "      <th>1</th>\n",
       "      <td>2021-07-03</td>\n",
       "      <td>A122260</td>\n",
       "      <td>A001</td>\n",
       "      <td>안정추구형소규모</td>\n",
       "      <td>Fixed Income</td>\n",
       "      <td>KOSEF 통안채1년</td>\n",
       "      <td>1.0</td>\n",
       "      <td>101120.0</td>\n",
       "      <td>101120.0</td>\n",
       "      <td>101115.0</td>\n",
       "      <td>101115.0</td>\n",
       "      <td>0.141804</td>\n",
       "      <td>NaN</td>\n",
       "      <td></td>\n",
       "    </tr>\n",
       "    <tr>\n",
       "      <th>2</th>\n",
       "      <td>2021-07-03</td>\n",
       "      <td>A130730</td>\n",
       "      <td>A001</td>\n",
       "      <td>안정추구형소규모</td>\n",
       "      <td>Fixed Income</td>\n",
       "      <td>KOSEF 단기자금</td>\n",
       "      <td>2.0</td>\n",
       "      <td>101060.0</td>\n",
       "      <td>202120.0</td>\n",
       "      <td>101060.0</td>\n",
       "      <td>202120.0</td>\n",
       "      <td>0.283453</td>\n",
       "      <td>NaN</td>\n",
       "      <td></td>\n",
       "    </tr>\n",
       "    <tr>\n",
       "      <th>3</th>\n",
       "      <td>2021-07-03</td>\n",
       "      <td>A196230</td>\n",
       "      <td>A001</td>\n",
       "      <td>안정추구형소규모</td>\n",
       "      <td>Fixed Income</td>\n",
       "      <td>KBSTAR 단기통안채</td>\n",
       "      <td>1.0</td>\n",
       "      <td>104430.0</td>\n",
       "      <td>104430.0</td>\n",
       "      <td>104435.0</td>\n",
       "      <td>104435.0</td>\n",
       "      <td>0.146460</td>\n",
       "      <td>NaN</td>\n",
       "      <td></td>\n",
       "    </tr>\n",
       "    <tr>\n",
       "      <th>4</th>\n",
       "      <td>2021-07-03</td>\n",
       "      <td>A273130</td>\n",
       "      <td>A001</td>\n",
       "      <td>안정추구형소규모</td>\n",
       "      <td>Fixed Income</td>\n",
       "      <td>KODEX 종합채권(AA-이상)액티브</td>\n",
       "      <td>1.0</td>\n",
       "      <td>108635.0</td>\n",
       "      <td>108635.0</td>\n",
       "      <td>108665.0</td>\n",
       "      <td>108665.0</td>\n",
       "      <td>0.152392</td>\n",
       "      <td>NaN</td>\n",
       "      <td></td>\n",
       "    </tr>\n",
       "    <tr>\n",
       "      <th>...</th>\n",
       "      <td>...</td>\n",
       "      <td>...</td>\n",
       "      <td>...</td>\n",
       "      <td>...</td>\n",
       "      <td>...</td>\n",
       "      <td>...</td>\n",
       "      <td>...</td>\n",
       "      <td>...</td>\n",
       "      <td>...</td>\n",
       "      <td>...</td>\n",
       "      <td>...</td>\n",
       "      <td>...</td>\n",
       "      <td>...</td>\n",
       "      <td>...</td>\n",
       "    </tr>\n",
       "    <tr>\n",
       "      <th>2083</th>\n",
       "      <td>2021-07-31</td>\n",
       "      <td>A157490</td>\n",
       "      <td>A009</td>\n",
       "      <td>적극투자형대규모</td>\n",
       "      <td>Equity</td>\n",
       "      <td>TIGER 소프트웨어</td>\n",
       "      <td>17.0</td>\n",
       "      <td>19565.0</td>\n",
       "      <td>332605.0</td>\n",
       "      <td>19150.0</td>\n",
       "      <td>325550.0</td>\n",
       "      <td>0.241752</td>\n",
       "      <td>NaN</td>\n",
       "      <td></td>\n",
       "    </tr>\n",
       "    <tr>\n",
       "      <th>2084</th>\n",
       "      <td>2021-07-31</td>\n",
       "      <td>A266370</td>\n",
       "      <td>A009</td>\n",
       "      <td>적극투자형대규모</td>\n",
       "      <td>Equity</td>\n",
       "      <td>KODEX IT</td>\n",
       "      <td>9.0</td>\n",
       "      <td>21175.0</td>\n",
       "      <td>190575.0</td>\n",
       "      <td>20860.0</td>\n",
       "      <td>187740.0</td>\n",
       "      <td>0.139415</td>\n",
       "      <td>NaN</td>\n",
       "      <td></td>\n",
       "    </tr>\n",
       "    <tr>\n",
       "      <th>2085</th>\n",
       "      <td>2021-07-31</td>\n",
       "      <td>A069500</td>\n",
       "      <td>A009</td>\n",
       "      <td>적극투자형대규모</td>\n",
       "      <td>Equity</td>\n",
       "      <td>KODEX 200</td>\n",
       "      <td>3.0</td>\n",
       "      <td>43640.0</td>\n",
       "      <td>130920.0</td>\n",
       "      <td>42485.0</td>\n",
       "      <td>127455.0</td>\n",
       "      <td>0.094647</td>\n",
       "      <td>NaN</td>\n",
       "      <td></td>\n",
       "    </tr>\n",
       "    <tr>\n",
       "      <th>2086</th>\n",
       "      <td>2021-07-31</td>\n",
       "      <td>A114260</td>\n",
       "      <td>A009</td>\n",
       "      <td>적극투자형대규모</td>\n",
       "      <td>Fixed Income</td>\n",
       "      <td>KODEX 국고채3년</td>\n",
       "      <td>1.0</td>\n",
       "      <td>57845.0</td>\n",
       "      <td>57845.0</td>\n",
       "      <td>58030.0</td>\n",
       "      <td>58030.0</td>\n",
       "      <td>0.043093</td>\n",
       "      <td>NaN</td>\n",
       "      <td></td>\n",
       "    </tr>\n",
       "    <tr>\n",
       "      <th>2087</th>\n",
       "      <td>2021-07-31</td>\n",
       "      <td>C000001</td>\n",
       "      <td>A009</td>\n",
       "      <td>적극투자형대규모</td>\n",
       "      <td>Cash</td>\n",
       "      <td>현금</td>\n",
       "      <td>6715.0</td>\n",
       "      <td>1.0</td>\n",
       "      <td>6715.0</td>\n",
       "      <td>1.0</td>\n",
       "      <td>6715.0</td>\n",
       "      <td>0.004987</td>\n",
       "      <td>NaN</td>\n",
       "      <td></td>\n",
       "    </tr>\n",
       "  </tbody>\n",
       "</table>\n",
       "<p>2088 rows × 14 columns</p>\n",
       "</div>"
      ],
      "text/plain": [
       "           date itemcode userid      name   asset_class              itemname  \\\n",
       "0    2021-07-03  A114260   A001  안정추구형소규모  Fixed Income           KODEX 국고채3년   \n",
       "1    2021-07-03  A122260   A001  안정추구형소규모  Fixed Income           KOSEF 통안채1년   \n",
       "2    2021-07-03  A130730   A001  안정추구형소규모  Fixed Income            KOSEF 단기자금   \n",
       "3    2021-07-03  A196230   A001  안정추구형소규모  Fixed Income          KBSTAR 단기통안채   \n",
       "4    2021-07-03  A273130   A001  안정추구형소규모  Fixed Income  KODEX 종합채권(AA-이상)액티브   \n",
       "...         ...      ...    ...       ...           ...                   ...   \n",
       "2083 2021-07-31  A157490   A009  적극투자형대규모        Equity           TIGER 소프트웨어   \n",
       "2084 2021-07-31  A266370   A009  적극투자형대규모        Equity              KODEX IT   \n",
       "2085 2021-07-31  A069500   A009  적극투자형대규모        Equity             KODEX 200   \n",
       "2086 2021-07-31  A114260   A009  적극투자형대규모  Fixed Income           KODEX 국고채3년   \n",
       "2087 2021-07-31  C000001   A009  적극투자형대규모          Cash                    현금   \n",
       "\n",
       "      quantity  cost_price  cost_value     price     value        wt  \\\n",
       "0          2.0     57845.0    115690.0   57790.0  115580.0  0.162089   \n",
       "1          1.0    101120.0    101120.0  101115.0  101115.0  0.141804   \n",
       "2          2.0    101060.0    202120.0  101060.0  202120.0  0.283453   \n",
       "3          1.0    104430.0    104430.0  104435.0  104435.0  0.146460   \n",
       "4          1.0    108635.0    108635.0  108665.0  108665.0  0.152392   \n",
       "...        ...         ...         ...       ...       ...       ...   \n",
       "2083      17.0     19565.0    332605.0   19150.0  325550.0  0.241752   \n",
       "2084       9.0     21175.0    190575.0   20860.0  187740.0  0.139415   \n",
       "2085       3.0     43640.0    130920.0   42485.0  127455.0  0.094647   \n",
       "2086       1.0     57845.0     57845.0   58030.0   58030.0  0.043093   \n",
       "2087    6715.0         1.0      6715.0       1.0    6715.0  0.004987   \n",
       "\n",
       "      group_by original  \n",
       "0          NaN           \n",
       "1          NaN           \n",
       "2          NaN           \n",
       "3          NaN           \n",
       "4          NaN           \n",
       "...        ...      ...  \n",
       "2083       NaN           \n",
       "2084       NaN           \n",
       "2085       NaN           \n",
       "2086       NaN           \n",
       "2087       NaN           \n",
       "\n",
       "[2088 rows x 14 columns]"
      ]
     },
     "execution_count": 57,
     "metadata": {},
     "output_type": "execute_result"
    }
   ],
   "source": [
    "bal_btw_rebal"
   ]
  },
  {
   "cell_type": "code",
   "execution_count": 58,
   "id": "beautiful-highway",
   "metadata": {
    "ExecuteTime": {
     "end_time": "2021-07-31T06:56:23.837498Z",
     "start_time": "2021-07-31T06:56:23.769467Z"
    }
   },
   "outputs": [],
   "source": [
    "bal_btw_rebal.to_csv(access_path + 'bal_btw_rebal.dat', index=False, encoding='utf-8-sig')"
   ]
  },
  {
   "cell_type": "code",
   "execution_count": 59,
   "id": "automatic-portland",
   "metadata": {
    "ExecuteTime": {
     "end_time": "2021-07-31T06:56:24.262420Z",
     "start_time": "2021-07-31T06:56:24.258311Z"
    }
   },
   "outputs": [
    {
     "data": {
      "text/plain": [
       "Index(['date', 'itemcode', 'userid', 'name', 'asset_class', 'itemname',\n",
       "       'quantity', 'cost_price', 'cost_value', 'price', 'value', 'wt',\n",
       "       'group_by', 'original'],\n",
       "      dtype='object')"
      ]
     },
     "execution_count": 59,
     "metadata": {},
     "output_type": "execute_result"
    }
   ],
   "source": [
    "bal_btw_rebal.columns"
   ]
  },
  {
   "cell_type": "code",
   "execution_count": null,
   "id": "criminal-society",
   "metadata": {},
   "outputs": [],
   "source": []
  }
 ],
 "metadata": {
  "kernelspec": {
   "display_name": "Python 3",
   "language": "python",
   "name": "python3"
  },
  "language_info": {
   "codemirror_mode": {
    "name": "ipython",
    "version": 3
   },
   "file_extension": ".py",
   "mimetype": "text/x-python",
   "name": "python",
   "nbconvert_exporter": "python",
   "pygments_lexer": "ipython3",
   "version": "3.8.8"
  }
 },
 "nbformat": 4,
 "nbformat_minor": 5
}
