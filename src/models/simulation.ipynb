{
 "cells": [
  {
   "cell_type": "code",
   "execution_count": 1,
   "id": "scheduled-round",
   "metadata": {
    "ExecuteTime": {
     "end_time": "2021-03-23T07:51:31.278084Z",
     "start_time": "2021-03-23T07:51:29.906761Z"
    }
   },
   "outputs": [],
   "source": [
    "import pandas as pd\n",
    "from load_data import Balance, Instruments, AdvisedPortfolios, PriceDB, Singleton"
   ]
  },
  {
   "cell_type": "markdown",
   "id": "actual-apollo",
   "metadata": {},
   "source": [
    "## 추천받은 포트폴리오 -> 잔고(detail 테이블"
   ]
  },
  {
   "cell_type": "code",
   "execution_count": 2,
   "id": "specific-bernard",
   "metadata": {
    "ExecuteTime": {
     "end_time": "2021-03-23T07:51:31.309001Z",
     "start_time": "2021-03-23T07:51:31.280080Z"
    }
   },
   "outputs": [],
   "source": [
    "instruments_m = pd.read_pickle('../../data/processed/instruments_m.pkl')\n",
    "price_db = pd.read_pickle('../../data/external/price_db_d.pkl')\n",
    "advised_pf = pd.read_pickle('../../data/processed/advised_portfolios.pkl')    "
   ]
  },
  {
   "cell_type": "code",
   "execution_count": 3,
   "id": "exotic-sheriff",
   "metadata": {
    "ExecuteTime": {
     "end_time": "2021-03-23T07:51:31.324958Z",
     "start_time": "2021-03-23T07:51:31.310996Z"
    }
   },
   "outputs": [],
   "source": [
    "userid = 'A00'\n",
    "username = '투자자0'\n",
    "current_date = '2021-02-01'\n",
    "risk_profile = 2\n",
    "\n",
    "# c_date: 추천 포트폴리오DB에서 사용자가 입력한 날짜와 가장 가까운 날짜.\n",
    "c_date = advised_pf.loc[advised_pf.date <= current_date, ['date']].max().date\n",
    "new_units = {'A122260': 2, 'A114260': 4, 'A130730': 2, 'A329650': 13, 'A266370': 4}\n",
    "prices = {'A122260': [101185.0, 'KRW'], 'A114260': [57900.0, 'KRW'], 'A130730': [100975.0, 'KRW'], 'A329650': [10980.0, 'KRW'], 'A266370': [21325.0, 'KRW']}\n",
    "df = advised_pf.loc[(advised_pf.date==c_date) & (advised_pf.risk_profile==risk_profile), :]\n",
    "remaining_cash = 135786"
   ]
  },
  {
   "cell_type": "code",
   "execution_count": 4,
   "id": "liberal-heater",
   "metadata": {
    "ExecuteTime": {
     "end_time": "2021-03-23T07:51:31.346899Z",
     "start_time": "2021-03-23T07:51:31.326953Z"
    }
   },
   "outputs": [],
   "source": [
    "# 보유수량\n",
    "detail = pd.DataFrame.from_dict(new_units, orient='index').rename(columns={0:'quantity'})\n",
    "detail.index.name='itemcode'\n",
    "\n",
    "# 매입가격\n",
    "temp = pd.DataFrame.from_dict(prices, orient='index').rename(columns={0:'cost_price'}).drop([1], axis=1)\n",
    "temp.index.name='itemcode'\n",
    "\n",
    "# 병합\n",
    "detail = detail.merge(temp, left_index=True, right_index=True, how='inner')\n",
    "\n",
    "detail['price'] = \n",
    "detail['cost_value'] = detail['quantity']*detail['cost_price']\n",
    "detail['value'] = detail['quantity']*detail['cost_price']  # 매입가와 평가가격 동일하다고 가정\n",
    "detail = detail.merge(instruments_m.loc[:, ['itemcode', 'itemname', 'asset_class']], left_on='itemcode', right_on='itemcode', how='left')\n",
    "detail = detail.reset_index(drop=True)"
   ]
  },
  {
   "cell_type": "code",
   "execution_count": 20,
   "id": "backed-combining",
   "metadata": {
    "ExecuteTime": {
     "end_time": "2021-03-23T08:25:45.226077Z",
     "start_time": "2021-03-23T08:25:45.222088Z"
    }
   },
   "outputs": [],
   "source": [
    "detail['price'] = detail['cost_price']"
   ]
  },
  {
   "cell_type": "code",
   "execution_count": 5,
   "id": "duplicate-removal",
   "metadata": {
    "ExecuteTime": {
     "end_time": "2021-03-23T07:51:31.353880Z",
     "start_time": "2021-03-23T07:51:31.347897Z"
    }
   },
   "outputs": [],
   "source": [
    "df_cash = {\n",
    "    'itemcode': 'C000001',\n",
    "    'quantity': remaining_cash,\n",
    "    'cost_price': 1,\n",
    "    'cost_value': remaining_cash,\n",
    "    'value': remaining_cash,\n",
    "    'itemname': '현금',\n",
    "    'asset_class': 'Cash'\n",
    "}\n",
    "df_cash = pd.DataFrame.from_dict(df_cash, orient='index').T"
   ]
  },
  {
   "cell_type": "code",
   "execution_count": 6,
   "id": "following-documentary",
   "metadata": {
    "ExecuteTime": {
     "end_time": "2021-03-23T07:51:31.360867Z",
     "start_time": "2021-03-23T07:51:31.354878Z"
    }
   },
   "outputs": [],
   "source": [
    "detail = pd.concat([detail, df_cash])"
   ]
  },
  {
   "cell_type": "code",
   "execution_count": 13,
   "id": "neither-rachel",
   "metadata": {
    "ExecuteTime": {
     "end_time": "2021-03-23T07:56:43.921501Z",
     "start_time": "2021-03-23T07:56:43.916514Z"
    }
   },
   "outputs": [],
   "source": [
    "detail['date'] = c_date\n",
    "detail['date'] = pd.to_datetime(detail['date'], format='%Y-%m-%d').dt.strftime('%m/%d/%Y 4:0:00 PM').astype(str)\n",
    "detail['userid'] = userid\n",
    "detail['username'] = username\n",
    "detail['original'] = 'N'\n",
    "detail['group_by'] = ''"
   ]
  },
  {
   "cell_type": "code",
   "execution_count": 14,
   "id": "ruled-archive",
   "metadata": {
    "ExecuteTime": {
     "end_time": "2021-03-23T07:56:46.327206Z",
     "start_time": "2021-03-23T07:56:46.316235Z"
    }
   },
   "outputs": [
    {
     "data": {
      "text/html": [
       "<div>\n",
       "<style scoped>\n",
       "    .dataframe tbody tr th:only-of-type {\n",
       "        vertical-align: middle;\n",
       "    }\n",
       "\n",
       "    .dataframe tbody tr th {\n",
       "        vertical-align: top;\n",
       "    }\n",
       "\n",
       "    .dataframe thead th {\n",
       "        text-align: right;\n",
       "    }\n",
       "</style>\n",
       "<table border=\"1\" class=\"dataframe\">\n",
       "  <thead>\n",
       "    <tr style=\"text-align: right;\">\n",
       "      <th></th>\n",
       "      <th>itemcode</th>\n",
       "      <th>quantity</th>\n",
       "      <th>cost_price</th>\n",
       "      <th>cost_value</th>\n",
       "      <th>value</th>\n",
       "      <th>itemname</th>\n",
       "      <th>asset_class</th>\n",
       "      <th>date</th>\n",
       "      <th>userid</th>\n",
       "      <th>username</th>\n",
       "      <th>wt</th>\n",
       "      <th>original</th>\n",
       "      <th>group_by</th>\n",
       "    </tr>\n",
       "  </thead>\n",
       "  <tbody>\n",
       "    <tr>\n",
       "      <th>0</th>\n",
       "      <td>A122260</td>\n",
       "      <td>2</td>\n",
       "      <td>101185</td>\n",
       "      <td>202370</td>\n",
       "      <td>202370</td>\n",
       "      <td>KOSEF 통안채1년</td>\n",
       "      <td>Fixed Income</td>\n",
       "      <td>02/01/2021 4:0:00 PM</td>\n",
       "      <td>A00</td>\n",
       "      <td>투자자0</td>\n",
       "      <td>0.202421</td>\n",
       "      <td>N</td>\n",
       "      <td></td>\n",
       "    </tr>\n",
       "    <tr>\n",
       "      <th>1</th>\n",
       "      <td>A114260</td>\n",
       "      <td>4</td>\n",
       "      <td>57900</td>\n",
       "      <td>231600</td>\n",
       "      <td>231600</td>\n",
       "      <td>KODEX 국고채3년</td>\n",
       "      <td>Fixed Income</td>\n",
       "      <td>02/01/2021 4:0:00 PM</td>\n",
       "      <td>A00</td>\n",
       "      <td>투자자0</td>\n",
       "      <td>0.231659</td>\n",
       "      <td>N</td>\n",
       "      <td></td>\n",
       "    </tr>\n",
       "    <tr>\n",
       "      <th>2</th>\n",
       "      <td>A130730</td>\n",
       "      <td>2</td>\n",
       "      <td>100975</td>\n",
       "      <td>201950</td>\n",
       "      <td>201950</td>\n",
       "      <td>KOSEF 단기자금</td>\n",
       "      <td>Fixed Income</td>\n",
       "      <td>02/01/2021 4:0:00 PM</td>\n",
       "      <td>A00</td>\n",
       "      <td>투자자0</td>\n",
       "      <td>0.202001</td>\n",
       "      <td>N</td>\n",
       "      <td></td>\n",
       "    </tr>\n",
       "    <tr>\n",
       "      <th>3</th>\n",
       "      <td>A329650</td>\n",
       "      <td>13</td>\n",
       "      <td>10980</td>\n",
       "      <td>142740</td>\n",
       "      <td>142740</td>\n",
       "      <td>KODEX TRF3070</td>\n",
       "      <td>Alternative</td>\n",
       "      <td>02/01/2021 4:0:00 PM</td>\n",
       "      <td>A00</td>\n",
       "      <td>투자자0</td>\n",
       "      <td>0.142776</td>\n",
       "      <td>N</td>\n",
       "      <td></td>\n",
       "    </tr>\n",
       "    <tr>\n",
       "      <th>4</th>\n",
       "      <td>A266370</td>\n",
       "      <td>4</td>\n",
       "      <td>21325</td>\n",
       "      <td>85300</td>\n",
       "      <td>85300</td>\n",
       "      <td>KODEX IT</td>\n",
       "      <td>Equity</td>\n",
       "      <td>02/01/2021 4:0:00 PM</td>\n",
       "      <td>A00</td>\n",
       "      <td>투자자0</td>\n",
       "      <td>0.0853217</td>\n",
       "      <td>N</td>\n",
       "      <td></td>\n",
       "    </tr>\n",
       "    <tr>\n",
       "      <th>5</th>\n",
       "      <td>C000001</td>\n",
       "      <td>135786</td>\n",
       "      <td>1</td>\n",
       "      <td>135786</td>\n",
       "      <td>135786</td>\n",
       "      <td>현금</td>\n",
       "      <td>Cash</td>\n",
       "      <td>02/01/2021 4:0:00 PM</td>\n",
       "      <td>A00</td>\n",
       "      <td>투자자0</td>\n",
       "      <td>0.13582</td>\n",
       "      <td>N</td>\n",
       "      <td></td>\n",
       "    </tr>\n",
       "  </tbody>\n",
       "</table>\n",
       "</div>"
      ],
      "text/plain": [
       "  itemcode quantity cost_price cost_value   value       itemname  \\\n",
       "0  A122260        2     101185     202370  202370    KOSEF 통안채1년   \n",
       "1  A114260        4      57900     231600  231600    KODEX 국고채3년   \n",
       "2  A130730        2     100975     201950  201950     KOSEF 단기자금   \n",
       "3  A329650       13      10980     142740  142740  KODEX TRF3070   \n",
       "4  A266370        4      21325      85300   85300       KODEX IT   \n",
       "5  C000001   135786          1     135786  135786             현금   \n",
       "\n",
       "    asset_class                  date userid username         wt original  \\\n",
       "0  Fixed Income  02/01/2021 4:0:00 PM    A00     투자자0   0.202421        N   \n",
       "1  Fixed Income  02/01/2021 4:0:00 PM    A00     투자자0   0.231659        N   \n",
       "2  Fixed Income  02/01/2021 4:0:00 PM    A00     투자자0   0.202001        N   \n",
       "3   Alternative  02/01/2021 4:0:00 PM    A00     투자자0   0.142776        N   \n",
       "4        Equity  02/01/2021 4:0:00 PM    A00     투자자0  0.0853217        N   \n",
       "5          Cash  02/01/2021 4:0:00 PM    A00     투자자0    0.13582        N   \n",
       "\n",
       "  group_by  \n",
       "0           \n",
       "1           \n",
       "2           \n",
       "3           \n",
       "4           \n",
       "5           "
      ]
     },
     "execution_count": 14,
     "metadata": {},
     "output_type": "execute_result"
    }
   ],
   "source": [
    "detail"
   ]
  },
  {
   "cell_type": "code",
   "execution_count": 8,
   "id": "executive-report",
   "metadata": {
    "ExecuteTime": {
     "end_time": "2021-03-23T07:51:31.375822Z",
     "start_time": "2021-03-23T07:51:31.370836Z"
    }
   },
   "outputs": [],
   "source": [
    "detail = detail.reset_index(drop=True)"
   ]
  },
  {
   "cell_type": "code",
   "execution_count": 9,
   "id": "intellectual-turkish",
   "metadata": {
    "ExecuteTime": {
     "end_time": "2021-03-23T07:51:31.393775Z",
     "start_time": "2021-03-23T07:51:31.376819Z"
    }
   },
   "outputs": [
    {
     "data": {
      "text/html": [
       "<div>\n",
       "<style scoped>\n",
       "    .dataframe tbody tr th:only-of-type {\n",
       "        vertical-align: middle;\n",
       "    }\n",
       "\n",
       "    .dataframe tbody tr th {\n",
       "        vertical-align: top;\n",
       "    }\n",
       "\n",
       "    .dataframe thead th {\n",
       "        text-align: right;\n",
       "    }\n",
       "</style>\n",
       "<table border=\"1\" class=\"dataframe\">\n",
       "  <thead>\n",
       "    <tr style=\"text-align: right;\">\n",
       "      <th></th>\n",
       "      <th>itemcode</th>\n",
       "      <th>quantity</th>\n",
       "      <th>cost_price</th>\n",
       "      <th>cost_value</th>\n",
       "      <th>value</th>\n",
       "      <th>itemname</th>\n",
       "      <th>asset_class</th>\n",
       "      <th>date</th>\n",
       "      <th>userid</th>\n",
       "      <th>username</th>\n",
       "    </tr>\n",
       "  </thead>\n",
       "  <tbody>\n",
       "    <tr>\n",
       "      <th>0</th>\n",
       "      <td>A122260</td>\n",
       "      <td>2</td>\n",
       "      <td>101185</td>\n",
       "      <td>202370</td>\n",
       "      <td>202370</td>\n",
       "      <td>KOSEF 통안채1년</td>\n",
       "      <td>Fixed Income</td>\n",
       "      <td>02/01/2021 4:0:00 PM</td>\n",
       "      <td>A00</td>\n",
       "      <td>투자자0</td>\n",
       "    </tr>\n",
       "    <tr>\n",
       "      <th>1</th>\n",
       "      <td>A114260</td>\n",
       "      <td>4</td>\n",
       "      <td>57900</td>\n",
       "      <td>231600</td>\n",
       "      <td>231600</td>\n",
       "      <td>KODEX 국고채3년</td>\n",
       "      <td>Fixed Income</td>\n",
       "      <td>02/01/2021 4:0:00 PM</td>\n",
       "      <td>A00</td>\n",
       "      <td>투자자0</td>\n",
       "    </tr>\n",
       "    <tr>\n",
       "      <th>2</th>\n",
       "      <td>A130730</td>\n",
       "      <td>2</td>\n",
       "      <td>100975</td>\n",
       "      <td>201950</td>\n",
       "      <td>201950</td>\n",
       "      <td>KOSEF 단기자금</td>\n",
       "      <td>Fixed Income</td>\n",
       "      <td>02/01/2021 4:0:00 PM</td>\n",
       "      <td>A00</td>\n",
       "      <td>투자자0</td>\n",
       "    </tr>\n",
       "    <tr>\n",
       "      <th>3</th>\n",
       "      <td>A329650</td>\n",
       "      <td>13</td>\n",
       "      <td>10980</td>\n",
       "      <td>142740</td>\n",
       "      <td>142740</td>\n",
       "      <td>KODEX TRF3070</td>\n",
       "      <td>Alternative</td>\n",
       "      <td>02/01/2021 4:0:00 PM</td>\n",
       "      <td>A00</td>\n",
       "      <td>투자자0</td>\n",
       "    </tr>\n",
       "    <tr>\n",
       "      <th>4</th>\n",
       "      <td>A266370</td>\n",
       "      <td>4</td>\n",
       "      <td>21325</td>\n",
       "      <td>85300</td>\n",
       "      <td>85300</td>\n",
       "      <td>KODEX IT</td>\n",
       "      <td>Equity</td>\n",
       "      <td>02/01/2021 4:0:00 PM</td>\n",
       "      <td>A00</td>\n",
       "      <td>투자자0</td>\n",
       "    </tr>\n",
       "    <tr>\n",
       "      <th>5</th>\n",
       "      <td>C000001</td>\n",
       "      <td>135786</td>\n",
       "      <td>1</td>\n",
       "      <td>135786</td>\n",
       "      <td>135786</td>\n",
       "      <td>현금</td>\n",
       "      <td>Cash</td>\n",
       "      <td>02/01/2021 4:0:00 PM</td>\n",
       "      <td>A00</td>\n",
       "      <td>투자자0</td>\n",
       "    </tr>\n",
       "  </tbody>\n",
       "</table>\n",
       "</div>"
      ],
      "text/plain": [
       "  itemcode quantity cost_price cost_value   value       itemname  \\\n",
       "0  A122260        2     101185     202370  202370    KOSEF 통안채1년   \n",
       "1  A114260        4      57900     231600  231600    KODEX 국고채3년   \n",
       "2  A130730        2     100975     201950  201950     KOSEF 단기자금   \n",
       "3  A329650       13      10980     142740  142740  KODEX TRF3070   \n",
       "4  A266370        4      21325      85300   85300       KODEX IT   \n",
       "5  C000001   135786          1     135786  135786             현금   \n",
       "\n",
       "    asset_class                  date userid username  \n",
       "0  Fixed Income  02/01/2021 4:0:00 PM    A00     투자자0  \n",
       "1  Fixed Income  02/01/2021 4:0:00 PM    A00     투자자0  \n",
       "2  Fixed Income  02/01/2021 4:0:00 PM    A00     투자자0  \n",
       "3   Alternative  02/01/2021 4:0:00 PM    A00     투자자0  \n",
       "4        Equity  02/01/2021 4:0:00 PM    A00     투자자0  \n",
       "5          Cash  02/01/2021 4:0:00 PM    A00     투자자0  "
      ]
     },
     "execution_count": 9,
     "metadata": {},
     "output_type": "execute_result"
    }
   ],
   "source": [
    "detail"
   ]
  },
  {
   "cell_type": "code",
   "execution_count": 10,
   "id": "focal-coach",
   "metadata": {
    "ExecuteTime": {
     "end_time": "2021-03-23T07:51:31.400755Z",
     "start_time": "2021-03-23T07:51:31.395769Z"
    }
   },
   "outputs": [],
   "source": [
    "detail['wt'] = detail.value.transform(lambda x: x/x.sum())"
   ]
  },
  {
   "cell_type": "code",
   "execution_count": 11,
   "id": "retired-routine",
   "metadata": {
    "ExecuteTime": {
     "end_time": "2021-03-23T07:51:31.413721Z",
     "start_time": "2021-03-23T07:51:31.402750Z"
    }
   },
   "outputs": [
    {
     "data": {
      "text/html": [
       "<div>\n",
       "<style scoped>\n",
       "    .dataframe tbody tr th:only-of-type {\n",
       "        vertical-align: middle;\n",
       "    }\n",
       "\n",
       "    .dataframe tbody tr th {\n",
       "        vertical-align: top;\n",
       "    }\n",
       "\n",
       "    .dataframe thead th {\n",
       "        text-align: right;\n",
       "    }\n",
       "</style>\n",
       "<table border=\"1\" class=\"dataframe\">\n",
       "  <thead>\n",
       "    <tr style=\"text-align: right;\">\n",
       "      <th></th>\n",
       "      <th>itemcode</th>\n",
       "      <th>quantity</th>\n",
       "      <th>cost_price</th>\n",
       "      <th>cost_value</th>\n",
       "      <th>value</th>\n",
       "      <th>itemname</th>\n",
       "      <th>asset_class</th>\n",
       "      <th>date</th>\n",
       "      <th>userid</th>\n",
       "      <th>username</th>\n",
       "      <th>wt</th>\n",
       "    </tr>\n",
       "  </thead>\n",
       "  <tbody>\n",
       "    <tr>\n",
       "      <th>0</th>\n",
       "      <td>A122260</td>\n",
       "      <td>2</td>\n",
       "      <td>101185</td>\n",
       "      <td>202370</td>\n",
       "      <td>202370</td>\n",
       "      <td>KOSEF 통안채1년</td>\n",
       "      <td>Fixed Income</td>\n",
       "      <td>02/01/2021 4:0:00 PM</td>\n",
       "      <td>A00</td>\n",
       "      <td>투자자0</td>\n",
       "      <td>0.202421</td>\n",
       "    </tr>\n",
       "    <tr>\n",
       "      <th>1</th>\n",
       "      <td>A114260</td>\n",
       "      <td>4</td>\n",
       "      <td>57900</td>\n",
       "      <td>231600</td>\n",
       "      <td>231600</td>\n",
       "      <td>KODEX 국고채3년</td>\n",
       "      <td>Fixed Income</td>\n",
       "      <td>02/01/2021 4:0:00 PM</td>\n",
       "      <td>A00</td>\n",
       "      <td>투자자0</td>\n",
       "      <td>0.231659</td>\n",
       "    </tr>\n",
       "    <tr>\n",
       "      <th>2</th>\n",
       "      <td>A130730</td>\n",
       "      <td>2</td>\n",
       "      <td>100975</td>\n",
       "      <td>201950</td>\n",
       "      <td>201950</td>\n",
       "      <td>KOSEF 단기자금</td>\n",
       "      <td>Fixed Income</td>\n",
       "      <td>02/01/2021 4:0:00 PM</td>\n",
       "      <td>A00</td>\n",
       "      <td>투자자0</td>\n",
       "      <td>0.202001</td>\n",
       "    </tr>\n",
       "    <tr>\n",
       "      <th>3</th>\n",
       "      <td>A329650</td>\n",
       "      <td>13</td>\n",
       "      <td>10980</td>\n",
       "      <td>142740</td>\n",
       "      <td>142740</td>\n",
       "      <td>KODEX TRF3070</td>\n",
       "      <td>Alternative</td>\n",
       "      <td>02/01/2021 4:0:00 PM</td>\n",
       "      <td>A00</td>\n",
       "      <td>투자자0</td>\n",
       "      <td>0.142776</td>\n",
       "    </tr>\n",
       "    <tr>\n",
       "      <th>4</th>\n",
       "      <td>A266370</td>\n",
       "      <td>4</td>\n",
       "      <td>21325</td>\n",
       "      <td>85300</td>\n",
       "      <td>85300</td>\n",
       "      <td>KODEX IT</td>\n",
       "      <td>Equity</td>\n",
       "      <td>02/01/2021 4:0:00 PM</td>\n",
       "      <td>A00</td>\n",
       "      <td>투자자0</td>\n",
       "      <td>0.0853217</td>\n",
       "    </tr>\n",
       "    <tr>\n",
       "      <th>5</th>\n",
       "      <td>C000001</td>\n",
       "      <td>135786</td>\n",
       "      <td>1</td>\n",
       "      <td>135786</td>\n",
       "      <td>135786</td>\n",
       "      <td>현금</td>\n",
       "      <td>Cash</td>\n",
       "      <td>02/01/2021 4:0:00 PM</td>\n",
       "      <td>A00</td>\n",
       "      <td>투자자0</td>\n",
       "      <td>0.13582</td>\n",
       "    </tr>\n",
       "  </tbody>\n",
       "</table>\n",
       "</div>"
      ],
      "text/plain": [
       "  itemcode quantity cost_price cost_value   value       itemname  \\\n",
       "0  A122260        2     101185     202370  202370    KOSEF 통안채1년   \n",
       "1  A114260        4      57900     231600  231600    KODEX 국고채3년   \n",
       "2  A130730        2     100975     201950  201950     KOSEF 단기자금   \n",
       "3  A329650       13      10980     142740  142740  KODEX TRF3070   \n",
       "4  A266370        4      21325      85300   85300       KODEX IT   \n",
       "5  C000001   135786          1     135786  135786             현금   \n",
       "\n",
       "    asset_class                  date userid username         wt  \n",
       "0  Fixed Income  02/01/2021 4:0:00 PM    A00     투자자0   0.202421  \n",
       "1  Fixed Income  02/01/2021 4:0:00 PM    A00     투자자0   0.231659  \n",
       "2  Fixed Income  02/01/2021 4:0:00 PM    A00     투자자0   0.202001  \n",
       "3   Alternative  02/01/2021 4:0:00 PM    A00     투자자0   0.142776  \n",
       "4        Equity  02/01/2021 4:0:00 PM    A00     투자자0  0.0853217  \n",
       "5          Cash  02/01/2021 4:0:00 PM    A00     투자자0    0.13582  "
      ]
     },
     "execution_count": 11,
     "metadata": {},
     "output_type": "execute_result"
    }
   ],
   "source": [
    "detail"
   ]
  },
  {
   "cell_type": "code",
   "execution_count": null,
   "id": "crude-press",
   "metadata": {},
   "outputs": [],
   "source": []
  },
  {
   "cell_type": "code",
   "execution_count": null,
   "id": "demonstrated-middle",
   "metadata": {},
   "outputs": [],
   "source": []
  },
  {
   "cell_type": "code",
   "execution_count": 15,
   "id": "mounted-claim",
   "metadata": {
    "ExecuteTime": {
     "end_time": "2021-03-23T07:44:19.804973Z",
     "start_time": "2021-03-23T07:44:19.800983Z"
    }
   },
   "outputs": [],
   "source": [
    "from datetime import datetime"
   ]
  },
  {
   "cell_type": "code",
   "execution_count": 25,
   "id": "narrow-rolling",
   "metadata": {
    "ExecuteTime": {
     "end_time": "2021-03-23T07:47:31.938343Z",
     "start_time": "2021-03-23T07:47:31.934355Z"
    }
   },
   "outputs": [],
   "source": [
    "temp = datetime.strptime('2021-02-01', '%Y-%m-%d').strftime('%m/%d/%Y 4:0:00 PM')"
   ]
  },
  {
   "cell_type": "code",
   "execution_count": 31,
   "id": "formal-genetics",
   "metadata": {
    "ExecuteTime": {
     "end_time": "2021-03-23T07:50:56.949033Z",
     "start_time": "2021-03-23T07:50:56.942051Z"
    }
   },
   "outputs": [
    {
     "data": {
      "text/plain": [
       "0    02/01/2021 4:0:00 PM\n",
       "1    02/01/2021 4:0:00 PM\n",
       "2    02/01/2021 4:0:00 PM\n",
       "3    02/01/2021 4:0:00 PM\n",
       "4    02/01/2021 4:0:00 PM\n",
       "5    02/01/2021 4:0:00 PM\n",
       "Name: date, dtype: object"
      ]
     },
     "execution_count": 31,
     "metadata": {},
     "output_type": "execute_result"
    }
   ],
   "source": [
    "pd.to_datetime(detail['date'], format='%Y-%m-%d').dt.strftime('%m/%d/%Y 4:0:00 PM').astype(str)"
   ]
  },
  {
   "cell_type": "code",
   "execution_count": 16,
   "id": "certain-julian",
   "metadata": {
    "ExecuteTime": {
     "end_time": "2021-03-23T08:18:37.600908Z",
     "start_time": "2021-03-23T08:18:37.595921Z"
    }
   },
   "outputs": [
    {
     "data": {
      "text/plain": [
       "19008"
      ]
     },
     "execution_count": 16,
     "metadata": {},
     "output_type": "execute_result"
    }
   ],
   "source": [
    "66*4*6*12"
   ]
  },
  {
   "cell_type": "code",
   "execution_count": 19,
   "id": "compressed-acrobat",
   "metadata": {
    "ExecuteTime": {
     "end_time": "2021-03-23T08:24:51.267513Z",
     "start_time": "2021-03-23T08:24:51.256543Z"
    }
   },
   "outputs": [
    {
     "data": {
      "text/html": [
       "<div>\n",
       "<style scoped>\n",
       "    .dataframe tbody tr th:only-of-type {\n",
       "        vertical-align: middle;\n",
       "    }\n",
       "\n",
       "    .dataframe tbody tr th {\n",
       "        vertical-align: top;\n",
       "    }\n",
       "\n",
       "    .dataframe thead th {\n",
       "        text-align: right;\n",
       "    }\n",
       "</style>\n",
       "<table border=\"1\" class=\"dataframe\">\n",
       "  <thead>\n",
       "    <tr style=\"text-align: right;\">\n",
       "      <th></th>\n",
       "      <th>itemcode</th>\n",
       "      <th>quantity</th>\n",
       "      <th>cost_price</th>\n",
       "      <th>cost_value</th>\n",
       "      <th>value</th>\n",
       "      <th>itemname</th>\n",
       "      <th>asset_class</th>\n",
       "      <th>date</th>\n",
       "      <th>userid</th>\n",
       "      <th>username</th>\n",
       "      <th>wt</th>\n",
       "      <th>original</th>\n",
       "      <th>group_by</th>\n",
       "    </tr>\n",
       "  </thead>\n",
       "  <tbody>\n",
       "    <tr>\n",
       "      <th>0</th>\n",
       "      <td>A122260</td>\n",
       "      <td>2</td>\n",
       "      <td>101185</td>\n",
       "      <td>202370</td>\n",
       "      <td>202370</td>\n",
       "      <td>KOSEF 통안채1년</td>\n",
       "      <td>Fixed Income</td>\n",
       "      <td>02/01/2021 4:0:00 PM</td>\n",
       "      <td>A00</td>\n",
       "      <td>투자자0</td>\n",
       "      <td>0.202421</td>\n",
       "      <td>N</td>\n",
       "      <td></td>\n",
       "    </tr>\n",
       "    <tr>\n",
       "      <th>1</th>\n",
       "      <td>A114260</td>\n",
       "      <td>4</td>\n",
       "      <td>57900</td>\n",
       "      <td>231600</td>\n",
       "      <td>231600</td>\n",
       "      <td>KODEX 국고채3년</td>\n",
       "      <td>Fixed Income</td>\n",
       "      <td>02/01/2021 4:0:00 PM</td>\n",
       "      <td>A00</td>\n",
       "      <td>투자자0</td>\n",
       "      <td>0.231659</td>\n",
       "      <td>N</td>\n",
       "      <td></td>\n",
       "    </tr>\n",
       "    <tr>\n",
       "      <th>2</th>\n",
       "      <td>A130730</td>\n",
       "      <td>2</td>\n",
       "      <td>100975</td>\n",
       "      <td>201950</td>\n",
       "      <td>201950</td>\n",
       "      <td>KOSEF 단기자금</td>\n",
       "      <td>Fixed Income</td>\n",
       "      <td>02/01/2021 4:0:00 PM</td>\n",
       "      <td>A00</td>\n",
       "      <td>투자자0</td>\n",
       "      <td>0.202001</td>\n",
       "      <td>N</td>\n",
       "      <td></td>\n",
       "    </tr>\n",
       "    <tr>\n",
       "      <th>3</th>\n",
       "      <td>A329650</td>\n",
       "      <td>13</td>\n",
       "      <td>10980</td>\n",
       "      <td>142740</td>\n",
       "      <td>142740</td>\n",
       "      <td>KODEX TRF3070</td>\n",
       "      <td>Alternative</td>\n",
       "      <td>02/01/2021 4:0:00 PM</td>\n",
       "      <td>A00</td>\n",
       "      <td>투자자0</td>\n",
       "      <td>0.142776</td>\n",
       "      <td>N</td>\n",
       "      <td></td>\n",
       "    </tr>\n",
       "    <tr>\n",
       "      <th>4</th>\n",
       "      <td>A266370</td>\n",
       "      <td>4</td>\n",
       "      <td>21325</td>\n",
       "      <td>85300</td>\n",
       "      <td>85300</td>\n",
       "      <td>KODEX IT</td>\n",
       "      <td>Equity</td>\n",
       "      <td>02/01/2021 4:0:00 PM</td>\n",
       "      <td>A00</td>\n",
       "      <td>투자자0</td>\n",
       "      <td>0.0853217</td>\n",
       "      <td>N</td>\n",
       "      <td></td>\n",
       "    </tr>\n",
       "    <tr>\n",
       "      <th>5</th>\n",
       "      <td>C000001</td>\n",
       "      <td>135786</td>\n",
       "      <td>1</td>\n",
       "      <td>135786</td>\n",
       "      <td>135786</td>\n",
       "      <td>현금</td>\n",
       "      <td>Cash</td>\n",
       "      <td>02/01/2021 4:0:00 PM</td>\n",
       "      <td>A00</td>\n",
       "      <td>투자자0</td>\n",
       "      <td>0.13582</td>\n",
       "      <td>N</td>\n",
       "      <td></td>\n",
       "    </tr>\n",
       "  </tbody>\n",
       "</table>\n",
       "</div>"
      ],
      "text/plain": [
       "  itemcode quantity cost_price cost_value   value       itemname  \\\n",
       "0  A122260        2     101185     202370  202370    KOSEF 통안채1년   \n",
       "1  A114260        4      57900     231600  231600    KODEX 국고채3년   \n",
       "2  A130730        2     100975     201950  201950     KOSEF 단기자금   \n",
       "3  A329650       13      10980     142740  142740  KODEX TRF3070   \n",
       "4  A266370        4      21325      85300   85300       KODEX IT   \n",
       "5  C000001   135786          1     135786  135786             현금   \n",
       "\n",
       "    asset_class                  date userid username         wt original  \\\n",
       "0  Fixed Income  02/01/2021 4:0:00 PM    A00     투자자0   0.202421        N   \n",
       "1  Fixed Income  02/01/2021 4:0:00 PM    A00     투자자0   0.231659        N   \n",
       "2  Fixed Income  02/01/2021 4:0:00 PM    A00     투자자0   0.202001        N   \n",
       "3   Alternative  02/01/2021 4:0:00 PM    A00     투자자0   0.142776        N   \n",
       "4        Equity  02/01/2021 4:0:00 PM    A00     투자자0  0.0853217        N   \n",
       "5          Cash  02/01/2021 4:0:00 PM    A00     투자자0    0.13582        N   \n",
       "\n",
       "  group_by  \n",
       "0           \n",
       "1           \n",
       "2           \n",
       "3           \n",
       "4           \n",
       "5           "
      ]
     },
     "execution_count": 19,
     "metadata": {},
     "output_type": "execute_result"
    }
   ],
   "source": [
    "detail"
   ]
  },
  {
   "cell_type": "code",
   "execution_count": 23,
   "id": "humanitarian-castle",
   "metadata": {
    "ExecuteTime": {
     "end_time": "2021-03-23T08:50:01.198079Z",
     "start_time": "2021-03-23T08:50:01.194089Z"
    }
   },
   "outputs": [],
   "source": [
    "insert_query_dtl = 'INSERT INTO {0} (itemcode, quantity, cost_price, price, cost_value, value' \\\n",
    "                   'itemname, asset_class, date, userid, username, group_by, original, wt) ' \\\n",
    "                    'values (%s, %s, %s, %s, %s, %s, %s, %s, %s, %s, %s, %s, %s, %s)'"
   ]
  },
  {
   "cell_type": "code",
   "execution_count": 24,
   "id": "endless-brighton",
   "metadata": {
    "ExecuteTime": {
     "end_time": "2021-03-23T08:50:11.118190Z",
     "start_time": "2021-03-23T08:50:11.114201Z"
    }
   },
   "outputs": [
    {
     "data": {
      "text/plain": [
       "'INSERT INTO detail (itemcode, quantity, cost_price, price, cost_value, valueitemname, asset_class, date, userid, username, group_by, original, wt) values (%s, %s, %s, %s, %s, %s, %s, %s, %s, %s, %s, %s, %s, %s)'"
      ]
     },
     "execution_count": 24,
     "metadata": {},
     "output_type": "execute_result"
    }
   ],
   "source": [
    "insert_query_dtl.format('detail')"
   ]
  },
  {
   "cell_type": "code",
   "execution_count": null,
   "id": "joined-sheffield",
   "metadata": {},
   "outputs": [],
   "source": []
  }
 ],
 "metadata": {
  "kernelspec": {
   "display_name": "Python 3",
   "language": "python",
   "name": "python3"
  },
  "language_info": {
   "codemirror_mode": {
    "name": "ipython",
    "version": 3
   },
   "file_extension": ".py",
   "mimetype": "text/x-python",
   "name": "python",
   "nbconvert_exporter": "python",
   "pygments_lexer": "ipython3",
   "version": "3.8.8"
  }
 },
 "nbformat": 4,
 "nbformat_minor": 5
}
