{
 "cells": [
  {
   "cell_type": "code",
   "execution_count": 121,
   "id": "compatible-management",
   "metadata": {
    "ExecuteTime": {
     "end_time": "2021-03-23T06:19:06.730575Z",
     "start_time": "2021-03-23T06:19:06.726586Z"
    }
   },
   "outputs": [],
   "source": [
    "import pandas as pd\n",
    "from load_data import Balance, Instruments, AdvisedPortfolios, PriceDB, Singleton"
   ]
  },
  {
   "cell_type": "code",
   "execution_count": 122,
   "id": "expensive-taste",
   "metadata": {
    "ExecuteTime": {
     "end_time": "2021-03-23T06:19:06.908098Z",
     "start_time": "2021-03-23T06:19:06.878179Z"
    }
   },
   "outputs": [],
   "source": [
    "instruments_m = pd.read_pickle('../../data/processed/instruments_m.pkl')\n",
    "price_db = pd.read_pickle('../../data/external/price_db_d.pkl')\n",
    "advised_pf = pd.read_pickle('../../data/processed/advised_portfolios.pkl')    "
   ]
  },
  {
   "cell_type": "code",
   "execution_count": 123,
   "id": "technological-round",
   "metadata": {
    "ExecuteTime": {
     "end_time": "2021-03-23T06:19:07.047723Z",
     "start_time": "2021-03-23T06:19:07.039745Z"
    }
   },
   "outputs": [],
   "source": [
    "userid = 'A00'\n",
    "username = '투자자0'\n",
    "current_date = '2021-02-01'\n",
    "risk_profile = 2\n",
    "\n",
    "# c_date: 추천 포트폴리오DB에서 사용자가 입력한 날짜와 가장 가까운 날짜.\n",
    "c_date = advised_pf.loc[advised_pf.date <= current_date, ['date']].max().date\n",
    "new_units = {'A122260': 2, 'A114260': 4, 'A130730': 2, 'A329650': 13, 'A266370': 4}\n",
    "prices = {'A122260': [101185.0, 'KRW'], 'A114260': [57900.0, 'KRW'], 'A130730': [100975.0, 'KRW'], 'A329650': [10980.0, 'KRW'], 'A266370': [21325.0, 'KRW']}"
   ]
  },
  {
   "cell_type": "code",
   "execution_count": 124,
   "id": "caring-sewing",
   "metadata": {
    "ExecuteTime": {
     "end_time": "2021-03-23T06:19:07.204303Z",
     "start_time": "2021-03-23T06:19:07.198320Z"
    }
   },
   "outputs": [],
   "source": [
    "df = advised_pf.loc[(advised_pf.date==c_date) & (advised_pf.risk_profile==risk_profile), :]"
   ]
  },
  {
   "cell_type": "code",
   "execution_count": 134,
   "id": "automotive-rogers",
   "metadata": {
    "ExecuteTime": {
     "end_time": "2021-03-23T06:24:45.802331Z",
     "start_time": "2021-03-23T06:24:45.794353Z"
    }
   },
   "outputs": [],
   "source": [
    "# 보유수량\n",
    "detail = pd.DataFrame.from_dict(new_units, orient='index').rename(columns={0:'quantity'})\n",
    "detail.index.name='itemcode'\n",
    "\n",
    "# 매입가격\n",
    "temp = pd.DataFrame.from_dict(prices, orient='index').rename(columns={0:'cost_price'}).drop([1], axis=1)\n",
    "temp.index.name='itemcode'\n",
    "\n",
    "# 병합\n",
    "detail = detail.merge(temp, left_index=True, right_index=True, how='inner')\n",
    "\n",
    "detail['cost_value'] = detail['quantity']*detail['cost_price']"
   ]
  },
  {
   "cell_type": "code",
   "execution_count": 136,
   "id": "massive-drawing",
   "metadata": {
    "ExecuteTime": {
     "end_time": "2021-03-23T06:24:50.090994Z",
     "start_time": "2021-03-23T06:24:50.083016Z"
    }
   },
   "outputs": [
    {
     "data": {
      "text/html": [
       "<div>\n",
       "<style scoped>\n",
       "    .dataframe tbody tr th:only-of-type {\n",
       "        vertical-align: middle;\n",
       "    }\n",
       "\n",
       "    .dataframe tbody tr th {\n",
       "        vertical-align: top;\n",
       "    }\n",
       "\n",
       "    .dataframe thead th {\n",
       "        text-align: right;\n",
       "    }\n",
       "</style>\n",
       "<table border=\"1\" class=\"dataframe\">\n",
       "  <thead>\n",
       "    <tr style=\"text-align: right;\">\n",
       "      <th></th>\n",
       "      <th>quantity</th>\n",
       "      <th>cost_price</th>\n",
       "      <th>cost_vallue</th>\n",
       "    </tr>\n",
       "    <tr>\n",
       "      <th>itemcode</th>\n",
       "      <th></th>\n",
       "      <th></th>\n",
       "      <th></th>\n",
       "    </tr>\n",
       "  </thead>\n",
       "  <tbody>\n",
       "    <tr>\n",
       "      <th>A122260</th>\n",
       "      <td>2</td>\n",
       "      <td>101185.0</td>\n",
       "      <td>202370.0</td>\n",
       "    </tr>\n",
       "    <tr>\n",
       "      <th>A114260</th>\n",
       "      <td>4</td>\n",
       "      <td>57900.0</td>\n",
       "      <td>231600.0</td>\n",
       "    </tr>\n",
       "    <tr>\n",
       "      <th>A130730</th>\n",
       "      <td>2</td>\n",
       "      <td>100975.0</td>\n",
       "      <td>201950.0</td>\n",
       "    </tr>\n",
       "    <tr>\n",
       "      <th>A329650</th>\n",
       "      <td>13</td>\n",
       "      <td>10980.0</td>\n",
       "      <td>142740.0</td>\n",
       "    </tr>\n",
       "    <tr>\n",
       "      <th>A266370</th>\n",
       "      <td>4</td>\n",
       "      <td>21325.0</td>\n",
       "      <td>85300.0</td>\n",
       "    </tr>\n",
       "  </tbody>\n",
       "</table>\n",
       "</div>"
      ],
      "text/plain": [
       "          quantity  cost_price  cost_vallue\n",
       "itemcode                                   \n",
       "A122260          2    101185.0     202370.0\n",
       "A114260          4     57900.0     231600.0\n",
       "A130730          2    100975.0     201950.0\n",
       "A329650         13     10980.0     142740.0\n",
       "A266370          4     21325.0      85300.0"
      ]
     },
     "execution_count": 136,
     "metadata": {},
     "output_type": "execute_result"
    }
   ],
   "source": [
    "detail"
   ]
  },
  {
   "cell_type": "code",
   "execution_count": null,
   "id": "promising-seattle",
   "metadata": {},
   "outputs": [],
   "source": []
  },
  {
   "cell_type": "code",
   "execution_count": null,
   "id": "electronic-therapy",
   "metadata": {},
   "outputs": [],
   "source": []
  },
  {
   "cell_type": "code",
   "execution_count": 135,
   "id": "cutting-decline",
   "metadata": {
    "ExecuteTime": {
     "end_time": "2021-03-23T06:24:46.288028Z",
     "start_time": "2021-03-23T06:24:46.284038Z"
    }
   },
   "outputs": [],
   "source": []
  },
  {
   "cell_type": "code",
   "execution_count": 90,
   "id": "complicated-religious",
   "metadata": {
    "ExecuteTime": {
     "end_time": "2021-03-23T06:12:48.433051Z",
     "start_time": "2021-03-23T06:12:48.428065Z"
    }
   },
   "outputs": [
    {
     "data": {
      "text/plain": [
       "[101185.0, 57900.0, 100975.0, 10980.0, 21325.0]"
      ]
     },
     "execution_count": 90,
     "metadata": {},
     "output_type": "execute_result"
    }
   ],
   "source": [
    "[price[0] for price in prices.values()]"
   ]
  },
  {
   "cell_type": "code",
   "execution_count": 92,
   "id": "polyphonic-alliance",
   "metadata": {
    "ExecuteTime": {
     "end_time": "2021-03-23T06:13:31.194618Z",
     "start_time": "2021-03-23T06:13:31.187637Z"
    }
   },
   "outputs": [
    {
     "data": {
      "text/html": [
       "<div>\n",
       "<style scoped>\n",
       "    .dataframe tbody tr th:only-of-type {\n",
       "        vertical-align: middle;\n",
       "    }\n",
       "\n",
       "    .dataframe tbody tr th {\n",
       "        vertical-align: top;\n",
       "    }\n",
       "\n",
       "    .dataframe thead th {\n",
       "        text-align: right;\n",
       "    }\n",
       "</style>\n",
       "<table border=\"1\" class=\"dataframe\">\n",
       "  <thead>\n",
       "    <tr style=\"text-align: right;\">\n",
       "      <th></th>\n",
       "      <th>0</th>\n",
       "      <th>1</th>\n",
       "    </tr>\n",
       "  </thead>\n",
       "  <tbody>\n",
       "    <tr>\n",
       "      <th>A122260</th>\n",
       "      <td>101185.0</td>\n",
       "      <td>KRW</td>\n",
       "    </tr>\n",
       "    <tr>\n",
       "      <th>A114260</th>\n",
       "      <td>57900.0</td>\n",
       "      <td>KRW</td>\n",
       "    </tr>\n",
       "    <tr>\n",
       "      <th>A130730</th>\n",
       "      <td>100975.0</td>\n",
       "      <td>KRW</td>\n",
       "    </tr>\n",
       "    <tr>\n",
       "      <th>A329650</th>\n",
       "      <td>10980.0</td>\n",
       "      <td>KRW</td>\n",
       "    </tr>\n",
       "    <tr>\n",
       "      <th>A266370</th>\n",
       "      <td>21325.0</td>\n",
       "      <td>KRW</td>\n",
       "    </tr>\n",
       "  </tbody>\n",
       "</table>\n",
       "</div>"
      ],
      "text/plain": [
       "                0    1\n",
       "A122260  101185.0  KRW\n",
       "A114260   57900.0  KRW\n",
       "A130730  100975.0  KRW\n",
       "A329650   10980.0  KRW\n",
       "A266370   21325.0  KRW"
      ]
     },
     "execution_count": 92,
     "metadata": {},
     "output_type": "execute_result"
    }
   ],
   "source": [
    "pd.DataFrame.from_dict(prices, orient='index')"
   ]
  },
  {
   "cell_type": "code",
   "execution_count": null,
   "id": "sublime-expansion",
   "metadata": {},
   "outputs": [],
   "source": []
  }
 ],
 "metadata": {
  "kernelspec": {
   "display_name": "Python 3",
   "language": "python",
   "name": "python3"
  },
  "language_info": {
   "codemirror_mode": {
    "name": "ipython",
    "version": 3
   },
   "file_extension": ".py",
   "mimetype": "text/x-python",
   "name": "python",
   "nbconvert_exporter": "python",
   "pygments_lexer": "ipython3",
   "version": "3.8.8"
  }
 },
 "nbformat": 4,
 "nbformat_minor": 5
}
