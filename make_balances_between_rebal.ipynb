{
 "cells": [
  {
   "cell_type": "code",
   "execution_count": 1,
   "id": "allied-variety",
   "metadata": {
    "ExecuteTime": {
     "end_time": "2021-06-20T07:31:00.069553Z",
     "start_time": "2021-06-20T07:30:59.684516Z"
    }
   },
   "outputs": [],
   "source": [
    "import numpy as np\n",
    "import pandas as pd\n",
    "from datetime import datetime\n",
    "from src.models.load_data import Balance, Instruments, AdvisedPortfolios, PriceDB, Singleton"
   ]
  },
  {
   "cell_type": "code",
   "execution_count": 2,
   "id": "changing-start",
   "metadata": {
    "ExecuteTime": {
     "end_time": "2021-06-20T07:31:00.074953Z",
     "start_time": "2021-06-20T07:31:00.072403Z"
    }
   },
   "outputs": [],
   "source": [
    "access_path = './data/external/'\n",
    "bal_from_nm = 'balance_20210503.dat'"
   ]
  },
  {
   "cell_type": "code",
   "execution_count": 3,
   "id": "bright-round",
   "metadata": {
    "ExecuteTime": {
     "end_time": "2021-06-20T07:31:00.091943Z",
     "start_time": "2021-06-20T07:31:00.077764Z"
    }
   },
   "outputs": [],
   "source": [
    "bal_from = pd.read_csv(access_path + bal_from_nm)\n",
    "price_db = PriceDB.instance().data"
   ]
  },
  {
   "cell_type": "markdown",
   "id": "optimum-contractor",
   "metadata": {},
   "source": [
    "#### MP 발생일\n",
    "- 2021.5.3\n",
    "- 2021.6.2"
   ]
  },
  {
   "cell_type": "code",
   "execution_count": 4,
   "id": "elder-sally",
   "metadata": {
    "ExecuteTime": {
     "end_time": "2021-06-20T07:31:00.098292Z",
     "start_time": "2021-06-20T07:31:00.093814Z"
    }
   },
   "outputs": [],
   "source": [
    "# 두 MP발생일 사이 기간 설정\n",
    "start_dt = '20210504'  # MP발생 다음날부터\n",
    "end_dt = '20210601'    # MP발생 전날까지\n",
    "\n",
    "range_dt_ymd = pd.date_range(start=start_dt, end=end_dt, freq='D')  # price_db 날짜 포맷\n",
    "range_dt_mdy = range_dt_ymd.strftime('%-m/%-d/%Y')  # 잔고(balance) 날짜 포맷"
   ]
  },
  {
   "cell_type": "markdown",
   "id": "mexican-miracle",
   "metadata": {
    "ExecuteTime": {
     "end_time": "2021-06-20T04:35:00.238543Z",
     "start_time": "2021-06-20T04:35:00.234516Z"
    }
   },
   "source": [
    "#### 첫 번째 MP발생일 잔고를 해당 기간 내 매일 매일의 잔고로 복사해 두고, price 컬럼과 value 컬럼을 업데이트하면 끝."
   ]
  },
  {
   "cell_type": "markdown",
   "id": "hundred-karma",
   "metadata": {},
   "source": [
    "- 잔고 복사"
   ]
  },
  {
   "cell_type": "code",
   "execution_count": 5,
   "id": "legislative-answer",
   "metadata": {
    "ExecuteTime": {
     "end_time": "2021-06-20T07:31:00.155467Z",
     "start_time": "2021-06-20T07:31:00.100550Z"
    }
   },
   "outputs": [],
   "source": [
    "df_list = []\n",
    "for cnt, dt in enumerate(range_dt_ymd):\n",
    "    temp = bal_from.copy(deep=True)\n",
    "    temp.date = dt\n",
    "    df_list.append(temp)\n",
    "    \n",
    "bal_btw_rebal = pd.concat(df_list)"
   ]
  },
  {
   "cell_type": "markdown",
   "id": "subsequent-norwegian",
   "metadata": {
    "ExecuteTime": {
     "end_time": "2021-06-20T06:10:53.838224Z",
     "start_time": "2021-06-20T06:10:53.824476Z"
    }
   },
   "source": [
    "- `price_db`를 이용해서 Price 컬럼 업데이트."
   ]
  },
  {
   "cell_type": "code",
   "execution_count": 6,
   "id": "green-teacher",
   "metadata": {
    "ExecuteTime": {
     "end_time": "2021-06-20T07:31:00.203407Z",
     "start_time": "2021-06-20T07:31:00.156766Z"
    }
   },
   "outputs": [],
   "source": [
    "bal_btw_rebal = bal_btw_rebal.set_index(['date', 'itemcode'])\n",
    "price_db = price_db.set_index(['date', 'itemcode'])\n",
    "bal_btw_rebal.update(price_db)\n",
    "bal_btw_rebal = bal_btw_rebal.reset_index(drop=False)"
   ]
  },
  {
   "cell_type": "markdown",
   "id": "north-transcription",
   "metadata": {},
   "source": [
    "- 사용자별/날짜별로 비중(`wt`) 계산"
   ]
  },
  {
   "cell_type": "code",
   "execution_count": 7,
   "id": "individual-ideal",
   "metadata": {
    "ExecuteTime": {
     "end_time": "2021-06-20T07:31:00.215186Z",
     "start_time": "2021-06-20T07:31:00.205437Z"
    }
   },
   "outputs": [],
   "source": [
    "bal_btw_rebal.value = bal_btw_rebal.quantity*bal_btw_rebal.price\n",
    "bal_btw_rebal.original = ''\n",
    "bal_btw_rebal.wt = bal_btw_rebal.value/bal_btw_rebal.groupby(['date', 'userid'])['value'].transform('sum')"
   ]
  },
  {
   "cell_type": "code",
   "execution_count": 8,
   "id": "hungarian-queens",
   "metadata": {
    "ExecuteTime": {
     "end_time": "2021-06-20T07:31:00.257818Z",
     "start_time": "2021-06-20T07:31:00.220927Z"
    }
   },
   "outputs": [
    {
     "data": {
      "text/html": [
       "<div>\n",
       "<style scoped>\n",
       "    .dataframe tbody tr th:only-of-type {\n",
       "        vertical-align: middle;\n",
       "    }\n",
       "\n",
       "    .dataframe tbody tr th {\n",
       "        vertical-align: top;\n",
       "    }\n",
       "\n",
       "    .dataframe thead th {\n",
       "        text-align: right;\n",
       "    }\n",
       "</style>\n",
       "<table border=\"1\" class=\"dataframe\">\n",
       "  <thead>\n",
       "    <tr style=\"text-align: right;\">\n",
       "      <th></th>\n",
       "      <th>date</th>\n",
       "      <th>itemcode</th>\n",
       "      <th>userid</th>\n",
       "      <th>name</th>\n",
       "      <th>asset_class</th>\n",
       "      <th>itemname</th>\n",
       "      <th>quantity</th>\n",
       "      <th>cost_price</th>\n",
       "      <th>cost_value</th>\n",
       "      <th>price</th>\n",
       "      <th>value</th>\n",
       "      <th>wt</th>\n",
       "      <th>group_by</th>\n",
       "      <th>original</th>\n",
       "    </tr>\n",
       "  </thead>\n",
       "  <tbody>\n",
       "    <tr>\n",
       "      <th>0</th>\n",
       "      <td>2021-05-04</td>\n",
       "      <td>A114260</td>\n",
       "      <td>A001</td>\n",
       "      <td>안정추구형소규모</td>\n",
       "      <td>Fixed Income</td>\n",
       "      <td>KODEX 국고채3년</td>\n",
       "      <td>2</td>\n",
       "      <td>58040</td>\n",
       "      <td>116080</td>\n",
       "      <td>58015.0</td>\n",
       "      <td>116030.0</td>\n",
       "      <td>0.165784</td>\n",
       "      <td>NaN</td>\n",
       "      <td></td>\n",
       "    </tr>\n",
       "    <tr>\n",
       "      <th>1</th>\n",
       "      <td>2021-05-04</td>\n",
       "      <td>A122260</td>\n",
       "      <td>A001</td>\n",
       "      <td>안정추구형소규모</td>\n",
       "      <td>Fixed Income</td>\n",
       "      <td>KOSEF 통안채1년</td>\n",
       "      <td>2</td>\n",
       "      <td>101395</td>\n",
       "      <td>202790</td>\n",
       "      <td>101305.0</td>\n",
       "      <td>202610.0</td>\n",
       "      <td>0.289490</td>\n",
       "      <td>NaN</td>\n",
       "      <td></td>\n",
       "    </tr>\n",
       "    <tr>\n",
       "      <th>2</th>\n",
       "      <td>2021-05-04</td>\n",
       "      <td>A130730</td>\n",
       "      <td>A001</td>\n",
       "      <td>안정추구형소규모</td>\n",
       "      <td>Fixed Income</td>\n",
       "      <td>KOSEF 단기자금</td>\n",
       "      <td>2</td>\n",
       "      <td>101110</td>\n",
       "      <td>202220</td>\n",
       "      <td>101100.0</td>\n",
       "      <td>202200.0</td>\n",
       "      <td>0.288905</td>\n",
       "      <td>NaN</td>\n",
       "      <td></td>\n",
       "    </tr>\n",
       "    <tr>\n",
       "      <th>3</th>\n",
       "      <td>2021-05-04</td>\n",
       "      <td>A196230</td>\n",
       "      <td>A001</td>\n",
       "      <td>안정추구형소규모</td>\n",
       "      <td>Fixed Income</td>\n",
       "      <td>KBSTAR 단기통안채</td>\n",
       "      <td>1</td>\n",
       "      <td>104430</td>\n",
       "      <td>104430</td>\n",
       "      <td>104435.0</td>\n",
       "      <td>104435.0</td>\n",
       "      <td>0.149217</td>\n",
       "      <td>NaN</td>\n",
       "      <td></td>\n",
       "    </tr>\n",
       "    <tr>\n",
       "      <th>4</th>\n",
       "      <td>2021-05-04</td>\n",
       "      <td>A069500</td>\n",
       "      <td>A001</td>\n",
       "      <td>안정추구형소규모</td>\n",
       "      <td>Equity</td>\n",
       "      <td>KODEX 200</td>\n",
       "      <td>1</td>\n",
       "      <td>42295</td>\n",
       "      <td>42295</td>\n",
       "      <td>42380.0</td>\n",
       "      <td>42380.0</td>\n",
       "      <td>0.060553</td>\n",
       "      <td>NaN</td>\n",
       "      <td></td>\n",
       "    </tr>\n",
       "    <tr>\n",
       "      <th>...</th>\n",
       "      <td>...</td>\n",
       "      <td>...</td>\n",
       "      <td>...</td>\n",
       "      <td>...</td>\n",
       "      <td>...</td>\n",
       "      <td>...</td>\n",
       "      <td>...</td>\n",
       "      <td>...</td>\n",
       "      <td>...</td>\n",
       "      <td>...</td>\n",
       "      <td>...</td>\n",
       "      <td>...</td>\n",
       "      <td>...</td>\n",
       "      <td>...</td>\n",
       "    </tr>\n",
       "    <tr>\n",
       "      <th>2170</th>\n",
       "      <td>2021-06-01</td>\n",
       "      <td>A278540</td>\n",
       "      <td>A009</td>\n",
       "      <td>적극투자형대규모</td>\n",
       "      <td>Equity</td>\n",
       "      <td>KODEX MSCI Korea TR</td>\n",
       "      <td>23</td>\n",
       "      <td>13695</td>\n",
       "      <td>314985</td>\n",
       "      <td>13735.0</td>\n",
       "      <td>315905.0</td>\n",
       "      <td>0.240094</td>\n",
       "      <td>NaN</td>\n",
       "      <td></td>\n",
       "    </tr>\n",
       "    <tr>\n",
       "      <th>2171</th>\n",
       "      <td>2021-06-01</td>\n",
       "      <td>A266370</td>\n",
       "      <td>A009</td>\n",
       "      <td>적극투자형대규모</td>\n",
       "      <td>Equity</td>\n",
       "      <td>KODEX IT</td>\n",
       "      <td>8</td>\n",
       "      <td>20760</td>\n",
       "      <td>166080</td>\n",
       "      <td>20325.0</td>\n",
       "      <td>162600.0</td>\n",
       "      <td>0.123579</td>\n",
       "      <td>NaN</td>\n",
       "      <td></td>\n",
       "    </tr>\n",
       "    <tr>\n",
       "      <th>2172</th>\n",
       "      <td>2021-06-01</td>\n",
       "      <td>A292150</td>\n",
       "      <td>A009</td>\n",
       "      <td>적극투자형대규모</td>\n",
       "      <td>Equity</td>\n",
       "      <td>TIGER TOP10</td>\n",
       "      <td>7</td>\n",
       "      <td>14305</td>\n",
       "      <td>100135</td>\n",
       "      <td>14360.0</td>\n",
       "      <td>100520.0</td>\n",
       "      <td>0.076397</td>\n",
       "      <td>NaN</td>\n",
       "      <td></td>\n",
       "    </tr>\n",
       "    <tr>\n",
       "      <th>2173</th>\n",
       "      <td>2021-06-01</td>\n",
       "      <td>A114260</td>\n",
       "      <td>A009</td>\n",
       "      <td>적극투자형대규모</td>\n",
       "      <td>Fixed Income</td>\n",
       "      <td>KODEX 국고채3년</td>\n",
       "      <td>2</td>\n",
       "      <td>58040</td>\n",
       "      <td>116080</td>\n",
       "      <td>57990.0</td>\n",
       "      <td>115980.0</td>\n",
       "      <td>0.088147</td>\n",
       "      <td>NaN</td>\n",
       "      <td></td>\n",
       "    </tr>\n",
       "    <tr>\n",
       "      <th>2174</th>\n",
       "      <td>2021-06-01</td>\n",
       "      <td>C000001</td>\n",
       "      <td>A009</td>\n",
       "      <td>적극투자형대규모</td>\n",
       "      <td>Cash</td>\n",
       "      <td>현금</td>\n",
       "      <td>80</td>\n",
       "      <td>1</td>\n",
       "      <td>80</td>\n",
       "      <td>1.0</td>\n",
       "      <td>80.0</td>\n",
       "      <td>0.000061</td>\n",
       "      <td>NaN</td>\n",
       "      <td></td>\n",
       "    </tr>\n",
       "  </tbody>\n",
       "</table>\n",
       "<p>2175 rows × 14 columns</p>\n",
       "</div>"
      ],
      "text/plain": [
       "           date itemcode userid      name   asset_class             itemname  \\\n",
       "0    2021-05-04  A114260   A001  안정추구형소규모  Fixed Income          KODEX 국고채3년   \n",
       "1    2021-05-04  A122260   A001  안정추구형소규모  Fixed Income          KOSEF 통안채1년   \n",
       "2    2021-05-04  A130730   A001  안정추구형소규모  Fixed Income           KOSEF 단기자금   \n",
       "3    2021-05-04  A196230   A001  안정추구형소규모  Fixed Income         KBSTAR 단기통안채   \n",
       "4    2021-05-04  A069500   A001  안정추구형소규모        Equity            KODEX 200   \n",
       "...         ...      ...    ...       ...           ...                  ...   \n",
       "2170 2021-06-01  A278540   A009  적극투자형대규모        Equity  KODEX MSCI Korea TR   \n",
       "2171 2021-06-01  A266370   A009  적극투자형대규모        Equity             KODEX IT   \n",
       "2172 2021-06-01  A292150   A009  적극투자형대규모        Equity          TIGER TOP10   \n",
       "2173 2021-06-01  A114260   A009  적극투자형대규모  Fixed Income          KODEX 국고채3년   \n",
       "2174 2021-06-01  C000001   A009  적극투자형대규모          Cash                   현금   \n",
       "\n",
       "      quantity  cost_price  cost_value     price     value        wt  \\\n",
       "0            2       58040      116080   58015.0  116030.0  0.165784   \n",
       "1            2      101395      202790  101305.0  202610.0  0.289490   \n",
       "2            2      101110      202220  101100.0  202200.0  0.288905   \n",
       "3            1      104430      104430  104435.0  104435.0  0.149217   \n",
       "4            1       42295       42295   42380.0   42380.0  0.060553   \n",
       "...        ...         ...         ...       ...       ...       ...   \n",
       "2170        23       13695      314985   13735.0  315905.0  0.240094   \n",
       "2171         8       20760      166080   20325.0  162600.0  0.123579   \n",
       "2172         7       14305      100135   14360.0  100520.0  0.076397   \n",
       "2173         2       58040      116080   57990.0  115980.0  0.088147   \n",
       "2174        80           1          80       1.0      80.0  0.000061   \n",
       "\n",
       "      group_by original  \n",
       "0          NaN           \n",
       "1          NaN           \n",
       "2          NaN           \n",
       "3          NaN           \n",
       "4          NaN           \n",
       "...        ...      ...  \n",
       "2170       NaN           \n",
       "2171       NaN           \n",
       "2172       NaN           \n",
       "2173       NaN           \n",
       "2174       NaN           \n",
       "\n",
       "[2175 rows x 14 columns]"
      ]
     },
     "execution_count": 8,
     "metadata": {},
     "output_type": "execute_result"
    }
   ],
   "source": [
    "bal_btw_rebal"
   ]
  },
  {
   "cell_type": "code",
   "execution_count": 13,
   "id": "beautiful-highway",
   "metadata": {
    "ExecuteTime": {
     "end_time": "2021-06-20T07:44:56.282626Z",
     "start_time": "2021-06-20T07:44:56.243963Z"
    }
   },
   "outputs": [],
   "source": [
    "bal_btw_rebal.to_csv('bal_btw_rebal.csv', index=False, encoding='utf-8-sig')"
   ]
  },
  {
   "cell_type": "code",
   "execution_count": null,
   "id": "automatic-portland",
   "metadata": {},
   "outputs": [],
   "source": []
  }
 ],
 "metadata": {
  "kernelspec": {
   "display_name": "Python 3",
   "language": "python",
   "name": "python3"
  },
  "language_info": {
   "codemirror_mode": {
    "name": "ipython",
    "version": 3
   },
   "file_extension": ".py",
   "mimetype": "text/x-python",
   "name": "python",
   "nbconvert_exporter": "python",
   "pygments_lexer": "ipython3",
   "version": "3.8.8"
  }
 },
 "nbformat": 4,
 "nbformat_minor": 5
}
