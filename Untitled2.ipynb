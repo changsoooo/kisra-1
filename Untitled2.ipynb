{
 "cells": [
  {
   "cell_type": "code",
   "execution_count": 15,
   "id": "c567b63a",
   "metadata": {
    "ExecuteTime": {
     "end_time": "2021-05-02T01:44:07.738146Z",
     "start_time": "2021-05-02T01:44:07.734666Z"
    }
   },
   "outputs": [],
   "source": [
    "import pandas as pd\n",
    "from pandas.tseries.offsets import BDay\n",
    "\n",
    "import datetime"
   ]
  },
  {
   "cell_type": "code",
   "execution_count": 3,
   "id": "blessed-sport",
   "metadata": {
    "ExecuteTime": {
     "end_time": "2021-05-02T01:40:34.827286Z",
     "start_time": "2021-05-02T01:40:34.824658Z"
    }
   },
   "outputs": [],
   "source": [
    "now = datetime.datetime.now()"
   ]
  },
  {
   "cell_type": "code",
   "execution_count": 6,
   "id": "101f861d",
   "metadata": {
    "ExecuteTime": {
     "end_time": "2021-05-02T01:40:56.335074Z",
     "start_time": "2021-05-02T01:40:56.330339Z"
    }
   },
   "outputs": [],
   "source": [
    "current_date = None\n",
    "now = datetime.datetime.now()\n",
    "hour, timezone, type_hour = now.hour, 'AM', ''\n",
    "if 12<now.hour:\n",
    "    hour -= 12\n",
    "    timezone = 'PM'\n",
    "if now.hour<10:\n",
    "    type_hour = '0'+str(now.hour)\n",
    "\n",
    "if current_date is None:\n",
    "    date = str(now.month)+'/'+str(now.day)+'/'+str(now.year)+' '+str(hour)+':'+str(now.minute)+':'+str(now.second)+' '+timezone \n"
   ]
  },
  {
   "cell_type": "code",
   "execution_count": 7,
   "id": "ad6bb69a",
   "metadata": {
    "ExecuteTime": {
     "end_time": "2021-05-02T01:40:59.433123Z",
     "start_time": "2021-05-02T01:40:59.423695Z"
    }
   },
   "outputs": [
    {
     "data": {
      "text/plain": [
       "'5/2/2021 10:40:56 AM'"
      ]
     },
     "execution_count": 7,
     "metadata": {},
     "output_type": "execute_result"
    }
   ],
   "source": [
    "date"
   ]
  },
  {
   "cell_type": "code",
   "execution_count": 9,
   "id": "solved-wound",
   "metadata": {
    "ExecuteTime": {
     "end_time": "2021-05-02T01:42:20.995112Z",
     "start_time": "2021-05-02T01:42:20.986671Z"
    }
   },
   "outputs": [],
   "source": [
    "ts = pd.Timestamp(date)"
   ]
  },
  {
   "cell_type": "code",
   "execution_count": 17,
   "id": "entertaining-raleigh",
   "metadata": {
    "ExecuteTime": {
     "end_time": "2021-05-02T01:48:14.888330Z",
     "start_time": "2021-05-02T01:48:14.884716Z"
    }
   },
   "outputs": [],
   "source": [
    "prev_date = ts + BDay(-1)"
   ]
  },
  {
   "cell_type": "code",
   "execution_count": 21,
   "id": "proved-report",
   "metadata": {
    "ExecuteTime": {
     "end_time": "2021-05-02T01:49:45.384476Z",
     "start_time": "2021-05-02T01:49:45.380510Z"
    }
   },
   "outputs": [
    {
     "data": {
      "text/plain": [
       "'2021-04-30 4:00:00 PM'"
      ]
     },
     "execution_count": 21,
     "metadata": {},
     "output_type": "execute_result"
    }
   ],
   "source": [
    "date = prev_date.strftime('%Y-%m-%d') + ' 4:00:00 PM'"
   ]
  },
  {
   "cell_type": "code",
   "execution_count": null,
   "id": "hydraulic-combine",
   "metadata": {},
   "outputs": [],
   "source": [
    "strftime('%m/%d/%y')+' 1:00:00 AM'"
   ]
  }
 ],
 "metadata": {
  "kernelspec": {
   "display_name": "Python 3",
   "language": "python",
   "name": "python3"
  },
  "language_info": {
   "codemirror_mode": {
    "name": "ipython",
    "version": 3
   },
   "file_extension": ".py",
   "mimetype": "text/x-python",
   "name": "python",
   "nbconvert_exporter": "python",
   "pygments_lexer": "ipython3",
   "version": "3.8.8"
  }
 },
 "nbformat": 4,
 "nbformat_minor": 5
}
