{
 "cells": [
  {
   "cell_type": "code",
   "execution_count": 1,
   "id": "fd9a1038",
   "metadata": {
    "ExecuteTime": {
     "end_time": "2021-04-24T05:03:42.761251Z",
     "start_time": "2021-04-24T05:03:42.092641Z"
    }
   },
   "outputs": [],
   "source": [
    "import numpy as np\n",
    "import pandas as pd\n",
    "from load_data import Balance, Instruments, AdvisedPortfolios, PriceDB, Singleton\n",
    "from datetime import datetime"
   ]
  },
  {
   "cell_type": "markdown",
   "id": "e081848e",
   "metadata": {},
   "source": [
    "## 추천받은 포트폴리오 -> 잔고(detail 테이블)"
   ]
  },
  {
   "cell_type": "code",
   "execution_count": 2,
   "id": "1df29b81",
   "metadata": {
    "ExecuteTime": {
     "end_time": "2021-04-24T05:03:43.213245Z",
     "start_time": "2021-04-24T05:03:43.191619Z"
    }
   },
   "outputs": [],
   "source": [
    "instruments_m = pd.read_pickle('../../data/processed/instruments_m.pkl')\n",
    "price_db = pd.read_pickle('../../data/external/price_db_d.pkl')\n",
    "advised_pf = pd.read_pickle('../../data/processed/advised_portfolios.pkl')    "
   ]
  },
  {
   "cell_type": "code",
   "execution_count": 98,
   "id": "instant-stick",
   "metadata": {
    "ExecuteTime": {
     "end_time": "2021-04-24T16:01:07.421313Z",
     "start_time": "2021-04-24T16:01:07.416897Z"
    }
   },
   "outputs": [],
   "source": [
    "bal = pd.read_pickle('../../data/processed/balance_s.pkl')"
   ]
  },
  {
   "cell_type": "code",
   "execution_count": 104,
   "id": "international-thailand",
   "metadata": {
    "ExecuteTime": {
     "end_time": "2021-04-24T16:03:44.682687Z",
     "start_time": "2021-04-24T16:03:44.664046Z"
    }
   },
   "outputs": [
    {
     "data": {
      "text/html": [
       "<div>\n",
       "<style scoped>\n",
       "    .dataframe tbody tr th:only-of-type {\n",
       "        vertical-align: middle;\n",
       "    }\n",
       "\n",
       "    .dataframe tbody tr th {\n",
       "        vertical-align: top;\n",
       "    }\n",
       "\n",
       "    .dataframe thead th {\n",
       "        text-align: right;\n",
       "    }\n",
       "</style>\n",
       "<table border=\"1\" class=\"dataframe\">\n",
       "  <thead>\n",
       "    <tr style=\"text-align: right;\">\n",
       "      <th></th>\n",
       "      <th>date</th>\n",
       "      <th>userid</th>\n",
       "      <th>name</th>\n",
       "      <th>asset_class</th>\n",
       "      <th>itemcode</th>\n",
       "      <th>itemname</th>\n",
       "      <th>quantity</th>\n",
       "      <th>cost_price</th>\n",
       "      <th>cost_value</th>\n",
       "      <th>price</th>\n",
       "      <th>value</th>\n",
       "      <th>wt</th>\n",
       "      <th>group_by</th>\n",
       "      <th>original</th>\n",
       "    </tr>\n",
       "  </thead>\n",
       "  <tbody>\n",
       "    <tr>\n",
       "      <th>6</th>\n",
       "      <td>3/22/2021 4:00:00 PM</td>\n",
       "      <td>A001</td>\n",
       "      <td>투자자1</td>\n",
       "      <td>Fixed Income</td>\n",
       "      <td>A114260</td>\n",
       "      <td>KODEX 국고채3년</td>\n",
       "      <td>2</td>\n",
       "      <td>58120</td>\n",
       "      <td>58120</td>\n",
       "      <td>61026.00</td>\n",
       "      <td>122052.00</td>\n",
       "      <td>0.171652</td>\n",
       "      <td>20210322 16:00채권</td>\n",
       "      <td>N</td>\n",
       "    </tr>\n",
       "    <tr>\n",
       "      <th>5</th>\n",
       "      <td>3/22/2021 4:00:00 PM</td>\n",
       "      <td>A001</td>\n",
       "      <td>투자자1</td>\n",
       "      <td>Alternative</td>\n",
       "      <td>A329750</td>\n",
       "      <td>TIGER 미국달러단기채권액티브</td>\n",
       "      <td>16</td>\n",
       "      <td>9645</td>\n",
       "      <td>38580</td>\n",
       "      <td>9645.00</td>\n",
       "      <td>154320.00</td>\n",
       "      <td>0.217033</td>\n",
       "      <td>20210322 16:00대체</td>\n",
       "      <td>N</td>\n",
       "    </tr>\n",
       "    <tr>\n",
       "      <th>4</th>\n",
       "      <td>3/22/2021 4:00:00 PM</td>\n",
       "      <td>A001</td>\n",
       "      <td>투자자1</td>\n",
       "      <td>Fixed Income</td>\n",
       "      <td>A302190</td>\n",
       "      <td>TIGER 중장기국채</td>\n",
       "      <td>3</td>\n",
       "      <td>52365</td>\n",
       "      <td>52365</td>\n",
       "      <td>54459.60</td>\n",
       "      <td>163378.80</td>\n",
       "      <td>0.229773</td>\n",
       "      <td>20210322 16:00채권</td>\n",
       "      <td>N</td>\n",
       "    </tr>\n",
       "    <tr>\n",
       "      <th>3</th>\n",
       "      <td>3/22/2021 4:00:00 PM</td>\n",
       "      <td>A001</td>\n",
       "      <td>투자자1</td>\n",
       "      <td>Fixed Income</td>\n",
       "      <td>A196230</td>\n",
       "      <td>KBSTAR 단기통안채</td>\n",
       "      <td>1</td>\n",
       "      <td>104325</td>\n",
       "      <td>104325</td>\n",
       "      <td>101195.25</td>\n",
       "      <td>101195.25</td>\n",
       "      <td>0.142319</td>\n",
       "      <td>20210322 16:00채권</td>\n",
       "      <td>N</td>\n",
       "    </tr>\n",
       "    <tr>\n",
       "      <th>2</th>\n",
       "      <td>3/22/2021 4:00:00 PM</td>\n",
       "      <td>A001</td>\n",
       "      <td>투자자1</td>\n",
       "      <td>Equity</td>\n",
       "      <td>A360200</td>\n",
       "      <td>KINDEX 미국S&amp;P500</td>\n",
       "      <td>4</td>\n",
       "      <td>10865</td>\n",
       "      <td>43460</td>\n",
       "      <td>10321.75</td>\n",
       "      <td>41287.00</td>\n",
       "      <td>0.058065</td>\n",
       "      <td>20210322 16:00주식</td>\n",
       "      <td>N</td>\n",
       "    </tr>\n",
       "    <tr>\n",
       "      <th>1</th>\n",
       "      <td>3/22/2021 4:00:00 PM</td>\n",
       "      <td>A001</td>\n",
       "      <td>투자자1</td>\n",
       "      <td>Equity</td>\n",
       "      <td>A069500</td>\n",
       "      <td>KODEX 200</td>\n",
       "      <td>3</td>\n",
       "      <td>42095</td>\n",
       "      <td>42095</td>\n",
       "      <td>42936.90</td>\n",
       "      <td>128810.70</td>\n",
       "      <td>0.181157</td>\n",
       "      <td>20210322 16:00주식</td>\n",
       "      <td>N</td>\n",
       "    </tr>\n",
       "    <tr>\n",
       "      <th>0</th>\n",
       "      <td>3/21/2021 4:00:00 PM</td>\n",
       "      <td>A001</td>\n",
       "      <td>투자자1</td>\n",
       "      <td>Cash</td>\n",
       "      <td>C000001</td>\n",
       "      <td>현금</td>\n",
       "      <td>700000</td>\n",
       "      <td>1</td>\n",
       "      <td>700000</td>\n",
       "      <td>1.00</td>\n",
       "      <td>700000.00</td>\n",
       "      <td>1.000000</td>\n",
       "      <td>20210321 16:00현금성</td>\n",
       "      <td>Y</td>\n",
       "    </tr>\n",
       "  </tbody>\n",
       "</table>\n",
       "</div>"
      ],
      "text/plain": [
       "                   date userid  name   asset_class itemcode  \\\n",
       "6  3/22/2021 4:00:00 PM   A001  투자자1  Fixed Income  A114260   \n",
       "5  3/22/2021 4:00:00 PM   A001  투자자1   Alternative  A329750   \n",
       "4  3/22/2021 4:00:00 PM   A001  투자자1  Fixed Income  A302190   \n",
       "3  3/22/2021 4:00:00 PM   A001  투자자1  Fixed Income  A196230   \n",
       "2  3/22/2021 4:00:00 PM   A001  투자자1        Equity  A360200   \n",
       "1  3/22/2021 4:00:00 PM   A001  투자자1        Equity  A069500   \n",
       "0  3/21/2021 4:00:00 PM   A001  투자자1          Cash  C000001   \n",
       "\n",
       "            itemname  quantity  cost_price  cost_value      price      value  \\\n",
       "6        KODEX 국고채3년         2       58120       58120   61026.00  122052.00   \n",
       "5  TIGER 미국달러단기채권액티브        16        9645       38580    9645.00  154320.00   \n",
       "4        TIGER 중장기국채         3       52365       52365   54459.60  163378.80   \n",
       "3       KBSTAR 단기통안채         1      104325      104325  101195.25  101195.25   \n",
       "2    KINDEX 미국S&P500         4       10865       43460   10321.75   41287.00   \n",
       "1          KODEX 200         3       42095       42095   42936.90  128810.70   \n",
       "0                 현금    700000           1      700000       1.00  700000.00   \n",
       "\n",
       "         wt           group_by original  \n",
       "6  0.171652   20210322 16:00채권        N  \n",
       "5  0.217033   20210322 16:00대체        N  \n",
       "4  0.229773   20210322 16:00채권        N  \n",
       "3  0.142319   20210322 16:00채권        N  \n",
       "2  0.058065   20210322 16:00주식        N  \n",
       "1  0.181157   20210322 16:00주식        N  \n",
       "0  1.000000  20210321 16:00현금성        Y  "
      ]
     },
     "execution_count": 104,
     "metadata": {},
     "output_type": "execute_result"
    }
   ],
   "source": [
    "bal.iloc[pd.to_datetime(bal.date).values.argsort()[::-1]]"
   ]
  },
  {
   "cell_type": "code",
   "execution_count": null,
   "id": "original-deficit",
   "metadata": {},
   "outputs": [],
   "source": []
  },
  {
   "cell_type": "code",
   "execution_count": 101,
   "id": "environmental-switch",
   "metadata": {
    "ExecuteTime": {
     "end_time": "2021-04-24T16:01:28.438000Z",
     "start_time": "2021-04-24T16:01:28.422181Z"
    }
   },
   "outputs": [
    {
     "data": {
      "text/html": [
       "<div>\n",
       "<style scoped>\n",
       "    .dataframe tbody tr th:only-of-type {\n",
       "        vertical-align: middle;\n",
       "    }\n",
       "\n",
       "    .dataframe tbody tr th {\n",
       "        vertical-align: top;\n",
       "    }\n",
       "\n",
       "    .dataframe thead th {\n",
       "        text-align: right;\n",
       "    }\n",
       "</style>\n",
       "<table border=\"1\" class=\"dataframe\">\n",
       "  <thead>\n",
       "    <tr style=\"text-align: right;\">\n",
       "      <th></th>\n",
       "      <th>date</th>\n",
       "      <th>userid</th>\n",
       "      <th>name</th>\n",
       "      <th>asset_class</th>\n",
       "      <th>itemcode</th>\n",
       "      <th>itemname</th>\n",
       "      <th>quantity</th>\n",
       "      <th>cost_price</th>\n",
       "      <th>cost_value</th>\n",
       "      <th>price</th>\n",
       "      <th>value</th>\n",
       "      <th>wt</th>\n",
       "      <th>group_by</th>\n",
       "      <th>original</th>\n",
       "    </tr>\n",
       "  </thead>\n",
       "  <tbody>\n",
       "    <tr>\n",
       "      <th>1</th>\n",
       "      <td>3/22/2021 4:00:00 PM</td>\n",
       "      <td>A001</td>\n",
       "      <td>투자자1</td>\n",
       "      <td>Equity</td>\n",
       "      <td>A069500</td>\n",
       "      <td>KODEX 200</td>\n",
       "      <td>3</td>\n",
       "      <td>42095</td>\n",
       "      <td>42095</td>\n",
       "      <td>42936.90</td>\n",
       "      <td>128810.70</td>\n",
       "      <td>0.181157</td>\n",
       "      <td>20210322 16:00주식</td>\n",
       "      <td>N</td>\n",
       "    </tr>\n",
       "    <tr>\n",
       "      <th>2</th>\n",
       "      <td>3/22/2021 4:00:00 PM</td>\n",
       "      <td>A001</td>\n",
       "      <td>투자자1</td>\n",
       "      <td>Equity</td>\n",
       "      <td>A360200</td>\n",
       "      <td>KINDEX 미국S&amp;P500</td>\n",
       "      <td>4</td>\n",
       "      <td>10865</td>\n",
       "      <td>43460</td>\n",
       "      <td>10321.75</td>\n",
       "      <td>41287.00</td>\n",
       "      <td>0.058065</td>\n",
       "      <td>20210322 16:00주식</td>\n",
       "      <td>N</td>\n",
       "    </tr>\n",
       "    <tr>\n",
       "      <th>3</th>\n",
       "      <td>3/22/2021 4:00:00 PM</td>\n",
       "      <td>A001</td>\n",
       "      <td>투자자1</td>\n",
       "      <td>Fixed Income</td>\n",
       "      <td>A196230</td>\n",
       "      <td>KBSTAR 단기통안채</td>\n",
       "      <td>1</td>\n",
       "      <td>104325</td>\n",
       "      <td>104325</td>\n",
       "      <td>101195.25</td>\n",
       "      <td>101195.25</td>\n",
       "      <td>0.142319</td>\n",
       "      <td>20210322 16:00채권</td>\n",
       "      <td>N</td>\n",
       "    </tr>\n",
       "    <tr>\n",
       "      <th>4</th>\n",
       "      <td>3/22/2021 4:00:00 PM</td>\n",
       "      <td>A001</td>\n",
       "      <td>투자자1</td>\n",
       "      <td>Fixed Income</td>\n",
       "      <td>A302190</td>\n",
       "      <td>TIGER 중장기국채</td>\n",
       "      <td>3</td>\n",
       "      <td>52365</td>\n",
       "      <td>52365</td>\n",
       "      <td>54459.60</td>\n",
       "      <td>163378.80</td>\n",
       "      <td>0.229773</td>\n",
       "      <td>20210322 16:00채권</td>\n",
       "      <td>N</td>\n",
       "    </tr>\n",
       "    <tr>\n",
       "      <th>5</th>\n",
       "      <td>3/22/2021 4:00:00 PM</td>\n",
       "      <td>A001</td>\n",
       "      <td>투자자1</td>\n",
       "      <td>Alternative</td>\n",
       "      <td>A329750</td>\n",
       "      <td>TIGER 미국달러단기채권액티브</td>\n",
       "      <td>16</td>\n",
       "      <td>9645</td>\n",
       "      <td>38580</td>\n",
       "      <td>9645.00</td>\n",
       "      <td>154320.00</td>\n",
       "      <td>0.217033</td>\n",
       "      <td>20210322 16:00대체</td>\n",
       "      <td>N</td>\n",
       "    </tr>\n",
       "    <tr>\n",
       "      <th>6</th>\n",
       "      <td>3/22/2021 4:00:00 PM</td>\n",
       "      <td>A001</td>\n",
       "      <td>투자자1</td>\n",
       "      <td>Fixed Income</td>\n",
       "      <td>A114260</td>\n",
       "      <td>KODEX 국고채3년</td>\n",
       "      <td>2</td>\n",
       "      <td>58120</td>\n",
       "      <td>58120</td>\n",
       "      <td>61026.00</td>\n",
       "      <td>122052.00</td>\n",
       "      <td>0.171652</td>\n",
       "      <td>20210322 16:00채권</td>\n",
       "      <td>N</td>\n",
       "    </tr>\n",
       "    <tr>\n",
       "      <th>0</th>\n",
       "      <td>3/21/2021 4:00:00 PM</td>\n",
       "      <td>A001</td>\n",
       "      <td>투자자1</td>\n",
       "      <td>Cash</td>\n",
       "      <td>C000001</td>\n",
       "      <td>현금</td>\n",
       "      <td>700000</td>\n",
       "      <td>1</td>\n",
       "      <td>700000</td>\n",
       "      <td>1.00</td>\n",
       "      <td>700000.00</td>\n",
       "      <td>1.000000</td>\n",
       "      <td>20210321 16:00현금성</td>\n",
       "      <td>Y</td>\n",
       "    </tr>\n",
       "  </tbody>\n",
       "</table>\n",
       "</div>"
      ],
      "text/plain": [
       "                   date userid  name   asset_class itemcode  \\\n",
       "1  3/22/2021 4:00:00 PM   A001  투자자1        Equity  A069500   \n",
       "2  3/22/2021 4:00:00 PM   A001  투자자1        Equity  A360200   \n",
       "3  3/22/2021 4:00:00 PM   A001  투자자1  Fixed Income  A196230   \n",
       "4  3/22/2021 4:00:00 PM   A001  투자자1  Fixed Income  A302190   \n",
       "5  3/22/2021 4:00:00 PM   A001  투자자1   Alternative  A329750   \n",
       "6  3/22/2021 4:00:00 PM   A001  투자자1  Fixed Income  A114260   \n",
       "0  3/21/2021 4:00:00 PM   A001  투자자1          Cash  C000001   \n",
       "\n",
       "            itemname  quantity  cost_price  cost_value      price      value  \\\n",
       "1          KODEX 200         3       42095       42095   42936.90  128810.70   \n",
       "2    KINDEX 미국S&P500         4       10865       43460   10321.75   41287.00   \n",
       "3       KBSTAR 단기통안채         1      104325      104325  101195.25  101195.25   \n",
       "4        TIGER 중장기국채         3       52365       52365   54459.60  163378.80   \n",
       "5  TIGER 미국달러단기채권액티브        16        9645       38580    9645.00  154320.00   \n",
       "6        KODEX 국고채3년         2       58120       58120   61026.00  122052.00   \n",
       "0                 현금    700000           1      700000       1.00  700000.00   \n",
       "\n",
       "         wt           group_by original  \n",
       "1  0.181157   20210322 16:00주식        N  \n",
       "2  0.058065   20210322 16:00주식        N  \n",
       "3  0.142319   20210322 16:00채권        N  \n",
       "4  0.229773   20210322 16:00채권        N  \n",
       "5  0.217033   20210322 16:00대체        N  \n",
       "6  0.171652   20210322 16:00채권        N  \n",
       "0  1.000000  20210321 16:00현금성        Y  "
      ]
     },
     "execution_count": 101,
     "metadata": {},
     "output_type": "execute_result"
    }
   ],
   "source": [
    "bal.sort_values('date', ascending=False)"
   ]
  },
  {
   "cell_type": "code",
   "execution_count": 80,
   "id": "simplified-developer",
   "metadata": {
    "ExecuteTime": {
     "end_time": "2021-04-24T13:16:04.779691Z",
     "start_time": "2021-04-24T13:16:04.769589Z"
    }
   },
   "outputs": [],
   "source": [
    "max_dt = advised_pf.loc[advised_pf.risk_profile==2, ['date']].max().date\n",
    "latest_pf = advised_pf.loc[(advised_pf.risk_profile==2) & (advised_pf.date==max_dt), :]"
   ]
  },
  {
   "cell_type": "code",
   "execution_count": 90,
   "id": "ambient-press",
   "metadata": {
    "ExecuteTime": {
     "end_time": "2021-04-24T13:28:49.079338Z",
     "start_time": "2021-04-24T13:28:49.076421Z"
    }
   },
   "outputs": [],
   "source": [
    "from pandas import to_numeric"
   ]
  },
  {
   "cell_type": "code",
   "execution_count": 94,
   "id": "tired-render",
   "metadata": {
    "ExecuteTime": {
     "end_time": "2021-04-24T13:36:45.270912Z",
     "start_time": "2021-04-24T13:36:45.264298Z"
    }
   },
   "outputs": [
    {
     "data": {
      "text/plain": [
       "18449     57,900\n",
       "18450    101,185\n",
       "18451    100,975\n",
       "18452    108,565\n",
       "18453    104,340\n",
       "18454     41,855\n",
       "18455     17,750\n",
       "18456     11,750\n",
       "Name: price, dtype: object"
      ]
     },
     "execution_count": 94,
     "metadata": {},
     "output_type": "execute_result"
    }
   ],
   "source": [
    "to_numeric(latest_pf.price.astype(str)).astype(int).apply(lambda x : \"{:,}\".format(x))"
   ]
  },
  {
   "cell_type": "code",
   "execution_count": 75,
   "id": "respective-obligation",
   "metadata": {
    "ExecuteTime": {
     "end_time": "2021-04-24T13:14:36.500451Z",
     "start_time": "2021-04-24T13:14:36.498005Z"
    }
   },
   "outputs": [],
   "source": [
    "to = 3.332"
   ]
  },
  {
   "cell_type": "code",
   "execution_count": 77,
   "id": "european-market",
   "metadata": {
    "ExecuteTime": {
     "end_time": "2021-04-24T13:15:00.134151Z",
     "start_time": "2021-04-24T13:15:00.128826Z"
    }
   },
   "outputs": [
    {
     "data": {
      "text/plain": [
       "'333,322'"
      ]
     },
     "execution_count": 77,
     "metadata": {},
     "output_type": "execute_result"
    }
   ],
   "source": [
    "'{:,}'.format(333322)"
   ]
  },
  {
   "cell_type": "code",
   "execution_count": 78,
   "id": "noted-eleven",
   "metadata": {
    "ExecuteTime": {
     "end_time": "2021-04-24T13:15:04.593484Z",
     "start_time": "2021-04-24T13:15:04.589827Z"
    }
   },
   "outputs": [
    {
     "data": {
      "text/plain": [
       "'3'"
      ]
     },
     "execution_count": 78,
     "metadata": {},
     "output_type": "execute_result"
    }
   ],
   "source": [
    "'{:,}'.format(int(to))"
   ]
  },
  {
   "cell_type": "code",
   "execution_count": null,
   "id": "adequate-hormone",
   "metadata": {},
   "outputs": [],
   "source": []
  },
  {
   "cell_type": "code",
   "execution_count": 79,
   "id": "special-basement",
   "metadata": {
    "ExecuteTime": {
     "end_time": "2021-04-24T13:15:42.287778Z",
     "start_time": "2021-04-24T13:15:42.276946Z"
    }
   },
   "outputs": [
    {
     "data": {
      "text/html": [
       "<div>\n",
       "<style scoped>\n",
       "    .dataframe tbody tr th:only-of-type {\n",
       "        vertical-align: middle;\n",
       "    }\n",
       "\n",
       "    .dataframe tbody tr th {\n",
       "        vertical-align: top;\n",
       "    }\n",
       "\n",
       "    .dataframe thead th {\n",
       "        text-align: right;\n",
       "    }\n",
       "</style>\n",
       "<table border=\"1\" class=\"dataframe\">\n",
       "  <thead>\n",
       "    <tr style=\"text-align: right;\">\n",
       "      <th></th>\n",
       "      <th>price</th>\n",
       "      <th>volume</th>\n",
       "    </tr>\n",
       "  </thead>\n",
       "  <tbody>\n",
       "    <tr>\n",
       "      <th>18449</th>\n",
       "      <td>57,900</td>\n",
       "      <td>1,893</td>\n",
       "    </tr>\n",
       "    <tr>\n",
       "      <th>18450</th>\n",
       "      <td>101,185</td>\n",
       "      <td>137,782</td>\n",
       "    </tr>\n",
       "    <tr>\n",
       "      <th>18451</th>\n",
       "      <td>100,975</td>\n",
       "      <td>490,574</td>\n",
       "    </tr>\n",
       "    <tr>\n",
       "      <th>18452</th>\n",
       "      <td>108,565</td>\n",
       "      <td>3,011</td>\n",
       "    </tr>\n",
       "    <tr>\n",
       "      <th>18453</th>\n",
       "      <td>104,340</td>\n",
       "      <td>180,070</td>\n",
       "    </tr>\n",
       "    <tr>\n",
       "      <th>18454</th>\n",
       "      <td>41,855</td>\n",
       "      <td>9,277,711</td>\n",
       "    </tr>\n",
       "    <tr>\n",
       "      <th>18455</th>\n",
       "      <td>17,750</td>\n",
       "      <td>23,246</td>\n",
       "    </tr>\n",
       "    <tr>\n",
       "      <th>18456</th>\n",
       "      <td>11,750</td>\n",
       "      <td>9,292</td>\n",
       "    </tr>\n",
       "  </tbody>\n",
       "</table>\n",
       "</div>"
      ],
      "text/plain": [
       "         price     volume\n",
       "18449   57,900      1,893\n",
       "18450  101,185    137,782\n",
       "18451  100,975    490,574\n",
       "18452  108,565      3,011\n",
       "18453  104,340    180,070\n",
       "18454   41,855  9,277,711\n",
       "18455   17,750     23,246\n",
       "18456   11,750      9,292"
      ]
     },
     "execution_count": 79,
     "metadata": {},
     "output_type": "execute_result"
    }
   ],
   "source": [
    "latest_pf.loc[:, ['price', 'volume']].astype(int).applymap(lambda x : \"{:,}\".format(x))"
   ]
  },
  {
   "cell_type": "code",
   "execution_count": 47,
   "id": "intermediate-hanging",
   "metadata": {
    "ExecuteTime": {
     "end_time": "2021-04-24T12:37:39.315866Z",
     "start_time": "2021-04-24T12:37:39.302822Z"
    }
   },
   "outputs": [
    {
     "data": {
      "text/html": [
       "<div>\n",
       "<style scoped>\n",
       "    .dataframe tbody tr th:only-of-type {\n",
       "        vertical-align: middle;\n",
       "    }\n",
       "\n",
       "    .dataframe tbody tr th {\n",
       "        vertical-align: top;\n",
       "    }\n",
       "\n",
       "    .dataframe thead th {\n",
       "        text-align: right;\n",
       "    }\n",
       "</style>\n",
       "<table border=\"1\" class=\"dataframe\">\n",
       "  <thead>\n",
       "    <tr style=\"text-align: right;\">\n",
       "      <th></th>\n",
       "      <th>date</th>\n",
       "      <th>risk_profile</th>\n",
       "      <th>itemcode</th>\n",
       "      <th>weights</th>\n",
       "      <th>tracking_code</th>\n",
       "      <th>itemname</th>\n",
       "      <th>price</th>\n",
       "      <th>volume</th>\n",
       "      <th>trading_amt_mln</th>\n",
       "      <th>asset_class</th>\n",
       "    </tr>\n",
       "  </thead>\n",
       "  <tbody>\n",
       "    <tr>\n",
       "      <th>18449</th>\n",
       "      <td>2021-03-19</td>\n",
       "      <td>2</td>\n",
       "      <td>A114260</td>\n",
       "      <td>0.240</td>\n",
       "      <td>KTB_D3</td>\n",
       "      <td>KODEX 국고채3년</td>\n",
       "      <td>57,900</td>\n",
       "      <td>1893.0</td>\n",
       "      <td>825.848869</td>\n",
       "      <td>Fixed Income</td>\n",
       "    </tr>\n",
       "    <tr>\n",
       "      <th>18450</th>\n",
       "      <td>2021-03-19</td>\n",
       "      <td>2</td>\n",
       "      <td>A122260</td>\n",
       "      <td>0.240</td>\n",
       "      <td>BOK_D1</td>\n",
       "      <td>KOSEF 통안채1년</td>\n",
       "      <td>101,185</td>\n",
       "      <td>137782.0</td>\n",
       "      <td>47097.865417</td>\n",
       "      <td>Fixed Income</td>\n",
       "    </tr>\n",
       "    <tr>\n",
       "      <th>18451</th>\n",
       "      <td>2021-03-19</td>\n",
       "      <td>2</td>\n",
       "      <td>A130730</td>\n",
       "      <td>0.240</td>\n",
       "      <td>MM</td>\n",
       "      <td>KOSEF 단기자금</td>\n",
       "      <td>100,975</td>\n",
       "      <td>490574.0</td>\n",
       "      <td>64342.722020</td>\n",
       "      <td>Fixed Income</td>\n",
       "    </tr>\n",
       "    <tr>\n",
       "      <th>18452</th>\n",
       "      <td>2021-03-19</td>\n",
       "      <td>2</td>\n",
       "      <td>A273130</td>\n",
       "      <td>0.095</td>\n",
       "      <td>ACT_BOND_D4</td>\n",
       "      <td>KODEX 종합채권(AA-이상)액티브</td>\n",
       "      <td>108,565</td>\n",
       "      <td>3011.0</td>\n",
       "      <td>2012.456380</td>\n",
       "      <td>Fixed Income</td>\n",
       "    </tr>\n",
       "    <tr>\n",
       "      <th>18453</th>\n",
       "      <td>2021-03-19</td>\n",
       "      <td>2</td>\n",
       "      <td>A196230</td>\n",
       "      <td>0.065</td>\n",
       "      <td>BOK_D.4</td>\n",
       "      <td>KBSTAR 단기통안채</td>\n",
       "      <td>104,340</td>\n",
       "      <td>180070.0</td>\n",
       "      <td>56905.971755</td>\n",
       "      <td>Fixed Income</td>\n",
       "    </tr>\n",
       "    <tr>\n",
       "      <th>18454</th>\n",
       "      <td>2021-03-19</td>\n",
       "      <td>2</td>\n",
       "      <td>A069500</td>\n",
       "      <td>0.061</td>\n",
       "      <td>K200</td>\n",
       "      <td>KODEX 200</td>\n",
       "      <td>41,855</td>\n",
       "      <td>9277711.0</td>\n",
       "      <td>421471.700934</td>\n",
       "      <td>Equity</td>\n",
       "    </tr>\n",
       "    <tr>\n",
       "      <th>18455</th>\n",
       "      <td>2021-03-19</td>\n",
       "      <td>2</td>\n",
       "      <td>A251350</td>\n",
       "      <td>0.039</td>\n",
       "      <td>MSCI_WO</td>\n",
       "      <td>KODEX 선진국MSCI World</td>\n",
       "      <td>17,750</td>\n",
       "      <td>23246.0</td>\n",
       "      <td>3022.359487</td>\n",
       "      <td>Equity</td>\n",
       "    </tr>\n",
       "    <tr>\n",
       "      <th>18456</th>\n",
       "      <td>2021-03-19</td>\n",
       "      <td>2</td>\n",
       "      <td>A237370</td>\n",
       "      <td>0.020</td>\n",
       "      <td>BAL_KO3KTB7</td>\n",
       "      <td>KODEX 배당성장채권혼합</td>\n",
       "      <td>11,750</td>\n",
       "      <td>9292.0</td>\n",
       "      <td>105.542692</td>\n",
       "      <td>Alternative</td>\n",
       "    </tr>\n",
       "  </tbody>\n",
       "</table>\n",
       "</div>"
      ],
      "text/plain": [
       "             date  risk_profile itemcode weights tracking_code  \\\n",
       "18449  2021-03-19             2  A114260   0.240        KTB_D3   \n",
       "18450  2021-03-19             2  A122260   0.240        BOK_D1   \n",
       "18451  2021-03-19             2  A130730   0.240            MM   \n",
       "18452  2021-03-19             2  A273130   0.095   ACT_BOND_D4   \n",
       "18453  2021-03-19             2  A196230   0.065       BOK_D.4   \n",
       "18454  2021-03-19             2  A069500   0.061          K200   \n",
       "18455  2021-03-19             2  A251350   0.039       MSCI_WO   \n",
       "18456  2021-03-19             2  A237370   0.020   BAL_KO3KTB7   \n",
       "\n",
       "                   itemname    price     volume  trading_amt_mln   asset_class  \n",
       "18449           KODEX 국고채3년   57,900     1893.0       825.848869  Fixed Income  \n",
       "18450           KOSEF 통안채1년  101,185   137782.0     47097.865417  Fixed Income  \n",
       "18451            KOSEF 단기자금  100,975   490574.0     64342.722020  Fixed Income  \n",
       "18452  KODEX 종합채권(AA-이상)액티브  108,565     3011.0      2012.456380  Fixed Income  \n",
       "18453          KBSTAR 단기통안채  104,340   180070.0     56905.971755  Fixed Income  \n",
       "18454             KODEX 200   41,855  9277711.0    421471.700934        Equity  \n",
       "18455   KODEX 선진국MSCI World   17,750    23246.0      3022.359487        Equity  \n",
       "18456        KODEX 배당성장채권혼합   11,750     9292.0       105.542692   Alternative  "
      ]
     },
     "execution_count": 47,
     "metadata": {},
     "output_type": "execute_result"
    }
   ],
   "source": [
    "latest_pf"
   ]
  },
  {
   "cell_type": "code",
   "execution_count": 46,
   "id": "hydraulic-reliance",
   "metadata": {
    "ExecuteTime": {
     "end_time": "2021-04-24T12:37:36.527727Z",
     "start_time": "2021-04-24T12:37:36.521711Z"
    }
   },
   "outputs": [
    {
     "name": "stderr",
     "output_type": "stream",
     "text": [
      "/Users/msyeom/anaconda3/envs/ra/lib/python3.8/site-packages/pandas/core/generic.py:5494: SettingWithCopyWarning: \n",
      "A value is trying to be set on a copy of a slice from a DataFrame.\n",
      "Try using .loc[row_indexer,col_indexer] = value instead\n",
      "\n",
      "See the caveats in the documentation: https://pandas.pydata.org/pandas-docs/stable/user_guide/indexing.html#returning-a-view-versus-a-copy\n",
      "  self[name] = value\n"
     ]
    }
   ],
   "source": [
    "latest_pf.price = latest_pf.price.astype(int).apply(lambda x : \"{:,}\".format(x))\n",
    "latest_pf.weights = latest_pf.weights.apply(lambda x : \"{:.3f}\".format(x))"
   ]
  },
  {
   "cell_type": "code",
   "execution_count": 17,
   "id": "cloudy-cholesterol",
   "metadata": {
    "ExecuteTime": {
     "end_time": "2021-04-24T06:46:17.018668Z",
     "start_time": "2021-04-24T06:46:17.013448Z"
    }
   },
   "outputs": [
    {
     "data": {
      "text/plain": [
       "'A122260'"
      ]
     },
     "execution_count": 17,
     "metadata": {},
     "output_type": "execute_result"
    }
   ],
   "source": [
    "latest_pf.loc[latest_pf.itemcode=='A122260', 'itemcode'].iloc[0]"
   ]
  },
  {
   "cell_type": "code",
   "execution_count": 11,
   "id": "incomplete-hardware",
   "metadata": {
    "ExecuteTime": {
     "end_time": "2021-04-24T05:20:18.591949Z",
     "start_time": "2021-04-24T05:20:18.578529Z"
    }
   },
   "outputs": [
    {
     "data": {
      "text/html": [
       "<div>\n",
       "<style scoped>\n",
       "    .dataframe tbody tr th:only-of-type {\n",
       "        vertical-align: middle;\n",
       "    }\n",
       "\n",
       "    .dataframe tbody tr th {\n",
       "        vertical-align: top;\n",
       "    }\n",
       "\n",
       "    .dataframe thead th {\n",
       "        text-align: right;\n",
       "    }\n",
       "</style>\n",
       "<table border=\"1\" class=\"dataframe\">\n",
       "  <thead>\n",
       "    <tr style=\"text-align: right;\">\n",
       "      <th></th>\n",
       "      <th>date</th>\n",
       "      <th>risk_profile</th>\n",
       "      <th>itemcode</th>\n",
       "      <th>weights</th>\n",
       "      <th>tracking_code</th>\n",
       "      <th>itemname</th>\n",
       "      <th>price</th>\n",
       "      <th>volume</th>\n",
       "      <th>trading_amt_mln</th>\n",
       "      <th>asset_class</th>\n",
       "    </tr>\n",
       "  </thead>\n",
       "  <tbody>\n",
       "    <tr>\n",
       "      <th>18449</th>\n",
       "      <td>2021-03-19</td>\n",
       "      <td>2</td>\n",
       "      <td>A114260</td>\n",
       "      <td>0.240000</td>\n",
       "      <td>KTB_D3</td>\n",
       "      <td>KODEX 국고채3년</td>\n",
       "      <td>57900.0</td>\n",
       "      <td>1893.0</td>\n",
       "      <td>825.848869</td>\n",
       "      <td>Fixed Income</td>\n",
       "    </tr>\n",
       "    <tr>\n",
       "      <th>18450</th>\n",
       "      <td>2021-03-19</td>\n",
       "      <td>2</td>\n",
       "      <td>A122260</td>\n",
       "      <td>0.240000</td>\n",
       "      <td>BOK_D1</td>\n",
       "      <td>KOSEF 통안채1년</td>\n",
       "      <td>101185.0</td>\n",
       "      <td>137782.0</td>\n",
       "      <td>47097.865417</td>\n",
       "      <td>Fixed Income</td>\n",
       "    </tr>\n",
       "    <tr>\n",
       "      <th>18451</th>\n",
       "      <td>2021-03-19</td>\n",
       "      <td>2</td>\n",
       "      <td>A130730</td>\n",
       "      <td>0.240000</td>\n",
       "      <td>MM</td>\n",
       "      <td>KOSEF 단기자금</td>\n",
       "      <td>100975.0</td>\n",
       "      <td>490574.0</td>\n",
       "      <td>64342.722020</td>\n",
       "      <td>Fixed Income</td>\n",
       "    </tr>\n",
       "    <tr>\n",
       "      <th>18452</th>\n",
       "      <td>2021-03-19</td>\n",
       "      <td>2</td>\n",
       "      <td>A273130</td>\n",
       "      <td>0.094563</td>\n",
       "      <td>ACT_BOND_D4</td>\n",
       "      <td>KODEX 종합채권(AA-이상)액티브</td>\n",
       "      <td>108565.0</td>\n",
       "      <td>3011.0</td>\n",
       "      <td>2012.456380</td>\n",
       "      <td>Fixed Income</td>\n",
       "    </tr>\n",
       "    <tr>\n",
       "      <th>18453</th>\n",
       "      <td>2021-03-19</td>\n",
       "      <td>2</td>\n",
       "      <td>A196230</td>\n",
       "      <td>0.065437</td>\n",
       "      <td>BOK_D.4</td>\n",
       "      <td>KBSTAR 단기통안채</td>\n",
       "      <td>104340.0</td>\n",
       "      <td>180070.0</td>\n",
       "      <td>56905.971755</td>\n",
       "      <td>Fixed Income</td>\n",
       "    </tr>\n",
       "    <tr>\n",
       "      <th>18454</th>\n",
       "      <td>2021-03-19</td>\n",
       "      <td>2</td>\n",
       "      <td>A069500</td>\n",
       "      <td>0.061392</td>\n",
       "      <td>K200</td>\n",
       "      <td>KODEX 200</td>\n",
       "      <td>41855.0</td>\n",
       "      <td>9277711.0</td>\n",
       "      <td>421471.700934</td>\n",
       "      <td>Equity</td>\n",
       "    </tr>\n",
       "    <tr>\n",
       "      <th>18455</th>\n",
       "      <td>2021-03-19</td>\n",
       "      <td>2</td>\n",
       "      <td>A251350</td>\n",
       "      <td>0.038608</td>\n",
       "      <td>MSCI_WO</td>\n",
       "      <td>KODEX 선진국MSCI World</td>\n",
       "      <td>17750.0</td>\n",
       "      <td>23246.0</td>\n",
       "      <td>3022.359487</td>\n",
       "      <td>Equity</td>\n",
       "    </tr>\n",
       "    <tr>\n",
       "      <th>18456</th>\n",
       "      <td>2021-03-19</td>\n",
       "      <td>2</td>\n",
       "      <td>A237370</td>\n",
       "      <td>0.020000</td>\n",
       "      <td>BAL_KO3KTB7</td>\n",
       "      <td>KODEX 배당성장채권혼합</td>\n",
       "      <td>11750.0</td>\n",
       "      <td>9292.0</td>\n",
       "      <td>105.542692</td>\n",
       "      <td>Alternative</td>\n",
       "    </tr>\n",
       "  </tbody>\n",
       "</table>\n",
       "</div>"
      ],
      "text/plain": [
       "             date  risk_profile itemcode   weights tracking_code  \\\n",
       "18449  2021-03-19             2  A114260  0.240000        KTB_D3   \n",
       "18450  2021-03-19             2  A122260  0.240000        BOK_D1   \n",
       "18451  2021-03-19             2  A130730  0.240000            MM   \n",
       "18452  2021-03-19             2  A273130  0.094563   ACT_BOND_D4   \n",
       "18453  2021-03-19             2  A196230  0.065437       BOK_D.4   \n",
       "18454  2021-03-19             2  A069500  0.061392          K200   \n",
       "18455  2021-03-19             2  A251350  0.038608       MSCI_WO   \n",
       "18456  2021-03-19             2  A237370  0.020000   BAL_KO3KTB7   \n",
       "\n",
       "                   itemname     price     volume  trading_amt_mln  \\\n",
       "18449           KODEX 국고채3년   57900.0     1893.0       825.848869   \n",
       "18450           KOSEF 통안채1년  101185.0   137782.0     47097.865417   \n",
       "18451            KOSEF 단기자금  100975.0   490574.0     64342.722020   \n",
       "18452  KODEX 종합채권(AA-이상)액티브  108565.0     3011.0      2012.456380   \n",
       "18453          KBSTAR 단기통안채  104340.0   180070.0     56905.971755   \n",
       "18454             KODEX 200   41855.0  9277711.0    421471.700934   \n",
       "18455   KODEX 선진국MSCI World   17750.0    23246.0      3022.359487   \n",
       "18456        KODEX 배당성장채권혼합   11750.0     9292.0       105.542692   \n",
       "\n",
       "        asset_class  \n",
       "18449  Fixed Income  \n",
       "18450  Fixed Income  \n",
       "18451  Fixed Income  \n",
       "18452  Fixed Income  \n",
       "18453  Fixed Income  \n",
       "18454        Equity  \n",
       "18455        Equity  \n",
       "18456   Alternative  "
      ]
     },
     "execution_count": 11,
     "metadata": {},
     "output_type": "execute_result"
    }
   ],
   "source": [
    "next_detail = rebalance(rebal_date=dt, price_d=price_d, detail=copy.deepcopy(next_detail), new_port=new_port)"
   ]
  },
  {
   "cell_type": "code",
   "execution_count": null,
   "id": "located-glass",
   "metadata": {},
   "outputs": [],
   "source": []
  },
  {
   "cell_type": "code",
   "execution_count": null,
   "id": "excessive-gross",
   "metadata": {},
   "outputs": [],
   "source": [
    "new_units = {'A122260': 2, 'A114260': 4, 'A130730': 2, 'A329650': 13, 'A266370': 4}\n",
    "prices = {'A122260': [101185.0, 'KRW'], 'A114260': [57900.0, 'KRW'], 'A130730': [100975.0, 'KRW'], 'A329650': [10980.0, 'KRW'], 'A266370': [21325.0, 'KRW']}\n",
    "df = advised_pf.loc[(advised_pf.date==c_date) & (advised_pf.risk_profile==risk_profile), :]"
   ]
  },
  {
   "cell_type": "code",
   "execution_count": 3,
   "id": "166f9744",
   "metadata": {
    "ExecuteTime": {
     "end_time": "2021-04-24T05:03:45.752530Z",
     "start_time": "2021-04-24T05:03:45.723208Z"
    }
   },
   "outputs": [],
   "source": [
    "userid = 'A00'\n",
    "username = '투자자0'\n",
    "current_date = '2020-02-03'\n",
    "risk_profile = 2\n",
    "\n",
    "# c_date: 추천 포트폴리오DB에서 사용자가 입력한 날짜와 가장 가까운 날짜.\n",
    "c_date = advised_pf.loc[advised_pf.date <= current_date, ['date']].max().date\n",
    "new_units = {'A122260': 2, 'A114260': 4, 'A130730': 2, 'A329650': 13, 'A266370': 4}\n",
    "prices = {'A122260': [101185.0, 'KRW'], 'A114260': [57900.0, 'KRW'], 'A130730': [100975.0, 'KRW'], 'A329650': [10980.0, 'KRW'], 'A266370': [21325.0, 'KRW']}\n",
    "df = advised_pf.loc[(advised_pf.date==c_date) & (advised_pf.risk_profile==risk_profile), :]\n",
    "remaining_cash = 135786"
   ]
  },
  {
   "cell_type": "code",
   "execution_count": 4,
   "id": "a243ad49",
   "metadata": {
    "ExecuteTime": {
     "end_time": "2021-04-24T05:03:46.201952Z",
     "start_time": "2021-04-24T05:03:46.127728Z"
    },
    "scrolled": true
   },
   "outputs": [],
   "source": [
    "port = {}\n",
    "curr_port = {}\n",
    "inv_amt = 1e6\n",
    "\n",
    "\n",
    "start_dt = current_date\n",
    "end_dt = '2021-2-26'\n",
    "dates = pd.date_range(start_dt, end_dt)\n",
    "dates = dates[dates.isin(price_db.date)]  # 거래일만\n",
    "\n",
    "# 초기 포트폴리오 구성\n",
    "dt = dates[0].strftime('%Y-%m-%d')\n",
    "for profile in [2, 3, 4]:\n",
    "#     curr_port[profile] = get_advised_port(dt, profile)\n",
    "    price_d = price_db.loc[price_db.date==dt, ['date', 'price', 'itemcode']].reset_index(drop=True)\n",
    "    port[profile] = advised_pf.loc[\n",
    "        (advised_pf.date == dt) &\n",
    "        (advised_pf.risk_profile == profile),\n",
    "        ['date', 'itemcode', 'weights', 'itemname', 'price', 'asset_class']]\n",
    "    port[profile]['quantity'] = np.floor(inv_amt*port[profile].weights/port[profile].price)\n",
    "    port[profile]['value'] = port[profile]['price']*port[profile]['quantity']\n",
    "    cash = {\n",
    "        'date':dt,\n",
    "        'itemcode':'C000001',\n",
    "        'itemname':'Cash',\n",
    "        'price':1,\n",
    "        'asset_class':'Cash',\n",
    "        'quantity':inv_amt-port[profile]['value'].sum()\n",
    "    }\n",
    "    port[profile] = pd.concat((port[profile], pd.DataFrame().from_dict(cash, orient='index').T))\n",
    "    \n",
    "    # 현금 포함해서 종목별 평가액과 비중 재계산\n",
    "    port[profile]['value'] = port[profile]['price']*port[profile]['quantity']\n",
    "    port[profile]['weights'] = port[profile]['value']/port[profile]['value'].sum()\n",
    "    port[profile].reset_index(drop=True, inplace=True)\n",
    "    #port[profile]['date'] = dt\n",
    "    port[profile]['date'] = datetime.strptime(dt, '%Y-%m-%d')\n",
    "    port[profile] = pd.merge(port[profile],\n",
    "             price_d.loc[:, ['date', 'itemcode']],\n",
    "             left_on=['date', 'itemcode'],\n",
    "             right_on=['date', 'itemcode'], how='left')\n",
    "    port[profile]['original'] = 'Y'\n",
    "    curr_port[profile] = port[profile].loc[port[profile].date==port[profile].date.max(), :]\n"
   ]
  },
  {
   "cell_type": "code",
   "execution_count": 5,
   "id": "0d17650b",
   "metadata": {
    "ExecuteTime": {
     "end_time": "2021-04-24T05:03:49.073933Z",
     "start_time": "2021-04-24T05:03:49.071337Z"
    }
   },
   "outputs": [],
   "source": [
    "detail = curr_port[4]"
   ]
  },
  {
   "cell_type": "markdown",
   "id": "88f3b2ad",
   "metadata": {},
   "source": [
    "## 리밸런싱"
   ]
  },
  {
   "cell_type": "code",
   "execution_count": 30,
   "id": "c7961680",
   "metadata": {
    "ExecuteTime": {
     "end_time": "2021-04-23T01:36:00.175605Z",
     "start_time": "2021-04-23T01:35:57.151707Z"
    }
   },
   "outputs": [],
   "source": [
    "from pypfopt.discrete_allocation import DiscreteAllocation\n",
    "import copy\n",
    "from datetime import datetime"
   ]
  },
  {
   "cell_type": "code",
   "execution_count": 31,
   "id": "f5d166bb",
   "metadata": {
    "ExecuteTime": {
     "end_time": "2021-04-23T01:36:00.182583Z",
     "start_time": "2021-04-23T01:36:00.177596Z"
    }
   },
   "outputs": [],
   "source": [
    "# end_date = advised_pf.loc[(advised_pf.risk_profile==risk_profile) & (advised_pf.date > current_date), 'date'].max()\n",
    "dates = advised_pf.loc[(advised_pf.risk_profile==risk_profile) & (advised_pf.date > current_date), 'date'].unique()"
   ]
  },
  {
   "cell_type": "code",
   "execution_count": 32,
   "id": "7bdc4677",
   "metadata": {
    "ExecuteTime": {
     "end_time": "2021-04-23T01:36:00.195551Z",
     "start_time": "2021-04-23T01:36:00.184577Z"
    }
   },
   "outputs": [],
   "source": [
    "# dt = datetime.strptime('2021-02-01', '%Y-%m-%d')\n",
    "# dt = str(dt.month)+'/'+str(dt.day)+'/'+str(dt.year)+' 4:00:00 PM'"
   ]
  },
  {
   "cell_type": "code",
   "execution_count": 33,
   "id": "ac3e08cf",
   "metadata": {
    "ExecuteTime": {
     "end_time": "2021-04-23T01:36:00.207516Z",
     "start_time": "2021-04-23T01:36:00.197543Z"
    }
   },
   "outputs": [],
   "source": [
    "dates = advised_pf.loc[(advised_pf.risk_profile == risk_profile) & (\n",
    "    advised_pf.date >= current_date), 'date'].unique()\n",
    "rebal_dates = dates[::20]\n",
    "# dt = rebal_dates[1]"
   ]
  },
  {
   "cell_type": "code",
   "execution_count": 34,
   "id": "7c79665f",
   "metadata": {
    "ExecuteTime": {
     "end_time": "2021-04-23T01:36:00.226465Z",
     "start_time": "2021-04-23T01:36:00.208513Z"
    },
    "scrolled": true
   },
   "outputs": [
    {
     "data": {
      "text/html": [
       "<div>\n",
       "<style scoped>\n",
       "    .dataframe tbody tr th:only-of-type {\n",
       "        vertical-align: middle;\n",
       "    }\n",
       "\n",
       "    .dataframe tbody tr th {\n",
       "        vertical-align: top;\n",
       "    }\n",
       "\n",
       "    .dataframe thead th {\n",
       "        text-align: right;\n",
       "    }\n",
       "</style>\n",
       "<table border=\"1\" class=\"dataframe\">\n",
       "  <thead>\n",
       "    <tr style=\"text-align: right;\">\n",
       "      <th></th>\n",
       "      <th>date</th>\n",
       "      <th>risk_profile</th>\n",
       "      <th>itemcode</th>\n",
       "      <th>weights</th>\n",
       "      <th>tracking_code</th>\n",
       "      <th>itemname</th>\n",
       "      <th>price</th>\n",
       "      <th>volume</th>\n",
       "      <th>trading_amt_mln</th>\n",
       "      <th>asset_class</th>\n",
       "    </tr>\n",
       "  </thead>\n",
       "  <tbody>\n",
       "    <tr>\n",
       "      <th>18465</th>\n",
       "      <td>2021-03-19</td>\n",
       "      <td>4</td>\n",
       "      <td>A237370</td>\n",
       "      <td>0.240</td>\n",
       "      <td>BAL_KO3KTB7</td>\n",
       "      <td>KODEX 배당성장채권혼합</td>\n",
       "      <td>11750.0</td>\n",
       "      <td>9292.0</td>\n",
       "      <td>105.542692</td>\n",
       "      <td>Alternative</td>\n",
       "    </tr>\n",
       "    <tr>\n",
       "      <th>18466</th>\n",
       "      <td>2021-03-19</td>\n",
       "      <td>4</td>\n",
       "      <td>A157490</td>\n",
       "      <td>0.240</td>\n",
       "      <td>SW</td>\n",
       "      <td>TIGER 소프트웨어</td>\n",
       "      <td>17000.0</td>\n",
       "      <td>188055.0</td>\n",
       "      <td>2484.755538</td>\n",
       "      <td>Equity</td>\n",
       "    </tr>\n",
       "    <tr>\n",
       "      <th>18467</th>\n",
       "      <td>2021-03-19</td>\n",
       "      <td>4</td>\n",
       "      <td>A266370</td>\n",
       "      <td>0.136</td>\n",
       "      <td>IT</td>\n",
       "      <td>KODEX IT</td>\n",
       "      <td>21325.0</td>\n",
       "      <td>14939.0</td>\n",
       "      <td>1150.537477</td>\n",
       "      <td>Equity</td>\n",
       "    </tr>\n",
       "    <tr>\n",
       "      <th>18468</th>\n",
       "      <td>2021-03-19</td>\n",
       "      <td>4</td>\n",
       "      <td>A069500</td>\n",
       "      <td>0.084</td>\n",
       "      <td>K200</td>\n",
       "      <td>KODEX 200</td>\n",
       "      <td>41855.0</td>\n",
       "      <td>9277711.0</td>\n",
       "      <td>421471.700934</td>\n",
       "      <td>Equity</td>\n",
       "    </tr>\n",
       "    <tr>\n",
       "      <th>18469</th>\n",
       "      <td>2021-03-19</td>\n",
       "      <td>4</td>\n",
       "      <td>A114260</td>\n",
       "      <td>0.060</td>\n",
       "      <td>KTB_D3</td>\n",
       "      <td>KODEX 국고채3년</td>\n",
       "      <td>57900.0</td>\n",
       "      <td>1893.0</td>\n",
       "      <td>825.848869</td>\n",
       "      <td>Fixed Income</td>\n",
       "    </tr>\n",
       "  </tbody>\n",
       "</table>\n",
       "</div>"
      ],
      "text/plain": [
       "             date  risk_profile itemcode  weights tracking_code  \\\n",
       "18465  2021-03-19             4  A237370    0.240   BAL_KO3KTB7   \n",
       "18466  2021-03-19             4  A157490    0.240            SW   \n",
       "18467  2021-03-19             4  A266370    0.136            IT   \n",
       "18468  2021-03-19             4  A069500    0.084          K200   \n",
       "18469  2021-03-19             4  A114260    0.060        KTB_D3   \n",
       "\n",
       "             itemname    price     volume  trading_amt_mln   asset_class  \n",
       "18465  KODEX 배당성장채권혼합  11750.0     9292.0       105.542692   Alternative  \n",
       "18466     TIGER 소프트웨어  17000.0   188055.0      2484.755538        Equity  \n",
       "18467        KODEX IT  21325.0    14939.0      1150.537477        Equity  \n",
       "18468       KODEX 200  41855.0  9277711.0    421471.700934        Equity  \n",
       "18469     KODEX 국고채3년  57900.0     1893.0       825.848869  Fixed Income  "
      ]
     },
     "execution_count": 34,
     "metadata": {},
     "output_type": "execute_result"
    }
   ],
   "source": [
    "advised_pf.tail()"
   ]
  },
  {
   "cell_type": "code",
   "execution_count": 35,
   "id": "402b8bad",
   "metadata": {
    "ExecuteTime": {
     "end_time": "2021-04-23T01:36:00.236440Z",
     "start_time": "2021-04-23T01:36:00.227462Z"
    }
   },
   "outputs": [],
   "source": [
    "def rebalance(rebal_date, price_d, detail, new_port):\n",
    "    '''\n",
    "    Rebalance a portfolio.\n",
    "    \n",
    "    Parameters:\n",
    "    rebal_date: str\n",
    "        rebalancing date\n",
    "      \n",
    "    detail: DataFrame\n",
    "      current balance\n",
    "      \n",
    "    price_d: DataFrame\n",
    "      price data on rebal_date\n",
    "      \n",
    "    new_port: DataFrame\n",
    "      A new portfolio. Your current portfolio in `detail` will be rebalanced toward `new_port`.\n",
    "    '''\n",
    "    trading_amt = detail.value.sum()\n",
    "    \n",
    "    wt = new_port[['itemcode', 'weights']].set_index('itemcode').to_dict()['weights']\n",
    "    pr = new_port[['itemcode', 'price']].set_index('itemcode').squeeze()\n",
    "    da = DiscreteAllocation(weights=wt, latest_prices=pr, total_portfolio_value=trading_amt)\n",
    "    \n",
    "    allocation, remaining_cash = da.greedy_portfolio()\n",
    "    print(\"Discrete allocation on {}:{}\".format(rebal_date,allocation))\n",
    "    print(\"Funds remaining: {:.2f} KRW\".format(remaining_cash))\n",
    "    \n",
    "    # 매매한 뒤의 레코드 생성\n",
    "    df_qty = pd.DataFrame.from_dict(allocation, orient='index', columns=['quantity'])\n",
    "    next_detail = new_port.merge(df_qty, left_on='itemcode', right_index=True, how='inner')\n",
    "    next_detail['cost_price'] = next_detail.price.copy()   \n",
    "    next_detail['cost_value'] = next_detail.cost_price*next_detail.quantity\n",
    "    next_detail['value'] = next_detail.cost_value.copy()\n",
    "    \n",
    "    # 매매하고 남은 돈은 현금으로\n",
    "    df_cash = {\n",
    "        'itemcode': 'C000001',\n",
    "        'quantity': remaining_cash,\n",
    "        'cost_price': 1,\n",
    "        'price':1,\n",
    "        'cost_value': remaining_cash,\n",
    "        'value': remaining_cash,\n",
    "        'itemname': '현금',\n",
    "        'asset_class': 'Cash'\n",
    "    }\n",
    "    df_cash = pd.DataFrame.from_dict(df_cash, orient='index').T\n",
    "    \n",
    "    next_detail = pd.concat((next_detail[['itemcode', 'quantity', 'cost_price', 'price', 'cost_value', 'value',\n",
    "       'itemname', 'asset_class']], df_cash), axis=0)\n",
    "    \n",
    "    next_detail['wt'] = next_detail.value/next_detail.value.sum()\n",
    "    next_date = datetime.strptime(rebal_date, '%Y-%m-%d')\n",
    "    #next_date = str(next_date.month)+'/'+str(next_date.day)+'/'+str(next_date.year)+' 03:30:00 PM'\n",
    "    next_detail['date'] = next_date\n",
    "    next_detail.reset_index(drop=True, inplace=True)\n",
    "    next_detail['group_by'] = ''\n",
    "    next_detail = pd.merge(next_detail,\n",
    "             price_d.loc[price_d.date==rebal_date, ['date', 'itemcode']],\n",
    "             left_on=['date', 'itemcode'],\n",
    "             right_on=['date', 'itemcode'], how='left')\n",
    "    next_detail['username'] = username\n",
    "    next_detail['userid'] = userid\n",
    "    next_detail['original'] = 'Rebal'\n",
    "    next_detail = next_detail.rename(columns={'weights':'wt'})\n",
    "    next_detail = next_detail[['itemcode', 'quantity', 'cost_price', 'price', 'cost_value', 'value',\n",
    "           'itemname', 'asset_class', 'date', 'userid', 'username', 'group_by',\n",
    "           'original', 'wt']]\n",
    "\n",
    "    return next_detail"
   ]
  },
  {
   "cell_type": "code",
   "execution_count": 36,
   "id": "cc903bf5",
   "metadata": {
    "ExecuteTime": {
     "end_time": "2021-04-23T01:36:00.252396Z",
     "start_time": "2021-04-23T01:36:00.238432Z"
    }
   },
   "outputs": [
    {
     "data": {
      "text/html": [
       "<div>\n",
       "<style scoped>\n",
       "    .dataframe tbody tr th:only-of-type {\n",
       "        vertical-align: middle;\n",
       "    }\n",
       "\n",
       "    .dataframe tbody tr th {\n",
       "        vertical-align: top;\n",
       "    }\n",
       "\n",
       "    .dataframe thead th {\n",
       "        text-align: right;\n",
       "    }\n",
       "</style>\n",
       "<table border=\"1\" class=\"dataframe\">\n",
       "  <thead>\n",
       "    <tr style=\"text-align: right;\">\n",
       "      <th></th>\n",
       "      <th>date</th>\n",
       "      <th>itemcode</th>\n",
       "      <th>weights</th>\n",
       "      <th>itemname</th>\n",
       "      <th>price</th>\n",
       "      <th>asset_class</th>\n",
       "      <th>quantity</th>\n",
       "      <th>value</th>\n",
       "      <th>original</th>\n",
       "    </tr>\n",
       "  </thead>\n",
       "  <tbody>\n",
       "    <tr>\n",
       "      <th>0</th>\n",
       "      <td>2020-02-03</td>\n",
       "      <td>A245340</td>\n",
       "      <td>0.2387</td>\n",
       "      <td>TIGER 미국다우존스30</td>\n",
       "      <td>17050</td>\n",
       "      <td>Equity</td>\n",
       "      <td>14</td>\n",
       "      <td>238700</td>\n",
       "      <td>Y</td>\n",
       "    </tr>\n",
       "    <tr>\n",
       "      <th>1</th>\n",
       "      <td>2020-02-03</td>\n",
       "      <td>A251350</td>\n",
       "      <td>0.232425</td>\n",
       "      <td>KODEX 선진국MSCI World</td>\n",
       "      <td>15495</td>\n",
       "      <td>Equity</td>\n",
       "      <td>15</td>\n",
       "      <td>232425</td>\n",
       "      <td>Y</td>\n",
       "    </tr>\n",
       "    <tr>\n",
       "      <th>2</th>\n",
       "      <td>2020-02-03</td>\n",
       "      <td>A148070</td>\n",
       "      <td>0.122404</td>\n",
       "      <td>KOSEF 국고채10년</td>\n",
       "      <td>122404</td>\n",
       "      <td>Fixed Income</td>\n",
       "      <td>1</td>\n",
       "      <td>122404</td>\n",
       "      <td>Y</td>\n",
       "    </tr>\n",
       "    <tr>\n",
       "      <th>3</th>\n",
       "      <td>2020-02-03</td>\n",
       "      <td>A278540</td>\n",
       "      <td>0.1647</td>\n",
       "      <td>KODEX MSCI Korea TR</td>\n",
       "      <td>9150</td>\n",
       "      <td>Equity</td>\n",
       "      <td>18</td>\n",
       "      <td>164700</td>\n",
       "      <td>Y</td>\n",
       "    </tr>\n",
       "    <tr>\n",
       "      <th>4</th>\n",
       "      <td>2020-02-03</td>\n",
       "      <td>A102780</td>\n",
       "      <td>0.04194</td>\n",
       "      <td>KODEX 삼성그룹</td>\n",
       "      <td>6990</td>\n",
       "      <td>Equity</td>\n",
       "      <td>6</td>\n",
       "      <td>41940</td>\n",
       "      <td>Y</td>\n",
       "    </tr>\n",
       "    <tr>\n",
       "      <th>5</th>\n",
       "      <td>2020-02-03</td>\n",
       "      <td>A273130</td>\n",
       "      <td>0</td>\n",
       "      <td>KODEX 종합채권(AA-이상)액티브</td>\n",
       "      <td>108930</td>\n",
       "      <td>Fixed Income</td>\n",
       "      <td>0</td>\n",
       "      <td>0</td>\n",
       "      <td>Y</td>\n",
       "    </tr>\n",
       "    <tr>\n",
       "      <th>6</th>\n",
       "      <td>2020-02-03</td>\n",
       "      <td>A237370</td>\n",
       "      <td>0.01039</td>\n",
       "      <td>KODEX 배당성장채권혼합</td>\n",
       "      <td>10390</td>\n",
       "      <td>Alternative</td>\n",
       "      <td>1</td>\n",
       "      <td>10390</td>\n",
       "      <td>Y</td>\n",
       "    </tr>\n",
       "    <tr>\n",
       "      <th>7</th>\n",
       "      <td>2020-02-03</td>\n",
       "      <td>C000001</td>\n",
       "      <td>0.189441</td>\n",
       "      <td>Cash</td>\n",
       "      <td>1</td>\n",
       "      <td>Cash</td>\n",
       "      <td>189441</td>\n",
       "      <td>189441</td>\n",
       "      <td>Y</td>\n",
       "    </tr>\n",
       "  </tbody>\n",
       "</table>\n",
       "</div>"
      ],
      "text/plain": [
       "        date itemcode   weights              itemname   price   asset_class  \\\n",
       "0 2020-02-03  A245340    0.2387        TIGER 미국다우존스30   17050        Equity   \n",
       "1 2020-02-03  A251350  0.232425   KODEX 선진국MSCI World   15495        Equity   \n",
       "2 2020-02-03  A148070  0.122404          KOSEF 국고채10년  122404  Fixed Income   \n",
       "3 2020-02-03  A278540    0.1647   KODEX MSCI Korea TR    9150        Equity   \n",
       "4 2020-02-03  A102780   0.04194            KODEX 삼성그룹    6990        Equity   \n",
       "5 2020-02-03  A273130         0  KODEX 종합채권(AA-이상)액티브  108930  Fixed Income   \n",
       "6 2020-02-03  A237370   0.01039        KODEX 배당성장채권혼합   10390   Alternative   \n",
       "7 2020-02-03  C000001  0.189441                  Cash       1          Cash   \n",
       "\n",
       "  quantity   value original  \n",
       "0       14  238700        Y  \n",
       "1       15  232425        Y  \n",
       "2        1  122404        Y  \n",
       "3       18  164700        Y  \n",
       "4        6   41940        Y  \n",
       "5        0       0        Y  \n",
       "6        1   10390        Y  \n",
       "7   189441  189441        Y  "
      ]
     },
     "execution_count": 36,
     "metadata": {},
     "output_type": "execute_result"
    }
   ],
   "source": [
    "detail"
   ]
  },
  {
   "cell_type": "code",
   "execution_count": 118,
   "id": "617e8f50",
   "metadata": {
    "ExecuteTime": {
     "end_time": "2021-04-23T05:57:48.735862Z",
     "start_time": "2021-04-23T05:57:45.760882Z"
    }
   },
   "outputs": [
    {
     "name": "stdout",
     "output_type": "stream",
     "text": [
      "Discrete allocation on 2020-02-23:{'A273130': 2, 'A214980': 2, 'A196230': 2, 'A114260': 1, 'A122260': 1, 'A069500': 2, 'A148070': 1, 'A251350': 1, 'A237370': 2, 'A278540': 1}\n",
      "Funds remaining: 4510.00 KRW\n",
      "Discrete allocation on 2020-03-14:{'A273130': 2, 'A114260': 4, 'A196230': 2, 'A148070': 1, 'A069500': 2, 'A278540': 2, 'A237370': 1}\n",
      "Funds remaining: 6014.00 KRW\n",
      "Discrete allocation on 2020-04-03:{'A114260': 3, 'A273130': 2, 'A122260': 1, 'A148070': 1, 'A069500': 4, 'A130730': 1, 'A237370': 2, 'A251350': 2}\n",
      "Funds remaining: 4640.00 KRW\n",
      "Discrete allocation on 2020-04-23:{'A114260': 4, 'A122260': 2, 'A273130': 2, 'A148070': 1, 'A069500': 3, 'A237370': 2, 'A251350': 1}\n",
      "Funds remaining: 18757.00 KRW\n",
      "Discrete allocation on 2020-05-13:{'A114260': 3, 'A122260': 2, 'A273130': 2, 'A148070': 1, 'A069500': 3, 'A130730': 1, 'A237370': 2}\n",
      "Funds remaining: 1610.00 KRW\n",
      "Discrete allocation on 2020-06-02:{'A114260': 3, 'A122260': 2, 'A273130': 2, 'A148070': 1, 'A069500': 3, 'A130730': 1, 'A237370': 2, 'A251350': 1}\n",
      "Funds remaining: 19068.00 KRW\n",
      "Discrete allocation on 2020-06-22:{'A114260': 4, 'A122260': 2, 'A273130': 2, 'A148070': 1, 'A069500': 3, 'A237370': 2, 'A251350': 1}\n",
      "Funds remaining: 74111.00 KRW\n",
      "Discrete allocation on 2020-07-12:{'A114260': 4, 'A122260': 2, 'A273130': 2, 'A148070': 1, 'A069500': 2, 'A130730': 1, 'A237370': 1, 'A251350': 1}\n",
      "Funds remaining: 2330.00 KRW\n",
      "Discrete allocation on 2020-08-01:{'A114260': 4, 'A122260': 2, 'A273130': 2, 'A148070': 1, 'A069500': 3, 'A130730': 1, 'A237370': 1}\n",
      "Funds remaining: 5549.00 KRW\n",
      "Discrete allocation on 2020-08-21:{'A114260': 4, 'A122260': 2, 'A273130': 2, 'A148070': 1, 'A069500': 3, 'A130730': 1, 'A237370': 1, 'A251350': 1}\n",
      "Funds remaining: 2537.00 KRW\n",
      "Discrete allocation on 2020-09-10:{'A114260': 4, 'A122260': 2, 'A273130': 2, 'A148070': 1, 'A069500': 3, 'A130730': 1, 'A237370': 1, 'A251350': 1}\n",
      "Funds remaining: 8425.00 KRW\n",
      "Discrete allocation on 2020-09-30:{'A114260': 4, 'A122260': 2, 'A273130': 2, 'A069500': 3, 'A148070': 1, 'A130730': 1, 'A237370': 1, 'A251350': 1}\n",
      "Funds remaining: 3061.00 KRW\n",
      "Discrete allocation on 2020-10-20:{'A114260': 4, 'A122260': 2, 'A273130': 2, 'A069500': 3, 'A148070': 1, 'A130730': 1, 'A237370': 1, 'A251350': 1}\n",
      "Funds remaining: 10508.00 KRW\n",
      "Discrete allocation on 2020-11-09:{'A114260': 4, 'A122260': 2, 'A273130': 2, 'A130730': 1, 'A069500': 3, 'A148070': 1, 'A251350': 1, 'A237370': 1}\n",
      "Funds remaining: 3103.00 KRW\n",
      "Discrete allocation on 2020-11-29:{'A114260': 4, 'A122260': 2, 'A273130': 2, 'A130730': 1, 'A069500': 3, 'A148070': 1, 'A251350': 2, 'A237370': 2}\n",
      "Funds remaining: 13830.00 KRW\n",
      "Discrete allocation on 2020-12-19:{'A114260': 5, 'A122260': 2, 'A273130': 2, 'A130730': 1, 'A069500': 2, 'A148070': 1, 'A251350': 2, 'A237370': 2}\n",
      "Funds remaining: 7006.00 KRW\n",
      "Discrete allocation on 2021-01-08:{'A114260': 4, 'A273130': 2, 'A122260': 3, 'A130730': 2, 'A069500': 2, 'A251350': 2, 'A237370': 2}\n",
      "Funds remaining: 10183.00 KRW\n",
      "Discrete allocation on 2021-01-28:{'A114260': 5, 'A273130': 2, 'A122260': 3, 'A130730': 2, 'A069500': 2, 'A251350': 1, 'A237370': 1}\n",
      "Funds remaining: 3216.00 KRW\n",
      "Discrete allocation on 2021-02-17:{'A114260': 5, 'A122260': 3, 'A273130': 2, 'A130730': 2, 'A069500': 2, 'A251350': 1, 'A237370': 2}\n",
      "Funds remaining: 3291.00 KRW\n",
      "Discrete allocation on 2021-03-09:{'A114260': 4, 'A122260': 2, 'A130730': 2, 'A273130': 2, 'A069500': 2, 'A251350': 3, 'A237370': 2, 'A196230': 1}\n",
      "Funds remaining: 14431.00 KRW\n"
     ]
    }
   ],
   "source": [
    "next_detail = copy.deepcopy(detail)\n",
    "all_the_nexts = pd.DataFrame(columns=next_detail.columns)\n",
    "for dt in dates:\n",
    "    price_d = price_db.loc[price_db.date==dt, ['date', 'price', 'itemcode']].reset_index(drop=True)\n",
    "    if dt in rebal_dates[1:]:\n",
    "        # 리밸런싱한다.\n",
    "        new_port = advised_pf.loc[(advised_pf.risk_profile==risk_profile) & (advised_pf.date==dt), ['date', 'itemcode', 'weights', 'itemname', 'price', 'asset_class']]\n",
    "        next_detail = rebalance(rebal_date=dt, price_d=price_d, detail=copy.deepcopy(next_detail), new_port=new_port)\n",
    "    else:\n",
    "        # 리밸런싱 일자가 아니면, 새로운 종가만 업데이트하고 종목별 시가평가액(value=price*quantity)만 업데이트한다.\n",
    "        next_date = datetime.strptime(dt, '%Y-%m-%d')\n",
    "        #next_date = str(next_date.month)+'/'+str(next_date.day)+'/'+str(next_date.year)+' 09:00:00 AM'\n",
    "        next_detail = copy.deepcopy(detail)\n",
    "        next_detail['date'] = next_date\n",
    "        next_detail = pd.merge(next_detail,\n",
    "                             price_d.loc[price_d.date == next_date,\n",
    "                                         ['date', 'itemcode', 'price']],\n",
    "                             left_on=['date', 'itemcode'],\n",
    "                             right_on=['date', 'itemcode'],\n",
    "                             suffixes=('_cur', '_next'),\n",
    "                             how='left')\n",
    "        next_date = datetime.strptime(str(next_date.month)+'/'+str(next_date.day)+'/'+str(next_date.year), '%m/%d/%Y')\n",
    "        next_detail['date'] = next_date\n",
    "        next_detail.drop(['price_cur'], axis=1, inplace=True)\n",
    "        next_detail.rename({'price_next':'price'}, axis=1, inplace=True)\n",
    "        next_detail.price = next_detail.price.fillna(1)\n",
    "\n",
    "        # 종목별 평가액과 비중 업데이트\n",
    "        next_detail['value'] = next_detail['price']*next_detail['quantity']\n",
    "        next_detail['wt'] = next_detail['value']/next_detail['value'].sum()\n",
    "        next_detail['original'] = 'N'        \n",
    "        #next_detail.loc[next_detail.itemcode=='C000001', 'price'] = 1\n",
    "#        next_detail = next_detail[['itemcode', 'quantity', 'cost_price', 'price', 'cost_value', 'value',\n",
    "#               'itemname', 'asset_class', 'date', 'userid', 'username', 'group_by',\n",
    "#               'original', 'wt']]\n",
    "\n",
    "    all_the_nexts = pd.concat((all_the_nexts, next_detail))\n",
    "\n",
    "# 불필요한 컬럼 및 행 삭제\n",
    "all_the_nexts = all_the_nexts.drop(['weights'], axis=1)\n",
    "all_the_nexts = all_the_nexts.loc[all_the_nexts.quantity > 0]"
   ]
  },
  {
   "cell_type": "code",
   "execution_count": 133,
   "id": "2d4ac232",
   "metadata": {
    "ExecuteTime": {
     "end_time": "2021-04-23T06:07:51.395051Z",
     "start_time": "2021-04-23T06:07:51.382086Z"
    }
   },
   "outputs": [],
   "source": [
    "all_the_nexts.date = all_the_nexts.date.map(lambda x:str(x.month)+'/'+str(x.day)+'/'+str(x.year)+ ' 4:00:00 PM')"
   ]
  },
  {
   "cell_type": "code",
   "execution_count": 135,
   "id": "d579a05e",
   "metadata": {
    "ExecuteTime": {
     "end_time": "2021-04-23T06:07:55.876017Z",
     "start_time": "2021-04-23T06:07:55.862055Z"
    }
   },
   "outputs": [
    {
     "data": {
      "text/html": [
       "<div>\n",
       "<style scoped>\n",
       "    .dataframe tbody tr th:only-of-type {\n",
       "        vertical-align: middle;\n",
       "    }\n",
       "\n",
       "    .dataframe tbody tr th {\n",
       "        vertical-align: top;\n",
       "    }\n",
       "\n",
       "    .dataframe thead th {\n",
       "        text-align: right;\n",
       "    }\n",
       "</style>\n",
       "<table border=\"1\" class=\"dataframe\">\n",
       "  <thead>\n",
       "    <tr style=\"text-align: right;\">\n",
       "      <th></th>\n",
       "      <th>date</th>\n",
       "      <th>itemcode</th>\n",
       "      <th>itemname</th>\n",
       "      <th>price</th>\n",
       "      <th>asset_class</th>\n",
       "      <th>quantity</th>\n",
       "      <th>value</th>\n",
       "      <th>original</th>\n",
       "      <th>wt</th>\n",
       "      <th>cost_price</th>\n",
       "      <th>cost_value</th>\n",
       "      <th>userid</th>\n",
       "      <th>username</th>\n",
       "      <th>group_by</th>\n",
       "    </tr>\n",
       "  </thead>\n",
       "  <tbody>\n",
       "    <tr>\n",
       "      <th>0</th>\n",
       "      <td>2/3/2020 4:00:00 PM</td>\n",
       "      <td>A245340</td>\n",
       "      <td>TIGER 미국다우존스30</td>\n",
       "      <td>17050</td>\n",
       "      <td>Equity</td>\n",
       "      <td>14</td>\n",
       "      <td>238700</td>\n",
       "      <td>N</td>\n",
       "      <td>0.2387</td>\n",
       "      <td>NaN</td>\n",
       "      <td>NaN</td>\n",
       "      <td>NaN</td>\n",
       "      <td>NaN</td>\n",
       "      <td>NaN</td>\n",
       "    </tr>\n",
       "    <tr>\n",
       "      <th>1</th>\n",
       "      <td>2/3/2020 4:00:00 PM</td>\n",
       "      <td>A251350</td>\n",
       "      <td>KODEX 선진국MSCI World</td>\n",
       "      <td>15495</td>\n",
       "      <td>Equity</td>\n",
       "      <td>15</td>\n",
       "      <td>232425</td>\n",
       "      <td>N</td>\n",
       "      <td>0.232425</td>\n",
       "      <td>NaN</td>\n",
       "      <td>NaN</td>\n",
       "      <td>NaN</td>\n",
       "      <td>NaN</td>\n",
       "      <td>NaN</td>\n",
       "    </tr>\n",
       "    <tr>\n",
       "      <th>2</th>\n",
       "      <td>2/3/2020 4:00:00 PM</td>\n",
       "      <td>A148070</td>\n",
       "      <td>KOSEF 국고채10년</td>\n",
       "      <td>122404</td>\n",
       "      <td>Fixed Income</td>\n",
       "      <td>1</td>\n",
       "      <td>122404</td>\n",
       "      <td>N</td>\n",
       "      <td>0.122404</td>\n",
       "      <td>NaN</td>\n",
       "      <td>NaN</td>\n",
       "      <td>NaN</td>\n",
       "      <td>NaN</td>\n",
       "      <td>NaN</td>\n",
       "    </tr>\n",
       "    <tr>\n",
       "      <th>3</th>\n",
       "      <td>2/3/2020 4:00:00 PM</td>\n",
       "      <td>A278540</td>\n",
       "      <td>KODEX MSCI Korea TR</td>\n",
       "      <td>9150</td>\n",
       "      <td>Equity</td>\n",
       "      <td>18</td>\n",
       "      <td>164700</td>\n",
       "      <td>N</td>\n",
       "      <td>0.1647</td>\n",
       "      <td>NaN</td>\n",
       "      <td>NaN</td>\n",
       "      <td>NaN</td>\n",
       "      <td>NaN</td>\n",
       "      <td>NaN</td>\n",
       "    </tr>\n",
       "    <tr>\n",
       "      <th>4</th>\n",
       "      <td>2/3/2020 4:00:00 PM</td>\n",
       "      <td>A102780</td>\n",
       "      <td>KODEX 삼성그룹</td>\n",
       "      <td>6990</td>\n",
       "      <td>Equity</td>\n",
       "      <td>6</td>\n",
       "      <td>41940</td>\n",
       "      <td>N</td>\n",
       "      <td>0.04194</td>\n",
       "      <td>NaN</td>\n",
       "      <td>NaN</td>\n",
       "      <td>NaN</td>\n",
       "      <td>NaN</td>\n",
       "      <td>NaN</td>\n",
       "    </tr>\n",
       "    <tr>\n",
       "      <th>...</th>\n",
       "      <td>...</td>\n",
       "      <td>...</td>\n",
       "      <td>...</td>\n",
       "      <td>...</td>\n",
       "      <td>...</td>\n",
       "      <td>...</td>\n",
       "      <td>...</td>\n",
       "      <td>...</td>\n",
       "      <td>...</td>\n",
       "      <td>...</td>\n",
       "      <td>...</td>\n",
       "      <td>...</td>\n",
       "      <td>...</td>\n",
       "      <td>...</td>\n",
       "    </tr>\n",
       "    <tr>\n",
       "      <th>2</th>\n",
       "      <td>3/19/2021 4:00:00 PM</td>\n",
       "      <td>A148070</td>\n",
       "      <td>KOSEF 국고채10년</td>\n",
       "      <td>119780</td>\n",
       "      <td>Fixed Income</td>\n",
       "      <td>1</td>\n",
       "      <td>119780</td>\n",
       "      <td>N</td>\n",
       "      <td>0.103969</td>\n",
       "      <td>NaN</td>\n",
       "      <td>NaN</td>\n",
       "      <td>NaN</td>\n",
       "      <td>NaN</td>\n",
       "      <td>NaN</td>\n",
       "    </tr>\n",
       "    <tr>\n",
       "      <th>3</th>\n",
       "      <td>3/19/2021 4:00:00 PM</td>\n",
       "      <td>A278540</td>\n",
       "      <td>KODEX MSCI Korea TR</td>\n",
       "      <td>13460</td>\n",
       "      <td>Equity</td>\n",
       "      <td>18</td>\n",
       "      <td>242280</td>\n",
       "      <td>N</td>\n",
       "      <td>0.2103</td>\n",
       "      <td>NaN</td>\n",
       "      <td>NaN</td>\n",
       "      <td>NaN</td>\n",
       "      <td>NaN</td>\n",
       "      <td>NaN</td>\n",
       "    </tr>\n",
       "    <tr>\n",
       "      <th>4</th>\n",
       "      <td>3/19/2021 4:00:00 PM</td>\n",
       "      <td>A102780</td>\n",
       "      <td>KODEX 삼성그룹</td>\n",
       "      <td>9860</td>\n",
       "      <td>Equity</td>\n",
       "      <td>6</td>\n",
       "      <td>59160</td>\n",
       "      <td>N</td>\n",
       "      <td>0.051351</td>\n",
       "      <td>NaN</td>\n",
       "      <td>NaN</td>\n",
       "      <td>NaN</td>\n",
       "      <td>NaN</td>\n",
       "      <td>NaN</td>\n",
       "    </tr>\n",
       "    <tr>\n",
       "      <th>6</th>\n",
       "      <td>3/19/2021 4:00:00 PM</td>\n",
       "      <td>A237370</td>\n",
       "      <td>KODEX 배당성장채권혼합</td>\n",
       "      <td>11750</td>\n",
       "      <td>Alternative</td>\n",
       "      <td>1</td>\n",
       "      <td>11750</td>\n",
       "      <td>N</td>\n",
       "      <td>0.010199</td>\n",
       "      <td>NaN</td>\n",
       "      <td>NaN</td>\n",
       "      <td>NaN</td>\n",
       "      <td>NaN</td>\n",
       "      <td>NaN</td>\n",
       "    </tr>\n",
       "    <tr>\n",
       "      <th>7</th>\n",
       "      <td>3/19/2021 4:00:00 PM</td>\n",
       "      <td>C000001</td>\n",
       "      <td>Cash</td>\n",
       "      <td>1</td>\n",
       "      <td>Cash</td>\n",
       "      <td>189441</td>\n",
       "      <td>189441</td>\n",
       "      <td>N</td>\n",
       "      <td>0.164435</td>\n",
       "      <td>NaN</td>\n",
       "      <td>NaN</td>\n",
       "      <td>NaN</td>\n",
       "      <td>NaN</td>\n",
       "      <td>NaN</td>\n",
       "    </tr>\n",
       "  </tbody>\n",
       "</table>\n",
       "<p>2911 rows × 14 columns</p>\n",
       "</div>"
      ],
      "text/plain": [
       "                    date itemcode             itemname   price   asset_class  \\\n",
       "0    2/3/2020 4:00:00 PM  A245340       TIGER 미국다우존스30   17050        Equity   \n",
       "1    2/3/2020 4:00:00 PM  A251350  KODEX 선진국MSCI World   15495        Equity   \n",
       "2    2/3/2020 4:00:00 PM  A148070         KOSEF 국고채10년  122404  Fixed Income   \n",
       "3    2/3/2020 4:00:00 PM  A278540  KODEX MSCI Korea TR    9150        Equity   \n",
       "4    2/3/2020 4:00:00 PM  A102780           KODEX 삼성그룹    6990        Equity   \n",
       "..                   ...      ...                  ...     ...           ...   \n",
       "2   3/19/2021 4:00:00 PM  A148070         KOSEF 국고채10년  119780  Fixed Income   \n",
       "3   3/19/2021 4:00:00 PM  A278540  KODEX MSCI Korea TR   13460        Equity   \n",
       "4   3/19/2021 4:00:00 PM  A102780           KODEX 삼성그룹    9860        Equity   \n",
       "6   3/19/2021 4:00:00 PM  A237370       KODEX 배당성장채권혼합   11750   Alternative   \n",
       "7   3/19/2021 4:00:00 PM  C000001                 Cash       1          Cash   \n",
       "\n",
       "   quantity   value original        wt cost_price cost_value userid username  \\\n",
       "0        14  238700        N    0.2387        NaN        NaN    NaN      NaN   \n",
       "1        15  232425        N  0.232425        NaN        NaN    NaN      NaN   \n",
       "2         1  122404        N  0.122404        NaN        NaN    NaN      NaN   \n",
       "3        18  164700        N    0.1647        NaN        NaN    NaN      NaN   \n",
       "4         6   41940        N   0.04194        NaN        NaN    NaN      NaN   \n",
       "..      ...     ...      ...       ...        ...        ...    ...      ...   \n",
       "2         1  119780        N  0.103969        NaN        NaN    NaN      NaN   \n",
       "3        18  242280        N    0.2103        NaN        NaN    NaN      NaN   \n",
       "4         6   59160        N  0.051351        NaN        NaN    NaN      NaN   \n",
       "6         1   11750        N  0.010199        NaN        NaN    NaN      NaN   \n",
       "7    189441  189441        N  0.164435        NaN        NaN    NaN      NaN   \n",
       "\n",
       "   group_by  \n",
       "0       NaN  \n",
       "1       NaN  \n",
       "2       NaN  \n",
       "3       NaN  \n",
       "4       NaN  \n",
       "..      ...  \n",
       "2       NaN  \n",
       "3       NaN  \n",
       "4       NaN  \n",
       "6       NaN  \n",
       "7       NaN  \n",
       "\n",
       "[2911 rows x 14 columns]"
      ]
     },
     "execution_count": 135,
     "metadata": {},
     "output_type": "execute_result"
    }
   ],
   "source": [
    "all_the_nexts"
   ]
  },
  {
   "cell_type": "code",
   "execution_count": 121,
   "id": "4d32700a",
   "metadata": {
    "ExecuteTime": {
     "end_time": "2021-04-23T05:57:56.019226Z",
     "start_time": "2021-04-23T05:57:56.008256Z"
    }
   },
   "outputs": [
    {
     "data": {
      "text/html": [
       "<div>\n",
       "<style scoped>\n",
       "    .dataframe tbody tr th:only-of-type {\n",
       "        vertical-align: middle;\n",
       "    }\n",
       "\n",
       "    .dataframe tbody tr th {\n",
       "        vertical-align: top;\n",
       "    }\n",
       "\n",
       "    .dataframe thead th {\n",
       "        text-align: right;\n",
       "    }\n",
       "</style>\n",
       "<table border=\"1\" class=\"dataframe\">\n",
       "  <thead>\n",
       "    <tr style=\"text-align: right;\">\n",
       "      <th></th>\n",
       "      <th>date</th>\n",
       "      <th>wt</th>\n",
       "      <th>value</th>\n",
       "      <th>asset_class</th>\n",
       "    </tr>\n",
       "  </thead>\n",
       "  <tbody>\n",
       "    <tr>\n",
       "      <th>0</th>\n",
       "      <td>2020-02-03</td>\n",
       "      <td>0.2387</td>\n",
       "      <td>238700</td>\n",
       "      <td>Equity</td>\n",
       "    </tr>\n",
       "    <tr>\n",
       "      <th>1</th>\n",
       "      <td>2020-02-03</td>\n",
       "      <td>0.232425</td>\n",
       "      <td>232425</td>\n",
       "      <td>Equity</td>\n",
       "    </tr>\n",
       "    <tr>\n",
       "      <th>2</th>\n",
       "      <td>2020-02-03</td>\n",
       "      <td>0.122404</td>\n",
       "      <td>122404</td>\n",
       "      <td>Fixed Income</td>\n",
       "    </tr>\n",
       "    <tr>\n",
       "      <th>3</th>\n",
       "      <td>2020-02-03</td>\n",
       "      <td>0.1647</td>\n",
       "      <td>164700</td>\n",
       "      <td>Equity</td>\n",
       "    </tr>\n",
       "    <tr>\n",
       "      <th>4</th>\n",
       "      <td>2020-02-03</td>\n",
       "      <td>0.04194</td>\n",
       "      <td>41940</td>\n",
       "      <td>Equity</td>\n",
       "    </tr>\n",
       "    <tr>\n",
       "      <th>...</th>\n",
       "      <td>...</td>\n",
       "      <td>...</td>\n",
       "      <td>...</td>\n",
       "      <td>...</td>\n",
       "    </tr>\n",
       "    <tr>\n",
       "      <th>1</th>\n",
       "      <td>2021-03-19</td>\n",
       "      <td>0.231106</td>\n",
       "      <td>266250</td>\n",
       "      <td>Equity</td>\n",
       "    </tr>\n",
       "    <tr>\n",
       "      <th>2</th>\n",
       "      <td>2021-03-19</td>\n",
       "      <td>0.103969</td>\n",
       "      <td>119780</td>\n",
       "      <td>Fixed Income</td>\n",
       "    </tr>\n",
       "    <tr>\n",
       "      <th>3</th>\n",
       "      <td>2021-03-19</td>\n",
       "      <td>0.2103</td>\n",
       "      <td>242280</td>\n",
       "      <td>Equity</td>\n",
       "    </tr>\n",
       "    <tr>\n",
       "      <th>4</th>\n",
       "      <td>2021-03-19</td>\n",
       "      <td>0.051351</td>\n",
       "      <td>59160</td>\n",
       "      <td>Equity</td>\n",
       "    </tr>\n",
       "    <tr>\n",
       "      <th>7</th>\n",
       "      <td>2021-03-19</td>\n",
       "      <td>0.164435</td>\n",
       "      <td>189441</td>\n",
       "      <td>Cash</td>\n",
       "    </tr>\n",
       "  </tbody>\n",
       "</table>\n",
       "<p>2911 rows × 4 columns</p>\n",
       "</div>"
      ],
      "text/plain": [
       "         date        wt   value   asset_class\n",
       "0  2020-02-03    0.2387  238700        Equity\n",
       "1  2020-02-03  0.232425  232425        Equity\n",
       "2  2020-02-03  0.122404  122404  Fixed Income\n",
       "3  2020-02-03    0.1647  164700        Equity\n",
       "4  2020-02-03   0.04194   41940        Equity\n",
       "..        ...       ...     ...           ...\n",
       "1  2021-03-19  0.231106  266250        Equity\n",
       "2  2021-03-19  0.103969  119780  Fixed Income\n",
       "3  2021-03-19    0.2103  242280        Equity\n",
       "4  2021-03-19  0.051351   59160        Equity\n",
       "7  2021-03-19  0.164435  189441          Cash\n",
       "\n",
       "[2911 rows x 4 columns]"
      ]
     },
     "execution_count": 121,
     "metadata": {},
     "output_type": "execute_result"
    }
   ],
   "source": [
    "all_the_nexts.loc[:,['date', 'wt', 'value', 'asset_class']].sort_values(\n",
    "                                          ['date'], ascending=True)"
   ]
  },
  {
   "cell_type": "code",
   "execution_count": 124,
   "id": "79f0ef78",
   "metadata": {
    "ExecuteTime": {
     "end_time": "2021-04-23T05:58:14.916309Z",
     "start_time": "2021-04-23T05:58:14.687898Z"
    },
    "scrolled": false
   },
   "outputs": [],
   "source": [
    "all_the_generals = all_the_nexts.loc[:,['date', 'wt', 'value', 'asset_class']].sort_values(\n",
    "                                          ['date'], ascending=True).groupby([\n",
    "                                              'date', 'asset_class'\n",
    "                                          ]).sum().reset_index(drop=False)"
   ]
  },
  {
   "cell_type": "code",
   "execution_count": 92,
   "id": "27d717d3",
   "metadata": {
    "ExecuteTime": {
     "end_time": "2021-04-23T05:43:50.889128Z",
     "start_time": "2021-04-23T05:43:50.883144Z"
    }
   },
   "outputs": [
    {
     "data": {
      "text/plain": [
       "0   2020-02-03\n",
       "1   2020-02-03\n",
       "2   2020-02-03\n",
       "3   2020-02-03\n",
       "4   2020-02-03\n",
       "       ...    \n",
       "2   2021-03-19\n",
       "3   2021-03-19\n",
       "4   2021-03-19\n",
       "6   2021-03-19\n",
       "7   2021-03-19\n",
       "Name: date, Length: 2911, dtype: datetime64[ns]"
      ]
     },
     "execution_count": 92,
     "metadata": {},
     "output_type": "execute_result"
    }
   ],
   "source": [
    "dt = datetime.datetime.strptime(current_date, '%Y-%m-%d')\n",
    "date = str(dt.month)+'/'+str(dt.day)+'/'+str(dt.year)+' 9:00:00 AM'\n",
    "\n",
    "all_the_nexts.date"
   ]
  },
  {
   "cell_type": "code",
   "execution_count": 88,
   "id": "d9414c61",
   "metadata": {
    "ExecuteTime": {
     "end_time": "2021-04-23T02:00:37.642620Z",
     "start_time": "2021-04-23T02:00:37.638631Z"
    }
   },
   "outputs": [],
   "source": [
    "all_the_generals['userid'] = userid"
   ]
  },
  {
   "cell_type": "code",
   "execution_count": 136,
   "id": "7eed319b",
   "metadata": {
    "ExecuteTime": {
     "end_time": "2021-04-23T06:51:51.916605Z",
     "start_time": "2021-04-23T06:51:51.910622Z"
    }
   },
   "outputs": [
    {
     "data": {
      "text/plain": [
       "'2021-02-03'"
      ]
     },
     "execution_count": 136,
     "metadata": {},
     "output_type": "execute_result"
    }
   ],
   "source": [
    "datetime.strptime('2021-2-3', '%Y-%m-%d').strftime('%Y-%m-%d')"
   ]
  },
  {
   "cell_type": "code",
   "execution_count": 85,
   "id": "15b493cb",
   "metadata": {
    "ExecuteTime": {
     "end_time": "2021-04-23T01:53:53.905043Z",
     "start_time": "2021-04-23T01:53:53.892078Z"
    }
   },
   "outputs": [
    {
     "data": {
      "text/html": [
       "<div>\n",
       "<style scoped>\n",
       "    .dataframe tbody tr th:only-of-type {\n",
       "        vertical-align: middle;\n",
       "    }\n",
       "\n",
       "    .dataframe tbody tr th {\n",
       "        vertical-align: top;\n",
       "    }\n",
       "\n",
       "    .dataframe thead th {\n",
       "        text-align: right;\n",
       "    }\n",
       "</style>\n",
       "<table border=\"1\" class=\"dataframe\">\n",
       "  <thead>\n",
       "    <tr style=\"text-align: right;\">\n",
       "      <th></th>\n",
       "      <th>date</th>\n",
       "      <th>itemcode</th>\n",
       "      <th>itemname</th>\n",
       "      <th>price</th>\n",
       "      <th>asset_class</th>\n",
       "      <th>quantity</th>\n",
       "      <th>value</th>\n",
       "      <th>original</th>\n",
       "      <th>wt</th>\n",
       "      <th>cost_price</th>\n",
       "      <th>cost_value</th>\n",
       "      <th>userid</th>\n",
       "      <th>username</th>\n",
       "      <th>group_by</th>\n",
       "    </tr>\n",
       "  </thead>\n",
       "  <tbody>\n",
       "    <tr>\n",
       "      <th>0</th>\n",
       "      <td>2020-02-03</td>\n",
       "      <td>A245340</td>\n",
       "      <td>TIGER 미국다우존스30</td>\n",
       "      <td>17050</td>\n",
       "      <td>Equity</td>\n",
       "      <td>14</td>\n",
       "      <td>238700</td>\n",
       "      <td>N</td>\n",
       "      <td>0.2387</td>\n",
       "      <td>NaN</td>\n",
       "      <td>NaN</td>\n",
       "      <td>NaN</td>\n",
       "      <td>NaN</td>\n",
       "      <td>NaN</td>\n",
       "    </tr>\n",
       "    <tr>\n",
       "      <th>1</th>\n",
       "      <td>2020-02-03</td>\n",
       "      <td>A251350</td>\n",
       "      <td>KODEX 선진국MSCI World</td>\n",
       "      <td>15495</td>\n",
       "      <td>Equity</td>\n",
       "      <td>15</td>\n",
       "      <td>232425</td>\n",
       "      <td>N</td>\n",
       "      <td>0.232425</td>\n",
       "      <td>NaN</td>\n",
       "      <td>NaN</td>\n",
       "      <td>NaN</td>\n",
       "      <td>NaN</td>\n",
       "      <td>NaN</td>\n",
       "    </tr>\n",
       "    <tr>\n",
       "      <th>2</th>\n",
       "      <td>2020-02-03</td>\n",
       "      <td>A148070</td>\n",
       "      <td>KOSEF 국고채10년</td>\n",
       "      <td>122404</td>\n",
       "      <td>Fixed Income</td>\n",
       "      <td>1</td>\n",
       "      <td>122404</td>\n",
       "      <td>N</td>\n",
       "      <td>0.122404</td>\n",
       "      <td>NaN</td>\n",
       "      <td>NaN</td>\n",
       "      <td>NaN</td>\n",
       "      <td>NaN</td>\n",
       "      <td>NaN</td>\n",
       "    </tr>\n",
       "    <tr>\n",
       "      <th>3</th>\n",
       "      <td>2020-02-03</td>\n",
       "      <td>A278540</td>\n",
       "      <td>KODEX MSCI Korea TR</td>\n",
       "      <td>9150</td>\n",
       "      <td>Equity</td>\n",
       "      <td>18</td>\n",
       "      <td>164700</td>\n",
       "      <td>N</td>\n",
       "      <td>0.1647</td>\n",
       "      <td>NaN</td>\n",
       "      <td>NaN</td>\n",
       "      <td>NaN</td>\n",
       "      <td>NaN</td>\n",
       "      <td>NaN</td>\n",
       "    </tr>\n",
       "    <tr>\n",
       "      <th>4</th>\n",
       "      <td>2020-02-03</td>\n",
       "      <td>A102780</td>\n",
       "      <td>KODEX 삼성그룹</td>\n",
       "      <td>6990</td>\n",
       "      <td>Equity</td>\n",
       "      <td>6</td>\n",
       "      <td>41940</td>\n",
       "      <td>N</td>\n",
       "      <td>0.04194</td>\n",
       "      <td>NaN</td>\n",
       "      <td>NaN</td>\n",
       "      <td>NaN</td>\n",
       "      <td>NaN</td>\n",
       "      <td>NaN</td>\n",
       "    </tr>\n",
       "    <tr>\n",
       "      <th>6</th>\n",
       "      <td>2020-02-03</td>\n",
       "      <td>A237370</td>\n",
       "      <td>KODEX 배당성장채권혼합</td>\n",
       "      <td>10390</td>\n",
       "      <td>Alternative</td>\n",
       "      <td>1</td>\n",
       "      <td>10390</td>\n",
       "      <td>N</td>\n",
       "      <td>0.01039</td>\n",
       "      <td>NaN</td>\n",
       "      <td>NaN</td>\n",
       "      <td>NaN</td>\n",
       "      <td>NaN</td>\n",
       "      <td>NaN</td>\n",
       "    </tr>\n",
       "    <tr>\n",
       "      <th>7</th>\n",
       "      <td>2020-02-03</td>\n",
       "      <td>C000001</td>\n",
       "      <td>Cash</td>\n",
       "      <td>1</td>\n",
       "      <td>Cash</td>\n",
       "      <td>189441</td>\n",
       "      <td>189441</td>\n",
       "      <td>N</td>\n",
       "      <td>0.189441</td>\n",
       "      <td>NaN</td>\n",
       "      <td>NaN</td>\n",
       "      <td>NaN</td>\n",
       "      <td>NaN</td>\n",
       "      <td>NaN</td>\n",
       "    </tr>\n",
       "  </tbody>\n",
       "</table>\n",
       "</div>"
      ],
      "text/plain": [
       "        date itemcode             itemname   price   asset_class quantity  \\\n",
       "0 2020-02-03  A245340       TIGER 미국다우존스30   17050        Equity       14   \n",
       "1 2020-02-03  A251350  KODEX 선진국MSCI World   15495        Equity       15   \n",
       "2 2020-02-03  A148070         KOSEF 국고채10년  122404  Fixed Income        1   \n",
       "3 2020-02-03  A278540  KODEX MSCI Korea TR    9150        Equity       18   \n",
       "4 2020-02-03  A102780           KODEX 삼성그룹    6990        Equity        6   \n",
       "6 2020-02-03  A237370       KODEX 배당성장채권혼합   10390   Alternative        1   \n",
       "7 2020-02-03  C000001                 Cash       1          Cash   189441   \n",
       "\n",
       "    value original        wt cost_price cost_value userid username group_by  \n",
       "0  238700        N    0.2387        NaN        NaN    NaN      NaN      NaN  \n",
       "1  232425        N  0.232425        NaN        NaN    NaN      NaN      NaN  \n",
       "2  122404        N  0.122404        NaN        NaN    NaN      NaN      NaN  \n",
       "3  164700        N    0.1647        NaN        NaN    NaN      NaN      NaN  \n",
       "4   41940        N   0.04194        NaN        NaN    NaN      NaN      NaN  \n",
       "6   10390        N   0.01039        NaN        NaN    NaN      NaN      NaN  \n",
       "7  189441        N  0.189441        NaN        NaN    NaN      NaN      NaN  "
      ]
     },
     "execution_count": 85,
     "metadata": {},
     "output_type": "execute_result"
    }
   ],
   "source": [
    "all_the_nexts.loc[all_the_nexts.date==dates[0]]"
   ]
  },
  {
   "cell_type": "code",
   "execution_count": 90,
   "id": "6f4e2a2c",
   "metadata": {
    "ExecuteTime": {
     "end_time": "2021-04-23T05:05:43.297797Z",
     "start_time": "2021-04-23T05:05:43.292810Z"
    }
   },
   "outputs": [
    {
     "data": {
      "text/plain": [
       "'2020-02-03'"
      ]
     },
     "execution_count": 90,
     "metadata": {},
     "output_type": "execute_result"
    }
   ],
   "source": [
    "datetime.strptime('2020-2-3', '%Y-%m-%d').strftime('%Y-%m-%d')"
   ]
  },
  {
   "cell_type": "code",
   "execution_count": null,
   "id": "b7fe96da",
   "metadata": {},
   "outputs": [],
   "source": []
  },
  {
   "cell_type": "markdown",
   "id": "2658f188",
   "metadata": {},
   "source": [
    "## 자산군별 바 차트"
   ]
  },
  {
   "cell_type": "code",
   "execution_count": 50,
   "id": "a56b5882",
   "metadata": {
    "ExecuteTime": {
     "end_time": "2021-04-23T01:38:15.650963Z",
     "start_time": "2021-04-23T01:38:15.646974Z"
    }
   },
   "outputs": [],
   "source": [
    "import plotly.express as px"
   ]
  },
  {
   "cell_type": "code",
   "execution_count": 51,
   "id": "09969702",
   "metadata": {
    "ExecuteTime": {
     "end_time": "2021-04-23T01:38:15.900295Z",
     "start_time": "2021-04-23T01:38:15.895308Z"
    }
   },
   "outputs": [],
   "source": [
    "detail_day1 = all_the_nexts.loc[all_the_nexts.date==current_date]"
   ]
  },
  {
   "cell_type": "code",
   "execution_count": 68,
   "id": "68bc34cd",
   "metadata": {
    "ExecuteTime": {
     "end_time": "2021-04-23T01:39:27.727542Z",
     "start_time": "2021-04-23T01:39:27.718567Z"
    }
   },
   "outputs": [],
   "source": [
    "v = detail_day1.loc[:, ['wt', 'itemname']].groupby(\n",
    "                    'itemname').sum().sort_values('wt', ascending=False).reset_index()"
   ]
  },
  {
   "cell_type": "code",
   "execution_count": 59,
   "id": "b7ed529e",
   "metadata": {
    "ExecuteTime": {
     "end_time": "2021-04-23T01:38:36.094868Z",
     "start_time": "2021-04-23T01:38:36.086889Z"
    }
   },
   "outputs": [],
   "source": [
    "a = detail_day1.loc[:, ['wt', 'asset_class']].groupby(\n",
    "                    'asset_class').sum().sort_values('wt', ascending=False).reset_index()"
   ]
  },
  {
   "cell_type": "code",
   "execution_count": 60,
   "id": "fab2c9cb",
   "metadata": {
    "ExecuteTime": {
     "end_time": "2021-04-23T01:38:36.650379Z",
     "start_time": "2021-04-23T01:38:36.646390Z"
    }
   },
   "outputs": [],
   "source": [
    "asset_class = ['Fixed Income', 'Alternative', 'Cash', 'Equity']"
   ]
  },
  {
   "cell_type": "code",
   "execution_count": 61,
   "id": "662308b4",
   "metadata": {
    "ExecuteTime": {
     "end_time": "2021-04-23T01:38:37.001438Z",
     "start_time": "2021-04-23T01:38:36.997449Z"
    }
   },
   "outputs": [],
   "source": [
    "df_ac = pd.DataFrame(asset_class, columns=['asset_class'])"
   ]
  },
  {
   "cell_type": "code",
   "execution_count": 64,
   "id": "9be0fec8",
   "metadata": {
    "ExecuteTime": {
     "end_time": "2021-04-23T01:38:57.789269Z",
     "start_time": "2021-04-23T01:38:57.783286Z"
    }
   },
   "outputs": [],
   "source": [
    "df_by_asset_class = a.merge(df_ac, left_on='asset_class', right_on='asset_class', how='right').sort_values('wt', ascending=False).reset_index(drop=True)"
   ]
  },
  {
   "cell_type": "code",
   "execution_count": 65,
   "id": "151f3e33",
   "metadata": {
    "ExecuteTime": {
     "end_time": "2021-04-23T01:38:58.189198Z",
     "start_time": "2021-04-23T01:38:58.182216Z"
    }
   },
   "outputs": [
    {
     "data": {
      "text/html": [
       "<div>\n",
       "<style scoped>\n",
       "    .dataframe tbody tr th:only-of-type {\n",
       "        vertical-align: middle;\n",
       "    }\n",
       "\n",
       "    .dataframe tbody tr th {\n",
       "        vertical-align: top;\n",
       "    }\n",
       "\n",
       "    .dataframe thead th {\n",
       "        text-align: right;\n",
       "    }\n",
       "</style>\n",
       "<table border=\"1\" class=\"dataframe\">\n",
       "  <thead>\n",
       "    <tr style=\"text-align: right;\">\n",
       "      <th></th>\n",
       "      <th>asset_class</th>\n",
       "      <th>wt</th>\n",
       "    </tr>\n",
       "  </thead>\n",
       "  <tbody>\n",
       "    <tr>\n",
       "      <th>0</th>\n",
       "      <td>Equity</td>\n",
       "      <td>0.677765</td>\n",
       "    </tr>\n",
       "    <tr>\n",
       "      <th>1</th>\n",
       "      <td>Cash</td>\n",
       "      <td>0.189441</td>\n",
       "    </tr>\n",
       "    <tr>\n",
       "      <th>2</th>\n",
       "      <td>Fixed Income</td>\n",
       "      <td>0.122404</td>\n",
       "    </tr>\n",
       "    <tr>\n",
       "      <th>3</th>\n",
       "      <td>Alternative</td>\n",
       "      <td>0.010390</td>\n",
       "    </tr>\n",
       "  </tbody>\n",
       "</table>\n",
       "</div>"
      ],
      "text/plain": [
       "    asset_class        wt\n",
       "0        Equity  0.677765\n",
       "1          Cash  0.189441\n",
       "2  Fixed Income  0.122404\n",
       "3   Alternative  0.010390"
      ]
     },
     "execution_count": 65,
     "metadata": {},
     "output_type": "execute_result"
    }
   ],
   "source": [
    "df_by_asset_class"
   ]
  },
  {
   "cell_type": "code",
   "execution_count": 69,
   "id": "09cc4071",
   "metadata": {
    "ExecuteTime": {
     "end_time": "2021-04-23T01:39:30.701571Z",
     "start_time": "2021-04-23T01:39:30.671651Z"
    }
   },
   "outputs": [
    {
     "data": {
      "application/vnd.plotly.v1+json": {
       "config": {
        "plotlyServerURL": "https://plot.ly"
       },
       "data": [
        {
         "domain": {
          "x": [
           0,
           1
          ],
          "y": [
           0,
           1
          ]
         },
         "hovertemplate": "itemname=%{label}<br>wt=%{value}<extra></extra>",
         "labels": [
          "TIGER 미국다우존스30",
          "KODEX 선진국MSCI World",
          "Cash",
          "KODEX MSCI Korea TR",
          "KOSEF 국고채10년",
          "KODEX 삼성그룹",
          "KODEX 배당성장채권혼합"
         ],
         "legendgroup": "",
         "name": "",
         "showlegend": true,
         "type": "pie",
         "values": [
          0.2387,
          0.232425,
          0.189441,
          0.1647,
          0.122404,
          0.04194,
          0.01039
         ]
        }
       ],
       "layout": {
        "legend": {
         "tracegroupgap": 0
        },
        "piecolorway": [
         "rgb(141,211,199)",
         "rgb(255,255,179)",
         "rgb(190,186,218)",
         "rgb(251,128,114)",
         "rgb(128,177,211)",
         "rgb(253,180,98)",
         "rgb(179,222,105)",
         "rgb(252,205,229)",
         "rgb(217,217,217)",
         "rgb(188,128,189)",
         "rgb(204,235,197)",
         "rgb(255,237,111)"
        ],
        "template": {
         "data": {
          "bar": [
           {
            "error_x": {
             "color": "#2a3f5f"
            },
            "error_y": {
             "color": "#2a3f5f"
            },
            "marker": {
             "line": {
              "color": "#E5ECF6",
              "width": 0.5
             }
            },
            "type": "bar"
           }
          ],
          "barpolar": [
           {
            "marker": {
             "line": {
              "color": "#E5ECF6",
              "width": 0.5
             }
            },
            "type": "barpolar"
           }
          ],
          "carpet": [
           {
            "aaxis": {
             "endlinecolor": "#2a3f5f",
             "gridcolor": "white",
             "linecolor": "white",
             "minorgridcolor": "white",
             "startlinecolor": "#2a3f5f"
            },
            "baxis": {
             "endlinecolor": "#2a3f5f",
             "gridcolor": "white",
             "linecolor": "white",
             "minorgridcolor": "white",
             "startlinecolor": "#2a3f5f"
            },
            "type": "carpet"
           }
          ],
          "choropleth": [
           {
            "colorbar": {
             "outlinewidth": 0,
             "ticks": ""
            },
            "type": "choropleth"
           }
          ],
          "contour": [
           {
            "colorbar": {
             "outlinewidth": 0,
             "ticks": ""
            },
            "colorscale": [
             [
              0,
              "#0d0887"
             ],
             [
              0.1111111111111111,
              "#46039f"
             ],
             [
              0.2222222222222222,
              "#7201a8"
             ],
             [
              0.3333333333333333,
              "#9c179e"
             ],
             [
              0.4444444444444444,
              "#bd3786"
             ],
             [
              0.5555555555555556,
              "#d8576b"
             ],
             [
              0.6666666666666666,
              "#ed7953"
             ],
             [
              0.7777777777777778,
              "#fb9f3a"
             ],
             [
              0.8888888888888888,
              "#fdca26"
             ],
             [
              1,
              "#f0f921"
             ]
            ],
            "type": "contour"
           }
          ],
          "contourcarpet": [
           {
            "colorbar": {
             "outlinewidth": 0,
             "ticks": ""
            },
            "type": "contourcarpet"
           }
          ],
          "heatmap": [
           {
            "colorbar": {
             "outlinewidth": 0,
             "ticks": ""
            },
            "colorscale": [
             [
              0,
              "#0d0887"
             ],
             [
              0.1111111111111111,
              "#46039f"
             ],
             [
              0.2222222222222222,
              "#7201a8"
             ],
             [
              0.3333333333333333,
              "#9c179e"
             ],
             [
              0.4444444444444444,
              "#bd3786"
             ],
             [
              0.5555555555555556,
              "#d8576b"
             ],
             [
              0.6666666666666666,
              "#ed7953"
             ],
             [
              0.7777777777777778,
              "#fb9f3a"
             ],
             [
              0.8888888888888888,
              "#fdca26"
             ],
             [
              1,
              "#f0f921"
             ]
            ],
            "type": "heatmap"
           }
          ],
          "heatmapgl": [
           {
            "colorbar": {
             "outlinewidth": 0,
             "ticks": ""
            },
            "colorscale": [
             [
              0,
              "#0d0887"
             ],
             [
              0.1111111111111111,
              "#46039f"
             ],
             [
              0.2222222222222222,
              "#7201a8"
             ],
             [
              0.3333333333333333,
              "#9c179e"
             ],
             [
              0.4444444444444444,
              "#bd3786"
             ],
             [
              0.5555555555555556,
              "#d8576b"
             ],
             [
              0.6666666666666666,
              "#ed7953"
             ],
             [
              0.7777777777777778,
              "#fb9f3a"
             ],
             [
              0.8888888888888888,
              "#fdca26"
             ],
             [
              1,
              "#f0f921"
             ]
            ],
            "type": "heatmapgl"
           }
          ],
          "histogram": [
           {
            "marker": {
             "colorbar": {
              "outlinewidth": 0,
              "ticks": ""
             }
            },
            "type": "histogram"
           }
          ],
          "histogram2d": [
           {
            "colorbar": {
             "outlinewidth": 0,
             "ticks": ""
            },
            "colorscale": [
             [
              0,
              "#0d0887"
             ],
             [
              0.1111111111111111,
              "#46039f"
             ],
             [
              0.2222222222222222,
              "#7201a8"
             ],
             [
              0.3333333333333333,
              "#9c179e"
             ],
             [
              0.4444444444444444,
              "#bd3786"
             ],
             [
              0.5555555555555556,
              "#d8576b"
             ],
             [
              0.6666666666666666,
              "#ed7953"
             ],
             [
              0.7777777777777778,
              "#fb9f3a"
             ],
             [
              0.8888888888888888,
              "#fdca26"
             ],
             [
              1,
              "#f0f921"
             ]
            ],
            "type": "histogram2d"
           }
          ],
          "histogram2dcontour": [
           {
            "colorbar": {
             "outlinewidth": 0,
             "ticks": ""
            },
            "colorscale": [
             [
              0,
              "#0d0887"
             ],
             [
              0.1111111111111111,
              "#46039f"
             ],
             [
              0.2222222222222222,
              "#7201a8"
             ],
             [
              0.3333333333333333,
              "#9c179e"
             ],
             [
              0.4444444444444444,
              "#bd3786"
             ],
             [
              0.5555555555555556,
              "#d8576b"
             ],
             [
              0.6666666666666666,
              "#ed7953"
             ],
             [
              0.7777777777777778,
              "#fb9f3a"
             ],
             [
              0.8888888888888888,
              "#fdca26"
             ],
             [
              1,
              "#f0f921"
             ]
            ],
            "type": "histogram2dcontour"
           }
          ],
          "mesh3d": [
           {
            "colorbar": {
             "outlinewidth": 0,
             "ticks": ""
            },
            "type": "mesh3d"
           }
          ],
          "parcoords": [
           {
            "line": {
             "colorbar": {
              "outlinewidth": 0,
              "ticks": ""
             }
            },
            "type": "parcoords"
           }
          ],
          "pie": [
           {
            "automargin": true,
            "type": "pie"
           }
          ],
          "scatter": [
           {
            "marker": {
             "colorbar": {
              "outlinewidth": 0,
              "ticks": ""
             }
            },
            "type": "scatter"
           }
          ],
          "scatter3d": [
           {
            "line": {
             "colorbar": {
              "outlinewidth": 0,
              "ticks": ""
             }
            },
            "marker": {
             "colorbar": {
              "outlinewidth": 0,
              "ticks": ""
             }
            },
            "type": "scatter3d"
           }
          ],
          "scattercarpet": [
           {
            "marker": {
             "colorbar": {
              "outlinewidth": 0,
              "ticks": ""
             }
            },
            "type": "scattercarpet"
           }
          ],
          "scattergeo": [
           {
            "marker": {
             "colorbar": {
              "outlinewidth": 0,
              "ticks": ""
             }
            },
            "type": "scattergeo"
           }
          ],
          "scattergl": [
           {
            "marker": {
             "colorbar": {
              "outlinewidth": 0,
              "ticks": ""
             }
            },
            "type": "scattergl"
           }
          ],
          "scattermapbox": [
           {
            "marker": {
             "colorbar": {
              "outlinewidth": 0,
              "ticks": ""
             }
            },
            "type": "scattermapbox"
           }
          ],
          "scatterpolar": [
           {
            "marker": {
             "colorbar": {
              "outlinewidth": 0,
              "ticks": ""
             }
            },
            "type": "scatterpolar"
           }
          ],
          "scatterpolargl": [
           {
            "marker": {
             "colorbar": {
              "outlinewidth": 0,
              "ticks": ""
             }
            },
            "type": "scatterpolargl"
           }
          ],
          "scatterternary": [
           {
            "marker": {
             "colorbar": {
              "outlinewidth": 0,
              "ticks": ""
             }
            },
            "type": "scatterternary"
           }
          ],
          "surface": [
           {
            "colorbar": {
             "outlinewidth": 0,
             "ticks": ""
            },
            "colorscale": [
             [
              0,
              "#0d0887"
             ],
             [
              0.1111111111111111,
              "#46039f"
             ],
             [
              0.2222222222222222,
              "#7201a8"
             ],
             [
              0.3333333333333333,
              "#9c179e"
             ],
             [
              0.4444444444444444,
              "#bd3786"
             ],
             [
              0.5555555555555556,
              "#d8576b"
             ],
             [
              0.6666666666666666,
              "#ed7953"
             ],
             [
              0.7777777777777778,
              "#fb9f3a"
             ],
             [
              0.8888888888888888,
              "#fdca26"
             ],
             [
              1,
              "#f0f921"
             ]
            ],
            "type": "surface"
           }
          ],
          "table": [
           {
            "cells": {
             "fill": {
              "color": "#EBF0F8"
             },
             "line": {
              "color": "white"
             }
            },
            "header": {
             "fill": {
              "color": "#C8D4E3"
             },
             "line": {
              "color": "white"
             }
            },
            "type": "table"
           }
          ]
         },
         "layout": {
          "annotationdefaults": {
           "arrowcolor": "#2a3f5f",
           "arrowhead": 0,
           "arrowwidth": 1
          },
          "autotypenumbers": "strict",
          "coloraxis": {
           "colorbar": {
            "outlinewidth": 0,
            "ticks": ""
           }
          },
          "colorscale": {
           "diverging": [
            [
             0,
             "#8e0152"
            ],
            [
             0.1,
             "#c51b7d"
            ],
            [
             0.2,
             "#de77ae"
            ],
            [
             0.3,
             "#f1b6da"
            ],
            [
             0.4,
             "#fde0ef"
            ],
            [
             0.5,
             "#f7f7f7"
            ],
            [
             0.6,
             "#e6f5d0"
            ],
            [
             0.7,
             "#b8e186"
            ],
            [
             0.8,
             "#7fbc41"
            ],
            [
             0.9,
             "#4d9221"
            ],
            [
             1,
             "#276419"
            ]
           ],
           "sequential": [
            [
             0,
             "#0d0887"
            ],
            [
             0.1111111111111111,
             "#46039f"
            ],
            [
             0.2222222222222222,
             "#7201a8"
            ],
            [
             0.3333333333333333,
             "#9c179e"
            ],
            [
             0.4444444444444444,
             "#bd3786"
            ],
            [
             0.5555555555555556,
             "#d8576b"
            ],
            [
             0.6666666666666666,
             "#ed7953"
            ],
            [
             0.7777777777777778,
             "#fb9f3a"
            ],
            [
             0.8888888888888888,
             "#fdca26"
            ],
            [
             1,
             "#f0f921"
            ]
           ],
           "sequentialminus": [
            [
             0,
             "#0d0887"
            ],
            [
             0.1111111111111111,
             "#46039f"
            ],
            [
             0.2222222222222222,
             "#7201a8"
            ],
            [
             0.3333333333333333,
             "#9c179e"
            ],
            [
             0.4444444444444444,
             "#bd3786"
            ],
            [
             0.5555555555555556,
             "#d8576b"
            ],
            [
             0.6666666666666666,
             "#ed7953"
            ],
            [
             0.7777777777777778,
             "#fb9f3a"
            ],
            [
             0.8888888888888888,
             "#fdca26"
            ],
            [
             1,
             "#f0f921"
            ]
           ]
          },
          "colorway": [
           "#636efa",
           "#EF553B",
           "#00cc96",
           "#ab63fa",
           "#FFA15A",
           "#19d3f3",
           "#FF6692",
           "#B6E880",
           "#FF97FF",
           "#FECB52"
          ],
          "font": {
           "color": "#2a3f5f"
          },
          "geo": {
           "bgcolor": "white",
           "lakecolor": "white",
           "landcolor": "#E5ECF6",
           "showlakes": true,
           "showland": true,
           "subunitcolor": "white"
          },
          "hoverlabel": {
           "align": "left"
          },
          "hovermode": "closest",
          "mapbox": {
           "style": "light"
          },
          "paper_bgcolor": "white",
          "plot_bgcolor": "#E5ECF6",
          "polar": {
           "angularaxis": {
            "gridcolor": "white",
            "linecolor": "white",
            "ticks": ""
           },
           "bgcolor": "#E5ECF6",
           "radialaxis": {
            "gridcolor": "white",
            "linecolor": "white",
            "ticks": ""
           }
          },
          "scene": {
           "xaxis": {
            "backgroundcolor": "#E5ECF6",
            "gridcolor": "white",
            "gridwidth": 2,
            "linecolor": "white",
            "showbackground": true,
            "ticks": "",
            "zerolinecolor": "white"
           },
           "yaxis": {
            "backgroundcolor": "#E5ECF6",
            "gridcolor": "white",
            "gridwidth": 2,
            "linecolor": "white",
            "showbackground": true,
            "ticks": "",
            "zerolinecolor": "white"
           },
           "zaxis": {
            "backgroundcolor": "#E5ECF6",
            "gridcolor": "white",
            "gridwidth": 2,
            "linecolor": "white",
            "showbackground": true,
            "ticks": "",
            "zerolinecolor": "white"
           }
          },
          "shapedefaults": {
           "line": {
            "color": "#2a3f5f"
           }
          },
          "ternary": {
           "aaxis": {
            "gridcolor": "white",
            "linecolor": "white",
            "ticks": ""
           },
           "baxis": {
            "gridcolor": "white",
            "linecolor": "white",
            "ticks": ""
           },
           "bgcolor": "#E5ECF6",
           "caxis": {
            "gridcolor": "white",
            "linecolor": "white",
            "ticks": ""
           }
          },
          "title": {
           "x": 0.05
          },
          "xaxis": {
           "automargin": true,
           "gridcolor": "white",
           "linecolor": "white",
           "ticks": "",
           "title": {
            "standoff": 15
           },
           "zerolinecolor": "white",
           "zerolinewidth": 2
          },
          "yaxis": {
           "automargin": true,
           "gridcolor": "white",
           "linecolor": "white",
           "ticks": "",
           "title": {
            "standoff": 15
           },
           "zerolinecolor": "white",
           "zerolinewidth": 2
          }
         }
        },
        "title": {
         "text": "추천 포트폴리오"
        }
       }
      },
      "text/html": [
       "<div>                            <div id=\"869bc201-ffdb-465f-b4ca-8b6e2d54e82f\" class=\"plotly-graph-div\" style=\"height:525px; width:100%;\"></div>            <script type=\"text/javascript\">                require([\"plotly\"], function(Plotly) {                    window.PLOTLYENV=window.PLOTLYENV || {};                                    if (document.getElementById(\"869bc201-ffdb-465f-b4ca-8b6e2d54e82f\")) {                    Plotly.newPlot(                        \"869bc201-ffdb-465f-b4ca-8b6e2d54e82f\",                        [{\"domain\": {\"x\": [0.0, 1.0], \"y\": [0.0, 1.0]}, \"hovertemplate\": \"itemname=%{label}<br>wt=%{value}<extra></extra>\", \"labels\": [\"TIGER \\ubbf8\\uad6d\\ub2e4\\uc6b0\\uc874\\uc2a430\", \"KODEX \\uc120\\uc9c4\\uad6dMSCI World\", \"Cash\", \"KODEX MSCI Korea TR\", \"KOSEF \\uad6d\\uace0\\ucc4410\\ub144\", \"KODEX \\uc0bc\\uc131\\uadf8\\ub8f9\", \"KODEX \\ubc30\\ub2f9\\uc131\\uc7a5\\ucc44\\uad8c\\ud63c\\ud569\"], \"legendgroup\": \"\", \"name\": \"\", \"showlegend\": true, \"type\": \"pie\", \"values\": [0.2387, 0.232425, 0.189441, 0.1647, 0.122404, 0.04194, 0.01039]}],                        {\"legend\": {\"tracegroupgap\": 0}, \"piecolorway\": [\"rgb(141,211,199)\", \"rgb(255,255,179)\", \"rgb(190,186,218)\", \"rgb(251,128,114)\", \"rgb(128,177,211)\", \"rgb(253,180,98)\", \"rgb(179,222,105)\", \"rgb(252,205,229)\", \"rgb(217,217,217)\", \"rgb(188,128,189)\", \"rgb(204,235,197)\", \"rgb(255,237,111)\"], \"template\": {\"data\": {\"bar\": [{\"error_x\": {\"color\": \"#2a3f5f\"}, \"error_y\": {\"color\": \"#2a3f5f\"}, \"marker\": {\"line\": {\"color\": \"#E5ECF6\", \"width\": 0.5}}, \"type\": \"bar\"}], \"barpolar\": [{\"marker\": {\"line\": {\"color\": \"#E5ECF6\", \"width\": 0.5}}, \"type\": \"barpolar\"}], \"carpet\": [{\"aaxis\": {\"endlinecolor\": \"#2a3f5f\", \"gridcolor\": \"white\", \"linecolor\": \"white\", \"minorgridcolor\": \"white\", \"startlinecolor\": \"#2a3f5f\"}, \"baxis\": {\"endlinecolor\": \"#2a3f5f\", \"gridcolor\": \"white\", \"linecolor\": \"white\", \"minorgridcolor\": \"white\", \"startlinecolor\": \"#2a3f5f\"}, \"type\": \"carpet\"}], \"choropleth\": [{\"colorbar\": {\"outlinewidth\": 0, \"ticks\": \"\"}, \"type\": \"choropleth\"}], \"contour\": [{\"colorbar\": {\"outlinewidth\": 0, \"ticks\": \"\"}, \"colorscale\": [[0.0, \"#0d0887\"], [0.1111111111111111, \"#46039f\"], [0.2222222222222222, \"#7201a8\"], [0.3333333333333333, \"#9c179e\"], [0.4444444444444444, \"#bd3786\"], [0.5555555555555556, \"#d8576b\"], [0.6666666666666666, \"#ed7953\"], [0.7777777777777778, \"#fb9f3a\"], [0.8888888888888888, \"#fdca26\"], [1.0, \"#f0f921\"]], \"type\": \"contour\"}], \"contourcarpet\": [{\"colorbar\": {\"outlinewidth\": 0, \"ticks\": \"\"}, \"type\": \"contourcarpet\"}], \"heatmap\": [{\"colorbar\": {\"outlinewidth\": 0, \"ticks\": \"\"}, \"colorscale\": [[0.0, \"#0d0887\"], [0.1111111111111111, \"#46039f\"], [0.2222222222222222, \"#7201a8\"], [0.3333333333333333, \"#9c179e\"], [0.4444444444444444, \"#bd3786\"], [0.5555555555555556, \"#d8576b\"], [0.6666666666666666, \"#ed7953\"], [0.7777777777777778, \"#fb9f3a\"], [0.8888888888888888, \"#fdca26\"], [1.0, \"#f0f921\"]], \"type\": \"heatmap\"}], \"heatmapgl\": [{\"colorbar\": {\"outlinewidth\": 0, \"ticks\": \"\"}, \"colorscale\": [[0.0, \"#0d0887\"], [0.1111111111111111, \"#46039f\"], [0.2222222222222222, \"#7201a8\"], [0.3333333333333333, \"#9c179e\"], [0.4444444444444444, \"#bd3786\"], [0.5555555555555556, \"#d8576b\"], [0.6666666666666666, \"#ed7953\"], [0.7777777777777778, \"#fb9f3a\"], [0.8888888888888888, \"#fdca26\"], [1.0, \"#f0f921\"]], \"type\": \"heatmapgl\"}], \"histogram\": [{\"marker\": {\"colorbar\": {\"outlinewidth\": 0, \"ticks\": \"\"}}, \"type\": \"histogram\"}], \"histogram2d\": [{\"colorbar\": {\"outlinewidth\": 0, \"ticks\": \"\"}, \"colorscale\": [[0.0, \"#0d0887\"], [0.1111111111111111, \"#46039f\"], [0.2222222222222222, \"#7201a8\"], [0.3333333333333333, \"#9c179e\"], [0.4444444444444444, \"#bd3786\"], [0.5555555555555556, \"#d8576b\"], [0.6666666666666666, \"#ed7953\"], [0.7777777777777778, \"#fb9f3a\"], [0.8888888888888888, \"#fdca26\"], [1.0, \"#f0f921\"]], \"type\": \"histogram2d\"}], \"histogram2dcontour\": [{\"colorbar\": {\"outlinewidth\": 0, \"ticks\": \"\"}, \"colorscale\": [[0.0, \"#0d0887\"], [0.1111111111111111, \"#46039f\"], [0.2222222222222222, \"#7201a8\"], [0.3333333333333333, \"#9c179e\"], [0.4444444444444444, \"#bd3786\"], [0.5555555555555556, \"#d8576b\"], [0.6666666666666666, \"#ed7953\"], [0.7777777777777778, \"#fb9f3a\"], [0.8888888888888888, \"#fdca26\"], [1.0, \"#f0f921\"]], \"type\": \"histogram2dcontour\"}], \"mesh3d\": [{\"colorbar\": {\"outlinewidth\": 0, \"ticks\": \"\"}, \"type\": \"mesh3d\"}], \"parcoords\": [{\"line\": {\"colorbar\": {\"outlinewidth\": 0, \"ticks\": \"\"}}, \"type\": \"parcoords\"}], \"pie\": [{\"automargin\": true, \"type\": \"pie\"}], \"scatter\": [{\"marker\": {\"colorbar\": {\"outlinewidth\": 0, \"ticks\": \"\"}}, \"type\": \"scatter\"}], \"scatter3d\": [{\"line\": {\"colorbar\": {\"outlinewidth\": 0, \"ticks\": \"\"}}, \"marker\": {\"colorbar\": {\"outlinewidth\": 0, \"ticks\": \"\"}}, \"type\": \"scatter3d\"}], \"scattercarpet\": [{\"marker\": {\"colorbar\": {\"outlinewidth\": 0, \"ticks\": \"\"}}, \"type\": \"scattercarpet\"}], \"scattergeo\": [{\"marker\": {\"colorbar\": {\"outlinewidth\": 0, \"ticks\": \"\"}}, \"type\": \"scattergeo\"}], \"scattergl\": [{\"marker\": {\"colorbar\": {\"outlinewidth\": 0, \"ticks\": \"\"}}, \"type\": \"scattergl\"}], \"scattermapbox\": [{\"marker\": {\"colorbar\": {\"outlinewidth\": 0, \"ticks\": \"\"}}, \"type\": \"scattermapbox\"}], \"scatterpolar\": [{\"marker\": {\"colorbar\": {\"outlinewidth\": 0, \"ticks\": \"\"}}, \"type\": \"scatterpolar\"}], \"scatterpolargl\": [{\"marker\": {\"colorbar\": {\"outlinewidth\": 0, \"ticks\": \"\"}}, \"type\": \"scatterpolargl\"}], \"scatterternary\": [{\"marker\": {\"colorbar\": {\"outlinewidth\": 0, \"ticks\": \"\"}}, \"type\": \"scatterternary\"}], \"surface\": [{\"colorbar\": {\"outlinewidth\": 0, \"ticks\": \"\"}, \"colorscale\": [[0.0, \"#0d0887\"], [0.1111111111111111, \"#46039f\"], [0.2222222222222222, \"#7201a8\"], [0.3333333333333333, \"#9c179e\"], [0.4444444444444444, \"#bd3786\"], [0.5555555555555556, \"#d8576b\"], [0.6666666666666666, \"#ed7953\"], [0.7777777777777778, \"#fb9f3a\"], [0.8888888888888888, \"#fdca26\"], [1.0, \"#f0f921\"]], \"type\": \"surface\"}], \"table\": [{\"cells\": {\"fill\": {\"color\": \"#EBF0F8\"}, \"line\": {\"color\": \"white\"}}, \"header\": {\"fill\": {\"color\": \"#C8D4E3\"}, \"line\": {\"color\": \"white\"}}, \"type\": \"table\"}]}, \"layout\": {\"annotationdefaults\": {\"arrowcolor\": \"#2a3f5f\", \"arrowhead\": 0, \"arrowwidth\": 1}, \"autotypenumbers\": \"strict\", \"coloraxis\": {\"colorbar\": {\"outlinewidth\": 0, \"ticks\": \"\"}}, \"colorscale\": {\"diverging\": [[0, \"#8e0152\"], [0.1, \"#c51b7d\"], [0.2, \"#de77ae\"], [0.3, \"#f1b6da\"], [0.4, \"#fde0ef\"], [0.5, \"#f7f7f7\"], [0.6, \"#e6f5d0\"], [0.7, \"#b8e186\"], [0.8, \"#7fbc41\"], [0.9, \"#4d9221\"], [1, \"#276419\"]], \"sequential\": [[0.0, \"#0d0887\"], [0.1111111111111111, \"#46039f\"], [0.2222222222222222, \"#7201a8\"], [0.3333333333333333, \"#9c179e\"], [0.4444444444444444, \"#bd3786\"], [0.5555555555555556, \"#d8576b\"], [0.6666666666666666, \"#ed7953\"], [0.7777777777777778, \"#fb9f3a\"], [0.8888888888888888, \"#fdca26\"], [1.0, \"#f0f921\"]], \"sequentialminus\": [[0.0, \"#0d0887\"], [0.1111111111111111, \"#46039f\"], [0.2222222222222222, \"#7201a8\"], [0.3333333333333333, \"#9c179e\"], [0.4444444444444444, \"#bd3786\"], [0.5555555555555556, \"#d8576b\"], [0.6666666666666666, \"#ed7953\"], [0.7777777777777778, \"#fb9f3a\"], [0.8888888888888888, \"#fdca26\"], [1.0, \"#f0f921\"]]}, \"colorway\": [\"#636efa\", \"#EF553B\", \"#00cc96\", \"#ab63fa\", \"#FFA15A\", \"#19d3f3\", \"#FF6692\", \"#B6E880\", \"#FF97FF\", \"#FECB52\"], \"font\": {\"color\": \"#2a3f5f\"}, \"geo\": {\"bgcolor\": \"white\", \"lakecolor\": \"white\", \"landcolor\": \"#E5ECF6\", \"showlakes\": true, \"showland\": true, \"subunitcolor\": \"white\"}, \"hoverlabel\": {\"align\": \"left\"}, \"hovermode\": \"closest\", \"mapbox\": {\"style\": \"light\"}, \"paper_bgcolor\": \"white\", \"plot_bgcolor\": \"#E5ECF6\", \"polar\": {\"angularaxis\": {\"gridcolor\": \"white\", \"linecolor\": \"white\", \"ticks\": \"\"}, \"bgcolor\": \"#E5ECF6\", \"radialaxis\": {\"gridcolor\": \"white\", \"linecolor\": \"white\", \"ticks\": \"\"}}, \"scene\": {\"xaxis\": {\"backgroundcolor\": \"#E5ECF6\", \"gridcolor\": \"white\", \"gridwidth\": 2, \"linecolor\": \"white\", \"showbackground\": true, \"ticks\": \"\", \"zerolinecolor\": \"white\"}, \"yaxis\": {\"backgroundcolor\": \"#E5ECF6\", \"gridcolor\": \"white\", \"gridwidth\": 2, \"linecolor\": \"white\", \"showbackground\": true, \"ticks\": \"\", \"zerolinecolor\": \"white\"}, \"zaxis\": {\"backgroundcolor\": \"#E5ECF6\", \"gridcolor\": \"white\", \"gridwidth\": 2, \"linecolor\": \"white\", \"showbackground\": true, \"ticks\": \"\", \"zerolinecolor\": \"white\"}}, \"shapedefaults\": {\"line\": {\"color\": \"#2a3f5f\"}}, \"ternary\": {\"aaxis\": {\"gridcolor\": \"white\", \"linecolor\": \"white\", \"ticks\": \"\"}, \"baxis\": {\"gridcolor\": \"white\", \"linecolor\": \"white\", \"ticks\": \"\"}, \"bgcolor\": \"#E5ECF6\", \"caxis\": {\"gridcolor\": \"white\", \"linecolor\": \"white\", \"ticks\": \"\"}}, \"title\": {\"x\": 0.05}, \"xaxis\": {\"automargin\": true, \"gridcolor\": \"white\", \"linecolor\": \"white\", \"ticks\": \"\", \"title\": {\"standoff\": 15}, \"zerolinecolor\": \"white\", \"zerolinewidth\": 2}, \"yaxis\": {\"automargin\": true, \"gridcolor\": \"white\", \"linecolor\": \"white\", \"ticks\": \"\", \"title\": {\"standoff\": 15}, \"zerolinecolor\": \"white\", \"zerolinewidth\": 2}}}, \"title\": {\"text\": \"\\ucd94\\ucc9c \\ud3ec\\ud2b8\\ud3f4\\ub9ac\\uc624\"}},                        {\"responsive\": true}                    ).then(function(){\n",
       "                            \n",
       "var gd = document.getElementById('869bc201-ffdb-465f-b4ca-8b6e2d54e82f');\n",
       "var x = new MutationObserver(function (mutations, observer) {{\n",
       "        var display = window.getComputedStyle(gd).display;\n",
       "        if (!display || display === 'none') {{\n",
       "            console.log([gd, 'removed!']);\n",
       "            Plotly.purge(gd);\n",
       "            observer.disconnect();\n",
       "        }}\n",
       "}});\n",
       "\n",
       "// Listen for the removal of the full notebook cells\n",
       "var notebookContainer = gd.closest('#notebook-container');\n",
       "if (notebookContainer) {{\n",
       "    x.observe(notebookContainer, {childList: true});\n",
       "}}\n",
       "\n",
       "// Listen for the clearing of the current output cell\n",
       "var outputEl = gd.closest('.output');\n",
       "if (outputEl) {{\n",
       "    x.observe(outputEl, {childList: true});\n",
       "}}\n",
       "\n",
       "                        })                };                });            </script>        </div>"
      ]
     },
     "metadata": {},
     "output_type": "display_data"
    }
   ],
   "source": [
    "fig1 = px.pie(v, names = 'itemname', values = 'wt', title = \"추천 포트폴리오\", color_discrete_sequence=px.colors.qualitative.Set3)\n",
    "fig1.show()"
   ]
  },
  {
   "cell_type": "code",
   "execution_count": 70,
   "id": "7b1114ed",
   "metadata": {
    "ExecuteTime": {
     "end_time": "2021-04-23T01:39:33.405323Z",
     "start_time": "2021-04-23T01:39:33.397345Z"
    }
   },
   "outputs": [
    {
     "data": {
      "text/html": [
       "<div>\n",
       "<style scoped>\n",
       "    .dataframe tbody tr th:only-of-type {\n",
       "        vertical-align: middle;\n",
       "    }\n",
       "\n",
       "    .dataframe tbody tr th {\n",
       "        vertical-align: top;\n",
       "    }\n",
       "\n",
       "    .dataframe thead th {\n",
       "        text-align: right;\n",
       "    }\n",
       "</style>\n",
       "<table border=\"1\" class=\"dataframe\">\n",
       "  <thead>\n",
       "    <tr style=\"text-align: right;\">\n",
       "      <th></th>\n",
       "      <th>asset_class</th>\n",
       "      <th>wt</th>\n",
       "    </tr>\n",
       "  </thead>\n",
       "  <tbody>\n",
       "    <tr>\n",
       "      <th>0</th>\n",
       "      <td>Equity</td>\n",
       "      <td>0.677765</td>\n",
       "    </tr>\n",
       "    <tr>\n",
       "      <th>1</th>\n",
       "      <td>Cash</td>\n",
       "      <td>0.189441</td>\n",
       "    </tr>\n",
       "    <tr>\n",
       "      <th>2</th>\n",
       "      <td>Fixed Income</td>\n",
       "      <td>0.122404</td>\n",
       "    </tr>\n",
       "    <tr>\n",
       "      <th>3</th>\n",
       "      <td>Alternative</td>\n",
       "      <td>0.010390</td>\n",
       "    </tr>\n",
       "  </tbody>\n",
       "</table>\n",
       "</div>"
      ],
      "text/plain": [
       "    asset_class        wt\n",
       "0        Equity  0.677765\n",
       "1          Cash  0.189441\n",
       "2  Fixed Income  0.122404\n",
       "3   Alternative  0.010390"
      ]
     },
     "execution_count": 70,
     "metadata": {},
     "output_type": "execute_result"
    }
   ],
   "source": [
    "df_by_asset_class.loc[:, ['asset_class', 'wt']]"
   ]
  },
  {
   "cell_type": "code",
   "execution_count": 71,
   "id": "bef95508",
   "metadata": {
    "ExecuteTime": {
     "end_time": "2021-04-23T01:39:35.134688Z",
     "start_time": "2021-04-23T01:39:34.502383Z"
    }
   },
   "outputs": [
    {
     "data": {
      "application/vnd.plotly.v1+json": {
       "config": {
        "plotlyServerURL": "https://plot.ly"
       },
       "data": [
        {
         "alignmentgroup": "True",
         "hovertemplate": "자산군=%{x}<br>비중=%{y}<extra></extra>",
         "legendgroup": "Equity",
         "marker": {
          "color": "#636efa"
         },
         "name": "Equity",
         "offsetgroup": "Equity",
         "orientation": "v",
         "showlegend": true,
         "textposition": "auto",
         "type": "bar",
         "x": [
          "Equity"
         ],
         "xaxis": "x",
         "y": [
          0.6777650000000001
         ],
         "yaxis": "y"
        },
        {
         "alignmentgroup": "True",
         "hovertemplate": "자산군=%{x}<br>비중=%{y}<extra></extra>",
         "legendgroup": "Cash",
         "marker": {
          "color": "#EF553B"
         },
         "name": "Cash",
         "offsetgroup": "Cash",
         "orientation": "v",
         "showlegend": true,
         "textposition": "auto",
         "type": "bar",
         "x": [
          "Cash"
         ],
         "xaxis": "x",
         "y": [
          0.189441
         ],
         "yaxis": "y"
        },
        {
         "alignmentgroup": "True",
         "hovertemplate": "자산군=%{x}<br>비중=%{y}<extra></extra>",
         "legendgroup": "Fixed Income",
         "marker": {
          "color": "#00cc96"
         },
         "name": "Fixed Income",
         "offsetgroup": "Fixed Income",
         "orientation": "v",
         "showlegend": true,
         "textposition": "auto",
         "type": "bar",
         "x": [
          "Fixed Income"
         ],
         "xaxis": "x",
         "y": [
          0.122404
         ],
         "yaxis": "y"
        },
        {
         "alignmentgroup": "True",
         "hovertemplate": "자산군=%{x}<br>비중=%{y}<extra></extra>",
         "legendgroup": "Alternative",
         "marker": {
          "color": "#ab63fa"
         },
         "name": "Alternative",
         "offsetgroup": "Alternative",
         "orientation": "v",
         "showlegend": true,
         "textposition": "auto",
         "type": "bar",
         "x": [
          "Alternative"
         ],
         "xaxis": "x",
         "y": [
          0.01039
         ],
         "yaxis": "y"
        }
       ],
       "layout": {
        "barmode": "relative",
        "legend": {
         "title": {
          "text": "자산군"
         },
         "tracegroupgap": 0
        },
        "template": {
         "data": {
          "bar": [
           {
            "error_x": {
             "color": "#f2f5fa"
            },
            "error_y": {
             "color": "#f2f5fa"
            },
            "marker": {
             "line": {
              "color": "rgb(17,17,17)",
              "width": 0.5
             }
            },
            "type": "bar"
           }
          ],
          "barpolar": [
           {
            "marker": {
             "line": {
              "color": "rgb(17,17,17)",
              "width": 0.5
             }
            },
            "type": "barpolar"
           }
          ],
          "carpet": [
           {
            "aaxis": {
             "endlinecolor": "#A2B1C6",
             "gridcolor": "#506784",
             "linecolor": "#506784",
             "minorgridcolor": "#506784",
             "startlinecolor": "#A2B1C6"
            },
            "baxis": {
             "endlinecolor": "#A2B1C6",
             "gridcolor": "#506784",
             "linecolor": "#506784",
             "minorgridcolor": "#506784",
             "startlinecolor": "#A2B1C6"
            },
            "type": "carpet"
           }
          ],
          "choropleth": [
           {
            "colorbar": {
             "outlinewidth": 0,
             "ticks": ""
            },
            "type": "choropleth"
           }
          ],
          "contour": [
           {
            "colorbar": {
             "outlinewidth": 0,
             "ticks": ""
            },
            "colorscale": [
             [
              0,
              "#0d0887"
             ],
             [
              0.1111111111111111,
              "#46039f"
             ],
             [
              0.2222222222222222,
              "#7201a8"
             ],
             [
              0.3333333333333333,
              "#9c179e"
             ],
             [
              0.4444444444444444,
              "#bd3786"
             ],
             [
              0.5555555555555556,
              "#d8576b"
             ],
             [
              0.6666666666666666,
              "#ed7953"
             ],
             [
              0.7777777777777778,
              "#fb9f3a"
             ],
             [
              0.8888888888888888,
              "#fdca26"
             ],
             [
              1,
              "#f0f921"
             ]
            ],
            "type": "contour"
           }
          ],
          "contourcarpet": [
           {
            "colorbar": {
             "outlinewidth": 0,
             "ticks": ""
            },
            "type": "contourcarpet"
           }
          ],
          "heatmap": [
           {
            "colorbar": {
             "outlinewidth": 0,
             "ticks": ""
            },
            "colorscale": [
             [
              0,
              "#0d0887"
             ],
             [
              0.1111111111111111,
              "#46039f"
             ],
             [
              0.2222222222222222,
              "#7201a8"
             ],
             [
              0.3333333333333333,
              "#9c179e"
             ],
             [
              0.4444444444444444,
              "#bd3786"
             ],
             [
              0.5555555555555556,
              "#d8576b"
             ],
             [
              0.6666666666666666,
              "#ed7953"
             ],
             [
              0.7777777777777778,
              "#fb9f3a"
             ],
             [
              0.8888888888888888,
              "#fdca26"
             ],
             [
              1,
              "#f0f921"
             ]
            ],
            "type": "heatmap"
           }
          ],
          "heatmapgl": [
           {
            "colorbar": {
             "outlinewidth": 0,
             "ticks": ""
            },
            "colorscale": [
             [
              0,
              "#0d0887"
             ],
             [
              0.1111111111111111,
              "#46039f"
             ],
             [
              0.2222222222222222,
              "#7201a8"
             ],
             [
              0.3333333333333333,
              "#9c179e"
             ],
             [
              0.4444444444444444,
              "#bd3786"
             ],
             [
              0.5555555555555556,
              "#d8576b"
             ],
             [
              0.6666666666666666,
              "#ed7953"
             ],
             [
              0.7777777777777778,
              "#fb9f3a"
             ],
             [
              0.8888888888888888,
              "#fdca26"
             ],
             [
              1,
              "#f0f921"
             ]
            ],
            "type": "heatmapgl"
           }
          ],
          "histogram": [
           {
            "marker": {
             "colorbar": {
              "outlinewidth": 0,
              "ticks": ""
             }
            },
            "type": "histogram"
           }
          ],
          "histogram2d": [
           {
            "colorbar": {
             "outlinewidth": 0,
             "ticks": ""
            },
            "colorscale": [
             [
              0,
              "#0d0887"
             ],
             [
              0.1111111111111111,
              "#46039f"
             ],
             [
              0.2222222222222222,
              "#7201a8"
             ],
             [
              0.3333333333333333,
              "#9c179e"
             ],
             [
              0.4444444444444444,
              "#bd3786"
             ],
             [
              0.5555555555555556,
              "#d8576b"
             ],
             [
              0.6666666666666666,
              "#ed7953"
             ],
             [
              0.7777777777777778,
              "#fb9f3a"
             ],
             [
              0.8888888888888888,
              "#fdca26"
             ],
             [
              1,
              "#f0f921"
             ]
            ],
            "type": "histogram2d"
           }
          ],
          "histogram2dcontour": [
           {
            "colorbar": {
             "outlinewidth": 0,
             "ticks": ""
            },
            "colorscale": [
             [
              0,
              "#0d0887"
             ],
             [
              0.1111111111111111,
              "#46039f"
             ],
             [
              0.2222222222222222,
              "#7201a8"
             ],
             [
              0.3333333333333333,
              "#9c179e"
             ],
             [
              0.4444444444444444,
              "#bd3786"
             ],
             [
              0.5555555555555556,
              "#d8576b"
             ],
             [
              0.6666666666666666,
              "#ed7953"
             ],
             [
              0.7777777777777778,
              "#fb9f3a"
             ],
             [
              0.8888888888888888,
              "#fdca26"
             ],
             [
              1,
              "#f0f921"
             ]
            ],
            "type": "histogram2dcontour"
           }
          ],
          "mesh3d": [
           {
            "colorbar": {
             "outlinewidth": 0,
             "ticks": ""
            },
            "type": "mesh3d"
           }
          ],
          "parcoords": [
           {
            "line": {
             "colorbar": {
              "outlinewidth": 0,
              "ticks": ""
             }
            },
            "type": "parcoords"
           }
          ],
          "pie": [
           {
            "automargin": true,
            "type": "pie"
           }
          ],
          "scatter": [
           {
            "marker": {
             "line": {
              "color": "#283442"
             }
            },
            "type": "scatter"
           }
          ],
          "scatter3d": [
           {
            "line": {
             "colorbar": {
              "outlinewidth": 0,
              "ticks": ""
             }
            },
            "marker": {
             "colorbar": {
              "outlinewidth": 0,
              "ticks": ""
             }
            },
            "type": "scatter3d"
           }
          ],
          "scattercarpet": [
           {
            "marker": {
             "colorbar": {
              "outlinewidth": 0,
              "ticks": ""
             }
            },
            "type": "scattercarpet"
           }
          ],
          "scattergeo": [
           {
            "marker": {
             "colorbar": {
              "outlinewidth": 0,
              "ticks": ""
             }
            },
            "type": "scattergeo"
           }
          ],
          "scattergl": [
           {
            "marker": {
             "line": {
              "color": "#283442"
             }
            },
            "type": "scattergl"
           }
          ],
          "scattermapbox": [
           {
            "marker": {
             "colorbar": {
              "outlinewidth": 0,
              "ticks": ""
             }
            },
            "type": "scattermapbox"
           }
          ],
          "scatterpolar": [
           {
            "marker": {
             "colorbar": {
              "outlinewidth": 0,
              "ticks": ""
             }
            },
            "type": "scatterpolar"
           }
          ],
          "scatterpolargl": [
           {
            "marker": {
             "colorbar": {
              "outlinewidth": 0,
              "ticks": ""
             }
            },
            "type": "scatterpolargl"
           }
          ],
          "scatterternary": [
           {
            "marker": {
             "colorbar": {
              "outlinewidth": 0,
              "ticks": ""
             }
            },
            "type": "scatterternary"
           }
          ],
          "surface": [
           {
            "colorbar": {
             "outlinewidth": 0,
             "ticks": ""
            },
            "colorscale": [
             [
              0,
              "#0d0887"
             ],
             [
              0.1111111111111111,
              "#46039f"
             ],
             [
              0.2222222222222222,
              "#7201a8"
             ],
             [
              0.3333333333333333,
              "#9c179e"
             ],
             [
              0.4444444444444444,
              "#bd3786"
             ],
             [
              0.5555555555555556,
              "#d8576b"
             ],
             [
              0.6666666666666666,
              "#ed7953"
             ],
             [
              0.7777777777777778,
              "#fb9f3a"
             ],
             [
              0.8888888888888888,
              "#fdca26"
             ],
             [
              1,
              "#f0f921"
             ]
            ],
            "type": "surface"
           }
          ],
          "table": [
           {
            "cells": {
             "fill": {
              "color": "#506784"
             },
             "line": {
              "color": "rgb(17,17,17)"
             }
            },
            "header": {
             "fill": {
              "color": "#2a3f5f"
             },
             "line": {
              "color": "rgb(17,17,17)"
             }
            },
            "type": "table"
           }
          ]
         },
         "layout": {
          "annotationdefaults": {
           "arrowcolor": "#f2f5fa",
           "arrowhead": 0,
           "arrowwidth": 1
          },
          "autotypenumbers": "strict",
          "coloraxis": {
           "colorbar": {
            "outlinewidth": 0,
            "ticks": ""
           }
          },
          "colorscale": {
           "diverging": [
            [
             0,
             "#8e0152"
            ],
            [
             0.1,
             "#c51b7d"
            ],
            [
             0.2,
             "#de77ae"
            ],
            [
             0.3,
             "#f1b6da"
            ],
            [
             0.4,
             "#fde0ef"
            ],
            [
             0.5,
             "#f7f7f7"
            ],
            [
             0.6,
             "#e6f5d0"
            ],
            [
             0.7,
             "#b8e186"
            ],
            [
             0.8,
             "#7fbc41"
            ],
            [
             0.9,
             "#4d9221"
            ],
            [
             1,
             "#276419"
            ]
           ],
           "sequential": [
            [
             0,
             "#0d0887"
            ],
            [
             0.1111111111111111,
             "#46039f"
            ],
            [
             0.2222222222222222,
             "#7201a8"
            ],
            [
             0.3333333333333333,
             "#9c179e"
            ],
            [
             0.4444444444444444,
             "#bd3786"
            ],
            [
             0.5555555555555556,
             "#d8576b"
            ],
            [
             0.6666666666666666,
             "#ed7953"
            ],
            [
             0.7777777777777778,
             "#fb9f3a"
            ],
            [
             0.8888888888888888,
             "#fdca26"
            ],
            [
             1,
             "#f0f921"
            ]
           ],
           "sequentialminus": [
            [
             0,
             "#0d0887"
            ],
            [
             0.1111111111111111,
             "#46039f"
            ],
            [
             0.2222222222222222,
             "#7201a8"
            ],
            [
             0.3333333333333333,
             "#9c179e"
            ],
            [
             0.4444444444444444,
             "#bd3786"
            ],
            [
             0.5555555555555556,
             "#d8576b"
            ],
            [
             0.6666666666666666,
             "#ed7953"
            ],
            [
             0.7777777777777778,
             "#fb9f3a"
            ],
            [
             0.8888888888888888,
             "#fdca26"
            ],
            [
             1,
             "#f0f921"
            ]
           ]
          },
          "colorway": [
           "#636efa",
           "#EF553B",
           "#00cc96",
           "#ab63fa",
           "#FFA15A",
           "#19d3f3",
           "#FF6692",
           "#B6E880",
           "#FF97FF",
           "#FECB52"
          ],
          "font": {
           "color": "#f2f5fa"
          },
          "geo": {
           "bgcolor": "rgb(17,17,17)",
           "lakecolor": "rgb(17,17,17)",
           "landcolor": "rgb(17,17,17)",
           "showlakes": true,
           "showland": true,
           "subunitcolor": "#506784"
          },
          "hoverlabel": {
           "align": "left"
          },
          "hovermode": "closest",
          "mapbox": {
           "style": "dark"
          },
          "paper_bgcolor": "rgb(17,17,17)",
          "plot_bgcolor": "rgb(17,17,17)",
          "polar": {
           "angularaxis": {
            "gridcolor": "#506784",
            "linecolor": "#506784",
            "ticks": ""
           },
           "bgcolor": "rgb(17,17,17)",
           "radialaxis": {
            "gridcolor": "#506784",
            "linecolor": "#506784",
            "ticks": ""
           }
          },
          "scene": {
           "xaxis": {
            "backgroundcolor": "rgb(17,17,17)",
            "gridcolor": "#506784",
            "gridwidth": 2,
            "linecolor": "#506784",
            "showbackground": true,
            "ticks": "",
            "zerolinecolor": "#C8D4E3"
           },
           "yaxis": {
            "backgroundcolor": "rgb(17,17,17)",
            "gridcolor": "#506784",
            "gridwidth": 2,
            "linecolor": "#506784",
            "showbackground": true,
            "ticks": "",
            "zerolinecolor": "#C8D4E3"
           },
           "zaxis": {
            "backgroundcolor": "rgb(17,17,17)",
            "gridcolor": "#506784",
            "gridwidth": 2,
            "linecolor": "#506784",
            "showbackground": true,
            "ticks": "",
            "zerolinecolor": "#C8D4E3"
           }
          },
          "shapedefaults": {
           "line": {
            "color": "#f2f5fa"
           }
          },
          "sliderdefaults": {
           "bgcolor": "#C8D4E3",
           "bordercolor": "rgb(17,17,17)",
           "borderwidth": 1,
           "tickwidth": 0
          },
          "ternary": {
           "aaxis": {
            "gridcolor": "#506784",
            "linecolor": "#506784",
            "ticks": ""
           },
           "baxis": {
            "gridcolor": "#506784",
            "linecolor": "#506784",
            "ticks": ""
           },
           "bgcolor": "rgb(17,17,17)",
           "caxis": {
            "gridcolor": "#506784",
            "linecolor": "#506784",
            "ticks": ""
           }
          },
          "title": {
           "x": 0.05
          },
          "updatemenudefaults": {
           "bgcolor": "#506784",
           "borderwidth": 0
          },
          "xaxis": {
           "automargin": true,
           "gridcolor": "#283442",
           "linecolor": "#506784",
           "ticks": "",
           "title": {
            "standoff": 15
           },
           "zerolinecolor": "#283442",
           "zerolinewidth": 2
          },
          "yaxis": {
           "automargin": true,
           "gridcolor": "#283442",
           "linecolor": "#506784",
           "ticks": "",
           "title": {
            "standoff": 15
           },
           "zerolinecolor": "#283442",
           "zerolinewidth": 2
          }
         }
        },
        "title": {
         "text": "자산군별 비중"
        },
        "xaxis": {
         "anchor": "y",
         "categoryarray": [
          "Equity",
          "Cash",
          "Fixed Income",
          "Alternative"
         ],
         "categoryorder": "array",
         "domain": [
          0,
          1
         ],
         "title": {
          "text": "자산군"
         }
        },
        "yaxis": {
         "anchor": "x",
         "domain": [
          0,
          1
         ],
         "title": {
          "text": "비중"
         }
        }
       }
      },
      "text/html": [
       "<div>                            <div id=\"b2afe6bc-0bf3-4308-ba3b-b9dc4e24dfda\" class=\"plotly-graph-div\" style=\"height:525px; width:100%;\"></div>            <script type=\"text/javascript\">                require([\"plotly\"], function(Plotly) {                    window.PLOTLYENV=window.PLOTLYENV || {};                                    if (document.getElementById(\"b2afe6bc-0bf3-4308-ba3b-b9dc4e24dfda\")) {                    Plotly.newPlot(                        \"b2afe6bc-0bf3-4308-ba3b-b9dc4e24dfda\",                        [{\"alignmentgroup\": \"True\", \"hovertemplate\": \"\\uc790\\uc0b0\\uad70=%{x}<br>\\ube44\\uc911=%{y}<extra></extra>\", \"legendgroup\": \"Equity\", \"marker\": {\"color\": \"#636efa\"}, \"name\": \"Equity\", \"offsetgroup\": \"Equity\", \"orientation\": \"v\", \"showlegend\": true, \"textposition\": \"auto\", \"type\": \"bar\", \"x\": [\"Equity\"], \"xaxis\": \"x\", \"y\": [0.6777650000000001], \"yaxis\": \"y\"}, {\"alignmentgroup\": \"True\", \"hovertemplate\": \"\\uc790\\uc0b0\\uad70=%{x}<br>\\ube44\\uc911=%{y}<extra></extra>\", \"legendgroup\": \"Cash\", \"marker\": {\"color\": \"#EF553B\"}, \"name\": \"Cash\", \"offsetgroup\": \"Cash\", \"orientation\": \"v\", \"showlegend\": true, \"textposition\": \"auto\", \"type\": \"bar\", \"x\": [\"Cash\"], \"xaxis\": \"x\", \"y\": [0.189441], \"yaxis\": \"y\"}, {\"alignmentgroup\": \"True\", \"hovertemplate\": \"\\uc790\\uc0b0\\uad70=%{x}<br>\\ube44\\uc911=%{y}<extra></extra>\", \"legendgroup\": \"Fixed Income\", \"marker\": {\"color\": \"#00cc96\"}, \"name\": \"Fixed Income\", \"offsetgroup\": \"Fixed Income\", \"orientation\": \"v\", \"showlegend\": true, \"textposition\": \"auto\", \"type\": \"bar\", \"x\": [\"Fixed Income\"], \"xaxis\": \"x\", \"y\": [0.122404], \"yaxis\": \"y\"}, {\"alignmentgroup\": \"True\", \"hovertemplate\": \"\\uc790\\uc0b0\\uad70=%{x}<br>\\ube44\\uc911=%{y}<extra></extra>\", \"legendgroup\": \"Alternative\", \"marker\": {\"color\": \"#ab63fa\"}, \"name\": \"Alternative\", \"offsetgroup\": \"Alternative\", \"orientation\": \"v\", \"showlegend\": true, \"textposition\": \"auto\", \"type\": \"bar\", \"x\": [\"Alternative\"], \"xaxis\": \"x\", \"y\": [0.01039], \"yaxis\": \"y\"}],                        {\"barmode\": \"relative\", \"legend\": {\"title\": {\"text\": \"\\uc790\\uc0b0\\uad70\"}, \"tracegroupgap\": 0}, \"template\": {\"data\": {\"bar\": [{\"error_x\": {\"color\": \"#f2f5fa\"}, \"error_y\": {\"color\": \"#f2f5fa\"}, \"marker\": {\"line\": {\"color\": \"rgb(17,17,17)\", \"width\": 0.5}}, \"type\": \"bar\"}], \"barpolar\": [{\"marker\": {\"line\": {\"color\": \"rgb(17,17,17)\", \"width\": 0.5}}, \"type\": \"barpolar\"}], \"carpet\": [{\"aaxis\": {\"endlinecolor\": \"#A2B1C6\", \"gridcolor\": \"#506784\", \"linecolor\": \"#506784\", \"minorgridcolor\": \"#506784\", \"startlinecolor\": \"#A2B1C6\"}, \"baxis\": {\"endlinecolor\": \"#A2B1C6\", \"gridcolor\": \"#506784\", \"linecolor\": \"#506784\", \"minorgridcolor\": \"#506784\", \"startlinecolor\": \"#A2B1C6\"}, \"type\": \"carpet\"}], \"choropleth\": [{\"colorbar\": {\"outlinewidth\": 0, \"ticks\": \"\"}, \"type\": \"choropleth\"}], \"contour\": [{\"colorbar\": {\"outlinewidth\": 0, \"ticks\": \"\"}, \"colorscale\": [[0.0, \"#0d0887\"], [0.1111111111111111, \"#46039f\"], [0.2222222222222222, \"#7201a8\"], [0.3333333333333333, \"#9c179e\"], [0.4444444444444444, \"#bd3786\"], [0.5555555555555556, \"#d8576b\"], [0.6666666666666666, \"#ed7953\"], [0.7777777777777778, \"#fb9f3a\"], [0.8888888888888888, \"#fdca26\"], [1.0, \"#f0f921\"]], \"type\": \"contour\"}], \"contourcarpet\": [{\"colorbar\": {\"outlinewidth\": 0, \"ticks\": \"\"}, \"type\": \"contourcarpet\"}], \"heatmap\": [{\"colorbar\": {\"outlinewidth\": 0, \"ticks\": \"\"}, \"colorscale\": [[0.0, \"#0d0887\"], [0.1111111111111111, \"#46039f\"], [0.2222222222222222, \"#7201a8\"], [0.3333333333333333, \"#9c179e\"], [0.4444444444444444, \"#bd3786\"], [0.5555555555555556, \"#d8576b\"], [0.6666666666666666, \"#ed7953\"], [0.7777777777777778, \"#fb9f3a\"], [0.8888888888888888, \"#fdca26\"], [1.0, \"#f0f921\"]], \"type\": \"heatmap\"}], \"heatmapgl\": [{\"colorbar\": {\"outlinewidth\": 0, \"ticks\": \"\"}, \"colorscale\": [[0.0, \"#0d0887\"], [0.1111111111111111, \"#46039f\"], [0.2222222222222222, \"#7201a8\"], [0.3333333333333333, \"#9c179e\"], [0.4444444444444444, \"#bd3786\"], [0.5555555555555556, \"#d8576b\"], [0.6666666666666666, \"#ed7953\"], [0.7777777777777778, \"#fb9f3a\"], [0.8888888888888888, \"#fdca26\"], [1.0, \"#f0f921\"]], \"type\": \"heatmapgl\"}], \"histogram\": [{\"marker\": {\"colorbar\": {\"outlinewidth\": 0, \"ticks\": \"\"}}, \"type\": \"histogram\"}], \"histogram2d\": [{\"colorbar\": {\"outlinewidth\": 0, \"ticks\": \"\"}, \"colorscale\": [[0.0, \"#0d0887\"], [0.1111111111111111, \"#46039f\"], [0.2222222222222222, \"#7201a8\"], [0.3333333333333333, \"#9c179e\"], [0.4444444444444444, \"#bd3786\"], [0.5555555555555556, \"#d8576b\"], [0.6666666666666666, \"#ed7953\"], [0.7777777777777778, \"#fb9f3a\"], [0.8888888888888888, \"#fdca26\"], [1.0, \"#f0f921\"]], \"type\": \"histogram2d\"}], \"histogram2dcontour\": [{\"colorbar\": {\"outlinewidth\": 0, \"ticks\": \"\"}, \"colorscale\": [[0.0, \"#0d0887\"], [0.1111111111111111, \"#46039f\"], [0.2222222222222222, \"#7201a8\"], [0.3333333333333333, \"#9c179e\"], [0.4444444444444444, \"#bd3786\"], [0.5555555555555556, \"#d8576b\"], [0.6666666666666666, \"#ed7953\"], [0.7777777777777778, \"#fb9f3a\"], [0.8888888888888888, \"#fdca26\"], [1.0, \"#f0f921\"]], \"type\": \"histogram2dcontour\"}], \"mesh3d\": [{\"colorbar\": {\"outlinewidth\": 0, \"ticks\": \"\"}, \"type\": \"mesh3d\"}], \"parcoords\": [{\"line\": {\"colorbar\": {\"outlinewidth\": 0, \"ticks\": \"\"}}, \"type\": \"parcoords\"}], \"pie\": [{\"automargin\": true, \"type\": \"pie\"}], \"scatter\": [{\"marker\": {\"line\": {\"color\": \"#283442\"}}, \"type\": \"scatter\"}], \"scatter3d\": [{\"line\": {\"colorbar\": {\"outlinewidth\": 0, \"ticks\": \"\"}}, \"marker\": {\"colorbar\": {\"outlinewidth\": 0, \"ticks\": \"\"}}, \"type\": \"scatter3d\"}], \"scattercarpet\": [{\"marker\": {\"colorbar\": {\"outlinewidth\": 0, \"ticks\": \"\"}}, \"type\": \"scattercarpet\"}], \"scattergeo\": [{\"marker\": {\"colorbar\": {\"outlinewidth\": 0, \"ticks\": \"\"}}, \"type\": \"scattergeo\"}], \"scattergl\": [{\"marker\": {\"line\": {\"color\": \"#283442\"}}, \"type\": \"scattergl\"}], \"scattermapbox\": [{\"marker\": {\"colorbar\": {\"outlinewidth\": 0, \"ticks\": \"\"}}, \"type\": \"scattermapbox\"}], \"scatterpolar\": [{\"marker\": {\"colorbar\": {\"outlinewidth\": 0, \"ticks\": \"\"}}, \"type\": \"scatterpolar\"}], \"scatterpolargl\": [{\"marker\": {\"colorbar\": {\"outlinewidth\": 0, \"ticks\": \"\"}}, \"type\": \"scatterpolargl\"}], \"scatterternary\": [{\"marker\": {\"colorbar\": {\"outlinewidth\": 0, \"ticks\": \"\"}}, \"type\": \"scatterternary\"}], \"surface\": [{\"colorbar\": {\"outlinewidth\": 0, \"ticks\": \"\"}, \"colorscale\": [[0.0, \"#0d0887\"], [0.1111111111111111, \"#46039f\"], [0.2222222222222222, \"#7201a8\"], [0.3333333333333333, \"#9c179e\"], [0.4444444444444444, \"#bd3786\"], [0.5555555555555556, \"#d8576b\"], [0.6666666666666666, \"#ed7953\"], [0.7777777777777778, \"#fb9f3a\"], [0.8888888888888888, \"#fdca26\"], [1.0, \"#f0f921\"]], \"type\": \"surface\"}], \"table\": [{\"cells\": {\"fill\": {\"color\": \"#506784\"}, \"line\": {\"color\": \"rgb(17,17,17)\"}}, \"header\": {\"fill\": {\"color\": \"#2a3f5f\"}, \"line\": {\"color\": \"rgb(17,17,17)\"}}, \"type\": \"table\"}]}, \"layout\": {\"annotationdefaults\": {\"arrowcolor\": \"#f2f5fa\", \"arrowhead\": 0, \"arrowwidth\": 1}, \"autotypenumbers\": \"strict\", \"coloraxis\": {\"colorbar\": {\"outlinewidth\": 0, \"ticks\": \"\"}}, \"colorscale\": {\"diverging\": [[0, \"#8e0152\"], [0.1, \"#c51b7d\"], [0.2, \"#de77ae\"], [0.3, \"#f1b6da\"], [0.4, \"#fde0ef\"], [0.5, \"#f7f7f7\"], [0.6, \"#e6f5d0\"], [0.7, \"#b8e186\"], [0.8, \"#7fbc41\"], [0.9, \"#4d9221\"], [1, \"#276419\"]], \"sequential\": [[0.0, \"#0d0887\"], [0.1111111111111111, \"#46039f\"], [0.2222222222222222, \"#7201a8\"], [0.3333333333333333, \"#9c179e\"], [0.4444444444444444, \"#bd3786\"], [0.5555555555555556, \"#d8576b\"], [0.6666666666666666, \"#ed7953\"], [0.7777777777777778, \"#fb9f3a\"], [0.8888888888888888, \"#fdca26\"], [1.0, \"#f0f921\"]], \"sequentialminus\": [[0.0, \"#0d0887\"], [0.1111111111111111, \"#46039f\"], [0.2222222222222222, \"#7201a8\"], [0.3333333333333333, \"#9c179e\"], [0.4444444444444444, \"#bd3786\"], [0.5555555555555556, \"#d8576b\"], [0.6666666666666666, \"#ed7953\"], [0.7777777777777778, \"#fb9f3a\"], [0.8888888888888888, \"#fdca26\"], [1.0, \"#f0f921\"]]}, \"colorway\": [\"#636efa\", \"#EF553B\", \"#00cc96\", \"#ab63fa\", \"#FFA15A\", \"#19d3f3\", \"#FF6692\", \"#B6E880\", \"#FF97FF\", \"#FECB52\"], \"font\": {\"color\": \"#f2f5fa\"}, \"geo\": {\"bgcolor\": \"rgb(17,17,17)\", \"lakecolor\": \"rgb(17,17,17)\", \"landcolor\": \"rgb(17,17,17)\", \"showlakes\": true, \"showland\": true, \"subunitcolor\": \"#506784\"}, \"hoverlabel\": {\"align\": \"left\"}, \"hovermode\": \"closest\", \"mapbox\": {\"style\": \"dark\"}, \"paper_bgcolor\": \"rgb(17,17,17)\", \"plot_bgcolor\": \"rgb(17,17,17)\", \"polar\": {\"angularaxis\": {\"gridcolor\": \"#506784\", \"linecolor\": \"#506784\", \"ticks\": \"\"}, \"bgcolor\": \"rgb(17,17,17)\", \"radialaxis\": {\"gridcolor\": \"#506784\", \"linecolor\": \"#506784\", \"ticks\": \"\"}}, \"scene\": {\"xaxis\": {\"backgroundcolor\": \"rgb(17,17,17)\", \"gridcolor\": \"#506784\", \"gridwidth\": 2, \"linecolor\": \"#506784\", \"showbackground\": true, \"ticks\": \"\", \"zerolinecolor\": \"#C8D4E3\"}, \"yaxis\": {\"backgroundcolor\": \"rgb(17,17,17)\", \"gridcolor\": \"#506784\", \"gridwidth\": 2, \"linecolor\": \"#506784\", \"showbackground\": true, \"ticks\": \"\", \"zerolinecolor\": \"#C8D4E3\"}, \"zaxis\": {\"backgroundcolor\": \"rgb(17,17,17)\", \"gridcolor\": \"#506784\", \"gridwidth\": 2, \"linecolor\": \"#506784\", \"showbackground\": true, \"ticks\": \"\", \"zerolinecolor\": \"#C8D4E3\"}}, \"shapedefaults\": {\"line\": {\"color\": \"#f2f5fa\"}}, \"sliderdefaults\": {\"bgcolor\": \"#C8D4E3\", \"bordercolor\": \"rgb(17,17,17)\", \"borderwidth\": 1, \"tickwidth\": 0}, \"ternary\": {\"aaxis\": {\"gridcolor\": \"#506784\", \"linecolor\": \"#506784\", \"ticks\": \"\"}, \"baxis\": {\"gridcolor\": \"#506784\", \"linecolor\": \"#506784\", \"ticks\": \"\"}, \"bgcolor\": \"rgb(17,17,17)\", \"caxis\": {\"gridcolor\": \"#506784\", \"linecolor\": \"#506784\", \"ticks\": \"\"}}, \"title\": {\"x\": 0.05}, \"updatemenudefaults\": {\"bgcolor\": \"#506784\", \"borderwidth\": 0}, \"xaxis\": {\"automargin\": true, \"gridcolor\": \"#283442\", \"linecolor\": \"#506784\", \"ticks\": \"\", \"title\": {\"standoff\": 15}, \"zerolinecolor\": \"#283442\", \"zerolinewidth\": 2}, \"yaxis\": {\"automargin\": true, \"gridcolor\": \"#283442\", \"linecolor\": \"#506784\", \"ticks\": \"\", \"title\": {\"standoff\": 15}, \"zerolinecolor\": \"#283442\", \"zerolinewidth\": 2}}}, \"title\": {\"text\": \"\\uc790\\uc0b0\\uad70\\ubcc4 \\ube44\\uc911\"}, \"xaxis\": {\"anchor\": \"y\", \"categoryarray\": [\"Equity\", \"Cash\", \"Fixed Income\", \"Alternative\"], \"categoryorder\": \"array\", \"domain\": [0.0, 1.0], \"title\": {\"text\": \"\\uc790\\uc0b0\\uad70\"}}, \"yaxis\": {\"anchor\": \"x\", \"domain\": [0.0, 1.0], \"title\": {\"text\": \"\\ube44\\uc911\"}}},                        {\"responsive\": true}                    ).then(function(){\n",
       "                            \n",
       "var gd = document.getElementById('b2afe6bc-0bf3-4308-ba3b-b9dc4e24dfda');\n",
       "var x = new MutationObserver(function (mutations, observer) {{\n",
       "        var display = window.getComputedStyle(gd).display;\n",
       "        if (!display || display === 'none') {{\n",
       "            console.log([gd, 'removed!']);\n",
       "            Plotly.purge(gd);\n",
       "            observer.disconnect();\n",
       "        }}\n",
       "}});\n",
       "\n",
       "// Listen for the removal of the full notebook cells\n",
       "var notebookContainer = gd.closest('#notebook-container');\n",
       "if (notebookContainer) {{\n",
       "    x.observe(notebookContainer, {childList: true});\n",
       "}}\n",
       "\n",
       "// Listen for the clearing of the current output cell\n",
       "var outputEl = gd.closest('.output');\n",
       "if (outputEl) {{\n",
       "    x.observe(outputEl, {childList: true});\n",
       "}}\n",
       "\n",
       "                        })                };                });            </script>        </div>"
      ]
     },
     "metadata": {},
     "output_type": "display_data"
    }
   ],
   "source": [
    "fig2 = px.bar(df_by_asset_class, y = 'wt', x = 'asset_class', title = '자산군별 비중',\n",
    "       labels = {'asset_class': '자산군', 'wt': '비중'},\n",
    "       orientation = 'v', color = \"asset_class\", color_continuous_scale = 'darkmint',\n",
    "        template = 'plotly_dark')\n",
    "fig2.show()"
   ]
  },
  {
   "cell_type": "code",
   "execution_count": null,
   "id": "4744f8ea",
   "metadata": {},
   "outputs": [],
   "source": []
  },
  {
   "cell_type": "code",
   "execution_count": null,
   "id": "8fd6da16",
   "metadata": {},
   "outputs": [],
   "source": []
  }
 ],
 "metadata": {
  "kernelspec": {
   "display_name": "Python 3",
   "language": "python",
   "name": "python3"
  },
  "language_info": {
   "codemirror_mode": {
    "name": "ipython",
    "version": 3
   },
   "file_extension": ".py",
   "mimetype": "text/x-python",
   "name": "python",
   "nbconvert_exporter": "python",
   "pygments_lexer": "ipython3",
   "version": "3.8.8"
  }
 },
 "nbformat": 4,
 "nbformat_minor": 5
}
