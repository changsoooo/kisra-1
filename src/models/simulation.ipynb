{
 "cells": [
  {
   "cell_type": "code",
   "execution_count": 1,
   "id": "sunset-edition",
   "metadata": {
    "ExecuteTime": {
     "end_time": "2021-03-23T03:36:50.890810Z",
     "start_time": "2021-03-23T03:36:49.608280Z"
    }
   },
   "outputs": [],
   "source": [
    "import pandas as pd"
   ]
  },
  {
   "cell_type": "code",
   "execution_count": 5,
   "id": "surface-income",
   "metadata": {
    "ExecuteTime": {
     "end_time": "2021-03-23T05:13:02.026473Z",
     "start_time": "2021-03-23T05:13:02.022484Z"
    }
   },
   "outputs": [],
   "source": [
    "new_units = {'A122260': 2, 'A114260': 4, 'A130730': 2, 'A329650': 13, 'A266370': 4}\n",
    "prices = {'A122260': [101185.0, 'KRW'], 'A114260': [57900.0, 'KRW'], 'A130730': [100975.0, 'KRW'], 'A329650': [10980.0, 'KRW'], 'A266370': [21325.0, 'KRW']}"
   ]
  },
  {
   "cell_type": "code",
   "execution_count": null,
   "id": "ranging-bottom",
   "metadata": {},
   "outputs": [],
   "source": []
  }
 ],
 "metadata": {
  "kernelspec": {
   "display_name": "Python 3",
   "language": "python",
   "name": "python3"
  },
  "language_info": {
   "codemirror_mode": {
    "name": "ipython",
    "version": 3
   },
   "file_extension": ".py",
   "mimetype": "text/x-python",
   "name": "python",
   "nbconvert_exporter": "python",
   "pygments_lexer": "ipython3",
   "version": "3.8.8"
  }
 },
 "nbformat": 4,
 "nbformat_minor": 5
}
