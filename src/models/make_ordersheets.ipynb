{
 "cells": [
  {
   "cell_type": "code",
   "execution_count": 17,
   "id": "independent-straight",
   "metadata": {
    "ExecuteTime": {
     "end_time": "2021-03-21T13:30:46.252434Z",
     "start_time": "2021-03-21T13:30:46.221873Z"
    }
   },
   "outputs": [
    {
     "name": "stdout",
     "output_type": "stream",
     "text": [
      "The autoreload extension is already loaded. To reload it, use:\n",
      "  %reload_ext autoreload\n"
     ]
    }
   ],
   "source": [
    "%load_ext autoreload\n",
    "%autoreload"
   ]
  },
  {
   "cell_type": "code",
   "execution_count": 10,
   "id": "equipped-valentine",
   "metadata": {
    "ExecuteTime": {
     "end_time": "2021-03-21T13:29:52.960586Z",
     "start_time": "2021-03-21T13:29:52.946735Z"
    }
   },
   "outputs": [
    {
     "data": {
      "text/plain": [
       "'/Users/msyeom/iCloud Drive (Archive)/Documents/Finance/Work/kisra'"
      ]
     },
     "execution_count": 10,
     "metadata": {},
     "output_type": "execute_result"
    }
   ],
   "source": [
    "import repackage"
   ]
  },
  {
   "cell_type": "code",
   "execution_count": 1,
   "id": "lonely-trial",
   "metadata": {
    "ExecuteTime": {
     "end_time": "2021-03-21T13:30:51.904239Z",
     "start_time": "2021-03-21T13:30:51.466876Z"
    }
   },
   "outputs": [],
   "source": [
    "from load_data import Balance, Instruments, AdvisedPortfolios, PriceDB, Singleton\n",
    "from utils import get_current_port, get_advised_port, get_recommendation\n",
    "\n",
    "from asset import Asset\n",
    "from price import Price\n",
    "from portfolio import Portfolio\n",
    "\n",
    "import pandas as pd"
   ]
  },
  {
   "cell_type": "code",
   "execution_count": 2,
   "id": "agreed-stewart",
   "metadata": {
    "ExecuteTime": {
     "end_time": "2021-03-21T13:30:51.910125Z",
     "start_time": "2021-03-21T13:30:51.906212Z"
    }
   },
   "outputs": [],
   "source": [
    "userid='A01'\n",
    "risk_profile=2"
   ]
  },
  {
   "cell_type": "markdown",
   "id": "united-shelter",
   "metadata": {},
   "source": [
    "#### `userid`로 사용자 최근잔고 잔고 불러오기\n",
    "- `balance`\n",
    "- `advised_pf`"
   ]
  },
  {
   "cell_type": "code",
   "execution_count": 3,
   "id": "similar-freight",
   "metadata": {
    "ExecuteTime": {
     "end_time": "2021-03-21T13:30:52.160678Z",
     "start_time": "2021-03-21T13:30:51.972001Z"
    }
   },
   "outputs": [
    {
     "ename": "FileNotFoundError",
     "evalue": "[Errno 2] No such file or directory: './data/processed/balance_s.pkl'",
     "output_type": "error",
     "traceback": [
      "\u001b[0;31m---------------------------------------------------------------------------\u001b[0m",
      "\u001b[0;31mAttributeError\u001b[0m                            Traceback (most recent call last)",
      "\u001b[0;32m~/iCloud Drive (Archive)/Documents/Finance/Work/kisra/src/models/load_data.py\u001b[0m in \u001b[0;36minstance\u001b[0;34m(self)\u001b[0m\n\u001b[1;32m     30\u001b[0m         \u001b[0;32mtry\u001b[0m\u001b[0;34m:\u001b[0m\u001b[0;34m\u001b[0m\u001b[0;34m\u001b[0m\u001b[0m\n\u001b[0;32m---> 31\u001b[0;31m             \u001b[0;32mreturn\u001b[0m \u001b[0mself\u001b[0m\u001b[0;34m.\u001b[0m\u001b[0m_instance\u001b[0m\u001b[0;34m\u001b[0m\u001b[0;34m\u001b[0m\u001b[0m\n\u001b[0m\u001b[1;32m     32\u001b[0m         \u001b[0;32mexcept\u001b[0m \u001b[0mAttributeError\u001b[0m\u001b[0;34m:\u001b[0m\u001b[0;34m\u001b[0m\u001b[0;34m\u001b[0m\u001b[0m\n",
      "\u001b[0;31mAttributeError\u001b[0m: 'Singleton' object has no attribute '_instance'",
      "\nDuring handling of the above exception, another exception occurred:\n",
      "\u001b[0;31mFileNotFoundError\u001b[0m                         Traceback (most recent call last)",
      "\u001b[0;32m<ipython-input-3-8c7ca8e2a5d6>\u001b[0m in \u001b[0;36m<module>\u001b[0;34m\u001b[0m\n\u001b[0;32m----> 1\u001b[0;31m \u001b[0mbalance\u001b[0m \u001b[0;34m=\u001b[0m \u001b[0mget_current_port\u001b[0m\u001b[0;34m(\u001b[0m\u001b[0muserid\u001b[0m\u001b[0;34m=\u001b[0m\u001b[0muserid\u001b[0m\u001b[0;34m)\u001b[0m\u001b[0;34m\u001b[0m\u001b[0;34m\u001b[0m\u001b[0m\n\u001b[0m",
      "\u001b[0;32m~/iCloud Drive (Archive)/Documents/Finance/Work/kisra/src/models/utils.py\u001b[0m in \u001b[0;36mget_current_port\u001b[0;34m(userid, latest_balance)\u001b[0m\n\u001b[1;32m     64\u001b[0m     \u001b[0;32melse\u001b[0m\u001b[0;34m:\u001b[0m\u001b[0;34m\u001b[0m\u001b[0;34m\u001b[0m\u001b[0m\n\u001b[1;32m     65\u001b[0m         \u001b[0;31m# Balance.instance()는 전 사용자의 잔고 상세내역 테이블의 인스턴스 반환.\u001b[0m\u001b[0;34m\u001b[0m\u001b[0;34m\u001b[0m\u001b[0;34m\u001b[0m\u001b[0m\n\u001b[0;32m---> 66\u001b[0;31m         \u001b[0mbalance_s\u001b[0m \u001b[0;34m=\u001b[0m \u001b[0mBalance\u001b[0m\u001b[0;34m.\u001b[0m\u001b[0minstance\u001b[0m\u001b[0;34m(\u001b[0m\u001b[0;34m)\u001b[0m\u001b[0;34m.\u001b[0m\u001b[0mdata\u001b[0m\u001b[0;34m\u001b[0m\u001b[0;34m\u001b[0m\u001b[0m\n\u001b[0m\u001b[1;32m     67\u001b[0m \u001b[0;34m\u001b[0m\u001b[0m\n\u001b[1;32m     68\u001b[0m         \u001b[0mlatest_date\u001b[0m \u001b[0;34m=\u001b[0m \u001b[0mbalance_s\u001b[0m\u001b[0;34m.\u001b[0m\u001b[0mgroupby\u001b[0m\u001b[0;34m(\u001b[0m\u001b[0mby\u001b[0m\u001b[0;34m=\u001b[0m\u001b[0;34m'userid'\u001b[0m\u001b[0;34m)\u001b[0m\u001b[0;34m[\u001b[0m\u001b[0;34m'date'\u001b[0m\u001b[0;34m]\u001b[0m\u001b[0;34m.\u001b[0m\u001b[0mmax\u001b[0m\u001b[0;34m(\u001b[0m\u001b[0;34m)\u001b[0m\u001b[0;34m[\u001b[0m\u001b[0muserid\u001b[0m\u001b[0;34m]\u001b[0m\u001b[0;34m\u001b[0m\u001b[0;34m\u001b[0m\u001b[0m\n",
      "\u001b[0;32m~/iCloud Drive (Archive)/Documents/Finance/Work/kisra/src/models/load_data.py\u001b[0m in \u001b[0;36minstance\u001b[0;34m(self)\u001b[0m\n\u001b[1;32m     31\u001b[0m             \u001b[0;32mreturn\u001b[0m \u001b[0mself\u001b[0m\u001b[0;34m.\u001b[0m\u001b[0m_instance\u001b[0m\u001b[0;34m\u001b[0m\u001b[0;34m\u001b[0m\u001b[0m\n\u001b[1;32m     32\u001b[0m         \u001b[0;32mexcept\u001b[0m \u001b[0mAttributeError\u001b[0m\u001b[0;34m:\u001b[0m\u001b[0;34m\u001b[0m\u001b[0;34m\u001b[0m\u001b[0m\n\u001b[0;32m---> 33\u001b[0;31m             \u001b[0mself\u001b[0m\u001b[0;34m.\u001b[0m\u001b[0m_instance\u001b[0m \u001b[0;34m=\u001b[0m \u001b[0mself\u001b[0m\u001b[0;34m.\u001b[0m\u001b[0m_decorated\u001b[0m\u001b[0;34m(\u001b[0m\u001b[0;34m)\u001b[0m\u001b[0;34m\u001b[0m\u001b[0;34m\u001b[0m\u001b[0m\n\u001b[0m\u001b[1;32m     34\u001b[0m             \u001b[0;32mreturn\u001b[0m \u001b[0mself\u001b[0m\u001b[0;34m.\u001b[0m\u001b[0m_instance\u001b[0m\u001b[0;34m\u001b[0m\u001b[0;34m\u001b[0m\u001b[0m\n\u001b[1;32m     35\u001b[0m \u001b[0;34m\u001b[0m\u001b[0m\n",
      "\u001b[0;32m~/iCloud Drive (Archive)/Documents/Finance/Work/kisra/src/models/load_data.py\u001b[0m in \u001b[0;36m__init__\u001b[0;34m(self)\u001b[0m\n\u001b[1;32m     47\u001b[0m         \u001b[0mself\u001b[0m\u001b[0;34m.\u001b[0m\u001b[0maccess_path\u001b[0m \u001b[0;34m=\u001b[0m \u001b[0;34m'./data/processed/'\u001b[0m\u001b[0;34m\u001b[0m\u001b[0;34m\u001b[0m\u001b[0m\n\u001b[1;32m     48\u001b[0m         \u001b[0mself\u001b[0m\u001b[0;34m.\u001b[0m\u001b[0mfilename\u001b[0m \u001b[0;34m=\u001b[0m \u001b[0;34m'balance_s.pkl'\u001b[0m\u001b[0;34m\u001b[0m\u001b[0;34m\u001b[0m\u001b[0m\n\u001b[0;32m---> 49\u001b[0;31m         \u001b[0mself\u001b[0m\u001b[0;34m.\u001b[0m\u001b[0mdata\u001b[0m \u001b[0;34m=\u001b[0m \u001b[0mpd\u001b[0m\u001b[0;34m.\u001b[0m\u001b[0mread_pickle\u001b[0m\u001b[0;34m(\u001b[0m\u001b[0mself\u001b[0m\u001b[0;34m.\u001b[0m\u001b[0maccess_path\u001b[0m\u001b[0;34m+\u001b[0m\u001b[0mself\u001b[0m\u001b[0;34m.\u001b[0m\u001b[0mfilename\u001b[0m\u001b[0;34m)\u001b[0m\u001b[0;34m\u001b[0m\u001b[0;34m\u001b[0m\u001b[0m\n\u001b[0m\u001b[1;32m     50\u001b[0m \u001b[0;34m\u001b[0m\u001b[0m\n\u001b[1;32m     51\u001b[0m \u001b[0;34m@\u001b[0m\u001b[0mSingleton\u001b[0m\u001b[0;34m\u001b[0m\u001b[0;34m\u001b[0m\u001b[0m\n",
      "\u001b[0;32m~/anaconda3/envs/ra/lib/python3.8/site-packages/pandas/io/pickle.py\u001b[0m in \u001b[0;36mread_pickle\u001b[0;34m(filepath_or_buffer, compression)\u001b[0m\n\u001b[1;32m    167\u001b[0m     \u001b[0;32mif\u001b[0m \u001b[0;32mnot\u001b[0m \u001b[0misinstance\u001b[0m\u001b[0;34m(\u001b[0m\u001b[0mfp_or_buf\u001b[0m\u001b[0;34m,\u001b[0m \u001b[0mstr\u001b[0m\u001b[0;34m)\u001b[0m \u001b[0;32mand\u001b[0m \u001b[0mcompression\u001b[0m \u001b[0;34m==\u001b[0m \u001b[0;34m\"infer\"\u001b[0m\u001b[0;34m:\u001b[0m\u001b[0;34m\u001b[0m\u001b[0;34m\u001b[0m\u001b[0m\n\u001b[1;32m    168\u001b[0m         \u001b[0mcompression\u001b[0m \u001b[0;34m=\u001b[0m \u001b[0;32mNone\u001b[0m\u001b[0;34m\u001b[0m\u001b[0;34m\u001b[0m\u001b[0m\n\u001b[0;32m--> 169\u001b[0;31m     \u001b[0mf\u001b[0m\u001b[0;34m,\u001b[0m \u001b[0mfh\u001b[0m \u001b[0;34m=\u001b[0m \u001b[0mget_handle\u001b[0m\u001b[0;34m(\u001b[0m\u001b[0mfp_or_buf\u001b[0m\u001b[0;34m,\u001b[0m \u001b[0;34m\"rb\"\u001b[0m\u001b[0;34m,\u001b[0m \u001b[0mcompression\u001b[0m\u001b[0;34m=\u001b[0m\u001b[0mcompression\u001b[0m\u001b[0;34m,\u001b[0m \u001b[0mis_text\u001b[0m\u001b[0;34m=\u001b[0m\u001b[0;32mFalse\u001b[0m\u001b[0;34m)\u001b[0m\u001b[0;34m\u001b[0m\u001b[0;34m\u001b[0m\u001b[0m\n\u001b[0m\u001b[1;32m    170\u001b[0m \u001b[0;34m\u001b[0m\u001b[0m\n\u001b[1;32m    171\u001b[0m     \u001b[0;31m# 1) try standard library Pickle\u001b[0m\u001b[0;34m\u001b[0m\u001b[0;34m\u001b[0m\u001b[0;34m\u001b[0m\u001b[0m\n",
      "\u001b[0;32m~/anaconda3/envs/ra/lib/python3.8/site-packages/pandas/io/common.py\u001b[0m in \u001b[0;36mget_handle\u001b[0;34m(path_or_buf, mode, encoding, compression, memory_map, is_text, errors)\u001b[0m\n\u001b[1;32m    497\u001b[0m         \u001b[0;32melse\u001b[0m\u001b[0;34m:\u001b[0m\u001b[0;34m\u001b[0m\u001b[0;34m\u001b[0m\u001b[0m\n\u001b[1;32m    498\u001b[0m             \u001b[0;31m# Binary mode\u001b[0m\u001b[0;34m\u001b[0m\u001b[0;34m\u001b[0m\u001b[0;34m\u001b[0m\u001b[0m\n\u001b[0;32m--> 499\u001b[0;31m             \u001b[0mf\u001b[0m \u001b[0;34m=\u001b[0m \u001b[0mopen\u001b[0m\u001b[0;34m(\u001b[0m\u001b[0mpath_or_buf\u001b[0m\u001b[0;34m,\u001b[0m \u001b[0mmode\u001b[0m\u001b[0;34m)\u001b[0m\u001b[0;34m\u001b[0m\u001b[0;34m\u001b[0m\u001b[0m\n\u001b[0m\u001b[1;32m    500\u001b[0m         \u001b[0mhandles\u001b[0m\u001b[0;34m.\u001b[0m\u001b[0mappend\u001b[0m\u001b[0;34m(\u001b[0m\u001b[0mf\u001b[0m\u001b[0;34m)\u001b[0m\u001b[0;34m\u001b[0m\u001b[0;34m\u001b[0m\u001b[0m\n\u001b[1;32m    501\u001b[0m \u001b[0;34m\u001b[0m\u001b[0m\n",
      "\u001b[0;31mFileNotFoundError\u001b[0m: [Errno 2] No such file or directory: './data/processed/balance_s.pkl'"
     ]
    }
   ],
   "source": [
    "balance = get_current_port(userid=userid)"
   ]
  },
  {
   "cell_type": "code",
   "execution_count": 4,
   "id": "micro-split",
   "metadata": {
    "ExecuteTime": {
     "end_time": "2021-03-21T13:30:53.753578Z",
     "start_time": "2021-03-21T13:30:53.743934Z"
    }
   },
   "outputs": [
    {
     "data": {
      "text/plain": [
       "'__main__'"
      ]
     },
     "execution_count": 4,
     "metadata": {},
     "output_type": "execute_result"
    }
   ],
   "source": [
    "__name__"
   ]
  },
  {
   "cell_type": "code",
   "execution_count": 5,
   "id": "important-oregon",
   "metadata": {
    "ExecuteTime": {
     "end_time": "2021-03-21T13:30:54.161836Z",
     "start_time": "2021-03-21T13:30:54.149169Z"
    }
   },
   "outputs": [
    {
     "ename": "FileNotFoundError",
     "evalue": "[Errno 2] No such file or directory: './data/processed/advised_portfolios.pkl'",
     "output_type": "error",
     "traceback": [
      "\u001b[0;31m---------------------------------------------------------------------------\u001b[0m",
      "\u001b[0;31mAttributeError\u001b[0m                            Traceback (most recent call last)",
      "\u001b[0;32m~/iCloud Drive (Archive)/Documents/Finance/Work/kisra/src/models/load_data.py\u001b[0m in \u001b[0;36minstance\u001b[0;34m(self)\u001b[0m\n\u001b[1;32m     30\u001b[0m         \u001b[0;32mtry\u001b[0m\u001b[0;34m:\u001b[0m\u001b[0;34m\u001b[0m\u001b[0;34m\u001b[0m\u001b[0m\n\u001b[0;32m---> 31\u001b[0;31m             \u001b[0;32mreturn\u001b[0m \u001b[0mself\u001b[0m\u001b[0;34m.\u001b[0m\u001b[0m_instance\u001b[0m\u001b[0;34m\u001b[0m\u001b[0;34m\u001b[0m\u001b[0m\n\u001b[0m\u001b[1;32m     32\u001b[0m         \u001b[0;32mexcept\u001b[0m \u001b[0mAttributeError\u001b[0m\u001b[0;34m:\u001b[0m\u001b[0;34m\u001b[0m\u001b[0;34m\u001b[0m\u001b[0m\n",
      "\u001b[0;31mAttributeError\u001b[0m: 'Singleton' object has no attribute '_instance'",
      "\nDuring handling of the above exception, another exception occurred:\n",
      "\u001b[0;31mFileNotFoundError\u001b[0m                         Traceback (most recent call last)",
      "\u001b[0;32m<ipython-input-5-10c23838a4e6>\u001b[0m in \u001b[0;36m<module>\u001b[0;34m\u001b[0m\n\u001b[0;32m----> 1\u001b[0;31m \u001b[0mnew_port\u001b[0m \u001b[0;34m=\u001b[0m \u001b[0mget_advised_port\u001b[0m\u001b[0;34m(\u001b[0m\u001b[0mrisk_profile\u001b[0m\u001b[0;34m=\u001b[0m\u001b[0mrisk_profile\u001b[0m\u001b[0;34m)\u001b[0m\u001b[0;34m\u001b[0m\u001b[0;34m\u001b[0m\u001b[0m\n\u001b[0m",
      "\u001b[0;32m~/iCloud Drive (Archive)/Documents/Finance/Work/kisra/src/models/utils.py\u001b[0m in \u001b[0;36mget_advised_port\u001b[0;34m(risk_profile, df_advised_ports)\u001b[0m\n\u001b[1;32m    104\u001b[0m         \u001b[0mdf\u001b[0m \u001b[0;34m=\u001b[0m \u001b[0mdf_advised_ports\u001b[0m\u001b[0;34m\u001b[0m\u001b[0;34m\u001b[0m\u001b[0m\n\u001b[1;32m    105\u001b[0m     \u001b[0;32melse\u001b[0m\u001b[0;34m:\u001b[0m\u001b[0;34m\u001b[0m\u001b[0;34m\u001b[0m\u001b[0m\n\u001b[0;32m--> 106\u001b[0;31m         \u001b[0mdf\u001b[0m \u001b[0;34m=\u001b[0m \u001b[0mAdvisedPortfolios\u001b[0m\u001b[0;34m.\u001b[0m\u001b[0minstance\u001b[0m\u001b[0;34m(\u001b[0m\u001b[0;34m)\u001b[0m\u001b[0;34m.\u001b[0m\u001b[0mdata\u001b[0m\u001b[0;34m\u001b[0m\u001b[0;34m\u001b[0m\u001b[0m\n\u001b[0m\u001b[1;32m    107\u001b[0m \u001b[0;34m\u001b[0m\u001b[0m\n\u001b[1;32m    108\u001b[0m     advised_pf = df.loc[(df.risk_profile == risk_profile) & (\n",
      "\u001b[0;32m~/iCloud Drive (Archive)/Documents/Finance/Work/kisra/src/models/load_data.py\u001b[0m in \u001b[0;36minstance\u001b[0;34m(self)\u001b[0m\n\u001b[1;32m     31\u001b[0m             \u001b[0;32mreturn\u001b[0m \u001b[0mself\u001b[0m\u001b[0;34m.\u001b[0m\u001b[0m_instance\u001b[0m\u001b[0;34m\u001b[0m\u001b[0;34m\u001b[0m\u001b[0m\n\u001b[1;32m     32\u001b[0m         \u001b[0;32mexcept\u001b[0m \u001b[0mAttributeError\u001b[0m\u001b[0;34m:\u001b[0m\u001b[0;34m\u001b[0m\u001b[0;34m\u001b[0m\u001b[0m\n\u001b[0;32m---> 33\u001b[0;31m             \u001b[0mself\u001b[0m\u001b[0;34m.\u001b[0m\u001b[0m_instance\u001b[0m \u001b[0;34m=\u001b[0m \u001b[0mself\u001b[0m\u001b[0;34m.\u001b[0m\u001b[0m_decorated\u001b[0m\u001b[0;34m(\u001b[0m\u001b[0;34m)\u001b[0m\u001b[0;34m\u001b[0m\u001b[0;34m\u001b[0m\u001b[0m\n\u001b[0m\u001b[1;32m     34\u001b[0m             \u001b[0;32mreturn\u001b[0m \u001b[0mself\u001b[0m\u001b[0;34m.\u001b[0m\u001b[0m_instance\u001b[0m\u001b[0;34m\u001b[0m\u001b[0;34m\u001b[0m\u001b[0m\n\u001b[1;32m     35\u001b[0m \u001b[0;34m\u001b[0m\u001b[0m\n",
      "\u001b[0;32m~/iCloud Drive (Archive)/Documents/Finance/Work/kisra/src/models/load_data.py\u001b[0m in \u001b[0;36m__init__\u001b[0;34m(self)\u001b[0m\n\u001b[1;32m     71\u001b[0m         \u001b[0mself\u001b[0m\u001b[0;34m.\u001b[0m\u001b[0maccess_path\u001b[0m \u001b[0;34m=\u001b[0m \u001b[0;34m'./data/processed/'\u001b[0m\u001b[0;34m\u001b[0m\u001b[0;34m\u001b[0m\u001b[0m\n\u001b[1;32m     72\u001b[0m         \u001b[0mself\u001b[0m\u001b[0;34m.\u001b[0m\u001b[0mfilename\u001b[0m \u001b[0;34m=\u001b[0m \u001b[0;34m'advised_portfolios.pkl'\u001b[0m\u001b[0;34m\u001b[0m\u001b[0;34m\u001b[0m\u001b[0m\n\u001b[0;32m---> 73\u001b[0;31m         \u001b[0mself\u001b[0m\u001b[0;34m.\u001b[0m\u001b[0mdata\u001b[0m \u001b[0;34m=\u001b[0m \u001b[0mpd\u001b[0m\u001b[0;34m.\u001b[0m\u001b[0mread_pickle\u001b[0m\u001b[0;34m(\u001b[0m\u001b[0mself\u001b[0m\u001b[0;34m.\u001b[0m\u001b[0maccess_path\u001b[0m\u001b[0;34m+\u001b[0m\u001b[0mself\u001b[0m\u001b[0;34m.\u001b[0m\u001b[0mfilename\u001b[0m\u001b[0;34m)\u001b[0m\u001b[0;34m\u001b[0m\u001b[0;34m\u001b[0m\u001b[0m\n\u001b[0m\u001b[1;32m     74\u001b[0m \u001b[0;34m\u001b[0m\u001b[0m\n\u001b[1;32m     75\u001b[0m \u001b[0;34m@\u001b[0m\u001b[0mSingleton\u001b[0m\u001b[0;34m\u001b[0m\u001b[0;34m\u001b[0m\u001b[0m\n",
      "\u001b[0;32m~/anaconda3/envs/ra/lib/python3.8/site-packages/pandas/io/pickle.py\u001b[0m in \u001b[0;36mread_pickle\u001b[0;34m(filepath_or_buffer, compression)\u001b[0m\n\u001b[1;32m    167\u001b[0m     \u001b[0;32mif\u001b[0m \u001b[0;32mnot\u001b[0m \u001b[0misinstance\u001b[0m\u001b[0;34m(\u001b[0m\u001b[0mfp_or_buf\u001b[0m\u001b[0;34m,\u001b[0m \u001b[0mstr\u001b[0m\u001b[0;34m)\u001b[0m \u001b[0;32mand\u001b[0m \u001b[0mcompression\u001b[0m \u001b[0;34m==\u001b[0m \u001b[0;34m\"infer\"\u001b[0m\u001b[0;34m:\u001b[0m\u001b[0;34m\u001b[0m\u001b[0;34m\u001b[0m\u001b[0m\n\u001b[1;32m    168\u001b[0m         \u001b[0mcompression\u001b[0m \u001b[0;34m=\u001b[0m \u001b[0;32mNone\u001b[0m\u001b[0;34m\u001b[0m\u001b[0;34m\u001b[0m\u001b[0m\n\u001b[0;32m--> 169\u001b[0;31m     \u001b[0mf\u001b[0m\u001b[0;34m,\u001b[0m \u001b[0mfh\u001b[0m \u001b[0;34m=\u001b[0m \u001b[0mget_handle\u001b[0m\u001b[0;34m(\u001b[0m\u001b[0mfp_or_buf\u001b[0m\u001b[0;34m,\u001b[0m \u001b[0;34m\"rb\"\u001b[0m\u001b[0;34m,\u001b[0m \u001b[0mcompression\u001b[0m\u001b[0;34m=\u001b[0m\u001b[0mcompression\u001b[0m\u001b[0;34m,\u001b[0m \u001b[0mis_text\u001b[0m\u001b[0;34m=\u001b[0m\u001b[0;32mFalse\u001b[0m\u001b[0;34m)\u001b[0m\u001b[0;34m\u001b[0m\u001b[0;34m\u001b[0m\u001b[0m\n\u001b[0m\u001b[1;32m    170\u001b[0m \u001b[0;34m\u001b[0m\u001b[0m\n\u001b[1;32m    171\u001b[0m     \u001b[0;31m# 1) try standard library Pickle\u001b[0m\u001b[0;34m\u001b[0m\u001b[0;34m\u001b[0m\u001b[0;34m\u001b[0m\u001b[0m\n",
      "\u001b[0;32m~/anaconda3/envs/ra/lib/python3.8/site-packages/pandas/io/common.py\u001b[0m in \u001b[0;36mget_handle\u001b[0;34m(path_or_buf, mode, encoding, compression, memory_map, is_text, errors)\u001b[0m\n\u001b[1;32m    497\u001b[0m         \u001b[0;32melse\u001b[0m\u001b[0;34m:\u001b[0m\u001b[0;34m\u001b[0m\u001b[0;34m\u001b[0m\u001b[0m\n\u001b[1;32m    498\u001b[0m             \u001b[0;31m# Binary mode\u001b[0m\u001b[0;34m\u001b[0m\u001b[0;34m\u001b[0m\u001b[0;34m\u001b[0m\u001b[0m\n\u001b[0;32m--> 499\u001b[0;31m             \u001b[0mf\u001b[0m \u001b[0;34m=\u001b[0m \u001b[0mopen\u001b[0m\u001b[0;34m(\u001b[0m\u001b[0mpath_or_buf\u001b[0m\u001b[0;34m,\u001b[0m \u001b[0mmode\u001b[0m\u001b[0;34m)\u001b[0m\u001b[0;34m\u001b[0m\u001b[0;34m\u001b[0m\u001b[0m\n\u001b[0m\u001b[1;32m    500\u001b[0m         \u001b[0mhandles\u001b[0m\u001b[0;34m.\u001b[0m\u001b[0mappend\u001b[0m\u001b[0;34m(\u001b[0m\u001b[0mf\u001b[0m\u001b[0;34m)\u001b[0m\u001b[0;34m\u001b[0m\u001b[0;34m\u001b[0m\u001b[0m\n\u001b[1;32m    501\u001b[0m \u001b[0;34m\u001b[0m\u001b[0m\n",
      "\u001b[0;31mFileNotFoundError\u001b[0m: [Errno 2] No such file or directory: './data/processed/advised_portfolios.pkl'"
     ]
    }
   ],
   "source": [
    "new_port = get_advised_port(risk_profile=risk_profile)"
   ]
  },
  {
   "cell_type": "code",
   "execution_count": 6,
   "id": "amateur-trustee",
   "metadata": {
    "ExecuteTime": {
     "end_time": "2021-03-21T13:31:05.710515Z",
     "start_time": "2021-03-21T13:31:05.591824Z"
    }
   },
   "outputs": [
    {
     "name": "stdout",
     "output_type": "stream",
     "text": [
      "/Users/msyeom/iCloud Drive (Archive)/Documents/Finance/Work/kisra/src/models\r\n"
     ]
    }
   ],
   "source": [
    "!pwd"
   ]
  },
  {
   "cell_type": "code",
   "execution_count": 26,
   "id": "joint-second",
   "metadata": {
    "ExecuteTime": {
     "end_time": "2021-03-21T14:01:59.881919Z",
     "start_time": "2021-03-21T14:01:59.877401Z"
    }
   },
   "outputs": [],
   "source": [
    "advised_pf = pd.read_pickle('../../data/processed/advised_portfolios.pkl')"
   ]
  },
  {
   "cell_type": "code",
   "execution_count": 27,
   "id": "medical-enemy",
   "metadata": {
    "ExecuteTime": {
     "end_time": "2021-03-21T14:02:02.813719Z",
     "start_time": "2021-03-21T14:02:02.793677Z"
    }
   },
   "outputs": [
    {
     "data": {
      "text/html": [
       "<div>\n",
       "<style scoped>\n",
       "    .dataframe tbody tr th:only-of-type {\n",
       "        vertical-align: middle;\n",
       "    }\n",
       "\n",
       "    .dataframe tbody tr th {\n",
       "        vertical-align: top;\n",
       "    }\n",
       "\n",
       "    .dataframe thead th {\n",
       "        text-align: right;\n",
       "    }\n",
       "</style>\n",
       "<table border=\"1\" class=\"dataframe\">\n",
       "  <thead>\n",
       "    <tr style=\"text-align: right;\">\n",
       "      <th></th>\n",
       "      <th>date</th>\n",
       "      <th>risk_profile</th>\n",
       "      <th>itemcode</th>\n",
       "      <th>weights</th>\n",
       "      <th>tracking_code</th>\n",
       "      <th>itemname</th>\n",
       "      <th>price</th>\n",
       "      <th>volume</th>\n",
       "      <th>trading_amt_mln</th>\n",
       "      <th>asset_class</th>\n",
       "    </tr>\n",
       "  </thead>\n",
       "  <tbody>\n",
       "    <tr>\n",
       "      <th>0</th>\n",
       "      <td>2020-02-03</td>\n",
       "      <td>2</td>\n",
       "      <td>A214980</td>\n",
       "      <td>0.200000</td>\n",
       "      <td>MM_PLUS</td>\n",
       "      <td>KODEX 단기채권PLUS</td>\n",
       "      <td>101900.0</td>\n",
       "      <td>18149.0</td>\n",
       "      <td>867.129094</td>\n",
       "      <td>Fixed Income</td>\n",
       "    </tr>\n",
       "    <tr>\n",
       "      <th>1</th>\n",
       "      <td>2020-02-03</td>\n",
       "      <td>2</td>\n",
       "      <td>A130730</td>\n",
       "      <td>0.200000</td>\n",
       "      <td>MM</td>\n",
       "      <td>KOSEF 단기자금</td>\n",
       "      <td>99900.0</td>\n",
       "      <td>5462.0</td>\n",
       "      <td>26061.974716</td>\n",
       "      <td>Fixed Income</td>\n",
       "    </tr>\n",
       "    <tr>\n",
       "      <th>2</th>\n",
       "      <td>2020-02-03</td>\n",
       "      <td>2</td>\n",
       "      <td>A114260</td>\n",
       "      <td>0.181300</td>\n",
       "      <td>KTB_D3</td>\n",
       "      <td>KODEX 국고채3년</td>\n",
       "      <td>57225.0</td>\n",
       "      <td>41802.0</td>\n",
       "      <td>2074.540369</td>\n",
       "      <td>Fixed Income</td>\n",
       "    </tr>\n",
       "    <tr>\n",
       "      <th>3</th>\n",
       "      <td>2020-02-03</td>\n",
       "      <td>2</td>\n",
       "      <td>A196230</td>\n",
       "      <td>0.114127</td>\n",
       "      <td>BOK_D.4</td>\n",
       "      <td>KBSTAR 단기통안채</td>\n",
       "      <td>103200.0</td>\n",
       "      <td>486699.0</td>\n",
       "      <td>40014.496042</td>\n",
       "      <td>Fixed Income</td>\n",
       "    </tr>\n",
       "    <tr>\n",
       "      <th>4</th>\n",
       "      <td>2020-02-03</td>\n",
       "      <td>2</td>\n",
       "      <td>A122260</td>\n",
       "      <td>0.102922</td>\n",
       "      <td>BOK_D1</td>\n",
       "      <td>KOSEF 통안채1년</td>\n",
       "      <td>99757.0</td>\n",
       "      <td>261.0</td>\n",
       "      <td>7824.067695</td>\n",
       "      <td>Fixed Income</td>\n",
       "    </tr>\n",
       "    <tr>\n",
       "      <th>...</th>\n",
       "      <td>...</td>\n",
       "      <td>...</td>\n",
       "      <td>...</td>\n",
       "      <td>...</td>\n",
       "      <td>...</td>\n",
       "      <td>...</td>\n",
       "      <td>...</td>\n",
       "      <td>...</td>\n",
       "      <td>...</td>\n",
       "      <td>...</td>\n",
       "    </tr>\n",
       "    <tr>\n",
       "      <th>456</th>\n",
       "      <td>2020-02-28</td>\n",
       "      <td>4</td>\n",
       "      <td>A245340</td>\n",
       "      <td>0.200000</td>\n",
       "      <td>DOW30</td>\n",
       "      <td>TIGER 미국다우존스30</td>\n",
       "      <td>15216.0</td>\n",
       "      <td>41297.0</td>\n",
       "      <td>181.873485</td>\n",
       "      <td>Equity</td>\n",
       "    </tr>\n",
       "    <tr>\n",
       "      <th>457</th>\n",
       "      <td>2020-02-28</td>\n",
       "      <td>4</td>\n",
       "      <td>A148070</td>\n",
       "      <td>0.200000</td>\n",
       "      <td>KTB_D8</td>\n",
       "      <td>KOSEF 국고채10년</td>\n",
       "      <td>124495.0</td>\n",
       "      <td>25594.0</td>\n",
       "      <td>2651.397392</td>\n",
       "      <td>Fixed Income</td>\n",
       "    </tr>\n",
       "    <tr>\n",
       "      <th>458</th>\n",
       "      <td>2020-02-28</td>\n",
       "      <td>4</td>\n",
       "      <td>A114260</td>\n",
       "      <td>0.100000</td>\n",
       "      <td>KTB_D3</td>\n",
       "      <td>KODEX 국고채3년</td>\n",
       "      <td>57545.0</td>\n",
       "      <td>107576.0</td>\n",
       "      <td>2065.609544</td>\n",
       "      <td>Fixed Income</td>\n",
       "    </tr>\n",
       "    <tr>\n",
       "      <th>459</th>\n",
       "      <td>2020-02-28</td>\n",
       "      <td>4</td>\n",
       "      <td>A157490</td>\n",
       "      <td>0.080000</td>\n",
       "      <td>SW</td>\n",
       "      <td>TIGER 소프트웨어</td>\n",
       "      <td>9041.0</td>\n",
       "      <td>48912.0</td>\n",
       "      <td>1537.645944</td>\n",
       "      <td>Equity</td>\n",
       "    </tr>\n",
       "    <tr>\n",
       "      <th>460</th>\n",
       "      <td>2020-02-28</td>\n",
       "      <td>4</td>\n",
       "      <td>A102110</td>\n",
       "      <td>0.020000</td>\n",
       "      <td>K200</td>\n",
       "      <td>TIGER 200</td>\n",
       "      <td>26503.0</td>\n",
       "      <td>6252986.0</td>\n",
       "      <td>66844.500867</td>\n",
       "      <td>Equity</td>\n",
       "    </tr>\n",
       "  </tbody>\n",
       "</table>\n",
       "<p>461 rows × 10 columns</p>\n",
       "</div>"
      ],
      "text/plain": [
       "           date  risk_profile itemcode   weights tracking_code  \\\n",
       "0    2020-02-03             2  A214980  0.200000       MM_PLUS   \n",
       "1    2020-02-03             2  A130730  0.200000            MM   \n",
       "2    2020-02-03             2  A114260  0.181300        KTB_D3   \n",
       "3    2020-02-03             2  A196230  0.114127       BOK_D.4   \n",
       "4    2020-02-03             2  A122260  0.102922        BOK_D1   \n",
       "..          ...           ...      ...       ...           ...   \n",
       "456  2020-02-28             4  A245340  0.200000         DOW30   \n",
       "457  2020-02-28             4  A148070  0.200000        KTB_D8   \n",
       "458  2020-02-28             4  A114260  0.100000        KTB_D3   \n",
       "459  2020-02-28             4  A157490  0.080000            SW   \n",
       "460  2020-02-28             4  A102110  0.020000          K200   \n",
       "\n",
       "           itemname     price     volume  trading_amt_mln   asset_class  \n",
       "0    KODEX 단기채권PLUS  101900.0    18149.0       867.129094  Fixed Income  \n",
       "1        KOSEF 단기자금   99900.0     5462.0     26061.974716  Fixed Income  \n",
       "2       KODEX 국고채3년   57225.0    41802.0      2074.540369  Fixed Income  \n",
       "3      KBSTAR 단기통안채  103200.0   486699.0     40014.496042  Fixed Income  \n",
       "4       KOSEF 통안채1년   99757.0      261.0      7824.067695  Fixed Income  \n",
       "..              ...       ...        ...              ...           ...  \n",
       "456  TIGER 미국다우존스30   15216.0    41297.0       181.873485        Equity  \n",
       "457    KOSEF 국고채10년  124495.0    25594.0      2651.397392  Fixed Income  \n",
       "458     KODEX 국고채3년   57545.0   107576.0      2065.609544  Fixed Income  \n",
       "459     TIGER 소프트웨어    9041.0    48912.0      1537.645944        Equity  \n",
       "460       TIGER 200   26503.0  6252986.0     66844.500867        Equity  \n",
       "\n",
       "[461 rows x 10 columns]"
      ]
     },
     "execution_count": 27,
     "metadata": {},
     "output_type": "execute_result"
    }
   ],
   "source": [
    "advised_pf"
   ]
  },
  {
   "cell_type": "code",
   "execution_count": 16,
   "id": "posted-fight",
   "metadata": {
    "ExecuteTime": {
     "end_time": "2021-03-21T13:56:53.385373Z",
     "start_time": "2021-03-21T13:56:53.381121Z"
    }
   },
   "outputs": [],
   "source": [
    "df = advised_pf.loc[(advised_pf.risk_profile==2) & (advised_pf.date=='2020-02-11')]"
   ]
  },
  {
   "cell_type": "code",
   "execution_count": 17,
   "id": "controlled-military",
   "metadata": {
    "ExecuteTime": {
     "end_time": "2021-03-21T13:56:55.790826Z",
     "start_time": "2021-03-21T13:56:55.776079Z"
    }
   },
   "outputs": [
    {
     "data": {
      "text/html": [
       "<div>\n",
       "<style scoped>\n",
       "    .dataframe tbody tr th:only-of-type {\n",
       "        vertical-align: middle;\n",
       "    }\n",
       "\n",
       "    .dataframe tbody tr th {\n",
       "        vertical-align: top;\n",
       "    }\n",
       "\n",
       "    .dataframe thead th {\n",
       "        text-align: right;\n",
       "    }\n",
       "</style>\n",
       "<table border=\"1\" class=\"dataframe\">\n",
       "  <thead>\n",
       "    <tr style=\"text-align: right;\">\n",
       "      <th></th>\n",
       "      <th>date</th>\n",
       "      <th>risk_profile</th>\n",
       "      <th>itemcode</th>\n",
       "      <th>weights</th>\n",
       "      <th>tracking_code</th>\n",
       "      <th>itemname</th>\n",
       "      <th>price</th>\n",
       "      <th>volume</th>\n",
       "      <th>trading_amt_mln</th>\n",
       "      <th>asset_class</th>\n",
       "    </tr>\n",
       "  </thead>\n",
       "  <tbody>\n",
       "    <tr>\n",
       "      <th>23</th>\n",
       "      <td>2020-02-11</td>\n",
       "      <td>2</td>\n",
       "      <td>A214980</td>\n",
       "      <td>0.200000</td>\n",
       "      <td>MM_PLUS</td>\n",
       "      <td>KODEX 단기채권PLUS</td>\n",
       "      <td>101940.0</td>\n",
       "      <td>8158.0</td>\n",
       "      <td>858.978209</td>\n",
       "      <td>Fixed Income</td>\n",
       "    </tr>\n",
       "    <tr>\n",
       "      <th>24</th>\n",
       "      <td>2020-02-11</td>\n",
       "      <td>2</td>\n",
       "      <td>A130730</td>\n",
       "      <td>0.200000</td>\n",
       "      <td>MM</td>\n",
       "      <td>KOSEF 단기자금</td>\n",
       "      <td>99959.0</td>\n",
       "      <td>354343.0</td>\n",
       "      <td>25062.102873</td>\n",
       "      <td>Fixed Income</td>\n",
       "    </tr>\n",
       "    <tr>\n",
       "      <th>25</th>\n",
       "      <td>2020-02-11</td>\n",
       "      <td>2</td>\n",
       "      <td>A114260</td>\n",
       "      <td>0.186759</td>\n",
       "      <td>KTB_D3</td>\n",
       "      <td>KODEX 국고채3년</td>\n",
       "      <td>57185.0</td>\n",
       "      <td>1314.0</td>\n",
       "      <td>2065.739863</td>\n",
       "      <td>Fixed Income</td>\n",
       "    </tr>\n",
       "    <tr>\n",
       "      <th>26</th>\n",
       "      <td>2020-02-11</td>\n",
       "      <td>2</td>\n",
       "      <td>A196230</td>\n",
       "      <td>0.111743</td>\n",
       "      <td>BOK_D.4</td>\n",
       "      <td>KBSTAR 단기통안채</td>\n",
       "      <td>103250.0</td>\n",
       "      <td>880743.0</td>\n",
       "      <td>43204.909791</td>\n",
       "      <td>Fixed Income</td>\n",
       "    </tr>\n",
       "    <tr>\n",
       "      <th>27</th>\n",
       "      <td>2020-02-11</td>\n",
       "      <td>2</td>\n",
       "      <td>A122260</td>\n",
       "      <td>0.101727</td>\n",
       "      <td>BOK_D1</td>\n",
       "      <td>KOSEF 통안채1년</td>\n",
       "      <td>99801.0</td>\n",
       "      <td>12748.0</td>\n",
       "      <td>7557.594889</td>\n",
       "      <td>Fixed Income</td>\n",
       "    </tr>\n",
       "    <tr>\n",
       "      <th>28</th>\n",
       "      <td>2020-02-11</td>\n",
       "      <td>2</td>\n",
       "      <td>A148070</td>\n",
       "      <td>0.099770</td>\n",
       "      <td>KTB_D8</td>\n",
       "      <td>KOSEF 국고채10년</td>\n",
       "      <td>121874.0</td>\n",
       "      <td>8158.0</td>\n",
       "      <td>2538.517838</td>\n",
       "      <td>Fixed Income</td>\n",
       "    </tr>\n",
       "    <tr>\n",
       "      <th>29</th>\n",
       "      <td>2020-02-11</td>\n",
       "      <td>2</td>\n",
       "      <td>A251350</td>\n",
       "      <td>0.086926</td>\n",
       "      <td>MSCI_WO</td>\n",
       "      <td>KODEX 선진국MSCI World</td>\n",
       "      <td>15730.0</td>\n",
       "      <td>27490.0</td>\n",
       "      <td>1060.611120</td>\n",
       "      <td>Equity</td>\n",
       "    </tr>\n",
       "    <tr>\n",
       "      <th>30</th>\n",
       "      <td>2020-02-11</td>\n",
       "      <td>2</td>\n",
       "      <td>A102110</td>\n",
       "      <td>0.013074</td>\n",
       "      <td>K200</td>\n",
       "      <td>TIGER 200</td>\n",
       "      <td>29513.0</td>\n",
       "      <td>1269514.0</td>\n",
       "      <td>62184.455061</td>\n",
       "      <td>Equity</td>\n",
       "    </tr>\n",
       "  </tbody>\n",
       "</table>\n",
       "</div>"
      ],
      "text/plain": [
       "          date  risk_profile itemcode   weights tracking_code  \\\n",
       "23  2020-02-11             2  A214980  0.200000       MM_PLUS   \n",
       "24  2020-02-11             2  A130730  0.200000            MM   \n",
       "25  2020-02-11             2  A114260  0.186759        KTB_D3   \n",
       "26  2020-02-11             2  A196230  0.111743       BOK_D.4   \n",
       "27  2020-02-11             2  A122260  0.101727        BOK_D1   \n",
       "28  2020-02-11             2  A148070  0.099770        KTB_D8   \n",
       "29  2020-02-11             2  A251350  0.086926       MSCI_WO   \n",
       "30  2020-02-11             2  A102110  0.013074          K200   \n",
       "\n",
       "               itemname     price     volume  trading_amt_mln   asset_class  \n",
       "23       KODEX 단기채권PLUS  101940.0     8158.0       858.978209  Fixed Income  \n",
       "24           KOSEF 단기자금   99959.0   354343.0     25062.102873  Fixed Income  \n",
       "25          KODEX 국고채3년   57185.0     1314.0      2065.739863  Fixed Income  \n",
       "26         KBSTAR 단기통안채  103250.0   880743.0     43204.909791  Fixed Income  \n",
       "27          KOSEF 통안채1년   99801.0    12748.0      7557.594889  Fixed Income  \n",
       "28         KOSEF 국고채10년  121874.0     8158.0      2538.517838  Fixed Income  \n",
       "29  KODEX 선진국MSCI World   15730.0    27490.0      1060.611120        Equity  \n",
       "30            TIGER 200   29513.0  1269514.0     62184.455061        Equity  "
      ]
     },
     "execution_count": 17,
     "metadata": {},
     "output_type": "execute_result"
    }
   ],
   "source": [
    "df"
   ]
  },
  {
   "cell_type": "code",
   "execution_count": 25,
   "id": "suited-department",
   "metadata": {
    "ExecuteTime": {
     "end_time": "2021-03-21T13:59:28.004323Z",
     "start_time": "2021-03-21T13:59:27.992210Z"
    }
   },
   "outputs": [
    {
     "data": {
      "text/html": [
       "<div>\n",
       "<style scoped>\n",
       "    .dataframe tbody tr th:only-of-type {\n",
       "        vertical-align: middle;\n",
       "    }\n",
       "\n",
       "    .dataframe tbody tr th {\n",
       "        vertical-align: top;\n",
       "    }\n",
       "\n",
       "    .dataframe thead th {\n",
       "        text-align: right;\n",
       "    }\n",
       "</style>\n",
       "<table border=\"1\" class=\"dataframe\">\n",
       "  <thead>\n",
       "    <tr style=\"text-align: right;\">\n",
       "      <th></th>\n",
       "      <th>자산군</th>\n",
       "      <th>비중</th>\n",
       "    </tr>\n",
       "  </thead>\n",
       "  <tbody>\n",
       "    <tr>\n",
       "      <th>0</th>\n",
       "      <td>Equity</td>\n",
       "      <td>0.1</td>\n",
       "    </tr>\n",
       "    <tr>\n",
       "      <th>1</th>\n",
       "      <td>Fixed Income</td>\n",
       "      <td>0.9</td>\n",
       "    </tr>\n",
       "  </tbody>\n",
       "</table>\n",
       "</div>"
      ],
      "text/plain": [
       "            자산군   비중\n",
       "0        Equity  0.1\n",
       "1  Fixed Income  0.9"
      ]
     },
     "execution_count": 25,
     "metadata": {},
     "output_type": "execute_result"
    }
   ],
   "source": [
    "df.loc[:, ['weights', 'asset_class']].groupby(\n",
    "    'asset_class').sum().reset_index().rename(columns={\n",
    "        'asset_class': '자산군',\n",
    "        'weights': '비중'\n",
    "    })"
   ]
  },
  {
   "cell_type": "code",
   "execution_count": 22,
   "id": "concerned-cream",
   "metadata": {
    "ExecuteTime": {
     "end_time": "2021-03-21T13:58:19.722298Z",
     "start_time": "2021-03-21T13:58:19.712009Z"
    }
   },
   "outputs": [
    {
     "data": {
      "text/html": [
       "<div>\n",
       "<style scoped>\n",
       "    .dataframe tbody tr th:only-of-type {\n",
       "        vertical-align: middle;\n",
       "    }\n",
       "\n",
       "    .dataframe tbody tr th {\n",
       "        vertical-align: top;\n",
       "    }\n",
       "\n",
       "    .dataframe thead th {\n",
       "        text-align: right;\n",
       "    }\n",
       "</style>\n",
       "<table border=\"1\" class=\"dataframe\">\n",
       "  <thead>\n",
       "    <tr style=\"text-align: right;\">\n",
       "      <th></th>\n",
       "      <th>자산</th>\n",
       "      <th>종류</th>\n",
       "    </tr>\n",
       "  </thead>\n",
       "  <tbody>\n",
       "    <tr>\n",
       "      <th>0</th>\n",
       "      <td>0</td>\n",
       "      <td>채권</td>\n",
       "    </tr>\n",
       "    <tr>\n",
       "      <th>1</th>\n",
       "      <td>0</td>\n",
       "      <td>주식</td>\n",
       "    </tr>\n",
       "    <tr>\n",
       "      <th>2</th>\n",
       "      <td>0</td>\n",
       "      <td>대체</td>\n",
       "    </tr>\n",
       "    <tr>\n",
       "      <th>3</th>\n",
       "      <td>12</td>\n",
       "      <td>현금</td>\n",
       "    </tr>\n",
       "  </tbody>\n",
       "</table>\n",
       "</div>"
      ],
      "text/plain": [
       "   자산  종류\n",
       "0   0  채권\n",
       "1   0  주식\n",
       "2   0  대체\n",
       "3  12  현금"
      ]
     },
     "execution_count": 22,
     "metadata": {},
     "output_type": "execute_result"
    }
   ],
   "source": [
    "pd.DataFrame(\n",
    "    {\n",
    "        \"자산\": [0, 0, 0, 12],\n",
    "        \"종류\": ['채권', '주식', '대체', '현금']\n",
    "    }\n",
    ")"
   ]
  },
  {
   "cell_type": "code",
   "execution_count": null,
   "id": "cardiac-variable",
   "metadata": {},
   "outputs": [],
   "source": []
  },
  {
   "cell_type": "code",
   "execution_count": 5,
   "id": "reported-symbol",
   "metadata": {
    "ExecuteTime": {
     "end_time": "2021-03-20T07:11:33.139081Z",
     "start_time": "2021-03-20T07:11:33.129269Z"
    },
    "code_folding": [
     0
    ]
   },
   "outputs": [],
   "source": [
    "old_new = pd.merge(balance.loc[:, ['itemcode', 'quantity', 'price', 'value', 'wt']], new_port.loc[:, ['itemcode', 'wt']],\n",
    "                left_on=['itemcode'], right_on=['itemcode'], how='outer', suffixes=['_old', '_new'])"
   ]
  },
  {
   "cell_type": "code",
   "execution_count": 6,
   "id": "massive-advocate",
   "metadata": {
    "ExecuteTime": {
     "end_time": "2021-03-20T07:11:33.164115Z",
     "start_time": "2021-03-20T07:11:33.141714Z"
    }
   },
   "outputs": [
    {
     "data": {
      "text/html": [
       "<div>\n",
       "<style scoped>\n",
       "    .dataframe tbody tr th:only-of-type {\n",
       "        vertical-align: middle;\n",
       "    }\n",
       "\n",
       "    .dataframe tbody tr th {\n",
       "        vertical-align: top;\n",
       "    }\n",
       "\n",
       "    .dataframe thead th {\n",
       "        text-align: right;\n",
       "    }\n",
       "</style>\n",
       "<table border=\"1\" class=\"dataframe\">\n",
       "  <thead>\n",
       "    <tr style=\"text-align: right;\">\n",
       "      <th></th>\n",
       "      <th>itemcode</th>\n",
       "      <th>quantity</th>\n",
       "      <th>price</th>\n",
       "      <th>value</th>\n",
       "      <th>wt_old</th>\n",
       "      <th>wt_new</th>\n",
       "    </tr>\n",
       "  </thead>\n",
       "  <tbody>\n",
       "    <tr>\n",
       "      <th>0</th>\n",
       "      <td>C000001</td>\n",
       "      <td>19565.0</td>\n",
       "      <td>1.00</td>\n",
       "      <td>19565.00</td>\n",
       "      <td>0.027733</td>\n",
       "      <td>NaN</td>\n",
       "    </tr>\n",
       "    <tr>\n",
       "      <th>1</th>\n",
       "      <td>D000001</td>\n",
       "      <td>350000.0</td>\n",
       "      <td>1.01</td>\n",
       "      <td>353500.00</td>\n",
       "      <td>0.501074</td>\n",
       "      <td>NaN</td>\n",
       "    </tr>\n",
       "    <tr>\n",
       "      <th>2</th>\n",
       "      <td>A069500</td>\n",
       "      <td>1.0</td>\n",
       "      <td>42936.90</td>\n",
       "      <td>42936.90</td>\n",
       "      <td>0.060862</td>\n",
       "      <td>NaN</td>\n",
       "    </tr>\n",
       "    <tr>\n",
       "      <th>3</th>\n",
       "      <td>A360200</td>\n",
       "      <td>2.0</td>\n",
       "      <td>10430.40</td>\n",
       "      <td>20860.80</td>\n",
       "      <td>0.029569</td>\n",
       "      <td>NaN</td>\n",
       "    </tr>\n",
       "    <tr>\n",
       "      <th>4</th>\n",
       "      <td>A196230</td>\n",
       "      <td>1.0</td>\n",
       "      <td>108498.00</td>\n",
       "      <td>108498.00</td>\n",
       "      <td>0.153792</td>\n",
       "      <td>NaN</td>\n",
       "    </tr>\n",
       "    <tr>\n",
       "      <th>5</th>\n",
       "      <td>A302190</td>\n",
       "      <td>1.0</td>\n",
       "      <td>51841.35</td>\n",
       "      <td>51841.35</td>\n",
       "      <td>0.073483</td>\n",
       "      <td>NaN</td>\n",
       "    </tr>\n",
       "    <tr>\n",
       "      <th>6</th>\n",
       "      <td>A329750</td>\n",
       "      <td>8.0</td>\n",
       "      <td>9645.00</td>\n",
       "      <td>77160.00</td>\n",
       "      <td>0.109372</td>\n",
       "      <td>NaN</td>\n",
       "    </tr>\n",
       "    <tr>\n",
       "      <th>7</th>\n",
       "      <td>A367380</td>\n",
       "      <td>3.0</td>\n",
       "      <td>10374.00</td>\n",
       "      <td>31122.00</td>\n",
       "      <td>0.044114</td>\n",
       "      <td>NaN</td>\n",
       "    </tr>\n",
       "    <tr>\n",
       "      <th>8</th>\n",
       "      <td>A122260</td>\n",
       "      <td>NaN</td>\n",
       "      <td>NaN</td>\n",
       "      <td>NaN</td>\n",
       "      <td>NaN</td>\n",
       "      <td>0.250000</td>\n",
       "    </tr>\n",
       "    <tr>\n",
       "      <th>9</th>\n",
       "      <td>A130730</td>\n",
       "      <td>NaN</td>\n",
       "      <td>NaN</td>\n",
       "      <td>NaN</td>\n",
       "      <td>NaN</td>\n",
       "      <td>0.250000</td>\n",
       "    </tr>\n",
       "    <tr>\n",
       "      <th>10</th>\n",
       "      <td>A153130</td>\n",
       "      <td>NaN</td>\n",
       "      <td>NaN</td>\n",
       "      <td>NaN</td>\n",
       "      <td>NaN</td>\n",
       "      <td>0.217851</td>\n",
       "    </tr>\n",
       "    <tr>\n",
       "      <th>11</th>\n",
       "      <td>A114260</td>\n",
       "      <td>NaN</td>\n",
       "      <td>NaN</td>\n",
       "      <td>NaN</td>\n",
       "      <td>NaN</td>\n",
       "      <td>0.152149</td>\n",
       "    </tr>\n",
       "    <tr>\n",
       "      <th>12</th>\n",
       "      <td>A214980</td>\n",
       "      <td>NaN</td>\n",
       "      <td>NaN</td>\n",
       "      <td>NaN</td>\n",
       "      <td>NaN</td>\n",
       "      <td>0.100000</td>\n",
       "    </tr>\n",
       "    <tr>\n",
       "      <th>13</th>\n",
       "      <td>A102110</td>\n",
       "      <td>NaN</td>\n",
       "      <td>NaN</td>\n",
       "      <td>NaN</td>\n",
       "      <td>NaN</td>\n",
       "      <td>0.030000</td>\n",
       "    </tr>\n",
       "  </tbody>\n",
       "</table>\n",
       "</div>"
      ],
      "text/plain": [
       "   itemcode  quantity      price      value    wt_old    wt_new\n",
       "0   C000001   19565.0       1.00   19565.00  0.027733       NaN\n",
       "1   D000001  350000.0       1.01  353500.00  0.501074       NaN\n",
       "2   A069500       1.0   42936.90   42936.90  0.060862       NaN\n",
       "3   A360200       2.0   10430.40   20860.80  0.029569       NaN\n",
       "4   A196230       1.0  108498.00  108498.00  0.153792       NaN\n",
       "5   A302190       1.0   51841.35   51841.35  0.073483       NaN\n",
       "6   A329750       8.0    9645.00   77160.00  0.109372       NaN\n",
       "7   A367380       3.0   10374.00   31122.00  0.044114       NaN\n",
       "8   A122260       NaN        NaN        NaN       NaN  0.250000\n",
       "9   A130730       NaN        NaN        NaN       NaN  0.250000\n",
       "10  A153130       NaN        NaN        NaN       NaN  0.217851\n",
       "11  A114260       NaN        NaN        NaN       NaN  0.152149\n",
       "12  A214980       NaN        NaN        NaN       NaN  0.100000\n",
       "13  A102110       NaN        NaN        NaN       NaN  0.030000"
      ]
     },
     "execution_count": 6,
     "metadata": {},
     "output_type": "execute_result"
    }
   ],
   "source": [
    "old_new"
   ]
  },
  {
   "cell_type": "code",
   "execution_count": 7,
   "id": "conscious-diversity",
   "metadata": {
    "ExecuteTime": {
     "end_time": "2021-03-20T07:11:33.170658Z",
     "start_time": "2021-03-20T07:11:33.166369Z"
    }
   },
   "outputs": [],
   "source": [
    "# old_new.loc[old_new.itemcode_old.isna(), 'itemcode_old'] = old_new.loc[old_new.itemcode_old.isna(), 'itemcode_new']\n",
    "# old_new.loc[old_new.itemcode_new.isna(), 'itemcode_new'] = old_new.loc[old_new.itemcode_new.isna(), 'itemcode_old']\n",
    "old_new.fillna(value=0, inplace=True)"
   ]
  },
  {
   "cell_type": "code",
   "execution_count": 8,
   "id": "satisfactory-chinese",
   "metadata": {
    "ExecuteTime": {
     "end_time": "2021-03-20T07:11:33.192768Z",
     "start_time": "2021-03-20T07:11:33.176099Z"
    }
   },
   "outputs": [
    {
     "data": {
      "text/html": [
       "<div>\n",
       "<style scoped>\n",
       "    .dataframe tbody tr th:only-of-type {\n",
       "        vertical-align: middle;\n",
       "    }\n",
       "\n",
       "    .dataframe tbody tr th {\n",
       "        vertical-align: top;\n",
       "    }\n",
       "\n",
       "    .dataframe thead th {\n",
       "        text-align: right;\n",
       "    }\n",
       "</style>\n",
       "<table border=\"1\" class=\"dataframe\">\n",
       "  <thead>\n",
       "    <tr style=\"text-align: right;\">\n",
       "      <th></th>\n",
       "      <th>itemcode</th>\n",
       "      <th>quantity</th>\n",
       "      <th>price</th>\n",
       "      <th>value</th>\n",
       "      <th>wt_old</th>\n",
       "      <th>wt_new</th>\n",
       "    </tr>\n",
       "  </thead>\n",
       "  <tbody>\n",
       "    <tr>\n",
       "      <th>0</th>\n",
       "      <td>C000001</td>\n",
       "      <td>19565.0</td>\n",
       "      <td>1.00</td>\n",
       "      <td>19565.00</td>\n",
       "      <td>0.027733</td>\n",
       "      <td>0.000000</td>\n",
       "    </tr>\n",
       "    <tr>\n",
       "      <th>1</th>\n",
       "      <td>D000001</td>\n",
       "      <td>350000.0</td>\n",
       "      <td>1.01</td>\n",
       "      <td>353500.00</td>\n",
       "      <td>0.501074</td>\n",
       "      <td>0.000000</td>\n",
       "    </tr>\n",
       "    <tr>\n",
       "      <th>2</th>\n",
       "      <td>A069500</td>\n",
       "      <td>1.0</td>\n",
       "      <td>42936.90</td>\n",
       "      <td>42936.90</td>\n",
       "      <td>0.060862</td>\n",
       "      <td>0.000000</td>\n",
       "    </tr>\n",
       "    <tr>\n",
       "      <th>3</th>\n",
       "      <td>A360200</td>\n",
       "      <td>2.0</td>\n",
       "      <td>10430.40</td>\n",
       "      <td>20860.80</td>\n",
       "      <td>0.029569</td>\n",
       "      <td>0.000000</td>\n",
       "    </tr>\n",
       "    <tr>\n",
       "      <th>4</th>\n",
       "      <td>A196230</td>\n",
       "      <td>1.0</td>\n",
       "      <td>108498.00</td>\n",
       "      <td>108498.00</td>\n",
       "      <td>0.153792</td>\n",
       "      <td>0.000000</td>\n",
       "    </tr>\n",
       "    <tr>\n",
       "      <th>5</th>\n",
       "      <td>A302190</td>\n",
       "      <td>1.0</td>\n",
       "      <td>51841.35</td>\n",
       "      <td>51841.35</td>\n",
       "      <td>0.073483</td>\n",
       "      <td>0.000000</td>\n",
       "    </tr>\n",
       "    <tr>\n",
       "      <th>6</th>\n",
       "      <td>A329750</td>\n",
       "      <td>8.0</td>\n",
       "      <td>9645.00</td>\n",
       "      <td>77160.00</td>\n",
       "      <td>0.109372</td>\n",
       "      <td>0.000000</td>\n",
       "    </tr>\n",
       "    <tr>\n",
       "      <th>7</th>\n",
       "      <td>A367380</td>\n",
       "      <td>3.0</td>\n",
       "      <td>10374.00</td>\n",
       "      <td>31122.00</td>\n",
       "      <td>0.044114</td>\n",
       "      <td>0.000000</td>\n",
       "    </tr>\n",
       "    <tr>\n",
       "      <th>8</th>\n",
       "      <td>A122260</td>\n",
       "      <td>0.0</td>\n",
       "      <td>0.00</td>\n",
       "      <td>0.00</td>\n",
       "      <td>0.000000</td>\n",
       "      <td>0.250000</td>\n",
       "    </tr>\n",
       "    <tr>\n",
       "      <th>9</th>\n",
       "      <td>A130730</td>\n",
       "      <td>0.0</td>\n",
       "      <td>0.00</td>\n",
       "      <td>0.00</td>\n",
       "      <td>0.000000</td>\n",
       "      <td>0.250000</td>\n",
       "    </tr>\n",
       "    <tr>\n",
       "      <th>10</th>\n",
       "      <td>A153130</td>\n",
       "      <td>0.0</td>\n",
       "      <td>0.00</td>\n",
       "      <td>0.00</td>\n",
       "      <td>0.000000</td>\n",
       "      <td>0.217851</td>\n",
       "    </tr>\n",
       "    <tr>\n",
       "      <th>11</th>\n",
       "      <td>A114260</td>\n",
       "      <td>0.0</td>\n",
       "      <td>0.00</td>\n",
       "      <td>0.00</td>\n",
       "      <td>0.000000</td>\n",
       "      <td>0.152149</td>\n",
       "    </tr>\n",
       "    <tr>\n",
       "      <th>12</th>\n",
       "      <td>A214980</td>\n",
       "      <td>0.0</td>\n",
       "      <td>0.00</td>\n",
       "      <td>0.00</td>\n",
       "      <td>0.000000</td>\n",
       "      <td>0.100000</td>\n",
       "    </tr>\n",
       "    <tr>\n",
       "      <th>13</th>\n",
       "      <td>A102110</td>\n",
       "      <td>0.0</td>\n",
       "      <td>0.00</td>\n",
       "      <td>0.00</td>\n",
       "      <td>0.000000</td>\n",
       "      <td>0.030000</td>\n",
       "    </tr>\n",
       "  </tbody>\n",
       "</table>\n",
       "</div>"
      ],
      "text/plain": [
       "   itemcode  quantity      price      value    wt_old    wt_new\n",
       "0   C000001   19565.0       1.00   19565.00  0.027733  0.000000\n",
       "1   D000001  350000.0       1.01  353500.00  0.501074  0.000000\n",
       "2   A069500       1.0   42936.90   42936.90  0.060862  0.000000\n",
       "3   A360200       2.0   10430.40   20860.80  0.029569  0.000000\n",
       "4   A196230       1.0  108498.00  108498.00  0.153792  0.000000\n",
       "5   A302190       1.0   51841.35   51841.35  0.073483  0.000000\n",
       "6   A329750       8.0    9645.00   77160.00  0.109372  0.000000\n",
       "7   A367380       3.0   10374.00   31122.00  0.044114  0.000000\n",
       "8   A122260       0.0       0.00       0.00  0.000000  0.250000\n",
       "9   A130730       0.0       0.00       0.00  0.000000  0.250000\n",
       "10  A153130       0.0       0.00       0.00  0.000000  0.217851\n",
       "11  A114260       0.0       0.00       0.00  0.000000  0.152149\n",
       "12  A214980       0.0       0.00       0.00  0.000000  0.100000\n",
       "13  A102110       0.0       0.00       0.00  0.000000  0.030000"
      ]
     },
     "execution_count": 8,
     "metadata": {},
     "output_type": "execute_result"
    }
   ],
   "source": [
    "old_new"
   ]
  },
  {
   "cell_type": "code",
   "execution_count": 9,
   "id": "threatened-houston",
   "metadata": {
    "ExecuteTime": {
     "end_time": "2021-03-20T07:11:33.205267Z",
     "start_time": "2021-03-20T07:11:33.196198Z"
    }
   },
   "outputs": [],
   "source": [
    "assets = old_new.loc[(old_new.itemcode != 'C000001') & (old_new.itemcode != 'DEPOSIT'), :]\n",
    "cash = old_new.loc[(old_new.itemcode=='CASH') | (old_new.itemcode=='DEPOSIT'), :]\n",
    "old_assets = assets.drop(['wt_new'], axis=1)\n",
    "old_cash = cash.drop(['wt_new'], axis=1)\n",
    "old_tickers = assets.itemcode.tolist()\n",
    "old_quantities = assets.quantity.astype(int).tolist()\n",
    "old_prices = assets.price.tolist()\n",
    "cash_amounts = cash.value.tolist()\n",
    "cash_currency = ['KRW']*len(cash_amounts)"
   ]
  },
  {
   "cell_type": "code",
   "execution_count": 10,
   "id": "certified-transaction",
   "metadata": {
    "ExecuteTime": {
     "end_time": "2021-03-20T07:11:33.212279Z",
     "start_time": "2021-03-20T07:11:33.207921Z"
    }
   },
   "outputs": [],
   "source": [
    "# old_assets = balance.loc[(balance.tracking_code != 'CASH') & (balance.tracking_code != 'DEPOSIT'), :]\n",
    "# old_cash = balance.loc[(balance.tracking_code=='CASH') | (balance.tracking_code=='DEPOSIT'), :]\n",
    "# old_tickers = old_assets.itemcode.tolist()\n",
    "# old_quantities = old_assets.quantity.tolist()\n",
    "# old_prices = old_assets.price.tolist()\n",
    "# cash_amounts = old_cash.value.tolist()\n",
    "# cash_currency = ['KRW']*len(cash_amounts)"
   ]
  },
  {
   "cell_type": "code",
   "execution_count": 11,
   "id": "beneficial-brighton",
   "metadata": {
    "ExecuteTime": {
     "end_time": "2021-03-20T07:11:33.219741Z",
     "start_time": "2021-03-20T07:11:33.215562Z"
    }
   },
   "outputs": [],
   "source": [
    "p = Portfolio()\n",
    "p.easy_add_assets(tickers=old_tickers, quantities=old_quantities, prices=old_prices)\n",
    "p.easy_add_cash(amounts=cash_amounts, currencies=cash_currency)\n",
    "p.selling_allowed = True"
   ]
  },
  {
   "cell_type": "code",
   "execution_count": 12,
   "id": "liberal-techno",
   "metadata": {
    "ExecuteTime": {
     "end_time": "2021-03-20T07:11:33.227195Z",
     "start_time": "2021-03-20T07:11:33.222229Z"
    }
   },
   "outputs": [
    {
     "data": {
      "text/plain": [
       "{'D000001': <asset.Asset at 0x7fe984a6f7c0>,\n",
       " 'A069500': <asset.Asset at 0x7fe984a6f880>,\n",
       " 'A360200': <asset.Asset at 0x7fe984a6f940>,\n",
       " 'A196230': <asset.Asset at 0x7fe984a6fa60>,\n",
       " 'A302190': <asset.Asset at 0x7fe984a6fb50>,\n",
       " 'A329750': <asset.Asset at 0x7fe984a6fc10>,\n",
       " 'A367380': <asset.Asset at 0x7fe984a6fca0>,\n",
       " 'A122260': <asset.Asset at 0x7fe984a6fd30>,\n",
       " 'A130730': <asset.Asset at 0x7fe984a6fdc0>,\n",
       " 'A153130': <asset.Asset at 0x7fe984a6fe80>,\n",
       " 'A114260': <asset.Asset at 0x7fe984a6ff70>,\n",
       " 'A214980': <asset.Asset at 0x7fe9846867f0>,\n",
       " 'A102110': <asset.Asset at 0x7fe984686be0>}"
      ]
     },
     "execution_count": 12,
     "metadata": {},
     "output_type": "execute_result"
    }
   ],
   "source": [
    "p.assets"
   ]
  },
  {
   "cell_type": "code",
   "execution_count": 13,
   "id": "golden-orchestra",
   "metadata": {
    "ExecuteTime": {
     "end_time": "2021-03-20T07:11:33.237510Z",
     "start_time": "2021-03-20T07:11:33.230311Z"
    }
   },
   "outputs": [
    {
     "data": {
      "text/plain": [
       "0     C000001\n",
       "1     D000001\n",
       "2     A069500\n",
       "3     A360200\n",
       "4     A196230\n",
       "5     A302190\n",
       "6     A329750\n",
       "7     A367380\n",
       "8     A122260\n",
       "9     A130730\n",
       "10    A153130\n",
       "11    A114260\n",
       "12    A214980\n",
       "13    A102110\n",
       "Name: itemcode, dtype: object"
      ]
     },
     "execution_count": 13,
     "metadata": {},
     "output_type": "execute_result"
    }
   ],
   "source": [
    "old_new.loc[(old_new.itemcode != 'CASH') & (old_new.itemcode != 'DEPOSIT'), 'itemcode']"
   ]
  },
  {
   "cell_type": "code",
   "execution_count": 14,
   "id": "missing-legend",
   "metadata": {
    "ExecuteTime": {
     "end_time": "2021-03-20T07:11:33.248644Z",
     "start_time": "2021-03-20T07:11:33.240616Z"
    }
   },
   "outputs": [],
   "source": [
    "new_tickers = old_new.loc[(old_new.itemcode != 'CASH') & (old_new.itemcode != 'DEPOSIT'), 'itemcode'].tolist()\n",
    "new_wt = (old_new.loc[(old_new.itemcode != 'CASH') & (old_new.itemcode != 'DEPOSIT'), 'wt_new']*100).tolist()     # 단위가 %이므로 100을 곱한다."
   ]
  },
  {
   "cell_type": "code",
   "execution_count": 15,
   "id": "dependent-oracle",
   "metadata": {
    "ExecuteTime": {
     "end_time": "2021-03-20T07:11:33.255537Z",
     "start_time": "2021-03-20T07:11:33.252266Z"
    }
   },
   "outputs": [],
   "source": [
    "target_asset_alloc = dict(zip(new_tickers, new_wt))    "
   ]
  },
  {
   "cell_type": "code",
   "execution_count": 16,
   "id": "greek-australian",
   "metadata": {
    "ExecuteTime": {
     "end_time": "2021-03-20T07:11:33.453804Z",
     "start_time": "2021-03-20T07:11:33.258193Z"
    }
   },
   "outputs": [
    {
     "name": "stderr",
     "output_type": "stream",
     "text": [
      "/Users/msyeom/iCloud Drive (Archive)/Documents/Finance/Work/kisra/src/models/rebalancing_helper.py:46: RuntimeWarning: divide by zero encountered in double_scalars\n",
      "  (sol_mv - portfolio.assets[ticker].market_value_in(\n"
     ]
    },
    {
     "ename": "OverflowError",
     "evalue": "cannot convert float infinity to integer",
     "output_type": "error",
     "traceback": [
      "\u001b[0;31m---------------------------------------------------------------------------\u001b[0m",
      "\u001b[0;31mOverflowError\u001b[0m                             Traceback (most recent call last)",
      "\u001b[0;32m<ipython-input-16-b79d60d86e58>\u001b[0m in \u001b[0;36m<module>\u001b[0;34m\u001b[0m\n\u001b[0;32m----> 1\u001b[0;31m \u001b[0mp\u001b[0m\u001b[0;34m.\u001b[0m\u001b[0mrebalance\u001b[0m\u001b[0;34m(\u001b[0m\u001b[0mtarget_asset_alloc\u001b[0m\u001b[0;34m,\u001b[0m \u001b[0mverbose\u001b[0m\u001b[0;34m=\u001b[0m\u001b[0;32mTrue\u001b[0m\u001b[0;34m)\u001b[0m\u001b[0;34m\u001b[0m\u001b[0;34m\u001b[0m\u001b[0m\n\u001b[0m",
      "\u001b[0;32m~/iCloud Drive (Archive)/Documents/Finance/Work/kisra/src/models/portfolio.py\u001b[0m in \u001b[0;36mrebalance\u001b[0;34m(self, target_allocation, verbose)\u001b[0m\n\u001b[1;32m    265\u001b[0m \u001b[0;34m\u001b[0m\u001b[0m\n\u001b[1;32m    266\u001b[0m         \u001b[0;31m# offload heavy work\u001b[0m\u001b[0;34m\u001b[0m\u001b[0;34m\u001b[0m\u001b[0;34m\u001b[0m\u001b[0m\n\u001b[0;32m--> 267\u001b[0;31m         \u001b[0;34m(\u001b[0m\u001b[0mbalanced_portfolio\u001b[0m\u001b[0;34m,\u001b[0m \u001b[0mnew_units\u001b[0m\u001b[0;34m,\u001b[0m \u001b[0mprices\u001b[0m\u001b[0;34m,\u001b[0m \u001b[0mcost\u001b[0m\u001b[0;34m,\u001b[0m \u001b[0mexchange_history\u001b[0m\u001b[0;34m)\u001b[0m \u001b[0;34m=\u001b[0m \u001b[0mrebalancing_helper\u001b[0m\u001b[0;34m.\u001b[0m\u001b[0mrebalance\u001b[0m\u001b[0;34m(\u001b[0m\u001b[0mself\u001b[0m\u001b[0;34m,\u001b[0m \u001b[0mtarget_allocation_np\u001b[0m\u001b[0;34m)\u001b[0m\u001b[0;34m\u001b[0m\u001b[0;34m\u001b[0m\u001b[0m\n\u001b[0m\u001b[1;32m    268\u001b[0m \u001b[0;34m\u001b[0m\u001b[0m\n\u001b[1;32m    269\u001b[0m         \u001b[0;31m# compute old and new asset allocation\u001b[0m\u001b[0;34m\u001b[0m\u001b[0;34m\u001b[0m\u001b[0;34m\u001b[0m\u001b[0m\n",
      "\u001b[0;32m~/iCloud Drive (Archive)/Documents/Finance/Work/kisra/src/models/rebalancing_helper.py\u001b[0m in \u001b[0;36mrebalance\u001b[0;34m(portfolio, target_allocation)\u001b[0m\n\u001b[1;32m     43\u001b[0m                               balanced_portfolio.assets.keys()):\n\u001b[1;32m     44\u001b[0m         \u001b[0;32mif\u001b[0m \u001b[0mportfolio\u001b[0m\u001b[0;34m.\u001b[0m\u001b[0mselling_allowed\u001b[0m\u001b[0;34m:\u001b[0m\u001b[0;34m\u001b[0m\u001b[0;34m\u001b[0m\u001b[0m\n\u001b[0;32m---> 45\u001b[0;31m             new_units[ticker] = math.floor(\n\u001b[0m\u001b[1;32m     46\u001b[0m                 (sol_mv - portfolio.assets[ticker].market_value_in(\n\u001b[1;32m     47\u001b[0m                     cmn_curr)) / portfolio.assets[ticker].price_in(\n",
      "\u001b[0;31mOverflowError\u001b[0m: cannot convert float infinity to integer"
     ]
    }
   ],
   "source": [
    "p.rebalance(target_asset_alloc, verbose=True)"
   ]
  },
  {
   "cell_type": "code",
   "execution_count": 16,
   "id": "looking-electricity",
   "metadata": {
    "ExecuteTime": {
     "end_time": "2021-03-19T08:29:17.664642Z",
     "start_time": "2021-03-19T08:29:17.656663Z"
    }
   },
   "outputs": [
    {
     "ename": "KeyError",
     "evalue": "'A069500'",
     "output_type": "error",
     "traceback": [
      "\u001b[1;31m---------------------------------------------------------------------------\u001b[0m",
      "\u001b[1;31mKeyError\u001b[0m                                  Traceback (most recent call last)",
      "\u001b[1;32m<ipython-input-16-132de57f1a8e>\u001b[0m in \u001b[0;36m<module>\u001b[1;34m\u001b[0m\n\u001b[1;32m----> 1\u001b[1;33m \u001b[0mtarget_asset_alloc\u001b[0m\u001b[1;33m[\u001b[0m\u001b[1;34m'A069500'\u001b[0m\u001b[1;33m]\u001b[0m\u001b[1;33m\u001b[0m\u001b[1;33m\u001b[0m\u001b[0m\n\u001b[0m",
      "\u001b[1;31mKeyError\u001b[0m: 'A069500'"
     ]
    }
   ],
   "source": [
    "target_asset_alloc['A069500']"
   ]
  },
  {
   "cell_type": "code",
   "execution_count": 13,
   "id": "reduced-buyer",
   "metadata": {
    "ExecuteTime": {
     "end_time": "2021-03-19T08:28:42.246560Z",
     "start_time": "2021-03-19T08:28:42.240577Z"
    }
   },
   "outputs": [
    {
     "data": {
      "text/plain": [
       "{'A069500': <asset.Asset at 0x1e0cead8b20>,\n",
       " 'A360200': <asset.Asset at 0x1e0cead8be0>,\n",
       " 'A196230': <asset.Asset at 0x1e0cead8cd0>,\n",
       " 'A302190': <asset.Asset at 0x1e0cead8d90>,\n",
       " 'A329750': <asset.Asset at 0x1e0cead8e80>,\n",
       " 'A367380': <asset.Asset at 0x1e0cead8f40>}"
      ]
     },
     "execution_count": 13,
     "metadata": {},
     "output_type": "execute_result"
    }
   ],
   "source": [
    "p.assets"
   ]
  },
  {
   "cell_type": "code",
   "execution_count": 63,
   "id": "cardiac-graphics",
   "metadata": {
    "ExecuteTime": {
     "end_time": "2021-03-19T08:01:26.251707Z",
     "start_time": "2021-03-19T08:01:26.246721Z"
    }
   },
   "outputs": [
    {
     "data": {
      "text/plain": [
       "0.9999999998925693"
      ]
     },
     "execution_count": 63,
     "metadata": {},
     "output_type": "execute_result"
    }
   ],
   "source": [
    "new_port.wt.sum()"
   ]
  },
  {
   "cell_type": "code",
   "execution_count": 68,
   "id": "metric-forum",
   "metadata": {
    "ExecuteTime": {
     "end_time": "2021-03-19T08:04:16.985366Z",
     "start_time": "2021-03-19T08:04:16.981377Z"
    }
   },
   "outputs": [],
   "source": [
    "import numpy as np"
   ]
  },
  {
   "cell_type": "code",
   "execution_count": 70,
   "id": "piano-claim",
   "metadata": {
    "ExecuteTime": {
     "end_time": "2021-03-19T08:04:38.303137Z",
     "start_time": "2021-03-19T08:04:38.293164Z"
    }
   },
   "outputs": [
    {
     "ename": "Exception",
     "evalue": "'target_allocation not compatible with the assets of the portfolio.",
     "output_type": "error",
     "traceback": [
      "\u001b[1;31m---------------------------------------------------------------------------\u001b[0m",
      "\u001b[1;31mNameError\u001b[0m                                 Traceback (most recent call last)",
      "\u001b[1;32m<ipython-input-70-ef66f95b3b3a>\u001b[0m in \u001b[0;36m<module>\u001b[1;34m\u001b[0m\n\u001b[0;32m      3\u001b[0m \u001b[1;32mtry\u001b[0m\u001b[1;33m:\u001b[0m\u001b[1;33m\u001b[0m\u001b[1;33m\u001b[0m\u001b[0m\n\u001b[1;32m----> 4\u001b[1;33m     \u001b[1;32mfor\u001b[0m \u001b[0mkey\u001b[0m \u001b[1;32min\u001b[0m \u001b[0mself\u001b[0m\u001b[1;33m.\u001b[0m\u001b[0massets\u001b[0m\u001b[1;33m:\u001b[0m\u001b[1;33m\u001b[0m\u001b[1;33m\u001b[0m\u001b[0m\n\u001b[0m\u001b[0;32m      5\u001b[0m         \u001b[0mtarget_allocation_reordered\u001b[0m\u001b[1;33m[\u001b[0m\u001b[0mkey\u001b[0m\u001b[1;33m]\u001b[0m \u001b[1;33m=\u001b[0m \u001b[0mtarget_allocation\u001b[0m\u001b[1;33m[\u001b[0m\u001b[0mkey\u001b[0m\u001b[1;33m]\u001b[0m\u001b[1;33m\u001b[0m\u001b[1;33m\u001b[0m\u001b[0m\n",
      "\u001b[1;31mNameError\u001b[0m: name 'self' is not defined",
      "\nDuring handling of the above exception, another exception occurred:\n",
      "\u001b[1;31mException\u001b[0m                                 Traceback (most recent call last)",
      "\u001b[1;32m<ipython-input-70-ef66f95b3b3a>\u001b[0m in \u001b[0;36m<module>\u001b[1;34m\u001b[0m\n\u001b[0;32m      5\u001b[0m         \u001b[0mtarget_allocation_reordered\u001b[0m\u001b[1;33m[\u001b[0m\u001b[0mkey\u001b[0m\u001b[1;33m]\u001b[0m \u001b[1;33m=\u001b[0m \u001b[0mtarget_allocation\u001b[0m\u001b[1;33m[\u001b[0m\u001b[0mkey\u001b[0m\u001b[1;33m]\u001b[0m\u001b[1;33m\u001b[0m\u001b[1;33m\u001b[0m\u001b[0m\n\u001b[0;32m      6\u001b[0m \u001b[1;32mexcept\u001b[0m\u001b[1;33m:\u001b[0m\u001b[1;33m\u001b[0m\u001b[1;33m\u001b[0m\u001b[0m\n\u001b[1;32m----> 7\u001b[1;33m     raise Exception(\n\u001b[0m\u001b[0;32m      8\u001b[0m         \u001b[1;34m\"'target_allocation not compatible with the assets of the portfolio.\"\u001b[0m\u001b[1;33m\u001b[0m\u001b[1;33m\u001b[0m\u001b[0m\n\u001b[0;32m      9\u001b[0m     )\n",
      "\u001b[1;31mException\u001b[0m: 'target_allocation not compatible with the assets of the portfolio."
     ]
    }
   ],
   "source": [
    "# order target_allocation dict in the same order as assets dict and upper key\n",
    "target_allocation_reordered = {}\n",
    "try:\n",
    "    for key in assets:\n",
    "        target_allocation_reordered[key] = target_allocation[key]\n",
    "except:\n",
    "    raise Exception(\n",
    "        \"'target_allocation not compatible with the assets of the portfolio.\"\n",
    "    )\n",
    "\n",
    "target_allocation_np = np.fromiter(\n",
    "    target_allocation_reordered.values(), dtype=float)"
   ]
  },
  {
   "cell_type": "code",
   "execution_count": 73,
   "id": "packed-evolution",
   "metadata": {
    "ExecuteTime": {
     "end_time": "2021-03-19T08:12:36.253631Z",
     "start_time": "2021-03-19T08:12:36.248644Z"
    }
   },
   "outputs": [
    {
     "data": {
      "text/plain": [
       "{}"
      ]
     },
     "execution_count": 73,
     "metadata": {},
     "output_type": "execute_result"
    }
   ],
   "source": [
    "p.assets"
   ]
  },
  {
   "cell_type": "code",
   "execution_count": 19,
   "id": "infectious-fleet",
   "metadata": {
    "ExecuteTime": {
     "end_time": "2021-03-20T08:15:29.658878Z",
     "start_time": "2021-03-20T08:15:29.656268Z"
    }
   },
   "outputs": [],
   "source": [
    "price_db = PriceDB.instance().data"
   ]
  },
  {
   "cell_type": "code",
   "execution_count": 21,
   "id": "suited-polyester",
   "metadata": {
    "ExecuteTime": {
     "end_time": "2021-03-20T08:15:37.724072Z",
     "start_time": "2021-03-20T08:15:37.716419Z"
    }
   },
   "outputs": [
    {
     "data": {
      "text/plain": [
       "{'ETF'}"
      ]
     },
     "execution_count": 21,
     "metadata": {},
     "output_type": "execute_result"
    }
   ],
   "source": [
    "set(price_db.itemtype)"
   ]
  },
  {
   "cell_type": "code",
   "execution_count": null,
   "id": "impressive-residence",
   "metadata": {},
   "outputs": [],
   "source": []
  }
 ],
 "metadata": {
  "kernelspec": {
   "display_name": "Python 3",
   "language": "python",
   "name": "python3"
  },
  "language_info": {
   "codemirror_mode": {
    "name": "ipython",
    "version": 3
   },
   "file_extension": ".py",
   "mimetype": "text/x-python",
   "name": "python",
   "nbconvert_exporter": "python",
   "pygments_lexer": "ipython3",
   "version": "3.8.8"
  }
 },
 "nbformat": 4,
 "nbformat_minor": 5
}
