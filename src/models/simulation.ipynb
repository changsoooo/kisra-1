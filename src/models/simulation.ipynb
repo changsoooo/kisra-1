{
 "cells": [
  {
   "cell_type": "code",
   "execution_count": 1,
   "id": "paperback-person",
   "metadata": {
    "ExecuteTime": {
     "end_time": "2021-03-23T22:51:25.107329Z",
     "start_time": "2021-03-23T22:51:23.575985Z"
    }
   },
   "outputs": [],
   "source": [
    "import pandas as pd\n",
    "from load_data import Balance, Instruments, AdvisedPortfolios, PriceDB, Singleton"
   ]
  },
  {
   "cell_type": "markdown",
   "id": "fantastic-certification",
   "metadata": {},
   "source": [
    "## 추천받은 포트폴리오 -> 잔고(detail 테이블)"
   ]
  },
  {
   "cell_type": "code",
   "execution_count": 2,
   "id": "threaded-colleague",
   "metadata": {
    "ExecuteTime": {
     "end_time": "2021-03-23T22:51:25.174811Z",
     "start_time": "2021-03-23T22:51:25.109309Z"
    }
   },
   "outputs": [],
   "source": [
    "instruments_m = pd.read_pickle('../../data/processed/instruments_m.pkl')\n",
    "price_db = pd.read_pickle('../../data/external/price_db_d.pkl')\n",
    "advised_pf = pd.read_pickle('../../data/processed/advised_portfolios.pkl')    "
   ]
  },
  {
   "cell_type": "code",
   "execution_count": 3,
   "id": "sticky-touch",
   "metadata": {
    "ExecuteTime": {
     "end_time": "2021-03-23T22:51:25.194664Z",
     "start_time": "2021-03-23T22:51:25.176796Z"
    }
   },
   "outputs": [],
   "source": [
    "userid = 'A00'\n",
    "username = '투자자0'\n",
    "current_date = '2021-02-01'\n",
    "risk_profile = 2\n",
    "\n",
    "# c_date: 추천 포트폴리오DB에서 사용자가 입력한 날짜와 가장 가까운 날짜.\n",
    "c_date = advised_pf.loc[advised_pf.date <= current_date, ['date']].max().date\n",
    "new_units = {'A122260': 2, 'A114260': 4, 'A130730': 2, 'A329650': 13, 'A266370': 4}\n",
    "prices = {'A122260': [101185.0, 'KRW'], 'A114260': [57900.0, 'KRW'], 'A130730': [100975.0, 'KRW'], 'A329650': [10980.0, 'KRW'], 'A266370': [21325.0, 'KRW']}\n",
    "df = advised_pf.loc[(advised_pf.date==c_date) & (advised_pf.risk_profile==risk_profile), :]\n",
    "remaining_cash = 135786"
   ]
  },
  {
   "cell_type": "code",
   "execution_count": 4,
   "id": "colored-impossible",
   "metadata": {
    "ExecuteTime": {
     "end_time": "2021-03-23T22:51:25.219474Z",
     "start_time": "2021-03-23T22:51:25.196644Z"
    }
   },
   "outputs": [],
   "source": [
    "# 보유수량\n",
    "detail = pd.DataFrame.from_dict(new_units, orient='index').rename(columns={0:'quantity'})\n",
    "detail.index.name='itemcode'\n",
    "\n",
    "# 매입가격\n",
    "temp = pd.DataFrame.from_dict(prices, orient='index').rename(columns={0:'cost_price'}).drop([1], axis=1)\n",
    "temp.index.name='itemcode'\n",
    "\n",
    "# 병합\n",
    "detail = detail.merge(temp, left_index=True, right_index=True, how='inner')\n",
    "\n",
    "detail['price'] = detail['cost_price']\n",
    "detail['cost_value'] = detail['quantity']*detail['cost_price']\n",
    "detail['value'] = detail['quantity']*detail['cost_price']  # 매입가와 평가가격 동일하다고 가정\n",
    "detail = detail.merge(instruments_m.loc[:, ['itemcode', 'itemname', 'asset_class']], left_on='itemcode', right_on='itemcode', how='left')\n",
    "detail = detail.reset_index(drop=True)"
   ]
  },
  {
   "cell_type": "code",
   "execution_count": 5,
   "id": "retained-lending",
   "metadata": {
    "ExecuteTime": {
     "end_time": "2021-03-23T22:51:25.228404Z",
     "start_time": "2021-03-23T22:51:25.221456Z"
    }
   },
   "outputs": [],
   "source": [
    "df_cash = {\n",
    "    'itemcode': 'C000001',\n",
    "    'quantity': remaining_cash,\n",
    "    'cost_price': 1,\n",
    "    'cost_value': remaining_cash,\n",
    "    'price':1\n",
    "    'value': remaining_cash,\n",
    "    'itemname': '현금',\n",
    "    'asset_class': 'Cash'\n",
    "}\n",
    "df_cash = pd.DataFrame.from_dict(df_cash, orient='index').T"
   ]
  },
  {
   "cell_type": "code",
   "execution_count": 6,
   "id": "double-omega",
   "metadata": {
    "ExecuteTime": {
     "end_time": "2021-03-23T22:51:25.762519Z",
     "start_time": "2021-03-23T22:51:25.756565Z"
    }
   },
   "outputs": [],
   "source": [
    "detail = pd.concat([detail, df_cash])"
   ]
  },
  {
   "cell_type": "code",
   "execution_count": 7,
   "id": "complicated-panel",
   "metadata": {
    "ExecuteTime": {
     "end_time": "2021-03-23T22:51:25.938182Z",
     "start_time": "2021-03-23T22:51:25.931235Z"
    }
   },
   "outputs": [],
   "source": [
    "detail['date'] = c_date\n",
    "detail['date'] = pd.to_datetime(detail['date'], format='%Y-%m-%d').dt.strftime('%m/%d/%Y 4:0:00 PM').astype(str)\n",
    "detail['userid'] = userid\n",
    "detail['username'] = username\n",
    "detail['original'] = 'N'\n",
    "detail['group_by'] = ''"
   ]
  },
  {
   "cell_type": "code",
   "execution_count": 8,
   "id": "graduate-causing",
   "metadata": {
    "ExecuteTime": {
     "end_time": "2021-03-23T22:51:26.113845Z",
     "start_time": "2021-03-23T22:51:26.095981Z"
    }
   },
   "outputs": [
    {
     "data": {
      "text/html": [
       "<div>\n",
       "<style scoped>\n",
       "    .dataframe tbody tr th:only-of-type {\n",
       "        vertical-align: middle;\n",
       "    }\n",
       "\n",
       "    .dataframe tbody tr th {\n",
       "        vertical-align: top;\n",
       "    }\n",
       "\n",
       "    .dataframe thead th {\n",
       "        text-align: right;\n",
       "    }\n",
       "</style>\n",
       "<table border=\"1\" class=\"dataframe\">\n",
       "  <thead>\n",
       "    <tr style=\"text-align: right;\">\n",
       "      <th></th>\n",
       "      <th>itemcode</th>\n",
       "      <th>quantity</th>\n",
       "      <th>cost_price</th>\n",
       "      <th>price</th>\n",
       "      <th>cost_value</th>\n",
       "      <th>value</th>\n",
       "      <th>itemname</th>\n",
       "      <th>asset_class</th>\n",
       "      <th>date</th>\n",
       "      <th>userid</th>\n",
       "      <th>username</th>\n",
       "      <th>original</th>\n",
       "      <th>group_by</th>\n",
       "    </tr>\n",
       "  </thead>\n",
       "  <tbody>\n",
       "    <tr>\n",
       "      <th>0</th>\n",
       "      <td>A122260</td>\n",
       "      <td>2</td>\n",
       "      <td>101185</td>\n",
       "      <td>101185.0</td>\n",
       "      <td>202370</td>\n",
       "      <td>202370</td>\n",
       "      <td>KOSEF 통안채1년</td>\n",
       "      <td>Fixed Income</td>\n",
       "      <td>02/01/2021 4:0:00 PM</td>\n",
       "      <td>A00</td>\n",
       "      <td>투자자0</td>\n",
       "      <td>N</td>\n",
       "      <td></td>\n",
       "    </tr>\n",
       "    <tr>\n",
       "      <th>1</th>\n",
       "      <td>A114260</td>\n",
       "      <td>4</td>\n",
       "      <td>57900</td>\n",
       "      <td>57900.0</td>\n",
       "      <td>231600</td>\n",
       "      <td>231600</td>\n",
       "      <td>KODEX 국고채3년</td>\n",
       "      <td>Fixed Income</td>\n",
       "      <td>02/01/2021 4:0:00 PM</td>\n",
       "      <td>A00</td>\n",
       "      <td>투자자0</td>\n",
       "      <td>N</td>\n",
       "      <td></td>\n",
       "    </tr>\n",
       "    <tr>\n",
       "      <th>2</th>\n",
       "      <td>A130730</td>\n",
       "      <td>2</td>\n",
       "      <td>100975</td>\n",
       "      <td>100975.0</td>\n",
       "      <td>201950</td>\n",
       "      <td>201950</td>\n",
       "      <td>KOSEF 단기자금</td>\n",
       "      <td>Fixed Income</td>\n",
       "      <td>02/01/2021 4:0:00 PM</td>\n",
       "      <td>A00</td>\n",
       "      <td>투자자0</td>\n",
       "      <td>N</td>\n",
       "      <td></td>\n",
       "    </tr>\n",
       "    <tr>\n",
       "      <th>3</th>\n",
       "      <td>A329650</td>\n",
       "      <td>13</td>\n",
       "      <td>10980</td>\n",
       "      <td>10980.0</td>\n",
       "      <td>142740</td>\n",
       "      <td>142740</td>\n",
       "      <td>KODEX TRF3070</td>\n",
       "      <td>Alternative</td>\n",
       "      <td>02/01/2021 4:0:00 PM</td>\n",
       "      <td>A00</td>\n",
       "      <td>투자자0</td>\n",
       "      <td>N</td>\n",
       "      <td></td>\n",
       "    </tr>\n",
       "    <tr>\n",
       "      <th>4</th>\n",
       "      <td>A266370</td>\n",
       "      <td>4</td>\n",
       "      <td>21325</td>\n",
       "      <td>21325.0</td>\n",
       "      <td>85300</td>\n",
       "      <td>85300</td>\n",
       "      <td>KODEX IT</td>\n",
       "      <td>Equity</td>\n",
       "      <td>02/01/2021 4:0:00 PM</td>\n",
       "      <td>A00</td>\n",
       "      <td>투자자0</td>\n",
       "      <td>N</td>\n",
       "      <td></td>\n",
       "    </tr>\n",
       "    <tr>\n",
       "      <th>0</th>\n",
       "      <td>C000001</td>\n",
       "      <td>135786</td>\n",
       "      <td>1</td>\n",
       "      <td>NaN</td>\n",
       "      <td>135786</td>\n",
       "      <td>135786</td>\n",
       "      <td>현금</td>\n",
       "      <td>Cash</td>\n",
       "      <td>02/01/2021 4:0:00 PM</td>\n",
       "      <td>A00</td>\n",
       "      <td>투자자0</td>\n",
       "      <td>N</td>\n",
       "      <td></td>\n",
       "    </tr>\n",
       "  </tbody>\n",
       "</table>\n",
       "</div>"
      ],
      "text/plain": [
       "  itemcode quantity cost_price     price cost_value   value       itemname  \\\n",
       "0  A122260        2     101185  101185.0     202370  202370    KOSEF 통안채1년   \n",
       "1  A114260        4      57900   57900.0     231600  231600    KODEX 국고채3년   \n",
       "2  A130730        2     100975  100975.0     201950  201950     KOSEF 단기자금   \n",
       "3  A329650       13      10980   10980.0     142740  142740  KODEX TRF3070   \n",
       "4  A266370        4      21325   21325.0      85300   85300       KODEX IT   \n",
       "0  C000001   135786          1       NaN     135786  135786             현금   \n",
       "\n",
       "    asset_class                  date userid username original group_by  \n",
       "0  Fixed Income  02/01/2021 4:0:00 PM    A00     투자자0        N           \n",
       "1  Fixed Income  02/01/2021 4:0:00 PM    A00     투자자0        N           \n",
       "2  Fixed Income  02/01/2021 4:0:00 PM    A00     투자자0        N           \n",
       "3   Alternative  02/01/2021 4:0:00 PM    A00     투자자0        N           \n",
       "4        Equity  02/01/2021 4:0:00 PM    A00     투자자0        N           \n",
       "0          Cash  02/01/2021 4:0:00 PM    A00     투자자0        N           "
      ]
     },
     "execution_count": 8,
     "metadata": {},
     "output_type": "execute_result"
    }
   ],
   "source": [
    "detail"
   ]
  },
  {
   "cell_type": "code",
   "execution_count": 9,
   "id": "raising-penny",
   "metadata": {
    "ExecuteTime": {
     "end_time": "2021-03-23T22:51:26.262735Z",
     "start_time": "2021-03-23T22:51:26.257772Z"
    }
   },
   "outputs": [],
   "source": [
    "detail['wt'] = detail.value.transform(lambda x: x/x.sum())"
   ]
  },
  {
   "cell_type": "code",
   "execution_count": 10,
   "id": "reserved-complexity",
   "metadata": {
    "ExecuteTime": {
     "end_time": "2021-03-23T22:51:26.404654Z",
     "start_time": "2021-03-23T22:51:26.400685Z"
    }
   },
   "outputs": [],
   "source": [
    "detail = detail.reset_index(drop=True)"
   ]
  },
  {
   "cell_type": "code",
   "execution_count": 11,
   "id": "atomic-sewing",
   "metadata": {
    "ExecuteTime": {
     "end_time": "2021-03-23T22:51:27.759857Z",
     "start_time": "2021-03-23T22:51:27.746956Z"
    }
   },
   "outputs": [
    {
     "data": {
      "text/html": [
       "<div>\n",
       "<style scoped>\n",
       "    .dataframe tbody tr th:only-of-type {\n",
       "        vertical-align: middle;\n",
       "    }\n",
       "\n",
       "    .dataframe tbody tr th {\n",
       "        vertical-align: top;\n",
       "    }\n",
       "\n",
       "    .dataframe thead th {\n",
       "        text-align: right;\n",
       "    }\n",
       "</style>\n",
       "<table border=\"1\" class=\"dataframe\">\n",
       "  <thead>\n",
       "    <tr style=\"text-align: right;\">\n",
       "      <th></th>\n",
       "      <th>itemcode</th>\n",
       "      <th>quantity</th>\n",
       "      <th>cost_price</th>\n",
       "      <th>price</th>\n",
       "      <th>cost_value</th>\n",
       "      <th>value</th>\n",
       "      <th>itemname</th>\n",
       "      <th>asset_class</th>\n",
       "      <th>date</th>\n",
       "      <th>userid</th>\n",
       "      <th>username</th>\n",
       "      <th>original</th>\n",
       "      <th>group_by</th>\n",
       "      <th>wt</th>\n",
       "    </tr>\n",
       "  </thead>\n",
       "  <tbody>\n",
       "    <tr>\n",
       "      <th>0</th>\n",
       "      <td>A122260</td>\n",
       "      <td>2</td>\n",
       "      <td>101185</td>\n",
       "      <td>101185.0</td>\n",
       "      <td>202370</td>\n",
       "      <td>202370</td>\n",
       "      <td>KOSEF 통안채1년</td>\n",
       "      <td>Fixed Income</td>\n",
       "      <td>02/01/2021 4:0:00 PM</td>\n",
       "      <td>A00</td>\n",
       "      <td>투자자0</td>\n",
       "      <td>N</td>\n",
       "      <td></td>\n",
       "      <td>0.202421</td>\n",
       "    </tr>\n",
       "    <tr>\n",
       "      <th>1</th>\n",
       "      <td>A114260</td>\n",
       "      <td>4</td>\n",
       "      <td>57900</td>\n",
       "      <td>57900.0</td>\n",
       "      <td>231600</td>\n",
       "      <td>231600</td>\n",
       "      <td>KODEX 국고채3년</td>\n",
       "      <td>Fixed Income</td>\n",
       "      <td>02/01/2021 4:0:00 PM</td>\n",
       "      <td>A00</td>\n",
       "      <td>투자자0</td>\n",
       "      <td>N</td>\n",
       "      <td></td>\n",
       "      <td>0.231659</td>\n",
       "    </tr>\n",
       "    <tr>\n",
       "      <th>2</th>\n",
       "      <td>A130730</td>\n",
       "      <td>2</td>\n",
       "      <td>100975</td>\n",
       "      <td>100975.0</td>\n",
       "      <td>201950</td>\n",
       "      <td>201950</td>\n",
       "      <td>KOSEF 단기자금</td>\n",
       "      <td>Fixed Income</td>\n",
       "      <td>02/01/2021 4:0:00 PM</td>\n",
       "      <td>A00</td>\n",
       "      <td>투자자0</td>\n",
       "      <td>N</td>\n",
       "      <td></td>\n",
       "      <td>0.202001</td>\n",
       "    </tr>\n",
       "    <tr>\n",
       "      <th>3</th>\n",
       "      <td>A329650</td>\n",
       "      <td>13</td>\n",
       "      <td>10980</td>\n",
       "      <td>10980.0</td>\n",
       "      <td>142740</td>\n",
       "      <td>142740</td>\n",
       "      <td>KODEX TRF3070</td>\n",
       "      <td>Alternative</td>\n",
       "      <td>02/01/2021 4:0:00 PM</td>\n",
       "      <td>A00</td>\n",
       "      <td>투자자0</td>\n",
       "      <td>N</td>\n",
       "      <td></td>\n",
       "      <td>0.142776</td>\n",
       "    </tr>\n",
       "    <tr>\n",
       "      <th>4</th>\n",
       "      <td>A266370</td>\n",
       "      <td>4</td>\n",
       "      <td>21325</td>\n",
       "      <td>21325.0</td>\n",
       "      <td>85300</td>\n",
       "      <td>85300</td>\n",
       "      <td>KODEX IT</td>\n",
       "      <td>Equity</td>\n",
       "      <td>02/01/2021 4:0:00 PM</td>\n",
       "      <td>A00</td>\n",
       "      <td>투자자0</td>\n",
       "      <td>N</td>\n",
       "      <td></td>\n",
       "      <td>0.0853217</td>\n",
       "    </tr>\n",
       "    <tr>\n",
       "      <th>5</th>\n",
       "      <td>C000001</td>\n",
       "      <td>135786</td>\n",
       "      <td>1</td>\n",
       "      <td>NaN</td>\n",
       "      <td>135786</td>\n",
       "      <td>135786</td>\n",
       "      <td>현금</td>\n",
       "      <td>Cash</td>\n",
       "      <td>02/01/2021 4:0:00 PM</td>\n",
       "      <td>A00</td>\n",
       "      <td>투자자0</td>\n",
       "      <td>N</td>\n",
       "      <td></td>\n",
       "      <td>0.13582</td>\n",
       "    </tr>\n",
       "  </tbody>\n",
       "</table>\n",
       "</div>"
      ],
      "text/plain": [
       "  itemcode quantity cost_price     price cost_value   value       itemname  \\\n",
       "0  A122260        2     101185  101185.0     202370  202370    KOSEF 통안채1년   \n",
       "1  A114260        4      57900   57900.0     231600  231600    KODEX 국고채3년   \n",
       "2  A130730        2     100975  100975.0     201950  201950     KOSEF 단기자금   \n",
       "3  A329650       13      10980   10980.0     142740  142740  KODEX TRF3070   \n",
       "4  A266370        4      21325   21325.0      85300   85300       KODEX IT   \n",
       "5  C000001   135786          1       NaN     135786  135786             현금   \n",
       "\n",
       "    asset_class                  date userid username original group_by  \\\n",
       "0  Fixed Income  02/01/2021 4:0:00 PM    A00     투자자0        N            \n",
       "1  Fixed Income  02/01/2021 4:0:00 PM    A00     투자자0        N            \n",
       "2  Fixed Income  02/01/2021 4:0:00 PM    A00     투자자0        N            \n",
       "3   Alternative  02/01/2021 4:0:00 PM    A00     투자자0        N            \n",
       "4        Equity  02/01/2021 4:0:00 PM    A00     투자자0        N            \n",
       "5          Cash  02/01/2021 4:0:00 PM    A00     투자자0        N            \n",
       "\n",
       "          wt  \n",
       "0   0.202421  \n",
       "1   0.231659  \n",
       "2   0.202001  \n",
       "3   0.142776  \n",
       "4  0.0853217  \n",
       "5    0.13582  "
      ]
     },
     "execution_count": 11,
     "metadata": {},
     "output_type": "execute_result"
    }
   ],
   "source": [
    "detail"
   ]
  },
  {
   "cell_type": "code",
   "execution_count": null,
   "id": "dangerous-tomorrow",
   "metadata": {},
   "outputs": [],
   "source": []
  },
  {
   "cell_type": "markdown",
   "id": "completed-grenada",
   "metadata": {},
   "source": [
    "## 리밸런싱"
   ]
  },
  {
   "cell_type": "code",
   "execution_count": 17,
   "id": "critical-mustang",
   "metadata": {
    "ExecuteTime": {
     "end_time": "2021-03-23T22:52:29.297285Z",
     "start_time": "2021-03-23T22:52:29.292299Z"
    }
   },
   "outputs": [
    {
     "data": {
      "text/plain": [
       "'2021-02-01'"
      ]
     },
     "execution_count": 17,
     "metadata": {},
     "output_type": "execute_result"
    }
   ],
   "source": [
    "from datetime import datetime\n",
    "current_date"
   ]
  },
  {
   "cell_type": "code",
   "execution_count": 18,
   "id": "forced-cisco",
   "metadata": {
    "ExecuteTime": {
     "end_time": "2021-03-23T22:52:29.473814Z",
     "start_time": "2021-03-23T22:52:29.467829Z"
    }
   },
   "outputs": [],
   "source": [
    "end_date = advised_pf.loc[(advised_pf.risk_profile==risk_profile) & (advised_pf.date > current_date), 'date'].max()\n",
    "dates = advised_pf.loc[(advised_pf.risk_profile==risk_profile) & (advised_pf.date > current_date), 'date'].unique()"
   ]
  },
  {
   "cell_type": "code",
   "execution_count": 19,
   "id": "british-arrow",
   "metadata": {
    "ExecuteTime": {
     "end_time": "2021-03-23T22:52:29.640367Z",
     "start_time": "2021-03-23T22:52:29.636379Z"
    }
   },
   "outputs": [],
   "source": [
    "dt = datetime.strptime('2021-02-01', '%Y-%m-%d')\n",
    "dt = str(dt.month)+'/'+str(dt.day)+'/'+str(dt.year)+' 09:00:00 AM'"
   ]
  },
  {
   "cell_type": "code",
   "execution_count": 21,
   "id": "cheap-aberdeen",
   "metadata": {
    "ExecuteTime": {
     "end_time": "2021-03-23T22:52:38.872518Z",
     "start_time": "2021-03-23T22:52:38.860551Z"
    }
   },
   "outputs": [
    {
     "data": {
      "text/html": [
       "<div>\n",
       "<style scoped>\n",
       "    .dataframe tbody tr th:only-of-type {\n",
       "        vertical-align: middle;\n",
       "    }\n",
       "\n",
       "    .dataframe tbody tr th {\n",
       "        vertical-align: top;\n",
       "    }\n",
       "\n",
       "    .dataframe thead th {\n",
       "        text-align: right;\n",
       "    }\n",
       "</style>\n",
       "<table border=\"1\" class=\"dataframe\">\n",
       "  <thead>\n",
       "    <tr style=\"text-align: right;\">\n",
       "      <th></th>\n",
       "      <th>itemcode</th>\n",
       "      <th>quantity</th>\n",
       "      <th>cost_price</th>\n",
       "      <th>price</th>\n",
       "      <th>cost_value</th>\n",
       "      <th>value</th>\n",
       "      <th>itemname</th>\n",
       "      <th>asset_class</th>\n",
       "      <th>date</th>\n",
       "      <th>userid</th>\n",
       "      <th>username</th>\n",
       "      <th>original</th>\n",
       "      <th>group_by</th>\n",
       "      <th>wt</th>\n",
       "    </tr>\n",
       "  </thead>\n",
       "  <tbody>\n",
       "    <tr>\n",
       "      <th>0</th>\n",
       "      <td>A122260</td>\n",
       "      <td>2</td>\n",
       "      <td>101185</td>\n",
       "      <td>101185.0</td>\n",
       "      <td>202370</td>\n",
       "      <td>202370</td>\n",
       "      <td>KOSEF 통안채1년</td>\n",
       "      <td>Fixed Income</td>\n",
       "      <td>02/01/2021 4:0:00 PM</td>\n",
       "      <td>A00</td>\n",
       "      <td>투자자0</td>\n",
       "      <td>N</td>\n",
       "      <td></td>\n",
       "      <td>0.202421</td>\n",
       "    </tr>\n",
       "    <tr>\n",
       "      <th>1</th>\n",
       "      <td>A114260</td>\n",
       "      <td>4</td>\n",
       "      <td>57900</td>\n",
       "      <td>57900.0</td>\n",
       "      <td>231600</td>\n",
       "      <td>231600</td>\n",
       "      <td>KODEX 국고채3년</td>\n",
       "      <td>Fixed Income</td>\n",
       "      <td>02/01/2021 4:0:00 PM</td>\n",
       "      <td>A00</td>\n",
       "      <td>투자자0</td>\n",
       "      <td>N</td>\n",
       "      <td></td>\n",
       "      <td>0.231659</td>\n",
       "    </tr>\n",
       "    <tr>\n",
       "      <th>2</th>\n",
       "      <td>A130730</td>\n",
       "      <td>2</td>\n",
       "      <td>100975</td>\n",
       "      <td>100975.0</td>\n",
       "      <td>201950</td>\n",
       "      <td>201950</td>\n",
       "      <td>KOSEF 단기자금</td>\n",
       "      <td>Fixed Income</td>\n",
       "      <td>02/01/2021 4:0:00 PM</td>\n",
       "      <td>A00</td>\n",
       "      <td>투자자0</td>\n",
       "      <td>N</td>\n",
       "      <td></td>\n",
       "      <td>0.202001</td>\n",
       "    </tr>\n",
       "    <tr>\n",
       "      <th>3</th>\n",
       "      <td>A329650</td>\n",
       "      <td>13</td>\n",
       "      <td>10980</td>\n",
       "      <td>10980.0</td>\n",
       "      <td>142740</td>\n",
       "      <td>142740</td>\n",
       "      <td>KODEX TRF3070</td>\n",
       "      <td>Alternative</td>\n",
       "      <td>02/01/2021 4:0:00 PM</td>\n",
       "      <td>A00</td>\n",
       "      <td>투자자0</td>\n",
       "      <td>N</td>\n",
       "      <td></td>\n",
       "      <td>0.142776</td>\n",
       "    </tr>\n",
       "    <tr>\n",
       "      <th>4</th>\n",
       "      <td>A266370</td>\n",
       "      <td>4</td>\n",
       "      <td>21325</td>\n",
       "      <td>21325.0</td>\n",
       "      <td>85300</td>\n",
       "      <td>85300</td>\n",
       "      <td>KODEX IT</td>\n",
       "      <td>Equity</td>\n",
       "      <td>02/01/2021 4:0:00 PM</td>\n",
       "      <td>A00</td>\n",
       "      <td>투자자0</td>\n",
       "      <td>N</td>\n",
       "      <td></td>\n",
       "      <td>0.0853217</td>\n",
       "    </tr>\n",
       "    <tr>\n",
       "      <th>5</th>\n",
       "      <td>C000001</td>\n",
       "      <td>135786</td>\n",
       "      <td>1</td>\n",
       "      <td>NaN</td>\n",
       "      <td>135786</td>\n",
       "      <td>135786</td>\n",
       "      <td>현금</td>\n",
       "      <td>Cash</td>\n",
       "      <td>02/01/2021 4:0:00 PM</td>\n",
       "      <td>A00</td>\n",
       "      <td>투자자0</td>\n",
       "      <td>N</td>\n",
       "      <td></td>\n",
       "      <td>0.13582</td>\n",
       "    </tr>\n",
       "  </tbody>\n",
       "</table>\n",
       "</div>"
      ],
      "text/plain": [
       "  itemcode quantity cost_price     price cost_value   value       itemname  \\\n",
       "0  A122260        2     101185  101185.0     202370  202370    KOSEF 통안채1년   \n",
       "1  A114260        4      57900   57900.0     231600  231600    KODEX 국고채3년   \n",
       "2  A130730        2     100975  100975.0     201950  201950     KOSEF 단기자금   \n",
       "3  A329650       13      10980   10980.0     142740  142740  KODEX TRF3070   \n",
       "4  A266370        4      21325   21325.0      85300   85300       KODEX IT   \n",
       "5  C000001   135786          1       NaN     135786  135786             현금   \n",
       "\n",
       "    asset_class                  date userid username original group_by  \\\n",
       "0  Fixed Income  02/01/2021 4:0:00 PM    A00     투자자0        N            \n",
       "1  Fixed Income  02/01/2021 4:0:00 PM    A00     투자자0        N            \n",
       "2  Fixed Income  02/01/2021 4:0:00 PM    A00     투자자0        N            \n",
       "3   Alternative  02/01/2021 4:0:00 PM    A00     투자자0        N            \n",
       "4        Equity  02/01/2021 4:0:00 PM    A00     투자자0        N            \n",
       "5          Cash  02/01/2021 4:0:00 PM    A00     투자자0        N            \n",
       "\n",
       "          wt  \n",
       "0   0.202421  \n",
       "1   0.231659  \n",
       "2   0.202001  \n",
       "3   0.142776  \n",
       "4  0.0853217  \n",
       "5    0.13582  "
      ]
     },
     "execution_count": 21,
     "metadata": {},
     "output_type": "execute_result"
    }
   ],
   "source": [
    "detail"
   ]
  },
  {
   "cell_type": "code",
   "execution_count": 69,
   "id": "sonic-bradley",
   "metadata": {
    "ExecuteTime": {
     "end_time": "2021-03-23T23:23:28.142289Z",
     "start_time": "2021-03-23T23:23:28.136306Z"
    }
   },
   "outputs": [],
   "source": [
    "dates = advised_pf.loc[(advised_pf.risk_profile == risk_profile) & (\n",
    "    advised_pf.date > current_date), 'date'].unique()\n",
    "every5day = dates[::5]"
   ]
  },
  {
   "cell_type": "code",
   "execution_count": 70,
   "id": "simple-westminster",
   "metadata": {
    "ExecuteTime": {
     "end_time": "2021-03-23T23:23:29.971622Z",
     "start_time": "2021-03-23T23:23:29.966634Z"
    }
   },
   "outputs": [
    {
     "data": {
      "text/plain": [
       "array(['2021-02-02', '2021-02-03', '2021-02-04', '2021-02-05',\n",
       "       '2021-02-08', '2021-02-09', '2021-02-10', '2021-02-11',\n",
       "       '2021-02-12', '2021-02-15', '2021-02-16', '2021-02-17',\n",
       "       '2021-02-18', '2021-02-19', '2021-02-22', '2021-02-23',\n",
       "       '2021-02-24', '2021-02-25', '2021-02-26', '2021-03-01',\n",
       "       '2021-03-02', '2021-03-03', '2021-03-04', '2021-03-05',\n",
       "       '2021-03-08', '2021-03-09', '2021-03-10', '2021-03-11',\n",
       "       '2021-03-12', '2021-03-15', '2021-03-16', '2021-03-17',\n",
       "       '2021-03-18', '2021-03-19'], dtype=object)"
      ]
     },
     "execution_count": 70,
     "metadata": {},
     "output_type": "execute_result"
    }
   ],
   "source": [
    "dates"
   ]
  },
  {
   "cell_type": "code",
   "execution_count": null,
   "id": "contemporary-detector",
   "metadata": {},
   "outputs": [],
   "source": [
    "for dt in dates:\n",
    "    prices_dt = price_db.loc[price_db.date==dt, ['price', 'itemcode']].reset_index(drop=True)\n",
    "    holding_itemcodes = detail.itemcode.to_list()\n",
    "    holding_prices = prices_dt[prices_dt.itemcode.isin(holding_itemcodes)]"
   ]
  },
  {
   "cell_type": "code",
   "execution_count": 71,
   "id": "oriented-division",
   "metadata": {
    "ExecuteTime": {
     "end_time": "2021-03-23T23:26:34.363478Z",
     "start_time": "2021-03-23T23:26:34.359490Z"
    }
   },
   "outputs": [],
   "source": [
    "dt = dates[0]"
   ]
  },
  {
   "cell_type": "code",
   "execution_count": 85,
   "id": "affected-think",
   "metadata": {
    "ExecuteTime": {
     "end_time": "2021-03-24T01:08:28.813855Z",
     "start_time": "2021-03-24T01:08:28.800889Z"
    }
   },
   "outputs": [
    {
     "data": {
      "text/html": [
       "<div>\n",
       "<style scoped>\n",
       "    .dataframe tbody tr th:only-of-type {\n",
       "        vertical-align: middle;\n",
       "    }\n",
       "\n",
       "    .dataframe tbody tr th {\n",
       "        vertical-align: top;\n",
       "    }\n",
       "\n",
       "    .dataframe thead th {\n",
       "        text-align: right;\n",
       "    }\n",
       "</style>\n",
       "<table border=\"1\" class=\"dataframe\">\n",
       "  <thead>\n",
       "    <tr style=\"text-align: right;\">\n",
       "      <th></th>\n",
       "      <th>itemcode</th>\n",
       "      <th>quantity</th>\n",
       "      <th>cost_price</th>\n",
       "      <th>price</th>\n",
       "      <th>cost_value</th>\n",
       "      <th>value</th>\n",
       "      <th>itemname</th>\n",
       "      <th>asset_class</th>\n",
       "      <th>date</th>\n",
       "      <th>userid</th>\n",
       "      <th>username</th>\n",
       "      <th>original</th>\n",
       "      <th>group_by</th>\n",
       "      <th>wt</th>\n",
       "    </tr>\n",
       "  </thead>\n",
       "  <tbody>\n",
       "    <tr>\n",
       "      <th>0</th>\n",
       "      <td>A122260</td>\n",
       "      <td>2</td>\n",
       "      <td>101185</td>\n",
       "      <td>101185.0</td>\n",
       "      <td>202370</td>\n",
       "      <td>202370</td>\n",
       "      <td>KOSEF 통안채1년</td>\n",
       "      <td>Fixed Income</td>\n",
       "      <td>02/01/2021 4:0:00 PM</td>\n",
       "      <td>A00</td>\n",
       "      <td>투자자0</td>\n",
       "      <td>N</td>\n",
       "      <td></td>\n",
       "      <td>0.202421</td>\n",
       "    </tr>\n",
       "    <tr>\n",
       "      <th>1</th>\n",
       "      <td>A114260</td>\n",
       "      <td>4</td>\n",
       "      <td>57900</td>\n",
       "      <td>57900.0</td>\n",
       "      <td>231600</td>\n",
       "      <td>231600</td>\n",
       "      <td>KODEX 국고채3년</td>\n",
       "      <td>Fixed Income</td>\n",
       "      <td>02/01/2021 4:0:00 PM</td>\n",
       "      <td>A00</td>\n",
       "      <td>투자자0</td>\n",
       "      <td>N</td>\n",
       "      <td></td>\n",
       "      <td>0.231659</td>\n",
       "    </tr>\n",
       "    <tr>\n",
       "      <th>2</th>\n",
       "      <td>A130730</td>\n",
       "      <td>2</td>\n",
       "      <td>100975</td>\n",
       "      <td>100975.0</td>\n",
       "      <td>201950</td>\n",
       "      <td>201950</td>\n",
       "      <td>KOSEF 단기자금</td>\n",
       "      <td>Fixed Income</td>\n",
       "      <td>02/01/2021 4:0:00 PM</td>\n",
       "      <td>A00</td>\n",
       "      <td>투자자0</td>\n",
       "      <td>N</td>\n",
       "      <td></td>\n",
       "      <td>0.202001</td>\n",
       "    </tr>\n",
       "    <tr>\n",
       "      <th>3</th>\n",
       "      <td>A329650</td>\n",
       "      <td>13</td>\n",
       "      <td>10980</td>\n",
       "      <td>10980.0</td>\n",
       "      <td>142740</td>\n",
       "      <td>142740</td>\n",
       "      <td>KODEX TRF3070</td>\n",
       "      <td>Alternative</td>\n",
       "      <td>02/01/2021 4:0:00 PM</td>\n",
       "      <td>A00</td>\n",
       "      <td>투자자0</td>\n",
       "      <td>N</td>\n",
       "      <td></td>\n",
       "      <td>0.142776</td>\n",
       "    </tr>\n",
       "    <tr>\n",
       "      <th>4</th>\n",
       "      <td>A266370</td>\n",
       "      <td>4</td>\n",
       "      <td>21325</td>\n",
       "      <td>21325.0</td>\n",
       "      <td>85300</td>\n",
       "      <td>85300</td>\n",
       "      <td>KODEX IT</td>\n",
       "      <td>Equity</td>\n",
       "      <td>02/01/2021 4:0:00 PM</td>\n",
       "      <td>A00</td>\n",
       "      <td>투자자0</td>\n",
       "      <td>N</td>\n",
       "      <td></td>\n",
       "      <td>0.0853217</td>\n",
       "    </tr>\n",
       "    <tr>\n",
       "      <th>5</th>\n",
       "      <td>C000001</td>\n",
       "      <td>135786</td>\n",
       "      <td>1</td>\n",
       "      <td>NaN</td>\n",
       "      <td>135786</td>\n",
       "      <td>135786</td>\n",
       "      <td>현금</td>\n",
       "      <td>Cash</td>\n",
       "      <td>02/01/2021 4:0:00 PM</td>\n",
       "      <td>A00</td>\n",
       "      <td>투자자0</td>\n",
       "      <td>N</td>\n",
       "      <td></td>\n",
       "      <td>0.13582</td>\n",
       "    </tr>\n",
       "  </tbody>\n",
       "</table>\n",
       "</div>"
      ],
      "text/plain": [
       "  itemcode quantity cost_price     price cost_value   value       itemname  \\\n",
       "0  A122260        2     101185  101185.0     202370  202370    KOSEF 통안채1년   \n",
       "1  A114260        4      57900   57900.0     231600  231600    KODEX 국고채3년   \n",
       "2  A130730        2     100975  100975.0     201950  201950     KOSEF 단기자금   \n",
       "3  A329650       13      10980   10980.0     142740  142740  KODEX TRF3070   \n",
       "4  A266370        4      21325   21325.0      85300   85300       KODEX IT   \n",
       "5  C000001   135786          1       NaN     135786  135786             현금   \n",
       "\n",
       "    asset_class                  date userid username original group_by  \\\n",
       "0  Fixed Income  02/01/2021 4:0:00 PM    A00     투자자0        N            \n",
       "1  Fixed Income  02/01/2021 4:0:00 PM    A00     투자자0        N            \n",
       "2  Fixed Income  02/01/2021 4:0:00 PM    A00     투자자0        N            \n",
       "3   Alternative  02/01/2021 4:0:00 PM    A00     투자자0        N            \n",
       "4        Equity  02/01/2021 4:0:00 PM    A00     투자자0        N            \n",
       "5          Cash  02/01/2021 4:0:00 PM    A00     투자자0        N            \n",
       "\n",
       "          wt  \n",
       "0   0.202421  \n",
       "1   0.231659  \n",
       "2   0.202001  \n",
       "3   0.142776  \n",
       "4  0.0853217  \n",
       "5    0.13582  "
      ]
     },
     "execution_count": 85,
     "metadata": {},
     "output_type": "execute_result"
    }
   ],
   "source": [
    "detail"
   ]
  },
  {
   "cell_type": "code",
   "execution_count": 133,
   "id": "distributed-investor",
   "metadata": {
    "ExecuteTime": {
     "end_time": "2021-03-24T01:24:37.503114Z",
     "start_time": "2021-03-24T01:24:37.497140Z"
    }
   },
   "outputs": [],
   "source": [
    "prices_dt = price_db.loc[price_db.date==dt, ['price', 'itemcode']].reset_index(drop=True)"
   ]
  },
  {
   "cell_type": "code",
   "execution_count": 129,
   "id": "functioning-lunch",
   "metadata": {
    "ExecuteTime": {
     "end_time": "2021-03-24T01:23:26.486206Z",
     "start_time": "2021-03-24T01:23:26.481220Z"
    }
   },
   "outputs": [
    {
     "data": {
      "text/plain": [
       "['A122260', 'A114260', 'A130730', 'A329650', 'A266370', 'C000001']"
      ]
     },
     "execution_count": 129,
     "metadata": {},
     "output_type": "execute_result"
    }
   ],
   "source": [
    "holdings = detail.itemcode.to_list()\n",
    "holdings"
   ]
  },
  {
   "cell_type": "code",
   "execution_count": null,
   "id": "favorite-daniel",
   "metadata": {},
   "outputs": [],
   "source": []
  },
  {
   "cell_type": "code",
   "execution_count": 136,
   "id": "engaged-examination",
   "metadata": {
    "ExecuteTime": {
     "end_time": "2021-03-24T01:25:06.728002Z",
     "start_time": "2021-03-24T01:25:06.721020Z"
    }
   },
   "outputs": [
    {
     "data": {
      "text/html": [
       "<div>\n",
       "<style scoped>\n",
       "    .dataframe tbody tr th:only-of-type {\n",
       "        vertical-align: middle;\n",
       "    }\n",
       "\n",
       "    .dataframe tbody tr th {\n",
       "        vertical-align: top;\n",
       "    }\n",
       "\n",
       "    .dataframe thead th {\n",
       "        text-align: right;\n",
       "    }\n",
       "</style>\n",
       "<table border=\"1\" class=\"dataframe\">\n",
       "  <thead>\n",
       "    <tr style=\"text-align: right;\">\n",
       "      <th></th>\n",
       "      <th>price</th>\n",
       "      <th>itemcode</th>\n",
       "    </tr>\n",
       "  </thead>\n",
       "  <tbody>\n",
       "    <tr>\n",
       "      <th>8</th>\n",
       "      <td>100895.0</td>\n",
       "      <td>A130730</td>\n",
       "    </tr>\n",
       "    <tr>\n",
       "      <th>9</th>\n",
       "      <td>101105.0</td>\n",
       "      <td>A122260</td>\n",
       "    </tr>\n",
       "    <tr>\n",
       "      <th>23</th>\n",
       "      <td>22020.0</td>\n",
       "      <td>A266370</td>\n",
       "    </tr>\n",
       "    <tr>\n",
       "      <th>24</th>\n",
       "      <td>58125.0</td>\n",
       "      <td>A114260</td>\n",
       "    </tr>\n",
       "  </tbody>\n",
       "</table>\n",
       "</div>"
      ],
      "text/plain": [
       "       price itemcode\n",
       "8   100895.0  A130730\n",
       "9   101105.0  A122260\n",
       "23   22020.0  A266370\n",
       "24   58125.0  A114260"
      ]
     },
     "execution_count": 136,
     "metadata": {},
     "output_type": "execute_result"
    }
   ],
   "source": [
    "prices_dt[prices_dt.itemcode.isin(holdings)]"
   ]
  },
  {
   "cell_type": "code",
   "execution_count": 122,
   "id": "trained-congress",
   "metadata": {
    "ExecuteTime": {
     "end_time": "2021-03-24T01:19:44.139492Z",
     "start_time": "2021-03-24T01:19:44.125529Z"
    }
   },
   "outputs": [
    {
     "ename": "IndexError",
     "evalue": "Boolean index has wrong length: 30 instead of 24714",
     "output_type": "error",
     "traceback": [
      "\u001b[1;31m---------------------------------------------------------------------------\u001b[0m",
      "\u001b[1;31mIndexError\u001b[0m                                Traceback (most recent call last)",
      "\u001b[1;32m<ipython-input-122-f2e1e725c1d3>\u001b[0m in \u001b[0;36m<module>\u001b[1;34m\u001b[0m\n\u001b[1;32m----> 1\u001b[1;33m \u001b[0mprice_db\u001b[0m\u001b[1;33m.\u001b[0m\u001b[0mloc\u001b[0m\u001b[1;33m[\u001b[0m\u001b[0mitemcode_idx\u001b[0m\u001b[1;33m.\u001b[0m\u001b[0mvalues\u001b[0m\u001b[1;33m,\u001b[0m \u001b[1;33m:\u001b[0m\u001b[1;33m]\u001b[0m\u001b[1;33m\u001b[0m\u001b[1;33m\u001b[0m\u001b[0m\n\u001b[0m",
      "\u001b[1;32m~\\AppData\\Roaming\\Python\\Python38\\site-packages\\pandas\\core\\indexing.py\u001b[0m in \u001b[0;36m__getitem__\u001b[1;34m(self, key)\u001b[0m\n\u001b[0;32m    871\u001b[0m                     \u001b[1;31m# AttributeError for IntervalTree get_value\u001b[0m\u001b[1;33m\u001b[0m\u001b[1;33m\u001b[0m\u001b[1;33m\u001b[0m\u001b[0m\n\u001b[0;32m    872\u001b[0m                     \u001b[1;32mpass\u001b[0m\u001b[1;33m\u001b[0m\u001b[1;33m\u001b[0m\u001b[0m\n\u001b[1;32m--> 873\u001b[1;33m             \u001b[1;32mreturn\u001b[0m \u001b[0mself\u001b[0m\u001b[1;33m.\u001b[0m\u001b[0m_getitem_tuple\u001b[0m\u001b[1;33m(\u001b[0m\u001b[0mkey\u001b[0m\u001b[1;33m)\u001b[0m\u001b[1;33m\u001b[0m\u001b[1;33m\u001b[0m\u001b[0m\n\u001b[0m\u001b[0;32m    874\u001b[0m         \u001b[1;32melse\u001b[0m\u001b[1;33m:\u001b[0m\u001b[1;33m\u001b[0m\u001b[1;33m\u001b[0m\u001b[0m\n\u001b[0;32m    875\u001b[0m             \u001b[1;31m# we by definition only have the 0th axis\u001b[0m\u001b[1;33m\u001b[0m\u001b[1;33m\u001b[0m\u001b[1;33m\u001b[0m\u001b[0m\n",
      "\u001b[1;32m~\\AppData\\Roaming\\Python\\Python38\\site-packages\\pandas\\core\\indexing.py\u001b[0m in \u001b[0;36m_getitem_tuple\u001b[1;34m(self, tup)\u001b[0m\n\u001b[0;32m   1053\u001b[0m             \u001b[1;32mreturn\u001b[0m \u001b[0mself\u001b[0m\u001b[1;33m.\u001b[0m\u001b[0m_multi_take\u001b[0m\u001b[1;33m(\u001b[0m\u001b[0mtup\u001b[0m\u001b[1;33m)\u001b[0m\u001b[1;33m\u001b[0m\u001b[1;33m\u001b[0m\u001b[0m\n\u001b[0;32m   1054\u001b[0m \u001b[1;33m\u001b[0m\u001b[0m\n\u001b[1;32m-> 1055\u001b[1;33m         \u001b[1;32mreturn\u001b[0m \u001b[0mself\u001b[0m\u001b[1;33m.\u001b[0m\u001b[0m_getitem_tuple_same_dim\u001b[0m\u001b[1;33m(\u001b[0m\u001b[0mtup\u001b[0m\u001b[1;33m)\u001b[0m\u001b[1;33m\u001b[0m\u001b[1;33m\u001b[0m\u001b[0m\n\u001b[0m\u001b[0;32m   1056\u001b[0m \u001b[1;33m\u001b[0m\u001b[0m\n\u001b[0;32m   1057\u001b[0m     \u001b[1;32mdef\u001b[0m \u001b[0m_get_label\u001b[0m\u001b[1;33m(\u001b[0m\u001b[0mself\u001b[0m\u001b[1;33m,\u001b[0m \u001b[0mlabel\u001b[0m\u001b[1;33m,\u001b[0m \u001b[0maxis\u001b[0m\u001b[1;33m:\u001b[0m \u001b[0mint\u001b[0m\u001b[1;33m)\u001b[0m\u001b[1;33m:\u001b[0m\u001b[1;33m\u001b[0m\u001b[1;33m\u001b[0m\u001b[0m\n",
      "\u001b[1;32m~\\AppData\\Roaming\\Python\\Python38\\site-packages\\pandas\\core\\indexing.py\u001b[0m in \u001b[0;36m_getitem_tuple_same_dim\u001b[1;34m(self, tup)\u001b[0m\n\u001b[0;32m    748\u001b[0m                 \u001b[1;32mcontinue\u001b[0m\u001b[1;33m\u001b[0m\u001b[1;33m\u001b[0m\u001b[0m\n\u001b[0;32m    749\u001b[0m \u001b[1;33m\u001b[0m\u001b[0m\n\u001b[1;32m--> 750\u001b[1;33m             \u001b[0mretval\u001b[0m \u001b[1;33m=\u001b[0m \u001b[0mgetattr\u001b[0m\u001b[1;33m(\u001b[0m\u001b[0mretval\u001b[0m\u001b[1;33m,\u001b[0m \u001b[0mself\u001b[0m\u001b[1;33m.\u001b[0m\u001b[0mname\u001b[0m\u001b[1;33m)\u001b[0m\u001b[1;33m.\u001b[0m\u001b[0m_getitem_axis\u001b[0m\u001b[1;33m(\u001b[0m\u001b[0mkey\u001b[0m\u001b[1;33m,\u001b[0m \u001b[0maxis\u001b[0m\u001b[1;33m=\u001b[0m\u001b[0mi\u001b[0m\u001b[1;33m)\u001b[0m\u001b[1;33m\u001b[0m\u001b[1;33m\u001b[0m\u001b[0m\n\u001b[0m\u001b[0;32m    751\u001b[0m             \u001b[1;31m# We should never have retval.ndim < self.ndim, as that should\u001b[0m\u001b[1;33m\u001b[0m\u001b[1;33m\u001b[0m\u001b[1;33m\u001b[0m\u001b[0m\n\u001b[0;32m    752\u001b[0m             \u001b[1;31m#  be handled by the _getitem_lowerdim call above.\u001b[0m\u001b[1;33m\u001b[0m\u001b[1;33m\u001b[0m\u001b[1;33m\u001b[0m\u001b[0m\n",
      "\u001b[1;32m~\\AppData\\Roaming\\Python\\Python38\\site-packages\\pandas\\core\\indexing.py\u001b[0m in \u001b[0;36m_getitem_axis\u001b[1;34m(self, key, axis)\u001b[0m\n\u001b[0;32m   1088\u001b[0m             \u001b[1;32mreturn\u001b[0m \u001b[0mself\u001b[0m\u001b[1;33m.\u001b[0m\u001b[0m_get_slice_axis\u001b[0m\u001b[1;33m(\u001b[0m\u001b[0mkey\u001b[0m\u001b[1;33m,\u001b[0m \u001b[0maxis\u001b[0m\u001b[1;33m=\u001b[0m\u001b[0maxis\u001b[0m\u001b[1;33m)\u001b[0m\u001b[1;33m\u001b[0m\u001b[1;33m\u001b[0m\u001b[0m\n\u001b[0;32m   1089\u001b[0m         \u001b[1;32melif\u001b[0m \u001b[0mcom\u001b[0m\u001b[1;33m.\u001b[0m\u001b[0mis_bool_indexer\u001b[0m\u001b[1;33m(\u001b[0m\u001b[0mkey\u001b[0m\u001b[1;33m)\u001b[0m\u001b[1;33m:\u001b[0m\u001b[1;33m\u001b[0m\u001b[1;33m\u001b[0m\u001b[0m\n\u001b[1;32m-> 1090\u001b[1;33m             \u001b[1;32mreturn\u001b[0m \u001b[0mself\u001b[0m\u001b[1;33m.\u001b[0m\u001b[0m_getbool_axis\u001b[0m\u001b[1;33m(\u001b[0m\u001b[0mkey\u001b[0m\u001b[1;33m,\u001b[0m \u001b[0maxis\u001b[0m\u001b[1;33m=\u001b[0m\u001b[0maxis\u001b[0m\u001b[1;33m)\u001b[0m\u001b[1;33m\u001b[0m\u001b[1;33m\u001b[0m\u001b[0m\n\u001b[0m\u001b[0;32m   1091\u001b[0m         \u001b[1;32melif\u001b[0m \u001b[0mis_list_like_indexer\u001b[0m\u001b[1;33m(\u001b[0m\u001b[0mkey\u001b[0m\u001b[1;33m)\u001b[0m\u001b[1;33m:\u001b[0m\u001b[1;33m\u001b[0m\u001b[1;33m\u001b[0m\u001b[0m\n\u001b[0;32m   1092\u001b[0m \u001b[1;33m\u001b[0m\u001b[0m\n",
      "\u001b[1;32m~\\AppData\\Roaming\\Python\\Python38\\site-packages\\pandas\\core\\indexing.py\u001b[0m in \u001b[0;36m_getbool_axis\u001b[1;34m(self, key, axis)\u001b[0m\n\u001b[0;32m    894\u001b[0m         \u001b[1;31m# caller is responsible for ensuring non-None axis\u001b[0m\u001b[1;33m\u001b[0m\u001b[1;33m\u001b[0m\u001b[1;33m\u001b[0m\u001b[0m\n\u001b[0;32m    895\u001b[0m         \u001b[0mlabels\u001b[0m \u001b[1;33m=\u001b[0m \u001b[0mself\u001b[0m\u001b[1;33m.\u001b[0m\u001b[0mobj\u001b[0m\u001b[1;33m.\u001b[0m\u001b[0m_get_axis\u001b[0m\u001b[1;33m(\u001b[0m\u001b[0maxis\u001b[0m\u001b[1;33m)\u001b[0m\u001b[1;33m\u001b[0m\u001b[1;33m\u001b[0m\u001b[0m\n\u001b[1;32m--> 896\u001b[1;33m         \u001b[0mkey\u001b[0m \u001b[1;33m=\u001b[0m \u001b[0mcheck_bool_indexer\u001b[0m\u001b[1;33m(\u001b[0m\u001b[0mlabels\u001b[0m\u001b[1;33m,\u001b[0m \u001b[0mkey\u001b[0m\u001b[1;33m)\u001b[0m\u001b[1;33m\u001b[0m\u001b[1;33m\u001b[0m\u001b[0m\n\u001b[0m\u001b[0;32m    897\u001b[0m         \u001b[0minds\u001b[0m \u001b[1;33m=\u001b[0m \u001b[0mkey\u001b[0m\u001b[1;33m.\u001b[0m\u001b[0mnonzero\u001b[0m\u001b[1;33m(\u001b[0m\u001b[1;33m)\u001b[0m\u001b[1;33m[\u001b[0m\u001b[1;36m0\u001b[0m\u001b[1;33m]\u001b[0m\u001b[1;33m\u001b[0m\u001b[1;33m\u001b[0m\u001b[0m\n\u001b[0;32m    898\u001b[0m         \u001b[1;32mreturn\u001b[0m \u001b[0mself\u001b[0m\u001b[1;33m.\u001b[0m\u001b[0mobj\u001b[0m\u001b[1;33m.\u001b[0m\u001b[0m_take_with_is_copy\u001b[0m\u001b[1;33m(\u001b[0m\u001b[0minds\u001b[0m\u001b[1;33m,\u001b[0m \u001b[0maxis\u001b[0m\u001b[1;33m=\u001b[0m\u001b[0maxis\u001b[0m\u001b[1;33m)\u001b[0m\u001b[1;33m\u001b[0m\u001b[1;33m\u001b[0m\u001b[0m\n",
      "\u001b[1;32m~\\AppData\\Roaming\\Python\\Python38\\site-packages\\pandas\\core\\indexing.py\u001b[0m in \u001b[0;36mcheck_bool_indexer\u001b[1;34m(index, key)\u001b[0m\n\u001b[0;32m   2193\u001b[0m         \u001b[1;31m# key may contain nan elements, check_array_indexer needs bool array\u001b[0m\u001b[1;33m\u001b[0m\u001b[1;33m\u001b[0m\u001b[1;33m\u001b[0m\u001b[0m\n\u001b[0;32m   2194\u001b[0m         \u001b[0mresult\u001b[0m \u001b[1;33m=\u001b[0m \u001b[0mpd_array\u001b[0m\u001b[1;33m(\u001b[0m\u001b[0mresult\u001b[0m\u001b[1;33m,\u001b[0m \u001b[0mdtype\u001b[0m\u001b[1;33m=\u001b[0m\u001b[0mbool\u001b[0m\u001b[1;33m)\u001b[0m\u001b[1;33m\u001b[0m\u001b[1;33m\u001b[0m\u001b[0m\n\u001b[1;32m-> 2195\u001b[1;33m     \u001b[1;32mreturn\u001b[0m \u001b[0mcheck_array_indexer\u001b[0m\u001b[1;33m(\u001b[0m\u001b[0mindex\u001b[0m\u001b[1;33m,\u001b[0m \u001b[0mresult\u001b[0m\u001b[1;33m)\u001b[0m\u001b[1;33m\u001b[0m\u001b[1;33m\u001b[0m\u001b[0m\n\u001b[0m\u001b[0;32m   2196\u001b[0m \u001b[1;33m\u001b[0m\u001b[0m\n\u001b[0;32m   2197\u001b[0m \u001b[1;33m\u001b[0m\u001b[0m\n",
      "\u001b[1;32m~\\AppData\\Roaming\\Python\\Python38\\site-packages\\pandas\\core\\indexers.py\u001b[0m in \u001b[0;36mcheck_array_indexer\u001b[1;34m(array, indexer)\u001b[0m\n\u001b[0;32m    468\u001b[0m         \u001b[1;31m# GH26658\u001b[0m\u001b[1;33m\u001b[0m\u001b[1;33m\u001b[0m\u001b[1;33m\u001b[0m\u001b[0m\n\u001b[0;32m    469\u001b[0m         \u001b[1;32mif\u001b[0m \u001b[0mlen\u001b[0m\u001b[1;33m(\u001b[0m\u001b[0mindexer\u001b[0m\u001b[1;33m)\u001b[0m \u001b[1;33m!=\u001b[0m \u001b[0mlen\u001b[0m\u001b[1;33m(\u001b[0m\u001b[0marray\u001b[0m\u001b[1;33m)\u001b[0m\u001b[1;33m:\u001b[0m\u001b[1;33m\u001b[0m\u001b[1;33m\u001b[0m\u001b[0m\n\u001b[1;32m--> 470\u001b[1;33m             raise IndexError(\n\u001b[0m\u001b[0;32m    471\u001b[0m                 \u001b[1;34mf\"Boolean index has wrong length: \"\u001b[0m\u001b[1;33m\u001b[0m\u001b[1;33m\u001b[0m\u001b[0m\n\u001b[0;32m    472\u001b[0m                 \u001b[1;34mf\"{len(indexer)} instead of {len(array)}\"\u001b[0m\u001b[1;33m\u001b[0m\u001b[1;33m\u001b[0m\u001b[0m\n",
      "\u001b[1;31mIndexError\u001b[0m: Boolean index has wrong length: 30 instead of 24714"
     ]
    }
   ],
   "source": [
    "price_db.loc[itemcode_idx.values, :]"
   ]
  },
  {
   "cell_type": "code",
   "execution_count": 96,
   "id": "failing-thomas",
   "metadata": {
    "ExecuteTime": {
     "end_time": "2021-03-24T01:11:20.107719Z",
     "start_time": "2021-03-24T01:11:20.103730Z"
    }
   },
   "outputs": [],
   "source": [
    "price_itemcodes = price_db.loc[price_db.date==dt, 'itemcode']"
   ]
  },
  {
   "cell_type": "code",
   "execution_count": 104,
   "id": "mounted-adaptation",
   "metadata": {
    "ExecuteTime": {
     "end_time": "2021-03-24T01:12:18.757032Z",
     "start_time": "2021-03-24T01:12:18.751049Z"
    }
   },
   "outputs": [
    {
     "data": {
      "text/plain": [
       "699      A069500\n",
       "1430     A105190\n",
       "2161     A102110\n",
       "2892     A232080\n",
       "3623     A278540\n",
       "4354     A229200\n",
       "5085     A196230\n",
       "5816     A293180\n",
       "6547     A130730\n",
       "7278     A122260\n",
       "8009     A139260\n",
       "8740     A251350\n",
       "9471     A292150\n",
       "10202    A091160\n",
       "10933    A091180\n",
       "11664    A091170\n",
       "12395    A283580\n",
       "13126    A245710\n",
       "13857    A102780\n",
       "14588    A214980\n",
       "15319    A157490\n",
       "16050    A148070\n",
       "16781    A153130\n",
       "17512    A266370\n",
       "18243    A114260\n",
       "18974    A195930\n",
       "19705    A273130\n",
       "20436    A245340\n",
       "21167    A237370\n",
       "3483        CALL\n",
       "Name: itemcode, dtype: object"
      ]
     },
     "execution_count": 104,
     "metadata": {},
     "output_type": "execute_result"
    }
   ],
   "source": [
    "price_itemcodes"
   ]
  },
  {
   "cell_type": "code",
   "execution_count": 103,
   "id": "alert-moisture",
   "metadata": {
    "ExecuteTime": {
     "end_time": "2021-03-24T01:12:15.372677Z",
     "start_time": "2021-03-24T01:12:15.367690Z"
    }
   },
   "outputs": [
    {
     "data": {
      "text/plain": [
       "Series([], Name: itemcode, dtype: object)"
      ]
     },
     "execution_count": 103,
     "metadata": {},
     "output_type": "execute_result"
    }
   ],
   "source": [
    "price_itemcodes[price_itemcodes == True]"
   ]
  },
  {
   "cell_type": "code",
   "execution_count": 81,
   "id": "soviet-thirty",
   "metadata": {
    "ExecuteTime": {
     "end_time": "2021-03-23T23:28:10.267862Z",
     "start_time": "2021-03-23T23:28:10.262876Z"
    }
   },
   "outputs": [
    {
     "data": {
      "text/plain": [
       "Int64Index([  699,  1430,  2161,  2892,  3623,  4354,  5085,  5816,  6547,\n",
       "             7278,  8009,  8740,  9471, 10202, 10933, 11664, 12395, 13126,\n",
       "            13857, 14588, 15319, 16050, 16781, 17512, 18243, 18974, 19705,\n",
       "            20436, 21167,  3483],\n",
       "           dtype='int64')"
      ]
     },
     "execution_count": 81,
     "metadata": {},
     "output_type": "execute_result"
    }
   ],
   "source": [
    "itemcode_idx"
   ]
  },
  {
   "cell_type": "code",
   "execution_count": 82,
   "id": "south-protection",
   "metadata": {
    "ExecuteTime": {
     "end_time": "2021-03-23T23:28:13.038820Z",
     "start_time": "2021-03-23T23:28:13.023860Z"
    }
   },
   "outputs": [
    {
     "data": {
      "text/html": [
       "<div>\n",
       "<style scoped>\n",
       "    .dataframe tbody tr th:only-of-type {\n",
       "        vertical-align: middle;\n",
       "    }\n",
       "\n",
       "    .dataframe tbody tr th {\n",
       "        vertical-align: top;\n",
       "    }\n",
       "\n",
       "    .dataframe thead th {\n",
       "        text-align: right;\n",
       "    }\n",
       "</style>\n",
       "<table border=\"1\" class=\"dataframe\">\n",
       "  <thead>\n",
       "    <tr style=\"text-align: right;\">\n",
       "      <th></th>\n",
       "      <th>date</th>\n",
       "      <th>itemcode</th>\n",
       "      <th>price</th>\n",
       "      <th>volume</th>\n",
       "      <th>trading_amt_mln</th>\n",
       "      <th>ret</th>\n",
       "      <th>itemtype</th>\n",
       "    </tr>\n",
       "  </thead>\n",
       "  <tbody>\n",
       "    <tr>\n",
       "      <th>699</th>\n",
       "      <td>2021-02-02</td>\n",
       "      <td>A069500</td>\n",
       "      <td>42775.0000</td>\n",
       "      <td>12520132.0</td>\n",
       "      <td>398242.608758</td>\n",
       "      <td>0.014719</td>\n",
       "      <td>ETF</td>\n",
       "    </tr>\n",
       "    <tr>\n",
       "      <th>699</th>\n",
       "      <td>2009-10-22</td>\n",
       "      <td>CALL</td>\n",
       "      <td>0.0200</td>\n",
       "      <td>NaN</td>\n",
       "      <td>NaN</td>\n",
       "      <td>NaN</td>\n",
       "      <td>riskfree</td>\n",
       "    </tr>\n",
       "    <tr>\n",
       "      <th>1430</th>\n",
       "      <td>2021-02-02</td>\n",
       "      <td>A105190</td>\n",
       "      <td>43040.0000</td>\n",
       "      <td>151877.0</td>\n",
       "      <td>14745.605441</td>\n",
       "      <td>0.014982</td>\n",
       "      <td>ETF</td>\n",
       "    </tr>\n",
       "    <tr>\n",
       "      <th>1430</th>\n",
       "      <td>2012-09-25</td>\n",
       "      <td>CALL</td>\n",
       "      <td>0.0299</td>\n",
       "      <td>NaN</td>\n",
       "      <td>NaN</td>\n",
       "      <td>NaN</td>\n",
       "      <td>riskfree</td>\n",
       "    </tr>\n",
       "    <tr>\n",
       "      <th>2161</th>\n",
       "      <td>2021-02-02</td>\n",
       "      <td>A102110</td>\n",
       "      <td>42610.0000</td>\n",
       "      <td>1653014.0</td>\n",
       "      <td>79438.882264</td>\n",
       "      <td>0.015253</td>\n",
       "      <td>ETF</td>\n",
       "    </tr>\n",
       "    <tr>\n",
       "      <th>2161</th>\n",
       "      <td>2015-09-14</td>\n",
       "      <td>CALL</td>\n",
       "      <td>0.0149</td>\n",
       "      <td>NaN</td>\n",
       "      <td>NaN</td>\n",
       "      <td>NaN</td>\n",
       "      <td>riskfree</td>\n",
       "    </tr>\n",
       "    <tr>\n",
       "      <th>2892</th>\n",
       "      <td>2021-02-02</td>\n",
       "      <td>A232080</td>\n",
       "      <td>15095.0000</td>\n",
       "      <td>480913.0</td>\n",
       "      <td>13740.016176</td>\n",
       "      <td>0.001326</td>\n",
       "      <td>ETF</td>\n",
       "    </tr>\n",
       "    <tr>\n",
       "      <th>2892</th>\n",
       "      <td>2018-09-06</td>\n",
       "      <td>CALL</td>\n",
       "      <td>0.0151</td>\n",
       "      <td>NaN</td>\n",
       "      <td>NaN</td>\n",
       "      <td>NaN</td>\n",
       "      <td>riskfree</td>\n",
       "    </tr>\n",
       "    <tr>\n",
       "      <th>3623</th>\n",
       "      <td>2021-02-02</td>\n",
       "      <td>A278540</td>\n",
       "      <td>13815.0000</td>\n",
       "      <td>399964.0</td>\n",
       "      <td>15411.345111</td>\n",
       "      <td>0.012382</td>\n",
       "      <td>ETF</td>\n",
       "    </tr>\n",
       "    <tr>\n",
       "      <th>4354</th>\n",
       "      <td>2021-02-02</td>\n",
       "      <td>A229200</td>\n",
       "      <td>15015.0000</td>\n",
       "      <td>4947814.0</td>\n",
       "      <td>128837.817498</td>\n",
       "      <td>0.000000</td>\n",
       "      <td>ETF</td>\n",
       "    </tr>\n",
       "    <tr>\n",
       "      <th>5085</th>\n",
       "      <td>2021-02-02</td>\n",
       "      <td>A196230</td>\n",
       "      <td>104255.0000</td>\n",
       "      <td>890659.0</td>\n",
       "      <td>75263.649791</td>\n",
       "      <td>0.000048</td>\n",
       "      <td>ETF</td>\n",
       "    </tr>\n",
       "    <tr>\n",
       "      <th>5816</th>\n",
       "      <td>2021-02-02</td>\n",
       "      <td>A293180</td>\n",
       "      <td>42785.0000</td>\n",
       "      <td>228715.0</td>\n",
       "      <td>5398.220992</td>\n",
       "      <td>0.015072</td>\n",
       "      <td>ETF</td>\n",
       "    </tr>\n",
       "    <tr>\n",
       "      <th>6547</th>\n",
       "      <td>2021-02-02</td>\n",
       "      <td>A130730</td>\n",
       "      <td>100895.0000</td>\n",
       "      <td>1003924.0</td>\n",
       "      <td>60553.155180</td>\n",
       "      <td>0.000050</td>\n",
       "      <td>ETF</td>\n",
       "    </tr>\n",
       "    <tr>\n",
       "      <th>7278</th>\n",
       "      <td>2021-02-02</td>\n",
       "      <td>A122260</td>\n",
       "      <td>101105.0000</td>\n",
       "      <td>59270.0</td>\n",
       "      <td>60288.230799</td>\n",
       "      <td>0.000148</td>\n",
       "      <td>ETF</td>\n",
       "    </tr>\n",
       "    <tr>\n",
       "      <th>8009</th>\n",
       "      <td>2021-02-02</td>\n",
       "      <td>A139260</td>\n",
       "      <td>40555.0000</td>\n",
       "      <td>572203.0</td>\n",
       "      <td>23829.190115</td>\n",
       "      <td>0.014530</td>\n",
       "      <td>ETF</td>\n",
       "    </tr>\n",
       "    <tr>\n",
       "      <th>8740</th>\n",
       "      <td>2021-02-02</td>\n",
       "      <td>A251350</td>\n",
       "      <td>16795.0000</td>\n",
       "      <td>58062.0</td>\n",
       "      <td>1585.045696</td>\n",
       "      <td>0.014091</td>\n",
       "      <td>ETF</td>\n",
       "    </tr>\n",
       "    <tr>\n",
       "      <th>9471</th>\n",
       "      <td>2021-02-02</td>\n",
       "      <td>A292150</td>\n",
       "      <td>15255.0000</td>\n",
       "      <td>1088369.0</td>\n",
       "      <td>12936.333436</td>\n",
       "      <td>0.014859</td>\n",
       "      <td>ETF</td>\n",
       "    </tr>\n",
       "    <tr>\n",
       "      <th>10202</th>\n",
       "      <td>2021-02-02</td>\n",
       "      <td>A091160</td>\n",
       "      <td>35970.0000</td>\n",
       "      <td>271594.0</td>\n",
       "      <td>4706.828953</td>\n",
       "      <td>0.011886</td>\n",
       "      <td>ETF</td>\n",
       "    </tr>\n",
       "    <tr>\n",
       "      <th>10933</th>\n",
       "      <td>2021-02-02</td>\n",
       "      <td>A091180</td>\n",
       "      <td>25010.0000</td>\n",
       "      <td>883053.0</td>\n",
       "      <td>11858.561761</td>\n",
       "      <td>0.002402</td>\n",
       "      <td>ETF</td>\n",
       "    </tr>\n",
       "    <tr>\n",
       "      <th>11664</th>\n",
       "      <td>2021-02-02</td>\n",
       "      <td>A091170</td>\n",
       "      <td>6135.0000</td>\n",
       "      <td>229081.0</td>\n",
       "      <td>3855.258980</td>\n",
       "      <td>0.003265</td>\n",
       "      <td>ETF</td>\n",
       "    </tr>\n",
       "    <tr>\n",
       "      <th>12395</th>\n",
       "      <td>2021-02-02</td>\n",
       "      <td>A283580</td>\n",
       "      <td>14975.0000</td>\n",
       "      <td>83536.0</td>\n",
       "      <td>1110.772030</td>\n",
       "      <td>0.009730</td>\n",
       "      <td>ETF</td>\n",
       "    </tr>\n",
       "    <tr>\n",
       "      <th>13126</th>\n",
       "      <td>2021-02-02</td>\n",
       "      <td>A245710</td>\n",
       "      <td>15050.0000</td>\n",
       "      <td>226112.0</td>\n",
       "      <td>2069.077431</td>\n",
       "      <td>0.006667</td>\n",
       "      <td>ETF</td>\n",
       "    </tr>\n",
       "    <tr>\n",
       "      <th>13857</th>\n",
       "      <td>2021-02-02</td>\n",
       "      <td>A102780</td>\n",
       "      <td>10460.0000</td>\n",
       "      <td>485550.0</td>\n",
       "      <td>5127.527041</td>\n",
       "      <td>0.008641</td>\n",
       "      <td>ETF</td>\n",
       "    </tr>\n",
       "    <tr>\n",
       "      <th>14588</th>\n",
       "      <td>2021-02-02</td>\n",
       "      <td>A214980</td>\n",
       "      <td>102940.0000</td>\n",
       "      <td>2474.0</td>\n",
       "      <td>84627.783124</td>\n",
       "      <td>0.000000</td>\n",
       "      <td>ETF</td>\n",
       "    </tr>\n",
       "    <tr>\n",
       "      <th>15319</th>\n",
       "      <td>2021-02-02</td>\n",
       "      <td>A157490</td>\n",
       "      <td>16505.0000</td>\n",
       "      <td>202277.0</td>\n",
       "      <td>1739.090795</td>\n",
       "      <td>0.020197</td>\n",
       "      <td>ETF</td>\n",
       "    </tr>\n",
       "    <tr>\n",
       "      <th>16050</th>\n",
       "      <td>2021-02-02</td>\n",
       "      <td>A148070</td>\n",
       "      <td>122535.0000</td>\n",
       "      <td>15074.0</td>\n",
       "      <td>1037.203266</td>\n",
       "      <td>0.003843</td>\n",
       "      <td>ETF</td>\n",
       "    </tr>\n",
       "    <tr>\n",
       "      <th>16781</th>\n",
       "      <td>2021-02-02</td>\n",
       "      <td>A153130</td>\n",
       "      <td>102680.0000</td>\n",
       "      <td>9865.0</td>\n",
       "      <td>2656.064372</td>\n",
       "      <td>0.000049</td>\n",
       "      <td>ETF</td>\n",
       "    </tr>\n",
       "    <tr>\n",
       "      <th>17512</th>\n",
       "      <td>2021-02-02</td>\n",
       "      <td>A266370</td>\n",
       "      <td>22020.0000</td>\n",
       "      <td>30423.0</td>\n",
       "      <td>935.782320</td>\n",
       "      <td>0.016484</td>\n",
       "      <td>ETF</td>\n",
       "    </tr>\n",
       "    <tr>\n",
       "      <th>18243</th>\n",
       "      <td>2021-02-02</td>\n",
       "      <td>A114260</td>\n",
       "      <td>58125.0000</td>\n",
       "      <td>139805.0</td>\n",
       "      <td>734.423387</td>\n",
       "      <td>0.000430</td>\n",
       "      <td>ETF</td>\n",
       "    </tr>\n",
       "    <tr>\n",
       "      <th>18974</th>\n",
       "      <td>2021-02-02</td>\n",
       "      <td>A195930</td>\n",
       "      <td>11875.0000</td>\n",
       "      <td>19588.0</td>\n",
       "      <td>354.389196</td>\n",
       "      <td>0.013139</td>\n",
       "      <td>ETF</td>\n",
       "    </tr>\n",
       "    <tr>\n",
       "      <th>19705</th>\n",
       "      <td>2021-02-02</td>\n",
       "      <td>A273130</td>\n",
       "      <td>109855.0000</td>\n",
       "      <td>41304.0</td>\n",
       "      <td>2108.290632</td>\n",
       "      <td>0.001412</td>\n",
       "      <td>ETF</td>\n",
       "    </tr>\n",
       "    <tr>\n",
       "      <th>20436</th>\n",
       "      <td>2021-02-02</td>\n",
       "      <td>A245340</td>\n",
       "      <td>17005.0000</td>\n",
       "      <td>13984.0</td>\n",
       "      <td>360.308533</td>\n",
       "      <td>0.006194</td>\n",
       "      <td>ETF</td>\n",
       "    </tr>\n",
       "    <tr>\n",
       "      <th>21167</th>\n",
       "      <td>2021-02-02</td>\n",
       "      <td>A237370</td>\n",
       "      <td>11820.0000</td>\n",
       "      <td>12455.0</td>\n",
       "      <td>84.816232</td>\n",
       "      <td>0.005089</td>\n",
       "      <td>ETF</td>\n",
       "    </tr>\n",
       "    <tr>\n",
       "      <th>3483</th>\n",
       "      <td>2020-07-09</td>\n",
       "      <td>A278540</td>\n",
       "      <td>9200.0000</td>\n",
       "      <td>1620.0</td>\n",
       "      <td>9525.777166</td>\n",
       "      <td>0.003812</td>\n",
       "      <td>ETF</td>\n",
       "    </tr>\n",
       "    <tr>\n",
       "      <th>3483</th>\n",
       "      <td>2021-02-02</td>\n",
       "      <td>CALL</td>\n",
       "      <td>0.0047</td>\n",
       "      <td>NaN</td>\n",
       "      <td>NaN</td>\n",
       "      <td>NaN</td>\n",
       "      <td>riskfree</td>\n",
       "    </tr>\n",
       "  </tbody>\n",
       "</table>\n",
       "</div>"
      ],
      "text/plain": [
       "            date itemcode        price      volume  trading_amt_mln       ret  \\\n",
       "699   2021-02-02  A069500   42775.0000  12520132.0    398242.608758  0.014719   \n",
       "699   2009-10-22     CALL       0.0200         NaN              NaN       NaN   \n",
       "1430  2021-02-02  A105190   43040.0000    151877.0     14745.605441  0.014982   \n",
       "1430  2012-09-25     CALL       0.0299         NaN              NaN       NaN   \n",
       "2161  2021-02-02  A102110   42610.0000   1653014.0     79438.882264  0.015253   \n",
       "2161  2015-09-14     CALL       0.0149         NaN              NaN       NaN   \n",
       "2892  2021-02-02  A232080   15095.0000    480913.0     13740.016176  0.001326   \n",
       "2892  2018-09-06     CALL       0.0151         NaN              NaN       NaN   \n",
       "3623  2021-02-02  A278540   13815.0000    399964.0     15411.345111  0.012382   \n",
       "4354  2021-02-02  A229200   15015.0000   4947814.0    128837.817498  0.000000   \n",
       "5085  2021-02-02  A196230  104255.0000    890659.0     75263.649791  0.000048   \n",
       "5816  2021-02-02  A293180   42785.0000    228715.0      5398.220992  0.015072   \n",
       "6547  2021-02-02  A130730  100895.0000   1003924.0     60553.155180  0.000050   \n",
       "7278  2021-02-02  A122260  101105.0000     59270.0     60288.230799  0.000148   \n",
       "8009  2021-02-02  A139260   40555.0000    572203.0     23829.190115  0.014530   \n",
       "8740  2021-02-02  A251350   16795.0000     58062.0      1585.045696  0.014091   \n",
       "9471  2021-02-02  A292150   15255.0000   1088369.0     12936.333436  0.014859   \n",
       "10202 2021-02-02  A091160   35970.0000    271594.0      4706.828953  0.011886   \n",
       "10933 2021-02-02  A091180   25010.0000    883053.0     11858.561761  0.002402   \n",
       "11664 2021-02-02  A091170    6135.0000    229081.0      3855.258980  0.003265   \n",
       "12395 2021-02-02  A283580   14975.0000     83536.0      1110.772030  0.009730   \n",
       "13126 2021-02-02  A245710   15050.0000    226112.0      2069.077431  0.006667   \n",
       "13857 2021-02-02  A102780   10460.0000    485550.0      5127.527041  0.008641   \n",
       "14588 2021-02-02  A214980  102940.0000      2474.0     84627.783124  0.000000   \n",
       "15319 2021-02-02  A157490   16505.0000    202277.0      1739.090795  0.020197   \n",
       "16050 2021-02-02  A148070  122535.0000     15074.0      1037.203266  0.003843   \n",
       "16781 2021-02-02  A153130  102680.0000      9865.0      2656.064372  0.000049   \n",
       "17512 2021-02-02  A266370   22020.0000     30423.0       935.782320  0.016484   \n",
       "18243 2021-02-02  A114260   58125.0000    139805.0       734.423387  0.000430   \n",
       "18974 2021-02-02  A195930   11875.0000     19588.0       354.389196  0.013139   \n",
       "19705 2021-02-02  A273130  109855.0000     41304.0      2108.290632  0.001412   \n",
       "20436 2021-02-02  A245340   17005.0000     13984.0       360.308533  0.006194   \n",
       "21167 2021-02-02  A237370   11820.0000     12455.0        84.816232  0.005089   \n",
       "3483  2020-07-09  A278540    9200.0000      1620.0      9525.777166  0.003812   \n",
       "3483  2021-02-02     CALL       0.0047         NaN              NaN       NaN   \n",
       "\n",
       "       itemtype  \n",
       "699         ETF  \n",
       "699    riskfree  \n",
       "1430        ETF  \n",
       "1430   riskfree  \n",
       "2161        ETF  \n",
       "2161   riskfree  \n",
       "2892        ETF  \n",
       "2892   riskfree  \n",
       "3623        ETF  \n",
       "4354        ETF  \n",
       "5085        ETF  \n",
       "5816        ETF  \n",
       "6547        ETF  \n",
       "7278        ETF  \n",
       "8009        ETF  \n",
       "8740        ETF  \n",
       "9471        ETF  \n",
       "10202       ETF  \n",
       "10933       ETF  \n",
       "11664       ETF  \n",
       "12395       ETF  \n",
       "13126       ETF  \n",
       "13857       ETF  \n",
       "14588       ETF  \n",
       "15319       ETF  \n",
       "16050       ETF  \n",
       "16781       ETF  \n",
       "17512       ETF  \n",
       "18243       ETF  \n",
       "18974       ETF  \n",
       "19705       ETF  \n",
       "20436       ETF  \n",
       "21167       ETF  \n",
       "3483        ETF  \n",
       "3483   riskfree  "
      ]
     },
     "execution_count": 82,
     "metadata": {},
     "output_type": "execute_result"
    }
   ],
   "source": [
    "price_db.loc[itemcode_idx]"
   ]
  },
  {
   "cell_type": "markdown",
   "id": "third-authority",
   "metadata": {},
   "source": [
    "## 자산군별 바 차트"
   ]
  },
  {
   "cell_type": "code",
   "execution_count": 28,
   "id": "settled-spank",
   "metadata": {
    "ExecuteTime": {
     "end_time": "2021-03-23T23:01:46.337134Z",
     "start_time": "2021-03-23T23:01:45.593171Z"
    }
   },
   "outputs": [],
   "source": [
    "import plotly.express as px"
   ]
  },
  {
   "cell_type": "code",
   "execution_count": 43,
   "id": "delayed-brief",
   "metadata": {
    "ExecuteTime": {
     "end_time": "2021-03-23T23:07:55.600856Z",
     "start_time": "2021-03-23T23:07:55.592878Z"
    }
   },
   "outputs": [],
   "source": [
    "v = detail.loc[:, ['wt', 'itemname']].groupby(\n",
    "                    'itemname').sum().sort_values('wt', ascending=False).reset_index()"
   ]
  },
  {
   "cell_type": "code",
   "execution_count": 29,
   "id": "confirmed-theory",
   "metadata": {
    "ExecuteTime": {
     "end_time": "2021-03-23T23:01:54.257634Z",
     "start_time": "2021-03-23T23:01:54.248659Z"
    }
   },
   "outputs": [],
   "source": [
    "a = detail.loc[:, ['wt', 'asset_class']].groupby(\n",
    "                    'asset_class').sum().sort_values('wt', ascending=False).reset_index()"
   ]
  },
  {
   "cell_type": "code",
   "execution_count": 50,
   "id": "rubber-steam",
   "metadata": {
    "ExecuteTime": {
     "end_time": "2021-03-23T23:12:52.965653Z",
     "start_time": "2021-03-23T23:12:52.961665Z"
    }
   },
   "outputs": [],
   "source": [
    "asset_class = ['Fixed Income', 'Alternative', 'Cash', 'Equity']"
   ]
  },
  {
   "cell_type": "code",
   "execution_count": 53,
   "id": "alike-arctic",
   "metadata": {
    "ExecuteTime": {
     "end_time": "2021-03-23T23:13:23.413282Z",
     "start_time": "2021-03-23T23:13:23.409294Z"
    }
   },
   "outputs": [],
   "source": [
    "df_ac = pd.DataFrame(asset_class, columns=['asset_class'])"
   ]
  },
  {
   "cell_type": "code",
   "execution_count": 62,
   "id": "statistical-clearing",
   "metadata": {
    "ExecuteTime": {
     "end_time": "2021-03-23T23:17:07.611419Z",
     "start_time": "2021-03-23T23:17:07.605460Z"
    }
   },
   "outputs": [],
   "source": [
    "df_by_asset_class = a.merge(df_ac, left_on='asset_class', right_on='asset_class', how='right').sort_values('wt', ascending=False).reset_index()"
   ]
  },
  {
   "cell_type": "code",
   "execution_count": null,
   "id": "interior-devon",
   "metadata": {},
   "outputs": [],
   "source": []
  },
  {
   "cell_type": "code",
   "execution_count": 32,
   "id": "bearing-rochester",
   "metadata": {
    "ExecuteTime": {
     "end_time": "2021-03-23T23:02:58.539684Z",
     "start_time": "2021-03-23T23:02:58.532703Z"
    }
   },
   "outputs": [
    {
     "data": {
      "text/html": [
       "<div>\n",
       "<style scoped>\n",
       "    .dataframe tbody tr th:only-of-type {\n",
       "        vertical-align: middle;\n",
       "    }\n",
       "\n",
       "    .dataframe tbody tr th {\n",
       "        vertical-align: top;\n",
       "    }\n",
       "\n",
       "    .dataframe thead th {\n",
       "        text-align: right;\n",
       "    }\n",
       "</style>\n",
       "<table border=\"1\" class=\"dataframe\">\n",
       "  <thead>\n",
       "    <tr style=\"text-align: right;\">\n",
       "      <th></th>\n",
       "      <th>asset_class</th>\n",
       "      <th>wt</th>\n",
       "    </tr>\n",
       "  </thead>\n",
       "  <tbody>\n",
       "    <tr>\n",
       "      <th>0</th>\n",
       "      <td>Fixed Income</td>\n",
       "      <td>0.636082</td>\n",
       "    </tr>\n",
       "    <tr>\n",
       "      <th>1</th>\n",
       "      <td>Alternative</td>\n",
       "      <td>0.142776</td>\n",
       "    </tr>\n",
       "    <tr>\n",
       "      <th>2</th>\n",
       "      <td>Cash</td>\n",
       "      <td>0.135820</td>\n",
       "    </tr>\n",
       "    <tr>\n",
       "      <th>3</th>\n",
       "      <td>Equity</td>\n",
       "      <td>0.085322</td>\n",
       "    </tr>\n",
       "  </tbody>\n",
       "</table>\n",
       "</div>"
      ],
      "text/plain": [
       "    asset_class        wt\n",
       "0  Fixed Income  0.636082\n",
       "1   Alternative  0.142776\n",
       "2          Cash  0.135820\n",
       "3        Equity  0.085322"
      ]
     },
     "execution_count": 32,
     "metadata": {},
     "output_type": "execute_result"
    }
   ],
   "source": [
    "a"
   ]
  },
  {
   "cell_type": "code",
   "execution_count": 44,
   "id": "opposed-syntax",
   "metadata": {
    "ExecuteTime": {
     "end_time": "2021-03-23T23:07:57.870784Z",
     "start_time": "2021-03-23T23:07:57.841862Z"
    }
   },
   "outputs": [
    {
     "data": {
      "application/vnd.plotly.v1+json": {
       "config": {
        "plotlyServerURL": "https://plot.ly"
       },
       "data": [
        {
         "domain": {
          "x": [
           0,
           1
          ],
          "y": [
           0,
           1
          ]
         },
         "hovertemplate": "itemname=%{label}<br>wt=%{value}<extra></extra>",
         "labels": [
          "KODEX 국고채3년",
          "KOSEF 통안채1년",
          "KOSEF 단기자금",
          "KODEX TRF3070",
          "현금",
          "KODEX IT"
         ],
         "legendgroup": "",
         "name": "",
         "showlegend": true,
         "type": "pie",
         "values": [
          0.2316588413457018,
          0.20242141503942002,
          0.20200130833231641,
          0.14277626517135353,
          0.13582049840659527,
          0.08532167170461297
         ]
        }
       ],
       "layout": {
        "legend": {
         "tracegroupgap": 0
        },
        "piecolorway": [
         "rgb(141,211,199)",
         "rgb(255,255,179)",
         "rgb(190,186,218)",
         "rgb(251,128,114)",
         "rgb(128,177,211)",
         "rgb(253,180,98)",
         "rgb(179,222,105)",
         "rgb(252,205,229)",
         "rgb(217,217,217)",
         "rgb(188,128,189)",
         "rgb(204,235,197)",
         "rgb(255,237,111)"
        ],
        "template": {
         "data": {
          "bar": [
           {
            "error_x": {
             "color": "#2a3f5f"
            },
            "error_y": {
             "color": "#2a3f5f"
            },
            "marker": {
             "line": {
              "color": "#E5ECF6",
              "width": 0.5
             }
            },
            "type": "bar"
           }
          ],
          "barpolar": [
           {
            "marker": {
             "line": {
              "color": "#E5ECF6",
              "width": 0.5
             }
            },
            "type": "barpolar"
           }
          ],
          "carpet": [
           {
            "aaxis": {
             "endlinecolor": "#2a3f5f",
             "gridcolor": "white",
             "linecolor": "white",
             "minorgridcolor": "white",
             "startlinecolor": "#2a3f5f"
            },
            "baxis": {
             "endlinecolor": "#2a3f5f",
             "gridcolor": "white",
             "linecolor": "white",
             "minorgridcolor": "white",
             "startlinecolor": "#2a3f5f"
            },
            "type": "carpet"
           }
          ],
          "choropleth": [
           {
            "colorbar": {
             "outlinewidth": 0,
             "ticks": ""
            },
            "type": "choropleth"
           }
          ],
          "contour": [
           {
            "colorbar": {
             "outlinewidth": 0,
             "ticks": ""
            },
            "colorscale": [
             [
              0,
              "#0d0887"
             ],
             [
              0.1111111111111111,
              "#46039f"
             ],
             [
              0.2222222222222222,
              "#7201a8"
             ],
             [
              0.3333333333333333,
              "#9c179e"
             ],
             [
              0.4444444444444444,
              "#bd3786"
             ],
             [
              0.5555555555555556,
              "#d8576b"
             ],
             [
              0.6666666666666666,
              "#ed7953"
             ],
             [
              0.7777777777777778,
              "#fb9f3a"
             ],
             [
              0.8888888888888888,
              "#fdca26"
             ],
             [
              1,
              "#f0f921"
             ]
            ],
            "type": "contour"
           }
          ],
          "contourcarpet": [
           {
            "colorbar": {
             "outlinewidth": 0,
             "ticks": ""
            },
            "type": "contourcarpet"
           }
          ],
          "heatmap": [
           {
            "colorbar": {
             "outlinewidth": 0,
             "ticks": ""
            },
            "colorscale": [
             [
              0,
              "#0d0887"
             ],
             [
              0.1111111111111111,
              "#46039f"
             ],
             [
              0.2222222222222222,
              "#7201a8"
             ],
             [
              0.3333333333333333,
              "#9c179e"
             ],
             [
              0.4444444444444444,
              "#bd3786"
             ],
             [
              0.5555555555555556,
              "#d8576b"
             ],
             [
              0.6666666666666666,
              "#ed7953"
             ],
             [
              0.7777777777777778,
              "#fb9f3a"
             ],
             [
              0.8888888888888888,
              "#fdca26"
             ],
             [
              1,
              "#f0f921"
             ]
            ],
            "type": "heatmap"
           }
          ],
          "heatmapgl": [
           {
            "colorbar": {
             "outlinewidth": 0,
             "ticks": ""
            },
            "colorscale": [
             [
              0,
              "#0d0887"
             ],
             [
              0.1111111111111111,
              "#46039f"
             ],
             [
              0.2222222222222222,
              "#7201a8"
             ],
             [
              0.3333333333333333,
              "#9c179e"
             ],
             [
              0.4444444444444444,
              "#bd3786"
             ],
             [
              0.5555555555555556,
              "#d8576b"
             ],
             [
              0.6666666666666666,
              "#ed7953"
             ],
             [
              0.7777777777777778,
              "#fb9f3a"
             ],
             [
              0.8888888888888888,
              "#fdca26"
             ],
             [
              1,
              "#f0f921"
             ]
            ],
            "type": "heatmapgl"
           }
          ],
          "histogram": [
           {
            "marker": {
             "colorbar": {
              "outlinewidth": 0,
              "ticks": ""
             }
            },
            "type": "histogram"
           }
          ],
          "histogram2d": [
           {
            "colorbar": {
             "outlinewidth": 0,
             "ticks": ""
            },
            "colorscale": [
             [
              0,
              "#0d0887"
             ],
             [
              0.1111111111111111,
              "#46039f"
             ],
             [
              0.2222222222222222,
              "#7201a8"
             ],
             [
              0.3333333333333333,
              "#9c179e"
             ],
             [
              0.4444444444444444,
              "#bd3786"
             ],
             [
              0.5555555555555556,
              "#d8576b"
             ],
             [
              0.6666666666666666,
              "#ed7953"
             ],
             [
              0.7777777777777778,
              "#fb9f3a"
             ],
             [
              0.8888888888888888,
              "#fdca26"
             ],
             [
              1,
              "#f0f921"
             ]
            ],
            "type": "histogram2d"
           }
          ],
          "histogram2dcontour": [
           {
            "colorbar": {
             "outlinewidth": 0,
             "ticks": ""
            },
            "colorscale": [
             [
              0,
              "#0d0887"
             ],
             [
              0.1111111111111111,
              "#46039f"
             ],
             [
              0.2222222222222222,
              "#7201a8"
             ],
             [
              0.3333333333333333,
              "#9c179e"
             ],
             [
              0.4444444444444444,
              "#bd3786"
             ],
             [
              0.5555555555555556,
              "#d8576b"
             ],
             [
              0.6666666666666666,
              "#ed7953"
             ],
             [
              0.7777777777777778,
              "#fb9f3a"
             ],
             [
              0.8888888888888888,
              "#fdca26"
             ],
             [
              1,
              "#f0f921"
             ]
            ],
            "type": "histogram2dcontour"
           }
          ],
          "mesh3d": [
           {
            "colorbar": {
             "outlinewidth": 0,
             "ticks": ""
            },
            "type": "mesh3d"
           }
          ],
          "parcoords": [
           {
            "line": {
             "colorbar": {
              "outlinewidth": 0,
              "ticks": ""
             }
            },
            "type": "parcoords"
           }
          ],
          "pie": [
           {
            "automargin": true,
            "type": "pie"
           }
          ],
          "scatter": [
           {
            "marker": {
             "colorbar": {
              "outlinewidth": 0,
              "ticks": ""
             }
            },
            "type": "scatter"
           }
          ],
          "scatter3d": [
           {
            "line": {
             "colorbar": {
              "outlinewidth": 0,
              "ticks": ""
             }
            },
            "marker": {
             "colorbar": {
              "outlinewidth": 0,
              "ticks": ""
             }
            },
            "type": "scatter3d"
           }
          ],
          "scattercarpet": [
           {
            "marker": {
             "colorbar": {
              "outlinewidth": 0,
              "ticks": ""
             }
            },
            "type": "scattercarpet"
           }
          ],
          "scattergeo": [
           {
            "marker": {
             "colorbar": {
              "outlinewidth": 0,
              "ticks": ""
             }
            },
            "type": "scattergeo"
           }
          ],
          "scattergl": [
           {
            "marker": {
             "colorbar": {
              "outlinewidth": 0,
              "ticks": ""
             }
            },
            "type": "scattergl"
           }
          ],
          "scattermapbox": [
           {
            "marker": {
             "colorbar": {
              "outlinewidth": 0,
              "ticks": ""
             }
            },
            "type": "scattermapbox"
           }
          ],
          "scatterpolar": [
           {
            "marker": {
             "colorbar": {
              "outlinewidth": 0,
              "ticks": ""
             }
            },
            "type": "scatterpolar"
           }
          ],
          "scatterpolargl": [
           {
            "marker": {
             "colorbar": {
              "outlinewidth": 0,
              "ticks": ""
             }
            },
            "type": "scatterpolargl"
           }
          ],
          "scatterternary": [
           {
            "marker": {
             "colorbar": {
              "outlinewidth": 0,
              "ticks": ""
             }
            },
            "type": "scatterternary"
           }
          ],
          "surface": [
           {
            "colorbar": {
             "outlinewidth": 0,
             "ticks": ""
            },
            "colorscale": [
             [
              0,
              "#0d0887"
             ],
             [
              0.1111111111111111,
              "#46039f"
             ],
             [
              0.2222222222222222,
              "#7201a8"
             ],
             [
              0.3333333333333333,
              "#9c179e"
             ],
             [
              0.4444444444444444,
              "#bd3786"
             ],
             [
              0.5555555555555556,
              "#d8576b"
             ],
             [
              0.6666666666666666,
              "#ed7953"
             ],
             [
              0.7777777777777778,
              "#fb9f3a"
             ],
             [
              0.8888888888888888,
              "#fdca26"
             ],
             [
              1,
              "#f0f921"
             ]
            ],
            "type": "surface"
           }
          ],
          "table": [
           {
            "cells": {
             "fill": {
              "color": "#EBF0F8"
             },
             "line": {
              "color": "white"
             }
            },
            "header": {
             "fill": {
              "color": "#C8D4E3"
             },
             "line": {
              "color": "white"
             }
            },
            "type": "table"
           }
          ]
         },
         "layout": {
          "annotationdefaults": {
           "arrowcolor": "#2a3f5f",
           "arrowhead": 0,
           "arrowwidth": 1
          },
          "autotypenumbers": "strict",
          "coloraxis": {
           "colorbar": {
            "outlinewidth": 0,
            "ticks": ""
           }
          },
          "colorscale": {
           "diverging": [
            [
             0,
             "#8e0152"
            ],
            [
             0.1,
             "#c51b7d"
            ],
            [
             0.2,
             "#de77ae"
            ],
            [
             0.3,
             "#f1b6da"
            ],
            [
             0.4,
             "#fde0ef"
            ],
            [
             0.5,
             "#f7f7f7"
            ],
            [
             0.6,
             "#e6f5d0"
            ],
            [
             0.7,
             "#b8e186"
            ],
            [
             0.8,
             "#7fbc41"
            ],
            [
             0.9,
             "#4d9221"
            ],
            [
             1,
             "#276419"
            ]
           ],
           "sequential": [
            [
             0,
             "#0d0887"
            ],
            [
             0.1111111111111111,
             "#46039f"
            ],
            [
             0.2222222222222222,
             "#7201a8"
            ],
            [
             0.3333333333333333,
             "#9c179e"
            ],
            [
             0.4444444444444444,
             "#bd3786"
            ],
            [
             0.5555555555555556,
             "#d8576b"
            ],
            [
             0.6666666666666666,
             "#ed7953"
            ],
            [
             0.7777777777777778,
             "#fb9f3a"
            ],
            [
             0.8888888888888888,
             "#fdca26"
            ],
            [
             1,
             "#f0f921"
            ]
           ],
           "sequentialminus": [
            [
             0,
             "#0d0887"
            ],
            [
             0.1111111111111111,
             "#46039f"
            ],
            [
             0.2222222222222222,
             "#7201a8"
            ],
            [
             0.3333333333333333,
             "#9c179e"
            ],
            [
             0.4444444444444444,
             "#bd3786"
            ],
            [
             0.5555555555555556,
             "#d8576b"
            ],
            [
             0.6666666666666666,
             "#ed7953"
            ],
            [
             0.7777777777777778,
             "#fb9f3a"
            ],
            [
             0.8888888888888888,
             "#fdca26"
            ],
            [
             1,
             "#f0f921"
            ]
           ]
          },
          "colorway": [
           "#636efa",
           "#EF553B",
           "#00cc96",
           "#ab63fa",
           "#FFA15A",
           "#19d3f3",
           "#FF6692",
           "#B6E880",
           "#FF97FF",
           "#FECB52"
          ],
          "font": {
           "color": "#2a3f5f"
          },
          "geo": {
           "bgcolor": "white",
           "lakecolor": "white",
           "landcolor": "#E5ECF6",
           "showlakes": true,
           "showland": true,
           "subunitcolor": "white"
          },
          "hoverlabel": {
           "align": "left"
          },
          "hovermode": "closest",
          "mapbox": {
           "style": "light"
          },
          "paper_bgcolor": "white",
          "plot_bgcolor": "#E5ECF6",
          "polar": {
           "angularaxis": {
            "gridcolor": "white",
            "linecolor": "white",
            "ticks": ""
           },
           "bgcolor": "#E5ECF6",
           "radialaxis": {
            "gridcolor": "white",
            "linecolor": "white",
            "ticks": ""
           }
          },
          "scene": {
           "xaxis": {
            "backgroundcolor": "#E5ECF6",
            "gridcolor": "white",
            "gridwidth": 2,
            "linecolor": "white",
            "showbackground": true,
            "ticks": "",
            "zerolinecolor": "white"
           },
           "yaxis": {
            "backgroundcolor": "#E5ECF6",
            "gridcolor": "white",
            "gridwidth": 2,
            "linecolor": "white",
            "showbackground": true,
            "ticks": "",
            "zerolinecolor": "white"
           },
           "zaxis": {
            "backgroundcolor": "#E5ECF6",
            "gridcolor": "white",
            "gridwidth": 2,
            "linecolor": "white",
            "showbackground": true,
            "ticks": "",
            "zerolinecolor": "white"
           }
          },
          "shapedefaults": {
           "line": {
            "color": "#2a3f5f"
           }
          },
          "ternary": {
           "aaxis": {
            "gridcolor": "white",
            "linecolor": "white",
            "ticks": ""
           },
           "baxis": {
            "gridcolor": "white",
            "linecolor": "white",
            "ticks": ""
           },
           "bgcolor": "#E5ECF6",
           "caxis": {
            "gridcolor": "white",
            "linecolor": "white",
            "ticks": ""
           }
          },
          "title": {
           "x": 0.05
          },
          "xaxis": {
           "automargin": true,
           "gridcolor": "white",
           "linecolor": "white",
           "ticks": "",
           "title": {
            "standoff": 15
           },
           "zerolinecolor": "white",
           "zerolinewidth": 2
          },
          "yaxis": {
           "automargin": true,
           "gridcolor": "white",
           "linecolor": "white",
           "ticks": "",
           "title": {
            "standoff": 15
           },
           "zerolinecolor": "white",
           "zerolinewidth": 2
          }
         }
        },
        "title": {
         "text": "추천 포트폴리오"
        }
       }
      },
      "text/html": [
       "<div>                            <div id=\"37f933a3-de0a-40d9-b4f0-91c76c04d878\" class=\"plotly-graph-div\" style=\"height:525px; width:100%;\"></div>            <script type=\"text/javascript\">                require([\"plotly\"], function(Plotly) {                    window.PLOTLYENV=window.PLOTLYENV || {};                                    if (document.getElementById(\"37f933a3-de0a-40d9-b4f0-91c76c04d878\")) {                    Plotly.newPlot(                        \"37f933a3-de0a-40d9-b4f0-91c76c04d878\",                        [{\"domain\": {\"x\": [0.0, 1.0], \"y\": [0.0, 1.0]}, \"hovertemplate\": \"itemname=%{label}<br>wt=%{value}<extra></extra>\", \"labels\": [\"KODEX \\uad6d\\uace0\\ucc443\\ub144\", \"KOSEF \\ud1b5\\uc548\\ucc441\\ub144\", \"KOSEF \\ub2e8\\uae30\\uc790\\uae08\", \"KODEX TRF3070\", \"\\ud604\\uae08\", \"KODEX IT\"], \"legendgroup\": \"\", \"name\": \"\", \"showlegend\": true, \"type\": \"pie\", \"values\": [0.2316588413457018, 0.20242141503942002, 0.20200130833231641, 0.14277626517135353, 0.13582049840659527, 0.08532167170461297]}],                        {\"legend\": {\"tracegroupgap\": 0}, \"piecolorway\": [\"rgb(141,211,199)\", \"rgb(255,255,179)\", \"rgb(190,186,218)\", \"rgb(251,128,114)\", \"rgb(128,177,211)\", \"rgb(253,180,98)\", \"rgb(179,222,105)\", \"rgb(252,205,229)\", \"rgb(217,217,217)\", \"rgb(188,128,189)\", \"rgb(204,235,197)\", \"rgb(255,237,111)\"], \"template\": {\"data\": {\"bar\": [{\"error_x\": {\"color\": \"#2a3f5f\"}, \"error_y\": {\"color\": \"#2a3f5f\"}, \"marker\": {\"line\": {\"color\": \"#E5ECF6\", \"width\": 0.5}}, \"type\": \"bar\"}], \"barpolar\": [{\"marker\": {\"line\": {\"color\": \"#E5ECF6\", \"width\": 0.5}}, \"type\": \"barpolar\"}], \"carpet\": [{\"aaxis\": {\"endlinecolor\": \"#2a3f5f\", \"gridcolor\": \"white\", \"linecolor\": \"white\", \"minorgridcolor\": \"white\", \"startlinecolor\": \"#2a3f5f\"}, \"baxis\": {\"endlinecolor\": \"#2a3f5f\", \"gridcolor\": \"white\", \"linecolor\": \"white\", \"minorgridcolor\": \"white\", \"startlinecolor\": \"#2a3f5f\"}, \"type\": \"carpet\"}], \"choropleth\": [{\"colorbar\": {\"outlinewidth\": 0, \"ticks\": \"\"}, \"type\": \"choropleth\"}], \"contour\": [{\"colorbar\": {\"outlinewidth\": 0, \"ticks\": \"\"}, \"colorscale\": [[0.0, \"#0d0887\"], [0.1111111111111111, \"#46039f\"], [0.2222222222222222, \"#7201a8\"], [0.3333333333333333, \"#9c179e\"], [0.4444444444444444, \"#bd3786\"], [0.5555555555555556, \"#d8576b\"], [0.6666666666666666, \"#ed7953\"], [0.7777777777777778, \"#fb9f3a\"], [0.8888888888888888, \"#fdca26\"], [1.0, \"#f0f921\"]], \"type\": \"contour\"}], \"contourcarpet\": [{\"colorbar\": {\"outlinewidth\": 0, \"ticks\": \"\"}, \"type\": \"contourcarpet\"}], \"heatmap\": [{\"colorbar\": {\"outlinewidth\": 0, \"ticks\": \"\"}, \"colorscale\": [[0.0, \"#0d0887\"], [0.1111111111111111, \"#46039f\"], [0.2222222222222222, \"#7201a8\"], [0.3333333333333333, \"#9c179e\"], [0.4444444444444444, \"#bd3786\"], [0.5555555555555556, \"#d8576b\"], [0.6666666666666666, \"#ed7953\"], [0.7777777777777778, \"#fb9f3a\"], [0.8888888888888888, \"#fdca26\"], [1.0, \"#f0f921\"]], \"type\": \"heatmap\"}], \"heatmapgl\": [{\"colorbar\": {\"outlinewidth\": 0, \"ticks\": \"\"}, \"colorscale\": [[0.0, \"#0d0887\"], [0.1111111111111111, \"#46039f\"], [0.2222222222222222, \"#7201a8\"], [0.3333333333333333, \"#9c179e\"], [0.4444444444444444, \"#bd3786\"], [0.5555555555555556, \"#d8576b\"], [0.6666666666666666, \"#ed7953\"], [0.7777777777777778, \"#fb9f3a\"], [0.8888888888888888, \"#fdca26\"], [1.0, \"#f0f921\"]], \"type\": \"heatmapgl\"}], \"histogram\": [{\"marker\": {\"colorbar\": {\"outlinewidth\": 0, \"ticks\": \"\"}}, \"type\": \"histogram\"}], \"histogram2d\": [{\"colorbar\": {\"outlinewidth\": 0, \"ticks\": \"\"}, \"colorscale\": [[0.0, \"#0d0887\"], [0.1111111111111111, \"#46039f\"], [0.2222222222222222, \"#7201a8\"], [0.3333333333333333, \"#9c179e\"], [0.4444444444444444, \"#bd3786\"], [0.5555555555555556, \"#d8576b\"], [0.6666666666666666, \"#ed7953\"], [0.7777777777777778, \"#fb9f3a\"], [0.8888888888888888, \"#fdca26\"], [1.0, \"#f0f921\"]], \"type\": \"histogram2d\"}], \"histogram2dcontour\": [{\"colorbar\": {\"outlinewidth\": 0, \"ticks\": \"\"}, \"colorscale\": [[0.0, \"#0d0887\"], [0.1111111111111111, \"#46039f\"], [0.2222222222222222, \"#7201a8\"], [0.3333333333333333, \"#9c179e\"], [0.4444444444444444, \"#bd3786\"], [0.5555555555555556, \"#d8576b\"], [0.6666666666666666, \"#ed7953\"], [0.7777777777777778, \"#fb9f3a\"], [0.8888888888888888, \"#fdca26\"], [1.0, \"#f0f921\"]], \"type\": \"histogram2dcontour\"}], \"mesh3d\": [{\"colorbar\": {\"outlinewidth\": 0, \"ticks\": \"\"}, \"type\": \"mesh3d\"}], \"parcoords\": [{\"line\": {\"colorbar\": {\"outlinewidth\": 0, \"ticks\": \"\"}}, \"type\": \"parcoords\"}], \"pie\": [{\"automargin\": true, \"type\": \"pie\"}], \"scatter\": [{\"marker\": {\"colorbar\": {\"outlinewidth\": 0, \"ticks\": \"\"}}, \"type\": \"scatter\"}], \"scatter3d\": [{\"line\": {\"colorbar\": {\"outlinewidth\": 0, \"ticks\": \"\"}}, \"marker\": {\"colorbar\": {\"outlinewidth\": 0, \"ticks\": \"\"}}, \"type\": \"scatter3d\"}], \"scattercarpet\": [{\"marker\": {\"colorbar\": {\"outlinewidth\": 0, \"ticks\": \"\"}}, \"type\": \"scattercarpet\"}], \"scattergeo\": [{\"marker\": {\"colorbar\": {\"outlinewidth\": 0, \"ticks\": \"\"}}, \"type\": \"scattergeo\"}], \"scattergl\": [{\"marker\": {\"colorbar\": {\"outlinewidth\": 0, \"ticks\": \"\"}}, \"type\": \"scattergl\"}], \"scattermapbox\": [{\"marker\": {\"colorbar\": {\"outlinewidth\": 0, \"ticks\": \"\"}}, \"type\": \"scattermapbox\"}], \"scatterpolar\": [{\"marker\": {\"colorbar\": {\"outlinewidth\": 0, \"ticks\": \"\"}}, \"type\": \"scatterpolar\"}], \"scatterpolargl\": [{\"marker\": {\"colorbar\": {\"outlinewidth\": 0, \"ticks\": \"\"}}, \"type\": \"scatterpolargl\"}], \"scatterternary\": [{\"marker\": {\"colorbar\": {\"outlinewidth\": 0, \"ticks\": \"\"}}, \"type\": \"scatterternary\"}], \"surface\": [{\"colorbar\": {\"outlinewidth\": 0, \"ticks\": \"\"}, \"colorscale\": [[0.0, \"#0d0887\"], [0.1111111111111111, \"#46039f\"], [0.2222222222222222, \"#7201a8\"], [0.3333333333333333, \"#9c179e\"], [0.4444444444444444, \"#bd3786\"], [0.5555555555555556, \"#d8576b\"], [0.6666666666666666, \"#ed7953\"], [0.7777777777777778, \"#fb9f3a\"], [0.8888888888888888, \"#fdca26\"], [1.0, \"#f0f921\"]], \"type\": \"surface\"}], \"table\": [{\"cells\": {\"fill\": {\"color\": \"#EBF0F8\"}, \"line\": {\"color\": \"white\"}}, \"header\": {\"fill\": {\"color\": \"#C8D4E3\"}, \"line\": {\"color\": \"white\"}}, \"type\": \"table\"}]}, \"layout\": {\"annotationdefaults\": {\"arrowcolor\": \"#2a3f5f\", \"arrowhead\": 0, \"arrowwidth\": 1}, \"autotypenumbers\": \"strict\", \"coloraxis\": {\"colorbar\": {\"outlinewidth\": 0, \"ticks\": \"\"}}, \"colorscale\": {\"diverging\": [[0, \"#8e0152\"], [0.1, \"#c51b7d\"], [0.2, \"#de77ae\"], [0.3, \"#f1b6da\"], [0.4, \"#fde0ef\"], [0.5, \"#f7f7f7\"], [0.6, \"#e6f5d0\"], [0.7, \"#b8e186\"], [0.8, \"#7fbc41\"], [0.9, \"#4d9221\"], [1, \"#276419\"]], \"sequential\": [[0.0, \"#0d0887\"], [0.1111111111111111, \"#46039f\"], [0.2222222222222222, \"#7201a8\"], [0.3333333333333333, \"#9c179e\"], [0.4444444444444444, \"#bd3786\"], [0.5555555555555556, \"#d8576b\"], [0.6666666666666666, \"#ed7953\"], [0.7777777777777778, \"#fb9f3a\"], [0.8888888888888888, \"#fdca26\"], [1.0, \"#f0f921\"]], \"sequentialminus\": [[0.0, \"#0d0887\"], [0.1111111111111111, \"#46039f\"], [0.2222222222222222, \"#7201a8\"], [0.3333333333333333, \"#9c179e\"], [0.4444444444444444, \"#bd3786\"], [0.5555555555555556, \"#d8576b\"], [0.6666666666666666, \"#ed7953\"], [0.7777777777777778, \"#fb9f3a\"], [0.8888888888888888, \"#fdca26\"], [1.0, \"#f0f921\"]]}, \"colorway\": [\"#636efa\", \"#EF553B\", \"#00cc96\", \"#ab63fa\", \"#FFA15A\", \"#19d3f3\", \"#FF6692\", \"#B6E880\", \"#FF97FF\", \"#FECB52\"], \"font\": {\"color\": \"#2a3f5f\"}, \"geo\": {\"bgcolor\": \"white\", \"lakecolor\": \"white\", \"landcolor\": \"#E5ECF6\", \"showlakes\": true, \"showland\": true, \"subunitcolor\": \"white\"}, \"hoverlabel\": {\"align\": \"left\"}, \"hovermode\": \"closest\", \"mapbox\": {\"style\": \"light\"}, \"paper_bgcolor\": \"white\", \"plot_bgcolor\": \"#E5ECF6\", \"polar\": {\"angularaxis\": {\"gridcolor\": \"white\", \"linecolor\": \"white\", \"ticks\": \"\"}, \"bgcolor\": \"#E5ECF6\", \"radialaxis\": {\"gridcolor\": \"white\", \"linecolor\": \"white\", \"ticks\": \"\"}}, \"scene\": {\"xaxis\": {\"backgroundcolor\": \"#E5ECF6\", \"gridcolor\": \"white\", \"gridwidth\": 2, \"linecolor\": \"white\", \"showbackground\": true, \"ticks\": \"\", \"zerolinecolor\": \"white\"}, \"yaxis\": {\"backgroundcolor\": \"#E5ECF6\", \"gridcolor\": \"white\", \"gridwidth\": 2, \"linecolor\": \"white\", \"showbackground\": true, \"ticks\": \"\", \"zerolinecolor\": \"white\"}, \"zaxis\": {\"backgroundcolor\": \"#E5ECF6\", \"gridcolor\": \"white\", \"gridwidth\": 2, \"linecolor\": \"white\", \"showbackground\": true, \"ticks\": \"\", \"zerolinecolor\": \"white\"}}, \"shapedefaults\": {\"line\": {\"color\": \"#2a3f5f\"}}, \"ternary\": {\"aaxis\": {\"gridcolor\": \"white\", \"linecolor\": \"white\", \"ticks\": \"\"}, \"baxis\": {\"gridcolor\": \"white\", \"linecolor\": \"white\", \"ticks\": \"\"}, \"bgcolor\": \"#E5ECF6\", \"caxis\": {\"gridcolor\": \"white\", \"linecolor\": \"white\", \"ticks\": \"\"}}, \"title\": {\"x\": 0.05}, \"xaxis\": {\"automargin\": true, \"gridcolor\": \"white\", \"linecolor\": \"white\", \"ticks\": \"\", \"title\": {\"standoff\": 15}, \"zerolinecolor\": \"white\", \"zerolinewidth\": 2}, \"yaxis\": {\"automargin\": true, \"gridcolor\": \"white\", \"linecolor\": \"white\", \"ticks\": \"\", \"title\": {\"standoff\": 15}, \"zerolinecolor\": \"white\", \"zerolinewidth\": 2}}}, \"title\": {\"text\": \"\\ucd94\\ucc9c \\ud3ec\\ud2b8\\ud3f4\\ub9ac\\uc624\"}},                        {\"responsive\": true}                    ).then(function(){\n",
       "                            \n",
       "var gd = document.getElementById('37f933a3-de0a-40d9-b4f0-91c76c04d878');\n",
       "var x = new MutationObserver(function (mutations, observer) {{\n",
       "        var display = window.getComputedStyle(gd).display;\n",
       "        if (!display || display === 'none') {{\n",
       "            console.log([gd, 'removed!']);\n",
       "            Plotly.purge(gd);\n",
       "            observer.disconnect();\n",
       "        }}\n",
       "}});\n",
       "\n",
       "// Listen for the removal of the full notebook cells\n",
       "var notebookContainer = gd.closest('#notebook-container');\n",
       "if (notebookContainer) {{\n",
       "    x.observe(notebookContainer, {childList: true});\n",
       "}}\n",
       "\n",
       "// Listen for the clearing of the current output cell\n",
       "var outputEl = gd.closest('.output');\n",
       "if (outputEl) {{\n",
       "    x.observe(outputEl, {childList: true});\n",
       "}}\n",
       "\n",
       "                        })                };                });            </script>        </div>"
      ]
     },
     "metadata": {},
     "output_type": "display_data"
    }
   ],
   "source": [
    "fig1 = px.pie(v, names = 'itemname', values = 'wt', title = \"추천 포트폴리오\", color_discrete_sequence=px.colors.qualitative.Set3)\n",
    "fig1.show()"
   ]
  },
  {
   "cell_type": "code",
   "execution_count": 64,
   "id": "indie-hours",
   "metadata": {
    "ExecuteTime": {
     "end_time": "2021-03-23T23:17:21.820267Z",
     "start_time": "2021-03-23T23:17:21.813286Z"
    }
   },
   "outputs": [
    {
     "data": {
      "text/html": [
       "<div>\n",
       "<style scoped>\n",
       "    .dataframe tbody tr th:only-of-type {\n",
       "        vertical-align: middle;\n",
       "    }\n",
       "\n",
       "    .dataframe tbody tr th {\n",
       "        vertical-align: top;\n",
       "    }\n",
       "\n",
       "    .dataframe thead th {\n",
       "        text-align: right;\n",
       "    }\n",
       "</style>\n",
       "<table border=\"1\" class=\"dataframe\">\n",
       "  <thead>\n",
       "    <tr style=\"text-align: right;\">\n",
       "      <th></th>\n",
       "      <th>asset_class</th>\n",
       "      <th>wt</th>\n",
       "    </tr>\n",
       "  </thead>\n",
       "  <tbody>\n",
       "    <tr>\n",
       "      <th>0</th>\n",
       "      <td>Fixed Income</td>\n",
       "      <td>0.636082</td>\n",
       "    </tr>\n",
       "    <tr>\n",
       "      <th>1</th>\n",
       "      <td>Alternative</td>\n",
       "      <td>0.142776</td>\n",
       "    </tr>\n",
       "    <tr>\n",
       "      <th>2</th>\n",
       "      <td>Cash</td>\n",
       "      <td>0.135820</td>\n",
       "    </tr>\n",
       "    <tr>\n",
       "      <th>3</th>\n",
       "      <td>Equity</td>\n",
       "      <td>0.085322</td>\n",
       "    </tr>\n",
       "  </tbody>\n",
       "</table>\n",
       "</div>"
      ],
      "text/plain": [
       "    asset_class        wt\n",
       "0  Fixed Income  0.636082\n",
       "1   Alternative  0.142776\n",
       "2          Cash  0.135820\n",
       "3        Equity  0.085322"
      ]
     },
     "execution_count": 64,
     "metadata": {},
     "output_type": "execute_result"
    }
   ],
   "source": [
    "df_by_asset_class.loc[:, ['asset_class', 'wt']]"
   ]
  },
  {
   "cell_type": "code",
   "execution_count": 65,
   "id": "periodic-broadway",
   "metadata": {
    "ExecuteTime": {
     "end_time": "2021-03-23T23:17:33.023788Z",
     "start_time": "2021-03-23T23:17:32.980905Z"
    }
   },
   "outputs": [
    {
     "data": {
      "application/vnd.plotly.v1+json": {
       "config": {
        "plotlyServerURL": "https://plot.ly"
       },
       "data": [
        {
         "alignmentgroup": "True",
         "hovertemplate": "자산군=%{x}<br>비중=%{y}<extra></extra>",
         "legendgroup": "Fixed Income",
         "marker": {
          "color": "#636efa"
         },
         "name": "Fixed Income",
         "offsetgroup": "Fixed Income",
         "orientation": "v",
         "showlegend": true,
         "textposition": "auto",
         "type": "bar",
         "x": [
          "Fixed Income"
         ],
         "xaxis": "x",
         "y": [
          0.6360815647174383
         ],
         "yaxis": "y"
        },
        {
         "alignmentgroup": "True",
         "hovertemplate": "자산군=%{x}<br>비중=%{y}<extra></extra>",
         "legendgroup": "Alternative",
         "marker": {
          "color": "#EF553B"
         },
         "name": "Alternative",
         "offsetgroup": "Alternative",
         "orientation": "v",
         "showlegend": true,
         "textposition": "auto",
         "type": "bar",
         "x": [
          "Alternative"
         ],
         "xaxis": "x",
         "y": [
          0.14277626517135353
         ],
         "yaxis": "y"
        },
        {
         "alignmentgroup": "True",
         "hovertemplate": "자산군=%{x}<br>비중=%{y}<extra></extra>",
         "legendgroup": "Cash",
         "marker": {
          "color": "#00cc96"
         },
         "name": "Cash",
         "offsetgroup": "Cash",
         "orientation": "v",
         "showlegend": true,
         "textposition": "auto",
         "type": "bar",
         "x": [
          "Cash"
         ],
         "xaxis": "x",
         "y": [
          0.13582049840659527
         ],
         "yaxis": "y"
        },
        {
         "alignmentgroup": "True",
         "hovertemplate": "자산군=%{x}<br>비중=%{y}<extra></extra>",
         "legendgroup": "Equity",
         "marker": {
          "color": "#ab63fa"
         },
         "name": "Equity",
         "offsetgroup": "Equity",
         "orientation": "v",
         "showlegend": true,
         "textposition": "auto",
         "type": "bar",
         "x": [
          "Equity"
         ],
         "xaxis": "x",
         "y": [
          0.08532167170461297
         ],
         "yaxis": "y"
        }
       ],
       "layout": {
        "barmode": "relative",
        "legend": {
         "title": {
          "text": "자산군"
         },
         "tracegroupgap": 0
        },
        "template": {
         "data": {
          "bar": [
           {
            "error_x": {
             "color": "#f2f5fa"
            },
            "error_y": {
             "color": "#f2f5fa"
            },
            "marker": {
             "line": {
              "color": "rgb(17,17,17)",
              "width": 0.5
             }
            },
            "type": "bar"
           }
          ],
          "barpolar": [
           {
            "marker": {
             "line": {
              "color": "rgb(17,17,17)",
              "width": 0.5
             }
            },
            "type": "barpolar"
           }
          ],
          "carpet": [
           {
            "aaxis": {
             "endlinecolor": "#A2B1C6",
             "gridcolor": "#506784",
             "linecolor": "#506784",
             "minorgridcolor": "#506784",
             "startlinecolor": "#A2B1C6"
            },
            "baxis": {
             "endlinecolor": "#A2B1C6",
             "gridcolor": "#506784",
             "linecolor": "#506784",
             "minorgridcolor": "#506784",
             "startlinecolor": "#A2B1C6"
            },
            "type": "carpet"
           }
          ],
          "choropleth": [
           {
            "colorbar": {
             "outlinewidth": 0,
             "ticks": ""
            },
            "type": "choropleth"
           }
          ],
          "contour": [
           {
            "colorbar": {
             "outlinewidth": 0,
             "ticks": ""
            },
            "colorscale": [
             [
              0,
              "#0d0887"
             ],
             [
              0.1111111111111111,
              "#46039f"
             ],
             [
              0.2222222222222222,
              "#7201a8"
             ],
             [
              0.3333333333333333,
              "#9c179e"
             ],
             [
              0.4444444444444444,
              "#bd3786"
             ],
             [
              0.5555555555555556,
              "#d8576b"
             ],
             [
              0.6666666666666666,
              "#ed7953"
             ],
             [
              0.7777777777777778,
              "#fb9f3a"
             ],
             [
              0.8888888888888888,
              "#fdca26"
             ],
             [
              1,
              "#f0f921"
             ]
            ],
            "type": "contour"
           }
          ],
          "contourcarpet": [
           {
            "colorbar": {
             "outlinewidth": 0,
             "ticks": ""
            },
            "type": "contourcarpet"
           }
          ],
          "heatmap": [
           {
            "colorbar": {
             "outlinewidth": 0,
             "ticks": ""
            },
            "colorscale": [
             [
              0,
              "#0d0887"
             ],
             [
              0.1111111111111111,
              "#46039f"
             ],
             [
              0.2222222222222222,
              "#7201a8"
             ],
             [
              0.3333333333333333,
              "#9c179e"
             ],
             [
              0.4444444444444444,
              "#bd3786"
             ],
             [
              0.5555555555555556,
              "#d8576b"
             ],
             [
              0.6666666666666666,
              "#ed7953"
             ],
             [
              0.7777777777777778,
              "#fb9f3a"
             ],
             [
              0.8888888888888888,
              "#fdca26"
             ],
             [
              1,
              "#f0f921"
             ]
            ],
            "type": "heatmap"
           }
          ],
          "heatmapgl": [
           {
            "colorbar": {
             "outlinewidth": 0,
             "ticks": ""
            },
            "colorscale": [
             [
              0,
              "#0d0887"
             ],
             [
              0.1111111111111111,
              "#46039f"
             ],
             [
              0.2222222222222222,
              "#7201a8"
             ],
             [
              0.3333333333333333,
              "#9c179e"
             ],
             [
              0.4444444444444444,
              "#bd3786"
             ],
             [
              0.5555555555555556,
              "#d8576b"
             ],
             [
              0.6666666666666666,
              "#ed7953"
             ],
             [
              0.7777777777777778,
              "#fb9f3a"
             ],
             [
              0.8888888888888888,
              "#fdca26"
             ],
             [
              1,
              "#f0f921"
             ]
            ],
            "type": "heatmapgl"
           }
          ],
          "histogram": [
           {
            "marker": {
             "colorbar": {
              "outlinewidth": 0,
              "ticks": ""
             }
            },
            "type": "histogram"
           }
          ],
          "histogram2d": [
           {
            "colorbar": {
             "outlinewidth": 0,
             "ticks": ""
            },
            "colorscale": [
             [
              0,
              "#0d0887"
             ],
             [
              0.1111111111111111,
              "#46039f"
             ],
             [
              0.2222222222222222,
              "#7201a8"
             ],
             [
              0.3333333333333333,
              "#9c179e"
             ],
             [
              0.4444444444444444,
              "#bd3786"
             ],
             [
              0.5555555555555556,
              "#d8576b"
             ],
             [
              0.6666666666666666,
              "#ed7953"
             ],
             [
              0.7777777777777778,
              "#fb9f3a"
             ],
             [
              0.8888888888888888,
              "#fdca26"
             ],
             [
              1,
              "#f0f921"
             ]
            ],
            "type": "histogram2d"
           }
          ],
          "histogram2dcontour": [
           {
            "colorbar": {
             "outlinewidth": 0,
             "ticks": ""
            },
            "colorscale": [
             [
              0,
              "#0d0887"
             ],
             [
              0.1111111111111111,
              "#46039f"
             ],
             [
              0.2222222222222222,
              "#7201a8"
             ],
             [
              0.3333333333333333,
              "#9c179e"
             ],
             [
              0.4444444444444444,
              "#bd3786"
             ],
             [
              0.5555555555555556,
              "#d8576b"
             ],
             [
              0.6666666666666666,
              "#ed7953"
             ],
             [
              0.7777777777777778,
              "#fb9f3a"
             ],
             [
              0.8888888888888888,
              "#fdca26"
             ],
             [
              1,
              "#f0f921"
             ]
            ],
            "type": "histogram2dcontour"
           }
          ],
          "mesh3d": [
           {
            "colorbar": {
             "outlinewidth": 0,
             "ticks": ""
            },
            "type": "mesh3d"
           }
          ],
          "parcoords": [
           {
            "line": {
             "colorbar": {
              "outlinewidth": 0,
              "ticks": ""
             }
            },
            "type": "parcoords"
           }
          ],
          "pie": [
           {
            "automargin": true,
            "type": "pie"
           }
          ],
          "scatter": [
           {
            "marker": {
             "line": {
              "color": "#283442"
             }
            },
            "type": "scatter"
           }
          ],
          "scatter3d": [
           {
            "line": {
             "colorbar": {
              "outlinewidth": 0,
              "ticks": ""
             }
            },
            "marker": {
             "colorbar": {
              "outlinewidth": 0,
              "ticks": ""
             }
            },
            "type": "scatter3d"
           }
          ],
          "scattercarpet": [
           {
            "marker": {
             "colorbar": {
              "outlinewidth": 0,
              "ticks": ""
             }
            },
            "type": "scattercarpet"
           }
          ],
          "scattergeo": [
           {
            "marker": {
             "colorbar": {
              "outlinewidth": 0,
              "ticks": ""
             }
            },
            "type": "scattergeo"
           }
          ],
          "scattergl": [
           {
            "marker": {
             "line": {
              "color": "#283442"
             }
            },
            "type": "scattergl"
           }
          ],
          "scattermapbox": [
           {
            "marker": {
             "colorbar": {
              "outlinewidth": 0,
              "ticks": ""
             }
            },
            "type": "scattermapbox"
           }
          ],
          "scatterpolar": [
           {
            "marker": {
             "colorbar": {
              "outlinewidth": 0,
              "ticks": ""
             }
            },
            "type": "scatterpolar"
           }
          ],
          "scatterpolargl": [
           {
            "marker": {
             "colorbar": {
              "outlinewidth": 0,
              "ticks": ""
             }
            },
            "type": "scatterpolargl"
           }
          ],
          "scatterternary": [
           {
            "marker": {
             "colorbar": {
              "outlinewidth": 0,
              "ticks": ""
             }
            },
            "type": "scatterternary"
           }
          ],
          "surface": [
           {
            "colorbar": {
             "outlinewidth": 0,
             "ticks": ""
            },
            "colorscale": [
             [
              0,
              "#0d0887"
             ],
             [
              0.1111111111111111,
              "#46039f"
             ],
             [
              0.2222222222222222,
              "#7201a8"
             ],
             [
              0.3333333333333333,
              "#9c179e"
             ],
             [
              0.4444444444444444,
              "#bd3786"
             ],
             [
              0.5555555555555556,
              "#d8576b"
             ],
             [
              0.6666666666666666,
              "#ed7953"
             ],
             [
              0.7777777777777778,
              "#fb9f3a"
             ],
             [
              0.8888888888888888,
              "#fdca26"
             ],
             [
              1,
              "#f0f921"
             ]
            ],
            "type": "surface"
           }
          ],
          "table": [
           {
            "cells": {
             "fill": {
              "color": "#506784"
             },
             "line": {
              "color": "rgb(17,17,17)"
             }
            },
            "header": {
             "fill": {
              "color": "#2a3f5f"
             },
             "line": {
              "color": "rgb(17,17,17)"
             }
            },
            "type": "table"
           }
          ]
         },
         "layout": {
          "annotationdefaults": {
           "arrowcolor": "#f2f5fa",
           "arrowhead": 0,
           "arrowwidth": 1
          },
          "autotypenumbers": "strict",
          "coloraxis": {
           "colorbar": {
            "outlinewidth": 0,
            "ticks": ""
           }
          },
          "colorscale": {
           "diverging": [
            [
             0,
             "#8e0152"
            ],
            [
             0.1,
             "#c51b7d"
            ],
            [
             0.2,
             "#de77ae"
            ],
            [
             0.3,
             "#f1b6da"
            ],
            [
             0.4,
             "#fde0ef"
            ],
            [
             0.5,
             "#f7f7f7"
            ],
            [
             0.6,
             "#e6f5d0"
            ],
            [
             0.7,
             "#b8e186"
            ],
            [
             0.8,
             "#7fbc41"
            ],
            [
             0.9,
             "#4d9221"
            ],
            [
             1,
             "#276419"
            ]
           ],
           "sequential": [
            [
             0,
             "#0d0887"
            ],
            [
             0.1111111111111111,
             "#46039f"
            ],
            [
             0.2222222222222222,
             "#7201a8"
            ],
            [
             0.3333333333333333,
             "#9c179e"
            ],
            [
             0.4444444444444444,
             "#bd3786"
            ],
            [
             0.5555555555555556,
             "#d8576b"
            ],
            [
             0.6666666666666666,
             "#ed7953"
            ],
            [
             0.7777777777777778,
             "#fb9f3a"
            ],
            [
             0.8888888888888888,
             "#fdca26"
            ],
            [
             1,
             "#f0f921"
            ]
           ],
           "sequentialminus": [
            [
             0,
             "#0d0887"
            ],
            [
             0.1111111111111111,
             "#46039f"
            ],
            [
             0.2222222222222222,
             "#7201a8"
            ],
            [
             0.3333333333333333,
             "#9c179e"
            ],
            [
             0.4444444444444444,
             "#bd3786"
            ],
            [
             0.5555555555555556,
             "#d8576b"
            ],
            [
             0.6666666666666666,
             "#ed7953"
            ],
            [
             0.7777777777777778,
             "#fb9f3a"
            ],
            [
             0.8888888888888888,
             "#fdca26"
            ],
            [
             1,
             "#f0f921"
            ]
           ]
          },
          "colorway": [
           "#636efa",
           "#EF553B",
           "#00cc96",
           "#ab63fa",
           "#FFA15A",
           "#19d3f3",
           "#FF6692",
           "#B6E880",
           "#FF97FF",
           "#FECB52"
          ],
          "font": {
           "color": "#f2f5fa"
          },
          "geo": {
           "bgcolor": "rgb(17,17,17)",
           "lakecolor": "rgb(17,17,17)",
           "landcolor": "rgb(17,17,17)",
           "showlakes": true,
           "showland": true,
           "subunitcolor": "#506784"
          },
          "hoverlabel": {
           "align": "left"
          },
          "hovermode": "closest",
          "mapbox": {
           "style": "dark"
          },
          "paper_bgcolor": "rgb(17,17,17)",
          "plot_bgcolor": "rgb(17,17,17)",
          "polar": {
           "angularaxis": {
            "gridcolor": "#506784",
            "linecolor": "#506784",
            "ticks": ""
           },
           "bgcolor": "rgb(17,17,17)",
           "radialaxis": {
            "gridcolor": "#506784",
            "linecolor": "#506784",
            "ticks": ""
           }
          },
          "scene": {
           "xaxis": {
            "backgroundcolor": "rgb(17,17,17)",
            "gridcolor": "#506784",
            "gridwidth": 2,
            "linecolor": "#506784",
            "showbackground": true,
            "ticks": "",
            "zerolinecolor": "#C8D4E3"
           },
           "yaxis": {
            "backgroundcolor": "rgb(17,17,17)",
            "gridcolor": "#506784",
            "gridwidth": 2,
            "linecolor": "#506784",
            "showbackground": true,
            "ticks": "",
            "zerolinecolor": "#C8D4E3"
           },
           "zaxis": {
            "backgroundcolor": "rgb(17,17,17)",
            "gridcolor": "#506784",
            "gridwidth": 2,
            "linecolor": "#506784",
            "showbackground": true,
            "ticks": "",
            "zerolinecolor": "#C8D4E3"
           }
          },
          "shapedefaults": {
           "line": {
            "color": "#f2f5fa"
           }
          },
          "sliderdefaults": {
           "bgcolor": "#C8D4E3",
           "bordercolor": "rgb(17,17,17)",
           "borderwidth": 1,
           "tickwidth": 0
          },
          "ternary": {
           "aaxis": {
            "gridcolor": "#506784",
            "linecolor": "#506784",
            "ticks": ""
           },
           "baxis": {
            "gridcolor": "#506784",
            "linecolor": "#506784",
            "ticks": ""
           },
           "bgcolor": "rgb(17,17,17)",
           "caxis": {
            "gridcolor": "#506784",
            "linecolor": "#506784",
            "ticks": ""
           }
          },
          "title": {
           "x": 0.05
          },
          "updatemenudefaults": {
           "bgcolor": "#506784",
           "borderwidth": 0
          },
          "xaxis": {
           "automargin": true,
           "gridcolor": "#283442",
           "linecolor": "#506784",
           "ticks": "",
           "title": {
            "standoff": 15
           },
           "zerolinecolor": "#283442",
           "zerolinewidth": 2
          },
          "yaxis": {
           "automargin": true,
           "gridcolor": "#283442",
           "linecolor": "#506784",
           "ticks": "",
           "title": {
            "standoff": 15
           },
           "zerolinecolor": "#283442",
           "zerolinewidth": 2
          }
         }
        },
        "title": {
         "text": "자산군별 비중"
        },
        "xaxis": {
         "anchor": "y",
         "categoryarray": [
          "Fixed Income",
          "Alternative",
          "Cash",
          "Equity"
         ],
         "categoryorder": "array",
         "domain": [
          0,
          1
         ],
         "title": {
          "text": "자산군"
         }
        },
        "yaxis": {
         "anchor": "x",
         "domain": [
          0,
          1
         ],
         "title": {
          "text": "비중"
         }
        }
       }
      },
      "text/html": [
       "<div>                            <div id=\"69a2ca8a-41fe-4103-827a-5c08d0dc90ba\" class=\"plotly-graph-div\" style=\"height:525px; width:100%;\"></div>            <script type=\"text/javascript\">                require([\"plotly\"], function(Plotly) {                    window.PLOTLYENV=window.PLOTLYENV || {};                                    if (document.getElementById(\"69a2ca8a-41fe-4103-827a-5c08d0dc90ba\")) {                    Plotly.newPlot(                        \"69a2ca8a-41fe-4103-827a-5c08d0dc90ba\",                        [{\"alignmentgroup\": \"True\", \"hovertemplate\": \"\\uc790\\uc0b0\\uad70=%{x}<br>\\ube44\\uc911=%{y}<extra></extra>\", \"legendgroup\": \"Fixed Income\", \"marker\": {\"color\": \"#636efa\"}, \"name\": \"Fixed Income\", \"offsetgroup\": \"Fixed Income\", \"orientation\": \"v\", \"showlegend\": true, \"textposition\": \"auto\", \"type\": \"bar\", \"x\": [\"Fixed Income\"], \"xaxis\": \"x\", \"y\": [0.6360815647174383], \"yaxis\": \"y\"}, {\"alignmentgroup\": \"True\", \"hovertemplate\": \"\\uc790\\uc0b0\\uad70=%{x}<br>\\ube44\\uc911=%{y}<extra></extra>\", \"legendgroup\": \"Alternative\", \"marker\": {\"color\": \"#EF553B\"}, \"name\": \"Alternative\", \"offsetgroup\": \"Alternative\", \"orientation\": \"v\", \"showlegend\": true, \"textposition\": \"auto\", \"type\": \"bar\", \"x\": [\"Alternative\"], \"xaxis\": \"x\", \"y\": [0.14277626517135353], \"yaxis\": \"y\"}, {\"alignmentgroup\": \"True\", \"hovertemplate\": \"\\uc790\\uc0b0\\uad70=%{x}<br>\\ube44\\uc911=%{y}<extra></extra>\", \"legendgroup\": \"Cash\", \"marker\": {\"color\": \"#00cc96\"}, \"name\": \"Cash\", \"offsetgroup\": \"Cash\", \"orientation\": \"v\", \"showlegend\": true, \"textposition\": \"auto\", \"type\": \"bar\", \"x\": [\"Cash\"], \"xaxis\": \"x\", \"y\": [0.13582049840659527], \"yaxis\": \"y\"}, {\"alignmentgroup\": \"True\", \"hovertemplate\": \"\\uc790\\uc0b0\\uad70=%{x}<br>\\ube44\\uc911=%{y}<extra></extra>\", \"legendgroup\": \"Equity\", \"marker\": {\"color\": \"#ab63fa\"}, \"name\": \"Equity\", \"offsetgroup\": \"Equity\", \"orientation\": \"v\", \"showlegend\": true, \"textposition\": \"auto\", \"type\": \"bar\", \"x\": [\"Equity\"], \"xaxis\": \"x\", \"y\": [0.08532167170461297], \"yaxis\": \"y\"}],                        {\"barmode\": \"relative\", \"legend\": {\"title\": {\"text\": \"\\uc790\\uc0b0\\uad70\"}, \"tracegroupgap\": 0}, \"template\": {\"data\": {\"bar\": [{\"error_x\": {\"color\": \"#f2f5fa\"}, \"error_y\": {\"color\": \"#f2f5fa\"}, \"marker\": {\"line\": {\"color\": \"rgb(17,17,17)\", \"width\": 0.5}}, \"type\": \"bar\"}], \"barpolar\": [{\"marker\": {\"line\": {\"color\": \"rgb(17,17,17)\", \"width\": 0.5}}, \"type\": \"barpolar\"}], \"carpet\": [{\"aaxis\": {\"endlinecolor\": \"#A2B1C6\", \"gridcolor\": \"#506784\", \"linecolor\": \"#506784\", \"minorgridcolor\": \"#506784\", \"startlinecolor\": \"#A2B1C6\"}, \"baxis\": {\"endlinecolor\": \"#A2B1C6\", \"gridcolor\": \"#506784\", \"linecolor\": \"#506784\", \"minorgridcolor\": \"#506784\", \"startlinecolor\": \"#A2B1C6\"}, \"type\": \"carpet\"}], \"choropleth\": [{\"colorbar\": {\"outlinewidth\": 0, \"ticks\": \"\"}, \"type\": \"choropleth\"}], \"contour\": [{\"colorbar\": {\"outlinewidth\": 0, \"ticks\": \"\"}, \"colorscale\": [[0.0, \"#0d0887\"], [0.1111111111111111, \"#46039f\"], [0.2222222222222222, \"#7201a8\"], [0.3333333333333333, \"#9c179e\"], [0.4444444444444444, \"#bd3786\"], [0.5555555555555556, \"#d8576b\"], [0.6666666666666666, \"#ed7953\"], [0.7777777777777778, \"#fb9f3a\"], [0.8888888888888888, \"#fdca26\"], [1.0, \"#f0f921\"]], \"type\": \"contour\"}], \"contourcarpet\": [{\"colorbar\": {\"outlinewidth\": 0, \"ticks\": \"\"}, \"type\": \"contourcarpet\"}], \"heatmap\": [{\"colorbar\": {\"outlinewidth\": 0, \"ticks\": \"\"}, \"colorscale\": [[0.0, \"#0d0887\"], [0.1111111111111111, \"#46039f\"], [0.2222222222222222, \"#7201a8\"], [0.3333333333333333, \"#9c179e\"], [0.4444444444444444, \"#bd3786\"], [0.5555555555555556, \"#d8576b\"], [0.6666666666666666, \"#ed7953\"], [0.7777777777777778, \"#fb9f3a\"], [0.8888888888888888, \"#fdca26\"], [1.0, \"#f0f921\"]], \"type\": \"heatmap\"}], \"heatmapgl\": [{\"colorbar\": {\"outlinewidth\": 0, \"ticks\": \"\"}, \"colorscale\": [[0.0, \"#0d0887\"], [0.1111111111111111, \"#46039f\"], [0.2222222222222222, \"#7201a8\"], [0.3333333333333333, \"#9c179e\"], [0.4444444444444444, \"#bd3786\"], [0.5555555555555556, \"#d8576b\"], [0.6666666666666666, \"#ed7953\"], [0.7777777777777778, \"#fb9f3a\"], [0.8888888888888888, \"#fdca26\"], [1.0, \"#f0f921\"]], \"type\": \"heatmapgl\"}], \"histogram\": [{\"marker\": {\"colorbar\": {\"outlinewidth\": 0, \"ticks\": \"\"}}, \"type\": \"histogram\"}], \"histogram2d\": [{\"colorbar\": {\"outlinewidth\": 0, \"ticks\": \"\"}, \"colorscale\": [[0.0, \"#0d0887\"], [0.1111111111111111, \"#46039f\"], [0.2222222222222222, \"#7201a8\"], [0.3333333333333333, \"#9c179e\"], [0.4444444444444444, \"#bd3786\"], [0.5555555555555556, \"#d8576b\"], [0.6666666666666666, \"#ed7953\"], [0.7777777777777778, \"#fb9f3a\"], [0.8888888888888888, \"#fdca26\"], [1.0, \"#f0f921\"]], \"type\": \"histogram2d\"}], \"histogram2dcontour\": [{\"colorbar\": {\"outlinewidth\": 0, \"ticks\": \"\"}, \"colorscale\": [[0.0, \"#0d0887\"], [0.1111111111111111, \"#46039f\"], [0.2222222222222222, \"#7201a8\"], [0.3333333333333333, \"#9c179e\"], [0.4444444444444444, \"#bd3786\"], [0.5555555555555556, \"#d8576b\"], [0.6666666666666666, \"#ed7953\"], [0.7777777777777778, \"#fb9f3a\"], [0.8888888888888888, \"#fdca26\"], [1.0, \"#f0f921\"]], \"type\": \"histogram2dcontour\"}], \"mesh3d\": [{\"colorbar\": {\"outlinewidth\": 0, \"ticks\": \"\"}, \"type\": \"mesh3d\"}], \"parcoords\": [{\"line\": {\"colorbar\": {\"outlinewidth\": 0, \"ticks\": \"\"}}, \"type\": \"parcoords\"}], \"pie\": [{\"automargin\": true, \"type\": \"pie\"}], \"scatter\": [{\"marker\": {\"line\": {\"color\": \"#283442\"}}, \"type\": \"scatter\"}], \"scatter3d\": [{\"line\": {\"colorbar\": {\"outlinewidth\": 0, \"ticks\": \"\"}}, \"marker\": {\"colorbar\": {\"outlinewidth\": 0, \"ticks\": \"\"}}, \"type\": \"scatter3d\"}], \"scattercarpet\": [{\"marker\": {\"colorbar\": {\"outlinewidth\": 0, \"ticks\": \"\"}}, \"type\": \"scattercarpet\"}], \"scattergeo\": [{\"marker\": {\"colorbar\": {\"outlinewidth\": 0, \"ticks\": \"\"}}, \"type\": \"scattergeo\"}], \"scattergl\": [{\"marker\": {\"line\": {\"color\": \"#283442\"}}, \"type\": \"scattergl\"}], \"scattermapbox\": [{\"marker\": {\"colorbar\": {\"outlinewidth\": 0, \"ticks\": \"\"}}, \"type\": \"scattermapbox\"}], \"scatterpolar\": [{\"marker\": {\"colorbar\": {\"outlinewidth\": 0, \"ticks\": \"\"}}, \"type\": \"scatterpolar\"}], \"scatterpolargl\": [{\"marker\": {\"colorbar\": {\"outlinewidth\": 0, \"ticks\": \"\"}}, \"type\": \"scatterpolargl\"}], \"scatterternary\": [{\"marker\": {\"colorbar\": {\"outlinewidth\": 0, \"ticks\": \"\"}}, \"type\": \"scatterternary\"}], \"surface\": [{\"colorbar\": {\"outlinewidth\": 0, \"ticks\": \"\"}, \"colorscale\": [[0.0, \"#0d0887\"], [0.1111111111111111, \"#46039f\"], [0.2222222222222222, \"#7201a8\"], [0.3333333333333333, \"#9c179e\"], [0.4444444444444444, \"#bd3786\"], [0.5555555555555556, \"#d8576b\"], [0.6666666666666666, \"#ed7953\"], [0.7777777777777778, \"#fb9f3a\"], [0.8888888888888888, \"#fdca26\"], [1.0, \"#f0f921\"]], \"type\": \"surface\"}], \"table\": [{\"cells\": {\"fill\": {\"color\": \"#506784\"}, \"line\": {\"color\": \"rgb(17,17,17)\"}}, \"header\": {\"fill\": {\"color\": \"#2a3f5f\"}, \"line\": {\"color\": \"rgb(17,17,17)\"}}, \"type\": \"table\"}]}, \"layout\": {\"annotationdefaults\": {\"arrowcolor\": \"#f2f5fa\", \"arrowhead\": 0, \"arrowwidth\": 1}, \"autotypenumbers\": \"strict\", \"coloraxis\": {\"colorbar\": {\"outlinewidth\": 0, \"ticks\": \"\"}}, \"colorscale\": {\"diverging\": [[0, \"#8e0152\"], [0.1, \"#c51b7d\"], [0.2, \"#de77ae\"], [0.3, \"#f1b6da\"], [0.4, \"#fde0ef\"], [0.5, \"#f7f7f7\"], [0.6, \"#e6f5d0\"], [0.7, \"#b8e186\"], [0.8, \"#7fbc41\"], [0.9, \"#4d9221\"], [1, \"#276419\"]], \"sequential\": [[0.0, \"#0d0887\"], [0.1111111111111111, \"#46039f\"], [0.2222222222222222, \"#7201a8\"], [0.3333333333333333, \"#9c179e\"], [0.4444444444444444, \"#bd3786\"], [0.5555555555555556, \"#d8576b\"], [0.6666666666666666, \"#ed7953\"], [0.7777777777777778, \"#fb9f3a\"], [0.8888888888888888, \"#fdca26\"], [1.0, \"#f0f921\"]], \"sequentialminus\": [[0.0, \"#0d0887\"], [0.1111111111111111, \"#46039f\"], [0.2222222222222222, \"#7201a8\"], [0.3333333333333333, \"#9c179e\"], [0.4444444444444444, \"#bd3786\"], [0.5555555555555556, \"#d8576b\"], [0.6666666666666666, \"#ed7953\"], [0.7777777777777778, \"#fb9f3a\"], [0.8888888888888888, \"#fdca26\"], [1.0, \"#f0f921\"]]}, \"colorway\": [\"#636efa\", \"#EF553B\", \"#00cc96\", \"#ab63fa\", \"#FFA15A\", \"#19d3f3\", \"#FF6692\", \"#B6E880\", \"#FF97FF\", \"#FECB52\"], \"font\": {\"color\": \"#f2f5fa\"}, \"geo\": {\"bgcolor\": \"rgb(17,17,17)\", \"lakecolor\": \"rgb(17,17,17)\", \"landcolor\": \"rgb(17,17,17)\", \"showlakes\": true, \"showland\": true, \"subunitcolor\": \"#506784\"}, \"hoverlabel\": {\"align\": \"left\"}, \"hovermode\": \"closest\", \"mapbox\": {\"style\": \"dark\"}, \"paper_bgcolor\": \"rgb(17,17,17)\", \"plot_bgcolor\": \"rgb(17,17,17)\", \"polar\": {\"angularaxis\": {\"gridcolor\": \"#506784\", \"linecolor\": \"#506784\", \"ticks\": \"\"}, \"bgcolor\": \"rgb(17,17,17)\", \"radialaxis\": {\"gridcolor\": \"#506784\", \"linecolor\": \"#506784\", \"ticks\": \"\"}}, \"scene\": {\"xaxis\": {\"backgroundcolor\": \"rgb(17,17,17)\", \"gridcolor\": \"#506784\", \"gridwidth\": 2, \"linecolor\": \"#506784\", \"showbackground\": true, \"ticks\": \"\", \"zerolinecolor\": \"#C8D4E3\"}, \"yaxis\": {\"backgroundcolor\": \"rgb(17,17,17)\", \"gridcolor\": \"#506784\", \"gridwidth\": 2, \"linecolor\": \"#506784\", \"showbackground\": true, \"ticks\": \"\", \"zerolinecolor\": \"#C8D4E3\"}, \"zaxis\": {\"backgroundcolor\": \"rgb(17,17,17)\", \"gridcolor\": \"#506784\", \"gridwidth\": 2, \"linecolor\": \"#506784\", \"showbackground\": true, \"ticks\": \"\", \"zerolinecolor\": \"#C8D4E3\"}}, \"shapedefaults\": {\"line\": {\"color\": \"#f2f5fa\"}}, \"sliderdefaults\": {\"bgcolor\": \"#C8D4E3\", \"bordercolor\": \"rgb(17,17,17)\", \"borderwidth\": 1, \"tickwidth\": 0}, \"ternary\": {\"aaxis\": {\"gridcolor\": \"#506784\", \"linecolor\": \"#506784\", \"ticks\": \"\"}, \"baxis\": {\"gridcolor\": \"#506784\", \"linecolor\": \"#506784\", \"ticks\": \"\"}, \"bgcolor\": \"rgb(17,17,17)\", \"caxis\": {\"gridcolor\": \"#506784\", \"linecolor\": \"#506784\", \"ticks\": \"\"}}, \"title\": {\"x\": 0.05}, \"updatemenudefaults\": {\"bgcolor\": \"#506784\", \"borderwidth\": 0}, \"xaxis\": {\"automargin\": true, \"gridcolor\": \"#283442\", \"linecolor\": \"#506784\", \"ticks\": \"\", \"title\": {\"standoff\": 15}, \"zerolinecolor\": \"#283442\", \"zerolinewidth\": 2}, \"yaxis\": {\"automargin\": true, \"gridcolor\": \"#283442\", \"linecolor\": \"#506784\", \"ticks\": \"\", \"title\": {\"standoff\": 15}, \"zerolinecolor\": \"#283442\", \"zerolinewidth\": 2}}}, \"title\": {\"text\": \"\\uc790\\uc0b0\\uad70\\ubcc4 \\ube44\\uc911\"}, \"xaxis\": {\"anchor\": \"y\", \"categoryarray\": [\"Fixed Income\", \"Alternative\", \"Cash\", \"Equity\"], \"categoryorder\": \"array\", \"domain\": [0.0, 1.0], \"title\": {\"text\": \"\\uc790\\uc0b0\\uad70\"}}, \"yaxis\": {\"anchor\": \"x\", \"domain\": [0.0, 1.0], \"title\": {\"text\": \"\\ube44\\uc911\"}}},                        {\"responsive\": true}                    ).then(function(){\n",
       "                            \n",
       "var gd = document.getElementById('69a2ca8a-41fe-4103-827a-5c08d0dc90ba');\n",
       "var x = new MutationObserver(function (mutations, observer) {{\n",
       "        var display = window.getComputedStyle(gd).display;\n",
       "        if (!display || display === 'none') {{\n",
       "            console.log([gd, 'removed!']);\n",
       "            Plotly.purge(gd);\n",
       "            observer.disconnect();\n",
       "        }}\n",
       "}});\n",
       "\n",
       "// Listen for the removal of the full notebook cells\n",
       "var notebookContainer = gd.closest('#notebook-container');\n",
       "if (notebookContainer) {{\n",
       "    x.observe(notebookContainer, {childList: true});\n",
       "}}\n",
       "\n",
       "// Listen for the clearing of the current output cell\n",
       "var outputEl = gd.closest('.output');\n",
       "if (outputEl) {{\n",
       "    x.observe(outputEl, {childList: true});\n",
       "}}\n",
       "\n",
       "                        })                };                });            </script>        </div>"
      ]
     },
     "metadata": {},
     "output_type": "display_data"
    }
   ],
   "source": [
    "fig2 = px.bar(df_by_asset_class, y = 'wt', x = 'asset_class', title = '자산군별 비중',\n",
    "       labels = {'asset_class': '자산군', 'wt': '비중'},\n",
    "       orientation = 'v', color = \"asset_class\", color_continuous_scale = 'darkmint',\n",
    "        template = 'plotly_dark')\n",
    "fig2.show()"
   ]
  },
  {
   "cell_type": "code",
   "execution_count": null,
   "id": "incorporate-butler",
   "metadata": {},
   "outputs": [],
   "source": []
  }
 ],
 "metadata": {
  "kernelspec": {
   "display_name": "Python 3",
   "language": "python",
   "name": "python3"
  },
  "language_info": {
   "codemirror_mode": {
    "name": "ipython",
    "version": 3
   },
   "file_extension": ".py",
   "mimetype": "text/x-python",
   "name": "python",
   "nbconvert_exporter": "python",
   "pygments_lexer": "ipython3",
   "version": "3.8.8"
  }
 },
 "nbformat": 4,
 "nbformat_minor": 5
}
