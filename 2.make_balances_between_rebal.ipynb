{
 "cells": [
  {
   "cell_type": "code",
   "execution_count": 1,
   "id": "allied-variety",
   "metadata": {
    "ExecuteTime": {
     "end_time": "2021-07-01T23:07:26.831168Z",
     "start_time": "2021-07-01T23:07:25.257349Z"
    }
   },
   "outputs": [],
   "source": [
    "import numpy as np\n",
    "import pandas as pd\n",
    "from datetime import datetime\n",
    "from src.models.load_data import Balance, Instruments, AdvisedPortfolios, PriceDB, Singleton"
   ]
  },
  {
   "cell_type": "code",
   "execution_count": 2,
   "id": "changing-start",
   "metadata": {
    "ExecuteTime": {
     "end_time": "2021-07-01T23:07:26.836127Z",
     "start_time": "2021-07-01T23:07:26.832165Z"
    }
   },
   "outputs": [],
   "source": [
    "access_path = './data/processed/'\n",
    "bal_from_nm = 'bal_btw_rebal_20210602.dat'"
   ]
  },
  {
   "cell_type": "code",
   "execution_count": 3,
   "id": "bright-round",
   "metadata": {
    "ExecuteTime": {
     "end_time": "2021-07-01T23:07:26.889984Z",
     "start_time": "2021-07-01T23:07:26.838122Z"
    }
   },
   "outputs": [],
   "source": [
    "bal_from = pd.read_csv(access_path + bal_from_nm)\n",
    "price_db = PriceDB.instance().data"
   ]
  },
  {
   "cell_type": "code",
   "execution_count": 4,
   "id": "42b63b5c",
   "metadata": {
    "ExecuteTime": {
     "end_time": "2021-07-01T23:07:26.896964Z",
     "start_time": "2021-07-01T23:07:26.891978Z"
    }
   },
   "outputs": [],
   "source": [
    "last_dt = bal_from.iloc[-1,0]"
   ]
  },
  {
   "cell_type": "code",
   "execution_count": 5,
   "id": "d3d04dbe",
   "metadata": {
    "ExecuteTime": {
     "end_time": "2021-07-01T23:07:26.902953Z",
     "start_time": "2021-07-01T23:07:26.897962Z"
    }
   },
   "outputs": [],
   "source": [
    "bal_from = bal_from[bal_from.date==last_dt]"
   ]
  },
  {
   "cell_type": "markdown",
   "id": "optimum-contractor",
   "metadata": {},
   "source": [
    "#### MP 발생일\n",
    "- 2021.5.3\n",
    "- 2021.6.2\n",
    "- 2021.7.2"
   ]
  },
  {
   "cell_type": "code",
   "execution_count": 6,
   "id": "elder-sally",
   "metadata": {
    "ExecuteTime": {
     "end_time": "2021-07-01T23:07:26.910927Z",
     "start_time": "2021-07-01T23:07:26.903946Z"
    }
   },
   "outputs": [],
   "source": [
    "# 두 MP발생일 사이 기간 설정\n",
    "start_dt = '20210603'  # MP발생 다음날부터\n",
    "end_dt = '20210701'    # MP발생 전날까지\n",
    "\n",
    "range_dt_ymd = pd.date_range(start=start_dt, end=end_dt, freq='D')  # price_db 날짜 포맷\n",
    "range_dt_mdy = range_dt_ymd.strftime('%-m/%-d/%Y')  # 잔고(balance) 날짜 포맷"
   ]
  },
  {
   "cell_type": "markdown",
   "id": "mexican-miracle",
   "metadata": {
    "ExecuteTime": {
     "end_time": "2021-06-20T04:35:00.238543Z",
     "start_time": "2021-06-20T04:35:00.234516Z"
    }
   },
   "source": [
    "#### 최근 과거 MP발생일 잔고를 해당 기간 내 매일 매일의 잔고로 복사해 두고, price 컬럼과 value 컬럼을 업데이트하면 끝."
   ]
  },
  {
   "cell_type": "markdown",
   "id": "hundred-karma",
   "metadata": {},
   "source": [
    "- 잔고 복사"
   ]
  },
  {
   "cell_type": "code",
   "execution_count": 7,
   "id": "legislative-answer",
   "metadata": {
    "ExecuteTime": {
     "end_time": "2021-07-01T23:07:30.767620Z",
     "start_time": "2021-07-01T23:07:30.726725Z"
    }
   },
   "outputs": [],
   "source": [
    "df_list = []\n",
    "for cnt, dt in enumerate(range_dt_ymd):\n",
    "    temp = bal_from.copy(deep=True)\n",
    "    temp.date = dt\n",
    "    df_list.append(temp)\n",
    "    \n",
    "bal_btw_rebal = pd.concat(df_list)"
   ]
  },
  {
   "cell_type": "markdown",
   "id": "subsequent-norwegian",
   "metadata": {
    "ExecuteTime": {
     "end_time": "2021-06-20T06:10:53.838224Z",
     "start_time": "2021-06-20T06:10:53.824476Z"
    }
   },
   "source": [
    "- `price_db`를 이용해서 Price 컬럼 업데이트."
   ]
  },
  {
   "cell_type": "code",
   "execution_count": 8,
   "id": "green-teacher",
   "metadata": {
    "ExecuteTime": {
     "end_time": "2021-07-01T23:07:31.216419Z",
     "start_time": "2021-07-01T23:07:31.183503Z"
    }
   },
   "outputs": [],
   "source": [
    "bal_btw_rebal = bal_btw_rebal.set_index(['date', 'itemcode'])\n",
    "price_db = price_db.set_index(['date', 'itemcode'])\n",
    "bal_btw_rebal.update(price_db)\n",
    "bal_btw_rebal = bal_btw_rebal.reset_index(drop=False)"
   ]
  },
  {
   "cell_type": "markdown",
   "id": "north-transcription",
   "metadata": {},
   "source": [
    "- 사용자별/날짜별로 비중(`wt`) 계산"
   ]
  },
  {
   "cell_type": "code",
   "execution_count": 9,
   "id": "individual-ideal",
   "metadata": {
    "ExecuteTime": {
     "end_time": "2021-07-01T23:07:31.630310Z",
     "start_time": "2021-07-01T23:07:31.623328Z"
    }
   },
   "outputs": [],
   "source": [
    "bal_btw_rebal.value = bal_btw_rebal.quantity*bal_btw_rebal.price\n",
    "bal_btw_rebal.original = ''\n",
    "bal_btw_rebal.wt = bal_btw_rebal.value/bal_btw_rebal.groupby(['date', 'userid'])['value'].transform('sum')"
   ]
  },
  {
   "cell_type": "code",
   "execution_count": 10,
   "id": "hungarian-queens",
   "metadata": {
    "ExecuteTime": {
     "end_time": "2021-07-01T23:07:31.846732Z",
     "start_time": "2021-07-01T23:07:31.823792Z"
    }
   },
   "outputs": [
    {
     "data": {
      "text/html": [
       "<div>\n",
       "<style scoped>\n",
       "    .dataframe tbody tr th:only-of-type {\n",
       "        vertical-align: middle;\n",
       "    }\n",
       "\n",
       "    .dataframe tbody tr th {\n",
       "        vertical-align: top;\n",
       "    }\n",
       "\n",
       "    .dataframe thead th {\n",
       "        text-align: right;\n",
       "    }\n",
       "</style>\n",
       "<table border=\"1\" class=\"dataframe\">\n",
       "  <thead>\n",
       "    <tr style=\"text-align: right;\">\n",
       "      <th></th>\n",
       "      <th>date</th>\n",
       "      <th>itemcode</th>\n",
       "      <th>userid</th>\n",
       "      <th>name</th>\n",
       "      <th>asset_class</th>\n",
       "      <th>itemname</th>\n",
       "      <th>quantity</th>\n",
       "      <th>cost_price</th>\n",
       "      <th>cost_value</th>\n",
       "      <th>price</th>\n",
       "      <th>value</th>\n",
       "      <th>wt</th>\n",
       "      <th>group_by</th>\n",
       "      <th>original</th>\n",
       "    </tr>\n",
       "  </thead>\n",
       "  <tbody>\n",
       "    <tr>\n",
       "      <th>0</th>\n",
       "      <td>2021-06-03</td>\n",
       "      <td>A114260</td>\n",
       "      <td>A001</td>\n",
       "      <td>안정추구형소규모</td>\n",
       "      <td>Fixed Income</td>\n",
       "      <td>KODEX 국고채3년</td>\n",
       "      <td>2</td>\n",
       "      <td>NaN</td>\n",
       "      <td>NaN</td>\n",
       "      <td>58020.0</td>\n",
       "      <td>116040.0</td>\n",
       "      <td>0.165477</td>\n",
       "      <td>NaN</td>\n",
       "      <td></td>\n",
       "    </tr>\n",
       "    <tr>\n",
       "      <th>1</th>\n",
       "      <td>2021-06-03</td>\n",
       "      <td>A273130</td>\n",
       "      <td>A001</td>\n",
       "      <td>안정추구형소규모</td>\n",
       "      <td>Fixed Income</td>\n",
       "      <td>KODEX 종합채권(AA-이상)액티브</td>\n",
       "      <td>0</td>\n",
       "      <td>NaN</td>\n",
       "      <td>NaN</td>\n",
       "      <td>108325.0</td>\n",
       "      <td>0.0</td>\n",
       "      <td>0.000000</td>\n",
       "      <td>NaN</td>\n",
       "      <td></td>\n",
       "    </tr>\n",
       "    <tr>\n",
       "      <th>2</th>\n",
       "      <td>2021-06-03</td>\n",
       "      <td>A196230</td>\n",
       "      <td>A001</td>\n",
       "      <td>안정추구형소규모</td>\n",
       "      <td>Fixed Income</td>\n",
       "      <td>KBSTAR 단기통안채</td>\n",
       "      <td>1</td>\n",
       "      <td>NaN</td>\n",
       "      <td>NaN</td>\n",
       "      <td>104480.0</td>\n",
       "      <td>104480.0</td>\n",
       "      <td>0.148992</td>\n",
       "      <td>NaN</td>\n",
       "      <td></td>\n",
       "    </tr>\n",
       "    <tr>\n",
       "      <th>3</th>\n",
       "      <td>2021-06-03</td>\n",
       "      <td>A122260</td>\n",
       "      <td>A001</td>\n",
       "      <td>안정추구형소규모</td>\n",
       "      <td>Fixed Income</td>\n",
       "      <td>KOSEF 통안채1년</td>\n",
       "      <td>2</td>\n",
       "      <td>NaN</td>\n",
       "      <td>NaN</td>\n",
       "      <td>101275.0</td>\n",
       "      <td>202550.0</td>\n",
       "      <td>0.288843</td>\n",
       "      <td>NaN</td>\n",
       "      <td></td>\n",
       "    </tr>\n",
       "    <tr>\n",
       "      <th>4</th>\n",
       "      <td>2021-06-03</td>\n",
       "      <td>A130730</td>\n",
       "      <td>A001</td>\n",
       "      <td>안정추구형소규모</td>\n",
       "      <td>Fixed Income</td>\n",
       "      <td>KOSEF 단기자금</td>\n",
       "      <td>2</td>\n",
       "      <td>NaN</td>\n",
       "      <td>NaN</td>\n",
       "      <td>101130.0</td>\n",
       "      <td>202260.0</td>\n",
       "      <td>0.288430</td>\n",
       "      <td>NaN</td>\n",
       "      <td></td>\n",
       "    </tr>\n",
       "    <tr>\n",
       "      <th>...</th>\n",
       "      <td>...</td>\n",
       "      <td>...</td>\n",
       "      <td>...</td>\n",
       "      <td>...</td>\n",
       "      <td>...</td>\n",
       "      <td>...</td>\n",
       "      <td>...</td>\n",
       "      <td>...</td>\n",
       "      <td>...</td>\n",
       "      <td>...</td>\n",
       "      <td>...</td>\n",
       "      <td>...</td>\n",
       "      <td>...</td>\n",
       "      <td>...</td>\n",
       "    </tr>\n",
       "    <tr>\n",
       "      <th>2257</th>\n",
       "      <td>2021-07-01</td>\n",
       "      <td>A278540</td>\n",
       "      <td>A009</td>\n",
       "      <td>적극투자형대규모</td>\n",
       "      <td>Equity</td>\n",
       "      <td>KODEX MSCI Korea TR</td>\n",
       "      <td>23</td>\n",
       "      <td>NaN</td>\n",
       "      <td>NaN</td>\n",
       "      <td>14010.0</td>\n",
       "      <td>322230.0</td>\n",
       "      <td>0.235689</td>\n",
       "      <td>NaN</td>\n",
       "      <td></td>\n",
       "    </tr>\n",
       "    <tr>\n",
       "      <th>2258</th>\n",
       "      <td>2021-07-01</td>\n",
       "      <td>A266370</td>\n",
       "      <td>A009</td>\n",
       "      <td>적극투자형대규모</td>\n",
       "      <td>Equity</td>\n",
       "      <td>KODEX IT</td>\n",
       "      <td>8</td>\n",
       "      <td>NaN</td>\n",
       "      <td>NaN</td>\n",
       "      <td>21175.0</td>\n",
       "      <td>169400.0</td>\n",
       "      <td>0.123904</td>\n",
       "      <td>NaN</td>\n",
       "      <td></td>\n",
       "    </tr>\n",
       "    <tr>\n",
       "      <th>2259</th>\n",
       "      <td>2021-07-01</td>\n",
       "      <td>A114260</td>\n",
       "      <td>A009</td>\n",
       "      <td>적극투자형대규모</td>\n",
       "      <td>Fixed Income</td>\n",
       "      <td>KODEX 국고채3년</td>\n",
       "      <td>2</td>\n",
       "      <td>NaN</td>\n",
       "      <td>NaN</td>\n",
       "      <td>57845.0</td>\n",
       "      <td>115690.0</td>\n",
       "      <td>0.084619</td>\n",
       "      <td>NaN</td>\n",
       "      <td></td>\n",
       "    </tr>\n",
       "    <tr>\n",
       "      <th>2260</th>\n",
       "      <td>2021-07-01</td>\n",
       "      <td>C000001</td>\n",
       "      <td>A009</td>\n",
       "      <td>적극투자형대규모</td>\n",
       "      <td>Cash</td>\n",
       "      <td>현금</td>\n",
       "      <td>80</td>\n",
       "      <td>NaN</td>\n",
       "      <td>NaN</td>\n",
       "      <td>1.0</td>\n",
       "      <td>80.0</td>\n",
       "      <td>0.000059</td>\n",
       "      <td>NaN</td>\n",
       "      <td></td>\n",
       "    </tr>\n",
       "    <tr>\n",
       "      <th>2261</th>\n",
       "      <td>2021-07-01</td>\n",
       "      <td>A292150</td>\n",
       "      <td>A009</td>\n",
       "      <td>적극투자형대규모</td>\n",
       "      <td>Equity</td>\n",
       "      <td>TIGER TOP10</td>\n",
       "      <td>7</td>\n",
       "      <td>NaN</td>\n",
       "      <td>NaN</td>\n",
       "      <td>15070.0</td>\n",
       "      <td>105490.0</td>\n",
       "      <td>0.077159</td>\n",
       "      <td>NaN</td>\n",
       "      <td></td>\n",
       "    </tr>\n",
       "  </tbody>\n",
       "</table>\n",
       "<p>2262 rows × 14 columns</p>\n",
       "</div>"
      ],
      "text/plain": [
       "           date itemcode userid      name   asset_class              itemname  \\\n",
       "0    2021-06-03  A114260   A001  안정추구형소규모  Fixed Income           KODEX 국고채3년   \n",
       "1    2021-06-03  A273130   A001  안정추구형소규모  Fixed Income  KODEX 종합채권(AA-이상)액티브   \n",
       "2    2021-06-03  A196230   A001  안정추구형소규모  Fixed Income          KBSTAR 단기통안채   \n",
       "3    2021-06-03  A122260   A001  안정추구형소규모  Fixed Income           KOSEF 통안채1년   \n",
       "4    2021-06-03  A130730   A001  안정추구형소규모  Fixed Income            KOSEF 단기자금   \n",
       "...         ...      ...    ...       ...           ...                   ...   \n",
       "2257 2021-07-01  A278540   A009  적극투자형대규모        Equity   KODEX MSCI Korea TR   \n",
       "2258 2021-07-01  A266370   A009  적극투자형대규모        Equity              KODEX IT   \n",
       "2259 2021-07-01  A114260   A009  적극투자형대규모  Fixed Income           KODEX 국고채3년   \n",
       "2260 2021-07-01  C000001   A009  적극투자형대규모          Cash                    현금   \n",
       "2261 2021-07-01  A292150   A009  적극투자형대규모        Equity           TIGER TOP10   \n",
       "\n",
       "      quantity  cost_price  cost_value     price     value        wt  \\\n",
       "0            2         NaN         NaN   58020.0  116040.0  0.165477   \n",
       "1            0         NaN         NaN  108325.0       0.0  0.000000   \n",
       "2            1         NaN         NaN  104480.0  104480.0  0.148992   \n",
       "3            2         NaN         NaN  101275.0  202550.0  0.288843   \n",
       "4            2         NaN         NaN  101130.0  202260.0  0.288430   \n",
       "...        ...         ...         ...       ...       ...       ...   \n",
       "2257        23         NaN         NaN   14010.0  322230.0  0.235689   \n",
       "2258         8         NaN         NaN   21175.0  169400.0  0.123904   \n",
       "2259         2         NaN         NaN   57845.0  115690.0  0.084619   \n",
       "2260        80         NaN         NaN       1.0      80.0  0.000059   \n",
       "2261         7         NaN         NaN   15070.0  105490.0  0.077159   \n",
       "\n",
       "      group_by original  \n",
       "0          NaN           \n",
       "1          NaN           \n",
       "2          NaN           \n",
       "3          NaN           \n",
       "4          NaN           \n",
       "...        ...      ...  \n",
       "2257       NaN           \n",
       "2258       NaN           \n",
       "2259       NaN           \n",
       "2260       NaN           \n",
       "2261       NaN           \n",
       "\n",
       "[2262 rows x 14 columns]"
      ]
     },
     "execution_count": 10,
     "metadata": {},
     "output_type": "execute_result"
    }
   ],
   "source": [
    "bal_btw_rebal"
   ]
  },
  {
   "cell_type": "code",
   "execution_count": 11,
   "id": "beautiful-highway",
   "metadata": {
    "ExecuteTime": {
     "end_time": "2021-07-01T23:07:32.534925Z",
     "start_time": "2021-07-01T23:07:32.487019Z"
    }
   },
   "outputs": [],
   "source": [
    "bal_btw_rebal.to_csv(access_path + 'bal_btw_rebal.dat', index=False, encoding='utf-8-sig')"
   ]
  },
  {
   "cell_type": "code",
   "execution_count": 12,
   "id": "automatic-portland",
   "metadata": {
    "ExecuteTime": {
     "end_time": "2021-07-01T23:07:38.701403Z",
     "start_time": "2021-07-01T23:07:38.695420Z"
    }
   },
   "outputs": [
    {
     "data": {
      "text/plain": [
       "Index(['date', 'itemcode', 'userid', 'name', 'asset_class', 'itemname',\n",
       "       'quantity', 'cost_price', 'cost_value', 'price', 'value', 'wt',\n",
       "       'group_by', 'original'],\n",
       "      dtype='object')"
      ]
     },
     "execution_count": 12,
     "metadata": {},
     "output_type": "execute_result"
    }
   ],
   "source": [
    "bal_btw_rebal.columns"
   ]
  },
  {
   "cell_type": "code",
   "execution_count": null,
   "id": "f45509a3",
   "metadata": {},
   "outputs": [],
   "source": []
  }
 ],
 "metadata": {
  "kernelspec": {
   "display_name": "Python 3",
   "language": "python",
   "name": "python3"
  },
  "language_info": {
   "codemirror_mode": {
    "name": "ipython",
    "version": 3
   },
   "file_extension": ".py",
   "mimetype": "text/x-python",
   "name": "python",
   "nbconvert_exporter": "python",
   "pygments_lexer": "ipython3",
   "version": "3.8.8"
  }
 },
 "nbformat": 4,
 "nbformat_minor": 5
}
