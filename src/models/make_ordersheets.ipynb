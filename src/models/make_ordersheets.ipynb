{
 "cells": [
  {
   "cell_type": "code",
   "execution_count": 21,
   "id": "convenient-routine",
   "metadata": {
    "ExecuteTime": {
     "end_time": "2021-03-22T09:07:37.221617Z",
     "start_time": "2021-03-22T09:07:37.093933Z"
    }
   },
   "outputs": [
    {
     "name": "stdout",
     "output_type": "stream",
     "text": [
      "The autoreload extension is already loaded. To reload it, use:\n",
      "  %reload_ext autoreload\n"
     ]
    }
   ],
   "source": [
    "%load_ext autoreload\n",
    "%autoreload"
   ]
  },
  {
   "cell_type": "code",
   "execution_count": 22,
   "id": "cosmetic-resolution",
   "metadata": {
    "ExecuteTime": {
     "end_time": "2021-03-22T09:07:38.152244Z",
     "start_time": "2021-03-22T09:07:38.149253Z"
    }
   },
   "outputs": [],
   "source": [
    "from load_data import Balance, Instruments, AdvisedPortfolios, PriceDB, Singleton\n",
    "from utils import get_current_port, get_advised_port, get_recommendation\n",
    "\n",
    "from asset import Asset\n",
    "from price import Price\n",
    "from portfolio import Portfolio\n",
    "\n",
    "import pandas as pd"
   ]
  },
  {
   "cell_type": "code",
   "execution_count": 19,
   "id": "respected-champion",
   "metadata": {
    "ExecuteTime": {
     "end_time": "2021-03-22T09:07:26.258508Z",
     "start_time": "2021-03-22T09:07:26.254519Z"
    }
   },
   "outputs": [],
   "source": [
    "userid='A01'\n",
    "risk_profile=2"
   ]
  },
  {
   "cell_type": "markdown",
   "id": "configured-portable",
   "metadata": {},
   "source": [
    "#### `userid`로 사용자 최근잔고 잔고 불러오기\n",
    "- `balance`\n",
    "- `advised_pf`"
   ]
  },
  {
   "cell_type": "code",
   "execution_count": 23,
   "id": "pressed-trash",
   "metadata": {
    "ExecuteTime": {
     "end_time": "2021-03-22T09:07:40.281669Z",
     "start_time": "2021-03-22T09:07:40.261723Z"
    }
   },
   "outputs": [
    {
     "ename": "FileNotFoundError",
     "evalue": "[Errno 2] No such file or directory: './data/processed/balance_s.pkl'",
     "output_type": "error",
     "traceback": [
      "\u001b[1;31m---------------------------------------------------------------------------\u001b[0m",
      "\u001b[1;31mAttributeError\u001b[0m                            Traceback (most recent call last)",
      "\u001b[1;32mD:\\workspace\\kisra\\src\\models\\load_data.py\u001b[0m in \u001b[0;36minstance\u001b[1;34m(self)\u001b[0m\n\u001b[0;32m     30\u001b[0m         \u001b[1;32mtry\u001b[0m\u001b[1;33m:\u001b[0m\u001b[1;33m\u001b[0m\u001b[1;33m\u001b[0m\u001b[0m\n\u001b[1;32m---> 31\u001b[1;33m             \u001b[1;32mreturn\u001b[0m \u001b[0mself\u001b[0m\u001b[1;33m.\u001b[0m\u001b[0m_instance\u001b[0m\u001b[1;33m\u001b[0m\u001b[1;33m\u001b[0m\u001b[0m\n\u001b[0m\u001b[0;32m     32\u001b[0m         \u001b[1;32mexcept\u001b[0m \u001b[0mAttributeError\u001b[0m\u001b[1;33m:\u001b[0m\u001b[1;33m\u001b[0m\u001b[1;33m\u001b[0m\u001b[0m\n",
      "\u001b[1;31mAttributeError\u001b[0m: 'Singleton' object has no attribute '_instance'",
      "\nDuring handling of the above exception, another exception occurred:\n",
      "\u001b[1;31mFileNotFoundError\u001b[0m                         Traceback (most recent call last)",
      "\u001b[1;32m<ipython-input-23-4a88d0f9ef2c>\u001b[0m in \u001b[0;36m<module>\u001b[1;34m\u001b[0m\n\u001b[1;32m----> 1\u001b[1;33m \u001b[0mBalance\u001b[0m\u001b[1;33m.\u001b[0m\u001b[0minstance\u001b[0m\u001b[1;33m(\u001b[0m\u001b[1;33m)\u001b[0m\u001b[1;33m.\u001b[0m\u001b[0mdata\u001b[0m\u001b[1;33m\u001b[0m\u001b[1;33m\u001b[0m\u001b[0m\n\u001b[0m",
      "\u001b[1;32mD:\\workspace\\kisra\\src\\models\\load_data.py\u001b[0m in \u001b[0;36minstance\u001b[1;34m(self)\u001b[0m\n\u001b[0;32m     31\u001b[0m             \u001b[1;32mreturn\u001b[0m \u001b[0mself\u001b[0m\u001b[1;33m.\u001b[0m\u001b[0m_instance\u001b[0m\u001b[1;33m\u001b[0m\u001b[1;33m\u001b[0m\u001b[0m\n\u001b[0;32m     32\u001b[0m         \u001b[1;32mexcept\u001b[0m \u001b[0mAttributeError\u001b[0m\u001b[1;33m:\u001b[0m\u001b[1;33m\u001b[0m\u001b[1;33m\u001b[0m\u001b[0m\n\u001b[1;32m---> 33\u001b[1;33m             \u001b[0mself\u001b[0m\u001b[1;33m.\u001b[0m\u001b[0m_instance\u001b[0m \u001b[1;33m=\u001b[0m \u001b[0mself\u001b[0m\u001b[1;33m.\u001b[0m\u001b[0m_decorated\u001b[0m\u001b[1;33m(\u001b[0m\u001b[1;33m)\u001b[0m\u001b[1;33m\u001b[0m\u001b[1;33m\u001b[0m\u001b[0m\n\u001b[0m\u001b[0;32m     34\u001b[0m             \u001b[1;32mreturn\u001b[0m \u001b[0mself\u001b[0m\u001b[1;33m.\u001b[0m\u001b[0m_instance\u001b[0m\u001b[1;33m\u001b[0m\u001b[1;33m\u001b[0m\u001b[0m\n\u001b[0;32m     35\u001b[0m \u001b[1;33m\u001b[0m\u001b[0m\n",
      "\u001b[1;32mD:\\workspace\\kisra\\src\\models\\load_data.py\u001b[0m in \u001b[0;36m__init__\u001b[1;34m(self)\u001b[0m\n\u001b[0;32m     47\u001b[0m         \u001b[0mself\u001b[0m\u001b[1;33m.\u001b[0m\u001b[0maccess_path\u001b[0m \u001b[1;33m=\u001b[0m \u001b[1;34m'./data/processed/'\u001b[0m\u001b[1;33m\u001b[0m\u001b[1;33m\u001b[0m\u001b[0m\n\u001b[0;32m     48\u001b[0m         \u001b[0mself\u001b[0m\u001b[1;33m.\u001b[0m\u001b[0mfilename\u001b[0m \u001b[1;33m=\u001b[0m \u001b[1;34m'balance_s.pkl'\u001b[0m\u001b[1;33m\u001b[0m\u001b[1;33m\u001b[0m\u001b[0m\n\u001b[1;32m---> 49\u001b[1;33m         \u001b[0mself\u001b[0m\u001b[1;33m.\u001b[0m\u001b[0mdata\u001b[0m \u001b[1;33m=\u001b[0m \u001b[0mpd\u001b[0m\u001b[1;33m.\u001b[0m\u001b[0mread_pickle\u001b[0m\u001b[1;33m(\u001b[0m\u001b[0mself\u001b[0m\u001b[1;33m.\u001b[0m\u001b[0maccess_path\u001b[0m\u001b[1;33m+\u001b[0m\u001b[0mself\u001b[0m\u001b[1;33m.\u001b[0m\u001b[0mfilename\u001b[0m\u001b[1;33m)\u001b[0m\u001b[1;33m\u001b[0m\u001b[1;33m\u001b[0m\u001b[0m\n\u001b[0m\u001b[0;32m     50\u001b[0m \u001b[1;33m\u001b[0m\u001b[0m\n\u001b[0;32m     51\u001b[0m \u001b[1;33m@\u001b[0m\u001b[0mSingleton\u001b[0m\u001b[1;33m\u001b[0m\u001b[1;33m\u001b[0m\u001b[0m\n",
      "\u001b[1;32m~\\AppData\\Roaming\\Python\\Python38\\site-packages\\pandas\\io\\pickle.py\u001b[0m in \u001b[0;36mread_pickle\u001b[1;34m(filepath_or_buffer, compression)\u001b[0m\n\u001b[0;32m    167\u001b[0m     \u001b[1;32mif\u001b[0m \u001b[1;32mnot\u001b[0m \u001b[0misinstance\u001b[0m\u001b[1;33m(\u001b[0m\u001b[0mfp_or_buf\u001b[0m\u001b[1;33m,\u001b[0m \u001b[0mstr\u001b[0m\u001b[1;33m)\u001b[0m \u001b[1;32mand\u001b[0m \u001b[0mcompression\u001b[0m \u001b[1;33m==\u001b[0m \u001b[1;34m\"infer\"\u001b[0m\u001b[1;33m:\u001b[0m\u001b[1;33m\u001b[0m\u001b[1;33m\u001b[0m\u001b[0m\n\u001b[0;32m    168\u001b[0m         \u001b[0mcompression\u001b[0m \u001b[1;33m=\u001b[0m \u001b[1;32mNone\u001b[0m\u001b[1;33m\u001b[0m\u001b[1;33m\u001b[0m\u001b[0m\n\u001b[1;32m--> 169\u001b[1;33m     \u001b[0mf\u001b[0m\u001b[1;33m,\u001b[0m \u001b[0mfh\u001b[0m \u001b[1;33m=\u001b[0m \u001b[0mget_handle\u001b[0m\u001b[1;33m(\u001b[0m\u001b[0mfp_or_buf\u001b[0m\u001b[1;33m,\u001b[0m \u001b[1;34m\"rb\"\u001b[0m\u001b[1;33m,\u001b[0m \u001b[0mcompression\u001b[0m\u001b[1;33m=\u001b[0m\u001b[0mcompression\u001b[0m\u001b[1;33m,\u001b[0m \u001b[0mis_text\u001b[0m\u001b[1;33m=\u001b[0m\u001b[1;32mFalse\u001b[0m\u001b[1;33m)\u001b[0m\u001b[1;33m\u001b[0m\u001b[1;33m\u001b[0m\u001b[0m\n\u001b[0m\u001b[0;32m    170\u001b[0m \u001b[1;33m\u001b[0m\u001b[0m\n\u001b[0;32m    171\u001b[0m     \u001b[1;31m# 1) try standard library Pickle\u001b[0m\u001b[1;33m\u001b[0m\u001b[1;33m\u001b[0m\u001b[1;33m\u001b[0m\u001b[0m\n",
      "\u001b[1;32m~\\AppData\\Roaming\\Python\\Python38\\site-packages\\pandas\\io\\common.py\u001b[0m in \u001b[0;36mget_handle\u001b[1;34m(path_or_buf, mode, encoding, compression, memory_map, is_text, errors)\u001b[0m\n\u001b[0;32m    497\u001b[0m         \u001b[1;32melse\u001b[0m\u001b[1;33m:\u001b[0m\u001b[1;33m\u001b[0m\u001b[1;33m\u001b[0m\u001b[0m\n\u001b[0;32m    498\u001b[0m             \u001b[1;31m# Binary mode\u001b[0m\u001b[1;33m\u001b[0m\u001b[1;33m\u001b[0m\u001b[1;33m\u001b[0m\u001b[0m\n\u001b[1;32m--> 499\u001b[1;33m             \u001b[0mf\u001b[0m \u001b[1;33m=\u001b[0m \u001b[0mopen\u001b[0m\u001b[1;33m(\u001b[0m\u001b[0mpath_or_buf\u001b[0m\u001b[1;33m,\u001b[0m \u001b[0mmode\u001b[0m\u001b[1;33m)\u001b[0m\u001b[1;33m\u001b[0m\u001b[1;33m\u001b[0m\u001b[0m\n\u001b[0m\u001b[0;32m    500\u001b[0m         \u001b[0mhandles\u001b[0m\u001b[1;33m.\u001b[0m\u001b[0mappend\u001b[0m\u001b[1;33m(\u001b[0m\u001b[0mf\u001b[0m\u001b[1;33m)\u001b[0m\u001b[1;33m\u001b[0m\u001b[1;33m\u001b[0m\u001b[0m\n\u001b[0;32m    501\u001b[0m \u001b[1;33m\u001b[0m\u001b[0m\n",
      "\u001b[1;31mFileNotFoundError\u001b[0m: [Errno 2] No such file or directory: './data/processed/balance_s.pkl'"
     ]
    }
   ],
   "source": [
    "Balance.instance().data"
   ]
  },
  {
   "cell_type": "code",
   "execution_count": 10,
   "id": "tight-maryland",
   "metadata": {
    "ExecuteTime": {
     "end_time": "2021-03-22T09:04:39.031933Z",
     "start_time": "2021-03-22T09:04:39.017971Z"
    }
   },
   "outputs": [
    {
     "ename": "FileNotFoundError",
     "evalue": "[Errno 2] No such file or directory: './data/processed/balance_s.pkl'",
     "output_type": "error",
     "traceback": [
      "\u001b[1;31m---------------------------------------------------------------------------\u001b[0m",
      "\u001b[1;31mAttributeError\u001b[0m                            Traceback (most recent call last)",
      "\u001b[1;32mD:\\workspace\\kisra\\src\\models\\load_data.py\u001b[0m in \u001b[0;36minstance\u001b[1;34m(self)\u001b[0m\n\u001b[0;32m     30\u001b[0m         \u001b[1;32mtry\u001b[0m\u001b[1;33m:\u001b[0m\u001b[1;33m\u001b[0m\u001b[1;33m\u001b[0m\u001b[0m\n\u001b[1;32m---> 31\u001b[1;33m             \u001b[1;32mreturn\u001b[0m \u001b[0mself\u001b[0m\u001b[1;33m.\u001b[0m\u001b[0m_instance\u001b[0m\u001b[1;33m\u001b[0m\u001b[1;33m\u001b[0m\u001b[0m\n\u001b[0m\u001b[0;32m     32\u001b[0m         \u001b[1;32mexcept\u001b[0m \u001b[0mAttributeError\u001b[0m\u001b[1;33m:\u001b[0m\u001b[1;33m\u001b[0m\u001b[1;33m\u001b[0m\u001b[0m\n",
      "\u001b[1;31mAttributeError\u001b[0m: 'Singleton' object has no attribute '_instance'",
      "\nDuring handling of the above exception, another exception occurred:\n",
      "\u001b[1;31mFileNotFoundError\u001b[0m                         Traceback (most recent call last)",
      "\u001b[1;32m<ipython-input-10-8c7ca8e2a5d6>\u001b[0m in \u001b[0;36m<module>\u001b[1;34m\u001b[0m\n\u001b[1;32m----> 1\u001b[1;33m \u001b[0mbalance\u001b[0m \u001b[1;33m=\u001b[0m \u001b[0mget_current_port\u001b[0m\u001b[1;33m(\u001b[0m\u001b[0muserid\u001b[0m\u001b[1;33m=\u001b[0m\u001b[0muserid\u001b[0m\u001b[1;33m)\u001b[0m\u001b[1;33m\u001b[0m\u001b[1;33m\u001b[0m\u001b[0m\n\u001b[0m",
      "\u001b[1;32mD:\\workspace\\kisra\\src\\models\\utils.py\u001b[0m in \u001b[0;36mget_current_port\u001b[1;34m(userid, latest_balance)\u001b[0m\n\u001b[0;32m     64\u001b[0m     \u001b[1;32melse\u001b[0m\u001b[1;33m:\u001b[0m\u001b[1;33m\u001b[0m\u001b[1;33m\u001b[0m\u001b[0m\n\u001b[0;32m     65\u001b[0m         \u001b[1;31m# Balance.instance()는 전 사용자의 잔고 상세내역 테이블의 인스턴스 반환.\u001b[0m\u001b[1;33m\u001b[0m\u001b[1;33m\u001b[0m\u001b[1;33m\u001b[0m\u001b[0m\n\u001b[1;32m---> 66\u001b[1;33m         \u001b[0mbalance_s\u001b[0m \u001b[1;33m=\u001b[0m \u001b[0mBalance\u001b[0m\u001b[1;33m.\u001b[0m\u001b[0minstance\u001b[0m\u001b[1;33m(\u001b[0m\u001b[1;33m)\u001b[0m\u001b[1;33m.\u001b[0m\u001b[0mdata\u001b[0m\u001b[1;33m\u001b[0m\u001b[1;33m\u001b[0m\u001b[0m\n\u001b[0m\u001b[0;32m     67\u001b[0m \u001b[1;33m\u001b[0m\u001b[0m\n\u001b[0;32m     68\u001b[0m         \u001b[0mlatest_date\u001b[0m \u001b[1;33m=\u001b[0m \u001b[0mbalance_s\u001b[0m\u001b[1;33m.\u001b[0m\u001b[0mgroupby\u001b[0m\u001b[1;33m(\u001b[0m\u001b[0mby\u001b[0m\u001b[1;33m=\u001b[0m\u001b[1;34m'userid'\u001b[0m\u001b[1;33m)\u001b[0m\u001b[1;33m[\u001b[0m\u001b[1;34m'date'\u001b[0m\u001b[1;33m]\u001b[0m\u001b[1;33m.\u001b[0m\u001b[0mmax\u001b[0m\u001b[1;33m(\u001b[0m\u001b[1;33m)\u001b[0m\u001b[1;33m[\u001b[0m\u001b[0muserid\u001b[0m\u001b[1;33m]\u001b[0m\u001b[1;33m\u001b[0m\u001b[1;33m\u001b[0m\u001b[0m\n",
      "\u001b[1;32mD:\\workspace\\kisra\\src\\models\\load_data.py\u001b[0m in \u001b[0;36minstance\u001b[1;34m(self)\u001b[0m\n\u001b[0;32m     31\u001b[0m             \u001b[1;32mreturn\u001b[0m \u001b[0mself\u001b[0m\u001b[1;33m.\u001b[0m\u001b[0m_instance\u001b[0m\u001b[1;33m\u001b[0m\u001b[1;33m\u001b[0m\u001b[0m\n\u001b[0;32m     32\u001b[0m         \u001b[1;32mexcept\u001b[0m \u001b[0mAttributeError\u001b[0m\u001b[1;33m:\u001b[0m\u001b[1;33m\u001b[0m\u001b[1;33m\u001b[0m\u001b[0m\n\u001b[1;32m---> 33\u001b[1;33m             \u001b[0mself\u001b[0m\u001b[1;33m.\u001b[0m\u001b[0m_instance\u001b[0m \u001b[1;33m=\u001b[0m \u001b[0mself\u001b[0m\u001b[1;33m.\u001b[0m\u001b[0m_decorated\u001b[0m\u001b[1;33m(\u001b[0m\u001b[1;33m)\u001b[0m\u001b[1;33m\u001b[0m\u001b[1;33m\u001b[0m\u001b[0m\n\u001b[0m\u001b[0;32m     34\u001b[0m             \u001b[1;32mreturn\u001b[0m \u001b[0mself\u001b[0m\u001b[1;33m.\u001b[0m\u001b[0m_instance\u001b[0m\u001b[1;33m\u001b[0m\u001b[1;33m\u001b[0m\u001b[0m\n\u001b[0;32m     35\u001b[0m \u001b[1;33m\u001b[0m\u001b[0m\n",
      "\u001b[1;32mD:\\workspace\\kisra\\src\\models\\load_data.py\u001b[0m in \u001b[0;36m__init__\u001b[1;34m(self)\u001b[0m\n\u001b[0;32m     47\u001b[0m         \u001b[0mself\u001b[0m\u001b[1;33m.\u001b[0m\u001b[0maccess_path\u001b[0m \u001b[1;33m=\u001b[0m \u001b[1;34m'./data/processed/'\u001b[0m\u001b[1;33m\u001b[0m\u001b[1;33m\u001b[0m\u001b[0m\n\u001b[0;32m     48\u001b[0m         \u001b[0mself\u001b[0m\u001b[1;33m.\u001b[0m\u001b[0mfilename\u001b[0m \u001b[1;33m=\u001b[0m \u001b[1;34m'balance_s.pkl'\u001b[0m\u001b[1;33m\u001b[0m\u001b[1;33m\u001b[0m\u001b[0m\n\u001b[1;32m---> 49\u001b[1;33m         \u001b[0mself\u001b[0m\u001b[1;33m.\u001b[0m\u001b[0mdata\u001b[0m \u001b[1;33m=\u001b[0m \u001b[0mpd\u001b[0m\u001b[1;33m.\u001b[0m\u001b[0mread_pickle\u001b[0m\u001b[1;33m(\u001b[0m\u001b[0mself\u001b[0m\u001b[1;33m.\u001b[0m\u001b[0maccess_path\u001b[0m\u001b[1;33m+\u001b[0m\u001b[0mself\u001b[0m\u001b[1;33m.\u001b[0m\u001b[0mfilename\u001b[0m\u001b[1;33m)\u001b[0m\u001b[1;33m\u001b[0m\u001b[1;33m\u001b[0m\u001b[0m\n\u001b[0m\u001b[0;32m     50\u001b[0m \u001b[1;33m\u001b[0m\u001b[0m\n\u001b[0;32m     51\u001b[0m \u001b[1;33m@\u001b[0m\u001b[0mSingleton\u001b[0m\u001b[1;33m\u001b[0m\u001b[1;33m\u001b[0m\u001b[0m\n",
      "\u001b[1;32m~\\AppData\\Roaming\\Python\\Python38\\site-packages\\pandas\\io\\pickle.py\u001b[0m in \u001b[0;36mread_pickle\u001b[1;34m(filepath_or_buffer, compression)\u001b[0m\n\u001b[0;32m    167\u001b[0m     \u001b[1;32mif\u001b[0m \u001b[1;32mnot\u001b[0m \u001b[0misinstance\u001b[0m\u001b[1;33m(\u001b[0m\u001b[0mfp_or_buf\u001b[0m\u001b[1;33m,\u001b[0m \u001b[0mstr\u001b[0m\u001b[1;33m)\u001b[0m \u001b[1;32mand\u001b[0m \u001b[0mcompression\u001b[0m \u001b[1;33m==\u001b[0m \u001b[1;34m\"infer\"\u001b[0m\u001b[1;33m:\u001b[0m\u001b[1;33m\u001b[0m\u001b[1;33m\u001b[0m\u001b[0m\n\u001b[0;32m    168\u001b[0m         \u001b[0mcompression\u001b[0m \u001b[1;33m=\u001b[0m \u001b[1;32mNone\u001b[0m\u001b[1;33m\u001b[0m\u001b[1;33m\u001b[0m\u001b[0m\n\u001b[1;32m--> 169\u001b[1;33m     \u001b[0mf\u001b[0m\u001b[1;33m,\u001b[0m \u001b[0mfh\u001b[0m \u001b[1;33m=\u001b[0m \u001b[0mget_handle\u001b[0m\u001b[1;33m(\u001b[0m\u001b[0mfp_or_buf\u001b[0m\u001b[1;33m,\u001b[0m \u001b[1;34m\"rb\"\u001b[0m\u001b[1;33m,\u001b[0m \u001b[0mcompression\u001b[0m\u001b[1;33m=\u001b[0m\u001b[0mcompression\u001b[0m\u001b[1;33m,\u001b[0m \u001b[0mis_text\u001b[0m\u001b[1;33m=\u001b[0m\u001b[1;32mFalse\u001b[0m\u001b[1;33m)\u001b[0m\u001b[1;33m\u001b[0m\u001b[1;33m\u001b[0m\u001b[0m\n\u001b[0m\u001b[0;32m    170\u001b[0m \u001b[1;33m\u001b[0m\u001b[0m\n\u001b[0;32m    171\u001b[0m     \u001b[1;31m# 1) try standard library Pickle\u001b[0m\u001b[1;33m\u001b[0m\u001b[1;33m\u001b[0m\u001b[1;33m\u001b[0m\u001b[0m\n",
      "\u001b[1;32m~\\AppData\\Roaming\\Python\\Python38\\site-packages\\pandas\\io\\common.py\u001b[0m in \u001b[0;36mget_handle\u001b[1;34m(path_or_buf, mode, encoding, compression, memory_map, is_text, errors)\u001b[0m\n\u001b[0;32m    497\u001b[0m         \u001b[1;32melse\u001b[0m\u001b[1;33m:\u001b[0m\u001b[1;33m\u001b[0m\u001b[1;33m\u001b[0m\u001b[0m\n\u001b[0;32m    498\u001b[0m             \u001b[1;31m# Binary mode\u001b[0m\u001b[1;33m\u001b[0m\u001b[1;33m\u001b[0m\u001b[1;33m\u001b[0m\u001b[0m\n\u001b[1;32m--> 499\u001b[1;33m             \u001b[0mf\u001b[0m \u001b[1;33m=\u001b[0m \u001b[0mopen\u001b[0m\u001b[1;33m(\u001b[0m\u001b[0mpath_or_buf\u001b[0m\u001b[1;33m,\u001b[0m \u001b[0mmode\u001b[0m\u001b[1;33m)\u001b[0m\u001b[1;33m\u001b[0m\u001b[1;33m\u001b[0m\u001b[0m\n\u001b[0m\u001b[0;32m    500\u001b[0m         \u001b[0mhandles\u001b[0m\u001b[1;33m.\u001b[0m\u001b[0mappend\u001b[0m\u001b[1;33m(\u001b[0m\u001b[0mf\u001b[0m\u001b[1;33m)\u001b[0m\u001b[1;33m\u001b[0m\u001b[1;33m\u001b[0m\u001b[0m\n\u001b[0;32m    501\u001b[0m \u001b[1;33m\u001b[0m\u001b[0m\n",
      "\u001b[1;31mFileNotFoundError\u001b[0m: [Errno 2] No such file or directory: './data/processed/balance_s.pkl'"
     ]
    }
   ],
   "source": [
    "balance = get_current_port(userid=userid)"
   ]
  },
  {
   "cell_type": "code",
   "execution_count": 4,
   "id": "underlying-macro",
   "metadata": {
    "ExecuteTime": {
     "end_time": "2021-03-21T13:30:53.753578Z",
     "start_time": "2021-03-21T13:30:53.743934Z"
    }
   },
   "outputs": [
    {
     "data": {
      "text/plain": [
       "'__main__'"
      ]
     },
     "execution_count": 4,
     "metadata": {},
     "output_type": "execute_result"
    }
   ],
   "source": [
    "__name__"
   ]
  },
  {
   "cell_type": "code",
   "execution_count": 5,
   "id": "swedish-catering",
   "metadata": {
    "ExecuteTime": {
     "end_time": "2021-03-21T13:30:54.161836Z",
     "start_time": "2021-03-21T13:30:54.149169Z"
    }
   },
   "outputs": [
    {
     "ename": "FileNotFoundError",
     "evalue": "[Errno 2] No such file or directory: './data/processed/advised_portfolios.pkl'",
     "output_type": "error",
     "traceback": [
      "\u001b[0;31m---------------------------------------------------------------------------\u001b[0m",
      "\u001b[0;31mAttributeError\u001b[0m                            Traceback (most recent call last)",
      "\u001b[0;32m~/iCloud Drive (Archive)/Documents/Finance/Work/kisra/src/models/load_data.py\u001b[0m in \u001b[0;36minstance\u001b[0;34m(self)\u001b[0m\n\u001b[1;32m     30\u001b[0m         \u001b[0;32mtry\u001b[0m\u001b[0;34m:\u001b[0m\u001b[0;34m\u001b[0m\u001b[0;34m\u001b[0m\u001b[0m\n\u001b[0;32m---> 31\u001b[0;31m             \u001b[0;32mreturn\u001b[0m \u001b[0mself\u001b[0m\u001b[0;34m.\u001b[0m\u001b[0m_instance\u001b[0m\u001b[0;34m\u001b[0m\u001b[0;34m\u001b[0m\u001b[0m\n\u001b[0m\u001b[1;32m     32\u001b[0m         \u001b[0;32mexcept\u001b[0m \u001b[0mAttributeError\u001b[0m\u001b[0;34m:\u001b[0m\u001b[0;34m\u001b[0m\u001b[0;34m\u001b[0m\u001b[0m\n",
      "\u001b[0;31mAttributeError\u001b[0m: 'Singleton' object has no attribute '_instance'",
      "\nDuring handling of the above exception, another exception occurred:\n",
      "\u001b[0;31mFileNotFoundError\u001b[0m                         Traceback (most recent call last)",
      "\u001b[0;32m<ipython-input-5-10c23838a4e6>\u001b[0m in \u001b[0;36m<module>\u001b[0;34m\u001b[0m\n\u001b[0;32m----> 1\u001b[0;31m \u001b[0mnew_port\u001b[0m \u001b[0;34m=\u001b[0m \u001b[0mget_advised_port\u001b[0m\u001b[0;34m(\u001b[0m\u001b[0mrisk_profile\u001b[0m\u001b[0;34m=\u001b[0m\u001b[0mrisk_profile\u001b[0m\u001b[0;34m)\u001b[0m\u001b[0;34m\u001b[0m\u001b[0;34m\u001b[0m\u001b[0m\n\u001b[0m",
      "\u001b[0;32m~/iCloud Drive (Archive)/Documents/Finance/Work/kisra/src/models/utils.py\u001b[0m in \u001b[0;36mget_advised_port\u001b[0;34m(risk_profile, df_advised_ports)\u001b[0m\n\u001b[1;32m    104\u001b[0m         \u001b[0mdf\u001b[0m \u001b[0;34m=\u001b[0m \u001b[0mdf_advised_ports\u001b[0m\u001b[0;34m\u001b[0m\u001b[0;34m\u001b[0m\u001b[0m\n\u001b[1;32m    105\u001b[0m     \u001b[0;32melse\u001b[0m\u001b[0;34m:\u001b[0m\u001b[0;34m\u001b[0m\u001b[0;34m\u001b[0m\u001b[0m\n\u001b[0;32m--> 106\u001b[0;31m         \u001b[0mdf\u001b[0m \u001b[0;34m=\u001b[0m \u001b[0mAdvisedPortfolios\u001b[0m\u001b[0;34m.\u001b[0m\u001b[0minstance\u001b[0m\u001b[0;34m(\u001b[0m\u001b[0;34m)\u001b[0m\u001b[0;34m.\u001b[0m\u001b[0mdata\u001b[0m\u001b[0;34m\u001b[0m\u001b[0;34m\u001b[0m\u001b[0m\n\u001b[0m\u001b[1;32m    107\u001b[0m \u001b[0;34m\u001b[0m\u001b[0m\n\u001b[1;32m    108\u001b[0m     advised_pf = df.loc[(df.risk_profile == risk_profile) & (\n",
      "\u001b[0;32m~/iCloud Drive (Archive)/Documents/Finance/Work/kisra/src/models/load_data.py\u001b[0m in \u001b[0;36minstance\u001b[0;34m(self)\u001b[0m\n\u001b[1;32m     31\u001b[0m             \u001b[0;32mreturn\u001b[0m \u001b[0mself\u001b[0m\u001b[0;34m.\u001b[0m\u001b[0m_instance\u001b[0m\u001b[0;34m\u001b[0m\u001b[0;34m\u001b[0m\u001b[0m\n\u001b[1;32m     32\u001b[0m         \u001b[0;32mexcept\u001b[0m \u001b[0mAttributeError\u001b[0m\u001b[0;34m:\u001b[0m\u001b[0;34m\u001b[0m\u001b[0;34m\u001b[0m\u001b[0m\n\u001b[0;32m---> 33\u001b[0;31m             \u001b[0mself\u001b[0m\u001b[0;34m.\u001b[0m\u001b[0m_instance\u001b[0m \u001b[0;34m=\u001b[0m \u001b[0mself\u001b[0m\u001b[0;34m.\u001b[0m\u001b[0m_decorated\u001b[0m\u001b[0;34m(\u001b[0m\u001b[0;34m)\u001b[0m\u001b[0;34m\u001b[0m\u001b[0;34m\u001b[0m\u001b[0m\n\u001b[0m\u001b[1;32m     34\u001b[0m             \u001b[0;32mreturn\u001b[0m \u001b[0mself\u001b[0m\u001b[0;34m.\u001b[0m\u001b[0m_instance\u001b[0m\u001b[0;34m\u001b[0m\u001b[0;34m\u001b[0m\u001b[0m\n\u001b[1;32m     35\u001b[0m \u001b[0;34m\u001b[0m\u001b[0m\n",
      "\u001b[0;32m~/iCloud Drive (Archive)/Documents/Finance/Work/kisra/src/models/load_data.py\u001b[0m in \u001b[0;36m__init__\u001b[0;34m(self)\u001b[0m\n\u001b[1;32m     71\u001b[0m         \u001b[0mself\u001b[0m\u001b[0;34m.\u001b[0m\u001b[0maccess_path\u001b[0m \u001b[0;34m=\u001b[0m \u001b[0;34m'./data/processed/'\u001b[0m\u001b[0;34m\u001b[0m\u001b[0;34m\u001b[0m\u001b[0m\n\u001b[1;32m     72\u001b[0m         \u001b[0mself\u001b[0m\u001b[0;34m.\u001b[0m\u001b[0mfilename\u001b[0m \u001b[0;34m=\u001b[0m \u001b[0;34m'advised_portfolios.pkl'\u001b[0m\u001b[0;34m\u001b[0m\u001b[0;34m\u001b[0m\u001b[0m\n\u001b[0;32m---> 73\u001b[0;31m         \u001b[0mself\u001b[0m\u001b[0;34m.\u001b[0m\u001b[0mdata\u001b[0m \u001b[0;34m=\u001b[0m \u001b[0mpd\u001b[0m\u001b[0;34m.\u001b[0m\u001b[0mread_pickle\u001b[0m\u001b[0;34m(\u001b[0m\u001b[0mself\u001b[0m\u001b[0;34m.\u001b[0m\u001b[0maccess_path\u001b[0m\u001b[0;34m+\u001b[0m\u001b[0mself\u001b[0m\u001b[0;34m.\u001b[0m\u001b[0mfilename\u001b[0m\u001b[0;34m)\u001b[0m\u001b[0;34m\u001b[0m\u001b[0;34m\u001b[0m\u001b[0m\n\u001b[0m\u001b[1;32m     74\u001b[0m \u001b[0;34m\u001b[0m\u001b[0m\n\u001b[1;32m     75\u001b[0m \u001b[0;34m@\u001b[0m\u001b[0mSingleton\u001b[0m\u001b[0;34m\u001b[0m\u001b[0;34m\u001b[0m\u001b[0m\n",
      "\u001b[0;32m~/anaconda3/envs/ra/lib/python3.8/site-packages/pandas/io/pickle.py\u001b[0m in \u001b[0;36mread_pickle\u001b[0;34m(filepath_or_buffer, compression)\u001b[0m\n\u001b[1;32m    167\u001b[0m     \u001b[0;32mif\u001b[0m \u001b[0;32mnot\u001b[0m \u001b[0misinstance\u001b[0m\u001b[0;34m(\u001b[0m\u001b[0mfp_or_buf\u001b[0m\u001b[0;34m,\u001b[0m \u001b[0mstr\u001b[0m\u001b[0;34m)\u001b[0m \u001b[0;32mand\u001b[0m \u001b[0mcompression\u001b[0m \u001b[0;34m==\u001b[0m \u001b[0;34m\"infer\"\u001b[0m\u001b[0;34m:\u001b[0m\u001b[0;34m\u001b[0m\u001b[0;34m\u001b[0m\u001b[0m\n\u001b[1;32m    168\u001b[0m         \u001b[0mcompression\u001b[0m \u001b[0;34m=\u001b[0m \u001b[0;32mNone\u001b[0m\u001b[0;34m\u001b[0m\u001b[0;34m\u001b[0m\u001b[0m\n\u001b[0;32m--> 169\u001b[0;31m     \u001b[0mf\u001b[0m\u001b[0;34m,\u001b[0m \u001b[0mfh\u001b[0m \u001b[0;34m=\u001b[0m \u001b[0mget_handle\u001b[0m\u001b[0;34m(\u001b[0m\u001b[0mfp_or_buf\u001b[0m\u001b[0;34m,\u001b[0m \u001b[0;34m\"rb\"\u001b[0m\u001b[0;34m,\u001b[0m \u001b[0mcompression\u001b[0m\u001b[0;34m=\u001b[0m\u001b[0mcompression\u001b[0m\u001b[0;34m,\u001b[0m \u001b[0mis_text\u001b[0m\u001b[0;34m=\u001b[0m\u001b[0;32mFalse\u001b[0m\u001b[0;34m)\u001b[0m\u001b[0;34m\u001b[0m\u001b[0;34m\u001b[0m\u001b[0m\n\u001b[0m\u001b[1;32m    170\u001b[0m \u001b[0;34m\u001b[0m\u001b[0m\n\u001b[1;32m    171\u001b[0m     \u001b[0;31m# 1) try standard library Pickle\u001b[0m\u001b[0;34m\u001b[0m\u001b[0;34m\u001b[0m\u001b[0;34m\u001b[0m\u001b[0m\n",
      "\u001b[0;32m~/anaconda3/envs/ra/lib/python3.8/site-packages/pandas/io/common.py\u001b[0m in \u001b[0;36mget_handle\u001b[0;34m(path_or_buf, mode, encoding, compression, memory_map, is_text, errors)\u001b[0m\n\u001b[1;32m    497\u001b[0m         \u001b[0;32melse\u001b[0m\u001b[0;34m:\u001b[0m\u001b[0;34m\u001b[0m\u001b[0;34m\u001b[0m\u001b[0m\n\u001b[1;32m    498\u001b[0m             \u001b[0;31m# Binary mode\u001b[0m\u001b[0;34m\u001b[0m\u001b[0;34m\u001b[0m\u001b[0;34m\u001b[0m\u001b[0m\n\u001b[0;32m--> 499\u001b[0;31m             \u001b[0mf\u001b[0m \u001b[0;34m=\u001b[0m \u001b[0mopen\u001b[0m\u001b[0;34m(\u001b[0m\u001b[0mpath_or_buf\u001b[0m\u001b[0;34m,\u001b[0m \u001b[0mmode\u001b[0m\u001b[0;34m)\u001b[0m\u001b[0;34m\u001b[0m\u001b[0;34m\u001b[0m\u001b[0m\n\u001b[0m\u001b[1;32m    500\u001b[0m         \u001b[0mhandles\u001b[0m\u001b[0;34m.\u001b[0m\u001b[0mappend\u001b[0m\u001b[0;34m(\u001b[0m\u001b[0mf\u001b[0m\u001b[0;34m)\u001b[0m\u001b[0;34m\u001b[0m\u001b[0;34m\u001b[0m\u001b[0m\n\u001b[1;32m    501\u001b[0m \u001b[0;34m\u001b[0m\u001b[0m\n",
      "\u001b[0;31mFileNotFoundError\u001b[0m: [Errno 2] No such file or directory: './data/processed/advised_portfolios.pkl'"
     ]
    }
   ],
   "source": [
    "new_port = get_advised_port(risk_profile=risk_profile)"
   ]
  },
  {
   "cell_type": "code",
   "execution_count": 6,
   "id": "complimentary-magazine",
   "metadata": {
    "ExecuteTime": {
     "end_time": "2021-03-21T13:31:05.710515Z",
     "start_time": "2021-03-21T13:31:05.591824Z"
    }
   },
   "outputs": [
    {
     "name": "stdout",
     "output_type": "stream",
     "text": [
      "/Users/msyeom/iCloud Drive (Archive)/Documents/Finance/Work/kisra/src/models\r\n"
     ]
    }
   ],
   "source": [
    "!pwd"
   ]
  },
  {
   "cell_type": "code",
   "execution_count": 24,
   "id": "western-fusion",
   "metadata": {
    "ExecuteTime": {
     "end_time": "2021-03-22T09:07:56.152996Z",
     "start_time": "2021-03-22T09:07:56.141028Z"
    }
   },
   "outputs": [],
   "source": [
    "advised_pf = pd.read_pickle('../../data/processed/advised_portfolios.pkl')"
   ]
  },
  {
   "cell_type": "code",
   "execution_count": 26,
   "id": "helpful-trade",
   "metadata": {
    "ExecuteTime": {
     "end_time": "2021-03-22T09:08:09.806078Z",
     "start_time": "2021-03-22T09:08:09.796074Z"
    }
   },
   "outputs": [],
   "source": [
    "df = advised_pf.loc[(advised_pf.risk_profile==2) & (advised_pf.date=='2021-01-04')]"
   ]
  },
  {
   "cell_type": "code",
   "execution_count": 27,
   "id": "wicked-station",
   "metadata": {
    "ExecuteTime": {
     "end_time": "2021-03-22T09:08:10.013517Z",
     "start_time": "2021-03-22T09:08:10.004512Z"
    }
   },
   "outputs": [
    {
     "data": {
      "text/html": [
       "<div>\n",
       "<style scoped>\n",
       "    .dataframe tbody tr th:only-of-type {\n",
       "        vertical-align: middle;\n",
       "    }\n",
       "\n",
       "    .dataframe tbody tr th {\n",
       "        vertical-align: top;\n",
       "    }\n",
       "\n",
       "    .dataframe thead th {\n",
       "        text-align: right;\n",
       "    }\n",
       "</style>\n",
       "<table border=\"1\" class=\"dataframe\">\n",
       "  <thead>\n",
       "    <tr style=\"text-align: right;\">\n",
       "      <th></th>\n",
       "      <th>date</th>\n",
       "      <th>risk_profile</th>\n",
       "      <th>itemcode</th>\n",
       "      <th>weights</th>\n",
       "      <th>tracking_code</th>\n",
       "      <th>itemname</th>\n",
       "      <th>price</th>\n",
       "      <th>volume</th>\n",
       "      <th>trading_amt_mln</th>\n",
       "      <th>asset_class</th>\n",
       "    </tr>\n",
       "  </thead>\n",
       "  <tbody>\n",
       "    <tr>\n",
       "      <th>1820</th>\n",
       "      <td>2021-01-04</td>\n",
       "      <td>2</td>\n",
       "      <td>A122260</td>\n",
       "      <td>0.25</td>\n",
       "      <td>BOK_D1</td>\n",
       "      <td>KOSEF 통안채1년</td>\n",
       "      <td>101015.0</td>\n",
       "      <td>2773.0</td>\n",
       "      <td>53191.510933</td>\n",
       "      <td>Fixed Income</td>\n",
       "    </tr>\n",
       "    <tr>\n",
       "      <th>1821</th>\n",
       "      <td>2021-01-04</td>\n",
       "      <td>2</td>\n",
       "      <td>A114260</td>\n",
       "      <td>0.25</td>\n",
       "      <td>KTB_D3</td>\n",
       "      <td>KODEX 국고채3년</td>\n",
       "      <td>58100.0</td>\n",
       "      <td>4571.0</td>\n",
       "      <td>547.479291</td>\n",
       "      <td>Fixed Income</td>\n",
       "    </tr>\n",
       "    <tr>\n",
       "      <th>1822</th>\n",
       "      <td>2021-01-04</td>\n",
       "      <td>2</td>\n",
       "      <td>A130730</td>\n",
       "      <td>0.25</td>\n",
       "      <td>MM</td>\n",
       "      <td>KOSEF 단기자금</td>\n",
       "      <td>100835.0</td>\n",
       "      <td>88085.0</td>\n",
       "      <td>59165.272681</td>\n",
       "      <td>Fixed Income</td>\n",
       "    </tr>\n",
       "    <tr>\n",
       "      <th>1823</th>\n",
       "      <td>2021-01-04</td>\n",
       "      <td>2</td>\n",
       "      <td>A329650</td>\n",
       "      <td>0.15</td>\n",
       "      <td>BAL_WO3KTB7</td>\n",
       "      <td>KODEX TRF3070</td>\n",
       "      <td>10735.0</td>\n",
       "      <td>33117.0</td>\n",
       "      <td>122.211411</td>\n",
       "      <td>Alternative</td>\n",
       "    </tr>\n",
       "    <tr>\n",
       "      <th>1824</th>\n",
       "      <td>2021-01-04</td>\n",
       "      <td>2</td>\n",
       "      <td>A266370</td>\n",
       "      <td>0.10</td>\n",
       "      <td>IT</td>\n",
       "      <td>KODEX IT</td>\n",
       "      <td>20805.0</td>\n",
       "      <td>152199.0</td>\n",
       "      <td>539.058393</td>\n",
       "      <td>Equity</td>\n",
       "    </tr>\n",
       "  </tbody>\n",
       "</table>\n",
       "</div>"
      ],
      "text/plain": [
       "            date  risk_profile itemcode  weights tracking_code       itemname  \\\n",
       "1820  2021-01-04             2  A122260     0.25        BOK_D1    KOSEF 통안채1년   \n",
       "1821  2021-01-04             2  A114260     0.25        KTB_D3    KODEX 국고채3년   \n",
       "1822  2021-01-04             2  A130730     0.25            MM     KOSEF 단기자금   \n",
       "1823  2021-01-04             2  A329650     0.15   BAL_WO3KTB7  KODEX TRF3070   \n",
       "1824  2021-01-04             2  A266370     0.10            IT       KODEX IT   \n",
       "\n",
       "         price    volume  trading_amt_mln   asset_class  \n",
       "1820  101015.0    2773.0     53191.510933  Fixed Income  \n",
       "1821   58100.0    4571.0       547.479291  Fixed Income  \n",
       "1822  100835.0   88085.0     59165.272681  Fixed Income  \n",
       "1823   10735.0   33117.0       122.211411   Alternative  \n",
       "1824   20805.0  152199.0       539.058393        Equity  "
      ]
     },
     "execution_count": 27,
     "metadata": {},
     "output_type": "execute_result"
    }
   ],
   "source": [
    "df"
   ]
  },
  {
   "cell_type": "code",
   "execution_count": null,
   "id": "second-crawford",
   "metadata": {},
   "outputs": [],
   "source": []
  },
  {
   "cell_type": "code",
   "execution_count": null,
   "id": "encouraging-count",
   "metadata": {},
   "outputs": [],
   "source": []
  },
  {
   "cell_type": "code",
   "execution_count": null,
   "id": "handmade-christopher",
   "metadata": {},
   "outputs": [],
   "source": []
  },
  {
   "cell_type": "code",
   "execution_count": null,
   "id": "severe-boost",
   "metadata": {},
   "outputs": [],
   "source": []
  },
  {
   "cell_type": "code",
   "execution_count": null,
   "id": "reasonable-boost",
   "metadata": {},
   "outputs": [],
   "source": []
  },
  {
   "cell_type": "code",
   "execution_count": 5,
   "id": "latter-employee",
   "metadata": {
    "ExecuteTime": {
     "end_time": "2021-03-20T07:11:33.139081Z",
     "start_time": "2021-03-20T07:11:33.129269Z"
    },
    "code_folding": [
     0
    ]
   },
   "outputs": [],
   "source": [
    "old_new = pd.merge(balance.loc[:, ['itemcode', 'quantity', 'price', 'value', 'wt']], new_port.loc[:, ['itemcode', 'wt']],\n",
    "                left_on=['itemcode'], right_on=['itemcode'], how='outer', suffixes=['_old', '_new'])"
   ]
  },
  {
   "cell_type": "code",
   "execution_count": 6,
   "id": "anticipated-optics",
   "metadata": {
    "ExecuteTime": {
     "end_time": "2021-03-20T07:11:33.164115Z",
     "start_time": "2021-03-20T07:11:33.141714Z"
    }
   },
   "outputs": [
    {
     "data": {
      "text/html": [
       "<div>\n",
       "<style scoped>\n",
       "    .dataframe tbody tr th:only-of-type {\n",
       "        vertical-align: middle;\n",
       "    }\n",
       "\n",
       "    .dataframe tbody tr th {\n",
       "        vertical-align: top;\n",
       "    }\n",
       "\n",
       "    .dataframe thead th {\n",
       "        text-align: right;\n",
       "    }\n",
       "</style>\n",
       "<table border=\"1\" class=\"dataframe\">\n",
       "  <thead>\n",
       "    <tr style=\"text-align: right;\">\n",
       "      <th></th>\n",
       "      <th>itemcode</th>\n",
       "      <th>quantity</th>\n",
       "      <th>price</th>\n",
       "      <th>value</th>\n",
       "      <th>wt_old</th>\n",
       "      <th>wt_new</th>\n",
       "    </tr>\n",
       "  </thead>\n",
       "  <tbody>\n",
       "    <tr>\n",
       "      <th>0</th>\n",
       "      <td>C000001</td>\n",
       "      <td>19565.0</td>\n",
       "      <td>1.00</td>\n",
       "      <td>19565.00</td>\n",
       "      <td>0.027733</td>\n",
       "      <td>NaN</td>\n",
       "    </tr>\n",
       "    <tr>\n",
       "      <th>1</th>\n",
       "      <td>D000001</td>\n",
       "      <td>350000.0</td>\n",
       "      <td>1.01</td>\n",
       "      <td>353500.00</td>\n",
       "      <td>0.501074</td>\n",
       "      <td>NaN</td>\n",
       "    </tr>\n",
       "    <tr>\n",
       "      <th>2</th>\n",
       "      <td>A069500</td>\n",
       "      <td>1.0</td>\n",
       "      <td>42936.90</td>\n",
       "      <td>42936.90</td>\n",
       "      <td>0.060862</td>\n",
       "      <td>NaN</td>\n",
       "    </tr>\n",
       "    <tr>\n",
       "      <th>3</th>\n",
       "      <td>A360200</td>\n",
       "      <td>2.0</td>\n",
       "      <td>10430.40</td>\n",
       "      <td>20860.80</td>\n",
       "      <td>0.029569</td>\n",
       "      <td>NaN</td>\n",
       "    </tr>\n",
       "    <tr>\n",
       "      <th>4</th>\n",
       "      <td>A196230</td>\n",
       "      <td>1.0</td>\n",
       "      <td>108498.00</td>\n",
       "      <td>108498.00</td>\n",
       "      <td>0.153792</td>\n",
       "      <td>NaN</td>\n",
       "    </tr>\n",
       "    <tr>\n",
       "      <th>5</th>\n",
       "      <td>A302190</td>\n",
       "      <td>1.0</td>\n",
       "      <td>51841.35</td>\n",
       "      <td>51841.35</td>\n",
       "      <td>0.073483</td>\n",
       "      <td>NaN</td>\n",
       "    </tr>\n",
       "    <tr>\n",
       "      <th>6</th>\n",
       "      <td>A329750</td>\n",
       "      <td>8.0</td>\n",
       "      <td>9645.00</td>\n",
       "      <td>77160.00</td>\n",
       "      <td>0.109372</td>\n",
       "      <td>NaN</td>\n",
       "    </tr>\n",
       "    <tr>\n",
       "      <th>7</th>\n",
       "      <td>A367380</td>\n",
       "      <td>3.0</td>\n",
       "      <td>10374.00</td>\n",
       "      <td>31122.00</td>\n",
       "      <td>0.044114</td>\n",
       "      <td>NaN</td>\n",
       "    </tr>\n",
       "    <tr>\n",
       "      <th>8</th>\n",
       "      <td>A122260</td>\n",
       "      <td>NaN</td>\n",
       "      <td>NaN</td>\n",
       "      <td>NaN</td>\n",
       "      <td>NaN</td>\n",
       "      <td>0.250000</td>\n",
       "    </tr>\n",
       "    <tr>\n",
       "      <th>9</th>\n",
       "      <td>A130730</td>\n",
       "      <td>NaN</td>\n",
       "      <td>NaN</td>\n",
       "      <td>NaN</td>\n",
       "      <td>NaN</td>\n",
       "      <td>0.250000</td>\n",
       "    </tr>\n",
       "    <tr>\n",
       "      <th>10</th>\n",
       "      <td>A153130</td>\n",
       "      <td>NaN</td>\n",
       "      <td>NaN</td>\n",
       "      <td>NaN</td>\n",
       "      <td>NaN</td>\n",
       "      <td>0.217851</td>\n",
       "    </tr>\n",
       "    <tr>\n",
       "      <th>11</th>\n",
       "      <td>A114260</td>\n",
       "      <td>NaN</td>\n",
       "      <td>NaN</td>\n",
       "      <td>NaN</td>\n",
       "      <td>NaN</td>\n",
       "      <td>0.152149</td>\n",
       "    </tr>\n",
       "    <tr>\n",
       "      <th>12</th>\n",
       "      <td>A214980</td>\n",
       "      <td>NaN</td>\n",
       "      <td>NaN</td>\n",
       "      <td>NaN</td>\n",
       "      <td>NaN</td>\n",
       "      <td>0.100000</td>\n",
       "    </tr>\n",
       "    <tr>\n",
       "      <th>13</th>\n",
       "      <td>A102110</td>\n",
       "      <td>NaN</td>\n",
       "      <td>NaN</td>\n",
       "      <td>NaN</td>\n",
       "      <td>NaN</td>\n",
       "      <td>0.030000</td>\n",
       "    </tr>\n",
       "  </tbody>\n",
       "</table>\n",
       "</div>"
      ],
      "text/plain": [
       "   itemcode  quantity      price      value    wt_old    wt_new\n",
       "0   C000001   19565.0       1.00   19565.00  0.027733       NaN\n",
       "1   D000001  350000.0       1.01  353500.00  0.501074       NaN\n",
       "2   A069500       1.0   42936.90   42936.90  0.060862       NaN\n",
       "3   A360200       2.0   10430.40   20860.80  0.029569       NaN\n",
       "4   A196230       1.0  108498.00  108498.00  0.153792       NaN\n",
       "5   A302190       1.0   51841.35   51841.35  0.073483       NaN\n",
       "6   A329750       8.0    9645.00   77160.00  0.109372       NaN\n",
       "7   A367380       3.0   10374.00   31122.00  0.044114       NaN\n",
       "8   A122260       NaN        NaN        NaN       NaN  0.250000\n",
       "9   A130730       NaN        NaN        NaN       NaN  0.250000\n",
       "10  A153130       NaN        NaN        NaN       NaN  0.217851\n",
       "11  A114260       NaN        NaN        NaN       NaN  0.152149\n",
       "12  A214980       NaN        NaN        NaN       NaN  0.100000\n",
       "13  A102110       NaN        NaN        NaN       NaN  0.030000"
      ]
     },
     "execution_count": 6,
     "metadata": {},
     "output_type": "execute_result"
    }
   ],
   "source": [
    "old_new"
   ]
  },
  {
   "cell_type": "code",
   "execution_count": 7,
   "id": "informative-installation",
   "metadata": {
    "ExecuteTime": {
     "end_time": "2021-03-20T07:11:33.170658Z",
     "start_time": "2021-03-20T07:11:33.166369Z"
    }
   },
   "outputs": [],
   "source": [
    "# old_new.loc[old_new.itemcode_old.isna(), 'itemcode_old'] = old_new.loc[old_new.itemcode_old.isna(), 'itemcode_new']\n",
    "# old_new.loc[old_new.itemcode_new.isna(), 'itemcode_new'] = old_new.loc[old_new.itemcode_new.isna(), 'itemcode_old']\n",
    "old_new.fillna(value=0, inplace=True)"
   ]
  },
  {
   "cell_type": "code",
   "execution_count": 8,
   "id": "taken-beijing",
   "metadata": {
    "ExecuteTime": {
     "end_time": "2021-03-20T07:11:33.192768Z",
     "start_time": "2021-03-20T07:11:33.176099Z"
    }
   },
   "outputs": [
    {
     "data": {
      "text/html": [
       "<div>\n",
       "<style scoped>\n",
       "    .dataframe tbody tr th:only-of-type {\n",
       "        vertical-align: middle;\n",
       "    }\n",
       "\n",
       "    .dataframe tbody tr th {\n",
       "        vertical-align: top;\n",
       "    }\n",
       "\n",
       "    .dataframe thead th {\n",
       "        text-align: right;\n",
       "    }\n",
       "</style>\n",
       "<table border=\"1\" class=\"dataframe\">\n",
       "  <thead>\n",
       "    <tr style=\"text-align: right;\">\n",
       "      <th></th>\n",
       "      <th>itemcode</th>\n",
       "      <th>quantity</th>\n",
       "      <th>price</th>\n",
       "      <th>value</th>\n",
       "      <th>wt_old</th>\n",
       "      <th>wt_new</th>\n",
       "    </tr>\n",
       "  </thead>\n",
       "  <tbody>\n",
       "    <tr>\n",
       "      <th>0</th>\n",
       "      <td>C000001</td>\n",
       "      <td>19565.0</td>\n",
       "      <td>1.00</td>\n",
       "      <td>19565.00</td>\n",
       "      <td>0.027733</td>\n",
       "      <td>0.000000</td>\n",
       "    </tr>\n",
       "    <tr>\n",
       "      <th>1</th>\n",
       "      <td>D000001</td>\n",
       "      <td>350000.0</td>\n",
       "      <td>1.01</td>\n",
       "      <td>353500.00</td>\n",
       "      <td>0.501074</td>\n",
       "      <td>0.000000</td>\n",
       "    </tr>\n",
       "    <tr>\n",
       "      <th>2</th>\n",
       "      <td>A069500</td>\n",
       "      <td>1.0</td>\n",
       "      <td>42936.90</td>\n",
       "      <td>42936.90</td>\n",
       "      <td>0.060862</td>\n",
       "      <td>0.000000</td>\n",
       "    </tr>\n",
       "    <tr>\n",
       "      <th>3</th>\n",
       "      <td>A360200</td>\n",
       "      <td>2.0</td>\n",
       "      <td>10430.40</td>\n",
       "      <td>20860.80</td>\n",
       "      <td>0.029569</td>\n",
       "      <td>0.000000</td>\n",
       "    </tr>\n",
       "    <tr>\n",
       "      <th>4</th>\n",
       "      <td>A196230</td>\n",
       "      <td>1.0</td>\n",
       "      <td>108498.00</td>\n",
       "      <td>108498.00</td>\n",
       "      <td>0.153792</td>\n",
       "      <td>0.000000</td>\n",
       "    </tr>\n",
       "    <tr>\n",
       "      <th>5</th>\n",
       "      <td>A302190</td>\n",
       "      <td>1.0</td>\n",
       "      <td>51841.35</td>\n",
       "      <td>51841.35</td>\n",
       "      <td>0.073483</td>\n",
       "      <td>0.000000</td>\n",
       "    </tr>\n",
       "    <tr>\n",
       "      <th>6</th>\n",
       "      <td>A329750</td>\n",
       "      <td>8.0</td>\n",
       "      <td>9645.00</td>\n",
       "      <td>77160.00</td>\n",
       "      <td>0.109372</td>\n",
       "      <td>0.000000</td>\n",
       "    </tr>\n",
       "    <tr>\n",
       "      <th>7</th>\n",
       "      <td>A367380</td>\n",
       "      <td>3.0</td>\n",
       "      <td>10374.00</td>\n",
       "      <td>31122.00</td>\n",
       "      <td>0.044114</td>\n",
       "      <td>0.000000</td>\n",
       "    </tr>\n",
       "    <tr>\n",
       "      <th>8</th>\n",
       "      <td>A122260</td>\n",
       "      <td>0.0</td>\n",
       "      <td>0.00</td>\n",
       "      <td>0.00</td>\n",
       "      <td>0.000000</td>\n",
       "      <td>0.250000</td>\n",
       "    </tr>\n",
       "    <tr>\n",
       "      <th>9</th>\n",
       "      <td>A130730</td>\n",
       "      <td>0.0</td>\n",
       "      <td>0.00</td>\n",
       "      <td>0.00</td>\n",
       "      <td>0.000000</td>\n",
       "      <td>0.250000</td>\n",
       "    </tr>\n",
       "    <tr>\n",
       "      <th>10</th>\n",
       "      <td>A153130</td>\n",
       "      <td>0.0</td>\n",
       "      <td>0.00</td>\n",
       "      <td>0.00</td>\n",
       "      <td>0.000000</td>\n",
       "      <td>0.217851</td>\n",
       "    </tr>\n",
       "    <tr>\n",
       "      <th>11</th>\n",
       "      <td>A114260</td>\n",
       "      <td>0.0</td>\n",
       "      <td>0.00</td>\n",
       "      <td>0.00</td>\n",
       "      <td>0.000000</td>\n",
       "      <td>0.152149</td>\n",
       "    </tr>\n",
       "    <tr>\n",
       "      <th>12</th>\n",
       "      <td>A214980</td>\n",
       "      <td>0.0</td>\n",
       "      <td>0.00</td>\n",
       "      <td>0.00</td>\n",
       "      <td>0.000000</td>\n",
       "      <td>0.100000</td>\n",
       "    </tr>\n",
       "    <tr>\n",
       "      <th>13</th>\n",
       "      <td>A102110</td>\n",
       "      <td>0.0</td>\n",
       "      <td>0.00</td>\n",
       "      <td>0.00</td>\n",
       "      <td>0.000000</td>\n",
       "      <td>0.030000</td>\n",
       "    </tr>\n",
       "  </tbody>\n",
       "</table>\n",
       "</div>"
      ],
      "text/plain": [
       "   itemcode  quantity      price      value    wt_old    wt_new\n",
       "0   C000001   19565.0       1.00   19565.00  0.027733  0.000000\n",
       "1   D000001  350000.0       1.01  353500.00  0.501074  0.000000\n",
       "2   A069500       1.0   42936.90   42936.90  0.060862  0.000000\n",
       "3   A360200       2.0   10430.40   20860.80  0.029569  0.000000\n",
       "4   A196230       1.0  108498.00  108498.00  0.153792  0.000000\n",
       "5   A302190       1.0   51841.35   51841.35  0.073483  0.000000\n",
       "6   A329750       8.0    9645.00   77160.00  0.109372  0.000000\n",
       "7   A367380       3.0   10374.00   31122.00  0.044114  0.000000\n",
       "8   A122260       0.0       0.00       0.00  0.000000  0.250000\n",
       "9   A130730       0.0       0.00       0.00  0.000000  0.250000\n",
       "10  A153130       0.0       0.00       0.00  0.000000  0.217851\n",
       "11  A114260       0.0       0.00       0.00  0.000000  0.152149\n",
       "12  A214980       0.0       0.00       0.00  0.000000  0.100000\n",
       "13  A102110       0.0       0.00       0.00  0.000000  0.030000"
      ]
     },
     "execution_count": 8,
     "metadata": {},
     "output_type": "execute_result"
    }
   ],
   "source": [
    "old_new"
   ]
  },
  {
   "cell_type": "code",
   "execution_count": 9,
   "id": "handy-member",
   "metadata": {
    "ExecuteTime": {
     "end_time": "2021-03-20T07:11:33.205267Z",
     "start_time": "2021-03-20T07:11:33.196198Z"
    }
   },
   "outputs": [],
   "source": [
    "assets = old_new.loc[(old_new.itemcode != 'C000001') & (old_new.itemcode != 'DEPOSIT'), :]\n",
    "cash = old_new.loc[(old_new.itemcode=='CASH') | (old_new.itemcode=='DEPOSIT'), :]\n",
    "old_assets = assets.drop(['wt_new'], axis=1)\n",
    "old_cash = cash.drop(['wt_new'], axis=1)\n",
    "old_tickers = assets.itemcode.tolist()\n",
    "old_quantities = assets.quantity.astype(int).tolist()\n",
    "old_prices = assets.price.tolist()\n",
    "cash_amounts = cash.value.tolist()\n",
    "cash_currency = ['KRW']*len(cash_amounts)"
   ]
  },
  {
   "cell_type": "code",
   "execution_count": 10,
   "id": "disabled-climate",
   "metadata": {
    "ExecuteTime": {
     "end_time": "2021-03-20T07:11:33.212279Z",
     "start_time": "2021-03-20T07:11:33.207921Z"
    }
   },
   "outputs": [],
   "source": [
    "# old_assets = balance.loc[(balance.tracking_code != 'CASH') & (balance.tracking_code != 'DEPOSIT'), :]\n",
    "# old_cash = balance.loc[(balance.tracking_code=='CASH') | (balance.tracking_code=='DEPOSIT'), :]\n",
    "# old_tickers = old_assets.itemcode.tolist()\n",
    "# old_quantities = old_assets.quantity.tolist()\n",
    "# old_prices = old_assets.price.tolist()\n",
    "# cash_amounts = old_cash.value.tolist()\n",
    "# cash_currency = ['KRW']*len(cash_amounts)"
   ]
  },
  {
   "cell_type": "code",
   "execution_count": 11,
   "id": "better-burke",
   "metadata": {
    "ExecuteTime": {
     "end_time": "2021-03-20T07:11:33.219741Z",
     "start_time": "2021-03-20T07:11:33.215562Z"
    }
   },
   "outputs": [],
   "source": [
    "p = Portfolio()\n",
    "p.easy_add_assets(tickers=old_tickers, quantities=old_quantities, prices=old_prices)\n",
    "p.easy_add_cash(amounts=cash_amounts, currencies=cash_currency)\n",
    "p.selling_allowed = True"
   ]
  },
  {
   "cell_type": "code",
   "execution_count": 12,
   "id": "human-colors",
   "metadata": {
    "ExecuteTime": {
     "end_time": "2021-03-20T07:11:33.227195Z",
     "start_time": "2021-03-20T07:11:33.222229Z"
    }
   },
   "outputs": [
    {
     "data": {
      "text/plain": [
       "{'D000001': <asset.Asset at 0x7fe984a6f7c0>,\n",
       " 'A069500': <asset.Asset at 0x7fe984a6f880>,\n",
       " 'A360200': <asset.Asset at 0x7fe984a6f940>,\n",
       " 'A196230': <asset.Asset at 0x7fe984a6fa60>,\n",
       " 'A302190': <asset.Asset at 0x7fe984a6fb50>,\n",
       " 'A329750': <asset.Asset at 0x7fe984a6fc10>,\n",
       " 'A367380': <asset.Asset at 0x7fe984a6fca0>,\n",
       " 'A122260': <asset.Asset at 0x7fe984a6fd30>,\n",
       " 'A130730': <asset.Asset at 0x7fe984a6fdc0>,\n",
       " 'A153130': <asset.Asset at 0x7fe984a6fe80>,\n",
       " 'A114260': <asset.Asset at 0x7fe984a6ff70>,\n",
       " 'A214980': <asset.Asset at 0x7fe9846867f0>,\n",
       " 'A102110': <asset.Asset at 0x7fe984686be0>}"
      ]
     },
     "execution_count": 12,
     "metadata": {},
     "output_type": "execute_result"
    }
   ],
   "source": [
    "p.assets"
   ]
  },
  {
   "cell_type": "code",
   "execution_count": 13,
   "id": "surgical-testament",
   "metadata": {
    "ExecuteTime": {
     "end_time": "2021-03-20T07:11:33.237510Z",
     "start_time": "2021-03-20T07:11:33.230311Z"
    }
   },
   "outputs": [
    {
     "data": {
      "text/plain": [
       "0     C000001\n",
       "1     D000001\n",
       "2     A069500\n",
       "3     A360200\n",
       "4     A196230\n",
       "5     A302190\n",
       "6     A329750\n",
       "7     A367380\n",
       "8     A122260\n",
       "9     A130730\n",
       "10    A153130\n",
       "11    A114260\n",
       "12    A214980\n",
       "13    A102110\n",
       "Name: itemcode, dtype: object"
      ]
     },
     "execution_count": 13,
     "metadata": {},
     "output_type": "execute_result"
    }
   ],
   "source": [
    "old_new.loc[(old_new.itemcode != 'CASH') & (old_new.itemcode != 'DEPOSIT'), 'itemcode']"
   ]
  },
  {
   "cell_type": "code",
   "execution_count": 14,
   "id": "suffering-proof",
   "metadata": {
    "ExecuteTime": {
     "end_time": "2021-03-20T07:11:33.248644Z",
     "start_time": "2021-03-20T07:11:33.240616Z"
    }
   },
   "outputs": [],
   "source": [
    "new_tickers = old_new.loc[(old_new.itemcode != 'CASH') & (old_new.itemcode != 'DEPOSIT'), 'itemcode'].tolist()\n",
    "new_wt = (old_new.loc[(old_new.itemcode != 'CASH') & (old_new.itemcode != 'DEPOSIT'), 'wt_new']*100).tolist()     # 단위가 %이므로 100을 곱한다."
   ]
  },
  {
   "cell_type": "code",
   "execution_count": 15,
   "id": "burning-flood",
   "metadata": {
    "ExecuteTime": {
     "end_time": "2021-03-20T07:11:33.255537Z",
     "start_time": "2021-03-20T07:11:33.252266Z"
    }
   },
   "outputs": [],
   "source": [
    "target_asset_alloc = dict(zip(new_tickers, new_wt))    "
   ]
  },
  {
   "cell_type": "code",
   "execution_count": 16,
   "id": "fallen-evolution",
   "metadata": {
    "ExecuteTime": {
     "end_time": "2021-03-20T07:11:33.453804Z",
     "start_time": "2021-03-20T07:11:33.258193Z"
    }
   },
   "outputs": [
    {
     "name": "stderr",
     "output_type": "stream",
     "text": [
      "/Users/msyeom/iCloud Drive (Archive)/Documents/Finance/Work/kisra/src/models/rebalancing_helper.py:46: RuntimeWarning: divide by zero encountered in double_scalars\n",
      "  (sol_mv - portfolio.assets[ticker].market_value_in(\n"
     ]
    },
    {
     "ename": "OverflowError",
     "evalue": "cannot convert float infinity to integer",
     "output_type": "error",
     "traceback": [
      "\u001b[0;31m---------------------------------------------------------------------------\u001b[0m",
      "\u001b[0;31mOverflowError\u001b[0m                             Traceback (most recent call last)",
      "\u001b[0;32m<ipython-input-16-b79d60d86e58>\u001b[0m in \u001b[0;36m<module>\u001b[0;34m\u001b[0m\n\u001b[0;32m----> 1\u001b[0;31m \u001b[0mp\u001b[0m\u001b[0;34m.\u001b[0m\u001b[0mrebalance\u001b[0m\u001b[0;34m(\u001b[0m\u001b[0mtarget_asset_alloc\u001b[0m\u001b[0;34m,\u001b[0m \u001b[0mverbose\u001b[0m\u001b[0;34m=\u001b[0m\u001b[0;32mTrue\u001b[0m\u001b[0;34m)\u001b[0m\u001b[0;34m\u001b[0m\u001b[0;34m\u001b[0m\u001b[0m\n\u001b[0m",
      "\u001b[0;32m~/iCloud Drive (Archive)/Documents/Finance/Work/kisra/src/models/portfolio.py\u001b[0m in \u001b[0;36mrebalance\u001b[0;34m(self, target_allocation, verbose)\u001b[0m\n\u001b[1;32m    265\u001b[0m \u001b[0;34m\u001b[0m\u001b[0m\n\u001b[1;32m    266\u001b[0m         \u001b[0;31m# offload heavy work\u001b[0m\u001b[0;34m\u001b[0m\u001b[0;34m\u001b[0m\u001b[0;34m\u001b[0m\u001b[0m\n\u001b[0;32m--> 267\u001b[0;31m         \u001b[0;34m(\u001b[0m\u001b[0mbalanced_portfolio\u001b[0m\u001b[0;34m,\u001b[0m \u001b[0mnew_units\u001b[0m\u001b[0;34m,\u001b[0m \u001b[0mprices\u001b[0m\u001b[0;34m,\u001b[0m \u001b[0mcost\u001b[0m\u001b[0;34m,\u001b[0m \u001b[0mexchange_history\u001b[0m\u001b[0;34m)\u001b[0m \u001b[0;34m=\u001b[0m \u001b[0mrebalancing_helper\u001b[0m\u001b[0;34m.\u001b[0m\u001b[0mrebalance\u001b[0m\u001b[0;34m(\u001b[0m\u001b[0mself\u001b[0m\u001b[0;34m,\u001b[0m \u001b[0mtarget_allocation_np\u001b[0m\u001b[0;34m)\u001b[0m\u001b[0;34m\u001b[0m\u001b[0;34m\u001b[0m\u001b[0m\n\u001b[0m\u001b[1;32m    268\u001b[0m \u001b[0;34m\u001b[0m\u001b[0m\n\u001b[1;32m    269\u001b[0m         \u001b[0;31m# compute old and new asset allocation\u001b[0m\u001b[0;34m\u001b[0m\u001b[0;34m\u001b[0m\u001b[0;34m\u001b[0m\u001b[0m\n",
      "\u001b[0;32m~/iCloud Drive (Archive)/Documents/Finance/Work/kisra/src/models/rebalancing_helper.py\u001b[0m in \u001b[0;36mrebalance\u001b[0;34m(portfolio, target_allocation)\u001b[0m\n\u001b[1;32m     43\u001b[0m                               balanced_portfolio.assets.keys()):\n\u001b[1;32m     44\u001b[0m         \u001b[0;32mif\u001b[0m \u001b[0mportfolio\u001b[0m\u001b[0;34m.\u001b[0m\u001b[0mselling_allowed\u001b[0m\u001b[0;34m:\u001b[0m\u001b[0;34m\u001b[0m\u001b[0;34m\u001b[0m\u001b[0m\n\u001b[0;32m---> 45\u001b[0;31m             new_units[ticker] = math.floor(\n\u001b[0m\u001b[1;32m     46\u001b[0m                 (sol_mv - portfolio.assets[ticker].market_value_in(\n\u001b[1;32m     47\u001b[0m                     cmn_curr)) / portfolio.assets[ticker].price_in(\n",
      "\u001b[0;31mOverflowError\u001b[0m: cannot convert float infinity to integer"
     ]
    }
   ],
   "source": [
    "p.rebalance(target_asset_alloc, verbose=True)"
   ]
  },
  {
   "cell_type": "code",
   "execution_count": 16,
   "id": "engaged-property",
   "metadata": {
    "ExecuteTime": {
     "end_time": "2021-03-19T08:29:17.664642Z",
     "start_time": "2021-03-19T08:29:17.656663Z"
    }
   },
   "outputs": [
    {
     "ename": "KeyError",
     "evalue": "'A069500'",
     "output_type": "error",
     "traceback": [
      "\u001b[1;31m---------------------------------------------------------------------------\u001b[0m",
      "\u001b[1;31mKeyError\u001b[0m                                  Traceback (most recent call last)",
      "\u001b[1;32m<ipython-input-16-132de57f1a8e>\u001b[0m in \u001b[0;36m<module>\u001b[1;34m\u001b[0m\n\u001b[1;32m----> 1\u001b[1;33m \u001b[0mtarget_asset_alloc\u001b[0m\u001b[1;33m[\u001b[0m\u001b[1;34m'A069500'\u001b[0m\u001b[1;33m]\u001b[0m\u001b[1;33m\u001b[0m\u001b[1;33m\u001b[0m\u001b[0m\n\u001b[0m",
      "\u001b[1;31mKeyError\u001b[0m: 'A069500'"
     ]
    }
   ],
   "source": [
    "target_asset_alloc['A069500']"
   ]
  },
  {
   "cell_type": "code",
   "execution_count": 13,
   "id": "specific-tennis",
   "metadata": {
    "ExecuteTime": {
     "end_time": "2021-03-19T08:28:42.246560Z",
     "start_time": "2021-03-19T08:28:42.240577Z"
    }
   },
   "outputs": [
    {
     "data": {
      "text/plain": [
       "{'A069500': <asset.Asset at 0x1e0cead8b20>,\n",
       " 'A360200': <asset.Asset at 0x1e0cead8be0>,\n",
       " 'A196230': <asset.Asset at 0x1e0cead8cd0>,\n",
       " 'A302190': <asset.Asset at 0x1e0cead8d90>,\n",
       " 'A329750': <asset.Asset at 0x1e0cead8e80>,\n",
       " 'A367380': <asset.Asset at 0x1e0cead8f40>}"
      ]
     },
     "execution_count": 13,
     "metadata": {},
     "output_type": "execute_result"
    }
   ],
   "source": [
    "p.assets"
   ]
  },
  {
   "cell_type": "code",
   "execution_count": 63,
   "id": "dependent-metadata",
   "metadata": {
    "ExecuteTime": {
     "end_time": "2021-03-19T08:01:26.251707Z",
     "start_time": "2021-03-19T08:01:26.246721Z"
    }
   },
   "outputs": [
    {
     "data": {
      "text/plain": [
       "0.9999999998925693"
      ]
     },
     "execution_count": 63,
     "metadata": {},
     "output_type": "execute_result"
    }
   ],
   "source": [
    "new_port.wt.sum()"
   ]
  },
  {
   "cell_type": "code",
   "execution_count": 68,
   "id": "marine-legislature",
   "metadata": {
    "ExecuteTime": {
     "end_time": "2021-03-19T08:04:16.985366Z",
     "start_time": "2021-03-19T08:04:16.981377Z"
    }
   },
   "outputs": [],
   "source": [
    "import numpy as np"
   ]
  },
  {
   "cell_type": "code",
   "execution_count": 70,
   "id": "genetic-slave",
   "metadata": {
    "ExecuteTime": {
     "end_time": "2021-03-19T08:04:38.303137Z",
     "start_time": "2021-03-19T08:04:38.293164Z"
    }
   },
   "outputs": [
    {
     "ename": "Exception",
     "evalue": "'target_allocation not compatible with the assets of the portfolio.",
     "output_type": "error",
     "traceback": [
      "\u001b[1;31m---------------------------------------------------------------------------\u001b[0m",
      "\u001b[1;31mNameError\u001b[0m                                 Traceback (most recent call last)",
      "\u001b[1;32m<ipython-input-70-ef66f95b3b3a>\u001b[0m in \u001b[0;36m<module>\u001b[1;34m\u001b[0m\n\u001b[0;32m      3\u001b[0m \u001b[1;32mtry\u001b[0m\u001b[1;33m:\u001b[0m\u001b[1;33m\u001b[0m\u001b[1;33m\u001b[0m\u001b[0m\n\u001b[1;32m----> 4\u001b[1;33m     \u001b[1;32mfor\u001b[0m \u001b[0mkey\u001b[0m \u001b[1;32min\u001b[0m \u001b[0mself\u001b[0m\u001b[1;33m.\u001b[0m\u001b[0massets\u001b[0m\u001b[1;33m:\u001b[0m\u001b[1;33m\u001b[0m\u001b[1;33m\u001b[0m\u001b[0m\n\u001b[0m\u001b[0;32m      5\u001b[0m         \u001b[0mtarget_allocation_reordered\u001b[0m\u001b[1;33m[\u001b[0m\u001b[0mkey\u001b[0m\u001b[1;33m]\u001b[0m \u001b[1;33m=\u001b[0m \u001b[0mtarget_allocation\u001b[0m\u001b[1;33m[\u001b[0m\u001b[0mkey\u001b[0m\u001b[1;33m]\u001b[0m\u001b[1;33m\u001b[0m\u001b[1;33m\u001b[0m\u001b[0m\n",
      "\u001b[1;31mNameError\u001b[0m: name 'self' is not defined",
      "\nDuring handling of the above exception, another exception occurred:\n",
      "\u001b[1;31mException\u001b[0m                                 Traceback (most recent call last)",
      "\u001b[1;32m<ipython-input-70-ef66f95b3b3a>\u001b[0m in \u001b[0;36m<module>\u001b[1;34m\u001b[0m\n\u001b[0;32m      5\u001b[0m         \u001b[0mtarget_allocation_reordered\u001b[0m\u001b[1;33m[\u001b[0m\u001b[0mkey\u001b[0m\u001b[1;33m]\u001b[0m \u001b[1;33m=\u001b[0m \u001b[0mtarget_allocation\u001b[0m\u001b[1;33m[\u001b[0m\u001b[0mkey\u001b[0m\u001b[1;33m]\u001b[0m\u001b[1;33m\u001b[0m\u001b[1;33m\u001b[0m\u001b[0m\n\u001b[0;32m      6\u001b[0m \u001b[1;32mexcept\u001b[0m\u001b[1;33m:\u001b[0m\u001b[1;33m\u001b[0m\u001b[1;33m\u001b[0m\u001b[0m\n\u001b[1;32m----> 7\u001b[1;33m     raise Exception(\n\u001b[0m\u001b[0;32m      8\u001b[0m         \u001b[1;34m\"'target_allocation not compatible with the assets of the portfolio.\"\u001b[0m\u001b[1;33m\u001b[0m\u001b[1;33m\u001b[0m\u001b[0m\n\u001b[0;32m      9\u001b[0m     )\n",
      "\u001b[1;31mException\u001b[0m: 'target_allocation not compatible with the assets of the portfolio."
     ]
    }
   ],
   "source": [
    "# order target_allocation dict in the same order as assets dict and upper key\n",
    "target_allocation_reordered = {}\n",
    "try:\n",
    "    for key in assets:\n",
    "        target_allocation_reordered[key] = target_allocation[key]\n",
    "except:\n",
    "    raise Exception(\n",
    "        \"'target_allocation not compatible with the assets of the portfolio.\"\n",
    "    )\n",
    "\n",
    "target_allocation_np = np.fromiter(\n",
    "    target_allocation_reordered.values(), dtype=float)"
   ]
  },
  {
   "cell_type": "code",
   "execution_count": 73,
   "id": "innocent-windsor",
   "metadata": {
    "ExecuteTime": {
     "end_time": "2021-03-19T08:12:36.253631Z",
     "start_time": "2021-03-19T08:12:36.248644Z"
    }
   },
   "outputs": [
    {
     "data": {
      "text/plain": [
       "{}"
      ]
     },
     "execution_count": 73,
     "metadata": {},
     "output_type": "execute_result"
    }
   ],
   "source": [
    "p.assets"
   ]
  },
  {
   "cell_type": "code",
   "execution_count": 19,
   "id": "serious-appearance",
   "metadata": {
    "ExecuteTime": {
     "end_time": "2021-03-20T08:15:29.658878Z",
     "start_time": "2021-03-20T08:15:29.656268Z"
    }
   },
   "outputs": [],
   "source": [
    "price_db = PriceDB.instance().data"
   ]
  },
  {
   "cell_type": "code",
   "execution_count": 21,
   "id": "olympic-panic",
   "metadata": {
    "ExecuteTime": {
     "end_time": "2021-03-20T08:15:37.724072Z",
     "start_time": "2021-03-20T08:15:37.716419Z"
    }
   },
   "outputs": [
    {
     "data": {
      "text/plain": [
       "{'ETF'}"
      ]
     },
     "execution_count": 21,
     "metadata": {},
     "output_type": "execute_result"
    }
   ],
   "source": [
    "set(price_db.itemtype)"
   ]
  },
  {
   "cell_type": "code",
   "execution_count": null,
   "id": "brutal-improvement",
   "metadata": {},
   "outputs": [],
   "source": []
  }
 ],
 "metadata": {
  "kernelspec": {
   "display_name": "Python 3",
   "language": "python",
   "name": "python3"
  },
  "language_info": {
   "codemirror_mode": {
    "name": "ipython",
    "version": 3
   },
   "file_extension": ".py",
   "mimetype": "text/x-python",
   "name": "python",
   "nbconvert_exporter": "python",
   "pygments_lexer": "ipython3",
   "version": "3.8.8"
  }
 },
 "nbformat": 4,
 "nbformat_minor": 5
}
