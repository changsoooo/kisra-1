{
 "cells": [
  {
   "cell_type": "code",
   "execution_count": 1,
   "id": "67b8c960",
   "metadata": {
    "ExecuteTime": {
     "end_time": "2021-05-04T07:10:58.199487Z",
     "start_time": "2021-05-04T07:10:50.284672Z"
    }
   },
   "outputs": [],
   "source": [
    "import riskfolio.Reports as rp\n",
    "import pickle\n",
    "import matplotlib.pyplot as plt\n",
    "import pandas as pd"
   ]
  },
  {
   "cell_type": "code",
   "execution_count": 3,
   "id": "917079b7",
   "metadata": {
    "ExecuteTime": {
     "end_time": "2021-05-04T07:11:26.714166Z",
     "start_time": "2021-05-04T07:11:26.699206Z"
    }
   },
   "outputs": [],
   "source": [
    "df = pd.read_pickle('./data/processed/investors_m.pkl')"
   ]
  },
  {
   "cell_type": "code",
   "execution_count": 7,
   "id": "1ed65fd6",
   "metadata": {
    "ExecuteTime": {
     "end_time": "2021-05-04T07:12:09.644618Z",
     "start_time": "2021-05-04T07:12:09.635642Z"
    }
   },
   "outputs": [
    {
     "data": {
      "text/html": [
       "<div>\n",
       "<style scoped>\n",
       "    .dataframe tbody tr th:only-of-type {\n",
       "        vertical-align: middle;\n",
       "    }\n",
       "\n",
       "    .dataframe tbody tr th {\n",
       "        vertical-align: top;\n",
       "    }\n",
       "\n",
       "    .dataframe thead th {\n",
       "        text-align: right;\n",
       "    }\n",
       "</style>\n",
       "<table border=\"1\" class=\"dataframe\">\n",
       "  <thead>\n",
       "    <tr style=\"text-align: right;\">\n",
       "      <th></th>\n",
       "      <th>userid</th>\n",
       "      <th>name</th>\n",
       "      <th>acc_no</th>\n",
       "      <th>profile_code</th>\n",
       "      <th>principal</th>\n",
       "    </tr>\n",
       "  </thead>\n",
       "  <tbody>\n",
       "    <tr>\n",
       "      <th>0</th>\n",
       "      <td>A001</td>\n",
       "      <td>안정추구형소규모</td>\n",
       "      <td>8110739301</td>\n",
       "      <td>2</td>\n",
       "      <td>700000</td>\n",
       "    </tr>\n",
       "    <tr>\n",
       "      <th>1</th>\n",
       "      <td>A002</td>\n",
       "      <td>안정추구형중규모</td>\n",
       "      <td>8110740601</td>\n",
       "      <td>3</td>\n",
       "      <td>1000000</td>\n",
       "    </tr>\n",
       "    <tr>\n",
       "      <th>2</th>\n",
       "      <td>A003</td>\n",
       "      <td>안정추구형대규모</td>\n",
       "      <td>8110740701</td>\n",
       "      <td>4</td>\n",
       "      <td>1300000</td>\n",
       "    </tr>\n",
       "    <tr>\n",
       "      <th>3</th>\n",
       "      <td>A004</td>\n",
       "      <td>위험중립형소규모</td>\n",
       "      <td>8110741001</td>\n",
       "      <td>2</td>\n",
       "      <td>700000</td>\n",
       "    </tr>\n",
       "    <tr>\n",
       "      <th>4</th>\n",
       "      <td>A005</td>\n",
       "      <td>위험중립형중규모</td>\n",
       "      <td>8110741601</td>\n",
       "      <td>3</td>\n",
       "      <td>1000000</td>\n",
       "    </tr>\n",
       "    <tr>\n",
       "      <th>5</th>\n",
       "      <td>A006</td>\n",
       "      <td>위험중립형대규모</td>\n",
       "      <td>8110741701</td>\n",
       "      <td>4</td>\n",
       "      <td>1300000</td>\n",
       "    </tr>\n",
       "    <tr>\n",
       "      <th>6</th>\n",
       "      <td>A007</td>\n",
       "      <td>적극투자형소규모</td>\n",
       "      <td>8110742001</td>\n",
       "      <td>2</td>\n",
       "      <td>700000</td>\n",
       "    </tr>\n",
       "    <tr>\n",
       "      <th>7</th>\n",
       "      <td>A008</td>\n",
       "      <td>적극투자형중규모</td>\n",
       "      <td>8110742201</td>\n",
       "      <td>3</td>\n",
       "      <td>1000000</td>\n",
       "    </tr>\n",
       "    <tr>\n",
       "      <th>8</th>\n",
       "      <td>A009</td>\n",
       "      <td>적극투자형대규모</td>\n",
       "      <td>8110743301</td>\n",
       "      <td>4</td>\n",
       "      <td>1300000</td>\n",
       "    </tr>\n",
       "  </tbody>\n",
       "</table>\n",
       "</div>"
      ],
      "text/plain": [
       "  userid      name      acc_no  profile_code  principal\n",
       "0   A001  안정추구형소규모  8110739301             2     700000\n",
       "1   A002  안정추구형중규모  8110740601             3    1000000\n",
       "2   A003  안정추구형대규모  8110740701             4    1300000\n",
       "3   A004  위험중립형소규모  8110741001             2     700000\n",
       "4   A005  위험중립형중규모  8110741601             3    1000000\n",
       "5   A006  위험중립형대규모  8110741701             4    1300000\n",
       "6   A007  적극투자형소규모  8110742001             2     700000\n",
       "7   A008  적극투자형중규모  8110742201             3    1000000\n",
       "8   A009  적극투자형대규모  8110743301             4    1300000"
      ]
     },
     "execution_count": 7,
     "metadata": {},
     "output_type": "execute_result"
    }
   ],
   "source": [
    "df"
   ]
  },
  {
   "cell_type": "code",
   "execution_count": 6,
   "id": "59e6a60b",
   "metadata": {
    "ExecuteTime": {
     "end_time": "2021-05-04T07:11:53.192900Z",
     "start_time": "2021-05-04T07:11:53.186917Z"
    },
    "scrolled": true
   },
   "outputs": [
    {
     "data": {
      "text/plain": [
       "array([ 700000., 1000000., 1300000.,  700000., 1000000., 1300000.,\n",
       "        700000., 1000000., 1300000.])"
      ]
     },
     "execution_count": 6,
     "metadata": {},
     "output_type": "execute_result"
    }
   ],
   "source": [
    "df['principal'].values.astype(float)"
   ]
  },
  {
   "cell_type": "markdown",
   "id": "d9dae00f",
   "metadata": {},
   "source": [
    "- Biz days"
   ]
  },
  {
   "cell_type": "code",
   "execution_count": 2,
   "id": "9a83e560",
   "metadata": {
    "ExecuteTime": {
     "end_time": "2021-05-01T23:30:44.774308Z",
     "start_time": "2021-05-01T23:30:44.771074Z"
    }
   },
   "outputs": [],
   "source": [
    "# biz days\n",
    "# dates = pd.bdate_range('2021-01-01', '2021-03-19', freq='B').strftime('%Y-%m-%d').to_list()"
   ]
  },
  {
   "cell_type": "markdown",
   "id": "97afa209",
   "metadata": {},
   "source": [
    "- Weekends"
   ]
  },
  {
   "cell_type": "code",
   "execution_count": 3,
   "id": "3bdfc249",
   "metadata": {
    "ExecuteTime": {
     "end_time": "2021-05-01T23:30:44.783553Z",
     "start_time": "2021-05-01T23:30:44.779416Z"
    }
   },
   "outputs": [],
   "source": [
    "# # create a dataframe of dates\n",
    "# df = pd.DataFrame({'Dates': pd.date_range(\"2020-01-01\", \"2021-03-19\")})\n",
    "\n",
    "# # create a series of business days\n",
    "# busines_dates = pd.bdate_range(\"2020-01-01\", \"2021-03-19\")\n",
    "\n",
    "# # find where the two do not intersect\n",
    "# dates = df.loc[~df['Dates'].isin(busines_dates)].Dates.dt.strftime('%Y-%m-%d').to_list()"
   ]
  },
  {
   "cell_type": "code",
   "execution_count": 4,
   "id": "8db900b4",
   "metadata": {
    "ExecuteTime": {
     "end_time": "2021-05-01T23:30:44.790408Z",
     "start_time": "2021-05-01T23:30:44.787872Z"
    }
   },
   "outputs": [],
   "source": [
    "# dates = ['2019-12-31', '2020-01-31', '2020-02-28', '2020-03-31', '2020-04-30',\n",
    "#         '2020-05-29', '2020-06-30',  '2020-07-31',  '2020-08-31', '2020-09-30',\n",
    "#         '2020-10-30',  '2020-11-30', '2020-12-31', '2021-01-29','2021-02-26']\n",
    "# # dates = ['2019-12-31']"
   ]
  },
  {
   "cell_type": "code",
   "execution_count": 5,
   "id": "64f534f0",
   "metadata": {
    "ExecuteTime": {
     "end_time": "2021-05-01T23:30:50.600472Z",
     "start_time": "2021-05-01T23:30:50.594587Z"
    }
   },
   "outputs": [],
   "source": [
    "df_dt = pd.DataFrame({'Dates': pd.date_range(\"2021-04-28\", \"2021-04-30\")})\n",
    "dates = df_dt.Dates.dt.strftime('%Y-%m-%d').to_list()"
   ]
  },
  {
   "cell_type": "code",
   "execution_count": null,
   "id": "fcc62929",
   "metadata": {
    "ExecuteTime": {
     "end_time": "2021-05-01T23:31:37.995206Z",
     "start_time": "2021-05-01T23:30:51.810108Z"
    },
    "scrolled": true
   },
   "outputs": [],
   "source": [
    "for dt in dates:\n",
    "    for risk_profile in [2,3,4]:\n",
    "        with open('./reports/returns-{}_{}.pkl'.format(risk_profile, dt), 'rb') as f:\n",
    "            returns = pickle.load(f)\n",
    "        with open('./reports/w-{}_{}.pkl'.format(risk_profile, dt), 'rb') as f:\n",
    "            w = pickle.load(f)\n",
    "\n",
    "        ax = rp.jupyter_report(returns, w, rm='CDaR', rf=0, alpha=0.05, height=6, width=14,\n",
    "                           others=0.05, nrow=25)\n",
    "\n",
    "        ax[0].figure.savefig('./reports/figures/report-{}_{}.png'.format(risk_profile, dt));"
   ]
  },
  {
   "cell_type": "code",
   "execution_count": null,
   "id": "db39d897",
   "metadata": {},
   "outputs": [],
   "source": []
  },
  {
   "cell_type": "code",
   "execution_count": null,
   "id": "8bd6fd43",
   "metadata": {},
   "outputs": [],
   "source": []
  },
  {
   "cell_type": "code",
   "execution_count": null,
   "id": "88f82b88",
   "metadata": {},
   "outputs": [],
   "source": []
  },
  {
   "cell_type": "code",
   "execution_count": null,
   "id": "eef0dc32",
   "metadata": {},
   "outputs": [],
   "source": []
  },
  {
   "cell_type": "code",
   "execution_count": null,
   "id": "c05c990a",
   "metadata": {},
   "outputs": [],
   "source": []
  },
  {
   "cell_type": "code",
   "execution_count": null,
   "id": "f9168526",
   "metadata": {},
   "outputs": [],
   "source": []
  }
 ],
 "metadata": {
  "kernelspec": {
   "display_name": "Python 3",
   "language": "python",
   "name": "python3"
  },
  "language_info": {
   "codemirror_mode": {
    "name": "ipython",
    "version": 3
   },
   "file_extension": ".py",
   "mimetype": "text/x-python",
   "name": "python",
   "nbconvert_exporter": "python",
   "pygments_lexer": "ipython3",
   "version": "3.8.8"
  }
 },
 "nbformat": 4,
 "nbformat_minor": 5
}
