{
 "cells": [
  {
   "cell_type": "code",
   "execution_count": 1,
   "metadata": {
    "ExecuteTime": {
     "end_time": "2021-03-10T07:04:49.669490Z",
     "start_time": "2021-03-10T07:04:48.428378Z"
    }
   },
   "outputs": [],
   "source": [
    "import numpy as np\n",
    "import pandas as pd"
   ]
  },
  {
   "cell_type": "markdown",
   "metadata": {},
   "source": [
    "## Load external data"
   ]
  },
  {
   "cell_type": "code",
   "execution_count": 2,
   "metadata": {
    "ExecuteTime": {
     "end_time": "2021-03-10T07:04:49.683977Z",
     "start_time": "2021-03-10T07:04:49.673987Z"
    }
   },
   "outputs": [],
   "source": [
    "freq = 'w'"
   ]
  },
  {
   "cell_type": "markdown",
   "metadata": {},
   "source": [
    "#### Prices"
   ]
  },
  {
   "cell_type": "code",
   "execution_count": 3,
   "metadata": {
    "ExecuteTime": {
     "end_time": "2021-03-10T07:04:49.729989Z",
     "start_time": "2021-03-10T07:04:49.701145Z"
    }
   },
   "outputs": [],
   "source": [
    "filepath = '../../data/external/'\n",
    "filename = 'price_db_' + freq + '.pkl'\n",
    "price_db = pd.read_pickle(filepath+filename)"
   ]
  },
  {
   "cell_type": "markdown",
   "metadata": {},
   "source": [
    "Make `df_rt`, a matrix of log returns of all eligible **instruments** in the universe with:\n",
    "- Columns: itemcode\n",
    "- Rows: date"
   ]
  },
  {
   "cell_type": "code",
   "execution_count": 4,
   "metadata": {
    "ExecuteTime": {
     "end_time": "2021-03-10T07:04:49.820808Z",
     "start_time": "2021-03-10T07:04:49.738095Z"
    }
   },
   "outputs": [],
   "source": [
    "df_rt = price_db[price_db.itemtype=='ETF'].pivot(index='date', columns='itemcode', values='ret').dropna()"
   ]
  },
  {
   "cell_type": "markdown",
   "metadata": {},
   "source": [
    "## Estimaing mean risk portfolios"
   ]
  },
  {
   "cell_type": "markdown",
   "metadata": {},
   "source": [
    "- Using ***CDaR*** instead of variance as a risk measure.\n",
    "  - Conditional Drawdown at Risk(CDaR) is the average drawdown for all the instances that drawdown **exceeded** a certain threshold. Drawdown is a measure of downside risk.\n",
    "  - https://breakingdownfinance.com/finance-topics/alternative-investments/conditional-drawdown-at-risk-cdar/"
   ]
  },
  {
   "cell_type": "code",
   "execution_count": 32,
   "metadata": {
    "ExecuteTime": {
     "end_time": "2021-03-10T07:13:54.948531Z",
     "start_time": "2021-03-10T07:13:54.943194Z"
    }
   },
   "outputs": [],
   "source": [
    "import riskfolio.Portfolio as pf\n",
    "import datetime"
   ]
  },
  {
   "cell_type": "markdown",
   "metadata": {},
   "source": [
    "`y` is a matrix of log returns of all eligible instruments in the universe."
   ]
  },
  {
   "cell_type": "code",
   "execution_count": 47,
   "metadata": {
    "ExecuteTime": {
     "end_time": "2021-03-10T07:15:20.231746Z",
     "start_time": "2021-03-10T07:15:20.220053Z"
    }
   },
   "outputs": [],
   "source": [
    "current_date = '2020-01-10'\n",
    "y = df_rt[df_rt.index <= current_date]"
   ]
  },
  {
   "cell_type": "code",
   "execution_count": 48,
   "metadata": {
    "ExecuteTime": {
     "end_time": "2021-03-10T07:15:20.530710Z",
     "start_time": "2021-03-10T07:15:20.509116Z"
    },
    "scrolled": false
   },
   "outputs": [],
   "source": [
    "df_rf = price_db[price_db.itemtype=='riskfree'].set_index('date', drop=True)\n",
    "current_idx = df_rf.index.asof(datetime.datetime.strptime('2021-03-05', '%Y-%m-%d'))\n",
    "rf = df_rf.loc[current_idx].price  # risk free rate"
   ]
  },
  {
   "cell_type": "code",
   "execution_count": 49,
   "metadata": {
    "ExecuteTime": {
     "end_time": "2021-03-10T07:15:20.787677Z",
     "start_time": "2021-03-10T07:15:20.783931Z"
    }
   },
   "outputs": [],
   "source": [
    "port = pf.Portfolio(returns=y) "
   ]
  },
  {
   "cell_type": "code",
   "execution_count": 56,
   "metadata": {
    "ExecuteTime": {
     "end_time": "2021-03-10T07:17:14.262317Z",
     "start_time": "2021-03-10T07:17:13.791549Z"
    }
   },
   "outputs": [
    {
     "name": "stdout",
     "output_type": "stream",
     "text": [
      "You must convert self.cov to a positive definite matrix\n"
     ]
    }
   ],
   "source": [
    "method_mu='ewma1'  # Method to estimate expected returns; ewma with adjust=True. See pandas.DataFrame.ewm for more details.\n",
    "method_cov='ewma1' # Method to estimate covariance matrix; ewma with adjust=True\n",
    "decay=0.94\n",
    "\n",
    "port.assets_stats(method_mu=method_mu, method_cov=method_cov, d=decay)\n",
    "\n",
    "# Estimate optimal portfolio:\n",
    "\n",
    "model='Classic' # Could be Classic (historical), BL (Black Litterman) or FM (Factor Model)\n",
    "rm = 'CDaR' # Risk measure used, this time will be variance\n",
    "obj = 'Sharpe' # Objective function, could be MinRisk, MaxRet, Utility or Sharpe\n",
    "hist = True # Use historical scenarios for risk measures that depend on scenarios\n",
    "l=0\n",
    "\n",
    "w = port.optimization(model=model, rm=rm, obj=obj, rf=rf, l=l, hist=hist)"
   ]
  },
  {
   "cell_type": "code",
   "execution_count": 57,
   "metadata": {
    "ExecuteTime": {
     "end_time": "2021-03-10T07:17:16.871902Z",
     "start_time": "2021-03-10T07:17:16.849587Z"
    }
   },
   "outputs": [],
   "source": [
    "instruments=pd.read_pickle('../../data/processed/instruments_m.pkl')"
   ]
  },
  {
   "cell_type": "code",
   "execution_count": 52,
   "metadata": {
    "ExecuteTime": {
     "end_time": "2021-03-10T07:15:22.894619Z",
     "start_time": "2021-03-10T07:15:22.860274Z"
    }
   },
   "outputs": [
    {
     "ename": "TypeError",
     "evalue": "Can only merge Series or DataFrame objects, a <class 'NoneType'> was passed",
     "output_type": "error",
     "traceback": [
      "\u001b[1;31m---------------------------------------------------------------------------\u001b[0m",
      "\u001b[1;31mTypeError\u001b[0m                                 Traceback (most recent call last)",
      "\u001b[1;32m<ipython-input-52-6c15c7839e6a>\u001b[0m in \u001b[0;36m<module>\u001b[1;34m\u001b[0m\n\u001b[1;32m----> 1\u001b[1;33m \u001b[0mw\u001b[0m \u001b[1;33m=\u001b[0m \u001b[0mpd\u001b[0m\u001b[1;33m.\u001b[0m\u001b[0mmerge\u001b[0m\u001b[1;33m(\u001b[0m\u001b[0mw\u001b[0m\u001b[1;33m,\u001b[0m \u001b[0minstruments\u001b[0m\u001b[1;33m.\u001b[0m\u001b[0mloc\u001b[0m\u001b[1;33m[\u001b[0m\u001b[1;33m:\u001b[0m\u001b[1;33m,\u001b[0m\u001b[1;33m[\u001b[0m\u001b[1;34m'itemcode'\u001b[0m\u001b[1;33m,\u001b[0m \u001b[1;34m'tracking_code'\u001b[0m\u001b[1;33m]\u001b[0m\u001b[1;33m]\u001b[0m\u001b[1;33m,\u001b[0m \u001b[0mleft_index\u001b[0m\u001b[1;33m=\u001b[0m\u001b[1;32mTrue\u001b[0m\u001b[1;33m,\u001b[0m \u001b[0mright_on\u001b[0m\u001b[1;33m=\u001b[0m\u001b[1;34m'itemcode'\u001b[0m\u001b[1;33m,\u001b[0m \u001b[0mhow\u001b[0m\u001b[1;33m=\u001b[0m\u001b[1;34m'left'\u001b[0m\u001b[1;33m)\u001b[0m\u001b[1;33m\u001b[0m\u001b[1;33m\u001b[0m\u001b[0m\n\u001b[0m",
      "\u001b[1;32mC:\\ProgramData\\Anaconda3\\envs\\ra\\lib\\site-packages\\pandas\\core\\reshape\\merge.py\u001b[0m in \u001b[0;36mmerge\u001b[1;34m(left, right, how, on, left_on, right_on, left_index, right_index, sort, suffixes, copy, indicator, validate)\u001b[0m\n\u001b[0;32m     72\u001b[0m     \u001b[0mvalidate\u001b[0m\u001b[1;33m=\u001b[0m\u001b[1;32mNone\u001b[0m\u001b[1;33m,\u001b[0m\u001b[1;33m\u001b[0m\u001b[1;33m\u001b[0m\u001b[0m\n\u001b[0;32m     73\u001b[0m ) -> \"DataFrame\":\n\u001b[1;32m---> 74\u001b[1;33m     op = _MergeOperation(\n\u001b[0m\u001b[0;32m     75\u001b[0m         \u001b[0mleft\u001b[0m\u001b[1;33m,\u001b[0m\u001b[1;33m\u001b[0m\u001b[1;33m\u001b[0m\u001b[0m\n\u001b[0;32m     76\u001b[0m         \u001b[0mright\u001b[0m\u001b[1;33m,\u001b[0m\u001b[1;33m\u001b[0m\u001b[1;33m\u001b[0m\u001b[0m\n",
      "\u001b[1;32mC:\\ProgramData\\Anaconda3\\envs\\ra\\lib\\site-packages\\pandas\\core\\reshape\\merge.py\u001b[0m in \u001b[0;36m__init__\u001b[1;34m(self, left, right, how, on, left_on, right_on, axis, left_index, right_index, sort, suffixes, copy, indicator, validate)\u001b[0m\n\u001b[0;32m    591\u001b[0m         \u001b[0mvalidate\u001b[0m\u001b[1;33m=\u001b[0m\u001b[1;32mNone\u001b[0m\u001b[1;33m,\u001b[0m\u001b[1;33m\u001b[0m\u001b[1;33m\u001b[0m\u001b[0m\n\u001b[0;32m    592\u001b[0m     ):\n\u001b[1;32m--> 593\u001b[1;33m         \u001b[0m_left\u001b[0m \u001b[1;33m=\u001b[0m \u001b[0m_validate_operand\u001b[0m\u001b[1;33m(\u001b[0m\u001b[0mleft\u001b[0m\u001b[1;33m)\u001b[0m\u001b[1;33m\u001b[0m\u001b[1;33m\u001b[0m\u001b[0m\n\u001b[0m\u001b[0;32m    594\u001b[0m         \u001b[0m_right\u001b[0m \u001b[1;33m=\u001b[0m \u001b[0m_validate_operand\u001b[0m\u001b[1;33m(\u001b[0m\u001b[0mright\u001b[0m\u001b[1;33m)\u001b[0m\u001b[1;33m\u001b[0m\u001b[1;33m\u001b[0m\u001b[0m\n\u001b[0;32m    595\u001b[0m         \u001b[0mself\u001b[0m\u001b[1;33m.\u001b[0m\u001b[0mleft\u001b[0m \u001b[1;33m=\u001b[0m \u001b[0mself\u001b[0m\u001b[1;33m.\u001b[0m\u001b[0morig_left\u001b[0m \u001b[1;33m=\u001b[0m \u001b[0m_left\u001b[0m\u001b[1;33m\u001b[0m\u001b[1;33m\u001b[0m\u001b[0m\n",
      "\u001b[1;32mC:\\ProgramData\\Anaconda3\\envs\\ra\\lib\\site-packages\\pandas\\core\\reshape\\merge.py\u001b[0m in \u001b[0;36m_validate_operand\u001b[1;34m(obj)\u001b[0m\n\u001b[0;32m   2059\u001b[0m             \u001b[1;32mreturn\u001b[0m \u001b[0mobj\u001b[0m\u001b[1;33m.\u001b[0m\u001b[0mto_frame\u001b[0m\u001b[1;33m(\u001b[0m\u001b[1;33m)\u001b[0m\u001b[1;33m\u001b[0m\u001b[1;33m\u001b[0m\u001b[0m\n\u001b[0;32m   2060\u001b[0m     \u001b[1;32melse\u001b[0m\u001b[1;33m:\u001b[0m\u001b[1;33m\u001b[0m\u001b[1;33m\u001b[0m\u001b[0m\n\u001b[1;32m-> 2061\u001b[1;33m         raise TypeError(\n\u001b[0m\u001b[0;32m   2062\u001b[0m             \u001b[1;34mf\"Can only merge Series or DataFrame objects, a {type(obj)} was passed\"\u001b[0m\u001b[1;33m\u001b[0m\u001b[1;33m\u001b[0m\u001b[0m\n\u001b[0;32m   2063\u001b[0m         )\n",
      "\u001b[1;31mTypeError\u001b[0m: Can only merge Series or DataFrame objects, a <class 'NoneType'> was passed"
     ]
    }
   ],
   "source": [
    "w = pd.merge(w, instruments.loc[:,['itemcode', 'tracking_code']], left_index=True, right_on='itemcode', how='left')"
   ]
  },
  {
   "cell_type": "code",
   "execution_count": 53,
   "metadata": {
    "ExecuteTime": {
     "end_time": "2021-03-10T07:15:23.198380Z",
     "start_time": "2021-03-10T07:15:23.174821Z"
    }
   },
   "outputs": [
    {
     "ename": "TypeError",
     "evalue": "'NoneType' object is not subscriptable",
     "output_type": "error",
     "traceback": [
      "\u001b[1;31m---------------------------------------------------------------------------\u001b[0m",
      "\u001b[1;31mTypeError\u001b[0m                                 Traceback (most recent call last)",
      "\u001b[1;32m<ipython-input-53-f34a18287ca0>\u001b[0m in \u001b[0;36m<module>\u001b[1;34m\u001b[0m\n\u001b[1;32m----> 1\u001b[1;33m \u001b[0mw\u001b[0m \u001b[1;33m=\u001b[0m \u001b[0mw\u001b[0m\u001b[1;33m[\u001b[0m\u001b[1;33m[\u001b[0m\u001b[1;34m'weights'\u001b[0m\u001b[1;33m,\u001b[0m \u001b[1;34m'tracking_code'\u001b[0m\u001b[1;33m]\u001b[0m\u001b[1;33m]\u001b[0m\u001b[1;33m.\u001b[0m\u001b[0mset_index\u001b[0m\u001b[1;33m(\u001b[0m\u001b[1;34m'tracking_code'\u001b[0m\u001b[1;33m)\u001b[0m\u001b[1;33m\u001b[0m\u001b[1;33m\u001b[0m\u001b[0m\n\u001b[0m",
      "\u001b[1;31mTypeError\u001b[0m: 'NoneType' object is not subscriptable"
     ]
    }
   ],
   "source": [
    "w = w[['weights', 'tracking_code']].set_index('tracking_code')"
   ]
  },
  {
   "cell_type": "code",
   "execution_count": 54,
   "metadata": {
    "ExecuteTime": {
     "end_time": "2021-03-10T07:15:23.490197Z",
     "start_time": "2021-03-10T07:15:23.480653Z"
    }
   },
   "outputs": [],
   "source": [
    "import riskfolio.PlotFunctions as plf\n"
   ]
  },
  {
   "cell_type": "code",
   "execution_count": 42,
   "metadata": {
    "ExecuteTime": {
     "end_time": "2021-03-10T07:14:09.158827Z",
     "start_time": "2021-03-10T07:14:08.742903Z"
    }
   },
   "outputs": [
    {
     "data": {
      "image/png": "[encoded data removed]",
      "text/plain": [
       "<Figure size 720x432 with 1 Axes>"
      ]
     },
     "metadata": {},
     "output_type": "display_data"
    }
   ],
   "source": [
    "ax = plf.plot_pie(w=w, title='Mix CDaR', others=0.05, nrow=25, cmap = \"tab20\",\n",
    "                  height=6, width=10, ax=None)"
   ]
  },
  {
   "cell_type": "code",
   "execution_count": 43,
   "metadata": {
    "ExecuteTime": {
     "end_time": "2021-03-10T07:14:15.861329Z",
     "start_time": "2021-03-10T07:14:13.441978Z"
    }
   },
   "outputs": [
    {
     "data": {
      "text/html": [
       "<div>\n",
       "<style scoped>\n",
       "    .dataframe tbody tr th:only-of-type {\n",
       "        vertical-align: middle;\n",
       "    }\n",
       "\n",
       "    .dataframe tbody tr th {\n",
       "        vertical-align: top;\n",
       "    }\n",
       "\n",
       "    .dataframe thead th {\n",
       "        text-align: right;\n",
       "    }\n",
       "</style>\n",
       "<table border=\"1\" class=\"dataframe\">\n",
       "  <thead>\n",
       "    <tr style=\"text-align: right;\">\n",
       "      <th></th>\n",
       "      <th>A069500</th>\n",
       "      <th>A091160</th>\n",
       "      <th>A091170</th>\n",
       "      <th>A091180</th>\n",
       "      <th>A102110</th>\n",
       "      <th>A102780</th>\n",
       "      <th>A105190</th>\n",
       "      <th>A114260</th>\n",
       "      <th>A122260</th>\n",
       "      <th>A130680</th>\n",
       "      <th>...</th>\n",
       "      <th>A232080</th>\n",
       "      <th>A245340</th>\n",
       "      <th>A245710</th>\n",
       "      <th>A251350</th>\n",
       "      <th>A261220</th>\n",
       "      <th>A261240</th>\n",
       "      <th>A266370</th>\n",
       "      <th>A273130</th>\n",
       "      <th>A278540</th>\n",
       "      <th>A283580</th>\n",
       "    </tr>\n",
       "  </thead>\n",
       "  <tbody>\n",
       "    <tr>\n",
       "      <th>0</th>\n",
       "      <td>1.432168e-04</td>\n",
       "      <td>1.980377e-03</td>\n",
       "      <td>4.083007e-04</td>\n",
       "      <td>8.379170e-05</td>\n",
       "      <td>1.416037e-04</td>\n",
       "      <td>1.130080e-04</td>\n",
       "      <td>1.385363e-04</td>\n",
       "      <td>3.713880e-03</td>\n",
       "      <td>3.241485e-02</td>\n",
       "      <td>1.608042e-04</td>\n",
       "      <td>...</td>\n",
       "      <td>8.762125e-05</td>\n",
       "      <td>0.000264</td>\n",
       "      <td>7.654100e-05</td>\n",
       "      <td>2.417847e-04</td>\n",
       "      <td>1.642126e-04</td>\n",
       "      <td>0.004324</td>\n",
       "      <td>1.127855e-04</td>\n",
       "      <td>2.301831e-03</td>\n",
       "      <td>1.229924e-04</td>\n",
       "      <td>1.311372e-03</td>\n",
       "    </tr>\n",
       "    <tr>\n",
       "      <th>1</th>\n",
       "      <td>2.051975e-12</td>\n",
       "      <td>2.844454e-02</td>\n",
       "      <td>4.468999e-13</td>\n",
       "      <td>2.393778e-13</td>\n",
       "      <td>2.066205e-12</td>\n",
       "      <td>6.128341e-02</td>\n",
       "      <td>1.933764e-12</td>\n",
       "      <td>3.403173e-01</td>\n",
       "      <td>9.471059e-11</td>\n",
       "      <td>2.240562e-13</td>\n",
       "      <td>...</td>\n",
       "      <td>3.993616e-13</td>\n",
       "      <td>0.050846</td>\n",
       "      <td>3.715631e-13</td>\n",
       "      <td>5.250008e-12</td>\n",
       "      <td>2.334036e-13</td>\n",
       "      <td>0.170097</td>\n",
       "      <td>4.956875e-12</td>\n",
       "      <td>1.917556e-01</td>\n",
       "      <td>2.455066e-12</td>\n",
       "      <td>5.803103e-13</td>\n",
       "    </tr>\n",
       "    <tr>\n",
       "      <th>2</th>\n",
       "      <td>1.145116e-12</td>\n",
       "      <td>1.140747e-11</td>\n",
       "      <td>2.570314e-13</td>\n",
       "      <td>1.844112e-13</td>\n",
       "      <td>1.164513e-12</td>\n",
       "      <td>9.023205e-02</td>\n",
       "      <td>1.121183e-12</td>\n",
       "      <td>1.089441e-11</td>\n",
       "      <td>6.232395e-12</td>\n",
       "      <td>2.856640e-13</td>\n",
       "      <td>...</td>\n",
       "      <td>2.219006e-13</td>\n",
       "      <td>0.098820</td>\n",
       "      <td>2.771813e-13</td>\n",
       "      <td>3.858999e-12</td>\n",
       "      <td>2.941995e-13</td>\n",
       "      <td>0.421188</td>\n",
       "      <td>4.752158e-02</td>\n",
       "      <td>4.645738e-11</td>\n",
       "      <td>1.715152e-12</td>\n",
       "      <td>3.809289e-13</td>\n",
       "    </tr>\n",
       "    <tr>\n",
       "      <th>3</th>\n",
       "      <td>8.330681e-14</td>\n",
       "      <td>1.206478e-13</td>\n",
       "      <td>2.107916e-14</td>\n",
       "      <td>1.796386e-14</td>\n",
       "      <td>8.514100e-14</td>\n",
       "      <td>1.157371e-12</td>\n",
       "      <td>8.295727e-14</td>\n",
       "      <td>5.879125e-13</td>\n",
       "      <td>3.762284e-13</td>\n",
       "      <td>2.575913e-14</td>\n",
       "      <td>...</td>\n",
       "      <td>1.819527e-14</td>\n",
       "      <td>0.137404</td>\n",
       "      <td>2.133816e-14</td>\n",
       "      <td>2.885116e-13</td>\n",
       "      <td>2.643679e-14</td>\n",
       "      <td>0.259390</td>\n",
       "      <td>1.395806e-01</td>\n",
       "      <td>1.647192e-12</td>\n",
       "      <td>1.091964e-13</td>\n",
       "      <td>2.946005e-14</td>\n",
       "    </tr>\n",
       "    <tr>\n",
       "      <th>4</th>\n",
       "      <td>8.923227e-14</td>\n",
       "      <td>9.171158e-14</td>\n",
       "      <td>3.024796e-14</td>\n",
       "      <td>1.968180e-14</td>\n",
       "      <td>9.099264e-14</td>\n",
       "      <td>6.112274e-13</td>\n",
       "      <td>8.991503e-14</td>\n",
       "      <td>6.117144e-13</td>\n",
       "      <td>4.217075e-13</td>\n",
       "      <td>2.959192e-14</td>\n",
       "      <td>...</td>\n",
       "      <td>2.756237e-14</td>\n",
       "      <td>0.165504</td>\n",
       "      <td>2.736894e-14</td>\n",
       "      <td>3.058467e-13</td>\n",
       "      <td>2.985870e-14</td>\n",
       "      <td>0.138577</td>\n",
       "      <td>1.775384e-01</td>\n",
       "      <td>1.458416e-12</td>\n",
       "      <td>1.058780e-13</td>\n",
       "      <td>3.775764e-14</td>\n",
       "    </tr>\n",
       "  </tbody>\n",
       "</table>\n",
       "<p>5 rows × 30 columns</p>\n",
       "</div>"
      ],
      "text/plain": [
       "        A069500       A091160       A091170       A091180       A102110  \\\n",
       "0  1.432168e-04  1.980377e-03  4.083007e-04  8.379170e-05  1.416037e-04   \n",
       "1  2.051975e-12  2.844454e-02  4.468999e-13  2.393778e-13  2.066205e-12   \n",
       "2  1.145116e-12  1.140747e-11  2.570314e-13  1.844112e-13  1.164513e-12   \n",
       "3  8.330681e-14  1.206478e-13  2.107916e-14  1.796386e-14  8.514100e-14   \n",
       "4  8.923227e-14  9.171158e-14  3.024796e-14  1.968180e-14  9.099264e-14   \n",
       "\n",
       "        A102780       A105190       A114260       A122260       A130680  ...  \\\n",
       "0  1.130080e-04  1.385363e-04  3.713880e-03  3.241485e-02  1.608042e-04  ...   \n",
       "1  6.128341e-02  1.933764e-12  3.403173e-01  9.471059e-11  2.240562e-13  ...   \n",
       "2  9.023205e-02  1.121183e-12  1.089441e-11  6.232395e-12  2.856640e-13  ...   \n",
       "3  1.157371e-12  8.295727e-14  5.879125e-13  3.762284e-13  2.575913e-14  ...   \n",
       "4  6.112274e-13  8.991503e-14  6.117144e-13  4.217075e-13  2.959192e-14  ...   \n",
       "\n",
       "        A232080   A245340       A245710       A251350       A261220   A261240  \\\n",
       "0  8.762125e-05  0.000264  7.654100e-05  2.417847e-04  1.642126e-04  0.004324   \n",
       "1  3.993616e-13  0.050846  3.715631e-13  5.250008e-12  2.334036e-13  0.170097   \n",
       "2  2.219006e-13  0.098820  2.771813e-13  3.858999e-12  2.941995e-13  0.421188   \n",
       "3  1.819527e-14  0.137404  2.133816e-14  2.885116e-13  2.643679e-14  0.259390   \n",
       "4  2.756237e-14  0.165504  2.736894e-14  3.058467e-13  2.985870e-14  0.138577   \n",
       "\n",
       "        A266370       A273130       A278540       A283580  \n",
       "0  1.127855e-04  2.301831e-03  1.229924e-04  1.311372e-03  \n",
       "1  4.956875e-12  1.917556e-01  2.455066e-12  5.803103e-13  \n",
       "2  4.752158e-02  4.645738e-11  1.715152e-12  3.809289e-13  \n",
       "3  1.395806e-01  1.647192e-12  1.091964e-13  2.946005e-14  \n",
       "4  1.775384e-01  1.458416e-12  1.058780e-13  3.775764e-14  \n",
       "\n",
       "[5 rows x 30 columns]"
      ]
     },
     "metadata": {},
     "output_type": "display_data"
    }
   ],
   "source": [
    "points = 50 # Number of points of the frontier\n",
    "\n",
    "frontier = port.efficient_frontier(model=model, rm=rm, points=points, rf=rf, hist=hist)\n",
    "\n",
    "display(frontier.T.head())"
   ]
  },
  {
   "cell_type": "code",
   "execution_count": 44,
   "metadata": {
    "ExecuteTime": {
     "end_time": "2021-03-10T07:14:19.144078Z",
     "start_time": "2021-03-10T07:14:18.669078Z"
    }
   },
   "outputs": [
    {
     "name": "stderr",
     "output_type": "stream",
     "text": [
      "C:\\ProgramData\\Anaconda3\\envs\\ra\\lib\\site-packages\\riskfolio\\PlotFunctions.py:337: RuntimeWarning: divide by zero encountered in double_scalars\n",
      "  ratio = (ret - rf) / risk\n",
      "C:\\ProgramData\\Anaconda3\\envs\\ra\\lib\\site-packages\\riskfolio\\PlotFunctions.py:359: RuntimeWarning: divide by zero encountered in double_scalars\n",
      "  ratio = (ret - rf) / risk\n"
     ]
    },
    {
     "data": {
      "image/png": "[encoded data removed]",
      "text/plain": [
       "<Figure size 720x432 with 2 Axes>"
      ]
     },
     "metadata": {
      "needs_background": "light"
     },
     "output_type": "display_data"
    }
   ],
   "source": [
    "# Plotting the efficient frontier\n",
    "\n",
    "label = 'Min Risk Adjusted Return Portfolio' # Title of point\n",
    "mu = port.mu # Expected returns\n",
    "cov = port.cov # Covariance matrix\n",
    "returns = port.returns # Returns of the assets\n",
    "\n",
    "ax = plf.plot_frontier(w_frontier=frontier, mu=mu, cov=cov, returns=returns, rm=rm,\n",
    "                       rf=rf, alpha=0.05, cmap='viridis', w=w, label=label,\n",
    "                       marker='*', s=16, c='r', height=6, width=10, ax=None)"
   ]
  },
  {
   "cell_type": "code",
   "execution_count": null,
   "metadata": {},
   "outputs": [],
   "source": []
  },
  {
   "cell_type": "code",
   "execution_count": 58,
   "metadata": {
    "ExecuteTime": {
     "end_time": "2021-03-10T07:17:28.380412Z",
     "start_time": "2021-03-10T07:17:27.857100Z"
    }
   },
   "outputs": [],
   "source": [
    "# Risk Measures available:\n",
    "#\n",
    "# 'MV': Standard Deviation.\n",
    "# 'MAD': Mean Absolute Deviation.\n",
    "# 'MSV': Semi Standard Deviation.\n",
    "# 'FLPM': First Lower Partial Moment (Omega Ratio).\n",
    "# 'SLPM': Second Lower Partial Moment (Sortino Ratio).\n",
    "# 'CVaR': Conditional Value at Risk.\n",
    "# 'EVaR': Entropic Value at Risk.\n",
    "# 'WR': Worst Realization (Minimax)\n",
    "# 'MDD': Maximum Drawdown of uncompounded cumulative returns (Calmar Ratio).\n",
    "# 'ADD': Average Drawdown of uncompounded cumulative returns.\n",
    "# 'CDaR': Conditional Drawdown at Risk of uncompounded cumulative returns.\n",
    "# 'EDaR': Entropic Drawdown at Risk of uncompounded cumulative returns.\n",
    "# 'UCI': Ulcer Index of uncompounded cumulative returns.\n",
    "\n",
    "rms = ['MV', 'MAD', 'MSV', 'FLPM', 'SLPM', 'CVaR',\n",
    "       'EVaR', 'WR', 'MDD', 'ADD', 'CDaR', 'UCI', 'EDaR']\n",
    "\n",
    "w_s = pd.DataFrame([])\n",
    "\n",
    "for i in rms:\n",
    "    w = port.optimization(model=model, rm=i, obj=obj, rf=rf, l=l, hist=hist)\n",
    "    w_s = pd.concat([w_s, w], axis=1)\n",
    "    \n",
    "w_s.columns = rms"
   ]
  },
  {
   "cell_type": "code",
   "execution_count": 59,
   "metadata": {
    "ExecuteTime": {
     "end_time": "2021-03-10T07:17:31.171725Z",
     "start_time": "2021-03-10T07:17:30.959042Z"
    }
   },
   "outputs": [
    {
     "data": {
      "text/html": [
       "<style  type=\"text/css\" >\n",
       "#T_ad7176aa_8170_11eb_b64e_00e04cb67382row0_col0,#T_ad7176aa_8170_11eb_b64e_00e04cb67382row0_col1,#T_ad7176aa_8170_11eb_b64e_00e04cb67382row0_col2,#T_ad7176aa_8170_11eb_b64e_00e04cb67382row0_col3,#T_ad7176aa_8170_11eb_b64e_00e04cb67382row0_col4,#T_ad7176aa_8170_11eb_b64e_00e04cb67382row0_col5,#T_ad7176aa_8170_11eb_b64e_00e04cb67382row0_col6,#T_ad7176aa_8170_11eb_b64e_00e04cb67382row0_col7,#T_ad7176aa_8170_11eb_b64e_00e04cb67382row0_col8,#T_ad7176aa_8170_11eb_b64e_00e04cb67382row0_col9,#T_ad7176aa_8170_11eb_b64e_00e04cb67382row0_col10,#T_ad7176aa_8170_11eb_b64e_00e04cb67382row0_col11,#T_ad7176aa_8170_11eb_b64e_00e04cb67382row0_col12,#T_ad7176aa_8170_11eb_b64e_00e04cb67382row2_col0,#T_ad7176aa_8170_11eb_b64e_00e04cb67382row2_col1,#T_ad7176aa_8170_11eb_b64e_00e04cb67382row2_col2,#T_ad7176aa_8170_11eb_b64e_00e04cb67382row2_col3,#T_ad7176aa_8170_11eb_b64e_00e04cb67382row2_col4,#T_ad7176aa_8170_11eb_b64e_00e04cb67382row2_col5,#T_ad7176aa_8170_11eb_b64e_00e04cb67382row2_col6,#T_ad7176aa_8170_11eb_b64e_00e04cb67382row2_col7,#T_ad7176aa_8170_11eb_b64e_00e04cb67382row2_col8,#T_ad7176aa_8170_11eb_b64e_00e04cb67382row2_col9,#T_ad7176aa_8170_11eb_b64e_00e04cb67382row2_col10,#T_ad7176aa_8170_11eb_b64e_00e04cb67382row2_col11,#T_ad7176aa_8170_11eb_b64e_00e04cb67382row2_col12,#T_ad7176aa_8170_11eb_b64e_00e04cb67382row3_col0,#T_ad7176aa_8170_11eb_b64e_00e04cb67382row3_col1,#T_ad7176aa_8170_11eb_b64e_00e04cb67382row3_col2,#T_ad7176aa_8170_11eb_b64e_00e04cb67382row3_col3,#T_ad7176aa_8170_11eb_b64e_00e04cb67382row3_col4,#T_ad7176aa_8170_11eb_b64e_00e04cb67382row3_col5,#T_ad7176aa_8170_11eb_b64e_00e04cb67382row3_col6,#T_ad7176aa_8170_11eb_b64e_00e04cb67382row3_col7,#T_ad7176aa_8170_11eb_b64e_00e04cb67382row3_col8,#T_ad7176aa_8170_11eb_b64e_00e04cb67382row3_col9,#T_ad7176aa_8170_11eb_b64e_00e04cb67382row3_col10,#T_ad7176aa_8170_11eb_b64e_00e04cb67382row3_col11,#T_ad7176aa_8170_11eb_b64e_00e04cb67382row3_col12,#T_ad7176aa_8170_11eb_b64e_00e04cb67382row4_col0,#T_ad7176aa_8170_11eb_b64e_00e04cb67382row4_col1,#T_ad7176aa_8170_11eb_b64e_00e04cb67382row4_col2,#T_ad7176aa_8170_11eb_b64e_00e04cb67382row4_col3,#T_ad7176aa_8170_11eb_b64e_00e04cb67382row4_col4,#T_ad7176aa_8170_11eb_b64e_00e04cb67382row4_col5,#T_ad7176aa_8170_11eb_b64e_00e04cb67382row4_col6,#T_ad7176aa_8170_11eb_b64e_00e04cb67382row4_col7,#T_ad7176aa_8170_11eb_b64e_00e04cb67382row4_col8,#T_ad7176aa_8170_11eb_b64e_00e04cb67382row4_col9,#T_ad7176aa_8170_11eb_b64e_00e04cb67382row4_col10,#T_ad7176aa_8170_11eb_b64e_00e04cb67382row4_col11,#T_ad7176aa_8170_11eb_b64e_00e04cb67382row4_col12,#T_ad7176aa_8170_11eb_b64e_00e04cb67382row5_col0,#T_ad7176aa_8170_11eb_b64e_00e04cb67382row5_col1,#T_ad7176aa_8170_11eb_b64e_00e04cb67382row5_col2,#T_ad7176aa_8170_11eb_b64e_00e04cb67382row5_col3,#T_ad7176aa_8170_11eb_b64e_00e04cb67382row5_col4,#T_ad7176aa_8170_11eb_b64e_00e04cb67382row5_col5,#T_ad7176aa_8170_11eb_b64e_00e04cb67382row5_col6,#T_ad7176aa_8170_11eb_b64e_00e04cb67382row5_col7,#T_ad7176aa_8170_11eb_b64e_00e04cb67382row5_col8,#T_ad7176aa_8170_11eb_b64e_00e04cb67382row5_col9,#T_ad7176aa_8170_11eb_b64e_00e04cb67382row5_col10,#T_ad7176aa_8170_11eb_b64e_00e04cb67382row5_col11,#T_ad7176aa_8170_11eb_b64e_00e04cb67382row5_col12,#T_ad7176aa_8170_11eb_b64e_00e04cb67382row6_col0,#T_ad7176aa_8170_11eb_b64e_00e04cb67382row6_col1,#T_ad7176aa_8170_11eb_b64e_00e04cb67382row6_col2,#T_ad7176aa_8170_11eb_b64e_00e04cb67382row6_col3,#T_ad7176aa_8170_11eb_b64e_00e04cb67382row6_col4,#T_ad7176aa_8170_11eb_b64e_00e04cb67382row6_col5,#T_ad7176aa_8170_11eb_b64e_00e04cb67382row6_col6,#T_ad7176aa_8170_11eb_b64e_00e04cb67382row6_col7,#T_ad7176aa_8170_11eb_b64e_00e04cb67382row6_col8,#T_ad7176aa_8170_11eb_b64e_00e04cb67382row6_col9,#T_ad7176aa_8170_11eb_b64e_00e04cb67382row6_col10,#T_ad7176aa_8170_11eb_b64e_00e04cb67382row6_col11,#T_ad7176aa_8170_11eb_b64e_00e04cb67382row6_col12,#T_ad7176aa_8170_11eb_b64e_00e04cb67382row7_col0,#T_ad7176aa_8170_11eb_b64e_00e04cb67382row7_col1,#T_ad7176aa_8170_11eb_b64e_00e04cb67382row7_col2,#T_ad7176aa_8170_11eb_b64e_00e04cb67382row7_col3,#T_ad7176aa_8170_11eb_b64e_00e04cb67382row7_col4,#T_ad7176aa_8170_11eb_b64e_00e04cb67382row7_col5,#T_ad7176aa_8170_11eb_b64e_00e04cb67382row7_col6,#T_ad7176aa_8170_11eb_b64e_00e04cb67382row7_col7,#T_ad7176aa_8170_11eb_b64e_00e04cb67382row7_col8,#T_ad7176aa_8170_11eb_b64e_00e04cb67382row7_col9,#T_ad7176aa_8170_11eb_b64e_00e04cb67382row7_col10,#T_ad7176aa_8170_11eb_b64e_00e04cb67382row7_col11,#T_ad7176aa_8170_11eb_b64e_00e04cb67382row7_col12,#T_ad7176aa_8170_11eb_b64e_00e04cb67382row8_col0,#T_ad7176aa_8170_11eb_b64e_00e04cb67382row8_col1,#T_ad7176aa_8170_11eb_b64e_00e04cb67382row8_col2,#T_ad7176aa_8170_11eb_b64e_00e04cb67382row8_col3,#T_ad7176aa_8170_11eb_b64e_00e04cb67382row8_col4,#T_ad7176aa_8170_11eb_b64e_00e04cb67382row8_col5,#T_ad7176aa_8170_11eb_b64e_00e04cb67382row8_col6,#T_ad7176aa_8170_11eb_b64e_00e04cb67382row8_col7,#T_ad7176aa_8170_11eb_b64e_00e04cb67382row8_col8,#T_ad7176aa_8170_11eb_b64e_00e04cb67382row8_col9,#T_ad7176aa_8170_11eb_b64e_00e04cb67382row8_col10,#T_ad7176aa_8170_11eb_b64e_00e04cb67382row8_col11,#T_ad7176aa_8170_11eb_b64e_00e04cb67382row8_col12,#T_ad7176aa_8170_11eb_b64e_00e04cb67382row9_col0,#T_ad7176aa_8170_11eb_b64e_00e04cb67382row9_col1,#T_ad7176aa_8170_11eb_b64e_00e04cb67382row9_col2,#T_ad7176aa_8170_11eb_b64e_00e04cb67382row9_col3,#T_ad7176aa_8170_11eb_b64e_00e04cb67382row9_col4,#T_ad7176aa_8170_11eb_b64e_00e04cb67382row9_col5,#T_ad7176aa_8170_11eb_b64e_00e04cb67382row9_col6,#T_ad7176aa_8170_11eb_b64e_00e04cb67382row9_col7,#T_ad7176aa_8170_11eb_b64e_00e04cb67382row9_col8,#T_ad7176aa_8170_11eb_b64e_00e04cb67382row9_col9,#T_ad7176aa_8170_11eb_b64e_00e04cb67382row9_col10,#T_ad7176aa_8170_11eb_b64e_00e04cb67382row9_col11,#T_ad7176aa_8170_11eb_b64e_00e04cb67382row9_col12,#T_ad7176aa_8170_11eb_b64e_00e04cb67382row10_col0,#T_ad7176aa_8170_11eb_b64e_00e04cb67382row10_col1,#T_ad7176aa_8170_11eb_b64e_00e04cb67382row10_col2,#T_ad7176aa_8170_11eb_b64e_00e04cb67382row10_col3,#T_ad7176aa_8170_11eb_b64e_00e04cb67382row10_col4,#T_ad7176aa_8170_11eb_b64e_00e04cb67382row10_col5,#T_ad7176aa_8170_11eb_b64e_00e04cb67382row10_col6,#T_ad7176aa_8170_11eb_b64e_00e04cb67382row10_col7,#T_ad7176aa_8170_11eb_b64e_00e04cb67382row10_col8,#T_ad7176aa_8170_11eb_b64e_00e04cb67382row10_col9,#T_ad7176aa_8170_11eb_b64e_00e04cb67382row10_col10,#T_ad7176aa_8170_11eb_b64e_00e04cb67382row10_col11,#T_ad7176aa_8170_11eb_b64e_00e04cb67382row10_col12,#T_ad7176aa_8170_11eb_b64e_00e04cb67382row11_col0,#T_ad7176aa_8170_11eb_b64e_00e04cb67382row11_col1,#T_ad7176aa_8170_11eb_b64e_00e04cb67382row11_col2,#T_ad7176aa_8170_11eb_b64e_00e04cb67382row11_col3,#T_ad7176aa_8170_11eb_b64e_00e04cb67382row11_col4,#T_ad7176aa_8170_11eb_b64e_00e04cb67382row11_col5,#T_ad7176aa_8170_11eb_b64e_00e04cb67382row11_col8,#T_ad7176aa_8170_11eb_b64e_00e04cb67382row11_col9,#T_ad7176aa_8170_11eb_b64e_00e04cb67382row11_col10,#T_ad7176aa_8170_11eb_b64e_00e04cb67382row11_col11,#T_ad7176aa_8170_11eb_b64e_00e04cb67382row11_col12,#T_ad7176aa_8170_11eb_b64e_00e04cb67382row12_col0,#T_ad7176aa_8170_11eb_b64e_00e04cb67382row12_col1,#T_ad7176aa_8170_11eb_b64e_00e04cb67382row12_col2,#T_ad7176aa_8170_11eb_b64e_00e04cb67382row12_col3,#T_ad7176aa_8170_11eb_b64e_00e04cb67382row12_col4,#T_ad7176aa_8170_11eb_b64e_00e04cb67382row12_col5,#T_ad7176aa_8170_11eb_b64e_00e04cb67382row12_col6,#T_ad7176aa_8170_11eb_b64e_00e04cb67382row12_col7,#T_ad7176aa_8170_11eb_b64e_00e04cb67382row12_col8,#T_ad7176aa_8170_11eb_b64e_00e04cb67382row12_col9,#T_ad7176aa_8170_11eb_b64e_00e04cb67382row12_col10,#T_ad7176aa_8170_11eb_b64e_00e04cb67382row12_col11,#T_ad7176aa_8170_11eb_b64e_00e04cb67382row12_col12,#T_ad7176aa_8170_11eb_b64e_00e04cb67382row13_col0,#T_ad7176aa_8170_11eb_b64e_00e04cb67382row13_col1,#T_ad7176aa_8170_11eb_b64e_00e04cb67382row13_col2,#T_ad7176aa_8170_11eb_b64e_00e04cb67382row13_col3,#T_ad7176aa_8170_11eb_b64e_00e04cb67382row13_col4,#T_ad7176aa_8170_11eb_b64e_00e04cb67382row13_col5,#T_ad7176aa_8170_11eb_b64e_00e04cb67382row13_col6,#T_ad7176aa_8170_11eb_b64e_00e04cb67382row13_col7,#T_ad7176aa_8170_11eb_b64e_00e04cb67382row13_col8,#T_ad7176aa_8170_11eb_b64e_00e04cb67382row13_col9,#T_ad7176aa_8170_11eb_b64e_00e04cb67382row13_col10,#T_ad7176aa_8170_11eb_b64e_00e04cb67382row13_col11,#T_ad7176aa_8170_11eb_b64e_00e04cb67382row13_col12,#T_ad7176aa_8170_11eb_b64e_00e04cb67382row14_col0,#T_ad7176aa_8170_11eb_b64e_00e04cb67382row14_col1,#T_ad7176aa_8170_11eb_b64e_00e04cb67382row14_col2,#T_ad7176aa_8170_11eb_b64e_00e04cb67382row14_col3,#T_ad7176aa_8170_11eb_b64e_00e04cb67382row14_col4,#T_ad7176aa_8170_11eb_b64e_00e04cb67382row14_col5,#T_ad7176aa_8170_11eb_b64e_00e04cb67382row14_col6,#T_ad7176aa_8170_11eb_b64e_00e04cb67382row14_col7,#T_ad7176aa_8170_11eb_b64e_00e04cb67382row14_col8,#T_ad7176aa_8170_11eb_b64e_00e04cb67382row14_col9,#T_ad7176aa_8170_11eb_b64e_00e04cb67382row14_col10,#T_ad7176aa_8170_11eb_b64e_00e04cb67382row14_col11,#T_ad7176aa_8170_11eb_b64e_00e04cb67382row14_col12,#T_ad7176aa_8170_11eb_b64e_00e04cb67382row15_col1,#T_ad7176aa_8170_11eb_b64e_00e04cb67382row15_col2,#T_ad7176aa_8170_11eb_b64e_00e04cb67382row15_col3,#T_ad7176aa_8170_11eb_b64e_00e04cb67382row15_col4,#T_ad7176aa_8170_11eb_b64e_00e04cb67382row15_col5,#T_ad7176aa_8170_11eb_b64e_00e04cb67382row15_col6,#T_ad7176aa_8170_11eb_b64e_00e04cb67382row15_col7,#T_ad7176aa_8170_11eb_b64e_00e04cb67382row15_col9,#T_ad7176aa_8170_11eb_b64e_00e04cb67382row15_col11,#T_ad7176aa_8170_11eb_b64e_00e04cb67382row16_col0,#T_ad7176aa_8170_11eb_b64e_00e04cb67382row16_col1,#T_ad7176aa_8170_11eb_b64e_00e04cb67382row16_col2,#T_ad7176aa_8170_11eb_b64e_00e04cb67382row16_col3,#T_ad7176aa_8170_11eb_b64e_00e04cb67382row16_col4,#T_ad7176aa_8170_11eb_b64e_00e04cb67382row16_col5,#T_ad7176aa_8170_11eb_b64e_00e04cb67382row16_col6,#T_ad7176aa_8170_11eb_b64e_00e04cb67382row16_col7,#T_ad7176aa_8170_11eb_b64e_00e04cb67382row16_col8,#T_ad7176aa_8170_11eb_b64e_00e04cb67382row16_col9,#T_ad7176aa_8170_11eb_b64e_00e04cb67382row16_col10,#T_ad7176aa_8170_11eb_b64e_00e04cb67382row16_col11,#T_ad7176aa_8170_11eb_b64e_00e04cb67382row16_col12,#T_ad7176aa_8170_11eb_b64e_00e04cb67382row17_col0,#T_ad7176aa_8170_11eb_b64e_00e04cb67382row17_col1,#T_ad7176aa_8170_11eb_b64e_00e04cb67382row17_col2,#T_ad7176aa_8170_11eb_b64e_00e04cb67382row17_col3,#T_ad7176aa_8170_11eb_b64e_00e04cb67382row17_col4,#T_ad7176aa_8170_11eb_b64e_00e04cb67382row17_col5,#T_ad7176aa_8170_11eb_b64e_00e04cb67382row17_col6,#T_ad7176aa_8170_11eb_b64e_00e04cb67382row17_col7,#T_ad7176aa_8170_11eb_b64e_00e04cb67382row17_col8,#T_ad7176aa_8170_11eb_b64e_00e04cb67382row17_col9,#T_ad7176aa_8170_11eb_b64e_00e04cb67382row17_col10,#T_ad7176aa_8170_11eb_b64e_00e04cb67382row17_col11,#T_ad7176aa_8170_11eb_b64e_00e04cb67382row17_col12,#T_ad7176aa_8170_11eb_b64e_00e04cb67382row18_col0,#T_ad7176aa_8170_11eb_b64e_00e04cb67382row18_col1,#T_ad7176aa_8170_11eb_b64e_00e04cb67382row18_col2,#T_ad7176aa_8170_11eb_b64e_00e04cb67382row18_col3,#T_ad7176aa_8170_11eb_b64e_00e04cb67382row18_col4,#T_ad7176aa_8170_11eb_b64e_00e04cb67382row18_col5,#T_ad7176aa_8170_11eb_b64e_00e04cb67382row18_col6,#T_ad7176aa_8170_11eb_b64e_00e04cb67382row18_col7,#T_ad7176aa_8170_11eb_b64e_00e04cb67382row18_col8,#T_ad7176aa_8170_11eb_b64e_00e04cb67382row18_col9,#T_ad7176aa_8170_11eb_b64e_00e04cb67382row18_col10,#T_ad7176aa_8170_11eb_b64e_00e04cb67382row18_col11,#T_ad7176aa_8170_11eb_b64e_00e04cb67382row18_col12,#T_ad7176aa_8170_11eb_b64e_00e04cb67382row19_col0,#T_ad7176aa_8170_11eb_b64e_00e04cb67382row19_col1,#T_ad7176aa_8170_11eb_b64e_00e04cb67382row19_col2,#T_ad7176aa_8170_11eb_b64e_00e04cb67382row19_col3,#T_ad7176aa_8170_11eb_b64e_00e04cb67382row19_col4,#T_ad7176aa_8170_11eb_b64e_00e04cb67382row19_col5,#T_ad7176aa_8170_11eb_b64e_00e04cb67382row19_col6,#T_ad7176aa_8170_11eb_b64e_00e04cb67382row19_col7,#T_ad7176aa_8170_11eb_b64e_00e04cb67382row19_col8,#T_ad7176aa_8170_11eb_b64e_00e04cb67382row19_col9,#T_ad7176aa_8170_11eb_b64e_00e04cb67382row19_col10,#T_ad7176aa_8170_11eb_b64e_00e04cb67382row19_col11,#T_ad7176aa_8170_11eb_b64e_00e04cb67382row19_col12,#T_ad7176aa_8170_11eb_b64e_00e04cb67382row20_col0,#T_ad7176aa_8170_11eb_b64e_00e04cb67382row20_col1,#T_ad7176aa_8170_11eb_b64e_00e04cb67382row20_col2,#T_ad7176aa_8170_11eb_b64e_00e04cb67382row20_col3,#T_ad7176aa_8170_11eb_b64e_00e04cb67382row20_col4,#T_ad7176aa_8170_11eb_b64e_00e04cb67382row20_col5,#T_ad7176aa_8170_11eb_b64e_00e04cb67382row20_col6,#T_ad7176aa_8170_11eb_b64e_00e04cb67382row20_col7,#T_ad7176aa_8170_11eb_b64e_00e04cb67382row20_col8,#T_ad7176aa_8170_11eb_b64e_00e04cb67382row20_col9,#T_ad7176aa_8170_11eb_b64e_00e04cb67382row20_col10,#T_ad7176aa_8170_11eb_b64e_00e04cb67382row20_col11,#T_ad7176aa_8170_11eb_b64e_00e04cb67382row20_col12,#T_ad7176aa_8170_11eb_b64e_00e04cb67382row21_col0,#T_ad7176aa_8170_11eb_b64e_00e04cb67382row21_col1,#T_ad7176aa_8170_11eb_b64e_00e04cb67382row21_col2,#T_ad7176aa_8170_11eb_b64e_00e04cb67382row21_col3,#T_ad7176aa_8170_11eb_b64e_00e04cb67382row21_col4,#T_ad7176aa_8170_11eb_b64e_00e04cb67382row21_col5,#T_ad7176aa_8170_11eb_b64e_00e04cb67382row21_col6,#T_ad7176aa_8170_11eb_b64e_00e04cb67382row21_col7,#T_ad7176aa_8170_11eb_b64e_00e04cb67382row21_col8,#T_ad7176aa_8170_11eb_b64e_00e04cb67382row21_col10,#T_ad7176aa_8170_11eb_b64e_00e04cb67382row21_col12,#T_ad7176aa_8170_11eb_b64e_00e04cb67382row22_col0,#T_ad7176aa_8170_11eb_b64e_00e04cb67382row22_col1,#T_ad7176aa_8170_11eb_b64e_00e04cb67382row22_col2,#T_ad7176aa_8170_11eb_b64e_00e04cb67382row22_col3,#T_ad7176aa_8170_11eb_b64e_00e04cb67382row22_col4,#T_ad7176aa_8170_11eb_b64e_00e04cb67382row22_col5,#T_ad7176aa_8170_11eb_b64e_00e04cb67382row22_col6,#T_ad7176aa_8170_11eb_b64e_00e04cb67382row22_col7,#T_ad7176aa_8170_11eb_b64e_00e04cb67382row22_col8,#T_ad7176aa_8170_11eb_b64e_00e04cb67382row22_col9,#T_ad7176aa_8170_11eb_b64e_00e04cb67382row22_col10,#T_ad7176aa_8170_11eb_b64e_00e04cb67382row22_col11,#T_ad7176aa_8170_11eb_b64e_00e04cb67382row22_col12,#T_ad7176aa_8170_11eb_b64e_00e04cb67382row23_col0,#T_ad7176aa_8170_11eb_b64e_00e04cb67382row23_col1,#T_ad7176aa_8170_11eb_b64e_00e04cb67382row23_col2,#T_ad7176aa_8170_11eb_b64e_00e04cb67382row23_col3,#T_ad7176aa_8170_11eb_b64e_00e04cb67382row23_col4,#T_ad7176aa_8170_11eb_b64e_00e04cb67382row23_col5,#T_ad7176aa_8170_11eb_b64e_00e04cb67382row23_col6,#T_ad7176aa_8170_11eb_b64e_00e04cb67382row23_col7,#T_ad7176aa_8170_11eb_b64e_00e04cb67382row23_col8,#T_ad7176aa_8170_11eb_b64e_00e04cb67382row23_col9,#T_ad7176aa_8170_11eb_b64e_00e04cb67382row23_col10,#T_ad7176aa_8170_11eb_b64e_00e04cb67382row23_col11,#T_ad7176aa_8170_11eb_b64e_00e04cb67382row23_col12,#T_ad7176aa_8170_11eb_b64e_00e04cb67382row24_col0,#T_ad7176aa_8170_11eb_b64e_00e04cb67382row24_col1,#T_ad7176aa_8170_11eb_b64e_00e04cb67382row24_col2,#T_ad7176aa_8170_11eb_b64e_00e04cb67382row24_col3,#T_ad7176aa_8170_11eb_b64e_00e04cb67382row24_col4,#T_ad7176aa_8170_11eb_b64e_00e04cb67382row24_col5,#T_ad7176aa_8170_11eb_b64e_00e04cb67382row24_col6,#T_ad7176aa_8170_11eb_b64e_00e04cb67382row24_col7,#T_ad7176aa_8170_11eb_b64e_00e04cb67382row24_col8,#T_ad7176aa_8170_11eb_b64e_00e04cb67382row24_col9,#T_ad7176aa_8170_11eb_b64e_00e04cb67382row24_col10,#T_ad7176aa_8170_11eb_b64e_00e04cb67382row24_col11,#T_ad7176aa_8170_11eb_b64e_00e04cb67382row24_col12,#T_ad7176aa_8170_11eb_b64e_00e04cb67382row25_col0,#T_ad7176aa_8170_11eb_b64e_00e04cb67382row25_col1,#T_ad7176aa_8170_11eb_b64e_00e04cb67382row25_col2,#T_ad7176aa_8170_11eb_b64e_00e04cb67382row25_col3,#T_ad7176aa_8170_11eb_b64e_00e04cb67382row25_col4,#T_ad7176aa_8170_11eb_b64e_00e04cb67382row25_col5,#T_ad7176aa_8170_11eb_b64e_00e04cb67382row25_col6,#T_ad7176aa_8170_11eb_b64e_00e04cb67382row25_col7,#T_ad7176aa_8170_11eb_b64e_00e04cb67382row25_col8,#T_ad7176aa_8170_11eb_b64e_00e04cb67382row25_col9,#T_ad7176aa_8170_11eb_b64e_00e04cb67382row25_col10,#T_ad7176aa_8170_11eb_b64e_00e04cb67382row25_col11,#T_ad7176aa_8170_11eb_b64e_00e04cb67382row25_col12,#T_ad7176aa_8170_11eb_b64e_00e04cb67382row26_col0,#T_ad7176aa_8170_11eb_b64e_00e04cb67382row26_col1,#T_ad7176aa_8170_11eb_b64e_00e04cb67382row26_col2,#T_ad7176aa_8170_11eb_b64e_00e04cb67382row26_col3,#T_ad7176aa_8170_11eb_b64e_00e04cb67382row26_col4,#T_ad7176aa_8170_11eb_b64e_00e04cb67382row26_col5,#T_ad7176aa_8170_11eb_b64e_00e04cb67382row26_col6,#T_ad7176aa_8170_11eb_b64e_00e04cb67382row26_col7,#T_ad7176aa_8170_11eb_b64e_00e04cb67382row27_col0,#T_ad7176aa_8170_11eb_b64e_00e04cb67382row27_col1,#T_ad7176aa_8170_11eb_b64e_00e04cb67382row27_col2,#T_ad7176aa_8170_11eb_b64e_00e04cb67382row27_col3,#T_ad7176aa_8170_11eb_b64e_00e04cb67382row27_col4,#T_ad7176aa_8170_11eb_b64e_00e04cb67382row27_col5,#T_ad7176aa_8170_11eb_b64e_00e04cb67382row27_col6,#T_ad7176aa_8170_11eb_b64e_00e04cb67382row27_col7,#T_ad7176aa_8170_11eb_b64e_00e04cb67382row27_col8,#T_ad7176aa_8170_11eb_b64e_00e04cb67382row27_col9,#T_ad7176aa_8170_11eb_b64e_00e04cb67382row27_col10,#T_ad7176aa_8170_11eb_b64e_00e04cb67382row27_col11,#T_ad7176aa_8170_11eb_b64e_00e04cb67382row27_col12,#T_ad7176aa_8170_11eb_b64e_00e04cb67382row28_col0,#T_ad7176aa_8170_11eb_b64e_00e04cb67382row28_col1,#T_ad7176aa_8170_11eb_b64e_00e04cb67382row28_col2,#T_ad7176aa_8170_11eb_b64e_00e04cb67382row28_col3,#T_ad7176aa_8170_11eb_b64e_00e04cb67382row28_col4,#T_ad7176aa_8170_11eb_b64e_00e04cb67382row28_col5,#T_ad7176aa_8170_11eb_b64e_00e04cb67382row28_col6,#T_ad7176aa_8170_11eb_b64e_00e04cb67382row28_col7,#T_ad7176aa_8170_11eb_b64e_00e04cb67382row28_col8,#T_ad7176aa_8170_11eb_b64e_00e04cb67382row28_col9,#T_ad7176aa_8170_11eb_b64e_00e04cb67382row28_col10,#T_ad7176aa_8170_11eb_b64e_00e04cb67382row28_col11,#T_ad7176aa_8170_11eb_b64e_00e04cb67382row28_col12,#T_ad7176aa_8170_11eb_b64e_00e04cb67382row29_col0,#T_ad7176aa_8170_11eb_b64e_00e04cb67382row29_col1,#T_ad7176aa_8170_11eb_b64e_00e04cb67382row29_col2,#T_ad7176aa_8170_11eb_b64e_00e04cb67382row29_col3,#T_ad7176aa_8170_11eb_b64e_00e04cb67382row29_col4,#T_ad7176aa_8170_11eb_b64e_00e04cb67382row29_col5,#T_ad7176aa_8170_11eb_b64e_00e04cb67382row29_col6,#T_ad7176aa_8170_11eb_b64e_00e04cb67382row29_col7,#T_ad7176aa_8170_11eb_b64e_00e04cb67382row29_col8,#T_ad7176aa_8170_11eb_b64e_00e04cb67382row29_col9,#T_ad7176aa_8170_11eb_b64e_00e04cb67382row29_col10,#T_ad7176aa_8170_11eb_b64e_00e04cb67382row29_col11,#T_ad7176aa_8170_11eb_b64e_00e04cb67382row29_col12{\n",
       "            background-color:  #ffffe5;\n",
       "            color:  #000000;\n",
       "        }#T_ad7176aa_8170_11eb_b64e_00e04cb67382row1_col0,#T_ad7176aa_8170_11eb_b64e_00e04cb67382row1_col1,#T_ad7176aa_8170_11eb_b64e_00e04cb67382row1_col2,#T_ad7176aa_8170_11eb_b64e_00e04cb67382row1_col3,#T_ad7176aa_8170_11eb_b64e_00e04cb67382row1_col4,#T_ad7176aa_8170_11eb_b64e_00e04cb67382row1_col5,#T_ad7176aa_8170_11eb_b64e_00e04cb67382row1_col6,#T_ad7176aa_8170_11eb_b64e_00e04cb67382row1_col7,#T_ad7176aa_8170_11eb_b64e_00e04cb67382row21_col9,#T_ad7176aa_8170_11eb_b64e_00e04cb67382row26_col8,#T_ad7176aa_8170_11eb_b64e_00e04cb67382row26_col10,#T_ad7176aa_8170_11eb_b64e_00e04cb67382row26_col11,#T_ad7176aa_8170_11eb_b64e_00e04cb67382row26_col12{\n",
       "            background-color:  #004529;\n",
       "            color:  #f1f1f1;\n",
       "        }#T_ad7176aa_8170_11eb_b64e_00e04cb67382row1_col8,#T_ad7176aa_8170_11eb_b64e_00e04cb67382row1_col10,#T_ad7176aa_8170_11eb_b64e_00e04cb67382row1_col12{\n",
       "            background-color:  #79c679;\n",
       "            color:  #000000;\n",
       "        }#T_ad7176aa_8170_11eb_b64e_00e04cb67382row1_col9{\n",
       "            background-color:  #3ba358;\n",
       "            color:  #000000;\n",
       "        }#T_ad7176aa_8170_11eb_b64e_00e04cb67382row1_col11{\n",
       "            background-color:  #12763d;\n",
       "            color:  #f1f1f1;\n",
       "        }#T_ad7176aa_8170_11eb_b64e_00e04cb67382row11_col6{\n",
       "            background-color:  #def2a7;\n",
       "            color:  #000000;\n",
       "        }#T_ad7176aa_8170_11eb_b64e_00e04cb67382row11_col7{\n",
       "            background-color:  #bde496;\n",
       "            color:  #000000;\n",
       "        }#T_ad7176aa_8170_11eb_b64e_00e04cb67382row15_col0{\n",
       "            background-color:  #d5eea1;\n",
       "            color:  #000000;\n",
       "        }#T_ad7176aa_8170_11eb_b64e_00e04cb67382row15_col8,#T_ad7176aa_8170_11eb_b64e_00e04cb67382row15_col10,#T_ad7176aa_8170_11eb_b64e_00e04cb67382row15_col12{\n",
       "            background-color:  #f8fdc1;\n",
       "            color:  #000000;\n",
       "        }#T_ad7176aa_8170_11eb_b64e_00e04cb67382row21_col11{\n",
       "            background-color:  #c5e89a;\n",
       "            color:  #000000;\n",
       "        }#T_ad7176aa_8170_11eb_b64e_00e04cb67382row26_col9{\n",
       "            background-color:  #7cc87b;\n",
       "            color:  #000000;\n",
       "        }</style><table id=\"T_ad7176aa_8170_11eb_b64e_00e04cb67382\" ><thead>    <tr>        <th class=\"blank level0\" ></th>        <th class=\"col_heading level0 col0\" >MV</th>        <th class=\"col_heading level0 col1\" >MAD</th>        <th class=\"col_heading level0 col2\" >MSV</th>        <th class=\"col_heading level0 col3\" >FLPM</th>        <th class=\"col_heading level0 col4\" >SLPM</th>        <th class=\"col_heading level0 col5\" >CVaR</th>        <th class=\"col_heading level0 col6\" >EVaR</th>        <th class=\"col_heading level0 col7\" >WR</th>        <th class=\"col_heading level0 col8\" >MDD</th>        <th class=\"col_heading level0 col9\" >ADD</th>        <th class=\"col_heading level0 col10\" >CDaR</th>        <th class=\"col_heading level0 col11\" >UCI</th>        <th class=\"col_heading level0 col12\" >EDaR</th>    </tr></thead><tbody>\n",
       "                <tr>\n",
       "                        <th id=\"T_ad7176aa_8170_11eb_b64e_00e04cb67382level0_row0\" class=\"row_heading level0 row0\" >A069500</th>\n",
       "                        <td id=\"T_ad7176aa_8170_11eb_b64e_00e04cb67382row0_col0\" class=\"data row0 col0\" >0.00%</td>\n",
       "                        <td id=\"T_ad7176aa_8170_11eb_b64e_00e04cb67382row0_col1\" class=\"data row0 col1\" >0.00%</td>\n",
       "                        <td id=\"T_ad7176aa_8170_11eb_b64e_00e04cb67382row0_col2\" class=\"data row0 col2\" >0.00%</td>\n",
       "                        <td id=\"T_ad7176aa_8170_11eb_b64e_00e04cb67382row0_col3\" class=\"data row0 col3\" >0.00%</td>\n",
       "                        <td id=\"T_ad7176aa_8170_11eb_b64e_00e04cb67382row0_col4\" class=\"data row0 col4\" >0.00%</td>\n",
       "                        <td id=\"T_ad7176aa_8170_11eb_b64e_00e04cb67382row0_col5\" class=\"data row0 col5\" >0.00%</td>\n",
       "                        <td id=\"T_ad7176aa_8170_11eb_b64e_00e04cb67382row0_col6\" class=\"data row0 col6\" >0.00%</td>\n",
       "                        <td id=\"T_ad7176aa_8170_11eb_b64e_00e04cb67382row0_col7\" class=\"data row0 col7\" >0.00%</td>\n",
       "                        <td id=\"T_ad7176aa_8170_11eb_b64e_00e04cb67382row0_col8\" class=\"data row0 col8\" >0.00%</td>\n",
       "                        <td id=\"T_ad7176aa_8170_11eb_b64e_00e04cb67382row0_col9\" class=\"data row0 col9\" >0.00%</td>\n",
       "                        <td id=\"T_ad7176aa_8170_11eb_b64e_00e04cb67382row0_col10\" class=\"data row0 col10\" >0.00%</td>\n",
       "                        <td id=\"T_ad7176aa_8170_11eb_b64e_00e04cb67382row0_col11\" class=\"data row0 col11\" >0.00%</td>\n",
       "                        <td id=\"T_ad7176aa_8170_11eb_b64e_00e04cb67382row0_col12\" class=\"data row0 col12\" >0.00%</td>\n",
       "            </tr>\n",
       "            <tr>\n",
       "                        <th id=\"T_ad7176aa_8170_11eb_b64e_00e04cb67382level0_row1\" class=\"row_heading level0 row1\" >A091160</th>\n",
       "                        <td id=\"T_ad7176aa_8170_11eb_b64e_00e04cb67382row1_col0\" class=\"data row1 col0\" >79.12%</td>\n",
       "                        <td id=\"T_ad7176aa_8170_11eb_b64e_00e04cb67382row1_col1\" class=\"data row1 col1\" >100.00%</td>\n",
       "                        <td id=\"T_ad7176aa_8170_11eb_b64e_00e04cb67382row1_col2\" class=\"data row1 col2\" >100.00%</td>\n",
       "                        <td id=\"T_ad7176aa_8170_11eb_b64e_00e04cb67382row1_col3\" class=\"data row1 col3\" >100.00%</td>\n",
       "                        <td id=\"T_ad7176aa_8170_11eb_b64e_00e04cb67382row1_col4\" class=\"data row1 col4\" >100.00%</td>\n",
       "                        <td id=\"T_ad7176aa_8170_11eb_b64e_00e04cb67382row1_col5\" class=\"data row1 col5\" >100.00%</td>\n",
       "                        <td id=\"T_ad7176aa_8170_11eb_b64e_00e04cb67382row1_col6\" class=\"data row1 col6\" >81.46%</td>\n",
       "                        <td id=\"T_ad7176aa_8170_11eb_b64e_00e04cb67382row1_col7\" class=\"data row1 col7\" >75.12%</td>\n",
       "                        <td id=\"T_ad7176aa_8170_11eb_b64e_00e04cb67382row1_col8\" class=\"data row1 col8\" >31.03%</td>\n",
       "                        <td id=\"T_ad7176aa_8170_11eb_b64e_00e04cb67382row1_col9\" class=\"data row1 col9\" >30.36%</td>\n",
       "                        <td id=\"T_ad7176aa_8170_11eb_b64e_00e04cb67382row1_col10\" class=\"data row1 col10\" >31.03%</td>\n",
       "                        <td id=\"T_ad7176aa_8170_11eb_b64e_00e04cb67382row1_col11\" class=\"data row1 col11\" >38.36%</td>\n",
       "                        <td id=\"T_ad7176aa_8170_11eb_b64e_00e04cb67382row1_col12\" class=\"data row1 col12\" >31.03%</td>\n",
       "            </tr>\n",
       "            <tr>\n",
       "                        <th id=\"T_ad7176aa_8170_11eb_b64e_00e04cb67382level0_row2\" class=\"row_heading level0 row2\" >A091170</th>\n",
       "                        <td id=\"T_ad7176aa_8170_11eb_b64e_00e04cb67382row2_col0\" class=\"data row2 col0\" >0.00%</td>\n",
       "                        <td id=\"T_ad7176aa_8170_11eb_b64e_00e04cb67382row2_col1\" class=\"data row2 col1\" >0.00%</td>\n",
       "                        <td id=\"T_ad7176aa_8170_11eb_b64e_00e04cb67382row2_col2\" class=\"data row2 col2\" >0.00%</td>\n",
       "                        <td id=\"T_ad7176aa_8170_11eb_b64e_00e04cb67382row2_col3\" class=\"data row2 col3\" >0.00%</td>\n",
       "                        <td id=\"T_ad7176aa_8170_11eb_b64e_00e04cb67382row2_col4\" class=\"data row2 col4\" >0.00%</td>\n",
       "                        <td id=\"T_ad7176aa_8170_11eb_b64e_00e04cb67382row2_col5\" class=\"data row2 col5\" >0.00%</td>\n",
       "                        <td id=\"T_ad7176aa_8170_11eb_b64e_00e04cb67382row2_col6\" class=\"data row2 col6\" >0.00%</td>\n",
       "                        <td id=\"T_ad7176aa_8170_11eb_b64e_00e04cb67382row2_col7\" class=\"data row2 col7\" >0.00%</td>\n",
       "                        <td id=\"T_ad7176aa_8170_11eb_b64e_00e04cb67382row2_col8\" class=\"data row2 col8\" >0.00%</td>\n",
       "                        <td id=\"T_ad7176aa_8170_11eb_b64e_00e04cb67382row2_col9\" class=\"data row2 col9\" >0.00%</td>\n",
       "                        <td id=\"T_ad7176aa_8170_11eb_b64e_00e04cb67382row2_col10\" class=\"data row2 col10\" >0.00%</td>\n",
       "                        <td id=\"T_ad7176aa_8170_11eb_b64e_00e04cb67382row2_col11\" class=\"data row2 col11\" >0.00%</td>\n",
       "                        <td id=\"T_ad7176aa_8170_11eb_b64e_00e04cb67382row2_col12\" class=\"data row2 col12\" >0.00%</td>\n",
       "            </tr>\n",
       "            <tr>\n",
       "                        <th id=\"T_ad7176aa_8170_11eb_b64e_00e04cb67382level0_row3\" class=\"row_heading level0 row3\" >A091180</th>\n",
       "                        <td id=\"T_ad7176aa_8170_11eb_b64e_00e04cb67382row3_col0\" class=\"data row3 col0\" >0.00%</td>\n",
       "                        <td id=\"T_ad7176aa_8170_11eb_b64e_00e04cb67382row3_col1\" class=\"data row3 col1\" >0.00%</td>\n",
       "                        <td id=\"T_ad7176aa_8170_11eb_b64e_00e04cb67382row3_col2\" class=\"data row3 col2\" >0.00%</td>\n",
       "                        <td id=\"T_ad7176aa_8170_11eb_b64e_00e04cb67382row3_col3\" class=\"data row3 col3\" >0.00%</td>\n",
       "                        <td id=\"T_ad7176aa_8170_11eb_b64e_00e04cb67382row3_col4\" class=\"data row3 col4\" >0.00%</td>\n",
       "                        <td id=\"T_ad7176aa_8170_11eb_b64e_00e04cb67382row3_col5\" class=\"data row3 col5\" >0.00%</td>\n",
       "                        <td id=\"T_ad7176aa_8170_11eb_b64e_00e04cb67382row3_col6\" class=\"data row3 col6\" >0.00%</td>\n",
       "                        <td id=\"T_ad7176aa_8170_11eb_b64e_00e04cb67382row3_col7\" class=\"data row3 col7\" >0.00%</td>\n",
       "                        <td id=\"T_ad7176aa_8170_11eb_b64e_00e04cb67382row3_col8\" class=\"data row3 col8\" >0.00%</td>\n",
       "                        <td id=\"T_ad7176aa_8170_11eb_b64e_00e04cb67382row3_col9\" class=\"data row3 col9\" >0.00%</td>\n",
       "                        <td id=\"T_ad7176aa_8170_11eb_b64e_00e04cb67382row3_col10\" class=\"data row3 col10\" >0.00%</td>\n",
       "                        <td id=\"T_ad7176aa_8170_11eb_b64e_00e04cb67382row3_col11\" class=\"data row3 col11\" >0.00%</td>\n",
       "                        <td id=\"T_ad7176aa_8170_11eb_b64e_00e04cb67382row3_col12\" class=\"data row3 col12\" >0.00%</td>\n",
       "            </tr>\n",
       "            <tr>\n",
       "                        <th id=\"T_ad7176aa_8170_11eb_b64e_00e04cb67382level0_row4\" class=\"row_heading level0 row4\" >A102110</th>\n",
       "                        <td id=\"T_ad7176aa_8170_11eb_b64e_00e04cb67382row4_col0\" class=\"data row4 col0\" >0.00%</td>\n",
       "                        <td id=\"T_ad7176aa_8170_11eb_b64e_00e04cb67382row4_col1\" class=\"data row4 col1\" >0.00%</td>\n",
       "                        <td id=\"T_ad7176aa_8170_11eb_b64e_00e04cb67382row4_col2\" class=\"data row4 col2\" >0.00%</td>\n",
       "                        <td id=\"T_ad7176aa_8170_11eb_b64e_00e04cb67382row4_col3\" class=\"data row4 col3\" >0.00%</td>\n",
       "                        <td id=\"T_ad7176aa_8170_11eb_b64e_00e04cb67382row4_col4\" class=\"data row4 col4\" >0.00%</td>\n",
       "                        <td id=\"T_ad7176aa_8170_11eb_b64e_00e04cb67382row4_col5\" class=\"data row4 col5\" >0.00%</td>\n",
       "                        <td id=\"T_ad7176aa_8170_11eb_b64e_00e04cb67382row4_col6\" class=\"data row4 col6\" >0.00%</td>\n",
       "                        <td id=\"T_ad7176aa_8170_11eb_b64e_00e04cb67382row4_col7\" class=\"data row4 col7\" >0.00%</td>\n",
       "                        <td id=\"T_ad7176aa_8170_11eb_b64e_00e04cb67382row4_col8\" class=\"data row4 col8\" >0.00%</td>\n",
       "                        <td id=\"T_ad7176aa_8170_11eb_b64e_00e04cb67382row4_col9\" class=\"data row4 col9\" >0.00%</td>\n",
       "                        <td id=\"T_ad7176aa_8170_11eb_b64e_00e04cb67382row4_col10\" class=\"data row4 col10\" >0.00%</td>\n",
       "                        <td id=\"T_ad7176aa_8170_11eb_b64e_00e04cb67382row4_col11\" class=\"data row4 col11\" >0.00%</td>\n",
       "                        <td id=\"T_ad7176aa_8170_11eb_b64e_00e04cb67382row4_col12\" class=\"data row4 col12\" >0.00%</td>\n",
       "            </tr>\n",
       "            <tr>\n",
       "                        <th id=\"T_ad7176aa_8170_11eb_b64e_00e04cb67382level0_row5\" class=\"row_heading level0 row5\" >A102780</th>\n",
       "                        <td id=\"T_ad7176aa_8170_11eb_b64e_00e04cb67382row5_col0\" class=\"data row5 col0\" >0.00%</td>\n",
       "                        <td id=\"T_ad7176aa_8170_11eb_b64e_00e04cb67382row5_col1\" class=\"data row5 col1\" >0.00%</td>\n",
       "                        <td id=\"T_ad7176aa_8170_11eb_b64e_00e04cb67382row5_col2\" class=\"data row5 col2\" >0.00%</td>\n",
       "                        <td id=\"T_ad7176aa_8170_11eb_b64e_00e04cb67382row5_col3\" class=\"data row5 col3\" >0.00%</td>\n",
       "                        <td id=\"T_ad7176aa_8170_11eb_b64e_00e04cb67382row5_col4\" class=\"data row5 col4\" >0.00%</td>\n",
       "                        <td id=\"T_ad7176aa_8170_11eb_b64e_00e04cb67382row5_col5\" class=\"data row5 col5\" >0.00%</td>\n",
       "                        <td id=\"T_ad7176aa_8170_11eb_b64e_00e04cb67382row5_col6\" class=\"data row5 col6\" >0.00%</td>\n",
       "                        <td id=\"T_ad7176aa_8170_11eb_b64e_00e04cb67382row5_col7\" class=\"data row5 col7\" >0.00%</td>\n",
       "                        <td id=\"T_ad7176aa_8170_11eb_b64e_00e04cb67382row5_col8\" class=\"data row5 col8\" >0.00%</td>\n",
       "                        <td id=\"T_ad7176aa_8170_11eb_b64e_00e04cb67382row5_col9\" class=\"data row5 col9\" >0.00%</td>\n",
       "                        <td id=\"T_ad7176aa_8170_11eb_b64e_00e04cb67382row5_col10\" class=\"data row5 col10\" >0.00%</td>\n",
       "                        <td id=\"T_ad7176aa_8170_11eb_b64e_00e04cb67382row5_col11\" class=\"data row5 col11\" >0.00%</td>\n",
       "                        <td id=\"T_ad7176aa_8170_11eb_b64e_00e04cb67382row5_col12\" class=\"data row5 col12\" >0.00%</td>\n",
       "            </tr>\n",
       "            <tr>\n",
       "                        <th id=\"T_ad7176aa_8170_11eb_b64e_00e04cb67382level0_row6\" class=\"row_heading level0 row6\" >A105190</th>\n",
       "                        <td id=\"T_ad7176aa_8170_11eb_b64e_00e04cb67382row6_col0\" class=\"data row6 col0\" >0.00%</td>\n",
       "                        <td id=\"T_ad7176aa_8170_11eb_b64e_00e04cb67382row6_col1\" class=\"data row6 col1\" >0.00%</td>\n",
       "                        <td id=\"T_ad7176aa_8170_11eb_b64e_00e04cb67382row6_col2\" class=\"data row6 col2\" >0.00%</td>\n",
       "                        <td id=\"T_ad7176aa_8170_11eb_b64e_00e04cb67382row6_col3\" class=\"data row6 col3\" >0.00%</td>\n",
       "                        <td id=\"T_ad7176aa_8170_11eb_b64e_00e04cb67382row6_col4\" class=\"data row6 col4\" >0.00%</td>\n",
       "                        <td id=\"T_ad7176aa_8170_11eb_b64e_00e04cb67382row6_col5\" class=\"data row6 col5\" >0.00%</td>\n",
       "                        <td id=\"T_ad7176aa_8170_11eb_b64e_00e04cb67382row6_col6\" class=\"data row6 col6\" >0.00%</td>\n",
       "                        <td id=\"T_ad7176aa_8170_11eb_b64e_00e04cb67382row6_col7\" class=\"data row6 col7\" >0.00%</td>\n",
       "                        <td id=\"T_ad7176aa_8170_11eb_b64e_00e04cb67382row6_col8\" class=\"data row6 col8\" >0.00%</td>\n",
       "                        <td id=\"T_ad7176aa_8170_11eb_b64e_00e04cb67382row6_col9\" class=\"data row6 col9\" >0.00%</td>\n",
       "                        <td id=\"T_ad7176aa_8170_11eb_b64e_00e04cb67382row6_col10\" class=\"data row6 col10\" >0.00%</td>\n",
       "                        <td id=\"T_ad7176aa_8170_11eb_b64e_00e04cb67382row6_col11\" class=\"data row6 col11\" >0.00%</td>\n",
       "                        <td id=\"T_ad7176aa_8170_11eb_b64e_00e04cb67382row6_col12\" class=\"data row6 col12\" >0.00%</td>\n",
       "            </tr>\n",
       "            <tr>\n",
       "                        <th id=\"T_ad7176aa_8170_11eb_b64e_00e04cb67382level0_row7\" class=\"row_heading level0 row7\" >A114260</th>\n",
       "                        <td id=\"T_ad7176aa_8170_11eb_b64e_00e04cb67382row7_col0\" class=\"data row7 col0\" >0.00%</td>\n",
       "                        <td id=\"T_ad7176aa_8170_11eb_b64e_00e04cb67382row7_col1\" class=\"data row7 col1\" >0.00%</td>\n",
       "                        <td id=\"T_ad7176aa_8170_11eb_b64e_00e04cb67382row7_col2\" class=\"data row7 col2\" >0.00%</td>\n",
       "                        <td id=\"T_ad7176aa_8170_11eb_b64e_00e04cb67382row7_col3\" class=\"data row7 col3\" >0.00%</td>\n",
       "                        <td id=\"T_ad7176aa_8170_11eb_b64e_00e04cb67382row7_col4\" class=\"data row7 col4\" >0.00%</td>\n",
       "                        <td id=\"T_ad7176aa_8170_11eb_b64e_00e04cb67382row7_col5\" class=\"data row7 col5\" >0.00%</td>\n",
       "                        <td id=\"T_ad7176aa_8170_11eb_b64e_00e04cb67382row7_col6\" class=\"data row7 col6\" >0.00%</td>\n",
       "                        <td id=\"T_ad7176aa_8170_11eb_b64e_00e04cb67382row7_col7\" class=\"data row7 col7\" >0.00%</td>\n",
       "                        <td id=\"T_ad7176aa_8170_11eb_b64e_00e04cb67382row7_col8\" class=\"data row7 col8\" >0.00%</td>\n",
       "                        <td id=\"T_ad7176aa_8170_11eb_b64e_00e04cb67382row7_col9\" class=\"data row7 col9\" >0.00%</td>\n",
       "                        <td id=\"T_ad7176aa_8170_11eb_b64e_00e04cb67382row7_col10\" class=\"data row7 col10\" >0.00%</td>\n",
       "                        <td id=\"T_ad7176aa_8170_11eb_b64e_00e04cb67382row7_col11\" class=\"data row7 col11\" >0.00%</td>\n",
       "                        <td id=\"T_ad7176aa_8170_11eb_b64e_00e04cb67382row7_col12\" class=\"data row7 col12\" >0.00%</td>\n",
       "            </tr>\n",
       "            <tr>\n",
       "                        <th id=\"T_ad7176aa_8170_11eb_b64e_00e04cb67382level0_row8\" class=\"row_heading level0 row8\" >A122260</th>\n",
       "                        <td id=\"T_ad7176aa_8170_11eb_b64e_00e04cb67382row8_col0\" class=\"data row8 col0\" >0.00%</td>\n",
       "                        <td id=\"T_ad7176aa_8170_11eb_b64e_00e04cb67382row8_col1\" class=\"data row8 col1\" >0.00%</td>\n",
       "                        <td id=\"T_ad7176aa_8170_11eb_b64e_00e04cb67382row8_col2\" class=\"data row8 col2\" >0.00%</td>\n",
       "                        <td id=\"T_ad7176aa_8170_11eb_b64e_00e04cb67382row8_col3\" class=\"data row8 col3\" >0.00%</td>\n",
       "                        <td id=\"T_ad7176aa_8170_11eb_b64e_00e04cb67382row8_col4\" class=\"data row8 col4\" >0.00%</td>\n",
       "                        <td id=\"T_ad7176aa_8170_11eb_b64e_00e04cb67382row8_col5\" class=\"data row8 col5\" >0.00%</td>\n",
       "                        <td id=\"T_ad7176aa_8170_11eb_b64e_00e04cb67382row8_col6\" class=\"data row8 col6\" >0.00%</td>\n",
       "                        <td id=\"T_ad7176aa_8170_11eb_b64e_00e04cb67382row8_col7\" class=\"data row8 col7\" >0.00%</td>\n",
       "                        <td id=\"T_ad7176aa_8170_11eb_b64e_00e04cb67382row8_col8\" class=\"data row8 col8\" >0.00%</td>\n",
       "                        <td id=\"T_ad7176aa_8170_11eb_b64e_00e04cb67382row8_col9\" class=\"data row8 col9\" >0.00%</td>\n",
       "                        <td id=\"T_ad7176aa_8170_11eb_b64e_00e04cb67382row8_col10\" class=\"data row8 col10\" >0.00%</td>\n",
       "                        <td id=\"T_ad7176aa_8170_11eb_b64e_00e04cb67382row8_col11\" class=\"data row8 col11\" >0.00%</td>\n",
       "                        <td id=\"T_ad7176aa_8170_11eb_b64e_00e04cb67382row8_col12\" class=\"data row8 col12\" >0.00%</td>\n",
       "            </tr>\n",
       "            <tr>\n",
       "                        <th id=\"T_ad7176aa_8170_11eb_b64e_00e04cb67382level0_row9\" class=\"row_heading level0 row9\" >A130680</th>\n",
       "                        <td id=\"T_ad7176aa_8170_11eb_b64e_00e04cb67382row9_col0\" class=\"data row9 col0\" >0.00%</td>\n",
       "                        <td id=\"T_ad7176aa_8170_11eb_b64e_00e04cb67382row9_col1\" class=\"data row9 col1\" >0.00%</td>\n",
       "                        <td id=\"T_ad7176aa_8170_11eb_b64e_00e04cb67382row9_col2\" class=\"data row9 col2\" >0.00%</td>\n",
       "                        <td id=\"T_ad7176aa_8170_11eb_b64e_00e04cb67382row9_col3\" class=\"data row9 col3\" >0.00%</td>\n",
       "                        <td id=\"T_ad7176aa_8170_11eb_b64e_00e04cb67382row9_col4\" class=\"data row9 col4\" >0.00%</td>\n",
       "                        <td id=\"T_ad7176aa_8170_11eb_b64e_00e04cb67382row9_col5\" class=\"data row9 col5\" >0.00%</td>\n",
       "                        <td id=\"T_ad7176aa_8170_11eb_b64e_00e04cb67382row9_col6\" class=\"data row9 col6\" >0.00%</td>\n",
       "                        <td id=\"T_ad7176aa_8170_11eb_b64e_00e04cb67382row9_col7\" class=\"data row9 col7\" >0.00%</td>\n",
       "                        <td id=\"T_ad7176aa_8170_11eb_b64e_00e04cb67382row9_col8\" class=\"data row9 col8\" >0.00%</td>\n",
       "                        <td id=\"T_ad7176aa_8170_11eb_b64e_00e04cb67382row9_col9\" class=\"data row9 col9\" >0.00%</td>\n",
       "                        <td id=\"T_ad7176aa_8170_11eb_b64e_00e04cb67382row9_col10\" class=\"data row9 col10\" >0.00%</td>\n",
       "                        <td id=\"T_ad7176aa_8170_11eb_b64e_00e04cb67382row9_col11\" class=\"data row9 col11\" >0.00%</td>\n",
       "                        <td id=\"T_ad7176aa_8170_11eb_b64e_00e04cb67382row9_col12\" class=\"data row9 col12\" >0.00%</td>\n",
       "            </tr>\n",
       "            <tr>\n",
       "                        <th id=\"T_ad7176aa_8170_11eb_b64e_00e04cb67382level0_row10\" class=\"row_heading level0 row10\" >A130730</th>\n",
       "                        <td id=\"T_ad7176aa_8170_11eb_b64e_00e04cb67382row10_col0\" class=\"data row10 col0\" >0.00%</td>\n",
       "                        <td id=\"T_ad7176aa_8170_11eb_b64e_00e04cb67382row10_col1\" class=\"data row10 col1\" >0.00%</td>\n",
       "                        <td id=\"T_ad7176aa_8170_11eb_b64e_00e04cb67382row10_col2\" class=\"data row10 col2\" >0.00%</td>\n",
       "                        <td id=\"T_ad7176aa_8170_11eb_b64e_00e04cb67382row10_col3\" class=\"data row10 col3\" >0.00%</td>\n",
       "                        <td id=\"T_ad7176aa_8170_11eb_b64e_00e04cb67382row10_col4\" class=\"data row10 col4\" >0.00%</td>\n",
       "                        <td id=\"T_ad7176aa_8170_11eb_b64e_00e04cb67382row10_col5\" class=\"data row10 col5\" >0.00%</td>\n",
       "                        <td id=\"T_ad7176aa_8170_11eb_b64e_00e04cb67382row10_col6\" class=\"data row10 col6\" >0.00%</td>\n",
       "                        <td id=\"T_ad7176aa_8170_11eb_b64e_00e04cb67382row10_col7\" class=\"data row10 col7\" >0.00%</td>\n",
       "                        <td id=\"T_ad7176aa_8170_11eb_b64e_00e04cb67382row10_col8\" class=\"data row10 col8\" >0.00%</td>\n",
       "                        <td id=\"T_ad7176aa_8170_11eb_b64e_00e04cb67382row10_col9\" class=\"data row10 col9\" >0.00%</td>\n",
       "                        <td id=\"T_ad7176aa_8170_11eb_b64e_00e04cb67382row10_col10\" class=\"data row10 col10\" >0.00%</td>\n",
       "                        <td id=\"T_ad7176aa_8170_11eb_b64e_00e04cb67382row10_col11\" class=\"data row10 col11\" >0.00%</td>\n",
       "                        <td id=\"T_ad7176aa_8170_11eb_b64e_00e04cb67382row10_col12\" class=\"data row10 col12\" >0.00%</td>\n",
       "            </tr>\n",
       "            <tr>\n",
       "                        <th id=\"T_ad7176aa_8170_11eb_b64e_00e04cb67382level0_row11\" class=\"row_heading level0 row11\" >A132030</th>\n",
       "                        <td id=\"T_ad7176aa_8170_11eb_b64e_00e04cb67382row11_col0\" class=\"data row11 col0\" >0.00%</td>\n",
       "                        <td id=\"T_ad7176aa_8170_11eb_b64e_00e04cb67382row11_col1\" class=\"data row11 col1\" >0.00%</td>\n",
       "                        <td id=\"T_ad7176aa_8170_11eb_b64e_00e04cb67382row11_col2\" class=\"data row11 col2\" >0.00%</td>\n",
       "                        <td id=\"T_ad7176aa_8170_11eb_b64e_00e04cb67382row11_col3\" class=\"data row11 col3\" >0.00%</td>\n",
       "                        <td id=\"T_ad7176aa_8170_11eb_b64e_00e04cb67382row11_col4\" class=\"data row11 col4\" >0.00%</td>\n",
       "                        <td id=\"T_ad7176aa_8170_11eb_b64e_00e04cb67382row11_col5\" class=\"data row11 col5\" >0.00%</td>\n",
       "                        <td id=\"T_ad7176aa_8170_11eb_b64e_00e04cb67382row11_col6\" class=\"data row11 col6\" >18.54%</td>\n",
       "                        <td id=\"T_ad7176aa_8170_11eb_b64e_00e04cb67382row11_col7\" class=\"data row11 col7\" >24.88%</td>\n",
       "                        <td id=\"T_ad7176aa_8170_11eb_b64e_00e04cb67382row11_col8\" class=\"data row11 col8\" >0.00%</td>\n",
       "                        <td id=\"T_ad7176aa_8170_11eb_b64e_00e04cb67382row11_col9\" class=\"data row11 col9\" >0.00%</td>\n",
       "                        <td id=\"T_ad7176aa_8170_11eb_b64e_00e04cb67382row11_col10\" class=\"data row11 col10\" >0.00%</td>\n",
       "                        <td id=\"T_ad7176aa_8170_11eb_b64e_00e04cb67382row11_col11\" class=\"data row11 col11\" >0.00%</td>\n",
       "                        <td id=\"T_ad7176aa_8170_11eb_b64e_00e04cb67382row11_col12\" class=\"data row11 col12\" >0.00%</td>\n",
       "            </tr>\n",
       "            <tr>\n",
       "                        <th id=\"T_ad7176aa_8170_11eb_b64e_00e04cb67382level0_row12\" class=\"row_heading level0 row12\" >A139260</th>\n",
       "                        <td id=\"T_ad7176aa_8170_11eb_b64e_00e04cb67382row12_col0\" class=\"data row12 col0\" >0.00%</td>\n",
       "                        <td id=\"T_ad7176aa_8170_11eb_b64e_00e04cb67382row12_col1\" class=\"data row12 col1\" >0.00%</td>\n",
       "                        <td id=\"T_ad7176aa_8170_11eb_b64e_00e04cb67382row12_col2\" class=\"data row12 col2\" >0.00%</td>\n",
       "                        <td id=\"T_ad7176aa_8170_11eb_b64e_00e04cb67382row12_col3\" class=\"data row12 col3\" >0.00%</td>\n",
       "                        <td id=\"T_ad7176aa_8170_11eb_b64e_00e04cb67382row12_col4\" class=\"data row12 col4\" >0.00%</td>\n",
       "                        <td id=\"T_ad7176aa_8170_11eb_b64e_00e04cb67382row12_col5\" class=\"data row12 col5\" >0.00%</td>\n",
       "                        <td id=\"T_ad7176aa_8170_11eb_b64e_00e04cb67382row12_col6\" class=\"data row12 col6\" >0.00%</td>\n",
       "                        <td id=\"T_ad7176aa_8170_11eb_b64e_00e04cb67382row12_col7\" class=\"data row12 col7\" >0.00%</td>\n",
       "                        <td id=\"T_ad7176aa_8170_11eb_b64e_00e04cb67382row12_col8\" class=\"data row12 col8\" >0.00%</td>\n",
       "                        <td id=\"T_ad7176aa_8170_11eb_b64e_00e04cb67382row12_col9\" class=\"data row12 col9\" >0.00%</td>\n",
       "                        <td id=\"T_ad7176aa_8170_11eb_b64e_00e04cb67382row12_col10\" class=\"data row12 col10\" >0.00%</td>\n",
       "                        <td id=\"T_ad7176aa_8170_11eb_b64e_00e04cb67382row12_col11\" class=\"data row12 col11\" >0.00%</td>\n",
       "                        <td id=\"T_ad7176aa_8170_11eb_b64e_00e04cb67382row12_col12\" class=\"data row12 col12\" >0.00%</td>\n",
       "            </tr>\n",
       "            <tr>\n",
       "                        <th id=\"T_ad7176aa_8170_11eb_b64e_00e04cb67382level0_row13\" class=\"row_heading level0 row13\" >A148070</th>\n",
       "                        <td id=\"T_ad7176aa_8170_11eb_b64e_00e04cb67382row13_col0\" class=\"data row13 col0\" >0.00%</td>\n",
       "                        <td id=\"T_ad7176aa_8170_11eb_b64e_00e04cb67382row13_col1\" class=\"data row13 col1\" >0.00%</td>\n",
       "                        <td id=\"T_ad7176aa_8170_11eb_b64e_00e04cb67382row13_col2\" class=\"data row13 col2\" >0.00%</td>\n",
       "                        <td id=\"T_ad7176aa_8170_11eb_b64e_00e04cb67382row13_col3\" class=\"data row13 col3\" >0.00%</td>\n",
       "                        <td id=\"T_ad7176aa_8170_11eb_b64e_00e04cb67382row13_col4\" class=\"data row13 col4\" >0.00%</td>\n",
       "                        <td id=\"T_ad7176aa_8170_11eb_b64e_00e04cb67382row13_col5\" class=\"data row13 col5\" >0.00%</td>\n",
       "                        <td id=\"T_ad7176aa_8170_11eb_b64e_00e04cb67382row13_col6\" class=\"data row13 col6\" >0.00%</td>\n",
       "                        <td id=\"T_ad7176aa_8170_11eb_b64e_00e04cb67382row13_col7\" class=\"data row13 col7\" >0.00%</td>\n",
       "                        <td id=\"T_ad7176aa_8170_11eb_b64e_00e04cb67382row13_col8\" class=\"data row13 col8\" >0.00%</td>\n",
       "                        <td id=\"T_ad7176aa_8170_11eb_b64e_00e04cb67382row13_col9\" class=\"data row13 col9\" >0.00%</td>\n",
       "                        <td id=\"T_ad7176aa_8170_11eb_b64e_00e04cb67382row13_col10\" class=\"data row13 col10\" >0.00%</td>\n",
       "                        <td id=\"T_ad7176aa_8170_11eb_b64e_00e04cb67382row13_col11\" class=\"data row13 col11\" >0.00%</td>\n",
       "                        <td id=\"T_ad7176aa_8170_11eb_b64e_00e04cb67382row13_col12\" class=\"data row13 col12\" >0.00%</td>\n",
       "            </tr>\n",
       "            <tr>\n",
       "                        <th id=\"T_ad7176aa_8170_11eb_b64e_00e04cb67382level0_row14\" class=\"row_heading level0 row14\" >A153130</th>\n",
       "                        <td id=\"T_ad7176aa_8170_11eb_b64e_00e04cb67382row14_col0\" class=\"data row14 col0\" >0.00%</td>\n",
       "                        <td id=\"T_ad7176aa_8170_11eb_b64e_00e04cb67382row14_col1\" class=\"data row14 col1\" >0.00%</td>\n",
       "                        <td id=\"T_ad7176aa_8170_11eb_b64e_00e04cb67382row14_col2\" class=\"data row14 col2\" >0.00%</td>\n",
       "                        <td id=\"T_ad7176aa_8170_11eb_b64e_00e04cb67382row14_col3\" class=\"data row14 col3\" >0.00%</td>\n",
       "                        <td id=\"T_ad7176aa_8170_11eb_b64e_00e04cb67382row14_col4\" class=\"data row14 col4\" >0.00%</td>\n",
       "                        <td id=\"T_ad7176aa_8170_11eb_b64e_00e04cb67382row14_col5\" class=\"data row14 col5\" >0.00%</td>\n",
       "                        <td id=\"T_ad7176aa_8170_11eb_b64e_00e04cb67382row14_col6\" class=\"data row14 col6\" >0.00%</td>\n",
       "                        <td id=\"T_ad7176aa_8170_11eb_b64e_00e04cb67382row14_col7\" class=\"data row14 col7\" >0.00%</td>\n",
       "                        <td id=\"T_ad7176aa_8170_11eb_b64e_00e04cb67382row14_col8\" class=\"data row14 col8\" >0.00%</td>\n",
       "                        <td id=\"T_ad7176aa_8170_11eb_b64e_00e04cb67382row14_col9\" class=\"data row14 col9\" >0.00%</td>\n",
       "                        <td id=\"T_ad7176aa_8170_11eb_b64e_00e04cb67382row14_col10\" class=\"data row14 col10\" >0.00%</td>\n",
       "                        <td id=\"T_ad7176aa_8170_11eb_b64e_00e04cb67382row14_col11\" class=\"data row14 col11\" >0.00%</td>\n",
       "                        <td id=\"T_ad7176aa_8170_11eb_b64e_00e04cb67382row14_col12\" class=\"data row14 col12\" >0.00%</td>\n",
       "            </tr>\n",
       "            <tr>\n",
       "                        <th id=\"T_ad7176aa_8170_11eb_b64e_00e04cb67382level0_row15\" class=\"row_heading level0 row15\" >A157490</th>\n",
       "                        <td id=\"T_ad7176aa_8170_11eb_b64e_00e04cb67382row15_col0\" class=\"data row15 col0\" >20.88%</td>\n",
       "                        <td id=\"T_ad7176aa_8170_11eb_b64e_00e04cb67382row15_col1\" class=\"data row15 col1\" >0.00%</td>\n",
       "                        <td id=\"T_ad7176aa_8170_11eb_b64e_00e04cb67382row15_col2\" class=\"data row15 col2\" >0.00%</td>\n",
       "                        <td id=\"T_ad7176aa_8170_11eb_b64e_00e04cb67382row15_col3\" class=\"data row15 col3\" >0.00%</td>\n",
       "                        <td id=\"T_ad7176aa_8170_11eb_b64e_00e04cb67382row15_col4\" class=\"data row15 col4\" >0.00%</td>\n",
       "                        <td id=\"T_ad7176aa_8170_11eb_b64e_00e04cb67382row15_col5\" class=\"data row15 col5\" >0.00%</td>\n",
       "                        <td id=\"T_ad7176aa_8170_11eb_b64e_00e04cb67382row15_col6\" class=\"data row15 col6\" >0.00%</td>\n",
       "                        <td id=\"T_ad7176aa_8170_11eb_b64e_00e04cb67382row15_col7\" class=\"data row15 col7\" >0.00%</td>\n",
       "                        <td id=\"T_ad7176aa_8170_11eb_b64e_00e04cb67382row15_col8\" class=\"data row15 col8\" >6.43%</td>\n",
       "                        <td id=\"T_ad7176aa_8170_11eb_b64e_00e04cb67382row15_col9\" class=\"data row15 col9\" >0.00%</td>\n",
       "                        <td id=\"T_ad7176aa_8170_11eb_b64e_00e04cb67382row15_col10\" class=\"data row15 col10\" >6.43%</td>\n",
       "                        <td id=\"T_ad7176aa_8170_11eb_b64e_00e04cb67382row15_col11\" class=\"data row15 col11\" >0.00%</td>\n",
       "                        <td id=\"T_ad7176aa_8170_11eb_b64e_00e04cb67382row15_col12\" class=\"data row15 col12\" >6.43%</td>\n",
       "            </tr>\n",
       "            <tr>\n",
       "                        <th id=\"T_ad7176aa_8170_11eb_b64e_00e04cb67382level0_row16\" class=\"row_heading level0 row16\" >A195930</th>\n",
       "                        <td id=\"T_ad7176aa_8170_11eb_b64e_00e04cb67382row16_col0\" class=\"data row16 col0\" >0.00%</td>\n",
       "                        <td id=\"T_ad7176aa_8170_11eb_b64e_00e04cb67382row16_col1\" class=\"data row16 col1\" >0.00%</td>\n",
       "                        <td id=\"T_ad7176aa_8170_11eb_b64e_00e04cb67382row16_col2\" class=\"data row16 col2\" >0.00%</td>\n",
       "                        <td id=\"T_ad7176aa_8170_11eb_b64e_00e04cb67382row16_col3\" class=\"data row16 col3\" >0.00%</td>\n",
       "                        <td id=\"T_ad7176aa_8170_11eb_b64e_00e04cb67382row16_col4\" class=\"data row16 col4\" >0.00%</td>\n",
       "                        <td id=\"T_ad7176aa_8170_11eb_b64e_00e04cb67382row16_col5\" class=\"data row16 col5\" >0.00%</td>\n",
       "                        <td id=\"T_ad7176aa_8170_11eb_b64e_00e04cb67382row16_col6\" class=\"data row16 col6\" >0.00%</td>\n",
       "                        <td id=\"T_ad7176aa_8170_11eb_b64e_00e04cb67382row16_col7\" class=\"data row16 col7\" >0.00%</td>\n",
       "                        <td id=\"T_ad7176aa_8170_11eb_b64e_00e04cb67382row16_col8\" class=\"data row16 col8\" >0.00%</td>\n",
       "                        <td id=\"T_ad7176aa_8170_11eb_b64e_00e04cb67382row16_col9\" class=\"data row16 col9\" >0.00%</td>\n",
       "                        <td id=\"T_ad7176aa_8170_11eb_b64e_00e04cb67382row16_col10\" class=\"data row16 col10\" >0.00%</td>\n",
       "                        <td id=\"T_ad7176aa_8170_11eb_b64e_00e04cb67382row16_col11\" class=\"data row16 col11\" >0.00%</td>\n",
       "                        <td id=\"T_ad7176aa_8170_11eb_b64e_00e04cb67382row16_col12\" class=\"data row16 col12\" >0.00%</td>\n",
       "            </tr>\n",
       "            <tr>\n",
       "                        <th id=\"T_ad7176aa_8170_11eb_b64e_00e04cb67382level0_row17\" class=\"row_heading level0 row17\" >A196230</th>\n",
       "                        <td id=\"T_ad7176aa_8170_11eb_b64e_00e04cb67382row17_col0\" class=\"data row17 col0\" >0.00%</td>\n",
       "                        <td id=\"T_ad7176aa_8170_11eb_b64e_00e04cb67382row17_col1\" class=\"data row17 col1\" >0.00%</td>\n",
       "                        <td id=\"T_ad7176aa_8170_11eb_b64e_00e04cb67382row17_col2\" class=\"data row17 col2\" >0.00%</td>\n",
       "                        <td id=\"T_ad7176aa_8170_11eb_b64e_00e04cb67382row17_col3\" class=\"data row17 col3\" >0.00%</td>\n",
       "                        <td id=\"T_ad7176aa_8170_11eb_b64e_00e04cb67382row17_col4\" class=\"data row17 col4\" >0.00%</td>\n",
       "                        <td id=\"T_ad7176aa_8170_11eb_b64e_00e04cb67382row17_col5\" class=\"data row17 col5\" >0.00%</td>\n",
       "                        <td id=\"T_ad7176aa_8170_11eb_b64e_00e04cb67382row17_col6\" class=\"data row17 col6\" >0.00%</td>\n",
       "                        <td id=\"T_ad7176aa_8170_11eb_b64e_00e04cb67382row17_col7\" class=\"data row17 col7\" >0.00%</td>\n",
       "                        <td id=\"T_ad7176aa_8170_11eb_b64e_00e04cb67382row17_col8\" class=\"data row17 col8\" >0.00%</td>\n",
       "                        <td id=\"T_ad7176aa_8170_11eb_b64e_00e04cb67382row17_col9\" class=\"data row17 col9\" >0.00%</td>\n",
       "                        <td id=\"T_ad7176aa_8170_11eb_b64e_00e04cb67382row17_col10\" class=\"data row17 col10\" >0.00%</td>\n",
       "                        <td id=\"T_ad7176aa_8170_11eb_b64e_00e04cb67382row17_col11\" class=\"data row17 col11\" >0.00%</td>\n",
       "                        <td id=\"T_ad7176aa_8170_11eb_b64e_00e04cb67382row17_col12\" class=\"data row17 col12\" >0.00%</td>\n",
       "            </tr>\n",
       "            <tr>\n",
       "                        <th id=\"T_ad7176aa_8170_11eb_b64e_00e04cb67382level0_row18\" class=\"row_heading level0 row18\" >A214980</th>\n",
       "                        <td id=\"T_ad7176aa_8170_11eb_b64e_00e04cb67382row18_col0\" class=\"data row18 col0\" >0.00%</td>\n",
       "                        <td id=\"T_ad7176aa_8170_11eb_b64e_00e04cb67382row18_col1\" class=\"data row18 col1\" >0.00%</td>\n",
       "                        <td id=\"T_ad7176aa_8170_11eb_b64e_00e04cb67382row18_col2\" class=\"data row18 col2\" >0.00%</td>\n",
       "                        <td id=\"T_ad7176aa_8170_11eb_b64e_00e04cb67382row18_col3\" class=\"data row18 col3\" >0.00%</td>\n",
       "                        <td id=\"T_ad7176aa_8170_11eb_b64e_00e04cb67382row18_col4\" class=\"data row18 col4\" >0.00%</td>\n",
       "                        <td id=\"T_ad7176aa_8170_11eb_b64e_00e04cb67382row18_col5\" class=\"data row18 col5\" >0.00%</td>\n",
       "                        <td id=\"T_ad7176aa_8170_11eb_b64e_00e04cb67382row18_col6\" class=\"data row18 col6\" >0.00%</td>\n",
       "                        <td id=\"T_ad7176aa_8170_11eb_b64e_00e04cb67382row18_col7\" class=\"data row18 col7\" >0.00%</td>\n",
       "                        <td id=\"T_ad7176aa_8170_11eb_b64e_00e04cb67382row18_col8\" class=\"data row18 col8\" >0.00%</td>\n",
       "                        <td id=\"T_ad7176aa_8170_11eb_b64e_00e04cb67382row18_col9\" class=\"data row18 col9\" >0.00%</td>\n",
       "                        <td id=\"T_ad7176aa_8170_11eb_b64e_00e04cb67382row18_col10\" class=\"data row18 col10\" >0.00%</td>\n",
       "                        <td id=\"T_ad7176aa_8170_11eb_b64e_00e04cb67382row18_col11\" class=\"data row18 col11\" >0.00%</td>\n",
       "                        <td id=\"T_ad7176aa_8170_11eb_b64e_00e04cb67382row18_col12\" class=\"data row18 col12\" >0.00%</td>\n",
       "            </tr>\n",
       "            <tr>\n",
       "                        <th id=\"T_ad7176aa_8170_11eb_b64e_00e04cb67382level0_row19\" class=\"row_heading level0 row19\" >A229200</th>\n",
       "                        <td id=\"T_ad7176aa_8170_11eb_b64e_00e04cb67382row19_col0\" class=\"data row19 col0\" >0.00%</td>\n",
       "                        <td id=\"T_ad7176aa_8170_11eb_b64e_00e04cb67382row19_col1\" class=\"data row19 col1\" >0.00%</td>\n",
       "                        <td id=\"T_ad7176aa_8170_11eb_b64e_00e04cb67382row19_col2\" class=\"data row19 col2\" >0.00%</td>\n",
       "                        <td id=\"T_ad7176aa_8170_11eb_b64e_00e04cb67382row19_col3\" class=\"data row19 col3\" >0.00%</td>\n",
       "                        <td id=\"T_ad7176aa_8170_11eb_b64e_00e04cb67382row19_col4\" class=\"data row19 col4\" >0.00%</td>\n",
       "                        <td id=\"T_ad7176aa_8170_11eb_b64e_00e04cb67382row19_col5\" class=\"data row19 col5\" >0.00%</td>\n",
       "                        <td id=\"T_ad7176aa_8170_11eb_b64e_00e04cb67382row19_col6\" class=\"data row19 col6\" >0.00%</td>\n",
       "                        <td id=\"T_ad7176aa_8170_11eb_b64e_00e04cb67382row19_col7\" class=\"data row19 col7\" >0.00%</td>\n",
       "                        <td id=\"T_ad7176aa_8170_11eb_b64e_00e04cb67382row19_col8\" class=\"data row19 col8\" >0.00%</td>\n",
       "                        <td id=\"T_ad7176aa_8170_11eb_b64e_00e04cb67382row19_col9\" class=\"data row19 col9\" >0.00%</td>\n",
       "                        <td id=\"T_ad7176aa_8170_11eb_b64e_00e04cb67382row19_col10\" class=\"data row19 col10\" >0.00%</td>\n",
       "                        <td id=\"T_ad7176aa_8170_11eb_b64e_00e04cb67382row19_col11\" class=\"data row19 col11\" >0.00%</td>\n",
       "                        <td id=\"T_ad7176aa_8170_11eb_b64e_00e04cb67382row19_col12\" class=\"data row19 col12\" >0.00%</td>\n",
       "            </tr>\n",
       "            <tr>\n",
       "                        <th id=\"T_ad7176aa_8170_11eb_b64e_00e04cb67382level0_row20\" class=\"row_heading level0 row20\" >A232080</th>\n",
       "                        <td id=\"T_ad7176aa_8170_11eb_b64e_00e04cb67382row20_col0\" class=\"data row20 col0\" >0.00%</td>\n",
       "                        <td id=\"T_ad7176aa_8170_11eb_b64e_00e04cb67382row20_col1\" class=\"data row20 col1\" >0.00%</td>\n",
       "                        <td id=\"T_ad7176aa_8170_11eb_b64e_00e04cb67382row20_col2\" class=\"data row20 col2\" >0.00%</td>\n",
       "                        <td id=\"T_ad7176aa_8170_11eb_b64e_00e04cb67382row20_col3\" class=\"data row20 col3\" >0.00%</td>\n",
       "                        <td id=\"T_ad7176aa_8170_11eb_b64e_00e04cb67382row20_col4\" class=\"data row20 col4\" >0.00%</td>\n",
       "                        <td id=\"T_ad7176aa_8170_11eb_b64e_00e04cb67382row20_col5\" class=\"data row20 col5\" >0.00%</td>\n",
       "                        <td id=\"T_ad7176aa_8170_11eb_b64e_00e04cb67382row20_col6\" class=\"data row20 col6\" >0.00%</td>\n",
       "                        <td id=\"T_ad7176aa_8170_11eb_b64e_00e04cb67382row20_col7\" class=\"data row20 col7\" >0.00%</td>\n",
       "                        <td id=\"T_ad7176aa_8170_11eb_b64e_00e04cb67382row20_col8\" class=\"data row20 col8\" >0.00%</td>\n",
       "                        <td id=\"T_ad7176aa_8170_11eb_b64e_00e04cb67382row20_col9\" class=\"data row20 col9\" >0.00%</td>\n",
       "                        <td id=\"T_ad7176aa_8170_11eb_b64e_00e04cb67382row20_col10\" class=\"data row20 col10\" >0.00%</td>\n",
       "                        <td id=\"T_ad7176aa_8170_11eb_b64e_00e04cb67382row20_col11\" class=\"data row20 col11\" >0.00%</td>\n",
       "                        <td id=\"T_ad7176aa_8170_11eb_b64e_00e04cb67382row20_col12\" class=\"data row20 col12\" >0.00%</td>\n",
       "            </tr>\n",
       "            <tr>\n",
       "                        <th id=\"T_ad7176aa_8170_11eb_b64e_00e04cb67382level0_row21\" class=\"row_heading level0 row21\" >A245340</th>\n",
       "                        <td id=\"T_ad7176aa_8170_11eb_b64e_00e04cb67382row21_col0\" class=\"data row21 col0\" >0.00%</td>\n",
       "                        <td id=\"T_ad7176aa_8170_11eb_b64e_00e04cb67382row21_col1\" class=\"data row21 col1\" >0.00%</td>\n",
       "                        <td id=\"T_ad7176aa_8170_11eb_b64e_00e04cb67382row21_col2\" class=\"data row21 col2\" >0.00%</td>\n",
       "                        <td id=\"T_ad7176aa_8170_11eb_b64e_00e04cb67382row21_col3\" class=\"data row21 col3\" >0.00%</td>\n",
       "                        <td id=\"T_ad7176aa_8170_11eb_b64e_00e04cb67382row21_col4\" class=\"data row21 col4\" >0.00%</td>\n",
       "                        <td id=\"T_ad7176aa_8170_11eb_b64e_00e04cb67382row21_col5\" class=\"data row21 col5\" >0.00%</td>\n",
       "                        <td id=\"T_ad7176aa_8170_11eb_b64e_00e04cb67382row21_col6\" class=\"data row21 col6\" >0.00%</td>\n",
       "                        <td id=\"T_ad7176aa_8170_11eb_b64e_00e04cb67382row21_col7\" class=\"data row21 col7\" >0.00%</td>\n",
       "                        <td id=\"T_ad7176aa_8170_11eb_b64e_00e04cb67382row21_col8\" class=\"data row21 col8\" >0.00%</td>\n",
       "                        <td id=\"T_ad7176aa_8170_11eb_b64e_00e04cb67382row21_col9\" class=\"data row21 col9\" >46.75%</td>\n",
       "                        <td id=\"T_ad7176aa_8170_11eb_b64e_00e04cb67382row21_col10\" class=\"data row21 col10\" >0.00%</td>\n",
       "                        <td id=\"T_ad7176aa_8170_11eb_b64e_00e04cb67382row21_col11\" class=\"data row21 col11\" >14.42%</td>\n",
       "                        <td id=\"T_ad7176aa_8170_11eb_b64e_00e04cb67382row21_col12\" class=\"data row21 col12\" >0.00%</td>\n",
       "            </tr>\n",
       "            <tr>\n",
       "                        <th id=\"T_ad7176aa_8170_11eb_b64e_00e04cb67382level0_row22\" class=\"row_heading level0 row22\" >A245710</th>\n",
       "                        <td id=\"T_ad7176aa_8170_11eb_b64e_00e04cb67382row22_col0\" class=\"data row22 col0\" >0.00%</td>\n",
       "                        <td id=\"T_ad7176aa_8170_11eb_b64e_00e04cb67382row22_col1\" class=\"data row22 col1\" >0.00%</td>\n",
       "                        <td id=\"T_ad7176aa_8170_11eb_b64e_00e04cb67382row22_col2\" class=\"data row22 col2\" >0.00%</td>\n",
       "                        <td id=\"T_ad7176aa_8170_11eb_b64e_00e04cb67382row22_col3\" class=\"data row22 col3\" >0.00%</td>\n",
       "                        <td id=\"T_ad7176aa_8170_11eb_b64e_00e04cb67382row22_col4\" class=\"data row22 col4\" >0.00%</td>\n",
       "                        <td id=\"T_ad7176aa_8170_11eb_b64e_00e04cb67382row22_col5\" class=\"data row22 col5\" >0.00%</td>\n",
       "                        <td id=\"T_ad7176aa_8170_11eb_b64e_00e04cb67382row22_col6\" class=\"data row22 col6\" >0.00%</td>\n",
       "                        <td id=\"T_ad7176aa_8170_11eb_b64e_00e04cb67382row22_col7\" class=\"data row22 col7\" >0.00%</td>\n",
       "                        <td id=\"T_ad7176aa_8170_11eb_b64e_00e04cb67382row22_col8\" class=\"data row22 col8\" >0.00%</td>\n",
       "                        <td id=\"T_ad7176aa_8170_11eb_b64e_00e04cb67382row22_col9\" class=\"data row22 col9\" >0.00%</td>\n",
       "                        <td id=\"T_ad7176aa_8170_11eb_b64e_00e04cb67382row22_col10\" class=\"data row22 col10\" >0.00%</td>\n",
       "                        <td id=\"T_ad7176aa_8170_11eb_b64e_00e04cb67382row22_col11\" class=\"data row22 col11\" >0.00%</td>\n",
       "                        <td id=\"T_ad7176aa_8170_11eb_b64e_00e04cb67382row22_col12\" class=\"data row22 col12\" >0.00%</td>\n",
       "            </tr>\n",
       "            <tr>\n",
       "                        <th id=\"T_ad7176aa_8170_11eb_b64e_00e04cb67382level0_row23\" class=\"row_heading level0 row23\" >A251350</th>\n",
       "                        <td id=\"T_ad7176aa_8170_11eb_b64e_00e04cb67382row23_col0\" class=\"data row23 col0\" >0.00%</td>\n",
       "                        <td id=\"T_ad7176aa_8170_11eb_b64e_00e04cb67382row23_col1\" class=\"data row23 col1\" >0.00%</td>\n",
       "                        <td id=\"T_ad7176aa_8170_11eb_b64e_00e04cb67382row23_col2\" class=\"data row23 col2\" >0.00%</td>\n",
       "                        <td id=\"T_ad7176aa_8170_11eb_b64e_00e04cb67382row23_col3\" class=\"data row23 col3\" >0.00%</td>\n",
       "                        <td id=\"T_ad7176aa_8170_11eb_b64e_00e04cb67382row23_col4\" class=\"data row23 col4\" >0.00%</td>\n",
       "                        <td id=\"T_ad7176aa_8170_11eb_b64e_00e04cb67382row23_col5\" class=\"data row23 col5\" >0.00%</td>\n",
       "                        <td id=\"T_ad7176aa_8170_11eb_b64e_00e04cb67382row23_col6\" class=\"data row23 col6\" >0.00%</td>\n",
       "                        <td id=\"T_ad7176aa_8170_11eb_b64e_00e04cb67382row23_col7\" class=\"data row23 col7\" >0.00%</td>\n",
       "                        <td id=\"T_ad7176aa_8170_11eb_b64e_00e04cb67382row23_col8\" class=\"data row23 col8\" >0.00%</td>\n",
       "                        <td id=\"T_ad7176aa_8170_11eb_b64e_00e04cb67382row23_col9\" class=\"data row23 col9\" >0.00%</td>\n",
       "                        <td id=\"T_ad7176aa_8170_11eb_b64e_00e04cb67382row23_col10\" class=\"data row23 col10\" >0.00%</td>\n",
       "                        <td id=\"T_ad7176aa_8170_11eb_b64e_00e04cb67382row23_col11\" class=\"data row23 col11\" >0.00%</td>\n",
       "                        <td id=\"T_ad7176aa_8170_11eb_b64e_00e04cb67382row23_col12\" class=\"data row23 col12\" >0.00%</td>\n",
       "            </tr>\n",
       "            <tr>\n",
       "                        <th id=\"T_ad7176aa_8170_11eb_b64e_00e04cb67382level0_row24\" class=\"row_heading level0 row24\" >A261220</th>\n",
       "                        <td id=\"T_ad7176aa_8170_11eb_b64e_00e04cb67382row24_col0\" class=\"data row24 col0\" >0.00%</td>\n",
       "                        <td id=\"T_ad7176aa_8170_11eb_b64e_00e04cb67382row24_col1\" class=\"data row24 col1\" >0.00%</td>\n",
       "                        <td id=\"T_ad7176aa_8170_11eb_b64e_00e04cb67382row24_col2\" class=\"data row24 col2\" >0.00%</td>\n",
       "                        <td id=\"T_ad7176aa_8170_11eb_b64e_00e04cb67382row24_col3\" class=\"data row24 col3\" >0.00%</td>\n",
       "                        <td id=\"T_ad7176aa_8170_11eb_b64e_00e04cb67382row24_col4\" class=\"data row24 col4\" >0.00%</td>\n",
       "                        <td id=\"T_ad7176aa_8170_11eb_b64e_00e04cb67382row24_col5\" class=\"data row24 col5\" >0.00%</td>\n",
       "                        <td id=\"T_ad7176aa_8170_11eb_b64e_00e04cb67382row24_col6\" class=\"data row24 col6\" >0.00%</td>\n",
       "                        <td id=\"T_ad7176aa_8170_11eb_b64e_00e04cb67382row24_col7\" class=\"data row24 col7\" >0.00%</td>\n",
       "                        <td id=\"T_ad7176aa_8170_11eb_b64e_00e04cb67382row24_col8\" class=\"data row24 col8\" >0.00%</td>\n",
       "                        <td id=\"T_ad7176aa_8170_11eb_b64e_00e04cb67382row24_col9\" class=\"data row24 col9\" >0.00%</td>\n",
       "                        <td id=\"T_ad7176aa_8170_11eb_b64e_00e04cb67382row24_col10\" class=\"data row24 col10\" >0.00%</td>\n",
       "                        <td id=\"T_ad7176aa_8170_11eb_b64e_00e04cb67382row24_col11\" class=\"data row24 col11\" >0.00%</td>\n",
       "                        <td id=\"T_ad7176aa_8170_11eb_b64e_00e04cb67382row24_col12\" class=\"data row24 col12\" >0.00%</td>\n",
       "            </tr>\n",
       "            <tr>\n",
       "                        <th id=\"T_ad7176aa_8170_11eb_b64e_00e04cb67382level0_row25\" class=\"row_heading level0 row25\" >A261240</th>\n",
       "                        <td id=\"T_ad7176aa_8170_11eb_b64e_00e04cb67382row25_col0\" class=\"data row25 col0\" >0.00%</td>\n",
       "                        <td id=\"T_ad7176aa_8170_11eb_b64e_00e04cb67382row25_col1\" class=\"data row25 col1\" >0.00%</td>\n",
       "                        <td id=\"T_ad7176aa_8170_11eb_b64e_00e04cb67382row25_col2\" class=\"data row25 col2\" >0.00%</td>\n",
       "                        <td id=\"T_ad7176aa_8170_11eb_b64e_00e04cb67382row25_col3\" class=\"data row25 col3\" >0.00%</td>\n",
       "                        <td id=\"T_ad7176aa_8170_11eb_b64e_00e04cb67382row25_col4\" class=\"data row25 col4\" >0.00%</td>\n",
       "                        <td id=\"T_ad7176aa_8170_11eb_b64e_00e04cb67382row25_col5\" class=\"data row25 col5\" >0.00%</td>\n",
       "                        <td id=\"T_ad7176aa_8170_11eb_b64e_00e04cb67382row25_col6\" class=\"data row25 col6\" >0.00%</td>\n",
       "                        <td id=\"T_ad7176aa_8170_11eb_b64e_00e04cb67382row25_col7\" class=\"data row25 col7\" >0.00%</td>\n",
       "                        <td id=\"T_ad7176aa_8170_11eb_b64e_00e04cb67382row25_col8\" class=\"data row25 col8\" >0.00%</td>\n",
       "                        <td id=\"T_ad7176aa_8170_11eb_b64e_00e04cb67382row25_col9\" class=\"data row25 col9\" >0.00%</td>\n",
       "                        <td id=\"T_ad7176aa_8170_11eb_b64e_00e04cb67382row25_col10\" class=\"data row25 col10\" >0.00%</td>\n",
       "                        <td id=\"T_ad7176aa_8170_11eb_b64e_00e04cb67382row25_col11\" class=\"data row25 col11\" >0.00%</td>\n",
       "                        <td id=\"T_ad7176aa_8170_11eb_b64e_00e04cb67382row25_col12\" class=\"data row25 col12\" >0.00%</td>\n",
       "            </tr>\n",
       "            <tr>\n",
       "                        <th id=\"T_ad7176aa_8170_11eb_b64e_00e04cb67382level0_row26\" class=\"row_heading level0 row26\" >A266370</th>\n",
       "                        <td id=\"T_ad7176aa_8170_11eb_b64e_00e04cb67382row26_col0\" class=\"data row26 col0\" >0.00%</td>\n",
       "                        <td id=\"T_ad7176aa_8170_11eb_b64e_00e04cb67382row26_col1\" class=\"data row26 col1\" >0.00%</td>\n",
       "                        <td id=\"T_ad7176aa_8170_11eb_b64e_00e04cb67382row26_col2\" class=\"data row26 col2\" >0.00%</td>\n",
       "                        <td id=\"T_ad7176aa_8170_11eb_b64e_00e04cb67382row26_col3\" class=\"data row26 col3\" >0.00%</td>\n",
       "                        <td id=\"T_ad7176aa_8170_11eb_b64e_00e04cb67382row26_col4\" class=\"data row26 col4\" >0.00%</td>\n",
       "                        <td id=\"T_ad7176aa_8170_11eb_b64e_00e04cb67382row26_col5\" class=\"data row26 col5\" >0.00%</td>\n",
       "                        <td id=\"T_ad7176aa_8170_11eb_b64e_00e04cb67382row26_col6\" class=\"data row26 col6\" >0.00%</td>\n",
       "                        <td id=\"T_ad7176aa_8170_11eb_b64e_00e04cb67382row26_col7\" class=\"data row26 col7\" >0.00%</td>\n",
       "                        <td id=\"T_ad7176aa_8170_11eb_b64e_00e04cb67382row26_col8\" class=\"data row26 col8\" >62.54%</td>\n",
       "                        <td id=\"T_ad7176aa_8170_11eb_b64e_00e04cb67382row26_col9\" class=\"data row26 col9\" >22.89%</td>\n",
       "                        <td id=\"T_ad7176aa_8170_11eb_b64e_00e04cb67382row26_col10\" class=\"data row26 col10\" >62.54%</td>\n",
       "                        <td id=\"T_ad7176aa_8170_11eb_b64e_00e04cb67382row26_col11\" class=\"data row26 col11\" >47.22%</td>\n",
       "                        <td id=\"T_ad7176aa_8170_11eb_b64e_00e04cb67382row26_col12\" class=\"data row26 col12\" >62.54%</td>\n",
       "            </tr>\n",
       "            <tr>\n",
       "                        <th id=\"T_ad7176aa_8170_11eb_b64e_00e04cb67382level0_row27\" class=\"row_heading level0 row27\" >A273130</th>\n",
       "                        <td id=\"T_ad7176aa_8170_11eb_b64e_00e04cb67382row27_col0\" class=\"data row27 col0\" >0.00%</td>\n",
       "                        <td id=\"T_ad7176aa_8170_11eb_b64e_00e04cb67382row27_col1\" class=\"data row27 col1\" >0.00%</td>\n",
       "                        <td id=\"T_ad7176aa_8170_11eb_b64e_00e04cb67382row27_col2\" class=\"data row27 col2\" >0.00%</td>\n",
       "                        <td id=\"T_ad7176aa_8170_11eb_b64e_00e04cb67382row27_col3\" class=\"data row27 col3\" >0.00%</td>\n",
       "                        <td id=\"T_ad7176aa_8170_11eb_b64e_00e04cb67382row27_col4\" class=\"data row27 col4\" >0.00%</td>\n",
       "                        <td id=\"T_ad7176aa_8170_11eb_b64e_00e04cb67382row27_col5\" class=\"data row27 col5\" >0.00%</td>\n",
       "                        <td id=\"T_ad7176aa_8170_11eb_b64e_00e04cb67382row27_col6\" class=\"data row27 col6\" >0.00%</td>\n",
       "                        <td id=\"T_ad7176aa_8170_11eb_b64e_00e04cb67382row27_col7\" class=\"data row27 col7\" >0.00%</td>\n",
       "                        <td id=\"T_ad7176aa_8170_11eb_b64e_00e04cb67382row27_col8\" class=\"data row27 col8\" >0.00%</td>\n",
       "                        <td id=\"T_ad7176aa_8170_11eb_b64e_00e04cb67382row27_col9\" class=\"data row27 col9\" >0.00%</td>\n",
       "                        <td id=\"T_ad7176aa_8170_11eb_b64e_00e04cb67382row27_col10\" class=\"data row27 col10\" >0.00%</td>\n",
       "                        <td id=\"T_ad7176aa_8170_11eb_b64e_00e04cb67382row27_col11\" class=\"data row27 col11\" >0.00%</td>\n",
       "                        <td id=\"T_ad7176aa_8170_11eb_b64e_00e04cb67382row27_col12\" class=\"data row27 col12\" >0.00%</td>\n",
       "            </tr>\n",
       "            <tr>\n",
       "                        <th id=\"T_ad7176aa_8170_11eb_b64e_00e04cb67382level0_row28\" class=\"row_heading level0 row28\" >A278540</th>\n",
       "                        <td id=\"T_ad7176aa_8170_11eb_b64e_00e04cb67382row28_col0\" class=\"data row28 col0\" >0.00%</td>\n",
       "                        <td id=\"T_ad7176aa_8170_11eb_b64e_00e04cb67382row28_col1\" class=\"data row28 col1\" >0.00%</td>\n",
       "                        <td id=\"T_ad7176aa_8170_11eb_b64e_00e04cb67382row28_col2\" class=\"data row28 col2\" >0.00%</td>\n",
       "                        <td id=\"T_ad7176aa_8170_11eb_b64e_00e04cb67382row28_col3\" class=\"data row28 col3\" >0.00%</td>\n",
       "                        <td id=\"T_ad7176aa_8170_11eb_b64e_00e04cb67382row28_col4\" class=\"data row28 col4\" >0.00%</td>\n",
       "                        <td id=\"T_ad7176aa_8170_11eb_b64e_00e04cb67382row28_col5\" class=\"data row28 col5\" >0.00%</td>\n",
       "                        <td id=\"T_ad7176aa_8170_11eb_b64e_00e04cb67382row28_col6\" class=\"data row28 col6\" >0.00%</td>\n",
       "                        <td id=\"T_ad7176aa_8170_11eb_b64e_00e04cb67382row28_col7\" class=\"data row28 col7\" >0.00%</td>\n",
       "                        <td id=\"T_ad7176aa_8170_11eb_b64e_00e04cb67382row28_col8\" class=\"data row28 col8\" >0.00%</td>\n",
       "                        <td id=\"T_ad7176aa_8170_11eb_b64e_00e04cb67382row28_col9\" class=\"data row28 col9\" >0.00%</td>\n",
       "                        <td id=\"T_ad7176aa_8170_11eb_b64e_00e04cb67382row28_col10\" class=\"data row28 col10\" >0.00%</td>\n",
       "                        <td id=\"T_ad7176aa_8170_11eb_b64e_00e04cb67382row28_col11\" class=\"data row28 col11\" >0.00%</td>\n",
       "                        <td id=\"T_ad7176aa_8170_11eb_b64e_00e04cb67382row28_col12\" class=\"data row28 col12\" >0.00%</td>\n",
       "            </tr>\n",
       "            <tr>\n",
       "                        <th id=\"T_ad7176aa_8170_11eb_b64e_00e04cb67382level0_row29\" class=\"row_heading level0 row29\" >A283580</th>\n",
       "                        <td id=\"T_ad7176aa_8170_11eb_b64e_00e04cb67382row29_col0\" class=\"data row29 col0\" >0.00%</td>\n",
       "                        <td id=\"T_ad7176aa_8170_11eb_b64e_00e04cb67382row29_col1\" class=\"data row29 col1\" >0.00%</td>\n",
       "                        <td id=\"T_ad7176aa_8170_11eb_b64e_00e04cb67382row29_col2\" class=\"data row29 col2\" >0.00%</td>\n",
       "                        <td id=\"T_ad7176aa_8170_11eb_b64e_00e04cb67382row29_col3\" class=\"data row29 col3\" >0.00%</td>\n",
       "                        <td id=\"T_ad7176aa_8170_11eb_b64e_00e04cb67382row29_col4\" class=\"data row29 col4\" >0.00%</td>\n",
       "                        <td id=\"T_ad7176aa_8170_11eb_b64e_00e04cb67382row29_col5\" class=\"data row29 col5\" >0.00%</td>\n",
       "                        <td id=\"T_ad7176aa_8170_11eb_b64e_00e04cb67382row29_col6\" class=\"data row29 col6\" >0.00%</td>\n",
       "                        <td id=\"T_ad7176aa_8170_11eb_b64e_00e04cb67382row29_col7\" class=\"data row29 col7\" >0.00%</td>\n",
       "                        <td id=\"T_ad7176aa_8170_11eb_b64e_00e04cb67382row29_col8\" class=\"data row29 col8\" >0.00%</td>\n",
       "                        <td id=\"T_ad7176aa_8170_11eb_b64e_00e04cb67382row29_col9\" class=\"data row29 col9\" >0.00%</td>\n",
       "                        <td id=\"T_ad7176aa_8170_11eb_b64e_00e04cb67382row29_col10\" class=\"data row29 col10\" >0.00%</td>\n",
       "                        <td id=\"T_ad7176aa_8170_11eb_b64e_00e04cb67382row29_col11\" class=\"data row29 col11\" >0.00%</td>\n",
       "                        <td id=\"T_ad7176aa_8170_11eb_b64e_00e04cb67382row29_col12\" class=\"data row29 col12\" >0.00%</td>\n",
       "            </tr>\n",
       "    </tbody></table>"
      ],
      "text/plain": [
       "<pandas.io.formats.style.Styler at 0x2b7e72f6bb0>"
      ]
     },
     "execution_count": 59,
     "metadata": {},
     "output_type": "execute_result"
    }
   ],
   "source": [
    "w_s.style.format(\"{:.2%}\").background_gradient(cmap='YlGn')"
   ]
  },
  {
   "cell_type": "code",
   "execution_count": null,
   "metadata": {},
   "outputs": [],
   "source": []
  },
  {
   "cell_type": "code",
   "execution_count": null,
   "metadata": {},
   "outputs": [],
   "source": []
  },
  {
   "cell_type": "code",
   "execution_count": null,
   "metadata": {},
   "outputs": [],
   "source": []
  },
  {
   "cell_type": "code",
   "execution_count": null,
   "metadata": {},
   "outputs": [],
   "source": []
  }
 ],
 "metadata": {
  "kernelspec": {
   "display_name": "Python 3",
   "language": "python",
   "name": "python3"
  },
  "language_info": {
   "codemirror_mode": {
    "name": "ipython",
    "version": 3
   },
   "file_extension": ".py",
   "mimetype": "text/x-python",
   "name": "python",
   "nbconvert_exporter": "python",
   "pygments_lexer": "ipython3",
   "version": "3.8.5"
  }
 },
 "nbformat": 4,
 "nbformat_minor": 4
}
